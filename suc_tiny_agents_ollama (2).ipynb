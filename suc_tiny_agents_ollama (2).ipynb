{
  "nbformat": 4,
  "nbformat_minor": 0,
  "metadata": {
    "colab": {
      "provenance": []
    },
    "kernelspec": {
      "name": "python3",
      "display_name": "Python 3"
    },
    "language_info": {
      "name": "python"
    },
    "widgets": {
      "application/vnd.jupyter.widget-state+json": {
        "d853b986ecc9494dbdf56d085546bf3d": {
          "model_module": "@jupyter-widgets/controls",
          "model_name": "VBoxModel",
          "model_module_version": "1.5.0",
          "state": {
            "_dom_classes": [],
            "_model_module": "@jupyter-widgets/controls",
            "_model_module_version": "1.5.0",
            "_model_name": "VBoxModel",
            "_view_count": null,
            "_view_module": "@jupyter-widgets/controls",
            "_view_module_version": "1.5.0",
            "_view_name": "VBoxView",
            "box_style": "",
            "children": [],
            "layout": "IPY_MODEL_7169b0e5fd2d4e3cb933e533d6733b2c"
          }
        },
        "6c4dab12cfd047398bf083023fb8e549": {
          "model_module": "@jupyter-widgets/controls",
          "model_name": "HTMLModel",
          "model_module_version": "1.5.0",
          "state": {
            "_dom_classes": [],
            "_model_module": "@jupyter-widgets/controls",
            "_model_module_version": "1.5.0",
            "_model_name": "HTMLModel",
            "_view_count": null,
            "_view_module": "@jupyter-widgets/controls",
            "_view_module_version": "1.5.0",
            "_view_name": "HTMLView",
            "description": "",
            "description_tooltip": null,
            "layout": "IPY_MODEL_91b5dd9a88384ecebb878cc6d1d27479",
            "placeholder": "​",
            "style": "IPY_MODEL_68c473709e8d4f97b80af0dc51ada9d2",
            "value": "<center> <img\nsrc=https://huggingface.co/front/assets/huggingface_logo-noborder.svg\nalt='Hugging Face'> <br> Copy a token from <a\nhref=\"https://huggingface.co/settings/tokens\" target=\"_blank\">your Hugging Face\ntokens page</a> and paste it below. <br> Immediately click login after copying\nyour token or it might be stored in plain text in this notebook file. </center>"
          }
        },
        "e9c820cbf7ac4549b791308be0b04c23": {
          "model_module": "@jupyter-widgets/controls",
          "model_name": "PasswordModel",
          "model_module_version": "1.5.0",
          "state": {
            "_dom_classes": [],
            "_model_module": "@jupyter-widgets/controls",
            "_model_module_version": "1.5.0",
            "_model_name": "PasswordModel",
            "_view_count": null,
            "_view_module": "@jupyter-widgets/controls",
            "_view_module_version": "1.5.0",
            "_view_name": "PasswordView",
            "continuous_update": true,
            "description": "Token:",
            "description_tooltip": null,
            "disabled": false,
            "layout": "IPY_MODEL_a5217f0900b44c06af85cc50fa43a67f",
            "placeholder": "​",
            "style": "IPY_MODEL_d76bcedaa5564494884362c0d4d6d79e",
            "value": ""
          }
        },
        "6fe48f4d1f8b49c59760620bc68c15a8": {
          "model_module": "@jupyter-widgets/controls",
          "model_name": "CheckboxModel",
          "model_module_version": "1.5.0",
          "state": {
            "_dom_classes": [],
            "_model_module": "@jupyter-widgets/controls",
            "_model_module_version": "1.5.0",
            "_model_name": "CheckboxModel",
            "_view_count": null,
            "_view_module": "@jupyter-widgets/controls",
            "_view_module_version": "1.5.0",
            "_view_name": "CheckboxView",
            "description": "Add token as git credential?",
            "description_tooltip": null,
            "disabled": false,
            "indent": true,
            "layout": "IPY_MODEL_9455af9eb92a4487978553fd8968eb8b",
            "style": "IPY_MODEL_4c5727a47a684e8680136844d636ed23",
            "value": true
          }
        },
        "174251514fa542c3b1684c0b191d0e78": {
          "model_module": "@jupyter-widgets/controls",
          "model_name": "ButtonModel",
          "model_module_version": "1.5.0",
          "state": {
            "_dom_classes": [],
            "_model_module": "@jupyter-widgets/controls",
            "_model_module_version": "1.5.0",
            "_model_name": "ButtonModel",
            "_view_count": null,
            "_view_module": "@jupyter-widgets/controls",
            "_view_module_version": "1.5.0",
            "_view_name": "ButtonView",
            "button_style": "",
            "description": "Login",
            "disabled": false,
            "icon": "",
            "layout": "IPY_MODEL_a5cccf7fa1454f49b8a924d35236c9ac",
            "style": "IPY_MODEL_1a47f58f04ab44d6ada62402727c389f",
            "tooltip": ""
          }
        },
        "e3dfe2ebe0594c0f9dc379c492d734de": {
          "model_module": "@jupyter-widgets/controls",
          "model_name": "HTMLModel",
          "model_module_version": "1.5.0",
          "state": {
            "_dom_classes": [],
            "_model_module": "@jupyter-widgets/controls",
            "_model_module_version": "1.5.0",
            "_model_name": "HTMLModel",
            "_view_count": null,
            "_view_module": "@jupyter-widgets/controls",
            "_view_module_version": "1.5.0",
            "_view_name": "HTMLView",
            "description": "",
            "description_tooltip": null,
            "layout": "IPY_MODEL_571297b3563e4174b992dee991d72cbe",
            "placeholder": "​",
            "style": "IPY_MODEL_3ef0955c89f2432eaaa9e25cc805a672",
            "value": "\n<b>Pro Tip:</b> If you don't already have one, you can create a dedicated\n'notebooks' token with 'write' access, that you can then easily reuse for all\nnotebooks. </center>"
          }
        },
        "7169b0e5fd2d4e3cb933e533d6733b2c": {
          "model_module": "@jupyter-widgets/base",
          "model_name": "LayoutModel",
          "model_module_version": "1.2.0",
          "state": {
            "_model_module": "@jupyter-widgets/base",
            "_model_module_version": "1.2.0",
            "_model_name": "LayoutModel",
            "_view_count": null,
            "_view_module": "@jupyter-widgets/base",
            "_view_module_version": "1.2.0",
            "_view_name": "LayoutView",
            "align_content": null,
            "align_items": "center",
            "align_self": null,
            "border": null,
            "bottom": null,
            "display": "flex",
            "flex": null,
            "flex_flow": "column",
            "grid_area": null,
            "grid_auto_columns": null,
            "grid_auto_flow": null,
            "grid_auto_rows": null,
            "grid_column": null,
            "grid_gap": null,
            "grid_row": null,
            "grid_template_areas": null,
            "grid_template_columns": null,
            "grid_template_rows": null,
            "height": null,
            "justify_content": null,
            "justify_items": null,
            "left": null,
            "margin": null,
            "max_height": null,
            "max_width": null,
            "min_height": null,
            "min_width": null,
            "object_fit": null,
            "object_position": null,
            "order": null,
            "overflow": null,
            "overflow_x": null,
            "overflow_y": null,
            "padding": null,
            "right": null,
            "top": null,
            "visibility": null,
            "width": "50%"
          }
        },
        "91b5dd9a88384ecebb878cc6d1d27479": {
          "model_module": "@jupyter-widgets/base",
          "model_name": "LayoutModel",
          "model_module_version": "1.2.0",
          "state": {
            "_model_module": "@jupyter-widgets/base",
            "_model_module_version": "1.2.0",
            "_model_name": "LayoutModel",
            "_view_count": null,
            "_view_module": "@jupyter-widgets/base",
            "_view_module_version": "1.2.0",
            "_view_name": "LayoutView",
            "align_content": null,
            "align_items": null,
            "align_self": null,
            "border": null,
            "bottom": null,
            "display": null,
            "flex": null,
            "flex_flow": null,
            "grid_area": null,
            "grid_auto_columns": null,
            "grid_auto_flow": null,
            "grid_auto_rows": null,
            "grid_column": null,
            "grid_gap": null,
            "grid_row": null,
            "grid_template_areas": null,
            "grid_template_columns": null,
            "grid_template_rows": null,
            "height": null,
            "justify_content": null,
            "justify_items": null,
            "left": null,
            "margin": null,
            "max_height": null,
            "max_width": null,
            "min_height": null,
            "min_width": null,
            "object_fit": null,
            "object_position": null,
            "order": null,
            "overflow": null,
            "overflow_x": null,
            "overflow_y": null,
            "padding": null,
            "right": null,
            "top": null,
            "visibility": null,
            "width": null
          }
        },
        "68c473709e8d4f97b80af0dc51ada9d2": {
          "model_module": "@jupyter-widgets/controls",
          "model_name": "DescriptionStyleModel",
          "model_module_version": "1.5.0",
          "state": {
            "_model_module": "@jupyter-widgets/controls",
            "_model_module_version": "1.5.0",
            "_model_name": "DescriptionStyleModel",
            "_view_count": null,
            "_view_module": "@jupyter-widgets/base",
            "_view_module_version": "1.2.0",
            "_view_name": "StyleView",
            "description_width": ""
          }
        },
        "a5217f0900b44c06af85cc50fa43a67f": {
          "model_module": "@jupyter-widgets/base",
          "model_name": "LayoutModel",
          "model_module_version": "1.2.0",
          "state": {
            "_model_module": "@jupyter-widgets/base",
            "_model_module_version": "1.2.0",
            "_model_name": "LayoutModel",
            "_view_count": null,
            "_view_module": "@jupyter-widgets/base",
            "_view_module_version": "1.2.0",
            "_view_name": "LayoutView",
            "align_content": null,
            "align_items": null,
            "align_self": null,
            "border": null,
            "bottom": null,
            "display": null,
            "flex": null,
            "flex_flow": null,
            "grid_area": null,
            "grid_auto_columns": null,
            "grid_auto_flow": null,
            "grid_auto_rows": null,
            "grid_column": null,
            "grid_gap": null,
            "grid_row": null,
            "grid_template_areas": null,
            "grid_template_columns": null,
            "grid_template_rows": null,
            "height": null,
            "justify_content": null,
            "justify_items": null,
            "left": null,
            "margin": null,
            "max_height": null,
            "max_width": null,
            "min_height": null,
            "min_width": null,
            "object_fit": null,
            "object_position": null,
            "order": null,
            "overflow": null,
            "overflow_x": null,
            "overflow_y": null,
            "padding": null,
            "right": null,
            "top": null,
            "visibility": null,
            "width": null
          }
        },
        "d76bcedaa5564494884362c0d4d6d79e": {
          "model_module": "@jupyter-widgets/controls",
          "model_name": "DescriptionStyleModel",
          "model_module_version": "1.5.0",
          "state": {
            "_model_module": "@jupyter-widgets/controls",
            "_model_module_version": "1.5.0",
            "_model_name": "DescriptionStyleModel",
            "_view_count": null,
            "_view_module": "@jupyter-widgets/base",
            "_view_module_version": "1.2.0",
            "_view_name": "StyleView",
            "description_width": ""
          }
        },
        "9455af9eb92a4487978553fd8968eb8b": {
          "model_module": "@jupyter-widgets/base",
          "model_name": "LayoutModel",
          "model_module_version": "1.2.0",
          "state": {
            "_model_module": "@jupyter-widgets/base",
            "_model_module_version": "1.2.0",
            "_model_name": "LayoutModel",
            "_view_count": null,
            "_view_module": "@jupyter-widgets/base",
            "_view_module_version": "1.2.0",
            "_view_name": "LayoutView",
            "align_content": null,
            "align_items": null,
            "align_self": null,
            "border": null,
            "bottom": null,
            "display": null,
            "flex": null,
            "flex_flow": null,
            "grid_area": null,
            "grid_auto_columns": null,
            "grid_auto_flow": null,
            "grid_auto_rows": null,
            "grid_column": null,
            "grid_gap": null,
            "grid_row": null,
            "grid_template_areas": null,
            "grid_template_columns": null,
            "grid_template_rows": null,
            "height": null,
            "justify_content": null,
            "justify_items": null,
            "left": null,
            "margin": null,
            "max_height": null,
            "max_width": null,
            "min_height": null,
            "min_width": null,
            "object_fit": null,
            "object_position": null,
            "order": null,
            "overflow": null,
            "overflow_x": null,
            "overflow_y": null,
            "padding": null,
            "right": null,
            "top": null,
            "visibility": null,
            "width": null
          }
        },
        "4c5727a47a684e8680136844d636ed23": {
          "model_module": "@jupyter-widgets/controls",
          "model_name": "DescriptionStyleModel",
          "model_module_version": "1.5.0",
          "state": {
            "_model_module": "@jupyter-widgets/controls",
            "_model_module_version": "1.5.0",
            "_model_name": "DescriptionStyleModel",
            "_view_count": null,
            "_view_module": "@jupyter-widgets/base",
            "_view_module_version": "1.2.0",
            "_view_name": "StyleView",
            "description_width": ""
          }
        },
        "a5cccf7fa1454f49b8a924d35236c9ac": {
          "model_module": "@jupyter-widgets/base",
          "model_name": "LayoutModel",
          "model_module_version": "1.2.0",
          "state": {
            "_model_module": "@jupyter-widgets/base",
            "_model_module_version": "1.2.0",
            "_model_name": "LayoutModel",
            "_view_count": null,
            "_view_module": "@jupyter-widgets/base",
            "_view_module_version": "1.2.0",
            "_view_name": "LayoutView",
            "align_content": null,
            "align_items": null,
            "align_self": null,
            "border": null,
            "bottom": null,
            "display": null,
            "flex": null,
            "flex_flow": null,
            "grid_area": null,
            "grid_auto_columns": null,
            "grid_auto_flow": null,
            "grid_auto_rows": null,
            "grid_column": null,
            "grid_gap": null,
            "grid_row": null,
            "grid_template_areas": null,
            "grid_template_columns": null,
            "grid_template_rows": null,
            "height": null,
            "justify_content": null,
            "justify_items": null,
            "left": null,
            "margin": null,
            "max_height": null,
            "max_width": null,
            "min_height": null,
            "min_width": null,
            "object_fit": null,
            "object_position": null,
            "order": null,
            "overflow": null,
            "overflow_x": null,
            "overflow_y": null,
            "padding": null,
            "right": null,
            "top": null,
            "visibility": null,
            "width": null
          }
        },
        "1a47f58f04ab44d6ada62402727c389f": {
          "model_module": "@jupyter-widgets/controls",
          "model_name": "ButtonStyleModel",
          "model_module_version": "1.5.0",
          "state": {
            "_model_module": "@jupyter-widgets/controls",
            "_model_module_version": "1.5.0",
            "_model_name": "ButtonStyleModel",
            "_view_count": null,
            "_view_module": "@jupyter-widgets/base",
            "_view_module_version": "1.2.0",
            "_view_name": "StyleView",
            "button_color": null,
            "font_weight": ""
          }
        },
        "571297b3563e4174b992dee991d72cbe": {
          "model_module": "@jupyter-widgets/base",
          "model_name": "LayoutModel",
          "model_module_version": "1.2.0",
          "state": {
            "_model_module": "@jupyter-widgets/base",
            "_model_module_version": "1.2.0",
            "_model_name": "LayoutModel",
            "_view_count": null,
            "_view_module": "@jupyter-widgets/base",
            "_view_module_version": "1.2.0",
            "_view_name": "LayoutView",
            "align_content": null,
            "align_items": null,
            "align_self": null,
            "border": null,
            "bottom": null,
            "display": null,
            "flex": null,
            "flex_flow": null,
            "grid_area": null,
            "grid_auto_columns": null,
            "grid_auto_flow": null,
            "grid_auto_rows": null,
            "grid_column": null,
            "grid_gap": null,
            "grid_row": null,
            "grid_template_areas": null,
            "grid_template_columns": null,
            "grid_template_rows": null,
            "height": null,
            "justify_content": null,
            "justify_items": null,
            "left": null,
            "margin": null,
            "max_height": null,
            "max_width": null,
            "min_height": null,
            "min_width": null,
            "object_fit": null,
            "object_position": null,
            "order": null,
            "overflow": null,
            "overflow_x": null,
            "overflow_y": null,
            "padding": null,
            "right": null,
            "top": null,
            "visibility": null,
            "width": null
          }
        },
        "3ef0955c89f2432eaaa9e25cc805a672": {
          "model_module": "@jupyter-widgets/controls",
          "model_name": "DescriptionStyleModel",
          "model_module_version": "1.5.0",
          "state": {
            "_model_module": "@jupyter-widgets/controls",
            "_model_module_version": "1.5.0",
            "_model_name": "DescriptionStyleModel",
            "_view_count": null,
            "_view_module": "@jupyter-widgets/base",
            "_view_module_version": "1.2.0",
            "_view_name": "StyleView",
            "description_width": ""
          }
        },
        "0be17c4ee7eb47e4ae5fd0cdd4db6241": {
          "model_module": "@jupyter-widgets/controls",
          "model_name": "LabelModel",
          "model_module_version": "1.5.0",
          "state": {
            "_dom_classes": [],
            "_model_module": "@jupyter-widgets/controls",
            "_model_module_version": "1.5.0",
            "_model_name": "LabelModel",
            "_view_count": null,
            "_view_module": "@jupyter-widgets/controls",
            "_view_module_version": "1.5.0",
            "_view_name": "LabelView",
            "description": "",
            "description_tooltip": null,
            "layout": "IPY_MODEL_561dfaf89bad494a948c591e09f4ba88",
            "placeholder": "​",
            "style": "IPY_MODEL_6b28b43226f04e6c9ca7e596b0d3a71d",
            "value": "Connecting..."
          }
        },
        "561dfaf89bad494a948c591e09f4ba88": {
          "model_module": "@jupyter-widgets/base",
          "model_name": "LayoutModel",
          "model_module_version": "1.2.0",
          "state": {
            "_model_module": "@jupyter-widgets/base",
            "_model_module_version": "1.2.0",
            "_model_name": "LayoutModel",
            "_view_count": null,
            "_view_module": "@jupyter-widgets/base",
            "_view_module_version": "1.2.0",
            "_view_name": "LayoutView",
            "align_content": null,
            "align_items": null,
            "align_self": null,
            "border": null,
            "bottom": null,
            "display": null,
            "flex": null,
            "flex_flow": null,
            "grid_area": null,
            "grid_auto_columns": null,
            "grid_auto_flow": null,
            "grid_auto_rows": null,
            "grid_column": null,
            "grid_gap": null,
            "grid_row": null,
            "grid_template_areas": null,
            "grid_template_columns": null,
            "grid_template_rows": null,
            "height": null,
            "justify_content": null,
            "justify_items": null,
            "left": null,
            "margin": null,
            "max_height": null,
            "max_width": null,
            "min_height": null,
            "min_width": null,
            "object_fit": null,
            "object_position": null,
            "order": null,
            "overflow": null,
            "overflow_x": null,
            "overflow_y": null,
            "padding": null,
            "right": null,
            "top": null,
            "visibility": null,
            "width": null
          }
        },
        "6b28b43226f04e6c9ca7e596b0d3a71d": {
          "model_module": "@jupyter-widgets/controls",
          "model_name": "DescriptionStyleModel",
          "model_module_version": "1.5.0",
          "state": {
            "_model_module": "@jupyter-widgets/controls",
            "_model_module_version": "1.5.0",
            "_model_name": "DescriptionStyleModel",
            "_view_count": null,
            "_view_module": "@jupyter-widgets/base",
            "_view_module_version": "1.2.0",
            "_view_name": "StyleView",
            "description_width": ""
          }
        }
      }
    }
  },
  "cells": [
    {
      "cell_type": "code",
      "execution_count": null,
      "metadata": {
        "id": "9KBevbu8g3km"
      },
      "outputs": [],
      "source": []
    },
    {
      "cell_type": "markdown",
      "source": [
        "https://huggingface.co/docs/hub/en/agents#tiny-agents-js-and-python"
      ],
      "metadata": {
        "id": "8X2cSpRqhHiR"
      }
    },
    {
      "cell_type": "code",
      "source": [
        "!pip install \"huggingface_hub[mcp]>=0.32.2\""
      ],
      "metadata": {
        "colab": {
          "base_uri": "https://localhost:8080/"
        },
        "id": "gymdKaMGhIJ4",
        "outputId": "c7b302a3-e6c0-45b3-a311-dcb3cae375d1"
      },
      "execution_count": 1,
      "outputs": [
        {
          "output_type": "stream",
          "name": "stdout",
          "text": [
            "Requirement already satisfied: huggingface_hub>=0.32.2 in /usr/local/lib/python3.11/dist-packages (from huggingface_hub[mcp]>=0.32.2) (0.34.3)\n",
            "Requirement already satisfied: filelock in /usr/local/lib/python3.11/dist-packages (from huggingface_hub>=0.32.2->huggingface_hub[mcp]>=0.32.2) (3.18.0)\n",
            "Requirement already satisfied: fsspec>=2023.5.0 in /usr/local/lib/python3.11/dist-packages (from huggingface_hub>=0.32.2->huggingface_hub[mcp]>=0.32.2) (2025.3.0)\n",
            "Requirement already satisfied: packaging>=20.9 in /usr/local/lib/python3.11/dist-packages (from huggingface_hub>=0.32.2->huggingface_hub[mcp]>=0.32.2) (25.0)\n",
            "Requirement already satisfied: pyyaml>=5.1 in /usr/local/lib/python3.11/dist-packages (from huggingface_hub>=0.32.2->huggingface_hub[mcp]>=0.32.2) (6.0.2)\n",
            "Requirement already satisfied: requests in /usr/local/lib/python3.11/dist-packages (from huggingface_hub>=0.32.2->huggingface_hub[mcp]>=0.32.2) (2.32.3)\n",
            "Requirement already satisfied: tqdm>=4.42.1 in /usr/local/lib/python3.11/dist-packages (from huggingface_hub>=0.32.2->huggingface_hub[mcp]>=0.32.2) (4.67.1)\n",
            "Requirement already satisfied: typing-extensions>=3.7.4.3 in /usr/local/lib/python3.11/dist-packages (from huggingface_hub>=0.32.2->huggingface_hub[mcp]>=0.32.2) (4.14.1)\n",
            "Requirement already satisfied: hf-xet<2.0.0,>=1.1.3 in /usr/local/lib/python3.11/dist-packages (from huggingface_hub>=0.32.2->huggingface_hub[mcp]>=0.32.2) (1.1.7)\n",
            "Collecting mcp>=1.8.0 (from huggingface_hub[mcp]>=0.32.2)\n",
            "  Downloading mcp-1.12.4-py3-none-any.whl.metadata (68 kB)\n",
            "\u001b[?25l     \u001b[90m━━━━━━━━━━━━━━━━━━━━━━━━━━━━━━━━━━━━━━━━\u001b[0m \u001b[32m0.0/68.2 kB\u001b[0m \u001b[31m?\u001b[0m eta \u001b[36m-:--:--\u001b[0m\r\u001b[2K     \u001b[90m━━━━━━━━━━━━━━━━━━━━━━━━━━━━━━━━━━━━━━━━\u001b[0m \u001b[32m68.2/68.2 kB\u001b[0m \u001b[31m2.3 MB/s\u001b[0m eta \u001b[36m0:00:00\u001b[0m\n",
            "\u001b[?25hRequirement already satisfied: typer in /usr/local/lib/python3.11/dist-packages (from huggingface_hub[mcp]>=0.32.2) (0.16.0)\n",
            "Requirement already satisfied: aiohttp in /usr/local/lib/python3.11/dist-packages (from huggingface_hub[mcp]>=0.32.2) (3.12.15)\n",
            "Requirement already satisfied: anyio>=4.5 in /usr/local/lib/python3.11/dist-packages (from mcp>=1.8.0->huggingface_hub[mcp]>=0.32.2) (4.10.0)\n",
            "Collecting httpx-sse>=0.4 (from mcp>=1.8.0->huggingface_hub[mcp]>=0.32.2)\n",
            "  Downloading httpx_sse-0.4.1-py3-none-any.whl.metadata (9.4 kB)\n",
            "Requirement already satisfied: httpx>=0.27 in /usr/local/lib/python3.11/dist-packages (from mcp>=1.8.0->huggingface_hub[mcp]>=0.32.2) (0.28.1)\n",
            "Requirement already satisfied: jsonschema>=4.20.0 in /usr/local/lib/python3.11/dist-packages (from mcp>=1.8.0->huggingface_hub[mcp]>=0.32.2) (4.25.0)\n",
            "Collecting pydantic-settings>=2.5.2 (from mcp>=1.8.0->huggingface_hub[mcp]>=0.32.2)\n",
            "  Downloading pydantic_settings-2.10.1-py3-none-any.whl.metadata (3.4 kB)\n",
            "Requirement already satisfied: pydantic<3.0.0,>=2.8.0 in /usr/local/lib/python3.11/dist-packages (from mcp>=1.8.0->huggingface_hub[mcp]>=0.32.2) (2.11.7)\n",
            "Requirement already satisfied: python-multipart>=0.0.9 in /usr/local/lib/python3.11/dist-packages (from mcp>=1.8.0->huggingface_hub[mcp]>=0.32.2) (0.0.20)\n",
            "Collecting sse-starlette>=1.6.1 (from mcp>=1.8.0->huggingface_hub[mcp]>=0.32.2)\n",
            "  Downloading sse_starlette-3.0.2-py3-none-any.whl.metadata (11 kB)\n",
            "Requirement already satisfied: starlette>=0.27 in /usr/local/lib/python3.11/dist-packages (from mcp>=1.8.0->huggingface_hub[mcp]>=0.32.2) (0.47.2)\n",
            "Requirement already satisfied: uvicorn>=0.23.1 in /usr/local/lib/python3.11/dist-packages (from mcp>=1.8.0->huggingface_hub[mcp]>=0.32.2) (0.35.0)\n",
            "Requirement already satisfied: aiohappyeyeballs>=2.5.0 in /usr/local/lib/python3.11/dist-packages (from aiohttp->huggingface_hub[mcp]>=0.32.2) (2.6.1)\n",
            "Requirement already satisfied: aiosignal>=1.4.0 in /usr/local/lib/python3.11/dist-packages (from aiohttp->huggingface_hub[mcp]>=0.32.2) (1.4.0)\n",
            "Requirement already satisfied: attrs>=17.3.0 in /usr/local/lib/python3.11/dist-packages (from aiohttp->huggingface_hub[mcp]>=0.32.2) (25.3.0)\n",
            "Requirement already satisfied: frozenlist>=1.1.1 in /usr/local/lib/python3.11/dist-packages (from aiohttp->huggingface_hub[mcp]>=0.32.2) (1.7.0)\n",
            "Requirement already satisfied: multidict<7.0,>=4.5 in /usr/local/lib/python3.11/dist-packages (from aiohttp->huggingface_hub[mcp]>=0.32.2) (6.6.3)\n",
            "Requirement already satisfied: propcache>=0.2.0 in /usr/local/lib/python3.11/dist-packages (from aiohttp->huggingface_hub[mcp]>=0.32.2) (0.3.2)\n",
            "Requirement already satisfied: yarl<2.0,>=1.17.0 in /usr/local/lib/python3.11/dist-packages (from aiohttp->huggingface_hub[mcp]>=0.32.2) (1.20.1)\n",
            "Requirement already satisfied: charset-normalizer<4,>=2 in /usr/local/lib/python3.11/dist-packages (from requests->huggingface_hub>=0.32.2->huggingface_hub[mcp]>=0.32.2) (3.4.2)\n",
            "Requirement already satisfied: idna<4,>=2.5 in /usr/local/lib/python3.11/dist-packages (from requests->huggingface_hub>=0.32.2->huggingface_hub[mcp]>=0.32.2) (3.10)\n",
            "Requirement already satisfied: urllib3<3,>=1.21.1 in /usr/local/lib/python3.11/dist-packages (from requests->huggingface_hub>=0.32.2->huggingface_hub[mcp]>=0.32.2) (2.5.0)\n",
            "Requirement already satisfied: certifi>=2017.4.17 in /usr/local/lib/python3.11/dist-packages (from requests->huggingface_hub>=0.32.2->huggingface_hub[mcp]>=0.32.2) (2025.8.3)\n",
            "Requirement already satisfied: click>=8.0.0 in /usr/local/lib/python3.11/dist-packages (from typer->huggingface_hub[mcp]>=0.32.2) (8.2.1)\n",
            "Requirement already satisfied: shellingham>=1.3.0 in /usr/local/lib/python3.11/dist-packages (from typer->huggingface_hub[mcp]>=0.32.2) (1.5.4)\n",
            "Requirement already satisfied: rich>=10.11.0 in /usr/local/lib/python3.11/dist-packages (from typer->huggingface_hub[mcp]>=0.32.2) (13.9.4)\n",
            "Requirement already satisfied: sniffio>=1.1 in /usr/local/lib/python3.11/dist-packages (from anyio>=4.5->mcp>=1.8.0->huggingface_hub[mcp]>=0.32.2) (1.3.1)\n",
            "Requirement already satisfied: httpcore==1.* in /usr/local/lib/python3.11/dist-packages (from httpx>=0.27->mcp>=1.8.0->huggingface_hub[mcp]>=0.32.2) (1.0.9)\n",
            "Requirement already satisfied: h11>=0.16 in /usr/local/lib/python3.11/dist-packages (from httpcore==1.*->httpx>=0.27->mcp>=1.8.0->huggingface_hub[mcp]>=0.32.2) (0.16.0)\n",
            "Requirement already satisfied: jsonschema-specifications>=2023.03.6 in /usr/local/lib/python3.11/dist-packages (from jsonschema>=4.20.0->mcp>=1.8.0->huggingface_hub[mcp]>=0.32.2) (2025.4.1)\n",
            "Requirement already satisfied: referencing>=0.28.4 in /usr/local/lib/python3.11/dist-packages (from jsonschema>=4.20.0->mcp>=1.8.0->huggingface_hub[mcp]>=0.32.2) (0.36.2)\n",
            "Requirement already satisfied: rpds-py>=0.7.1 in /usr/local/lib/python3.11/dist-packages (from jsonschema>=4.20.0->mcp>=1.8.0->huggingface_hub[mcp]>=0.32.2) (0.26.0)\n",
            "Requirement already satisfied: annotated-types>=0.6.0 in /usr/local/lib/python3.11/dist-packages (from pydantic<3.0.0,>=2.8.0->mcp>=1.8.0->huggingface_hub[mcp]>=0.32.2) (0.7.0)\n",
            "Requirement already satisfied: pydantic-core==2.33.2 in /usr/local/lib/python3.11/dist-packages (from pydantic<3.0.0,>=2.8.0->mcp>=1.8.0->huggingface_hub[mcp]>=0.32.2) (2.33.2)\n",
            "Requirement already satisfied: typing-inspection>=0.4.0 in /usr/local/lib/python3.11/dist-packages (from pydantic<3.0.0,>=2.8.0->mcp>=1.8.0->huggingface_hub[mcp]>=0.32.2) (0.4.1)\n",
            "Collecting python-dotenv>=0.21.0 (from pydantic-settings>=2.5.2->mcp>=1.8.0->huggingface_hub[mcp]>=0.32.2)\n",
            "  Downloading python_dotenv-1.1.1-py3-none-any.whl.metadata (24 kB)\n",
            "Requirement already satisfied: markdown-it-py>=2.2.0 in /usr/local/lib/python3.11/dist-packages (from rich>=10.11.0->typer->huggingface_hub[mcp]>=0.32.2) (3.0.0)\n",
            "Requirement already satisfied: pygments<3.0.0,>=2.13.0 in /usr/local/lib/python3.11/dist-packages (from rich>=10.11.0->typer->huggingface_hub[mcp]>=0.32.2) (2.19.2)\n",
            "Requirement already satisfied: mdurl~=0.1 in /usr/local/lib/python3.11/dist-packages (from markdown-it-py>=2.2.0->rich>=10.11.0->typer->huggingface_hub[mcp]>=0.32.2) (0.1.2)\n",
            "Downloading mcp-1.12.4-py3-none-any.whl (160 kB)\n",
            "\u001b[2K   \u001b[90m━━━━━━━━━━━━━━━━━━━━━━━━━━━━━━━━━━━━━━━━\u001b[0m \u001b[32m160.1/160.1 kB\u001b[0m \u001b[31m6.4 MB/s\u001b[0m eta \u001b[36m0:00:00\u001b[0m\n",
            "\u001b[?25hDownloading httpx_sse-0.4.1-py3-none-any.whl (8.1 kB)\n",
            "Downloading pydantic_settings-2.10.1-py3-none-any.whl (45 kB)\n",
            "\u001b[2K   \u001b[90m━━━━━━━━━━━━━━━━━━━━━━━━━━━━━━━━━━━━━━━━\u001b[0m \u001b[32m45.2/45.2 kB\u001b[0m \u001b[31m3.0 MB/s\u001b[0m eta \u001b[36m0:00:00\u001b[0m\n",
            "\u001b[?25hDownloading sse_starlette-3.0.2-py3-none-any.whl (11 kB)\n",
            "Downloading python_dotenv-1.1.1-py3-none-any.whl (20 kB)\n",
            "Installing collected packages: python-dotenv, httpx-sse, sse-starlette, pydantic-settings, mcp\n",
            "Successfully installed httpx-sse-0.4.1 mcp-1.12.4 pydantic-settings-2.10.1 python-dotenv-1.1.1 sse-starlette-3.0.2\n"
          ]
        }
      ]
    },
    {
      "cell_type": "code",
      "source": [],
      "metadata": {
        "id": "Br_8SCC42JmD"
      },
      "execution_count": null,
      "outputs": []
    },
    {
      "cell_type": "markdown",
      "source": [
        "شغال"
      ],
      "metadata": {
        "id": "J0dz7o5G2LEF"
      }
    },
    {
      "cell_type": "code",
      "source": [
        "\n",
        "{\n",
        "  \"model\": \"llama3.2:3b\",\n",
        "  \"endpointUrl\": \"http://localhost:11434\",\n",
        "  \"servers\": [\n",
        "        {\n",
        "      \"type\": \"http\",\n",
        "      \"url\": \"https://evalstate-hf-mcp-server.hf.space/mcp\"\n",
        "    }\n",
        "  ]\n",
        "}\n",
        "\n"
      ],
      "metadata": {
        "id": "3Vdr46iS2KMT"
      },
      "execution_count": null,
      "outputs": []
    },
    {
      "cell_type": "markdown",
      "source": [
        "شغال"
      ],
      "metadata": {
        "id": "aFIlec9X2L-K"
      }
    },
    {
      "cell_type": "code",
      "source": [
        "!tiny-agents run ./my-agent"
      ],
      "metadata": {
        "colab": {
          "base_uri": "https://localhost:8080/"
        },
        "outputId": "de6e01a7-0a0c-4368-d7e6-2842efd3849e",
        "id": "0uZbG5M12KMU"
      },
      "execution_count": null,
      "outputs": [
        {
          "output_type": "stream",
          "name": "stdout",
          "text": [
            "\u001b[1;34mAgent loaded with \u001b[0m\u001b[1;34m10\u001b[0m\u001b[1;34m tools:\u001b[0m\n",
            "\u001b[34m • hf_whoami\u001b[0m\n",
            "\u001b[34m • space_search\u001b[0m\n",
            "\u001b[34m • model_search\u001b[0m\n",
            "\u001b[34m • model_details\u001b[0m\n",
            "\u001b[34m • paper_search\u001b[0m\n",
            "\u001b[34m • dataset_search\u001b[0m\n",
            "\u001b[34m • dataset_details\u001b[0m\n",
            "\u001b[34m • hf_doc_search\u001b[0m\n",
            "\u001b[34m • gr1_flux1_schnell_infer\u001b[0m\n",
            "\u001b[34m • gr2_0_abidlabs_easyghiblis_ndition_generate_image\u001b[0m\n",
            "»  اه\n",
            "\u001b[1m{\u001b[0m\u001b[32m\"name\"\u001b[0m:\u001b[32m\"hf_whoami\"\u001b[0m,\"parameters:\u001b[1m{\u001b[0m\u001b[1m}\u001b[0m\u001b[1m}\u001b[0m\n",
            "»  Find text-to-speech examples.\n"
          ]
        }
      ]
    },
    {
      "cell_type": "code",
      "source": [],
      "metadata": {
        "id": "i6Yb5IsT2QT8"
      },
      "execution_count": null,
      "outputs": []
    },
    {
      "cell_type": "markdown",
      "source": [
        "شغال%%%%%%%%%%%%%%%"
      ],
      "metadata": {
        "id": "NuYDq5DF2yIa"
      }
    },
    {
      "cell_type": "code",
      "source": [
        "{\n",
        "  \"model\": \"llama3.2:3b\",\n",
        "  \"endpointUrl\": \"http://localhost:11434\",\n",
        "  \"servers\": [\n",
        "  ]\n",
        "}"
      ],
      "metadata": {
        "id": "YrPyvcQ52wfL"
      },
      "execution_count": null,
      "outputs": []
    },
    {
      "cell_type": "code",
      "source": [
        "!tiny-agents run ./my-agent"
      ],
      "metadata": {
        "colab": {
          "base_uri": "https://localhost:8080/"
        },
        "outputId": "a7e422eb-4c3c-4da9-d93a-b2c1b65dac04",
        "id": "xT0ZPe8Q2wfM"
      },
      "execution_count": null,
      "outputs": [
        {
          "output_type": "stream",
          "name": "stdout",
          "text": [
            "\u001b[1;34mAgent loaded with \u001b[0m\u001b[1;34m0\u001b[0m\u001b[1;34m tools:\u001b[0m\n",
            "»  hi\n",
            "\u001b[1m<\u001b[0m\u001b[1;95mTool\u001b[0m\u001b[39m call_3prjullt\u001b[0m\u001b[1m>\u001b[0mask_question \n",
            "\n",
            "\u001b[32mTool\u001b[0m\u001b[32m call_3prjullt\u001b[0m\n",
            "\n",
            "\n",
            "\n",
            "»  how are you?\n",
            "\u001b[1m{\u001b[0m\u001b[32m\"name\"\u001b[0m: \u001b[32m\"ask_question\"\u001b[0m, \u001b[32m\"parameters\"\u001b[0m: \u001b[1m{\u001b[0m\u001b[32m\" _: \"\u001b[0mI am an assistant designed to \n",
            "provide helpful and accurate responses to your questions.\" \u001b[1m}\u001b[0m\u001b[1m}\u001b[0m\n",
            "»  \n",
            "\u001b[31mInterrupted. Press Ctrl+C again to quit.\u001b[0m\n",
            "\n",
            "\u001b[31mExiting\u001b[0m\u001b[31m...\u001b[0m\n",
            "\n"
          ]
        }
      ]
    },
    {
      "cell_type": "markdown",
      "source": [
        "%%%%%%%%%%%%%%%%%%%%%"
      ],
      "metadata": {
        "id": "ma60Zxgj20w5"
      }
    },
    {
      "cell_type": "code",
      "source": [],
      "metadata": {
        "id": "GczJ2LvW214B"
      },
      "execution_count": null,
      "outputs": []
    },
    {
      "cell_type": "code",
      "source": [],
      "metadata": {
        "id": "r66MaXKj2QQc"
      },
      "execution_count": null,
      "outputs": []
    },
    {
      "cell_type": "code",
      "source": [],
      "metadata": {
        "id": "3X3ms78h2QMt"
      },
      "execution_count": null,
      "outputs": []
    },
    {
      "cell_type": "code",
      "source": [],
      "metadata": {
        "id": "ovBYiS-V2QJT"
      },
      "execution_count": null,
      "outputs": []
    },
    {
      "cell_type": "code",
      "source": [],
      "metadata": {
        "id": "Dyh8nPrA2QFQ"
      },
      "execution_count": null,
      "outputs": []
    },
    {
      "cell_type": "code",
      "source": [],
      "metadata": {
        "id": "Ff5h0qY82QBq"
      },
      "execution_count": null,
      "outputs": []
    },
    {
      "cell_type": "code",
      "source": [],
      "metadata": {
        "id": "U18SbV1k2P96"
      },
      "execution_count": null,
      "outputs": []
    },
    {
      "cell_type": "code",
      "source": [],
      "metadata": {
        "id": "-eN7v_NV2P59"
      },
      "execution_count": null,
      "outputs": []
    },
    {
      "cell_type": "code",
      "source": [],
      "metadata": {
        "id": "epoljZ852P2C"
      },
      "execution_count": null,
      "outputs": []
    },
    {
      "cell_type": "code",
      "source": [],
      "metadata": {
        "id": "agZRoJFK2Pxw"
      },
      "execution_count": null,
      "outputs": []
    },
    {
      "cell_type": "code",
      "source": [],
      "metadata": {
        "id": "FSlyZ5W92PtJ"
      },
      "execution_count": null,
      "outputs": []
    },
    {
      "cell_type": "code",
      "source": [],
      "metadata": {
        "id": "JiaI1jhW2Oq8"
      },
      "execution_count": null,
      "outputs": []
    },
    {
      "cell_type": "code",
      "source": [],
      "metadata": {
        "id": "RMp73GBI2Ou-"
      },
      "execution_count": null,
      "outputs": []
    },
    {
      "cell_type": "code",
      "source": [],
      "metadata": {
        "id": "XQoRBMks2Oy_"
      },
      "execution_count": null,
      "outputs": []
    },
    {
      "cell_type": "code",
      "source": [
        "! tiny-agents run --help"
      ],
      "metadata": {
        "colab": {
          "base_uri": "https://localhost:8080/"
        },
        "id": "lXUIiD2UhV24",
        "outputId": "2187bed3-55f2-4a99-b235-188626a95d50"
      },
      "execution_count": 3,
      "outputs": [
        {
          "output_type": "stream",
          "name": "stdout",
          "text": [
            "\u001b[1m                                                                                \u001b[0m\n",
            "\u001b[1m \u001b[0m\u001b[1;33mUsage: \u001b[0m\u001b[1mtiny-agents run [OPTIONS] [PATH] COMMAND [ARGS]...\u001b[0m\u001b[1m                     \u001b[0m\u001b[1m \u001b[0m\n",
            "\u001b[1m                                                                                \u001b[0m\n",
            " Run the Agent in the CLI                                                       \n",
            "                                                                                \n",
            "                                                                                \n",
            "\u001b[2m╭─\u001b[0m\u001b[2m Arguments \u001b[0m\u001b[2m─────────────────────────────────────────────────────────────────\u001b[0m\u001b[2m─╮\u001b[0m\n",
            "\u001b[2m│\u001b[0m   path      \u001b[1;2;33m[\u001b[0m\u001b[1;33mPATH\u001b[0m\u001b[1;2;33m]\u001b[0m  Path to a local folder containing an agent.json file or  \u001b[2m│\u001b[0m\n",
            "\u001b[2m│\u001b[0m                     a built-in agent stored in the 'tiny-agents/tiny-agents' \u001b[2m│\u001b[0m\n",
            "\u001b[2m│\u001b[0m                     Hugging Face dataset                                     \u001b[2m│\u001b[0m\n",
            "\u001b[2m│\u001b[0m                     (https://huggingface.co/datasets/tiny-agents/tiny-agent… \u001b[2m│\u001b[0m\n",
            "\u001b[2m╰──────────────────────────────────────────────────────────────────────────────╯\u001b[0m\n",
            "\u001b[2m╭─\u001b[0m\u001b[2m Options \u001b[0m\u001b[2m───────────────────────────────────────────────────────────────────\u001b[0m\u001b[2m─╮\u001b[0m\n",
            "\u001b[2m│\u001b[0m \u001b[1;36m-\u001b[0m\u001b[1;36m-help\u001b[0m          Show this message and exit.                                  \u001b[2m│\u001b[0m\n",
            "\u001b[2m╰──────────────────────────────────────────────────────────────────────────────╯\u001b[0m\n",
            "\n"
          ]
        }
      ]
    },
    {
      "cell_type": "code",
      "source": [
        "!git clone https://github.com/huggingface/huggingface_hub.git"
      ],
      "metadata": {
        "colab": {
          "base_uri": "https://localhost:8080/"
        },
        "id": "K0oJqWKOh4qw",
        "outputId": "8501f7d9-0e1e-4cd9-f6e1-870fc7585e4a"
      },
      "execution_count": 4,
      "outputs": [
        {
          "output_type": "stream",
          "name": "stdout",
          "text": [
            "Cloning into 'huggingface_hub'...\n",
            "remote: Enumerating objects: 25113, done.\u001b[K\n",
            "remote: Counting objects: 100% (885/885), done.\u001b[K\n",
            "remote: Compressing objects: 100% (439/439), done.\u001b[K\n",
            "remote: Total 25113 (delta 740), reused 446 (delta 445), pack-reused 24228 (from 3)\u001b[K\n",
            "Receiving objects: 100% (25113/25113), 34.72 MiB | 27.24 MiB/s, done.\n",
            "Resolving deltas: 100% (16537/16537), done.\n"
          ]
        }
      ]
    },
    {
      "cell_type": "code",
      "source": [
        "%cd huggingface_hub"
      ],
      "metadata": {
        "colab": {
          "base_uri": "https://localhost:8080/"
        },
        "id": "1Ccs6j92jXL6",
        "outputId": "83f862d4-58e8-45c6-9056-7d22c50534fc"
      },
      "execution_count": 5,
      "outputs": [
        {
          "output_type": "stream",
          "name": "stdout",
          "text": [
            "/content/huggingface_hub\n"
          ]
        }
      ]
    },
    {
      "cell_type": "code",
      "source": [
        "!git fetch origin pull/3242/head:tiny-agents-pr\n",
        "!git checkout tiny-agents-pr"
      ],
      "metadata": {
        "colab": {
          "base_uri": "https://localhost:8080/"
        },
        "id": "mtv_Lzk2mcLx",
        "outputId": "1db52e3a-b32d-4f86-f98c-7d1e734f2d11"
      },
      "execution_count": 6,
      "outputs": [
        {
          "output_type": "stream",
          "name": "stdout",
          "text": [
            "remote: Enumerating objects: 29, done.\u001b[K\n",
            "remote: Counting objects:   7% (1/14)\u001b[K\rremote: Counting objects:  14% (2/14)\u001b[K\rremote: Counting objects:  21% (3/14)\u001b[K\rremote: Counting objects:  28% (4/14)\u001b[K\rremote: Counting objects:  35% (5/14)\u001b[K\rremote: Counting objects:  42% (6/14)\u001b[K\rremote: Counting objects:  50% (7/14)\u001b[K\rremote: Counting objects:  57% (8/14)\u001b[K\rremote: Counting objects:  64% (9/14)\u001b[K\rremote: Counting objects:  71% (10/14)\u001b[K\rremote: Counting objects:  78% (11/14)\u001b[K\rremote: Counting objects:  85% (12/14)\u001b[K\rremote: Counting objects:  92% (13/14)\u001b[K\rremote: Counting objects: 100% (14/14)\u001b[K\rremote: Counting objects: 100% (14/14), done.\u001b[K\n",
            "remote: Compressing objects:  16% (1/6)\u001b[K\rremote: Compressing objects:  33% (2/6)\u001b[K\rremote: Compressing objects:  50% (3/6)\u001b[K\rremote: Compressing objects:  66% (4/6)\u001b[K\rremote: Compressing objects:  83% (5/6)\u001b[K\rremote: Compressing objects: 100% (6/6)\u001b[K\rremote: Compressing objects: 100% (6/6), done.\u001b[K\n",
            "remote: Total 29 (delta 8), reused 8 (delta 8), pack-reused 15 (from 2)\u001b[K\n",
            "Unpacking objects:   3% (1/29)\rUnpacking objects:   6% (2/29)\rUnpacking objects:  10% (3/29)\rUnpacking objects:  13% (4/29)\rUnpacking objects:  17% (5/29)\rUnpacking objects:  20% (6/29)\rUnpacking objects:  24% (7/29)\rUnpacking objects:  27% (8/29)\rUnpacking objects:  31% (9/29)\rUnpacking objects:  34% (10/29)\rUnpacking objects:  37% (11/29)\rUnpacking objects:  41% (12/29)\rUnpacking objects:  44% (13/29)\rUnpacking objects:  48% (14/29)\rUnpacking objects:  51% (15/29)\rUnpacking objects:  55% (16/29)\rUnpacking objects:  58% (17/29)\rUnpacking objects:  62% (18/29)\rUnpacking objects:  65% (19/29)\rUnpacking objects:  68% (20/29)\rUnpacking objects:  72% (21/29)\rUnpacking objects:  75% (22/29)\rUnpacking objects:  79% (23/29)\rUnpacking objects:  82% (24/29)\rUnpacking objects:  86% (25/29)\rUnpacking objects:  89% (26/29)\rUnpacking objects:  93% (27/29)\rUnpacking objects:  96% (28/29)\rUnpacking objects: 100% (29/29)\rUnpacking objects: 100% (29/29), 16.88 KiB | 1.53 MiB/s, done.\n",
            "From https://github.com/huggingface/huggingface_hub\n",
            " * [new ref]           refs/pull/3242/head -> tiny-agents-pr\n",
            "Switched to branch 'tiny-agents-pr'\n"
          ]
        }
      ]
    },
    {
      "cell_type": "code",
      "source": [
        "!ls agent/"
      ],
      "metadata": {
        "colab": {
          "base_uri": "https://localhost:8080/"
        },
        "id": "C9h6doBgmm94",
        "outputId": "46fa3387-de76-4e7f-d385-64a237eaa0c4"
      },
      "execution_count": 7,
      "outputs": [
        {
          "output_type": "stream",
          "name": "stdout",
          "text": [
            "ls: cannot access 'agent/': No such file or directory\n"
          ]
        }
      ]
    },
    {
      "cell_type": "code",
      "source": [
        "git clone https://github.com/huggingface/huggingface_hub.git\n",
        "cd huggingface_hub\n",
        "git fetch origin pull/3242/head:tiny-agents-pr\n",
        "git checkout tiny-agents-pr"
      ],
      "metadata": {
        "id": "s7c2-tDoja5w"
      },
      "execution_count": null,
      "outputs": []
    },
    {
      "cell_type": "code",
      "source": [
        "!find . -name \"*agent*\""
      ],
      "metadata": {
        "colab": {
          "base_uri": "https://localhost:8080/"
        },
        "id": "tkfPrUPanAH4",
        "outputId": "97daaf4b-c2d8-4f10-b86a-e3d9d8d682d1"
      },
      "execution_count": 8,
      "outputs": [
        {
          "output_type": "stream",
          "name": "stdout",
          "text": [
            "./.git/refs/heads/tiny-agents-pr\n",
            "./.git/logs/refs/heads/tiny-agents-pr\n",
            "./src/huggingface_hub/inference/_mcp/agent.py\n"
          ]
        }
      ]
    },
    {
      "cell_type": "code",
      "source": [
        "# File: main.py\n",
        "from tinyagent import TinyAgent\n",
        "from ollama_client import OllamaClient\n",
        "\n",
        "# 1. إنشاء عميل Ollama يشير إلى النموذج المحلي\n",
        "llm = OllamaClient(model=\"llama2\")  # غيّر \"llama2\" إلى اسم النموذج الذي حملته\n",
        "\n",
        "# 2. تهيئة الوكيل (Agent) مع عميل LLM المخصص\n",
        "agent = TinyAgent(llm=llm)\n",
        "\n",
        "# 3. إعداد المحادثة (System + User)\n",
        "messages = [\n",
        "    {\"role\": \"system\",  \"content\": \"أنت مساعد ذكي يتحدث العربية.\"},\n",
        "    {\"role\": \"user\",    \"content\": \"مرحبا، كيف حالك؟\"},\n",
        "]\n",
        "\n",
        "# 4. إرسال المحادثة واستلام الرد\n",
        "response = agent.chat(messages)\n",
        "\n",
        "# 5. طباعة الرد\n",
        "print(response)"
      ],
      "metadata": {
        "id": "g_xx_-A2nAor"
      },
      "execution_count": null,
      "outputs": []
    },
    {
      "cell_type": "code",
      "source": [
        "# File: ollama_client.py\n",
        "import subprocess\n",
        "from typing import List, Dict\n",
        "\n",
        "class OllamaClient:\n",
        "    \"\"\"\n",
        "    Simple local LLM client using Ollama CLI.\n",
        "    Expects 'ollama' to be installed and a model pulled (e.g., llama2).\n",
        "    \"\"\"\n",
        "    def __init__(self, model: str):\n",
        "        self.model = model\n",
        "\n",
        "    def chat(self, messages: List[Dict]) -> List[Dict]:\n",
        "        \"\"\"\n",
        "        messages: list of {\"role\": str, \"content\": str}\n",
        "        Returns assistant messages in same format.\n",
        "        \"\"\"\n",
        "        # Build a single prompt from chat messages\n",
        "        prompt = \"\"\n",
        "        for msg in messages:\n",
        "            role = msg.get(\"role\", \"user\")\n",
        "            content = msg.get(\"content\", \"\")\n",
        "            # Ollama eval uses plain prompt, you can format roles as needed\n",
        "            if role == \"system\":\n",
        "                prompt += f\"[INST] <<SYS>>\\n{content}\\n<</SYS>>\\n\"\n",
        "            else:\n",
        "                # For user/assistant, wrap in INST tags\n",
        "                if role == \"user\":\n",
        "                    prompt += f\"[INST] {content} [/INST]\\n\"\n",
        "                else:\n",
        "                    # assistant messages are usually not re-sent in prompt\n",
        "                    pass\n",
        "\n",
        "        # Call ollama CLI\n",
        "        try:\n",
        "            result = subprocess.run(\n",
        "                [\"ollama\", \"eval\", self.model, \"--stdin\"],\n",
        "                input=prompt,\n",
        "                text=True,\n",
        "                capture_output=True,\n",
        "                check=True\n",
        "            )\n",
        "            response_text = result.stdout.strip()\n",
        "        except subprocess.CalledProcessError as e:\n",
        "            raise RuntimeError(f\"Ollama CLI failed: {e.stderr}\")\n",
        "\n",
        "        # Return as assistant message\n",
        "        return [{\"role\": \"assistant\", \"content\": response_text}]\n"
      ],
      "metadata": {
        "id": "qmZgys6xn82o"
      },
      "execution_count": null,
      "outputs": []
    },
    {
      "cell_type": "code",
      "source": [
        "\n",
        "curl -fsSL https://ollama.com/install.sh | sh\n",
        "nohup ollama serve &\n",
        "ollama pull llama3:8b\n",
        "ollama list"
      ],
      "metadata": {
        "id": "BfxQn6nonvrC"
      },
      "execution_count": null,
      "outputs": []
    },
    {
      "cell_type": "code",
      "source": [
        "!curl -fsSL https://ollama.com/install.sh | sh"
      ],
      "metadata": {
        "colab": {
          "base_uri": "https://localhost:8080/"
        },
        "id": "jyk2_kjxnw4o",
        "outputId": "c404aefe-d8ea-47da-8a97-cba0f76c8b39"
      },
      "execution_count": 9,
      "outputs": [
        {
          "output_type": "stream",
          "name": "stdout",
          "text": [
            ">>> Installing ollama to /usr/local\n",
            ">>> Downloading Linux amd64 bundle\n",
            "######################################################################## 100.0%\n",
            ">>> Creating ollama user...\n",
            ">>> Adding ollama user to video group...\n",
            ">>> Adding current user to ollama group...\n",
            ">>> Creating ollama systemd service...\n",
            "\u001b[1m\u001b[31mWARNING:\u001b[m systemd is not running\n",
            "\u001b[1m\u001b[31mWARNING:\u001b[m Unable to detect NVIDIA/AMD GPU. Install lspci or lshw to automatically detect and install GPU dependencies.\n",
            ">>> The Ollama API is now available at 127.0.0.1:11434.\n",
            ">>> Install complete. Run \"ollama\" from the command line.\n"
          ]
        }
      ]
    },
    {
      "cell_type": "code",
      "source": [
        "!pip install tinyagent"
      ],
      "metadata": {
        "colab": {
          "base_uri": "https://localhost:8080/"
        },
        "id": "BYbvIzYEnyBJ",
        "outputId": "72b1d0d4-61d2-4711-fcbd-5380e2824c0d"
      },
      "execution_count": 10,
      "outputs": [
        {
          "output_type": "stream",
          "name": "stdout",
          "text": [
            "Collecting tinyagent\n",
            "  Downloading tinyagent-0.2.4-py3-none-any.whl.metadata (1.3 kB)\n",
            "Requirement already satisfied: pydantic>=2.7.1 in /usr/local/lib/python3.11/dist-packages (from tinyagent) (2.11.7)\n",
            "Requirement already satisfied: requests>=2.31.0 in /usr/local/lib/python3.11/dist-packages (from tinyagent) (2.32.3)\n",
            "Requirement already satisfied: annotated-types>=0.6.0 in /usr/local/lib/python3.11/dist-packages (from pydantic>=2.7.1->tinyagent) (0.7.0)\n",
            "Requirement already satisfied: pydantic-core==2.33.2 in /usr/local/lib/python3.11/dist-packages (from pydantic>=2.7.1->tinyagent) (2.33.2)\n",
            "Requirement already satisfied: typing-extensions>=4.12.2 in /usr/local/lib/python3.11/dist-packages (from pydantic>=2.7.1->tinyagent) (4.14.1)\n",
            "Requirement already satisfied: typing-inspection>=0.4.0 in /usr/local/lib/python3.11/dist-packages (from pydantic>=2.7.1->tinyagent) (0.4.1)\n",
            "Requirement already satisfied: charset-normalizer<4,>=2 in /usr/local/lib/python3.11/dist-packages (from requests>=2.31.0->tinyagent) (3.4.2)\n",
            "Requirement already satisfied: idna<4,>=2.5 in /usr/local/lib/python3.11/dist-packages (from requests>=2.31.0->tinyagent) (3.10)\n",
            "Requirement already satisfied: urllib3<3,>=1.21.1 in /usr/local/lib/python3.11/dist-packages (from requests>=2.31.0->tinyagent) (2.5.0)\n",
            "Requirement already satisfied: certifi>=2017.4.17 in /usr/local/lib/python3.11/dist-packages (from requests>=2.31.0->tinyagent) (2025.8.3)\n",
            "Downloading tinyagent-0.2.4-py3-none-any.whl (25 kB)\n",
            "Installing collected packages: tinyagent\n",
            "Successfully installed tinyagent-0.2.4\n"
          ]
        }
      ]
    },
    {
      "cell_type": "code",
      "source": [
        "!nohup ollama serve &\n",
        "!ollama pull llama2\n"
      ],
      "metadata": {
        "colab": {
          "base_uri": "https://localhost:8080/"
        },
        "id": "ORpP6eg9oLpY",
        "outputId": "8cf25337-d7a9-4ad3-b4c0-513b6dd6597d"
      },
      "execution_count": 13,
      "outputs": [
        {
          "output_type": "stream",
          "name": "stdout",
          "text": [
            "nohup: appending output to 'nohup.out'\n",
            "\u001b[?2026h\u001b[?25l\u001b[1G\u001b[?25h\u001b[?2026l\u001b[?2026h\u001b[?25l\u001b[1G\u001b[?25h\u001b[?2026l\u001b[?2026h\u001b[?25l\u001b[1G\u001b[?25h\u001b[?2026l\u001b[?2026h\u001b[?25l\u001b[1G\u001b[?25h\u001b[?2026l\u001b[?2026h\u001b[?25l\u001b[1G\u001b[?25h\u001b[?2026l\u001b[?2026h\u001b[?25l\u001b[1G\u001b[?25h\u001b[?2026l\u001b[?2026h\u001b[?25l\u001b[1G\u001b[?25h\u001b[?2026l\u001b[?2026h\u001b[?25l\u001b[1G\u001b[?25h\u001b[?2026l\u001b[?2026h\u001b[?25l\u001b[A\u001b[1G\u001b[?25h\u001b[?2026l\u001b[?2026h\u001b[?25l\u001b[A\u001b[1G\u001b[?25h\u001b[?2026l\u001b[?2026h\u001b[?25l\u001b[A\u001b[1G\u001b[?25h\u001b[?2026l\u001b[?2026h\u001b[?25l\u001b[A\u001b[1G\u001b[?25h\u001b[?2026l\u001b[?2026h\u001b[?25l\u001b[A\u001b[1G\u001b[?25h\u001b[?2026l\u001b[?2026h\u001b[?25l\u001b[A\u001b[1G\u001b[?25h\u001b[?2026l\u001b[?2026h\u001b[?25l\u001b[A\u001b[1G\u001b[?25h\u001b[?2026l\u001b[?2026h\u001b[?25l\u001b[A\u001b[1G\u001b[?25h\u001b[?2026l\u001b[?2026h\u001b[?25l\u001b[A\u001b[1G\u001b[?25h\u001b[?2026l\u001b[?2026h\u001b[?25l\u001b[A\u001b[1G\u001b[?25h\u001b[?2026l\u001b[?2026h\u001b[?25l\u001b[A\u001b[1G\u001b[?25h\u001b[?2026l\u001b[?2026h\u001b[?25l\u001b[A\u001b[1G\u001b[?25h\u001b[?2026l\u001b[?2026h\u001b[?25l\u001b[A\u001b[1G\u001b[?25h\u001b[?2026l\u001b[?2026h\u001b[?25l\u001b[A\u001b[1G\u001b[?25h\u001b[?2026l\u001b[?2026h\u001b[?25l\u001b[A\u001b[1G\u001b[?25h\u001b[?2026l\u001b[?2026h\u001b[?25l\u001b[A\u001b[1G\u001b[?25h\u001b[?2026l\u001b[?2026h\u001b[?25l\u001b[A\u001b[1G\u001b[?25h\u001b[?2026l\u001b[?2026h\u001b[?25l\u001b[A\u001b[1G\u001b[?25h\u001b[?2026l\u001b[?2026h\u001b[?25l\u001b[A\u001b[1G\u001b[?25h\u001b[?2026l\u001b[?2026h\u001b[?25l\u001b[A\u001b[1G\u001b[?25h\u001b[?2026l\u001b[?2026h\u001b[?25l\u001b[A\u001b[1G\u001b[?25h\u001b[?2026l\u001b[?2026h\u001b[?25l\u001b[A\u001b[1G\u001b[?25h\u001b[?2026l\u001b[?2026h\u001b[?25l\u001b[A\u001b[1G\u001b[?25h\u001b[?2026l\u001b[?2026h\u001b[?25l\u001b[A\u001b[1G\u001b[?25h\u001b[?2026l\u001b[?2026h\u001b[?25l\u001b[A\u001b[1G\u001b[?25h\u001b[?2026l\u001b[?2026h\u001b[?25l\u001b[A\u001b[1G\u001b[?25h\u001b[?2026l\u001b[?2026h\u001b[?25l\u001b[A\u001b[1G\u001b[?25h\u001b[?2026l\u001b[?2026h\u001b[?25l\u001b[A\u001b[1G\u001b[?25h\u001b[?2026l\u001b[?2026h\u001b[?25l\u001b[A\u001b[1G\u001b[?25h\u001b[?2026l\u001b[?2026h\u001b[?25l\u001b[A\u001b[1G\u001b[?25h\u001b[?2026l\u001b[?2026h\u001b[?25l\u001b[A\u001b[1G\u001b[?25h\u001b[?2026l\u001b[?2026h\u001b[?25l\u001b[A\u001b[1G\u001b[?25h\u001b[?2026l\u001b[?2026h\u001b[?25l\u001b[A\u001b[1G\u001b[?25h\u001b[?2026l\u001b[?2026h\u001b[?25l\u001b[A\u001b[1G\u001b[?25h\u001b[?2026l\u001b[?2026h\u001b[?25l\u001b[A\u001b[1G\u001b[?25h\u001b[?2026l\u001b[?2026h\u001b[?25l\u001b[A\u001b[1G\u001b[?25h\u001b[?2026l\u001b[?2026h\u001b[?25l\u001b[A\u001b[1G\u001b[?25h\u001b[?2026l\u001b[?2026h\u001b[?25l\u001b[A\u001b[1G\u001b[?25h\u001b[?2026l\u001b[?2026h\u001b[?25l\u001b[A\u001b[1G\u001b[?25h\u001b[?2026l\u001b[?2026h\u001b[?25l\u001b[A\u001b[1G\u001b[?25h\u001b[?2026l\u001b[?2026h\u001b[?25l\u001b[A\u001b[1G\u001b[?25h\u001b[?2026l\u001b[?2026h\u001b[?25l\u001b[A\u001b[1G\u001b[?25h\u001b[?2026l\u001b[?2026h\u001b[?25l\u001b[A\u001b[1G\u001b[?25h\u001b[?2026l\u001b[?2026h\u001b[?25l\u001b[A\u001b[1G\u001b[?25h\u001b[?2026l\u001b[?2026h\u001b[?25l\u001b[A\u001b[1G\u001b[?25h\u001b[?2026l\u001b[?2026h\u001b[?25l\u001b[A\u001b[1G\u001b[?25h\u001b[?2026l\u001b[?2026h\u001b[?25l\u001b[A\u001b[1G\u001b[?25h\u001b[?2026l\u001b[?2026h\u001b[?25l\u001b[A\u001b[1G\u001b[?25h\u001b[?2026l\u001b[?2026h\u001b[?25l\u001b[A\u001b[1G\u001b[?25h\u001b[?2026l\u001b[?2026h\u001b[?25l\u001b[A\u001b[1G\u001b[?25h\u001b[?2026l\u001b[?2026h\u001b[?25l\u001b[A\u001b[1G\u001b[?25h\u001b[?2026l\u001b[?2026h\u001b[?25l\u001b[A\u001b[1G\u001b[?25h\u001b[?2026l\u001b[?2026h\u001b[?25l\u001b[A\u001b[1G\u001b[?25h\u001b[?2026l\u001b[?2026h\u001b[?25l\u001b[A\u001b[1G\u001b[?25h\u001b[?2026l\u001b[?2026h\u001b[?25l\u001b[A\u001b[1G\u001b[?25h\u001b[?2026l\u001b[?2026h\u001b[?25l\u001b[A\u001b[1G\u001b[?25h\u001b[?2026l\u001b[?2026h\u001b[?25l\u001b[A\u001b[1G\u001b[?25h\u001b[?2026l\u001b[?2026h\u001b[?25l\u001b[A\u001b[1G\u001b[?25h\u001b[?2026l\u001b[?2026h\u001b[?25l\u001b[A\u001b[1G\u001b[?25h\u001b[?2026l\u001b[?2026h\u001b[?25l\u001b[A\u001b[1G\u001b[?25h\u001b[?2026l\u001b[?2026h\u001b[?25l\u001b[A\u001b[1G\u001b[?25h\u001b[?2026l\u001b[?2026h\u001b[?25l\u001b[A\u001b[1G\u001b[?25h\u001b[?2026l\u001b[?2026h\u001b[?25l\u001b[A\u001b[1G\u001b[?25h\u001b[?2026l\u001b[?2026h\u001b[?25l\u001b[A\u001b[1G\u001b[?25h\u001b[?2026l\u001b[?2026h\u001b[?25l\u001b[A\u001b[1G\u001b[?25h\u001b[?2026l\u001b[?2026h\u001b[?25l\u001b[A\u001b[1G\u001b[?25h\u001b[?2026l\u001b[?2026h\u001b[?25l\u001b[A\u001b[1G\u001b[?25h\u001b[?2026l\u001b[?2026h\u001b[?25l\u001b[A\u001b[1G\u001b[?25h\u001b[?2026l\u001b[?2026h\u001b[?25l\u001b[A\u001b[1G\u001b[?25h\u001b[?2026l\u001b[?2026h\u001b[?25l\u001b[A\u001b[1G\u001b[?25h\u001b[?2026l\u001b[?2026h\u001b[?25l\u001b[A\u001b[1G\u001b[?25h\u001b[?2026l\u001b[?2026h\u001b[?25l\u001b[A\u001b[1G\u001b[?25h\u001b[?2026l\u001b[?2026h\u001b[?25l\u001b[A\u001b[1G\u001b[?25h\u001b[?2026l\u001b[?2026h\u001b[?25l\u001b[A\u001b[1G\u001b[?25h\u001b[?2026l\u001b[?2026h\u001b[?25l\u001b[A\u001b[1G\u001b[?25h\u001b[?2026l\u001b[?2026h\u001b[?25l\u001b[A\u001b[1G\u001b[?25h\u001b[?2026l\u001b[?2026h\u001b[?25l\u001b[A\u001b[1G\u001b[?25h\u001b[?2026l\u001b[?2026h\u001b[?25l\u001b[A\u001b[1G\u001b[?25h\u001b[?2026l\u001b[?2026h\u001b[?25l\u001b[A\u001b[1G\u001b[?25h\u001b[?2026l\u001b[?2026h\u001b[?25l\u001b[A\u001b[1G\u001b[?25h\u001b[?2026l\u001b[?2026h\u001b[?25l\u001b[A\u001b[1G\u001b[?25h\u001b[?2026l\u001b[?2026h\u001b[?25l\u001b[A\u001b[1G\u001b[?25h\u001b[?2026l\u001b[?2026h\u001b[?25l\u001b[A\u001b[1G\u001b[?25h\u001b[?2026l\u001b[?2026h\u001b[?25l\u001b[A\u001b[1G\u001b[?25h\u001b[?2026l\u001b[?2026h\u001b[?25l\u001b[A\u001b[1G\u001b[?25h\u001b[?2026l\u001b[?2026h\u001b[?25l\u001b[A\u001b[1G\u001b[?25h\u001b[?2026l\u001b[?2026h\u001b[?25l\u001b[A\u001b[1G\u001b[?25h\u001b[?2026l\u001b[?2026h\u001b[?25l\u001b[A\u001b[1G\u001b[?25h\u001b[?2026l\u001b[?2026h\u001b[?25l\u001b[A\u001b[1G\u001b[?25h\u001b[?2026l\u001b[?2026h\u001b[?25l\u001b[A\u001b[1G\u001b[?25h\u001b[?2026l\u001b[?2026h\u001b[?25l\u001b[A\u001b[1G\u001b[?25h\u001b[?2026l\u001b[?2026h\u001b[?25l\u001b[A\u001b[1G\u001b[?25h\u001b[?2026l\u001b[?2026h\u001b[?25l\u001b[A\u001b[1G\u001b[?25h\u001b[?2026l\u001b[?2026h\u001b[?25l\u001b[A\u001b[1G\u001b[?25h\u001b[?2026l\u001b[?2026h\u001b[?25l\u001b[A\u001b[1G\u001b[?25h\u001b[?2026l\u001b[?2026h\u001b[?25l\u001b[A\u001b[1G\u001b[?25h\u001b[?2026l\u001b[?2026h\u001b[?25l\u001b[A\u001b[1G\u001b[?25h\u001b[?2026l\u001b[?2026h\u001b[?25l\u001b[A\u001b[1G\u001b[?25h\u001b[?2026l\u001b[?2026h\u001b[?25l\u001b[A\u001b[1G\u001b[?25h\u001b[?2026l\u001b[?2026h\u001b[?25l\u001b[A\u001b[1G\u001b[?25h\u001b[?2026l\u001b[?2026h\u001b[?25l\u001b[A\u001b[1G\u001b[?25h\u001b[?2026l\u001b[?2026h\u001b[?25l\u001b[A\u001b[1G\u001b[?25h\u001b[?2026l\u001b[?2026h\u001b[?25l\u001b[A\u001b[1G\u001b[?25h\u001b[?2026l\u001b[?2026h\u001b[?25l\u001b[A\u001b[1G\u001b[?25h\u001b[?2026l\u001b[?2026h\u001b[?25l\u001b[A\u001b[1G\u001b[?25h\u001b[?2026l\u001b[?2026h\u001b[?25l\u001b[A\u001b[1G\u001b[?25h\u001b[?2026l\u001b[?2026h\u001b[?25l\u001b[A\u001b[1G\u001b[?25h\u001b[?2026l\u001b[?2026h\u001b[?25l\u001b[A\u001b[1G\u001b[?25h\u001b[?2026l\u001b[?2026h\u001b[?25l\u001b[A\u001b[1G\u001b[?25h\u001b[?2026l\u001b[?2026h\u001b[?25l\u001b[A\u001b[1G\u001b[?25h\u001b[?2026l\u001b[?2026h\u001b[?25l\u001b[A\u001b[1G\u001b[?25h\u001b[?2026l\u001b[?2026h\u001b[?25l\u001b[A\u001b[1G\u001b[?25h\u001b[?2026l\u001b[?2026h\u001b[?25l\u001b[A\u001b[1G\u001b[?25h\u001b[?2026l\u001b[?2026h\u001b[?25l\u001b[A\u001b[1G\u001b[?25h\u001b[?2026l\u001b[?2026h\u001b[?25l\u001b[A\u001b[1G\u001b[?25h\u001b[?2026l\u001b[?2026h\u001b[?25l\u001b[A\u001b[1G\u001b[?25h\u001b[?2026l\u001b[?2026h\u001b[?25l\u001b[A\u001b[1G\u001b[?25h\u001b[?2026l\u001b[?2026h\u001b[?25l\u001b[A\u001b[1G\u001b[?25h\u001b[?2026l\u001b[?2026h\u001b[?25l\u001b[A\u001b[1G\u001b[?25h\u001b[?2026l\u001b[?2026h\u001b[?25l\u001b[A\u001b[1G\u001b[?25h\u001b[?2026l\u001b[?2026h\u001b[?25l\u001b[A\u001b[1G\u001b[?25h\u001b[?2026l\u001b[?2026h\u001b[?25l\u001b[A\u001b[1G\u001b[?25h\u001b[?2026l\u001b[?2026h\u001b[?25l\u001b[A\u001b[1G\u001b[?25h\u001b[?2026l\u001b[?2026h\u001b[?25l\u001b[A\u001b[1G\u001b[?25h\u001b[?2026l\u001b[?2026h\u001b[?25l\u001b[A\u001b[1G\u001b[?25h\u001b[?2026l\u001b[?2026h\u001b[?25l\u001b[A\u001b[1G\u001b[?25h\u001b[?2026l\u001b[?2026h\u001b[?25l\u001b[A\u001b[1G\u001b[?25h\u001b[?2026l\u001b[?2026h\u001b[?25l\u001b[A\u001b[1G\u001b[?25h\u001b[?2026l\u001b[?2026h\u001b[?25l\u001b[A\u001b[1G\u001b[?25h\u001b[?2026l\u001b[?2026h\u001b[?25l\u001b[A\u001b[1G\u001b[?25h\u001b[?2026l\u001b[?2026h\u001b[?25l\u001b[A\u001b[1G\u001b[?25h\u001b[?2026l\u001b[?2026h\u001b[?25l\u001b[A\u001b[1G\u001b[?25h\u001b[?2026l\u001b[?2026h\u001b[?25l\u001b[A\u001b[1G\u001b[?25h\u001b[?2026l\u001b[?2026h\u001b[?25l\u001b[A\u001b[1G\u001b[?25h\u001b[?2026l\u001b[?2026h\u001b[?25l\u001b[A\u001b[1G\u001b[?25h\u001b[?2026l\u001b[?2026h\u001b[?25l\u001b[A\u001b[1G\u001b[?25h\u001b[?2026l\u001b[?2026h\u001b[?25l\u001b[A\u001b[1G\u001b[?25h\u001b[?2026l\u001b[?2026h\u001b[?25l\u001b[A\u001b[1G\u001b[?25h\u001b[?2026l\u001b[?2026h\u001b[?25l\u001b[A\u001b[1G\u001b[?25h\u001b[?2026l\u001b[?2026h\u001b[?25l\u001b[A\u001b[1G\u001b[?25h\u001b[?2026l\u001b[?2026h\u001b[?25l\u001b[A\u001b[1G\u001b[?25h\u001b[?2026l\u001b[?2026h\u001b[?25l\u001b[A\u001b[1G\u001b[?25h\u001b[?2026l\u001b[?2026h\u001b[?25l\u001b[A\u001b[1G\u001b[?25h\u001b[?2026l\u001b[?2026h\u001b[?25l\u001b[A\u001b[1G\u001b[?25h\u001b[?2026l\u001b[?2026h\u001b[?25l\u001b[A\u001b[1G\u001b[?25h\u001b[?2026l\u001b[?2026h\u001b[?25l\u001b[A\u001b[1G\u001b[?25h\u001b[?2026l\u001b[?2026h\u001b[?25l\u001b[A\u001b[1G\u001b[?25h\u001b[?2026l\u001b[?2026h\u001b[?25l\u001b[A\u001b[1G\u001b[?25h\u001b[?2026l\u001b[?2026h\u001b[?25l\u001b[A\u001b[1G\u001b[?25h\u001b[?2026l\u001b[?2026h\u001b[?25l\u001b[A\u001b[1G\u001b[?25h\u001b[?2026l\u001b[?2026h\u001b[?25l\u001b[A\u001b[1G\u001b[?25h\u001b[?2026l\u001b[?2026h\u001b[?25l\u001b[A\u001b[1G\u001b[?25h\u001b[?2026l\u001b[?2026h\u001b[?25l\u001b[A\u001b[1G\u001b[?25h\u001b[?2026l\u001b[?2026h\u001b[?25l\u001b[A\u001b[1G\u001b[?25h\u001b[?2026l\u001b[?2026h\u001b[?25l\u001b[A\u001b[1G\u001b[?25h\u001b[?2026l\u001b[?2026h\u001b[?25l\u001b[A\u001b[1G\u001b[?25h\u001b[?2026l\u001b[?2026h\u001b[?25l\u001b[A\u001b[1G\u001b[?25h\u001b[?2026l\u001b[?2026h\u001b[?25l\u001b[A\u001b[1G\u001b[?25h\u001b[?2026l\u001b[?2026h\u001b[?25l\u001b[A\u001b[1G\u001b[?25h\u001b[?2026l\u001b[?2026h\u001b[?25l\u001b[A\u001b[1G\u001b[?25h\u001b[?2026l\u001b[?2026h\u001b[?25l\u001b[A\u001b[1G\u001b[?25h\u001b[?2026l\u001b[?2026h\u001b[?25l\u001b[A\u001b[1G\u001b[?25h\u001b[?2026l\u001b[?2026h\u001b[?25l\u001b[A\u001b[1G\u001b[?25h\u001b[?2026l\u001b[?2026h\u001b[?25l\u001b[A\u001b[1G\u001b[?25h\u001b[?2026l\u001b[?2026h\u001b[?25l\u001b[A\u001b[1G\u001b[?25h\u001b[?2026l\u001b[?2026h\u001b[?25l\u001b[A\u001b[1G\u001b[?25h\u001b[?2026l\u001b[?2026h\u001b[?25l\u001b[A\u001b[1G\u001b[?25h\u001b[?2026l\u001b[?2026h\u001b[?25l\u001b[A\u001b[1G\u001b[?25h\u001b[?2026l\u001b[?2026h\u001b[?25l\u001b[A\u001b[1G\u001b[?25h\u001b[?2026l\u001b[?2026h\u001b[?25l\u001b[A\u001b[1G\u001b[?25h\u001b[?2026l\u001b[?2026h\u001b[?25l\u001b[A\u001b[1G\u001b[?25h\u001b[?2026l\u001b[?2026h\u001b[?25l\u001b[A\u001b[1G\u001b[?25h\u001b[?2026l\u001b[?2026h\u001b[?25l\u001b[A\u001b[1G\u001b[?25h\u001b[?2026l\u001b[?2026h\u001b[?25l\u001b[A\u001b[1G\u001b[?25h\u001b[?2026l\u001b[?2026h\u001b[?25l\u001b[A\u001b[1G\u001b[?25h\u001b[?2026l\u001b[?2026h\u001b[?25l\u001b[A\u001b[1G\u001b[?25h\u001b[?2026l\u001b[?2026h\u001b[?25l\u001b[A\u001b[1G\u001b[?25h\u001b[?2026l\u001b[?2026h\u001b[?25l\u001b[A\u001b[1G\u001b[?25h\u001b[?2026l\u001b[?2026h\u001b[?25l\u001b[A\u001b[1G\u001b[?25h\u001b[?2026l\u001b[?2026h\u001b[?25l\u001b[A\u001b[1G\u001b[?25h\u001b[?2026l\u001b[?2026h\u001b[?25l\u001b[A\u001b[1G\u001b[?25h\u001b[?2026l\u001b[?2026h\u001b[?25l\u001b[A\u001b[1G\u001b[?25h\u001b[?2026l\u001b[?2026h\u001b[?25l\u001b[A\u001b[1G\u001b[?25h\u001b[?2026l\u001b[?2026h\u001b[?25l\u001b[A\u001b[1G\u001b[?25h\u001b[?2026l\u001b[?2026h\u001b[?25l\u001b[A\u001b[1G\u001b[?25h\u001b[?2026l\u001b[?2026h\u001b[?25l\u001b[A\u001b[1G\u001b[?25h\u001b[?2026l\u001b[?2026h\u001b[?25l\u001b[A\u001b[1G\u001b[?25h\u001b[?2026l\u001b[?2026h\u001b[?25l\u001b[A\u001b[1G\u001b[?25h\u001b[?2026l\u001b[?2026h\u001b[?25l\u001b[A\u001b[1G\u001b[?25h\u001b[?2026l\u001b[?2026h\u001b[?25l\u001b[A\u001b[1G\u001b[?25h\u001b[?2026l\u001b[?2026h\u001b[?25l\u001b[A\u001b[1G\u001b[?25h\u001b[?2026l\u001b[?2026h\u001b[?25l\u001b[A\u001b[1G\u001b[?25h\u001b[?2026l\u001b[?2026h\u001b[?25l\u001b[A\u001b[1G\u001b[?25h\u001b[?2026l\u001b[?2026h\u001b[?25l\u001b[A\u001b[1G\u001b[?25h\u001b[?2026l\u001b[?2026h\u001b[?25l\u001b[A\u001b[1G\u001b[?25h\u001b[?2026l\u001b[?2026h\u001b[?25l\u001b[A\u001b[1G\u001b[?25h\u001b[?2026l\u001b[?2026h\u001b[?25l\u001b[A\u001b[1G\u001b[?25h\u001b[?2026l\u001b[?2026h\u001b[?25l\u001b[A\u001b[1G\u001b[?25h\u001b[?2026l\u001b[?2026h\u001b[?25l\u001b[A\u001b[1G\u001b[?25h\u001b[?2026l\u001b[?2026h\u001b[?25l\u001b[A\u001b[1G\u001b[?25h\u001b[?2026l\u001b[?2026h\u001b[?25l\u001b[A\u001b[1G\u001b[?25h\u001b[?2026l\u001b[?2026h\u001b[?25l\u001b[A\u001b[1G\u001b[?25h\u001b[?2026l\u001b[?2026h\u001b[?25l\u001b[A\u001b[1G\u001b[?25h\u001b[?2026l\u001b[?2026h\u001b[?25l\u001b[A\u001b[1G\u001b[?25h\u001b[?2026l\u001b[?2026h\u001b[?25l\u001b[A\u001b[1G\u001b[?25h\u001b[?2026l\u001b[?2026h\u001b[?25l\u001b[A\u001b[1G\u001b[?25h\u001b[?2026l\u001b[?2026h\u001b[?25l\u001b[A\u001b[1G\u001b[?25h\u001b[?2026l\u001b[?2026h\u001b[?25l\u001b[A\u001b[1G\u001b[?25h\u001b[?2026l\u001b[?2026h\u001b[?25l\u001b[A\u001b[1G\u001b[?25h\u001b[?2026l\u001b[?2026h\u001b[?25l\u001b[A\u001b[1G\u001b[?25h\u001b[?2026l\u001b[?2026h\u001b[?25l\u001b[A\u001b[1G\u001b[?25h\u001b[?2026l\u001b[?2026h\u001b[?25l\u001b[A\u001b[1G\u001b[?25h\u001b[?2026l\u001b[?2026h\u001b[?25l\u001b[A\u001b[1G\u001b[?25h\u001b[?2026l\u001b[?2026h\u001b[?25l\u001b[A\u001b[1G\u001b[?25h\u001b[?2026l\u001b[?2026h\u001b[?25l\u001b[A\u001b[1G\u001b[?25h\u001b[?2026l\u001b[?2026h\u001b[?25l\u001b[A\u001b[1G\u001b[?25h\u001b[?2026l\u001b[?2026h\u001b[?25l\u001b[A\u001b[1G\u001b[?25h\u001b[?2026l\u001b[?2026h\u001b[?25l\u001b[A\u001b[1G\u001b[?25h\u001b[?2026l\u001b[?2026h\u001b[?25l\u001b[A\u001b[1G\u001b[?25h\u001b[?2026l\u001b[?2026h\u001b[?25l\u001b[A\u001b[1G\u001b[?25h\u001b[?2026l\u001b[?2026h\u001b[?25l\u001b[A\u001b[1G\u001b[?25h\u001b[?2026l\u001b[?2026h\u001b[?25l\u001b[A\u001b[1G\u001b[?25h\u001b[?2026l\u001b[?2026h\u001b[?25l\u001b[A\u001b[1G\u001b[?25h\u001b[?2026l\u001b[?2026h\u001b[?25l\u001b[A\u001b[1G\u001b[?25h\u001b[?2026l\u001b[?2026h\u001b[?25l\u001b[A\u001b[1G\u001b[?25h\u001b[?2026l\u001b[?2026h\u001b[?25l\u001b[A\u001b[1G\u001b[?25h\u001b[?2026l\u001b[?2026h\u001b[?25l\u001b[A\u001b[1G\u001b[?25h\u001b[?2026l\u001b[?2026h\u001b[?25l\u001b[A\u001b[1G\u001b[?25h\u001b[?2026l\u001b[?2026h\u001b[?25l\u001b[A\u001b[1G\u001b[?25h\u001b[?2026l\u001b[?2026h\u001b[?25l\u001b[A\u001b[1G\u001b[?25h\u001b[?2026l\u001b[?2026h\u001b[?25l\u001b[A\u001b[1G\u001b[?25h\u001b[?2026l\u001b[?2026h\u001b[?25l\u001b[A\u001b[1G\u001b[?25h\u001b[?2026l\u001b[?2026h\u001b[?25l\u001b[A\u001b[1G\u001b[?25h\u001b[?2026l\u001b[?2026h\u001b[?25l\u001b[A\u001b[1G\u001b[?25h\u001b[?2026l\u001b[?2026h\u001b[?25l\u001b[A\u001b[1G\u001b[?25h\u001b[?2026l\u001b[?2026h\u001b[?25l\u001b[A\u001b[1G\u001b[?25h\u001b[?2026l\u001b[?2026h\u001b[?25l\u001b[A\u001b[1G\u001b[?25h\u001b[?2026l\u001b[?2026h\u001b[?25l\u001b[A\u001b[1G\u001b[?25h\u001b[?2026l\u001b[?2026h\u001b[?25l\u001b[A\u001b[1G\u001b[?25h\u001b[?2026l\u001b[?2026h\u001b[?25l\u001b[A\u001b[1G\u001b[?25h\u001b[?2026l\u001b[?2026h\u001b[?25l\u001b[A\u001b[1G\u001b[?25h\u001b[?2026l\u001b[?2026h\u001b[?25l\u001b[A\u001b[1G\u001b[?25h\u001b[?2026l\u001b[?2026h\u001b[?25l\u001b[A\u001b[1G\u001b[?25h\u001b[?2026l\u001b[?2026h\u001b[?25l\u001b[A\u001b[1G\u001b[?25h\u001b[?2026l\u001b[?2026h\u001b[?25l\u001b[A\u001b[1G\u001b[?25h\u001b[?2026l\u001b[?2026h\u001b[?25l\u001b[A\u001b[1G\u001b[?25h\u001b[?2026l\u001b[?2026h\u001b[?25l\u001b[A\u001b[1G\u001b[?25h\u001b[?2026l\u001b[?2026h\u001b[?25l\u001b[A\u001b[1G\u001b[?25h\u001b[?2026l\u001b[?2026h\u001b[?25l\u001b[A\u001b[1G\u001b[?25h\u001b[?2026l\u001b[?2026h\u001b[?25l\u001b[A\u001b[1G\u001b[?25h\u001b[?2026l\u001b[?2026h\u001b[?25l\u001b[A\u001b[1G\u001b[?25h\u001b[?2026l\u001b[?2026h\u001b[?25l\u001b[A\u001b[1G\u001b[?25h\u001b[?2026l\u001b[?2026h\u001b[?25l\u001b[A\u001b[1G\u001b[?25h\u001b[?2026l\u001b[?2026h\u001b[?25l\u001b[A\u001b[1G\u001b[?25h\u001b[?2026l\u001b[?2026h\u001b[?25l\u001b[A\u001b[1G\u001b[?25h\u001b[?2026l\u001b[?2026h\u001b[?25l\u001b[A\u001b[1G\u001b[?25h\u001b[?2026l\u001b[?2026h\u001b[?25l\u001b[A\u001b[1G\u001b[?25h\u001b[?2026l\u001b[?2026h\u001b[?25l\u001b[A\u001b[1G\u001b[?25h\u001b[?2026l\u001b[?2026h\u001b[?25l\u001b[A\u001b[1G\u001b[?25h\u001b[?2026l\u001b[?2026h\u001b[?25l\u001b[A\u001b[1G\u001b[?25h\u001b[?2026l\u001b[?2026h\u001b[?25l\u001b[A\u001b[1G\u001b[?25h\u001b[?2026l\u001b[?2026h\u001b[?25l\u001b[A\u001b[1G\u001b[?25h\u001b[?2026l\u001b[?2026h\u001b[?25l\u001b[A\u001b[1G\u001b[?25h\u001b[?2026l\u001b[?2026h\u001b[?25l\u001b[A\u001b[1G\u001b[?25h\u001b[?2026l\u001b[?2026h\u001b[?25l\u001b[A\u001b[1G\u001b[?25h\u001b[?2026l\u001b[?2026h\u001b[?25l\u001b[A\u001b[1G\u001b[?25h\u001b[?2026l\u001b[?2026h\u001b[?25l\u001b[A\u001b[1G\u001b[?25h\u001b[?2026l\u001b[?2026h\u001b[?25l\u001b[A\u001b[1G\u001b[?25h\u001b[?2026l\u001b[?2026h\u001b[?25l\u001b[A\u001b[1G\u001b[?25h\u001b[?2026l\u001b[?2026h\u001b[?25l\u001b[A\u001b[1G\u001b[?25h\u001b[?2026l\u001b[?2026h\u001b[?25l\u001b[A\u001b[1G\u001b[?25h\u001b[?2026l\u001b[?2026h\u001b[?25l\u001b[A\u001b[1G\u001b[?25h\u001b[?2026l\u001b[?2026h\u001b[?25l\u001b[A\u001b[1G\u001b[?25h\u001b[?2026l\u001b[?2026h\u001b[?25l\u001b[A\u001b[1G\u001b[?25h\u001b[?2026l\u001b[?2026h\u001b[?25l\u001b[A\u001b[1G\u001b[?25h\u001b[?2026l\u001b[?2026h\u001b[?25l\u001b[A\u001b[1G\u001b[?25h\u001b[?2026l\u001b[?2026h\u001b[?25l\u001b[A\u001b[1G\u001b[?25h\u001b[?2026l\u001b[?2026h\u001b[?25l\u001b[A\u001b[1G\u001b[?25h\u001b[?2026l\u001b[?2026h\u001b[?25l\u001b[A\u001b[1G\u001b[?25h\u001b[?2026l\u001b[?2026h\u001b[?25l\u001b[A\u001b[1G\u001b[?25h\u001b[?2026l\u001b[?2026h\u001b[?25l\u001b[A\u001b[1G\u001b[?25h\u001b[?2026l\u001b[?2026h\u001b[?25l\u001b[A\u001b[1G\u001b[?25h\u001b[?2026l\u001b[?2026h\u001b[?25l\u001b[A\u001b[1G\u001b[?25h\u001b[?2026l\u001b[?2026h\u001b[?25l\u001b[A\u001b[1G\u001b[?25h\u001b[?2026l\u001b[?2026h\u001b[?25l\u001b[A\u001b[1G\u001b[?25h\u001b[?2026l\u001b[?2026h\u001b[?25l\u001b[A\u001b[1G\u001b[?25h\u001b[?2026l\u001b[?2026h\u001b[?25l\u001b[A\u001b[1G\u001b[?25h\u001b[?2026l\u001b[?2026h\u001b[?25l\u001b[A\u001b[1G\u001b[?25h\u001b[?2026l\u001b[?2026h\u001b[?25l\u001b[A\u001b[1G\u001b[?25h\u001b[?2026l\u001b[?2026h\u001b[?25l\u001b[A\u001b[1G\u001b[?25h\u001b[?2026l\u001b[?2026h\u001b[?25l\u001b[A\u001b[1G\u001b[?25h\u001b[?2026l\u001b[?2026h\u001b[?25l\u001b[A\u001b[1G\u001b[?25h\u001b[?2026l\u001b[?2026h\u001b[?25l\u001b[A\u001b[1G\u001b[?25h\u001b[?2026l\u001b[?2026h\u001b[?25l\u001b[A\u001b[A\u001b[1G\u001b[?25h\u001b[?2026l\u001b[?2026h\u001b[?25l\u001b[A\u001b[A\u001b[1G\u001b[?25h\u001b[?2026l\u001b[?2026h\u001b[?25l\u001b[A\u001b[A\u001b[1G\u001b[?25h\u001b[?2026l\u001b[?2026h\u001b[?25l\u001b[A\u001b[A\u001b[1G\u001b[?25h\u001b[?2026l\u001b[?2026h\u001b[?25l\u001b[A\u001b[A\u001b[1G\u001b[?25h\u001b[?2026l\u001b[?2026h\u001b[?25l\u001b[A\u001b[A\u001b[1G\u001b[?25h\u001b[?2026l\u001b[?2026h\u001b[?25l\u001b[A\u001b[A\u001b[1G\u001b[?25h\u001b[?2026l\u001b[?2026h\u001b[?25l\u001b[A\u001b[A\u001b[1G\u001b[?25h\u001b[?2026l\u001b[?2026h\u001b[?25l\u001b[A\u001b[A\u001b[1G\u001b[?25h\u001b[?2026l\u001b[?2026h\u001b[?25l\u001b[A\u001b[A\u001b[1G\u001b[?25h\u001b[?2026l\u001b[?2026h\u001b[?25l\u001b[A\u001b[A\u001b[1G\u001b[?25h\u001b[?2026l\u001b[?2026h\u001b[?25l\u001b[A\u001b[A\u001b[1G\u001b[?25h\u001b[?2026l\u001b[?2026h\u001b[?25l\u001b[A\u001b[A\u001b[A\u001b[1G\u001b[?25h\u001b[?2026l\u001b[?2026h\u001b[?25l\u001b[A\u001b[A\u001b[A\u001b[1G\u001b[?25h\u001b[?2026l\u001b[?2026h\u001b[?25l\u001b[A\u001b[A\u001b[A\u001b[1G\u001b[?25h\u001b[?2026l\u001b[?2026h\u001b[?25l\u001b[A\u001b[A\u001b[A\u001b[1G\u001b[?25h\u001b[?2026l\u001b[?2026h\u001b[?25l\u001b[A\u001b[A\u001b[A\u001b[1G\u001b[?25h\u001b[?2026l\u001b[?2026h\u001b[?25l\u001b[A\u001b[A\u001b[A\u001b[1G\u001b[?25h\u001b[?2026l\u001b[?2026h\u001b[?25l\u001b[A\u001b[A\u001b[A\u001b[1G\u001b[?25h\u001b[?2026l\u001b[?2026h\u001b[?25l\u001b[A\u001b[A\u001b[A\u001b[1G\u001b[?25h\u001b[?2026l\u001b[?2026h\u001b[?25l\u001b[A\u001b[A\u001b[A\u001b[1G\u001b[?25h\u001b[?2026l\u001b[?2026h\u001b[?25l\u001b[A\u001b[A\u001b[A\u001b[1G\u001b[?25h\u001b[?2026l\u001b[?2026h\u001b[?25l\u001b[A\u001b[A\u001b[A\u001b[1G\u001b[?25h\u001b[?2026l\u001b[?2026h\u001b[?25l\u001b[A\u001b[A\u001b[A\u001b[1G\u001b[?25h\u001b[?2026l\u001b[?2026h\u001b[?25l\u001b[A\u001b[A\u001b[A\u001b[A\u001b[1G\u001b[?25h\u001b[?2026l\u001b[?2026h\u001b[?25l\u001b[A\u001b[A\u001b[A\u001b[A\u001b[1G\u001b[?25h\u001b[?2026l\u001b[?2026h\u001b[?25l\u001b[A\u001b[A\u001b[A\u001b[A\u001b[1G\u001b[?25h\u001b[?2026l\u001b[?2026h\u001b[?25l\u001b[A\u001b[A\u001b[A\u001b[A\u001b[1G\u001b[?25h\u001b[?2026l\u001b[?2026h\u001b[?25l\u001b[A\u001b[A\u001b[A\u001b[A\u001b[1G\u001b[?25h\u001b[?2026l\u001b[?2026h\u001b[?25l\u001b[A\u001b[A\u001b[A\u001b[A\u001b[1G\u001b[?25h\u001b[?2026l\u001b[?2026h\u001b[?25l\u001b[A\u001b[A\u001b[A\u001b[A\u001b[1G\u001b[?25h\u001b[?2026l\u001b[?2026h\u001b[?25l\u001b[A\u001b[A\u001b[A\u001b[A\u001b[1G\u001b[?25h\u001b[?2026l\u001b[?2026h\u001b[?25l\u001b[A\u001b[A\u001b[A\u001b[A\u001b[1G\u001b[?25h\u001b[?2026l\u001b[?2026h\u001b[?25l\u001b[A\u001b[A\u001b[A\u001b[A\u001b[1G\u001b[?25h\u001b[?2026l\u001b[?2026h\u001b[?25l\u001b[A\u001b[A\u001b[A\u001b[A\u001b[1G\u001b[?25h\u001b[?2026l\u001b[?2026h\u001b[?25l\u001b[A\u001b[A\u001b[A\u001b[A\u001b[1G\u001b[?25h\u001b[?2026l\u001b[?2026h\u001b[?25l\u001b[A\u001b[A\u001b[A\u001b[A\u001b[A\u001b[1G\u001b[?25h\u001b[?2026l\u001b[?2026h\u001b[?25l\u001b[A\u001b[A\u001b[A\u001b[A\u001b[A\u001b[1G\u001b[?25h\u001b[?2026l\u001b[?2026h\u001b[?25l\u001b[A\u001b[A\u001b[A\u001b[A\u001b[A\u001b[1G\u001b[?25h\u001b[?2026l\u001b[?2026h\u001b[?25l\u001b[A\u001b[A\u001b[A\u001b[A\u001b[A\u001b[1G\u001b[?25h\u001b[?2026l\u001b[?2026h\u001b[?25l\u001b[A\u001b[A\u001b[A\u001b[A\u001b[A\u001b[1G\u001b[?25h\u001b[?2026l\u001b[?2026h\u001b[?25l\u001b[A\u001b[A\u001b[A\u001b[A\u001b[A\u001b[1G\u001b[?25h\u001b[?2026l\u001b[?2026h\u001b[?25l\u001b[A\u001b[A\u001b[A\u001b[A\u001b[A\u001b[1G\u001b[?25h\u001b[?2026l\u001b[?2026h\u001b[?25l\u001b[A\u001b[A\u001b[A\u001b[A\u001b[A\u001b[1G\u001b[?25h\u001b[?2026l\u001b[?2026h\u001b[?25l\u001b[A\u001b[A\u001b[A\u001b[A\u001b[A\u001b[1G\u001b[?25h\u001b[?2026l\u001b[?2026h\u001b[?25l\u001b[A\u001b[A\u001b[A\u001b[A\u001b[A\u001b[1G\u001b[?25h\u001b[?2026l\u001b[?2026h\u001b[?25l\u001b[A\u001b[A\u001b[A\u001b[A\u001b[A\u001b[1G\u001b[?25h\u001b[?2026l\u001b[?2026h\u001b[?25l\u001b[A\u001b[A\u001b[A\u001b[A\u001b[A\u001b[1G\u001b[?25h\u001b[?2026l\u001b[?2026h\u001b[?25l\u001b[A\u001b[A\u001b[A\u001b[A\u001b[A\u001b[1G\u001b[?25h\u001b[?2026l\u001b[?2026h\u001b[?25l\u001b[A\u001b[A\u001b[A\u001b[A\u001b[A\u001b[A\u001b[1G\u001b[?25h\u001b[?2026l\u001b[?2026h\u001b[?25l\u001b[A\u001b[A\u001b[A\u001b[A\u001b[A\u001b[A\u001b[1G\u001b[?25h\u001b[?2026l\u001b[?2026h\u001b[?25l\u001b[A\u001b[A\u001b[A\u001b[A\u001b[A\u001b[A\u001b[1G\u001b[?25h\u001b[?2026l\u001b[?2026h\u001b[?25l\u001b[A\u001b[A\u001b[A\u001b[A\u001b[A\u001b[A\u001b[1G\u001b[?25h\u001b[?2026l\u001b[?2026h\u001b[?25l\u001b[A\u001b[A\u001b[A\u001b[A\u001b[A\u001b[A\u001b[1G\u001b[?25h\u001b[?2026l\u001b[?2026h\u001b[?25l\u001b[A\u001b[A\u001b[A\u001b[A\u001b[A\u001b[A\u001b[1G\u001b[?25h\u001b[?2026l\u001b[?2026h\u001b[?25l\u001b[A\u001b[A\u001b[A\u001b[A\u001b[A\u001b[A\u001b[1G\u001b[?25h\u001b[?2026l\u001b[?2026h\u001b[?25l\u001b[A\u001b[A\u001b[A\u001b[A\u001b[A\u001b[A\u001b[1G\u001b[?25h\u001b[?2026l\u001b[?2026h\u001b[?25l\u001b[A\u001b[A\u001b[A\u001b[A\u001b[A\u001b[A\u001b[A\u001b[1G\u001b[?25h\u001b[?2026l\u001b[?2026h\u001b[?25l\u001b[A\u001b[A\u001b[A\u001b[A\u001b[A\u001b[A\u001b[A\u001b[1G\u001b[?25h\u001b[?2026l\u001b[?2026h\u001b[?25l\u001b[A\u001b[A\u001b[A\u001b[A\u001b[A\u001b[A\u001b[A\u001b[1G\u001b[?25h\u001b[?2026l\u001b[?2026h\u001b[?25l\u001b[A\u001b[A\u001b[A\u001b[A\u001b[A\u001b[A\u001b[A\u001b[1G\u001b[?25h\u001b[?2026l\u001b[?2026h\u001b[?25l\u001b[A\u001b[A\u001b[A\u001b[A\u001b[A\u001b[A\u001b[A\u001b[1G\u001b[?25h\u001b[?2026l\u001b[?2026h\u001b[?25l\u001b[A\u001b[A\u001b[A\u001b[A\u001b[A\u001b[A\u001b[A\u001b[1G\u001b[?25h\u001b[?2026l\u001b[?2026h\u001b[?25l\u001b[A\u001b[A\u001b[A\u001b[A\u001b[A\u001b[A\u001b[A\u001b[1G\u001b[?25h\u001b[?2026l\u001b[?2026h\u001b[?25l\u001b[A\u001b[A\u001b[A\u001b[A\u001b[A\u001b[A\u001b[A\u001b[1G\u001b[?25h\u001b[?2026l\u001b[?2026h\u001b[?25l\u001b[A\u001b[A\u001b[A\u001b[A\u001b[A\u001b[A\u001b[A\u001b[1G\u001b[?25h\u001b[?2026l\u001b[?2026h\u001b[?25l\u001b[A\u001b[A\u001b[A\u001b[A\u001b[A\u001b[A\u001b[A\u001b[1G\u001b[?25h\u001b[?2026l\u001b[?2026h\u001b[?25l\u001b[A\u001b[A\u001b[A\u001b[A\u001b[A\u001b[A\u001b[A\u001b[1G\u001b[?25h\u001b[?2026l\u001b[?2026h\u001b[?25l\u001b[A\u001b[A\u001b[A\u001b[A\u001b[A\u001b[A\u001b[A\u001b[1G\u001b[?25h\u001b[?2026l\u001b[?2026h\u001b[?25l\u001b[A\u001b[A\u001b[A\u001b[A\u001b[A\u001b[A\u001b[A\u001b[1G\u001b[?25h\u001b[?2026l\u001b[?2026h\u001b[?25l\u001b[A\u001b[A\u001b[A\u001b[A\u001b[A\u001b[A\u001b[A\u001b[1G\u001b[?25h\u001b[?2026l\u001b[?2026h\u001b[?25l\u001b[A\u001b[A\u001b[A\u001b[A\u001b[A\u001b[A\u001b[A\u001b[1G\u001b[?25h\u001b[?2026l\u001b[?2026h\u001b[?25l\u001b[A\u001b[A\u001b[A\u001b[A\u001b[A\u001b[A\u001b[A\u001b[1G\u001b[?25h\u001b[?2026l\u001b[?2026h\u001b[?25l\u001b[A\u001b[A\u001b[A\u001b[A\u001b[A\u001b[A\u001b[A\u001b[1G\u001b[?25h\u001b[?2026l\u001b[?2026h\u001b[?25l\u001b[A\u001b[A\u001b[A\u001b[A\u001b[A\u001b[A\u001b[A\u001b[1G\u001b[?25h\u001b[?2026l\u001b[?2026h\u001b[?25l\u001b[A\u001b[A\u001b[A\u001b[A\u001b[A\u001b[A\u001b[A\u001b[1G\u001b[?25h\u001b[?2026l\u001b[?2026h\u001b[?25l\u001b[A\u001b[A\u001b[A\u001b[A\u001b[A\u001b[A\u001b[A\u001b[1G\u001b[?25h\u001b[?2026l\u001b[?2026h\u001b[?25l\u001b[A\u001b[A\u001b[A\u001b[A\u001b[A\u001b[A\u001b[A\u001b[1G\u001b[?25h\u001b[?2026l\u001b[?2026h\u001b[?25l\u001b[A\u001b[A\u001b[A\u001b[A\u001b[A\u001b[A\u001b[A\u001b[1G\u001b[?25h\u001b[?2026l\u001b[?2026h\u001b[?25l\u001b[A\u001b[A\u001b[A\u001b[A\u001b[A\u001b[A\u001b[A\u001b[1G\u001b[?25h\u001b[?2026l\u001b[?2026h\u001b[?25l\u001b[A\u001b[A\u001b[A\u001b[A\u001b[A\u001b[A\u001b[A\u001b[1G\u001b[?25h\u001b[?2026l\u001b[?2026h\u001b[?25l\u001b[A\u001b[A\u001b[A\u001b[A\u001b[A\u001b[A\u001b[A\u001b[1G\u001b[?25h\u001b[?2026l\u001b[?2026h\u001b[?25l\u001b[A\u001b[A\u001b[A\u001b[A\u001b[A\u001b[A\u001b[A\u001b[1G\u001b[?25h\u001b[?2026l\u001b[?2026h\u001b[?25l\u001b[A\u001b[A\u001b[A\u001b[A\u001b[A\u001b[A\u001b[A\u001b[1G\u001b[?25h\u001b[?2026l\u001b[?2026h\u001b[?25l\u001b[A\u001b[A\u001b[A\u001b[A\u001b[A\u001b[A\u001b[A\u001b[1G\u001b[?25h\u001b[?2026l\u001b[?2026h\u001b[?25l\u001b[A\u001b[A\u001b[A\u001b[A\u001b[A\u001b[A\u001b[A\u001b[1G\u001b[?25h\u001b[?2026l\u001b[?2026h\u001b[?25l\u001b[A\u001b[A\u001b[A\u001b[A\u001b[A\u001b[A\u001b[A\u001b[1G\u001b[?25h\u001b[?2026l\u001b[?2026h\u001b[?25l\u001b[A\u001b[A\u001b[A\u001b[A\u001b[A\u001b[A\u001b[A\u001b[1G\u001b[?25h\u001b[?2026l\u001b[?2026h\u001b[?25l\u001b[A\u001b[A\u001b[A\u001b[A\u001b[A\u001b[A\u001b[A\u001b[1G\u001b[?25h\u001b[?2026l\u001b[?2026h\u001b[?25l\u001b[A\u001b[A\u001b[A\u001b[A\u001b[A\u001b[A\u001b[A\u001b[1G\u001b[?25h\u001b[?2026l\u001b[?2026h\u001b[?25l\u001b[A\u001b[A\u001b[A\u001b[A\u001b[A\u001b[A\u001b[A\u001b[1G\u001b[?25h\u001b[?2026l\u001b[?2026h\u001b[?25l\u001b[A\u001b[A\u001b[A\u001b[A\u001b[A\u001b[A\u001b[A\u001b[1G\u001b[?25h\u001b[?2026l\u001b[?2026h\u001b[?25l\u001b[A\u001b[A\u001b[A\u001b[A\u001b[A\u001b[A\u001b[A\u001b[1G\u001b[?25h\u001b[?2026l\u001b[?2026h\u001b[?25l\u001b[A\u001b[A\u001b[A\u001b[A\u001b[A\u001b[A\u001b[A\u001b[1G\u001b[?25h\u001b[?2026l\u001b[?2026h\u001b[?25l\u001b[A\u001b[A\u001b[A\u001b[A\u001b[A\u001b[A\u001b[A\u001b[1G\u001b[?25h\u001b[?2026l\u001b[?2026h\u001b[?25l\u001b[A\u001b[A\u001b[A\u001b[A\u001b[A\u001b[A\u001b[A\u001b[1G\u001b[?25h\u001b[?2026l\u001b[?2026h\u001b[?25l\u001b[A\u001b[A\u001b[A\u001b[A\u001b[A\u001b[A\u001b[A\u001b[1G\u001b[?25h\u001b[?2026l\u001b[?2026h\u001b[?25l\u001b[A\u001b[A\u001b[A\u001b[A\u001b[A\u001b[A\u001b[A\u001b[1G\u001b[?25h\u001b[?2026l\u001b[?2026h\u001b[?25l\u001b[A\u001b[A\u001b[A\u001b[A\u001b[A\u001b[A\u001b[A\u001b[1G\u001b[?25h\u001b[?2026l\u001b[?2026h\u001b[?25l\u001b[A\u001b[A\u001b[A\u001b[A\u001b[A\u001b[A\u001b[A\u001b[1G\u001b[?25h\u001b[?2026l\u001b[?2026h\u001b[?25l\u001b[A\u001b[A\u001b[A\u001b[A\u001b[A\u001b[A\u001b[A\u001b[1G\u001b[?25h\u001b[?2026l\u001b[?2026h\u001b[?25l\u001b[A\u001b[A\u001b[A\u001b[A\u001b[A\u001b[A\u001b[A\u001b[1G\u001b[?25h\u001b[?2026l\u001b[?2026h\u001b[?25l\u001b[A\u001b[A\u001b[A\u001b[A\u001b[A\u001b[A\u001b[A\u001b[1G\u001b[?25h\u001b[?2026l\u001b[?2026h\u001b[?25l\u001b[A\u001b[A\u001b[A\u001b[A\u001b[A\u001b[A\u001b[A\u001b[1G\u001b[?25h\u001b[?2026l\u001b[?2026h\u001b[?25l\u001b[A\u001b[A\u001b[A\u001b[A\u001b[A\u001b[A\u001b[A\u001b[1G\u001b[?25h\u001b[?2026l\u001b[?2026h\u001b[?25l\u001b[A\u001b[A\u001b[A\u001b[A\u001b[A\u001b[A\u001b[A\u001b[1G\u001b[?25h\u001b[?2026l\u001b[?2026h\u001b[?25l\u001b[A\u001b[A\u001b[A\u001b[A\u001b[A\u001b[A\u001b[A\u001b[1G\u001b[?25h\u001b[?2026l\u001b[?2026h\u001b[?25l\u001b[A\u001b[A\u001b[A\u001b[A\u001b[A\u001b[A\u001b[A\u001b[1G\u001b[?25h\u001b[?2026l\u001b[?2026h\u001b[?25l\u001b[A\u001b[A\u001b[A\u001b[A\u001b[A\u001b[A\u001b[A\u001b[1G\u001b[?25h\u001b[?2026l\u001b[?2026h\u001b[?25l\u001b[A\u001b[A\u001b[A\u001b[A\u001b[A\u001b[A\u001b[A\u001b[1G\u001b[?25h\u001b[?2026l\u001b[?2026h\u001b[?25l\u001b[A\u001b[A\u001b[A\u001b[A\u001b[A\u001b[A\u001b[A\u001b[1G\u001b[?25h\u001b[?2026l\u001b[?2026h\u001b[?25l\u001b[A\u001b[A\u001b[A\u001b[A\u001b[A\u001b[A\u001b[A\u001b[1G\u001b[?25h\u001b[?2026l\u001b[?2026h\u001b[?25l\u001b[A\u001b[A\u001b[A\u001b[A\u001b[A\u001b[A\u001b[A\u001b[1G\u001b[?25h\u001b[?2026l\u001b[?2026h\u001b[?25l\u001b[A\u001b[A\u001b[A\u001b[A\u001b[A\u001b[A\u001b[A\u001b[1G\u001b[?25h\u001b[?2026l\u001b[?2026h\u001b[?25l\u001b[A\u001b[A\u001b[A\u001b[A\u001b[A\u001b[A\u001b[A\u001b[1G\u001b[?25h\u001b[?2026l\u001b[?2026h\u001b[?25l\u001b[A\u001b[A\u001b[A\u001b[A\u001b[A\u001b[A\u001b[A\u001b[1G\u001b[?25h\u001b[?2026l\u001b[?2026h\u001b[?25l\u001b[A\u001b[A\u001b[A\u001b[A\u001b[A\u001b[A\u001b[A\u001b[1G\u001b[?25h\u001b[?2026l\u001b[?2026h\u001b[?25l\u001b[A\u001b[A\u001b[A\u001b[A\u001b[A\u001b[A\u001b[A\u001b[1G\u001b[?25h\u001b[?2026l\u001b[?2026h\u001b[?25l\u001b[A\u001b[A\u001b[A\u001b[A\u001b[A\u001b[A\u001b[A\u001b[1G\u001b[?25h\u001b[?2026l\u001b[?2026h\u001b[?25l\u001b[A\u001b[A\u001b[A\u001b[A\u001b[A\u001b[A\u001b[A\u001b[1G\u001b[?25h\u001b[?2026l\u001b[?2026h\u001b[?25l\u001b[A\u001b[A\u001b[A\u001b[A\u001b[A\u001b[A\u001b[A\u001b[1G\u001b[?25h\u001b[?2026l\u001b[?2026h\u001b[?25l\u001b[A\u001b[A\u001b[A\u001b[A\u001b[A\u001b[A\u001b[A\u001b[1G\u001b[?25h\u001b[?2026l\u001b[?2026h\u001b[?25l\u001b[A\u001b[A\u001b[A\u001b[A\u001b[A\u001b[A\u001b[A\u001b[1G\u001b[?25h\u001b[?2026l\u001b[?2026h\u001b[?25l\u001b[A\u001b[A\u001b[A\u001b[A\u001b[A\u001b[A\u001b[A\u001b[1G\u001b[?25h\u001b[?2026l\u001b[?2026h\u001b[?25l\u001b[A\u001b[A\u001b[A\u001b[A\u001b[A\u001b[A\u001b[A\u001b[1G\u001b[?25h\u001b[?2026l\u001b[?2026h\u001b[?25l\u001b[A\u001b[A\u001b[A\u001b[A\u001b[A\u001b[A\u001b[A\u001b[1G\u001b[?25h\u001b[?2026l\u001b[?2026h\u001b[?25l\u001b[A\u001b[A\u001b[A\u001b[A\u001b[A\u001b[A\u001b[A\u001b[1G\u001b[?25h\u001b[?2026l\u001b[?2026h\u001b[?25l\u001b[A\u001b[A\u001b[A\u001b[A\u001b[A\u001b[A\u001b[A\u001b[1G\u001b[?25h\u001b[?2026l\u001b[?2026h\u001b[?25l\u001b[A\u001b[A\u001b[A\u001b[A\u001b[A\u001b[A\u001b[A\u001b[1G\u001b[?25h\u001b[?2026l\u001b[?2026h\u001b[?25l\u001b[A\u001b[A\u001b[A\u001b[A\u001b[A\u001b[A\u001b[A\u001b[1G\u001b[?25h\u001b[?2026l\u001b[?2026h\u001b[?25l\u001b[A\u001b[A\u001b[A\u001b[A\u001b[A\u001b[A\u001b[A\u001b[1G\u001b[?25h\u001b[?2026l\u001b[?2026h\u001b[?25l\u001b[A\u001b[A\u001b[A\u001b[A\u001b[A\u001b[A\u001b[A\u001b[1G\u001b[?25h\u001b[?2026l\u001b[?2026h\u001b[?25l\u001b[A\u001b[A\u001b[A\u001b[A\u001b[A\u001b[A\u001b[A\u001b[1G\u001b[?25h\u001b[?2026l\u001b[?2026h\u001b[?25l\u001b[A\u001b[A\u001b[A\u001b[A\u001b[A\u001b[A\u001b[A\u001b[1G\u001b[?25h\u001b[?2026l\u001b[?2026h\u001b[?25l\u001b[A\u001b[A\u001b[A\u001b[A\u001b[A\u001b[A\u001b[A\u001b[1G\u001b[?25h\u001b[?2026l\u001b[?2026h\u001b[?25l\u001b[A\u001b[A\u001b[A\u001b[A\u001b[A\u001b[A\u001b[A\u001b[1G\u001b[?25h\u001b[?2026l\u001b[?2026h\u001b[?25l\u001b[A\u001b[A\u001b[A\u001b[A\u001b[A\u001b[A\u001b[A\u001b[1G\u001b[?25h\u001b[?2026l\u001b[?2026h\u001b[?25l\u001b[A\u001b[A\u001b[A\u001b[A\u001b[A\u001b[A\u001b[A\u001b[1G\u001b[?25h\u001b[?2026l\u001b[?2026h\u001b[?25l\u001b[A\u001b[A\u001b[A\u001b[A\u001b[A\u001b[A\u001b[A\u001b[1G\u001b[?25h\u001b[?2026l\u001b[?2026h\u001b[?25l\u001b[A\u001b[A\u001b[A\u001b[A\u001b[A\u001b[A\u001b[A\u001b[1G\u001b[?25h\u001b[?2026l\u001b[?2026h\u001b[?25l\u001b[A\u001b[A\u001b[A\u001b[A\u001b[A\u001b[A\u001b[A\u001b[1G\u001b[?25h\u001b[?2026l\u001b[?2026h\u001b[?25l\u001b[A\u001b[A\u001b[A\u001b[A\u001b[A\u001b[A\u001b[A\u001b[1G\u001b[?25h\u001b[?2026l\u001b[?2026h\u001b[?25l\u001b[A\u001b[A\u001b[A\u001b[A\u001b[A\u001b[A\u001b[A\u001b[1G\u001b[?25h\u001b[?2026l\u001b[?2026h\u001b[?25l\u001b[A\u001b[A\u001b[A\u001b[A\u001b[A\u001b[A\u001b[A\u001b[1G\u001b[?25h\u001b[?2026l\u001b[?2026h\u001b[?25l\u001b[A\u001b[A\u001b[A\u001b[A\u001b[A\u001b[A\u001b[A\u001b[1G\u001b[?25h\u001b[?2026l\u001b[?2026h\u001b[?25l\u001b[A\u001b[A\u001b[A\u001b[A\u001b[A\u001b[A\u001b[A\u001b[1G\u001b[?25h\u001b[?2026l\u001b[?2026h\u001b[?25l\u001b[A\u001b[A\u001b[A\u001b[A\u001b[A\u001b[A\u001b[A\u001b[1G\u001b[?25h\u001b[?2026l\u001b[?2026h\u001b[?25l\u001b[A\u001b[A\u001b[A\u001b[A\u001b[A\u001b[A\u001b[A\u001b[1G\u001b[?25h\u001b[?2026l\u001b[?2026h\u001b[?25l\u001b[A\u001b[A\u001b[A\u001b[A\u001b[A\u001b[A\u001b[A\u001b[1G\u001b[?25h\u001b[?2026l\u001b[?2026h\u001b[?25l\u001b[A\u001b[A\u001b[A\u001b[A\u001b[A\u001b[A\u001b[A\u001b[1G\u001b[?25h\u001b[?2026l\u001b[?2026h\u001b[?25l\u001b[A\u001b[A\u001b[A\u001b[A\u001b[A\u001b[A\u001b[A\u001b[1G\u001b[?25h\u001b[?2026l\u001b[?2026h\u001b[?25l\u001b[A\u001b[A\u001b[A\u001b[A\u001b[A\u001b[A\u001b[A\u001b[1G\u001b[?25h\u001b[?2026l\u001b[?2026h\u001b[?25l\u001b[A\u001b[A\u001b[A\u001b[A\u001b[A\u001b[A\u001b[A\u001b[1G\u001b[?25h\u001b[?2026l\u001b[?2026h\u001b[?25l\u001b[A\u001b[A\u001b[A\u001b[A\u001b[A\u001b[A\u001b[A\u001b[1G\u001b[?25h\u001b[?2026l\u001b[?2026h\u001b[?25l\u001b[A\u001b[A\u001b[A\u001b[A\u001b[A\u001b[A\u001b[A\u001b[1G\u001b[?25h\u001b[?2026l\u001b[?2026h\u001b[?25l\u001b[A\u001b[A\u001b[A\u001b[A\u001b[A\u001b[A\u001b[A\u001b[1G\u001b[?25h\u001b[?2026l\u001b[?2026h\u001b[?25l\u001b[A\u001b[A\u001b[A\u001b[A\u001b[A\u001b[A\u001b[A\u001b[1G\u001b[?25h\u001b[?2026l\u001b[?2026h\u001b[?25l\u001b[A\u001b[A\u001b[A\u001b[A\u001b[A\u001b[A\u001b[A\u001b[1G\u001b[?25h\u001b[?2026l\u001b[?2026h\u001b[?25l\u001b[A\u001b[A\u001b[A\u001b[A\u001b[A\u001b[A\u001b[A\u001b[1G\u001b[?25h\u001b[?2026l\u001b[?2026h\u001b[?25l\u001b[A\u001b[A\u001b[A\u001b[A\u001b[A\u001b[A\u001b[A\u001b[1G\u001b[?25h\u001b[?2026l\u001b[?2026h\u001b[?25l\u001b[A\u001b[A\u001b[A\u001b[A\u001b[A\u001b[A\u001b[A\u001b[1G\u001b[?25h\u001b[?2026l\u001b[?2026h\u001b[?25l\u001b[A\u001b[A\u001b[A\u001b[A\u001b[A\u001b[A\u001b[A\u001b[1G\u001b[?25h\u001b[?2026l\u001b[?2026h\u001b[?25l\u001b[A\u001b[A\u001b[A\u001b[A\u001b[A\u001b[A\u001b[A\u001b[1G\u001b[?25h\u001b[?2026l\u001b[?2026h\u001b[?25l\u001b[A\u001b[A\u001b[A\u001b[A\u001b[A\u001b[A\u001b[A\u001b[1G\u001b[?25h\u001b[?2026l\u001b[?2026h\u001b[?25l\u001b[A\u001b[A\u001b[A\u001b[A\u001b[A\u001b[A\u001b[A\u001b[1G\u001b[?25h\u001b[?2026l\u001b[?2026h\u001b[?25l\u001b[A\u001b[A\u001b[A\u001b[A\u001b[A\u001b[A\u001b[A\u001b[1G\u001b[?25h\u001b[?2026l\u001b[?2026h\u001b[?25l\u001b[A\u001b[A\u001b[A\u001b[A\u001b[A\u001b[A\u001b[A\u001b[1G\u001b[?25h\u001b[?2026l\u001b[?2026h\u001b[?25l\u001b[A\u001b[A\u001b[A\u001b[A\u001b[A\u001b[A\u001b[A\u001b[1G\u001b[?25h\u001b[?2026l\u001b[?2026h\u001b[?25l\u001b[A\u001b[A\u001b[A\u001b[A\u001b[A\u001b[A\u001b[A\u001b[1G\u001b[?25h\u001b[?2026l\u001b[?2026h\u001b[?25l\u001b[A\u001b[A\u001b[A\u001b[A\u001b[A\u001b[A\u001b[A\u001b[1G\u001b[?25h\u001b[?2026l\u001b[?2026h\u001b[?25l\u001b[A\u001b[A\u001b[A\u001b[A\u001b[A\u001b[A\u001b[A\u001b[1G\u001b[?25h\u001b[?2026l\u001b[?2026h\u001b[?25l\u001b[A\u001b[A\u001b[A\u001b[A\u001b[A\u001b[A\u001b[A\u001b[1G\u001b[?25h\u001b[?2026l\u001b[?2026h\u001b[?25l\u001b[A\u001b[A\u001b[A\u001b[A\u001b[A\u001b[A\u001b[A\u001b[1G\u001b[?25h\u001b[?2026l\u001b[?2026h\u001b[?25l\u001b[A\u001b[A\u001b[A\u001b[A\u001b[A\u001b[A\u001b[A\u001b[1G\u001b[?25h\u001b[?2026l\u001b[?2026h\u001b[?25l\u001b[A\u001b[A\u001b[A\u001b[A\u001b[A\u001b[A\u001b[A\u001b[1G\u001b[?25h\u001b[?2026l\u001b[?2026h\u001b[?25l\u001b[A\u001b[A\u001b[A\u001b[A\u001b[A\u001b[A\u001b[A\u001b[1G\u001b[?25h\u001b[?2026l\u001b[?2026h\u001b[?25l\u001b[A\u001b[A\u001b[A\u001b[A\u001b[A\u001b[A\u001b[A\u001b[1G\u001b[?25h\u001b[?2026l\u001b[?2026h\u001b[?25l\u001b[A\u001b[A\u001b[A\u001b[A\u001b[A\u001b[A\u001b[A\u001b[1G\u001b[?25h\u001b[?2026l\u001b[?2026h\u001b[?25l\u001b[A\u001b[A\u001b[A\u001b[A\u001b[A\u001b[A\u001b[A\u001b[1G\u001b[?25h\u001b[?2026l\u001b[?2026h\u001b[?25l\u001b[A\u001b[A\u001b[A\u001b[A\u001b[A\u001b[A\u001b[A\u001b[1G\u001b[?25h\u001b[?2026l\u001b[?2026h\u001b[?25l\u001b[A\u001b[A\u001b[A\u001b[A\u001b[A\u001b[A\u001b[A\u001b[1G\u001b[?25h\u001b[?2026l\u001b[?2026h\u001b[?25l\u001b[A\u001b[A\u001b[A\u001b[A\u001b[A\u001b[A\u001b[A\u001b[1G\u001b[?25h\u001b[?2026l\u001b[?2026h\u001b[?25l\u001b[A\u001b[A\u001b[A\u001b[A\u001b[A\u001b[A\u001b[A\u001b[1G\u001b[?25h\u001b[?2026l\u001b[?2026h\u001b[?25l\u001b[A\u001b[A\u001b[A\u001b[A\u001b[A\u001b[A\u001b[A\u001b[1G\u001b[?25h\u001b[?2026l\u001b[?2026h\u001b[?25l\u001b[A\u001b[A\u001b[A\u001b[A\u001b[A\u001b[A\u001b[A\u001b[1G\u001b[?25h\u001b[?2026l\u001b[?2026h\u001b[?25l\u001b[A\u001b[A\u001b[A\u001b[A\u001b[A\u001b[A\u001b[A\u001b[1G\u001b[?25h\u001b[?2026l\u001b[?2026h\u001b[?25l\u001b[A\u001b[A\u001b[A\u001b[A\u001b[A\u001b[A\u001b[A\u001b[1G\u001b[?25h\u001b[?2026l\u001b[?2026h\u001b[?25l\u001b[A\u001b[A\u001b[A\u001b[A\u001b[A\u001b[A\u001b[A\u001b[1G\u001b[?25h\u001b[?2026l\u001b[?2026h\u001b[?25l\u001b[A\u001b[A\u001b[A\u001b[A\u001b[A\u001b[A\u001b[A\u001b[1G\u001b[?25h\u001b[?2026l\u001b[?2026h\u001b[?25l\u001b[A\u001b[A\u001b[A\u001b[A\u001b[A\u001b[A\u001b[A\u001b[1G\u001b[?25h\u001b[?2026l\u001b[?2026h\u001b[?25l\u001b[A\u001b[A\u001b[A\u001b[A\u001b[A\u001b[A\u001b[A\u001b[1G\u001b[?25h\u001b[?2026l\u001b[?2026h\u001b[?25l\u001b[A\u001b[A\u001b[A\u001b[A\u001b[A\u001b[A\u001b[A\u001b[1G\u001b[?25h\u001b[?2026l\u001b[?2026h\u001b[?25l\u001b[A\u001b[A\u001b[A\u001b[A\u001b[A\u001b[A\u001b[A\u001b[1G\u001b[?25h\u001b[?2026l\u001b[?2026h\u001b[?25l\u001b[A\u001b[A\u001b[A\u001b[A\u001b[A\u001b[A\u001b[A\u001b[1G\u001b[?25h\u001b[?2026l\u001b[?2026h\u001b[?25l\u001b[A\u001b[A\u001b[A\u001b[A\u001b[A\u001b[A\u001b[A\u001b[1G\u001b[?25h\u001b[?2026l\u001b[?2026h\u001b[?25l\u001b[A\u001b[A\u001b[A\u001b[A\u001b[A\u001b[A\u001b[A\u001b[1G\u001b[?25h\u001b[?2026l\u001b[?2026h\u001b[?25l\u001b[A\u001b[A\u001b[A\u001b[A\u001b[A\u001b[A\u001b[A\u001b[1G\u001b[?25h\u001b[?2026l\u001b[?2026h\u001b[?25l\u001b[A\u001b[A\u001b[A\u001b[A\u001b[A\u001b[A\u001b[A\u001b[1G\u001b[?25h\u001b[?2026l\u001b[?2026h\u001b[?25l\u001b[A\u001b[A\u001b[A\u001b[A\u001b[A\u001b[A\u001b[A\u001b[1G\u001b[?25h\u001b[?2026l\u001b[?2026h\u001b[?25l\u001b[A\u001b[A\u001b[A\u001b[A\u001b[A\u001b[A\u001b[A\u001b[1G\u001b[?25h\u001b[?2026l\u001b[?2026h\u001b[?25l\u001b[A\u001b[A\u001b[A\u001b[A\u001b[A\u001b[A\u001b[A\u001b[1G\u001b[?25h\u001b[?2026l\u001b[?2026h\u001b[?25l\u001b[A\u001b[A\u001b[A\u001b[A\u001b[A\u001b[A\u001b[A\u001b[1G\u001b[?25h\u001b[?2026l\u001b[?2026h\u001b[?25l\u001b[A\u001b[A\u001b[A\u001b[A\u001b[A\u001b[A\u001b[A\u001b[1G\u001b[?25h\u001b[?2026l\u001b[?2026h\u001b[?25l\u001b[A\u001b[A\u001b[A\u001b[A\u001b[A\u001b[A\u001b[A\u001b[1G\u001b[?25h\u001b[?2026l\u001b[?2026h\u001b[?25l\u001b[A\u001b[A\u001b[A\u001b[A\u001b[A\u001b[A\u001b[A\u001b[1G\u001b[?25h\u001b[?2026l\u001b[?2026h\u001b[?25l\u001b[A\u001b[A\u001b[A\u001b[A\u001b[A\u001b[A\u001b[A\u001b[1G\u001b[?25h\u001b[?2026l\u001b[?2026h\u001b[?25l\u001b[A\u001b[A\u001b[A\u001b[A\u001b[A\u001b[A\u001b[A\u001b[1G\u001b[?25h\u001b[?2026l\u001b[?2026h\u001b[?25l\u001b[A\u001b[A\u001b[A\u001b[A\u001b[A\u001b[A\u001b[A\u001b[1G\u001b[?25h\u001b[?2026l\u001b[?2026h\u001b[?25l\u001b[A\u001b[A\u001b[A\u001b[A\u001b[A\u001b[A\u001b[A\u001b[1G\u001b[?25h\u001b[?2026l\u001b[?2026h\u001b[?25l\u001b[A\u001b[A\u001b[A\u001b[A\u001b[A\u001b[A\u001b[A\u001b[1G\u001b[?25h\u001b[?2026l\u001b[?2026h\u001b[?25l\u001b[A\u001b[A\u001b[A\u001b[A\u001b[A\u001b[A\u001b[A\u001b[1G\u001b[?25h\u001b[?2026l\u001b[?2026h\u001b[?25l\u001b[A\u001b[A\u001b[A\u001b[A\u001b[A\u001b[A\u001b[A\u001b[1G\u001b[?25h\u001b[?2026l\u001b[?2026h\u001b[?25l\u001b[A\u001b[A\u001b[A\u001b[A\u001b[A\u001b[A\u001b[A\u001b[1G\u001b[?25h\u001b[?2026l\u001b[?2026h\u001b[?25l\u001b[A\u001b[A\u001b[A\u001b[A\u001b[A\u001b[A\u001b[A\u001b[1G\u001b[?25h\u001b[?2026l\u001b[?2026h\u001b[?25l\u001b[A\u001b[A\u001b[A\u001b[A\u001b[A\u001b[A\u001b[A\u001b[1G\u001b[?25h\u001b[?2026l\u001b[?2026h\u001b[?25l\u001b[A\u001b[A\u001b[A\u001b[A\u001b[A\u001b[A\u001b[A\u001b[1G\u001b[?25h\u001b[?2026l\u001b[?2026h\u001b[?25l\u001b[A\u001b[A\u001b[A\u001b[A\u001b[A\u001b[A\u001b[A\u001b[1G\u001b[?25h\u001b[?2026l\u001b[?2026h\u001b[?25l\u001b[A\u001b[A\u001b[A\u001b[A\u001b[A\u001b[A\u001b[A\u001b[1G\u001b[?25h\u001b[?2026l\u001b[?2026h\u001b[?25l\u001b[A\u001b[A\u001b[A\u001b[A\u001b[A\u001b[A\u001b[A\u001b[1G\u001b[?25h\u001b[?2026l\u001b[?2026h\u001b[?25l\u001b[A\u001b[A\u001b[A\u001b[A\u001b[A\u001b[A\u001b[A\u001b[1G\u001b[?25h\u001b[?2026l\u001b[?2026h\u001b[?25l\u001b[A\u001b[A\u001b[A\u001b[A\u001b[A\u001b[A\u001b[A\u001b[1G\u001b[?25h\u001b[?2026l\u001b[?2026h\u001b[?25l\u001b[A\u001b[A\u001b[A\u001b[A\u001b[A\u001b[A\u001b[A\u001b[1G\u001b[?25h\u001b[?2026l\u001b[?2026h\u001b[?25l\u001b[A\u001b[A\u001b[A\u001b[A\u001b[A\u001b[A\u001b[A\u001b[1G\u001b[?25h\u001b[?2026l\u001b[?2026h\u001b[?25l\u001b[A\u001b[A\u001b[A\u001b[A\u001b[A\u001b[A\u001b[A\u001b[1G\u001b[?25h\u001b[?2026l\u001b[?2026h\u001b[?25l\u001b[A\u001b[A\u001b[A\u001b[A\u001b[A\u001b[A\u001b[A\u001b[1G\u001b[?25h\u001b[?2026l\u001b[?2026h\u001b[?25l\u001b[A\u001b[A\u001b[A\u001b[A\u001b[A\u001b[A\u001b[A\u001b[1G\u001b[?25h\u001b[?2026l\u001b[?2026h\u001b[?25l\u001b[A\u001b[A\u001b[A\u001b[A\u001b[A\u001b[A\u001b[A\u001b[1G\u001b[?25h\u001b[?2026l\u001b[?2026h\u001b[?25l\u001b[A\u001b[A\u001b[A\u001b[A\u001b[A\u001b[A\u001b[A\u001b[1G\u001b[?25h\u001b[?2026l\u001b[?2026h\u001b[?25l\u001b[A\u001b[A\u001b[A\u001b[A\u001b[A\u001b[A\u001b[A\u001b[1G\u001b[?25h\u001b[?2026l\u001b[?2026h\u001b[?25l\u001b[A\u001b[A\u001b[A\u001b[A\u001b[A\u001b[A\u001b[A\u001b[1G\u001b[?25h\u001b[?2026l\u001b[?2026h\u001b[?25l\u001b[A\u001b[A\u001b[A\u001b[A\u001b[A\u001b[A\u001b[A\u001b[1G\u001b[?25h\u001b[?2026l\u001b[?2026h\u001b[?25l\u001b[A\u001b[A\u001b[A\u001b[A\u001b[A\u001b[A\u001b[A\u001b[1G\u001b[?25h\u001b[?2026l\u001b[?2026h\u001b[?25l\u001b[A\u001b[A\u001b[A\u001b[A\u001b[A\u001b[A\u001b[A\u001b[1G\u001b[?25h\u001b[?2026l\u001b[?2026h\u001b[?25l\u001b[A\u001b[A\u001b[A\u001b[A\u001b[A\u001b[A\u001b[A\u001b[1G\u001b[?25h\u001b[?2026l\u001b[?2026h\u001b[?25l\u001b[A\u001b[A\u001b[A\u001b[A\u001b[A\u001b[A\u001b[A\u001b[1G\u001b[?25h\u001b[?2026l\u001b[?2026h\u001b[?25l\u001b[A\u001b[A\u001b[A\u001b[A\u001b[A\u001b[A\u001b[A\u001b[1G\u001b[?25h\u001b[?2026l\u001b[?2026h\u001b[?25l\u001b[A\u001b[A\u001b[A\u001b[A\u001b[A\u001b[A\u001b[A\u001b[1G\u001b[?25h\u001b[?2026l\u001b[?2026h\u001b[?25l\u001b[A\u001b[A\u001b[A\u001b[A\u001b[A\u001b[A\u001b[A\u001b[1G\u001b[?25h\u001b[?2026l\u001b[?2026h\u001b[?25l\u001b[A\u001b[A\u001b[A\u001b[A\u001b[A\u001b[A\u001b[A\u001b[1G\u001b[?25h\u001b[?2026l\u001b[?2026h\u001b[?25l\u001b[A\u001b[A\u001b[A\u001b[A\u001b[A\u001b[A\u001b[A\u001b[1G\u001b[?25h\u001b[?2026l\u001b[?2026h\u001b[?25l\u001b[A\u001b[A\u001b[A\u001b[A\u001b[A\u001b[A\u001b[A\u001b[1G\u001b[?25h\u001b[?2026l\u001b[?2026h\u001b[?25l\u001b[A\u001b[A\u001b[A\u001b[A\u001b[A\u001b[A\u001b[A\u001b[1G\u001b[?25h\u001b[?2026l\u001b[?2026h\u001b[?25l\u001b[A\u001b[A\u001b[A\u001b[A\u001b[A\u001b[A\u001b[A\u001b[1G\u001b[?25h\u001b[?2026l\u001b[?2026h\u001b[?25l\u001b[A\u001b[A\u001b[A\u001b[A\u001b[A\u001b[A\u001b[A\u001b[1G\u001b[?25h\u001b[?2026l\u001b[?2026h\u001b[?25l\u001b[A\u001b[A\u001b[A\u001b[A\u001b[A\u001b[A\u001b[A\u001b[1G\u001b[?25h\u001b[?2026l\u001b[?2026h\u001b[?25l\u001b[A\u001b[A\u001b[A\u001b[A\u001b[A\u001b[A\u001b[A\u001b[1G\u001b[?25h\u001b[?2026l\u001b[?2026h\u001b[?25l\u001b[A\u001b[A\u001b[A\u001b[A\u001b[A\u001b[A\u001b[A\u001b[1G\u001b[?25h\u001b[?2026l\n"
          ]
        }
      ]
    },
    {
      "cell_type": "code",
      "source": [
        "%cd /content"
      ],
      "metadata": {
        "colab": {
          "base_uri": "https://localhost:8080/"
        },
        "id": "NUucs-Uno5yi",
        "outputId": "01ec9a0a-304e-4385-add5-f8b190f9b23f"
      },
      "execution_count": 15,
      "outputs": [
        {
          "output_type": "stream",
          "name": "stdout",
          "text": [
            "/content\n"
          ]
        }
      ]
    },
    {
      "cell_type": "code",
      "source": [
        "!pip install git+https://github.com/askbudi/tinyagent.git\n"
      ],
      "metadata": {
        "colab": {
          "base_uri": "https://localhost:8080/",
          "height": 1000
        },
        "id": "6r2S3gxft3qS",
        "outputId": "762fbc5f-1c40-4f0c-aed5-47d849ee8cd9"
      },
      "execution_count": 29,
      "outputs": [
        {
          "output_type": "stream",
          "name": "stdout",
          "text": [
            "Collecting git+https://github.com/askbudi/tinyagent.git\n",
            "  Cloning https://github.com/askbudi/tinyagent.git to /tmp/pip-req-build-yizj0nyk\n",
            "  Running command git clone --filter=blob:none --quiet https://github.com/askbudi/tinyagent.git /tmp/pip-req-build-yizj0nyk\n",
            "  Resolved https://github.com/askbudi/tinyagent.git to commit ae6b6732285a878f558f72b89224b627d90a592b\n",
            "  Installing build dependencies ... \u001b[?25l\u001b[?25hdone\n",
            "  Getting requirements to build wheel ... \u001b[?25l\u001b[?25hdone\n",
            "  Preparing metadata (pyproject.toml) ... \u001b[?25l\u001b[?25hdone\n",
            "Requirement already satisfied: mcp in /usr/local/lib/python3.11/dist-packages (from tinyagent-py==0.1.11) (1.12.4)\n",
            "Collecting litellm (from tinyagent-py==0.1.11)\n",
            "  Downloading litellm-1.75.5.post1-py3-none-any.whl.metadata (41 kB)\n",
            "\u001b[2K     \u001b[90m━━━━━━━━━━━━━━━━━━━━━━━━━━━━━━━━━━━━━━━━\u001b[0m \u001b[32m41.3/41.3 kB\u001b[0m \u001b[31m1.8 MB/s\u001b[0m eta \u001b[36m0:00:00\u001b[0m\n",
            "\u001b[?25hRequirement already satisfied: openai in /usr/local/lib/python3.11/dist-packages (from tinyagent-py==0.1.11) (1.99.1)\n",
            "Requirement already satisfied: tiktoken in /usr/local/lib/python3.11/dist-packages (from tinyagent-py==0.1.11) (0.10.0)\n",
            "Collecting uuid (from tinyagent-py==0.1.11)\n",
            "  Downloading uuid-1.30.tar.gz (5.8 kB)\n",
            "  Preparing metadata (setup.py) ... \u001b[?25l\u001b[?25hdone\n",
            "Requirement already satisfied: aiohttp>=3.10 in /usr/local/lib/python3.11/dist-packages (from litellm->tinyagent-py==0.1.11) (3.12.15)\n",
            "Requirement already satisfied: click in /usr/local/lib/python3.11/dist-packages (from litellm->tinyagent-py==0.1.11) (8.2.1)\n",
            "Requirement already satisfied: httpx>=0.23.0 in /usr/local/lib/python3.11/dist-packages (from litellm->tinyagent-py==0.1.11) (0.28.1)\n",
            "Requirement already satisfied: importlib-metadata>=6.8.0 in /usr/local/lib/python3.11/dist-packages (from litellm->tinyagent-py==0.1.11) (8.7.0)\n",
            "Requirement already satisfied: jinja2<4.0.0,>=3.1.2 in /usr/local/lib/python3.11/dist-packages (from litellm->tinyagent-py==0.1.11) (3.1.6)\n",
            "Requirement already satisfied: jsonschema<5.0.0,>=4.22.0 in /usr/local/lib/python3.11/dist-packages (from litellm->tinyagent-py==0.1.11) (4.25.0)\n",
            "Collecting openai (from tinyagent-py==0.1.11)\n",
            "  Downloading openai-1.99.7-py3-none-any.whl.metadata (29 kB)\n",
            "Requirement already satisfied: pydantic<3.0.0,>=2.5.0 in /usr/local/lib/python3.11/dist-packages (from litellm->tinyagent-py==0.1.11) (2.11.7)\n",
            "Requirement already satisfied: python-dotenv>=0.2.0 in /usr/local/lib/python3.11/dist-packages (from litellm->tinyagent-py==0.1.11) (1.1.1)\n",
            "Requirement already satisfied: tokenizers in /usr/local/lib/python3.11/dist-packages (from litellm->tinyagent-py==0.1.11) (0.21.4)\n",
            "Requirement already satisfied: anyio<5,>=3.5.0 in /usr/local/lib/python3.11/dist-packages (from openai->tinyagent-py==0.1.11) (4.10.0)\n",
            "Requirement already satisfied: distro<2,>=1.7.0 in /usr/local/lib/python3.11/dist-packages (from openai->tinyagent-py==0.1.11) (1.9.0)\n",
            "Requirement already satisfied: jiter<1,>=0.4.0 in /usr/local/lib/python3.11/dist-packages (from openai->tinyagent-py==0.1.11) (0.10.0)\n",
            "Requirement already satisfied: sniffio in /usr/local/lib/python3.11/dist-packages (from openai->tinyagent-py==0.1.11) (1.3.1)\n",
            "Requirement already satisfied: tqdm>4 in /usr/local/lib/python3.11/dist-packages (from openai->tinyagent-py==0.1.11) (4.67.1)\n",
            "Requirement already satisfied: typing-extensions<5,>=4.11 in /usr/local/lib/python3.11/dist-packages (from openai->tinyagent-py==0.1.11) (4.14.1)\n",
            "Requirement already satisfied: regex>=2022.1.18 in /usr/local/lib/python3.11/dist-packages (from tiktoken->tinyagent-py==0.1.11) (2024.11.6)\n",
            "Requirement already satisfied: requests>=2.26.0 in /usr/local/lib/python3.11/dist-packages (from tiktoken->tinyagent-py==0.1.11) (2.32.3)\n",
            "Requirement already satisfied: httpx-sse>=0.4 in /usr/local/lib/python3.11/dist-packages (from mcp->tinyagent-py==0.1.11) (0.4.1)\n",
            "Requirement already satisfied: pydantic-settings>=2.5.2 in /usr/local/lib/python3.11/dist-packages (from mcp->tinyagent-py==0.1.11) (2.10.1)\n",
            "Requirement already satisfied: python-multipart>=0.0.9 in /usr/local/lib/python3.11/dist-packages (from mcp->tinyagent-py==0.1.11) (0.0.20)\n",
            "Requirement already satisfied: sse-starlette>=1.6.1 in /usr/local/lib/python3.11/dist-packages (from mcp->tinyagent-py==0.1.11) (3.0.2)\n",
            "Requirement already satisfied: starlette>=0.27 in /usr/local/lib/python3.11/dist-packages (from mcp->tinyagent-py==0.1.11) (0.47.2)\n",
            "Requirement already satisfied: uvicorn>=0.23.1 in /usr/local/lib/python3.11/dist-packages (from mcp->tinyagent-py==0.1.11) (0.35.0)\n",
            "Requirement already satisfied: aiohappyeyeballs>=2.5.0 in /usr/local/lib/python3.11/dist-packages (from aiohttp>=3.10->litellm->tinyagent-py==0.1.11) (2.6.1)\n",
            "Requirement already satisfied: aiosignal>=1.4.0 in /usr/local/lib/python3.11/dist-packages (from aiohttp>=3.10->litellm->tinyagent-py==0.1.11) (1.4.0)\n",
            "Requirement already satisfied: attrs>=17.3.0 in /usr/local/lib/python3.11/dist-packages (from aiohttp>=3.10->litellm->tinyagent-py==0.1.11) (25.3.0)\n",
            "Requirement already satisfied: frozenlist>=1.1.1 in /usr/local/lib/python3.11/dist-packages (from aiohttp>=3.10->litellm->tinyagent-py==0.1.11) (1.7.0)\n",
            "Requirement already satisfied: multidict<7.0,>=4.5 in /usr/local/lib/python3.11/dist-packages (from aiohttp>=3.10->litellm->tinyagent-py==0.1.11) (6.6.3)\n",
            "Requirement already satisfied: propcache>=0.2.0 in /usr/local/lib/python3.11/dist-packages (from aiohttp>=3.10->litellm->tinyagent-py==0.1.11) (0.3.2)\n",
            "Requirement already satisfied: yarl<2.0,>=1.17.0 in /usr/local/lib/python3.11/dist-packages (from aiohttp>=3.10->litellm->tinyagent-py==0.1.11) (1.20.1)\n",
            "Requirement already satisfied: idna>=2.8 in /usr/local/lib/python3.11/dist-packages (from anyio<5,>=3.5.0->openai->tinyagent-py==0.1.11) (3.10)\n",
            "Requirement already satisfied: certifi in /usr/local/lib/python3.11/dist-packages (from httpx>=0.23.0->litellm->tinyagent-py==0.1.11) (2025.8.3)\n",
            "Requirement already satisfied: httpcore==1.* in /usr/local/lib/python3.11/dist-packages (from httpx>=0.23.0->litellm->tinyagent-py==0.1.11) (1.0.9)\n",
            "Requirement already satisfied: h11>=0.16 in /usr/local/lib/python3.11/dist-packages (from httpcore==1.*->httpx>=0.23.0->litellm->tinyagent-py==0.1.11) (0.16.0)\n",
            "Requirement already satisfied: zipp>=3.20 in /usr/local/lib/python3.11/dist-packages (from importlib-metadata>=6.8.0->litellm->tinyagent-py==0.1.11) (3.23.0)\n",
            "Requirement already satisfied: MarkupSafe>=2.0 in /usr/local/lib/python3.11/dist-packages (from jinja2<4.0.0,>=3.1.2->litellm->tinyagent-py==0.1.11) (3.0.2)\n",
            "Requirement already satisfied: jsonschema-specifications>=2023.03.6 in /usr/local/lib/python3.11/dist-packages (from jsonschema<5.0.0,>=4.22.0->litellm->tinyagent-py==0.1.11) (2025.4.1)\n",
            "Requirement already satisfied: referencing>=0.28.4 in /usr/local/lib/python3.11/dist-packages (from jsonschema<5.0.0,>=4.22.0->litellm->tinyagent-py==0.1.11) (0.36.2)\n",
            "Requirement already satisfied: rpds-py>=0.7.1 in /usr/local/lib/python3.11/dist-packages (from jsonschema<5.0.0,>=4.22.0->litellm->tinyagent-py==0.1.11) (0.26.0)\n",
            "Requirement already satisfied: annotated-types>=0.6.0 in /usr/local/lib/python3.11/dist-packages (from pydantic<3.0.0,>=2.5.0->litellm->tinyagent-py==0.1.11) (0.7.0)\n",
            "Requirement already satisfied: pydantic-core==2.33.2 in /usr/local/lib/python3.11/dist-packages (from pydantic<3.0.0,>=2.5.0->litellm->tinyagent-py==0.1.11) (2.33.2)\n",
            "Requirement already satisfied: typing-inspection>=0.4.0 in /usr/local/lib/python3.11/dist-packages (from pydantic<3.0.0,>=2.5.0->litellm->tinyagent-py==0.1.11) (0.4.1)\n",
            "Requirement already satisfied: charset-normalizer<4,>=2 in /usr/local/lib/python3.11/dist-packages (from requests>=2.26.0->tiktoken->tinyagent-py==0.1.11) (3.4.2)\n",
            "Requirement already satisfied: urllib3<3,>=1.21.1 in /usr/local/lib/python3.11/dist-packages (from requests>=2.26.0->tiktoken->tinyagent-py==0.1.11) (2.5.0)\n",
            "Requirement already satisfied: huggingface-hub<1.0,>=0.16.4 in /usr/local/lib/python3.11/dist-packages (from tokenizers->litellm->tinyagent-py==0.1.11) (0.34.3)\n",
            "Requirement already satisfied: filelock in /usr/local/lib/python3.11/dist-packages (from huggingface-hub<1.0,>=0.16.4->tokenizers->litellm->tinyagent-py==0.1.11) (3.18.0)\n",
            "Requirement already satisfied: fsspec>=2023.5.0 in /usr/local/lib/python3.11/dist-packages (from huggingface-hub<1.0,>=0.16.4->tokenizers->litellm->tinyagent-py==0.1.11) (2025.3.0)\n",
            "Requirement already satisfied: packaging>=20.9 in /usr/local/lib/python3.11/dist-packages (from huggingface-hub<1.0,>=0.16.4->tokenizers->litellm->tinyagent-py==0.1.11) (25.0)\n",
            "Requirement already satisfied: pyyaml>=5.1 in /usr/local/lib/python3.11/dist-packages (from huggingface-hub<1.0,>=0.16.4->tokenizers->litellm->tinyagent-py==0.1.11) (6.0.2)\n",
            "Requirement already satisfied: hf-xet<2.0.0,>=1.1.3 in /usr/local/lib/python3.11/dist-packages (from huggingface-hub<1.0,>=0.16.4->tokenizers->litellm->tinyagent-py==0.1.11) (1.1.7)\n",
            "Downloading litellm-1.75.5.post1-py3-none-any.whl (8.9 MB)\n",
            "\u001b[2K   \u001b[90m━━━━━━━━━━━━━━━━━━━━━━━━━━━━━━━━━━━━━━━━\u001b[0m \u001b[32m8.9/8.9 MB\u001b[0m \u001b[31m66.0 MB/s\u001b[0m eta \u001b[36m0:00:00\u001b[0m\n",
            "\u001b[?25hDownloading openai-1.99.7-py3-none-any.whl (786 kB)\n",
            "\u001b[2K   \u001b[90m━━━━━━━━━━━━━━━━━━━━━━━━━━━━━━━━━━━━━━━━\u001b[0m \u001b[32m786.8/786.8 kB\u001b[0m \u001b[31m36.9 MB/s\u001b[0m eta \u001b[36m0:00:00\u001b[0m\n",
            "\u001b[?25hBuilding wheels for collected packages: tinyagent-py, uuid\n",
            "  Building wheel for tinyagent-py (pyproject.toml) ... \u001b[?25l\u001b[?25hdone\n",
            "  Created wheel for tinyagent-py: filename=tinyagent_py-0.1.11-py3-none-any.whl size=215818 sha256=c45bee06492952be2b6793498bb992728b8f5d787d116b550eb969ed5fe54de9\n",
            "  Stored in directory: /tmp/pip-ephem-wheel-cache-4j8wb65w/wheels/7d/6b/7e/b1c03fc479bdc2e3d670c22b23cdead72d2cff4adbc8bf1cd6\n",
            "  Building wheel for uuid (setup.py) ... \u001b[?25l\u001b[?25hdone\n",
            "  Created wheel for uuid: filename=uuid-1.30-py3-none-any.whl size=6477 sha256=2dc5a4b5503946d4a93fbc6c4598541da93328e49e813d8e79c20fe051de16e3\n",
            "  Stored in directory: /root/.cache/pip/wheels/e0/01/df/bd20df409bd81f8b99e6cd343c5f49731dc0a20eefefdafae0\n",
            "Successfully built tinyagent-py uuid\n",
            "Installing collected packages: uuid, openai, litellm, tinyagent-py\n",
            "  Attempting uninstall: openai\n",
            "    Found existing installation: openai 1.99.1\n",
            "    Uninstalling openai-1.99.1:\n",
            "      Successfully uninstalled openai-1.99.1\n",
            "Successfully installed litellm-1.75.5.post1 openai-1.99.7 tinyagent-py-0.1.11 uuid-1.30\n"
          ]
        },
        {
          "output_type": "display_data",
          "data": {
            "application/vnd.colab-display-data+json": {
              "pip_warning": {
                "packages": [
                  "uuid"
                ]
              },
              "id": "fc0761794e184ce9a42f1f397fd90c4a"
            }
          },
          "metadata": {}
        }
      ]
    },
    {
      "cell_type": "code",
      "source": [
        "%cd /content\n",
        "!nohup ollama serve &\n",
        "!python main.py\n"
      ],
      "metadata": {
        "colab": {
          "base_uri": "https://localhost:8080/"
        },
        "id": "pLIlluJ9oVjY",
        "outputId": "ee81c3f8-a26a-4c05-aa28-af588379f82f"
      },
      "execution_count": 28,
      "outputs": [
        {
          "output_type": "stream",
          "name": "stdout",
          "text": [
            "/content\n",
            "nohup: appending output to 'nohup.out'\n",
            "/usr/local/lib/python3.11/dist-packages/pydantic/_internal/_generate_schema.py:628: UserWarning: <built-in function any> is not a Python type (it may be an instance of an object), Pydantic will allow any object with no validation since we cannot even enforce that the input is an instance of the given type. To get rid of this error wrap the type with `pydantic.SkipValidation`.\n",
            "  warn(\n",
            "Traceback (most recent call last):\n",
            "  File \"/content/main.py\", line 2, in <module>\n",
            "    from tinyagent import TinyAgent\n",
            "ImportError: cannot import name 'TinyAgent' from 'tinyagent' (/usr/local/lib/python3.11/dist-packages/tinyagent/__init__.py)\n"
          ]
        }
      ]
    },
    {
      "cell_type": "code",
      "source": [
        "%cd /content/huggingface_hub/src/huggingface_hub\n",
        "\n",
        "!python /content/huggingface_hub/src/huggingface_hub/inference/_mcp/agent.py"
      ],
      "metadata": {
        "colab": {
          "base_uri": "https://localhost:8080/"
        },
        "id": "KjJ2vbS3o21k",
        "outputId": "2c8bc938-98d6-4ea4-beae-7ea5e65f5631"
      },
      "execution_count": 21,
      "outputs": [
        {
          "output_type": "stream",
          "name": "stdout",
          "text": [
            "/content/huggingface_hub/src/huggingface_hub\n",
            "Traceback (most recent call last):\n",
            "  File \"/content/huggingface_hub/src/huggingface_hub/inference/_mcp/agent.py\", line 8, in <module>\n",
            "    from .._providers import PROVIDER_OR_POLICY_T\n",
            "ImportError: attempted relative import with no known parent package\n"
          ]
        }
      ]
    },
    {
      "cell_type": "code",
      "source": [
        "from huggingface_hub.inference._mcp.agent import Agent  # إذا كان هناك كلاس بهذا الاسم"
      ],
      "metadata": {
        "id": "4-IS_tPTpXfp"
      },
      "execution_count": 19,
      "outputs": []
    },
    {
      "cell_type": "code",
      "source": [
        "!pip install huggingface_hub"
      ],
      "metadata": {
        "colab": {
          "base_uri": "https://localhost:8080/"
        },
        "id": "sb2WzSn6pzvB",
        "outputId": "452a05a5-2e72-45b7-807a-bc106fd434d0"
      },
      "execution_count": 20,
      "outputs": [
        {
          "output_type": "stream",
          "name": "stdout",
          "text": [
            "Requirement already satisfied: huggingface_hub in /usr/local/lib/python3.11/dist-packages (0.34.3)\n",
            "Requirement already satisfied: filelock in /usr/local/lib/python3.11/dist-packages (from huggingface_hub) (3.18.0)\n",
            "Requirement already satisfied: fsspec>=2023.5.0 in /usr/local/lib/python3.11/dist-packages (from huggingface_hub) (2025.3.0)\n",
            "Requirement already satisfied: packaging>=20.9 in /usr/local/lib/python3.11/dist-packages (from huggingface_hub) (25.0)\n",
            "Requirement already satisfied: pyyaml>=5.1 in /usr/local/lib/python3.11/dist-packages (from huggingface_hub) (6.0.2)\n",
            "Requirement already satisfied: requests in /usr/local/lib/python3.11/dist-packages (from huggingface_hub) (2.32.3)\n",
            "Requirement already satisfied: tqdm>=4.42.1 in /usr/local/lib/python3.11/dist-packages (from huggingface_hub) (4.67.1)\n",
            "Requirement already satisfied: typing-extensions>=3.7.4.3 in /usr/local/lib/python3.11/dist-packages (from huggingface_hub) (4.14.1)\n",
            "Requirement already satisfied: hf-xet<2.0.0,>=1.1.3 in /usr/local/lib/python3.11/dist-packages (from huggingface_hub) (1.1.7)\n",
            "Requirement already satisfied: charset-normalizer<4,>=2 in /usr/local/lib/python3.11/dist-packages (from requests->huggingface_hub) (3.4.2)\n",
            "Requirement already satisfied: idna<4,>=2.5 in /usr/local/lib/python3.11/dist-packages (from requests->huggingface_hub) (3.10)\n",
            "Requirement already satisfied: urllib3<3,>=1.21.1 in /usr/local/lib/python3.11/dist-packages (from requests->huggingface_hub) (2.5.0)\n",
            "Requirement already satisfied: certifi>=2017.4.17 in /usr/local/lib/python3.11/dist-packages (from requests->huggingface_hub) (2025.8.3)\n"
          ]
        }
      ]
    },
    {
      "cell_type": "code",
      "source": [
        "%cd /content/huggingface_hub\n",
        "!python -m huggingface_hub.inference._mcp.agent"
      ],
      "metadata": {
        "colab": {
          "base_uri": "https://localhost:8080/"
        },
        "id": "v91JOrOWp8mR",
        "outputId": "49970420-afc8-4137-910f-e516696f7e55"
      },
      "execution_count": 23,
      "outputs": [
        {
          "output_type": "stream",
          "name": "stdout",
          "text": [
            "/content/huggingface_hub\n"
          ]
        }
      ]
    },
    {
      "cell_type": "code",
      "source": [
        "!python -m huggingface_hub.inference._mcp.agent"
      ],
      "metadata": {
        "id": "1g501hShqH9J"
      },
      "execution_count": 24,
      "outputs": []
    },
    {
      "cell_type": "code",
      "source": [
        "%cd /content/huggingface_hub\n",
        "!python -m huggingface_hub.inference._mcp.agent"
      ],
      "metadata": {
        "colab": {
          "base_uri": "https://localhost:8080/"
        },
        "id": "lkIkz14_qS4R",
        "outputId": "15a4976c-1e89-4e94-bf22-d1a0b67d38d2"
      },
      "execution_count": 25,
      "outputs": [
        {
          "output_type": "stream",
          "name": "stdout",
          "text": [
            "/content/huggingface_hub\n"
          ]
        }
      ]
    },
    {
      "cell_type": "code",
      "source": [
        "from huggingface_hub.inference._mcp.agent import Agent  # إذا كان اسم الكلاس Agent\n",
        "agent = Agent(...)\n",
        "result = await agent.run(...)"
      ],
      "metadata": {
        "colab": {
          "base_uri": "https://localhost:8080/",
          "height": 176
        },
        "id": "zweDZ0ZSqcLJ",
        "outputId": "45fd6b8f-912d-47db-84ad-df688f14699a"
      },
      "execution_count": 26,
      "outputs": [
        {
          "output_type": "error",
          "ename": "TypeError",
          "evalue": "Agent.__init__() takes 1 positional argument but 2 were given",
          "traceback": [
            "\u001b[0;31m---------------------------------------------------------------------------\u001b[0m",
            "\u001b[0;31mTypeError\u001b[0m                                 Traceback (most recent call last)",
            "\u001b[0;32m/tmp/ipython-input-1227240069.py\u001b[0m in \u001b[0;36m<cell line: 0>\u001b[0;34m()\u001b[0m\n\u001b[1;32m      1\u001b[0m \u001b[0;32mfrom\u001b[0m \u001b[0mhuggingface_hub\u001b[0m\u001b[0;34m.\u001b[0m\u001b[0minference\u001b[0m\u001b[0;34m.\u001b[0m\u001b[0m_mcp\u001b[0m\u001b[0;34m.\u001b[0m\u001b[0magent\u001b[0m \u001b[0;32mimport\u001b[0m \u001b[0mAgent\u001b[0m  \u001b[0;31m# إذا كان اسم الكلاس Agent\u001b[0m\u001b[0;34m\u001b[0m\u001b[0;34m\u001b[0m\u001b[0m\n\u001b[0;32m----> 2\u001b[0;31m \u001b[0magent\u001b[0m \u001b[0;34m=\u001b[0m \u001b[0mAgent\u001b[0m\u001b[0;34m(\u001b[0m\u001b[0;34m...\u001b[0m\u001b[0;34m)\u001b[0m\u001b[0;34m\u001b[0m\u001b[0;34m\u001b[0m\u001b[0m\n\u001b[0m\u001b[1;32m      3\u001b[0m \u001b[0mresult\u001b[0m \u001b[0;34m=\u001b[0m \u001b[0;32mawait\u001b[0m \u001b[0magent\u001b[0m\u001b[0;34m.\u001b[0m\u001b[0mrun\u001b[0m\u001b[0;34m(\u001b[0m\u001b[0;34m...\u001b[0m\u001b[0;34m)\u001b[0m\u001b[0;34m\u001b[0m\u001b[0;34m\u001b[0m\u001b[0m\n",
            "\u001b[0;31mTypeError\u001b[0m: Agent.__init__() takes 1 positional argument but 2 were given"
          ]
        }
      ]
    },
    {
      "cell_type": "code",
      "source": [
        "from tinyagent import TinyAgent"
      ],
      "metadata": {
        "colab": {
          "base_uri": "https://localhost:8080/",
          "height": 461
        },
        "id": "An9PvAchqw4p",
        "outputId": "f992564a-46ba-4e41-be07-da1d8d5052be"
      },
      "execution_count": 1,
      "outputs": [
        {
          "output_type": "error",
          "ename": "ModuleNotFoundError",
          "evalue": "No module named 'modal'",
          "traceback": [
            "\u001b[0;31m---------------------------------------------------------------------------\u001b[0m",
            "\u001b[0;31mModuleNotFoundError\u001b[0m                       Traceback (most recent call last)",
            "\u001b[0;32m/tmp/ipython-input-88701633.py\u001b[0m in \u001b[0;36m<cell line: 0>\u001b[0;34m()\u001b[0m\n\u001b[0;32m----> 1\u001b[0;31m \u001b[0;32mfrom\u001b[0m \u001b[0mtinyagent\u001b[0m \u001b[0;32mimport\u001b[0m \u001b[0mTinyAgent\u001b[0m\u001b[0;34m\u001b[0m\u001b[0;34m\u001b[0m\u001b[0m\n\u001b[0m",
            "\u001b[0;32m/usr/local/lib/python3.11/dist-packages/tinyagent/__init__.py\u001b[0m in \u001b[0;36m<module>\u001b[0;34m\u001b[0m\n\u001b[1;32m      1\u001b[0m \u001b[0;32mfrom\u001b[0m \u001b[0;34m.\u001b[0m\u001b[0mtiny_agent\u001b[0m \u001b[0;32mimport\u001b[0m \u001b[0mTinyAgent\u001b[0m\u001b[0;34m,\u001b[0m\u001b[0mtool\u001b[0m\u001b[0;34m\u001b[0m\u001b[0;34m\u001b[0m\u001b[0m\n\u001b[1;32m      2\u001b[0m \u001b[0;32mfrom\u001b[0m \u001b[0;34m.\u001b[0m\u001b[0mmcp_client\u001b[0m \u001b[0;32mimport\u001b[0m \u001b[0mMCPClient\u001b[0m\u001b[0;34m\u001b[0m\u001b[0;34m\u001b[0m\u001b[0m\n\u001b[0;32m----> 3\u001b[0;31m \u001b[0;32mfrom\u001b[0m \u001b[0;34m.\u001b[0m\u001b[0mcode_agent\u001b[0m \u001b[0;32mimport\u001b[0m \u001b[0mTinyCodeAgent\u001b[0m\u001b[0;34m\u001b[0m\u001b[0;34m\u001b[0m\u001b[0m\n\u001b[0m\u001b[1;32m      4\u001b[0m \u001b[0;34m\u001b[0m\u001b[0m\n\u001b[1;32m      5\u001b[0m \u001b[0;31m# Import subagent tools for easy access\u001b[0m\u001b[0;34m\u001b[0m\u001b[0;34m\u001b[0m\u001b[0m\n",
            "\u001b[0;32m/usr/local/lib/python3.11/dist-packages/tinyagent/code_agent/__init__.py\u001b[0m in \u001b[0;36m<module>\u001b[0;34m\u001b[0m\n\u001b[0;32m----> 1\u001b[0;31m \u001b[0;32mfrom\u001b[0m \u001b[0;34m.\u001b[0m\u001b[0mtiny_code_agent\u001b[0m \u001b[0;32mimport\u001b[0m \u001b[0mTinyCodeAgent\u001b[0m\u001b[0;34m\u001b[0m\u001b[0;34m\u001b[0m\u001b[0m\n\u001b[0m\u001b[1;32m      2\u001b[0m \u001b[0;32mfrom\u001b[0m \u001b[0;34m.\u001b[0m\u001b[0mproviders\u001b[0m\u001b[0;34m.\u001b[0m\u001b[0mbase\u001b[0m \u001b[0;32mimport\u001b[0m \u001b[0mCodeExecutionProvider\u001b[0m\u001b[0;34m\u001b[0m\u001b[0;34m\u001b[0m\u001b[0m\n\u001b[1;32m      3\u001b[0m \u001b[0;32mfrom\u001b[0m \u001b[0;34m.\u001b[0m\u001b[0mproviders\u001b[0m\u001b[0;34m.\u001b[0m\u001b[0mmodal_provider\u001b[0m \u001b[0;32mimport\u001b[0m \u001b[0mModalProvider\u001b[0m\u001b[0;34m\u001b[0m\u001b[0;34m\u001b[0m\u001b[0m\n\u001b[1;32m      4\u001b[0m \u001b[0;32mfrom\u001b[0m \u001b[0;34m.\u001b[0m\u001b[0mtools\u001b[0m\u001b[0;34m.\u001b[0m\u001b[0mexample_tools\u001b[0m \u001b[0;32mimport\u001b[0m \u001b[0mget_weather\u001b[0m\u001b[0;34m,\u001b[0m \u001b[0mget_traffic\u001b[0m\u001b[0;34m\u001b[0m\u001b[0;34m\u001b[0m\u001b[0m\n\u001b[1;32m      5\u001b[0m \u001b[0;34m\u001b[0m\u001b[0m\n",
            "\u001b[0;32m/usr/local/lib/python3.11/dist-packages/tinyagent/code_agent/tiny_code_agent.py\u001b[0m in \u001b[0;36m<module>\u001b[0;34m\u001b[0m\n\u001b[1;32m     17\u001b[0m     \u001b[0mJupyterNotebookCallback\u001b[0m \u001b[0;34m=\u001b[0m \u001b[0;32mNone\u001b[0m\u001b[0;34m\u001b[0m\u001b[0;34m\u001b[0m\u001b[0m\n\u001b[1;32m     18\u001b[0m     \u001b[0mOptimizedJupyterNotebookCallback\u001b[0m \u001b[0;34m=\u001b[0m \u001b[0;32mNone\u001b[0m\u001b[0;34m\u001b[0m\u001b[0;34m\u001b[0m\u001b[0m\n\u001b[0;32m---> 19\u001b[0;31m \u001b[0;32mfrom\u001b[0m \u001b[0;34m.\u001b[0m\u001b[0mproviders\u001b[0m\u001b[0;34m.\u001b[0m\u001b[0mbase\u001b[0m \u001b[0;32mimport\u001b[0m \u001b[0mCodeExecutionProvider\u001b[0m\u001b[0;34m\u001b[0m\u001b[0;34m\u001b[0m\u001b[0m\n\u001b[0m\u001b[1;32m     20\u001b[0m \u001b[0;32mfrom\u001b[0m \u001b[0;34m.\u001b[0m\u001b[0mproviders\u001b[0m\u001b[0;34m.\u001b[0m\u001b[0mmodal_provider\u001b[0m \u001b[0;32mimport\u001b[0m \u001b[0mModalProvider\u001b[0m\u001b[0;34m\u001b[0m\u001b[0;34m\u001b[0m\u001b[0m\n\u001b[1;32m     21\u001b[0m \u001b[0;32mfrom\u001b[0m \u001b[0;34m.\u001b[0m\u001b[0mproviders\u001b[0m\u001b[0;34m.\u001b[0m\u001b[0mseatbelt_provider\u001b[0m \u001b[0;32mimport\u001b[0m \u001b[0mSeatbeltProvider\u001b[0m\u001b[0;34m\u001b[0m\u001b[0;34m\u001b[0m\u001b[0m\n",
            "\u001b[0;32m/usr/local/lib/python3.11/dist-packages/tinyagent/code_agent/providers/__init__.py\u001b[0m in \u001b[0;36m<module>\u001b[0;34m\u001b[0m\n\u001b[1;32m      1\u001b[0m \u001b[0;32mfrom\u001b[0m \u001b[0;34m.\u001b[0m\u001b[0mbase\u001b[0m \u001b[0;32mimport\u001b[0m \u001b[0mCodeExecutionProvider\u001b[0m\u001b[0;34m\u001b[0m\u001b[0;34m\u001b[0m\u001b[0m\n\u001b[0;32m----> 2\u001b[0;31m \u001b[0;32mfrom\u001b[0m \u001b[0;34m.\u001b[0m\u001b[0mmodal_provider\u001b[0m \u001b[0;32mimport\u001b[0m \u001b[0mModalProvider\u001b[0m\u001b[0;34m\u001b[0m\u001b[0;34m\u001b[0m\u001b[0m\n\u001b[0m\u001b[1;32m      3\u001b[0m \u001b[0;34m\u001b[0m\u001b[0m\n\u001b[1;32m      4\u001b[0m \u001b[0;31m# Import SeatbeltProvider conditionally to avoid errors on non-macOS systems\u001b[0m\u001b[0;34m\u001b[0m\u001b[0;34m\u001b[0m\u001b[0m\n\u001b[1;32m      5\u001b[0m \u001b[0;32mimport\u001b[0m \u001b[0mplatform\u001b[0m\u001b[0;34m\u001b[0m\u001b[0;34m\u001b[0m\u001b[0m\n",
            "\u001b[0;32m/usr/local/lib/python3.11/dist-packages/tinyagent/code_agent/providers/modal_provider.py\u001b[0m in \u001b[0;36m<module>\u001b[0;34m\u001b[0m\n\u001b[1;32m      1\u001b[0m \u001b[0;32mimport\u001b[0m \u001b[0msys\u001b[0m\u001b[0;34m\u001b[0m\u001b[0;34m\u001b[0m\u001b[0m\n\u001b[0;32m----> 2\u001b[0;31m \u001b[0;32mimport\u001b[0m \u001b[0mmodal\u001b[0m\u001b[0;34m\u001b[0m\u001b[0;34m\u001b[0m\u001b[0m\n\u001b[0m\u001b[1;32m      3\u001b[0m \u001b[0;32mimport\u001b[0m \u001b[0mcloudpickle\u001b[0m\u001b[0;34m\u001b[0m\u001b[0;34m\u001b[0m\u001b[0m\n\u001b[1;32m      4\u001b[0m \u001b[0;32mfrom\u001b[0m \u001b[0mpprint\u001b[0m \u001b[0;32mimport\u001b[0m \u001b[0mpprint\u001b[0m\u001b[0;34m\u001b[0m\u001b[0;34m\u001b[0m\u001b[0m\n\u001b[1;32m      5\u001b[0m \u001b[0;32mfrom\u001b[0m \u001b[0mtyping\u001b[0m \u001b[0;32mimport\u001b[0m \u001b[0mDict\u001b[0m\u001b[0;34m,\u001b[0m \u001b[0mList\u001b[0m\u001b[0;34m,\u001b[0m \u001b[0mAny\u001b[0m\u001b[0;34m,\u001b[0m \u001b[0mOptional\u001b[0m\u001b[0;34m,\u001b[0m \u001b[0mUnion\u001b[0m\u001b[0;34m\u001b[0m\u001b[0;34m\u001b[0m\u001b[0m\n",
            "\u001b[0;31mModuleNotFoundError\u001b[0m: No module named 'modal'",
            "",
            "\u001b[0;31m---------------------------------------------------------------------------\u001b[0;32m\nNOTE: If your import is failing due to a missing package, you can\nmanually install dependencies using either !pip or !apt.\n\nTo view examples of installing some common dependencies, click the\n\"Open Examples\" button below.\n\u001b[0;31m---------------------------------------------------------------------------\u001b[0m\n"
          ],
          "errorDetails": {
            "actions": [
              {
                "action": "open_url",
                "actionText": "Open Examples",
                "url": "/notebooks/snippets/importing_libraries.ipynb"
              }
            ]
          }
        }
      ]
    },
    {
      "cell_type": "code",
      "source": [
        "from tinyagent.tiny_agent import TinyAgent\n"
      ],
      "metadata": {
        "id": "4K_JN5cruJ-C"
      },
      "execution_count": 2,
      "outputs": []
    },
    {
      "cell_type": "code",
      "source": [
        "%cd /content\n",
        "!nohup ollama serve &\n",
        "!python main.py"
      ],
      "metadata": {
        "colab": {
          "base_uri": "https://localhost:8080/"
        },
        "id": "Zea6TrQ4uNNh",
        "outputId": "90159128-71a9-45f0-fd45-f54892aed77a"
      },
      "execution_count": 5,
      "outputs": [
        {
          "output_type": "stream",
          "name": "stdout",
          "text": [
            "/content\n",
            "nohup: appending output to 'nohup.out'\n",
            "Traceback (most recent call last):\n",
            "  File \"/content/main.py\", line 4, in <module>\n",
            "    from tinyagent.tiny_agent import TinyAgent\n",
            "  File \"/usr/local/lib/python3.11/dist-packages/tinyagent/__init__.py\", line 3, in <module>\n",
            "    from .code_agent import TinyCodeAgent\n",
            "  File \"/usr/local/lib/python3.11/dist-packages/tinyagent/code_agent/__init__.py\", line 1, in <module>\n",
            "    from .tiny_code_agent import TinyCodeAgent\n",
            "  File \"/usr/local/lib/python3.11/dist-packages/tinyagent/code_agent/tiny_code_agent.py\", line 19, in <module>\n",
            "    from .providers.base import CodeExecutionProvider\n",
            "  File \"/usr/local/lib/python3.11/dist-packages/tinyagent/code_agent/providers/__init__.py\", line 2, in <module>\n",
            "    from .modal_provider import ModalProvider\n",
            "  File \"/usr/local/lib/python3.11/dist-packages/tinyagent/code_agent/providers/modal_provider.py\", line 2, in <module>\n",
            "    import modal\n",
            "ModuleNotFoundError: No module named 'modal'\n"
          ]
        }
      ]
    },
    {
      "cell_type": "code",
      "source": [
        "!ollama list"
      ],
      "metadata": {
        "colab": {
          "base_uri": "https://localhost:8080/"
        },
        "id": "dE45KhNHumtJ",
        "outputId": "de75e120-785a-4c0f-8fcc-703621fc1cb1"
      },
      "execution_count": 4,
      "outputs": [
        {
          "output_type": "stream",
          "name": "stdout",
          "text": [
            "NAME             ID              SIZE      MODIFIED       \n",
            "llama2:latest    78e26419b446    3.8 GB    27 minutes ago    \n"
          ]
        }
      ]
    },
    {
      "cell_type": "code",
      "source": [
        "!pip install modal\n"
      ],
      "metadata": {
        "colab": {
          "base_uri": "https://localhost:8080/"
        },
        "id": "OqAryD_6uypB",
        "outputId": "9efe29ef-42ee-4ef4-c05e-1369dda6bb77"
      },
      "execution_count": 6,
      "outputs": [
        {
          "output_type": "stream",
          "name": "stdout",
          "text": [
            "Collecting modal\n",
            "  Downloading modal-1.1.1-py3-none-any.whl.metadata (2.5 kB)\n",
            "Requirement already satisfied: aiohttp in /usr/local/lib/python3.11/dist-packages (from modal) (3.12.15)\n",
            "Requirement already satisfied: certifi in /usr/local/lib/python3.11/dist-packages (from modal) (2025.8.3)\n",
            "Requirement already satisfied: click~=8.1 in /usr/local/lib/python3.11/dist-packages (from modal) (8.2.1)\n",
            "Requirement already satisfied: grpclib<0.4.9,>=0.4.7 in /usr/local/lib/python3.11/dist-packages (from modal) (0.4.8)\n",
            "Requirement already satisfied: protobuf!=4.24.0,<7.0,>=3.19 in /usr/local/lib/python3.11/dist-packages (from modal) (5.29.5)\n",
            "Requirement already satisfied: rich>=12.0.0 in /usr/local/lib/python3.11/dist-packages (from modal) (13.9.4)\n",
            "Collecting synchronicity~=0.10.1 (from modal)\n",
            "  Downloading synchronicity-0.10.2-py3-none-any.whl.metadata (13 kB)\n",
            "Requirement already satisfied: toml in /usr/local/lib/python3.11/dist-packages (from modal) (0.10.2)\n",
            "Requirement already satisfied: typer>=0.9 in /usr/local/lib/python3.11/dist-packages (from modal) (0.16.0)\n",
            "Collecting types-certifi (from modal)\n",
            "  Downloading types_certifi-2021.10.8.3-py3-none-any.whl.metadata (1.4 kB)\n",
            "Collecting types-toml (from modal)\n",
            "  Downloading types_toml-0.10.8.20240310-py3-none-any.whl.metadata (1.5 kB)\n",
            "Collecting watchfiles (from modal)\n",
            "  Downloading watchfiles-1.1.0-cp311-cp311-manylinux_2_17_x86_64.manylinux2014_x86_64.whl.metadata (4.9 kB)\n",
            "Requirement already satisfied: typing_extensions~=4.6 in /usr/local/lib/python3.11/dist-packages (from modal) (4.14.1)\n",
            "Requirement already satisfied: h2<5,>=3.1.0 in /usr/local/lib/python3.11/dist-packages (from grpclib<0.4.9,>=0.4.7->modal) (4.2.0)\n",
            "Requirement already satisfied: multidict in /usr/local/lib/python3.11/dist-packages (from grpclib<0.4.9,>=0.4.7->modal) (6.6.3)\n",
            "Requirement already satisfied: markdown-it-py>=2.2.0 in /usr/local/lib/python3.11/dist-packages (from rich>=12.0.0->modal) (3.0.0)\n",
            "Requirement already satisfied: pygments<3.0.0,>=2.13.0 in /usr/local/lib/python3.11/dist-packages (from rich>=12.0.0->modal) (2.19.2)\n",
            "Collecting sigtools>=4.0.1 (from synchronicity~=0.10.1->modal)\n",
            "  Downloading sigtools-4.0.1-py2.py3-none-any.whl.metadata (2.4 kB)\n",
            "Requirement already satisfied: shellingham>=1.3.0 in /usr/local/lib/python3.11/dist-packages (from typer>=0.9->modal) (1.5.4)\n",
            "Requirement already satisfied: aiohappyeyeballs>=2.5.0 in /usr/local/lib/python3.11/dist-packages (from aiohttp->modal) (2.6.1)\n",
            "Requirement already satisfied: aiosignal>=1.4.0 in /usr/local/lib/python3.11/dist-packages (from aiohttp->modal) (1.4.0)\n",
            "Requirement already satisfied: attrs>=17.3.0 in /usr/local/lib/python3.11/dist-packages (from aiohttp->modal) (25.3.0)\n",
            "Requirement already satisfied: frozenlist>=1.1.1 in /usr/local/lib/python3.11/dist-packages (from aiohttp->modal) (1.7.0)\n",
            "Requirement already satisfied: propcache>=0.2.0 in /usr/local/lib/python3.11/dist-packages (from aiohttp->modal) (0.3.2)\n",
            "Requirement already satisfied: yarl<2.0,>=1.17.0 in /usr/local/lib/python3.11/dist-packages (from aiohttp->modal) (1.20.1)\n",
            "Requirement already satisfied: anyio>=3.0.0 in /usr/local/lib/python3.11/dist-packages (from watchfiles->modal) (4.10.0)\n",
            "Requirement already satisfied: idna>=2.8 in /usr/local/lib/python3.11/dist-packages (from anyio>=3.0.0->watchfiles->modal) (3.10)\n",
            "Requirement already satisfied: sniffio>=1.1 in /usr/local/lib/python3.11/dist-packages (from anyio>=3.0.0->watchfiles->modal) (1.3.1)\n",
            "Requirement already satisfied: hyperframe<7,>=6.1 in /usr/local/lib/python3.11/dist-packages (from h2<5,>=3.1.0->grpclib<0.4.9,>=0.4.7->modal) (6.1.0)\n",
            "Requirement already satisfied: hpack<5,>=4.1 in /usr/local/lib/python3.11/dist-packages (from h2<5,>=3.1.0->grpclib<0.4.9,>=0.4.7->modal) (4.1.0)\n",
            "Requirement already satisfied: mdurl~=0.1 in /usr/local/lib/python3.11/dist-packages (from markdown-it-py>=2.2.0->rich>=12.0.0->modal) (0.1.2)\n",
            "Downloading modal-1.1.1-py3-none-any.whl (657 kB)\n",
            "\u001b[2K   \u001b[90m━━━━━━━━━━━━━━━━━━━━━━━━━━━━━━━━━━━━━━━━\u001b[0m \u001b[32m657.5/657.5 kB\u001b[0m \u001b[31m10.3 MB/s\u001b[0m eta \u001b[36m0:00:00\u001b[0m\n",
            "\u001b[?25hDownloading synchronicity-0.10.2-py3-none-any.whl (38 kB)\n",
            "Downloading types_certifi-2021.10.8.3-py3-none-any.whl (2.1 kB)\n",
            "Downloading types_toml-0.10.8.20240310-py3-none-any.whl (4.8 kB)\n",
            "Downloading watchfiles-1.1.0-cp311-cp311-manylinux_2_17_x86_64.manylinux2014_x86_64.whl (453 kB)\n",
            "\u001b[2K   \u001b[90m━━━━━━━━━━━━━━━━━━━━━━━━━━━━━━━━━━━━━━━━\u001b[0m \u001b[32m453.1/453.1 kB\u001b[0m \u001b[31m29.2 MB/s\u001b[0m eta \u001b[36m0:00:00\u001b[0m\n",
            "\u001b[?25hDownloading sigtools-4.0.1-py2.py3-none-any.whl (76 kB)\n",
            "\u001b[2K   \u001b[90m━━━━━━━━━━━━━━━━━━━━━━━━━━━━━━━━━━━━━━━━\u001b[0m \u001b[32m76.4/76.4 kB\u001b[0m \u001b[31m5.5 MB/s\u001b[0m eta \u001b[36m0:00:00\u001b[0m\n",
            "\u001b[?25hInstalling collected packages: types-certifi, types-toml, sigtools, watchfiles, synchronicity, modal\n",
            "Successfully installed modal-1.1.1 sigtools-4.0.1 synchronicity-0.10.2 types-certifi-2021.10.8.3 types-toml-0.10.8.20240310 watchfiles-1.1.0\n"
          ]
        }
      ]
    },
    {
      "cell_type": "code",
      "source": [
        "%cd /content\n",
        "!nohup ollama serve &\n",
        "!python main.py"
      ],
      "metadata": {
        "colab": {
          "base_uri": "https://localhost:8080/"
        },
        "id": "SEBBxTwDu-rB",
        "outputId": "ae3e792e-6777-44e6-c59d-22cc5852c91a"
      },
      "execution_count": 8,
      "outputs": [
        {
          "output_type": "stream",
          "name": "stdout",
          "text": [
            "/content\n",
            "nohup: appending output to 'nohup.out'\n",
            "Traceback (most recent call last):\n",
            "  File \"/content/main.py\", line 26, in <module>\n",
            "    response = agent.chat(messages)\n",
            "               ^^^^^^^^^^\n",
            "AttributeError: 'TinyAgent' object has no attribute 'chat'\n"
          ]
        }
      ]
    },
    {
      "cell_type": "code",
      "source": [
        "!pip install tinyagent-py[all]"
      ],
      "metadata": {
        "colab": {
          "base_uri": "https://localhost:8080/"
        },
        "id": "BiMncti-vA1R",
        "outputId": "3eee34b2-a951-4ba9-f78b-18bd030bff77"
      },
      "execution_count": 9,
      "outputs": [
        {
          "output_type": "stream",
          "name": "stdout",
          "text": [
            "Requirement already satisfied: tinyagent-py[all] in /usr/local/lib/python3.11/dist-packages (0.1.11)\n",
            "Requirement already satisfied: mcp in /usr/local/lib/python3.11/dist-packages (from tinyagent-py[all]) (1.12.4)\n",
            "Requirement already satisfied: litellm in /usr/local/lib/python3.11/dist-packages (from tinyagent-py[all]) (1.75.5.post1)\n",
            "Requirement already satisfied: openai in /usr/local/lib/python3.11/dist-packages (from tinyagent-py[all]) (1.99.7)\n",
            "Requirement already satisfied: tiktoken in /usr/local/lib/python3.11/dist-packages (from tinyagent-py[all]) (0.10.0)\n",
            "Requirement already satisfied: uuid in /usr/local/lib/python3.11/dist-packages (from tinyagent-py[all]) (1.30)\n",
            "Collecting asyncpg>=0.27.0 (from tinyagent-py[all])\n",
            "  Downloading asyncpg-0.30.0-cp311-cp311-manylinux_2_17_x86_64.manylinux2014_x86_64.whl.metadata (5.0 kB)\n",
            "Collecting aiosqlite>=0.18.0 (from tinyagent-py[all])\n",
            "  Downloading aiosqlite-0.21.0-py3-none-any.whl.metadata (4.3 kB)\n",
            "Requirement already satisfied: gradio>=3.50.0 in /usr/local/lib/python3.11/dist-packages (from tinyagent-py[all]) (5.41.0)\n",
            "Requirement already satisfied: jinja2 in /usr/local/lib/python3.11/dist-packages (from tinyagent-py[all]) (3.1.6)\n",
            "Requirement already satisfied: pyyaml in /usr/local/lib/python3.11/dist-packages (from tinyagent-py[all]) (6.0.2)\n",
            "Requirement already satisfied: cloudpickle in /usr/local/lib/python3.11/dist-packages (from tinyagent-py[all]) (3.1.1)\n",
            "Requirement already satisfied: modal in /usr/local/lib/python3.11/dist-packages (from tinyagent-py[all]) (1.1.1)\n",
            "Requirement already satisfied: typing_extensions>=4.0 in /usr/local/lib/python3.11/dist-packages (from aiosqlite>=0.18.0->tinyagent-py[all]) (4.14.1)\n",
            "Requirement already satisfied: aiofiles<25.0,>=22.0 in /usr/local/lib/python3.11/dist-packages (from gradio>=3.50.0->tinyagent-py[all]) (24.1.0)\n",
            "Requirement already satisfied: anyio<5.0,>=3.0 in /usr/local/lib/python3.11/dist-packages (from gradio>=3.50.0->tinyagent-py[all]) (4.10.0)\n",
            "Requirement already satisfied: brotli>=1.1.0 in /usr/local/lib/python3.11/dist-packages (from gradio>=3.50.0->tinyagent-py[all]) (1.1.0)\n",
            "Requirement already satisfied: fastapi<1.0,>=0.115.2 in /usr/local/lib/python3.11/dist-packages (from gradio>=3.50.0->tinyagent-py[all]) (0.116.1)\n",
            "Requirement already satisfied: ffmpy in /usr/local/lib/python3.11/dist-packages (from gradio>=3.50.0->tinyagent-py[all]) (0.6.1)\n",
            "Requirement already satisfied: gradio-client==1.11.0 in /usr/local/lib/python3.11/dist-packages (from gradio>=3.50.0->tinyagent-py[all]) (1.11.0)\n",
            "Requirement already satisfied: groovy~=0.1 in /usr/local/lib/python3.11/dist-packages (from gradio>=3.50.0->tinyagent-py[all]) (0.1.2)\n",
            "Requirement already satisfied: httpx<1.0,>=0.24.1 in /usr/local/lib/python3.11/dist-packages (from gradio>=3.50.0->tinyagent-py[all]) (0.28.1)\n",
            "Requirement already satisfied: huggingface-hub<1.0,>=0.33.5 in /usr/local/lib/python3.11/dist-packages (from gradio>=3.50.0->tinyagent-py[all]) (0.34.3)\n",
            "Requirement already satisfied: markupsafe<4.0,>=2.0 in /usr/local/lib/python3.11/dist-packages (from gradio>=3.50.0->tinyagent-py[all]) (3.0.2)\n",
            "Requirement already satisfied: numpy<3.0,>=1.0 in /usr/local/lib/python3.11/dist-packages (from gradio>=3.50.0->tinyagent-py[all]) (2.0.2)\n",
            "Requirement already satisfied: orjson~=3.0 in /usr/local/lib/python3.11/dist-packages (from gradio>=3.50.0->tinyagent-py[all]) (3.11.1)\n",
            "Requirement already satisfied: packaging in /usr/local/lib/python3.11/dist-packages (from gradio>=3.50.0->tinyagent-py[all]) (25.0)\n",
            "Requirement already satisfied: pandas<3.0,>=1.0 in /usr/local/lib/python3.11/dist-packages (from gradio>=3.50.0->tinyagent-py[all]) (2.2.2)\n",
            "Requirement already satisfied: pillow<12.0,>=8.0 in /usr/local/lib/python3.11/dist-packages (from gradio>=3.50.0->tinyagent-py[all]) (11.3.0)\n",
            "Requirement already satisfied: pydantic<2.12,>=2.0 in /usr/local/lib/python3.11/dist-packages (from gradio>=3.50.0->tinyagent-py[all]) (2.11.7)\n",
            "Requirement already satisfied: pydub in /usr/local/lib/python3.11/dist-packages (from gradio>=3.50.0->tinyagent-py[all]) (0.25.1)\n",
            "Requirement already satisfied: python-multipart>=0.0.18 in /usr/local/lib/python3.11/dist-packages (from gradio>=3.50.0->tinyagent-py[all]) (0.0.20)\n",
            "Requirement already satisfied: ruff>=0.9.3 in /usr/local/lib/python3.11/dist-packages (from gradio>=3.50.0->tinyagent-py[all]) (0.12.7)\n",
            "Requirement already satisfied: safehttpx<0.2.0,>=0.1.6 in /usr/local/lib/python3.11/dist-packages (from gradio>=3.50.0->tinyagent-py[all]) (0.1.6)\n",
            "Requirement already satisfied: semantic-version~=2.0 in /usr/local/lib/python3.11/dist-packages (from gradio>=3.50.0->tinyagent-py[all]) (2.10.0)\n",
            "Requirement already satisfied: starlette<1.0,>=0.40.0 in /usr/local/lib/python3.11/dist-packages (from gradio>=3.50.0->tinyagent-py[all]) (0.47.2)\n",
            "Requirement already satisfied: tomlkit<0.14.0,>=0.12.0 in /usr/local/lib/python3.11/dist-packages (from gradio>=3.50.0->tinyagent-py[all]) (0.13.3)\n",
            "Requirement already satisfied: typer<1.0,>=0.12 in /usr/local/lib/python3.11/dist-packages (from gradio>=3.50.0->tinyagent-py[all]) (0.16.0)\n",
            "Requirement already satisfied: uvicorn>=0.14.0 in /usr/local/lib/python3.11/dist-packages (from gradio>=3.50.0->tinyagent-py[all]) (0.35.0)\n",
            "Requirement already satisfied: fsspec in /usr/local/lib/python3.11/dist-packages (from gradio-client==1.11.0->gradio>=3.50.0->tinyagent-py[all]) (2025.3.0)\n",
            "Requirement already satisfied: websockets<16.0,>=10.0 in /usr/local/lib/python3.11/dist-packages (from gradio-client==1.11.0->gradio>=3.50.0->tinyagent-py[all]) (15.0.1)\n",
            "Requirement already satisfied: aiohttp>=3.10 in /usr/local/lib/python3.11/dist-packages (from litellm->tinyagent-py[all]) (3.12.15)\n",
            "Requirement already satisfied: click in /usr/local/lib/python3.11/dist-packages (from litellm->tinyagent-py[all]) (8.2.1)\n",
            "Requirement already satisfied: importlib-metadata>=6.8.0 in /usr/local/lib/python3.11/dist-packages (from litellm->tinyagent-py[all]) (8.7.0)\n",
            "Requirement already satisfied: jsonschema<5.0.0,>=4.22.0 in /usr/local/lib/python3.11/dist-packages (from litellm->tinyagent-py[all]) (4.25.0)\n",
            "Requirement already satisfied: python-dotenv>=0.2.0 in /usr/local/lib/python3.11/dist-packages (from litellm->tinyagent-py[all]) (1.1.1)\n",
            "Requirement already satisfied: tokenizers in /usr/local/lib/python3.11/dist-packages (from litellm->tinyagent-py[all]) (0.21.4)\n",
            "Requirement already satisfied: distro<2,>=1.7.0 in /usr/local/lib/python3.11/dist-packages (from openai->tinyagent-py[all]) (1.9.0)\n",
            "Requirement already satisfied: jiter<1,>=0.4.0 in /usr/local/lib/python3.11/dist-packages (from openai->tinyagent-py[all]) (0.10.0)\n",
            "Requirement already satisfied: sniffio in /usr/local/lib/python3.11/dist-packages (from openai->tinyagent-py[all]) (1.3.1)\n",
            "Requirement already satisfied: tqdm>4 in /usr/local/lib/python3.11/dist-packages (from openai->tinyagent-py[all]) (4.67.1)\n",
            "Requirement already satisfied: regex>=2022.1.18 in /usr/local/lib/python3.11/dist-packages (from tiktoken->tinyagent-py[all]) (2024.11.6)\n",
            "Requirement already satisfied: requests>=2.26.0 in /usr/local/lib/python3.11/dist-packages (from tiktoken->tinyagent-py[all]) (2.32.3)\n",
            "Requirement already satisfied: httpx-sse>=0.4 in /usr/local/lib/python3.11/dist-packages (from mcp->tinyagent-py[all]) (0.4.1)\n",
            "Requirement already satisfied: pydantic-settings>=2.5.2 in /usr/local/lib/python3.11/dist-packages (from mcp->tinyagent-py[all]) (2.10.1)\n",
            "Requirement already satisfied: sse-starlette>=1.6.1 in /usr/local/lib/python3.11/dist-packages (from mcp->tinyagent-py[all]) (3.0.2)\n",
            "Requirement already satisfied: certifi in /usr/local/lib/python3.11/dist-packages (from modal->tinyagent-py[all]) (2025.8.3)\n",
            "Requirement already satisfied: grpclib<0.4.9,>=0.4.7 in /usr/local/lib/python3.11/dist-packages (from modal->tinyagent-py[all]) (0.4.8)\n",
            "Requirement already satisfied: protobuf!=4.24.0,<7.0,>=3.19 in /usr/local/lib/python3.11/dist-packages (from modal->tinyagent-py[all]) (5.29.5)\n",
            "Requirement already satisfied: rich>=12.0.0 in /usr/local/lib/python3.11/dist-packages (from modal->tinyagent-py[all]) (13.9.4)\n",
            "Requirement already satisfied: synchronicity~=0.10.1 in /usr/local/lib/python3.11/dist-packages (from modal->tinyagent-py[all]) (0.10.2)\n",
            "Requirement already satisfied: toml in /usr/local/lib/python3.11/dist-packages (from modal->tinyagent-py[all]) (0.10.2)\n",
            "Requirement already satisfied: types-certifi in /usr/local/lib/python3.11/dist-packages (from modal->tinyagent-py[all]) (2021.10.8.3)\n",
            "Requirement already satisfied: types-toml in /usr/local/lib/python3.11/dist-packages (from modal->tinyagent-py[all]) (0.10.8.20240310)\n",
            "Requirement already satisfied: watchfiles in /usr/local/lib/python3.11/dist-packages (from modal->tinyagent-py[all]) (1.1.0)\n",
            "Requirement already satisfied: aiohappyeyeballs>=2.5.0 in /usr/local/lib/python3.11/dist-packages (from aiohttp>=3.10->litellm->tinyagent-py[all]) (2.6.1)\n",
            "Requirement already satisfied: aiosignal>=1.4.0 in /usr/local/lib/python3.11/dist-packages (from aiohttp>=3.10->litellm->tinyagent-py[all]) (1.4.0)\n",
            "Requirement already satisfied: attrs>=17.3.0 in /usr/local/lib/python3.11/dist-packages (from aiohttp>=3.10->litellm->tinyagent-py[all]) (25.3.0)\n",
            "Requirement already satisfied: frozenlist>=1.1.1 in /usr/local/lib/python3.11/dist-packages (from aiohttp>=3.10->litellm->tinyagent-py[all]) (1.7.0)\n",
            "Requirement already satisfied: multidict<7.0,>=4.5 in /usr/local/lib/python3.11/dist-packages (from aiohttp>=3.10->litellm->tinyagent-py[all]) (6.6.3)\n",
            "Requirement already satisfied: propcache>=0.2.0 in /usr/local/lib/python3.11/dist-packages (from aiohttp>=3.10->litellm->tinyagent-py[all]) (0.3.2)\n",
            "Requirement already satisfied: yarl<2.0,>=1.17.0 in /usr/local/lib/python3.11/dist-packages (from aiohttp>=3.10->litellm->tinyagent-py[all]) (1.20.1)\n",
            "Requirement already satisfied: idna>=2.8 in /usr/local/lib/python3.11/dist-packages (from anyio<5.0,>=3.0->gradio>=3.50.0->tinyagent-py[all]) (3.10)\n",
            "Requirement already satisfied: h2<5,>=3.1.0 in /usr/local/lib/python3.11/dist-packages (from grpclib<0.4.9,>=0.4.7->modal->tinyagent-py[all]) (4.2.0)\n",
            "Requirement already satisfied: httpcore==1.* in /usr/local/lib/python3.11/dist-packages (from httpx<1.0,>=0.24.1->gradio>=3.50.0->tinyagent-py[all]) (1.0.9)\n",
            "Requirement already satisfied: h11>=0.16 in /usr/local/lib/python3.11/dist-packages (from httpcore==1.*->httpx<1.0,>=0.24.1->gradio>=3.50.0->tinyagent-py[all]) (0.16.0)\n",
            "Requirement already satisfied: filelock in /usr/local/lib/python3.11/dist-packages (from huggingface-hub<1.0,>=0.33.5->gradio>=3.50.0->tinyagent-py[all]) (3.18.0)\n",
            "Requirement already satisfied: hf-xet<2.0.0,>=1.1.3 in /usr/local/lib/python3.11/dist-packages (from huggingface-hub<1.0,>=0.33.5->gradio>=3.50.0->tinyagent-py[all]) (1.1.7)\n",
            "Requirement already satisfied: zipp>=3.20 in /usr/local/lib/python3.11/dist-packages (from importlib-metadata>=6.8.0->litellm->tinyagent-py[all]) (3.23.0)\n",
            "Requirement already satisfied: jsonschema-specifications>=2023.03.6 in /usr/local/lib/python3.11/dist-packages (from jsonschema<5.0.0,>=4.22.0->litellm->tinyagent-py[all]) (2025.4.1)\n",
            "Requirement already satisfied: referencing>=0.28.4 in /usr/local/lib/python3.11/dist-packages (from jsonschema<5.0.0,>=4.22.0->litellm->tinyagent-py[all]) (0.36.2)\n",
            "Requirement already satisfied: rpds-py>=0.7.1 in /usr/local/lib/python3.11/dist-packages (from jsonschema<5.0.0,>=4.22.0->litellm->tinyagent-py[all]) (0.26.0)\n",
            "Requirement already satisfied: python-dateutil>=2.8.2 in /usr/local/lib/python3.11/dist-packages (from pandas<3.0,>=1.0->gradio>=3.50.0->tinyagent-py[all]) (2.9.0.post0)\n",
            "Requirement already satisfied: pytz>=2020.1 in /usr/local/lib/python3.11/dist-packages (from pandas<3.0,>=1.0->gradio>=3.50.0->tinyagent-py[all]) (2025.2)\n",
            "Requirement already satisfied: tzdata>=2022.7 in /usr/local/lib/python3.11/dist-packages (from pandas<3.0,>=1.0->gradio>=3.50.0->tinyagent-py[all]) (2025.2)\n",
            "Requirement already satisfied: annotated-types>=0.6.0 in /usr/local/lib/python3.11/dist-packages (from pydantic<2.12,>=2.0->gradio>=3.50.0->tinyagent-py[all]) (0.7.0)\n",
            "Requirement already satisfied: pydantic-core==2.33.2 in /usr/local/lib/python3.11/dist-packages (from pydantic<2.12,>=2.0->gradio>=3.50.0->tinyagent-py[all]) (2.33.2)\n",
            "Requirement already satisfied: typing-inspection>=0.4.0 in /usr/local/lib/python3.11/dist-packages (from pydantic<2.12,>=2.0->gradio>=3.50.0->tinyagent-py[all]) (0.4.1)\n",
            "Requirement already satisfied: charset-normalizer<4,>=2 in /usr/local/lib/python3.11/dist-packages (from requests>=2.26.0->tiktoken->tinyagent-py[all]) (3.4.2)\n",
            "Requirement already satisfied: urllib3<3,>=1.21.1 in /usr/local/lib/python3.11/dist-packages (from requests>=2.26.0->tiktoken->tinyagent-py[all]) (2.5.0)\n",
            "Requirement already satisfied: markdown-it-py>=2.2.0 in /usr/local/lib/python3.11/dist-packages (from rich>=12.0.0->modal->tinyagent-py[all]) (3.0.0)\n",
            "Requirement already satisfied: pygments<3.0.0,>=2.13.0 in /usr/local/lib/python3.11/dist-packages (from rich>=12.0.0->modal->tinyagent-py[all]) (2.19.2)\n",
            "Requirement already satisfied: sigtools>=4.0.1 in /usr/local/lib/python3.11/dist-packages (from synchronicity~=0.10.1->modal->tinyagent-py[all]) (4.0.1)\n",
            "Requirement already satisfied: shellingham>=1.3.0 in /usr/local/lib/python3.11/dist-packages (from typer<1.0,>=0.12->gradio>=3.50.0->tinyagent-py[all]) (1.5.4)\n",
            "Requirement already satisfied: hyperframe<7,>=6.1 in /usr/local/lib/python3.11/dist-packages (from h2<5,>=3.1.0->grpclib<0.4.9,>=0.4.7->modal->tinyagent-py[all]) (6.1.0)\n",
            "Requirement already satisfied: hpack<5,>=4.1 in /usr/local/lib/python3.11/dist-packages (from h2<5,>=3.1.0->grpclib<0.4.9,>=0.4.7->modal->tinyagent-py[all]) (4.1.0)\n",
            "Requirement already satisfied: mdurl~=0.1 in /usr/local/lib/python3.11/dist-packages (from markdown-it-py>=2.2.0->rich>=12.0.0->modal->tinyagent-py[all]) (0.1.2)\n",
            "Requirement already satisfied: six>=1.5 in /usr/local/lib/python3.11/dist-packages (from python-dateutil>=2.8.2->pandas<3.0,>=1.0->gradio>=3.50.0->tinyagent-py[all]) (1.17.0)\n",
            "Downloading aiosqlite-0.21.0-py3-none-any.whl (15 kB)\n",
            "Downloading asyncpg-0.30.0-cp311-cp311-manylinux_2_17_x86_64.manylinux2014_x86_64.whl (3.1 MB)\n",
            "\u001b[2K   \u001b[90m━━━━━━━━━━━━━━━━━━━━━━━━━━━━━━━━━━━━━━━━\u001b[0m \u001b[32m3.1/3.1 MB\u001b[0m \u001b[31m31.7 MB/s\u001b[0m eta \u001b[36m0:00:00\u001b[0m\n",
            "\u001b[?25hInstalling collected packages: asyncpg, aiosqlite\n",
            "Successfully installed aiosqlite-0.21.0 asyncpg-0.30.0\n"
          ]
        }
      ]
    },
    {
      "cell_type": "code",
      "source": [
        "import asyncio\n",
        "import os\n",
        "from tinyagent import TinyAgent\n",
        "from tinyagent.tools.subagent import create_general_subagent\n",
        "from tinyagent.tools.todo_write import enable_todo_write_tool"
      ],
      "metadata": {
        "id": "20fgbY0Kv3Ap"
      },
      "execution_count": 10,
      "outputs": []
    },
    {
      "cell_type": "code",
      "source": [
        "from tinyagent.code_agent.example import run_example\n",
        "import asyncio\n",
        "\n",
        "# Run the full example with Gradio interface\n",
        "asyncio.run(run_example())"
      ],
      "metadata": {
        "colab": {
          "base_uri": "https://localhost:8080/",
          "height": 297
        },
        "id": "SkVY474yv8Dp",
        "outputId": "c0883f9e-ee8f-436f-e307-1ac2477f2695"
      },
      "execution_count": 11,
      "outputs": [
        {
          "output_type": "error",
          "ename": "RuntimeError",
          "evalue": "asyncio.run() cannot be called from a running event loop",
          "traceback": [
            "\u001b[0;31m---------------------------------------------------------------------------\u001b[0m",
            "\u001b[0;31mRuntimeError\u001b[0m                              Traceback (most recent call last)",
            "\u001b[0;32m/tmp/ipython-input-78611350.py\u001b[0m in \u001b[0;36m<cell line: 0>\u001b[0;34m()\u001b[0m\n\u001b[1;32m      3\u001b[0m \u001b[0;34m\u001b[0m\u001b[0m\n\u001b[1;32m      4\u001b[0m \u001b[0;31m# Run the full example with Gradio interface\u001b[0m\u001b[0;34m\u001b[0m\u001b[0;34m\u001b[0m\u001b[0m\n\u001b[0;32m----> 5\u001b[0;31m \u001b[0masyncio\u001b[0m\u001b[0;34m.\u001b[0m\u001b[0mrun\u001b[0m\u001b[0;34m(\u001b[0m\u001b[0mrun_example\u001b[0m\u001b[0;34m(\u001b[0m\u001b[0;34m)\u001b[0m\u001b[0;34m)\u001b[0m\u001b[0;34m\u001b[0m\u001b[0;34m\u001b[0m\u001b[0m\n\u001b[0m",
            "\u001b[0;32m/usr/lib/python3.11/asyncio/runners.py\u001b[0m in \u001b[0;36mrun\u001b[0;34m(main, debug)\u001b[0m\n\u001b[1;32m    184\u001b[0m     \u001b[0;32mif\u001b[0m \u001b[0mevents\u001b[0m\u001b[0;34m.\u001b[0m\u001b[0m_get_running_loop\u001b[0m\u001b[0;34m(\u001b[0m\u001b[0;34m)\u001b[0m \u001b[0;32mis\u001b[0m \u001b[0;32mnot\u001b[0m \u001b[0;32mNone\u001b[0m\u001b[0;34m:\u001b[0m\u001b[0;34m\u001b[0m\u001b[0;34m\u001b[0m\u001b[0m\n\u001b[1;32m    185\u001b[0m         \u001b[0;31m# fail fast with short traceback\u001b[0m\u001b[0;34m\u001b[0m\u001b[0;34m\u001b[0m\u001b[0m\n\u001b[0;32m--> 186\u001b[0;31m         raise RuntimeError(\n\u001b[0m\u001b[1;32m    187\u001b[0m             \"asyncio.run() cannot be called from a running event loop\")\n\u001b[1;32m    188\u001b[0m \u001b[0;34m\u001b[0m\u001b[0m\n",
            "\u001b[0;31mRuntimeError\u001b[0m: asyncio.run() cannot be called from a running event loop"
          ]
        }
      ]
    },
    {
      "cell_type": "code",
      "source": [
        "%cd /content\n",
        "!nohup ollama serve &\n",
        "!python main.py"
      ],
      "metadata": {
        "colab": {
          "base_uri": "https://localhost:8080/"
        },
        "id": "0Q_BGOLAwHzZ",
        "outputId": "1fe1bfb3-60ce-4372-9fc9-6c4505ad6323"
      },
      "execution_count": 12,
      "outputs": [
        {
          "output_type": "stream",
          "name": "stdout",
          "text": [
            "/content\n",
            "nohup: appending output to 'nohup.out'\n",
            "\n",
            "\u001b[1;31mGive Feedback / Get Help: https://github.com/BerriAI/litellm/issues/new\u001b[0m\n",
            "LiteLLM.Info: If you need to debug this error, use `litellm._turn_on_debug()'.\n",
            "\n",
            "LLM call failed (attempt 1/6) - general error: litellm.AuthenticationError: AuthenticationError: OpenAIException - The api_key client option must be set either by passing api_key to the client or by setting the OPENAI_API_KEY environment variable. Will retry.\n",
            "Retry attempt 1/5 for LLM call after 1.12s delay. Previous error: litellm.AuthenticationError: AuthenticationError: OpenAIException - The api_key client option must be set either by passing api_key to the client or by setting the OPENAI_API_KEY environment variable\n",
            "\n",
            "\u001b[1;31mGive Feedback / Get Help: https://github.com/BerriAI/litellm/issues/new\u001b[0m\n",
            "LiteLLM.Info: If you need to debug this error, use `litellm._turn_on_debug()'.\n",
            "\n",
            "LLM call failed (attempt 2/6) - general error: litellm.AuthenticationError: AuthenticationError: OpenAIException - The api_key client option must be set either by passing api_key to the client or by setting the OPENAI_API_KEY environment variable. Will retry.\n",
            "Retry attempt 2/5 for LLM call after 2.16s delay. Previous error: litellm.AuthenticationError: AuthenticationError: OpenAIException - The api_key client option must be set either by passing api_key to the client or by setting the OPENAI_API_KEY environment variable\n",
            "\n",
            "\u001b[1;31mGive Feedback / Get Help: https://github.com/BerriAI/litellm/issues/new\u001b[0m\n",
            "LiteLLM.Info: If you need to debug this error, use `litellm._turn_on_debug()'.\n",
            "\n",
            "LLM call failed (attempt 3/6) - general error: litellm.AuthenticationError: AuthenticationError: OpenAIException - The api_key client option must be set either by passing api_key to the client or by setting the OPENAI_API_KEY environment variable. Will retry.\n",
            "Retry attempt 3/5 for LLM call after 3.96s delay. Previous error: litellm.AuthenticationError: AuthenticationError: OpenAIException - The api_key client option must be set either by passing api_key to the client or by setting the OPENAI_API_KEY environment variable\n",
            "\n",
            "\u001b[1;31mGive Feedback / Get Help: https://github.com/BerriAI/litellm/issues/new\u001b[0m\n",
            "LiteLLM.Info: If you need to debug this error, use `litellm._turn_on_debug()'.\n",
            "\n",
            "LLM call failed (attempt 4/6) - general error: litellm.AuthenticationError: AuthenticationError: OpenAIException - The api_key client option must be set either by passing api_key to the client or by setting the OPENAI_API_KEY environment variable. Will retry.\n",
            "Retry attempt 4/5 for LLM call after 8.03s delay. Previous error: litellm.AuthenticationError: AuthenticationError: OpenAIException - The api_key client option must be set either by passing api_key to the client or by setting the OPENAI_API_KEY environment variable\n",
            "\n",
            "\u001b[1;31mGive Feedback / Get Help: https://github.com/BerriAI/litellm/issues/new\u001b[0m\n",
            "LiteLLM.Info: If you need to debug this error, use `litellm._turn_on_debug()'.\n",
            "\n",
            "LLM call failed (attempt 5/6) - general error: litellm.AuthenticationError: AuthenticationError: OpenAIException - The api_key client option must be set either by passing api_key to the client or by setting the OPENAI_API_KEY environment variable. Will retry.\n",
            "Retry attempt 5/5 for LLM call after 13.80s delay. Previous error: litellm.AuthenticationError: AuthenticationError: OpenAIException - The api_key client option must be set either by passing api_key to the client or by setting the OPENAI_API_KEY environment variable\n",
            "\n",
            "\u001b[1;31mGive Feedback / Get Help: https://github.com/BerriAI/litellm/issues/new\u001b[0m\n",
            "LiteLLM.Info: If you need to debug this error, use `litellm._turn_on_debug()'.\n",
            "\n",
            "LLM call failed after 5 attempt(s). Error: litellm.AuthenticationError: AuthenticationError: OpenAIException - The api_key client option must be set either by passing api_key to the client or by setting the OPENAI_API_KEY environment variable\n",
            "Error in agent loop: litellm.AuthenticationError: AuthenticationError: OpenAIException - The api_key client option must be set either by passing api_key to the client or by setting the OPENAI_API_KEY environment variable\n",
            "Assistant: Error: litellm.AuthenticationError: AuthenticationError: OpenAIException - The api_key client option must be set either by passing api_key to the client or by setting the OPENAI_API_KEY environment variable\n"
          ]
        }
      ]
    },
    {
      "cell_type": "code",
      "source": [
        "import asyncio\n",
        "from tinyagent import TinyCodeAgent\n",
        "from textwrap import dedent\n",
        "\n",
        "# تهيئة TinyCodeAgent لاستخدام نموذج Ollama المحلي\n",
        "# \"ollama/llama3\" يخبر LiteLLM باستخدام نموذج llama3 من خادم Ollama\n",
        "agent = TinyCodeAgent(model=\"ollama/llama2\")\n",
        "\n",
        "async def main():\n",
        "    # مثال على مهمة يمكن للـ agent تنفيذها\n",
        "    # سيقوم الـ agent بكتابة وتنفيذ كود بايثون لحل هذه المهمة\n",
        "    response = await agent.run(dedent(\"\"\"\n",
        "    اقترح لي 13 وسمًا (tags) لقائمة منتجاتي على Etsy،\n",
        "    يجب أن يكون كل وسم متعدد الكلمات وبحد أقصى 20 حرفًا.\n",
        "    يجب استخدام كل كلمة مرة واحدة فقط في جميع الوسوم.\n",
        "    يجب أن تغطي الوسوم طرقًا مختلفة يبحث بها الأشخاص عن المنتج على Etsy.\n",
        "    - يجب عليك استخدام قدراتك في البرمجة للتحقق من أن إجابتك تفي بالمعايير\n",
        "    ومواصلة عملك حتى تصل إلى الإجابة.\n",
        "\n",
        "    منتجي هو **مجموعة دعوات زفاف مكونة من 3 قطع، باللون الأخضر المريمي، مع إطار من ورق الذهب.**\n",
        "    \"\"\"), max_turns=20)\n",
        "\n",
        "    print(response)\n",
        "\n",
        "# تشغيل الدالة الرئيسية بشكل غير متزامن\n",
        "await main()"
      ],
      "metadata": {
        "colab": {
          "base_uri": "https://localhost:8080/",
          "height": 671
        },
        "id": "QSPTEufKwtHB",
        "outputId": "9178a637-2963-428b-b6ae-b8b56b833bc2"
      },
      "execution_count": 13,
      "outputs": [
        {
          "output_type": "stream",
          "name": "stdout",
          "text": [
            "☁️ REMOTE ModalProvider setting up Modal app\n"
          ]
        },
        {
          "output_type": "stream",
          "name": "stderr",
          "text": [
            "WARNING:tinyagent.tiny_agent:LLM call failed (attempt 1/6) - general error: litellm.APIConnectionError: OllamaException - litellm.Timeout: Connection timed out. Timeout passed=600.0, time taken=600.049 seconds. Will retry.\n",
            "WARNING:tinyagent.tiny_agent:Retry attempt 1/5 for LLM call after 0.91s delay. Previous error: litellm.APIConnectionError: OllamaException - litellm.Timeout: Connection timed out. Timeout passed=600.0, time taken=600.049 seconds\n"
          ]
        },
        {
          "output_type": "stream",
          "name": "stdout",
          "text": [
            "\n",
            "\u001b[1;31mGive Feedback / Get Help: https://github.com/BerriAI/litellm/issues/new\u001b[0m\n",
            "LiteLLM.Info: If you need to debug this error, use `litellm._turn_on_debug()'.\n",
            "\n"
          ]
        },
        {
          "output_type": "stream",
          "name": "stderr",
          "text": [
            "WARNING:tinyagent.tiny_agent:LLM call failed (attempt 2/6) - general error: litellm.APIConnectionError: OllamaException - litellm.Timeout: Connection timed out. Timeout passed=600.0, time taken=600.105 seconds. Will retry.\n",
            "WARNING:tinyagent.tiny_agent:Retry attempt 2/5 for LLM call after 1.98s delay. Previous error: litellm.APIConnectionError: OllamaException - litellm.Timeout: Connection timed out. Timeout passed=600.0, time taken=600.105 seconds\n"
          ]
        },
        {
          "output_type": "stream",
          "name": "stdout",
          "text": [
            "\n",
            "\u001b[1;31mGive Feedback / Get Help: https://github.com/BerriAI/litellm/issues/new\u001b[0m\n",
            "LiteLLM.Info: If you need to debug this error, use `litellm._turn_on_debug()'.\n",
            "\n"
          ]
        },
        {
          "output_type": "stream",
          "name": "stderr",
          "text": [
            "WARNING:tinyagent.tiny_agent:LLM call failed (attempt 3/6) - general error: litellm.APIConnectionError: OllamaException - litellm.Timeout: Connection timed out. Timeout passed=600.0, time taken=600.025 seconds. Will retry.\n",
            "WARNING:tinyagent.tiny_agent:Retry attempt 3/5 for LLM call after 3.42s delay. Previous error: litellm.APIConnectionError: OllamaException - litellm.Timeout: Connection timed out. Timeout passed=600.0, time taken=600.025 seconds\n"
          ]
        },
        {
          "output_type": "stream",
          "name": "stdout",
          "text": [
            "\n",
            "\u001b[1;31mGive Feedback / Get Help: https://github.com/BerriAI/litellm/issues/new\u001b[0m\n",
            "LiteLLM.Info: If you need to debug this error, use `litellm._turn_on_debug()'.\n",
            "\n"
          ]
        },
        {
          "output_type": "error",
          "ename": "CancelledError",
          "evalue": "",
          "traceback": [
            "\u001b[0;31m---------------------------------------------------------------------------\u001b[0m",
            "\u001b[0;31mCancelledError\u001b[0m                            Traceback (most recent call last)",
            "\u001b[0;32m/tmp/ipython-input-2485631731.py\u001b[0m in \u001b[0;36m<cell line: 1>\u001b[0;34m()\u001b[0m\n\u001b[1;32m     24\u001b[0m \u001b[0;34m\u001b[0m\u001b[0m\n\u001b[1;32m     25\u001b[0m \u001b[0;31m# تشغيل الدالة الرئيسية بشكل غير متزامن\u001b[0m\u001b[0;34m\u001b[0m\u001b[0;34m\u001b[0m\u001b[0m\n\u001b[0;32m---> 26\u001b[0;31m \u001b[0;32mawait\u001b[0m \u001b[0mmain\u001b[0m\u001b[0;34m(\u001b[0m\u001b[0;34m)\u001b[0m\u001b[0;34m\u001b[0m\u001b[0;34m\u001b[0m\u001b[0m\n\u001b[0m",
            "\u001b[0;32m/tmp/ipython-input-2485631731.py\u001b[0m in \u001b[0;36mmain\u001b[0;34m()\u001b[0m\n\u001b[1;32m     10\u001b[0m     \u001b[0;31m# مثال على مهمة يمكن للـ agent تنفيذها\u001b[0m\u001b[0;34m\u001b[0m\u001b[0;34m\u001b[0m\u001b[0m\n\u001b[1;32m     11\u001b[0m     \u001b[0;31m# سيقوم الـ agent بكتابة وتنفيذ كود بايثون لحل هذه المهمة\u001b[0m\u001b[0;34m\u001b[0m\u001b[0;34m\u001b[0m\u001b[0m\n\u001b[0;32m---> 12\u001b[0;31m     response = await agent.run(dedent(\"\"\"\n\u001b[0m\u001b[1;32m     13\u001b[0m     \u001b[0mاقترح\u001b[0m \u001b[0mلي\u001b[0m \u001b[0;36m13\u001b[0m \u001b[0mوسم\u001b[0m\u001b[0;31mً\u001b[0m\u001b[0mا\u001b[0m \u001b[0;34m(\u001b[0m\u001b[0mtags\u001b[0m\u001b[0;34m)\u001b[0m \u001b[0mلقائمة\u001b[0m \u001b[0mمنتجاتي\u001b[0m \u001b[0mعلى\u001b[0m \u001b[0mEtsy\u001b[0m\u001b[0;31m،\u001b[0m\u001b[0;34m\u001b[0m\u001b[0;34m\u001b[0m\u001b[0m\n\u001b[1;32m     14\u001b[0m     \u001b[0mيجب\u001b[0m \u001b[0mأن\u001b[0m \u001b[0mيكون\u001b[0m \u001b[0mكل\u001b[0m \u001b[0mوسم\u001b[0m \u001b[0mمتعدد\u001b[0m \u001b[0mالكلمات\u001b[0m \u001b[0mوبحد\u001b[0m \u001b[0mأقصى\u001b[0m \u001b[0;36m20\u001b[0m \u001b[0mحرف\u001b[0m\u001b[0;31mً\u001b[0m\u001b[0mا\u001b[0m\u001b[0;34m.\u001b[0m\u001b[0;34m\u001b[0m\u001b[0;34m\u001b[0m\u001b[0m\n",
            "\u001b[0;32m/usr/local/lib/python3.11/dist-packages/tinyagent/tiny_agent.py\u001b[0m in \u001b[0;36mrun\u001b[0;34m(self, user_input, max_turns)\u001b[0m\n\u001b[1;32m    981\u001b[0m         \u001b[0;32mawait\u001b[0m \u001b[0mself\u001b[0m\u001b[0;34m.\u001b[0m\u001b[0m_run_callbacks\u001b[0m\u001b[0;34m(\u001b[0m\u001b[0;34m\"message_add\"\u001b[0m\u001b[0;34m,\u001b[0m \u001b[0mmessage\u001b[0m\u001b[0;34m=\u001b[0m\u001b[0mself\u001b[0m\u001b[0;34m.\u001b[0m\u001b[0mmessages\u001b[0m\u001b[0;34m[\u001b[0m\u001b[0;34m-\u001b[0m\u001b[0;36m1\u001b[0m\u001b[0;34m]\u001b[0m\u001b[0;34m)\u001b[0m\u001b[0;34m\u001b[0m\u001b[0;34m\u001b[0m\u001b[0m\n\u001b[1;32m    982\u001b[0m \u001b[0;34m\u001b[0m\u001b[0m\n\u001b[0;32m--> 983\u001b[0;31m         \u001b[0;32mreturn\u001b[0m \u001b[0;32mawait\u001b[0m \u001b[0mself\u001b[0m\u001b[0;34m.\u001b[0m\u001b[0m_run_agent_loop\u001b[0m\u001b[0;34m(\u001b[0m\u001b[0mmax_turns\u001b[0m\u001b[0;34m)\u001b[0m\u001b[0;34m\u001b[0m\u001b[0;34m\u001b[0m\u001b[0m\n\u001b[0m\u001b[1;32m    984\u001b[0m \u001b[0;34m\u001b[0m\u001b[0m\n\u001b[1;32m    985\u001b[0m     \u001b[0;32masync\u001b[0m \u001b[0;32mdef\u001b[0m \u001b[0mresume\u001b[0m\u001b[0;34m(\u001b[0m\u001b[0mself\u001b[0m\u001b[0;34m,\u001b[0m \u001b[0mmax_turns\u001b[0m\u001b[0;34m:\u001b[0m \u001b[0mint\u001b[0m \u001b[0;34m=\u001b[0m \u001b[0;36m10\u001b[0m\u001b[0;34m)\u001b[0m \u001b[0;34m->\u001b[0m \u001b[0mstr\u001b[0m\u001b[0;34m:\u001b[0m\u001b[0;34m\u001b[0m\u001b[0;34m\u001b[0m\u001b[0m\n",
            "\u001b[0;32m/usr/local/lib/python3.11/dist-packages/tinyagent/tiny_agent.py\u001b[0m in \u001b[0;36m_run_agent_loop\u001b[0;34m(self, max_turns)\u001b[0m\n\u001b[1;32m   1075\u001b[0m \u001b[0;34m\u001b[0m\u001b[0m\n\u001b[1;32m   1076\u001b[0m                 \u001b[0;31m# Use our retry wrapper with the potentially modified messages from hooks\u001b[0m\u001b[0;34m\u001b[0m\u001b[0;34m\u001b[0m\u001b[0m\n\u001b[0;32m-> 1077\u001b[0;31m                 response = await self._litellm_with_retry(\n\u001b[0m\u001b[1;32m   1078\u001b[0m                     \u001b[0mmodel\u001b[0m\u001b[0;34m=\u001b[0m\u001b[0mself\u001b[0m\u001b[0;34m.\u001b[0m\u001b[0mmodel\u001b[0m\u001b[0;34m,\u001b[0m\u001b[0;34m\u001b[0m\u001b[0;34m\u001b[0m\u001b[0m\n\u001b[1;32m   1079\u001b[0m                     \u001b[0mapi_key\u001b[0m\u001b[0;34m=\u001b[0m\u001b[0mself\u001b[0m\u001b[0;34m.\u001b[0m\u001b[0mapi_key\u001b[0m\u001b[0;34m,\u001b[0m\u001b[0;34m\u001b[0m\u001b[0;34m\u001b[0m\u001b[0m\n",
            "\u001b[0;32m/usr/local/lib/python3.11/dist-packages/tinyagent/tiny_agent.py\u001b[0m in \u001b[0;36m_litellm_with_retry\u001b[0;34m(self, **kwargs)\u001b[0m\n\u001b[1;32m   1542\u001b[0m \u001b[0;34m\u001b[0m\u001b[0m\n\u001b[1;32m   1543\u001b[0m                 \u001b[0;31m# Make the actual API call\u001b[0m\u001b[0;34m\u001b[0m\u001b[0;34m\u001b[0m\u001b[0m\n\u001b[0;32m-> 1544\u001b[0;31m                 \u001b[0;32mreturn\u001b[0m \u001b[0;32mawait\u001b[0m \u001b[0mlitellm\u001b[0m\u001b[0;34m.\u001b[0m\u001b[0macompletion\u001b[0m\u001b[0;34m(\u001b[0m\u001b[0;34m**\u001b[0m\u001b[0mkwargs\u001b[0m\u001b[0;34m)\u001b[0m\u001b[0;34m\u001b[0m\u001b[0;34m\u001b[0m\u001b[0m\n\u001b[0m\u001b[1;32m   1545\u001b[0m \u001b[0;34m\u001b[0m\u001b[0m\n\u001b[1;32m   1546\u001b[0m             \u001b[0;32mexcept\u001b[0m \u001b[0mException\u001b[0m \u001b[0;32mas\u001b[0m \u001b[0me\u001b[0m\u001b[0;34m:\u001b[0m\u001b[0;34m\u001b[0m\u001b[0;34m\u001b[0m\u001b[0m\n",
            "\u001b[0;32m/usr/local/lib/python3.11/dist-packages/litellm/utils.py\u001b[0m in \u001b[0;36mwrapper_async\u001b[0;34m(*args, **kwargs)\u001b[0m\n\u001b[1;32m   1435\u001b[0m \u001b[0;34m\u001b[0m\u001b[0m\n\u001b[1;32m   1436\u001b[0m             \u001b[0;31m# MODEL CALL\u001b[0m\u001b[0;34m\u001b[0m\u001b[0;34m\u001b[0m\u001b[0m\n\u001b[0;32m-> 1437\u001b[0;31m             \u001b[0mresult\u001b[0m \u001b[0;34m=\u001b[0m \u001b[0;32mawait\u001b[0m \u001b[0moriginal_function\u001b[0m\u001b[0;34m(\u001b[0m\u001b[0;34m*\u001b[0m\u001b[0margs\u001b[0m\u001b[0;34m,\u001b[0m \u001b[0;34m**\u001b[0m\u001b[0mkwargs\u001b[0m\u001b[0;34m)\u001b[0m\u001b[0;34m\u001b[0m\u001b[0;34m\u001b[0m\u001b[0m\n\u001b[0m\u001b[1;32m   1438\u001b[0m             \u001b[0mend_time\u001b[0m \u001b[0;34m=\u001b[0m \u001b[0mdatetime\u001b[0m\u001b[0;34m.\u001b[0m\u001b[0mdatetime\u001b[0m\u001b[0;34m.\u001b[0m\u001b[0mnow\u001b[0m\u001b[0;34m(\u001b[0m\u001b[0;34m)\u001b[0m\u001b[0;34m\u001b[0m\u001b[0;34m\u001b[0m\u001b[0m\n\u001b[1;32m   1439\u001b[0m             if _is_streaming_request(\n",
            "\u001b[0;32m/usr/local/lib/python3.11/dist-packages/litellm/main.py\u001b[0m in \u001b[0;36macompletion\u001b[0;34m(model, messages, functions, function_call, timeout, temperature, top_p, n, stream, stream_options, stop, max_tokens, max_completion_tokens, modalities, prediction, audio, presence_penalty, frequency_penalty, logit_bias, user, response_format, seed, tools, tool_choice, parallel_tool_calls, logprobs, top_logprobs, deployment_id, reasoning_effort, base_url, api_version, api_key, model_list, extra_headers, thinking, web_search_options, **kwargs)\u001b[0m\n\u001b[1;32m    542\u001b[0m             \u001b[0mresponse\u001b[0m \u001b[0;34m=\u001b[0m \u001b[0minit_response\u001b[0m\u001b[0;34m\u001b[0m\u001b[0;34m\u001b[0m\u001b[0m\n\u001b[1;32m    543\u001b[0m         \u001b[0;32melif\u001b[0m \u001b[0masyncio\u001b[0m\u001b[0;34m.\u001b[0m\u001b[0miscoroutine\u001b[0m\u001b[0;34m(\u001b[0m\u001b[0minit_response\u001b[0m\u001b[0;34m)\u001b[0m\u001b[0;34m:\u001b[0m\u001b[0;34m\u001b[0m\u001b[0;34m\u001b[0m\u001b[0m\n\u001b[0;32m--> 544\u001b[0;31m             \u001b[0mresponse\u001b[0m \u001b[0;34m=\u001b[0m \u001b[0;32mawait\u001b[0m \u001b[0minit_response\u001b[0m\u001b[0;34m\u001b[0m\u001b[0;34m\u001b[0m\u001b[0m\n\u001b[0m\u001b[1;32m    545\u001b[0m         \u001b[0;32melse\u001b[0m\u001b[0;34m:\u001b[0m\u001b[0;34m\u001b[0m\u001b[0;34m\u001b[0m\u001b[0m\n\u001b[1;32m    546\u001b[0m             \u001b[0mresponse\u001b[0m \u001b[0;34m=\u001b[0m \u001b[0minit_response\u001b[0m  \u001b[0;31m# type: ignore\u001b[0m\u001b[0;34m\u001b[0m\u001b[0;34m\u001b[0m\u001b[0m\n",
            "\u001b[0;32m/usr/local/lib/python3.11/dist-packages/litellm/llms/custom_httpx/llm_http_handler.py\u001b[0m in \u001b[0;36masync_completion\u001b[0;34m(self, custom_llm_provider, provider_config, api_base, headers, data, timeout, model, model_response, logging_obj, messages, optional_params, litellm_params, encoding, api_key, client, json_mode, signed_json_body)\u001b[0m\n\u001b[1;32m    239\u001b[0m             \u001b[0masync_httpx_client\u001b[0m \u001b[0;34m=\u001b[0m \u001b[0mclient\u001b[0m\u001b[0;34m\u001b[0m\u001b[0;34m\u001b[0m\u001b[0m\n\u001b[1;32m    240\u001b[0m \u001b[0;34m\u001b[0m\u001b[0m\n\u001b[0;32m--> 241\u001b[0;31m         response = await self._make_common_async_call(\n\u001b[0m\u001b[1;32m    242\u001b[0m             \u001b[0masync_httpx_client\u001b[0m\u001b[0;34m=\u001b[0m\u001b[0masync_httpx_client\u001b[0m\u001b[0;34m,\u001b[0m\u001b[0;34m\u001b[0m\u001b[0;34m\u001b[0m\u001b[0m\n\u001b[1;32m    243\u001b[0m             \u001b[0mprovider_config\u001b[0m\u001b[0;34m=\u001b[0m\u001b[0mprovider_config\u001b[0m\u001b[0;34m,\u001b[0m\u001b[0;34m\u001b[0m\u001b[0;34m\u001b[0m\u001b[0m\n",
            "\u001b[0;32m/usr/local/lib/python3.11/dist-packages/litellm/llms/custom_httpx/llm_http_handler.py\u001b[0m in \u001b[0;36m_make_common_async_call\u001b[0;34m(self, async_httpx_client, provider_config, api_base, headers, data, timeout, litellm_params, logging_obj, stream, signed_json_body)\u001b[0m\n\u001b[1;32m    112\u001b[0m         \u001b[0;32mfor\u001b[0m \u001b[0mi\u001b[0m \u001b[0;32min\u001b[0m \u001b[0mrange\u001b[0m\u001b[0;34m(\u001b[0m\u001b[0mmax\u001b[0m\u001b[0;34m(\u001b[0m\u001b[0mmax_retry_on_unprocessable_entity_error\u001b[0m\u001b[0;34m,\u001b[0m \u001b[0;36m1\u001b[0m\u001b[0;34m)\u001b[0m\u001b[0;34m)\u001b[0m\u001b[0;34m:\u001b[0m\u001b[0;34m\u001b[0m\u001b[0;34m\u001b[0m\u001b[0m\n\u001b[1;32m    113\u001b[0m             \u001b[0;32mtry\u001b[0m\u001b[0;34m:\u001b[0m\u001b[0;34m\u001b[0m\u001b[0;34m\u001b[0m\u001b[0m\n\u001b[0;32m--> 114\u001b[0;31m                 response = await async_httpx_client.post(\n\u001b[0m\u001b[1;32m    115\u001b[0m                     \u001b[0murl\u001b[0m\u001b[0;34m=\u001b[0m\u001b[0mapi_base\u001b[0m\u001b[0;34m,\u001b[0m\u001b[0;34m\u001b[0m\u001b[0;34m\u001b[0m\u001b[0m\n\u001b[1;32m    116\u001b[0m                     \u001b[0mheaders\u001b[0m\u001b[0;34m=\u001b[0m\u001b[0mheaders\u001b[0m\u001b[0;34m,\u001b[0m\u001b[0;34m\u001b[0m\u001b[0;34m\u001b[0m\u001b[0m\n",
            "\u001b[0;32m/usr/local/lib/python3.11/dist-packages/litellm/litellm_core_utils/logging_utils.py\u001b[0m in \u001b[0;36masync_wrapper\u001b[0;34m(*args, **kwargs)\u001b[0m\n\u001b[1;32m    133\u001b[0m             \u001b[0mstart_time\u001b[0m \u001b[0;34m=\u001b[0m \u001b[0mdatetime\u001b[0m\u001b[0;34m.\u001b[0m\u001b[0mnow\u001b[0m\u001b[0;34m(\u001b[0m\u001b[0;34m)\u001b[0m\u001b[0;34m\u001b[0m\u001b[0;34m\u001b[0m\u001b[0m\n\u001b[1;32m    134\u001b[0m             \u001b[0;32mtry\u001b[0m\u001b[0;34m:\u001b[0m\u001b[0;34m\u001b[0m\u001b[0;34m\u001b[0m\u001b[0m\n\u001b[0;32m--> 135\u001b[0;31m                 \u001b[0mresult\u001b[0m \u001b[0;34m=\u001b[0m \u001b[0;32mawait\u001b[0m \u001b[0mfunc\u001b[0m\u001b[0;34m(\u001b[0m\u001b[0;34m*\u001b[0m\u001b[0margs\u001b[0m\u001b[0;34m,\u001b[0m \u001b[0;34m**\u001b[0m\u001b[0mkwargs\u001b[0m\u001b[0;34m)\u001b[0m\u001b[0;34m\u001b[0m\u001b[0;34m\u001b[0m\u001b[0m\n\u001b[0m\u001b[1;32m    136\u001b[0m                 \u001b[0;32mreturn\u001b[0m \u001b[0mresult\u001b[0m\u001b[0;34m\u001b[0m\u001b[0;34m\u001b[0m\u001b[0m\n\u001b[1;32m    137\u001b[0m             \u001b[0;32mfinally\u001b[0m\u001b[0;34m:\u001b[0m\u001b[0;34m\u001b[0m\u001b[0;34m\u001b[0m\u001b[0m\n",
            "\u001b[0;32m/usr/local/lib/python3.11/dist-packages/litellm/llms/custom_httpx/http_handler.py\u001b[0m in \u001b[0;36mpost\u001b[0;34m(self, url, data, json, params, headers, timeout, stream, logging_obj, files, content)\u001b[0m\n\u001b[1;32m    277\u001b[0m                 \u001b[0mcontent\u001b[0m\u001b[0;34m=\u001b[0m\u001b[0mcontent\u001b[0m\u001b[0;34m,\u001b[0m\u001b[0;34m\u001b[0m\u001b[0;34m\u001b[0m\u001b[0m\n\u001b[1;32m    278\u001b[0m             )\n\u001b[0;32m--> 279\u001b[0;31m             \u001b[0mresponse\u001b[0m \u001b[0;34m=\u001b[0m \u001b[0;32mawait\u001b[0m \u001b[0mself\u001b[0m\u001b[0;34m.\u001b[0m\u001b[0mclient\u001b[0m\u001b[0;34m.\u001b[0m\u001b[0msend\u001b[0m\u001b[0;34m(\u001b[0m\u001b[0mreq\u001b[0m\u001b[0;34m,\u001b[0m \u001b[0mstream\u001b[0m\u001b[0;34m=\u001b[0m\u001b[0mstream\u001b[0m\u001b[0;34m)\u001b[0m\u001b[0;34m\u001b[0m\u001b[0;34m\u001b[0m\u001b[0m\n\u001b[0m\u001b[1;32m    280\u001b[0m             \u001b[0mresponse\u001b[0m\u001b[0;34m.\u001b[0m\u001b[0mraise_for_status\u001b[0m\u001b[0;34m(\u001b[0m\u001b[0;34m)\u001b[0m\u001b[0;34m\u001b[0m\u001b[0;34m\u001b[0m\u001b[0m\n\u001b[1;32m    281\u001b[0m             \u001b[0;32mreturn\u001b[0m \u001b[0mresponse\u001b[0m\u001b[0;34m\u001b[0m\u001b[0;34m\u001b[0m\u001b[0m\n",
            "\u001b[0;32m/usr/local/lib/python3.11/dist-packages/httpx/_client.py\u001b[0m in \u001b[0;36msend\u001b[0;34m(self, request, stream, auth, follow_redirects)\u001b[0m\n\u001b[1;32m   1627\u001b[0m         \u001b[0mauth\u001b[0m \u001b[0;34m=\u001b[0m \u001b[0mself\u001b[0m\u001b[0;34m.\u001b[0m\u001b[0m_build_request_auth\u001b[0m\u001b[0;34m(\u001b[0m\u001b[0mrequest\u001b[0m\u001b[0;34m,\u001b[0m \u001b[0mauth\u001b[0m\u001b[0;34m)\u001b[0m\u001b[0;34m\u001b[0m\u001b[0;34m\u001b[0m\u001b[0m\n\u001b[1;32m   1628\u001b[0m \u001b[0;34m\u001b[0m\u001b[0m\n\u001b[0;32m-> 1629\u001b[0;31m         response = await self._send_handling_auth(\n\u001b[0m\u001b[1;32m   1630\u001b[0m             \u001b[0mrequest\u001b[0m\u001b[0;34m,\u001b[0m\u001b[0;34m\u001b[0m\u001b[0;34m\u001b[0m\u001b[0m\n\u001b[1;32m   1631\u001b[0m             \u001b[0mauth\u001b[0m\u001b[0;34m=\u001b[0m\u001b[0mauth\u001b[0m\u001b[0;34m,\u001b[0m\u001b[0;34m\u001b[0m\u001b[0;34m\u001b[0m\u001b[0m\n",
            "\u001b[0;32m/usr/local/lib/python3.11/dist-packages/httpx/_client.py\u001b[0m in \u001b[0;36m_send_handling_auth\u001b[0;34m(self, request, auth, follow_redirects, history)\u001b[0m\n\u001b[1;32m   1655\u001b[0m \u001b[0;34m\u001b[0m\u001b[0m\n\u001b[1;32m   1656\u001b[0m             \u001b[0;32mwhile\u001b[0m \u001b[0;32mTrue\u001b[0m\u001b[0;34m:\u001b[0m\u001b[0;34m\u001b[0m\u001b[0;34m\u001b[0m\u001b[0m\n\u001b[0;32m-> 1657\u001b[0;31m                 response = await self._send_handling_redirects(\n\u001b[0m\u001b[1;32m   1658\u001b[0m                     \u001b[0mrequest\u001b[0m\u001b[0;34m,\u001b[0m\u001b[0;34m\u001b[0m\u001b[0;34m\u001b[0m\u001b[0m\n\u001b[1;32m   1659\u001b[0m                     \u001b[0mfollow_redirects\u001b[0m\u001b[0;34m=\u001b[0m\u001b[0mfollow_redirects\u001b[0m\u001b[0;34m,\u001b[0m\u001b[0;34m\u001b[0m\u001b[0;34m\u001b[0m\u001b[0m\n",
            "\u001b[0;32m/usr/local/lib/python3.11/dist-packages/httpx/_client.py\u001b[0m in \u001b[0;36m_send_handling_redirects\u001b[0;34m(self, request, follow_redirects, history)\u001b[0m\n\u001b[1;32m   1692\u001b[0m                 \u001b[0;32mawait\u001b[0m \u001b[0mhook\u001b[0m\u001b[0;34m(\u001b[0m\u001b[0mrequest\u001b[0m\u001b[0;34m)\u001b[0m\u001b[0;34m\u001b[0m\u001b[0;34m\u001b[0m\u001b[0m\n\u001b[1;32m   1693\u001b[0m \u001b[0;34m\u001b[0m\u001b[0m\n\u001b[0;32m-> 1694\u001b[0;31m             \u001b[0mresponse\u001b[0m \u001b[0;34m=\u001b[0m \u001b[0;32mawait\u001b[0m \u001b[0mself\u001b[0m\u001b[0;34m.\u001b[0m\u001b[0m_send_single_request\u001b[0m\u001b[0;34m(\u001b[0m\u001b[0mrequest\u001b[0m\u001b[0;34m)\u001b[0m\u001b[0;34m\u001b[0m\u001b[0;34m\u001b[0m\u001b[0m\n\u001b[0m\u001b[1;32m   1695\u001b[0m             \u001b[0;32mtry\u001b[0m\u001b[0;34m:\u001b[0m\u001b[0;34m\u001b[0m\u001b[0;34m\u001b[0m\u001b[0m\n\u001b[1;32m   1696\u001b[0m                 \u001b[0;32mfor\u001b[0m \u001b[0mhook\u001b[0m \u001b[0;32min\u001b[0m \u001b[0mself\u001b[0m\u001b[0;34m.\u001b[0m\u001b[0m_event_hooks\u001b[0m\u001b[0;34m[\u001b[0m\u001b[0;34m\"response\"\u001b[0m\u001b[0;34m]\u001b[0m\u001b[0;34m:\u001b[0m\u001b[0;34m\u001b[0m\u001b[0;34m\u001b[0m\u001b[0m\n",
            "\u001b[0;32m/usr/local/lib/python3.11/dist-packages/httpx/_client.py\u001b[0m in \u001b[0;36m_send_single_request\u001b[0;34m(self, request)\u001b[0m\n\u001b[1;32m   1728\u001b[0m \u001b[0;34m\u001b[0m\u001b[0m\n\u001b[1;32m   1729\u001b[0m         \u001b[0;32mwith\u001b[0m \u001b[0mrequest_context\u001b[0m\u001b[0;34m(\u001b[0m\u001b[0mrequest\u001b[0m\u001b[0;34m=\u001b[0m\u001b[0mrequest\u001b[0m\u001b[0;34m)\u001b[0m\u001b[0;34m:\u001b[0m\u001b[0;34m\u001b[0m\u001b[0;34m\u001b[0m\u001b[0m\n\u001b[0;32m-> 1730\u001b[0;31m             \u001b[0mresponse\u001b[0m \u001b[0;34m=\u001b[0m \u001b[0;32mawait\u001b[0m \u001b[0mtransport\u001b[0m\u001b[0;34m.\u001b[0m\u001b[0mhandle_async_request\u001b[0m\u001b[0;34m(\u001b[0m\u001b[0mrequest\u001b[0m\u001b[0;34m)\u001b[0m\u001b[0;34m\u001b[0m\u001b[0;34m\u001b[0m\u001b[0m\n\u001b[0m\u001b[1;32m   1731\u001b[0m \u001b[0;34m\u001b[0m\u001b[0m\n\u001b[1;32m   1732\u001b[0m         \u001b[0;32massert\u001b[0m \u001b[0misinstance\u001b[0m\u001b[0;34m(\u001b[0m\u001b[0mresponse\u001b[0m\u001b[0;34m.\u001b[0m\u001b[0mstream\u001b[0m\u001b[0;34m,\u001b[0m \u001b[0mAsyncByteStream\u001b[0m\u001b[0;34m)\u001b[0m\u001b[0;34m\u001b[0m\u001b[0;34m\u001b[0m\u001b[0m\n",
            "\u001b[0;32m/usr/local/lib/python3.11/dist-packages/litellm/llms/custom_httpx/aiohttp_transport.py\u001b[0m in \u001b[0;36mhandle_async_request\u001b[0;34m(self, request)\u001b[0m\n\u001b[1;32m    211\u001b[0m                 \u001b[0mrequest\u001b[0m\u001b[0;34m.\u001b[0m\u001b[0mheaders\u001b[0m\u001b[0;34m.\u001b[0m\u001b[0mpop\u001b[0m\u001b[0;34m(\u001b[0m\u001b[0;34m\"transfer-encoding\"\u001b[0m\u001b[0;34m,\u001b[0m \u001b[0;32mNone\u001b[0m\u001b[0;34m)\u001b[0m  \u001b[0;31m# handled by aiohttp\u001b[0m\u001b[0;34m\u001b[0m\u001b[0;34m\u001b[0m\u001b[0m\n\u001b[1;32m    212\u001b[0m \u001b[0;34m\u001b[0m\u001b[0m\n\u001b[0;32m--> 213\u001b[0;31m             response = await client_session.request(\n\u001b[0m\u001b[1;32m    214\u001b[0m                 \u001b[0mmethod\u001b[0m\u001b[0;34m=\u001b[0m\u001b[0mrequest\u001b[0m\u001b[0;34m.\u001b[0m\u001b[0mmethod\u001b[0m\u001b[0;34m,\u001b[0m\u001b[0;34m\u001b[0m\u001b[0;34m\u001b[0m\u001b[0m\n\u001b[1;32m    215\u001b[0m                 \u001b[0murl\u001b[0m\u001b[0;34m=\u001b[0m\u001b[0mYarlURL\u001b[0m\u001b[0;34m(\u001b[0m\u001b[0mstr\u001b[0m\u001b[0;34m(\u001b[0m\u001b[0mrequest\u001b[0m\u001b[0;34m.\u001b[0m\u001b[0murl\u001b[0m\u001b[0;34m)\u001b[0m\u001b[0;34m,\u001b[0m \u001b[0mencoded\u001b[0m\u001b[0;34m=\u001b[0m\u001b[0;32mTrue\u001b[0m\u001b[0;34m)\u001b[0m\u001b[0;34m,\u001b[0m\u001b[0;34m\u001b[0m\u001b[0;34m\u001b[0m\u001b[0m\n",
            "\u001b[0;32m/usr/local/lib/python3.11/dist-packages/aiohttp/client.py\u001b[0m in \u001b[0;36m__aenter__\u001b[0;34m(self)\u001b[0m\n\u001b[1;32m   1486\u001b[0m \u001b[0;34m\u001b[0m\u001b[0m\n\u001b[1;32m   1487\u001b[0m     \u001b[0;32masync\u001b[0m \u001b[0;32mdef\u001b[0m \u001b[0m__aenter__\u001b[0m\u001b[0;34m(\u001b[0m\u001b[0mself\u001b[0m\u001b[0;34m)\u001b[0m \u001b[0;34m->\u001b[0m \u001b[0m_RetType\u001b[0m\u001b[0;34m:\u001b[0m\u001b[0;34m\u001b[0m\u001b[0;34m\u001b[0m\u001b[0m\n\u001b[0;32m-> 1488\u001b[0;31m         \u001b[0mself\u001b[0m\u001b[0;34m.\u001b[0m\u001b[0m_resp\u001b[0m\u001b[0;34m:\u001b[0m \u001b[0m_RetType\u001b[0m \u001b[0;34m=\u001b[0m \u001b[0;32mawait\u001b[0m \u001b[0mself\u001b[0m\u001b[0;34m.\u001b[0m\u001b[0m_coro\u001b[0m\u001b[0;34m\u001b[0m\u001b[0;34m\u001b[0m\u001b[0m\n\u001b[0m\u001b[1;32m   1489\u001b[0m         \u001b[0;32mreturn\u001b[0m \u001b[0;32mawait\u001b[0m \u001b[0mself\u001b[0m\u001b[0;34m.\u001b[0m\u001b[0m_resp\u001b[0m\u001b[0;34m.\u001b[0m\u001b[0m__aenter__\u001b[0m\u001b[0;34m(\u001b[0m\u001b[0;34m)\u001b[0m\u001b[0;34m\u001b[0m\u001b[0;34m\u001b[0m\u001b[0m\n\u001b[1;32m   1490\u001b[0m \u001b[0;34m\u001b[0m\u001b[0m\n",
            "\u001b[0;32m/usr/local/lib/python3.11/dist-packages/aiohttp/client.py\u001b[0m in \u001b[0;36m_request\u001b[0;34m(self, method, str_or_url, params, data, json, cookies, headers, skip_auto_headers, auth, allow_redirects, max_redirects, compress, chunked, expect100, raise_for_status, read_until_eof, proxy, proxy_auth, timeout, verify_ssl, fingerprint, ssl_context, ssl, server_hostname, proxy_headers, trace_request_ctx, read_bufsize, auto_decompress, max_line_size, max_field_size, middlewares)\u001b[0m\n\u001b[1;32m    768\u001b[0m \u001b[0;34m\u001b[0m\u001b[0m\n\u001b[1;32m    769\u001b[0m                     \u001b[0;32mtry\u001b[0m\u001b[0;34m:\u001b[0m\u001b[0;34m\u001b[0m\u001b[0;34m\u001b[0m\u001b[0m\n\u001b[0;32m--> 770\u001b[0;31m                         \u001b[0mresp\u001b[0m \u001b[0;34m=\u001b[0m \u001b[0;32mawait\u001b[0m \u001b[0mhandler\u001b[0m\u001b[0;34m(\u001b[0m\u001b[0mreq\u001b[0m\u001b[0;34m)\u001b[0m\u001b[0;34m\u001b[0m\u001b[0;34m\u001b[0m\u001b[0m\n\u001b[0m\u001b[1;32m    771\u001b[0m                     \u001b[0;31m# Client connector errors should not be retried\u001b[0m\u001b[0;34m\u001b[0m\u001b[0;34m\u001b[0m\u001b[0m\n\u001b[1;32m    772\u001b[0m                     except (\n",
            "\u001b[0;32m/usr/local/lib/python3.11/dist-packages/aiohttp/client.py\u001b[0m in \u001b[0;36m_connect_and_send_request\u001b[0;34m(req)\u001b[0m\n\u001b[1;32m    746\u001b[0m                             \u001b[0mresp\u001b[0m \u001b[0;34m=\u001b[0m \u001b[0;32mawait\u001b[0m \u001b[0mreq\u001b[0m\u001b[0;34m.\u001b[0m\u001b[0msend\u001b[0m\u001b[0;34m(\u001b[0m\u001b[0mconn\u001b[0m\u001b[0;34m)\u001b[0m\u001b[0;34m\u001b[0m\u001b[0;34m\u001b[0m\u001b[0m\n\u001b[1;32m    747\u001b[0m                             \u001b[0;32mtry\u001b[0m\u001b[0;34m:\u001b[0m\u001b[0;34m\u001b[0m\u001b[0;34m\u001b[0m\u001b[0m\n\u001b[0;32m--> 748\u001b[0;31m                                 \u001b[0;32mawait\u001b[0m \u001b[0mresp\u001b[0m\u001b[0;34m.\u001b[0m\u001b[0mstart\u001b[0m\u001b[0;34m(\u001b[0m\u001b[0mconn\u001b[0m\u001b[0;34m)\u001b[0m\u001b[0;34m\u001b[0m\u001b[0;34m\u001b[0m\u001b[0m\n\u001b[0m\u001b[1;32m    749\u001b[0m                             \u001b[0;32mexcept\u001b[0m \u001b[0mBaseException\u001b[0m\u001b[0;34m:\u001b[0m\u001b[0;34m\u001b[0m\u001b[0;34m\u001b[0m\u001b[0m\n\u001b[1;32m    750\u001b[0m                                 \u001b[0mresp\u001b[0m\u001b[0;34m.\u001b[0m\u001b[0mclose\u001b[0m\u001b[0;34m(\u001b[0m\u001b[0;34m)\u001b[0m\u001b[0;34m\u001b[0m\u001b[0;34m\u001b[0m\u001b[0m\n",
            "\u001b[0;32m/usr/local/lib/python3.11/dist-packages/aiohttp/client_reqrep.py\u001b[0m in \u001b[0;36mstart\u001b[0;34m(self, connection)\u001b[0m\n\u001b[1;32m    530\u001b[0m                 \u001b[0;32mtry\u001b[0m\u001b[0;34m:\u001b[0m\u001b[0;34m\u001b[0m\u001b[0;34m\u001b[0m\u001b[0m\n\u001b[1;32m    531\u001b[0m                     \u001b[0mprotocol\u001b[0m \u001b[0;34m=\u001b[0m \u001b[0mself\u001b[0m\u001b[0;34m.\u001b[0m\u001b[0m_protocol\u001b[0m\u001b[0;34m\u001b[0m\u001b[0;34m\u001b[0m\u001b[0m\n\u001b[0;32m--> 532\u001b[0;31m                     \u001b[0mmessage\u001b[0m\u001b[0;34m,\u001b[0m \u001b[0mpayload\u001b[0m \u001b[0;34m=\u001b[0m \u001b[0;32mawait\u001b[0m \u001b[0mprotocol\u001b[0m\u001b[0;34m.\u001b[0m\u001b[0mread\u001b[0m\u001b[0;34m(\u001b[0m\u001b[0;34m)\u001b[0m  \u001b[0;31m# type: ignore[union-attr]\u001b[0m\u001b[0;34m\u001b[0m\u001b[0;34m\u001b[0m\u001b[0m\n\u001b[0m\u001b[1;32m    533\u001b[0m                 \u001b[0;32mexcept\u001b[0m \u001b[0mhttp\u001b[0m\u001b[0;34m.\u001b[0m\u001b[0mHttpProcessingError\u001b[0m \u001b[0;32mas\u001b[0m \u001b[0mexc\u001b[0m\u001b[0;34m:\u001b[0m\u001b[0;34m\u001b[0m\u001b[0;34m\u001b[0m\u001b[0m\n\u001b[1;32m    534\u001b[0m                     raise ClientResponseError(\n",
            "\u001b[0;32m/usr/local/lib/python3.11/dist-packages/aiohttp/streams.py\u001b[0m in \u001b[0;36mread\u001b[0;34m(self)\u001b[0m\n\u001b[1;32m    670\u001b[0m             \u001b[0mself\u001b[0m\u001b[0;34m.\u001b[0m\u001b[0m_waiter\u001b[0m \u001b[0;34m=\u001b[0m \u001b[0mself\u001b[0m\u001b[0;34m.\u001b[0m\u001b[0m_loop\u001b[0m\u001b[0;34m.\u001b[0m\u001b[0mcreate_future\u001b[0m\u001b[0;34m(\u001b[0m\u001b[0;34m)\u001b[0m\u001b[0;34m\u001b[0m\u001b[0;34m\u001b[0m\u001b[0m\n\u001b[1;32m    671\u001b[0m             \u001b[0;32mtry\u001b[0m\u001b[0;34m:\u001b[0m\u001b[0;34m\u001b[0m\u001b[0;34m\u001b[0m\u001b[0m\n\u001b[0;32m--> 672\u001b[0;31m                 \u001b[0;32mawait\u001b[0m \u001b[0mself\u001b[0m\u001b[0;34m.\u001b[0m\u001b[0m_waiter\u001b[0m\u001b[0;34m\u001b[0m\u001b[0;34m\u001b[0m\u001b[0m\n\u001b[0m\u001b[1;32m    673\u001b[0m             \u001b[0;32mexcept\u001b[0m \u001b[0;34m(\u001b[0m\u001b[0masyncio\u001b[0m\u001b[0;34m.\u001b[0m\u001b[0mCancelledError\u001b[0m\u001b[0;34m,\u001b[0m \u001b[0masyncio\u001b[0m\u001b[0;34m.\u001b[0m\u001b[0mTimeoutError\u001b[0m\u001b[0;34m)\u001b[0m\u001b[0;34m:\u001b[0m\u001b[0;34m\u001b[0m\u001b[0;34m\u001b[0m\u001b[0m\n\u001b[1;32m    674\u001b[0m                 \u001b[0mself\u001b[0m\u001b[0;34m.\u001b[0m\u001b[0m_waiter\u001b[0m \u001b[0;34m=\u001b[0m \u001b[0;32mNone\u001b[0m\u001b[0;34m\u001b[0m\u001b[0;34m\u001b[0m\u001b[0m\n",
            "\u001b[0;31mCancelledError\u001b[0m: "
          ]
        }
      ]
    },
    {
      "cell_type": "markdown",
      "source": [
        "https://huggingface.co/docs/hub/en/agents#tiny-agents-js-and-python"
      ],
      "metadata": {
        "id": "boEn7VDHy-_i"
      }
    },
    {
      "cell_type": "code",
      "source": [
        "import asyncio\n",
        "from tinyagent import TinyCodeAgent\n",
        "from textwrap import dedent\n",
        "\n",
        "\n",
        "# Initialize TinyCodeAgent to use a local Ollama model\n",
        "# \"ollama/llama3\" tells LiteLLM to use the llama3 model from the Ollama server\n",
        "agent = TinyCodeAgent(model=\"ollama/llama2\")\n",
        "\n",
        "async def main():\n",
        "    # Example of a task the agent can perform\n",
        "    # The agent will write and execute Python code to solve this task\n",
        "    response = await agent.run(dedent(\"\"\"\n",
        "    Suggest 13 tags for my Etsy product listing.\n",
        "    Each tag must be multi-word and a maximum of 20 characters.\n",
        "    Each word should only be used once across all tags.\n",
        "    The tags should cover different ways people search for the product on Etsy.\n",
        "    - You must use your programming capabilities to verify that your answer meets the criteria\n",
        "    and continue your work until you arrive at the answer.\n",
        "\n",
        "    My product is a **3-piece wedding invitation suite, in sage green, with a gold foil frame.**\n",
        "    \"\"\"), max_turns=3)\n",
        "\n",
        "    print(response)\n",
        "\n",
        "# Run the main function asynchronously\n",
        "await main()"
      ],
      "metadata": {
        "colab": {
          "base_uri": "https://localhost:8080/",
          "height": 567
        },
        "id": "gsIS85xnxywy",
        "outputId": "6bae0fd5-9d9d-4e57-a963-10b6e8f9d836"
      },
      "execution_count": 15,
      "outputs": [
        {
          "output_type": "stream",
          "name": "stdout",
          "text": [
            "☁️ REMOTE ModalProvider setting up Modal app\n"
          ]
        },
        {
          "output_type": "stream",
          "name": "stderr",
          "text": [
            "WARNING:tinyagent.tiny_agent:LLM call failed (attempt 1/6) - general error: litellm.APIConnectionError: OllamaException - litellm.Timeout: Connection timed out. Timeout passed=600.0, time taken=600.046 seconds. Will retry.\n",
            "WARNING:tinyagent.tiny_agent:Retry attempt 1/5 for LLM call after 1.20s delay. Previous error: litellm.APIConnectionError: OllamaException - litellm.Timeout: Connection timed out. Timeout passed=600.0, time taken=600.046 seconds\n"
          ]
        },
        {
          "output_type": "stream",
          "name": "stdout",
          "text": [
            "\n",
            "\u001b[1;31mGive Feedback / Get Help: https://github.com/BerriAI/litellm/issues/new\u001b[0m\n",
            "LiteLLM.Info: If you need to debug this error, use `litellm._turn_on_debug()'.\n",
            "\n"
          ]
        },
        {
          "output_type": "stream",
          "name": "stderr",
          "text": [
            "WARNING:tinyagent.tiny_agent:LLM call failed (attempt 2/6) - general error: litellm.APIConnectionError: OllamaException - litellm.Timeout: Connection timed out. Timeout passed=600.0, time taken=600.064 seconds. Will retry.\n",
            "WARNING:tinyagent.tiny_agent:Retry attempt 2/5 for LLM call after 1.68s delay. Previous error: litellm.APIConnectionError: OllamaException - litellm.Timeout: Connection timed out. Timeout passed=600.0, time taken=600.064 seconds\n"
          ]
        },
        {
          "output_type": "stream",
          "name": "stdout",
          "text": [
            "\n",
            "\u001b[1;31mGive Feedback / Get Help: https://github.com/BerriAI/litellm/issues/new\u001b[0m\n",
            "LiteLLM.Info: If you need to debug this error, use `litellm._turn_on_debug()'.\n",
            "\n"
          ]
        },
        {
          "output_type": "error",
          "ename": "CancelledError",
          "evalue": "",
          "traceback": [
            "\u001b[0;31m---------------------------------------------------------------------------\u001b[0m",
            "\u001b[0;31mCancelledError\u001b[0m                            Traceback (most recent call last)",
            "\u001b[0;32m/tmp/ipython-input-4011958842.py\u001b[0m in \u001b[0;36m<cell line: 1>\u001b[0;34m()\u001b[0m\n\u001b[1;32m     25\u001b[0m \u001b[0;34m\u001b[0m\u001b[0m\n\u001b[1;32m     26\u001b[0m \u001b[0;31m# Run the main function asynchronously\u001b[0m\u001b[0;34m\u001b[0m\u001b[0;34m\u001b[0m\u001b[0m\n\u001b[0;32m---> 27\u001b[0;31m \u001b[0;32mawait\u001b[0m \u001b[0mmain\u001b[0m\u001b[0;34m(\u001b[0m\u001b[0;34m)\u001b[0m\u001b[0;34m\u001b[0m\u001b[0;34m\u001b[0m\u001b[0m\n\u001b[0m",
            "\u001b[0;32m/tmp/ipython-input-4011958842.py\u001b[0m in \u001b[0;36mmain\u001b[0;34m()\u001b[0m\n\u001b[1;32m     11\u001b[0m     \u001b[0;31m# Example of a task the agent can perform\u001b[0m\u001b[0;34m\u001b[0m\u001b[0;34m\u001b[0m\u001b[0m\n\u001b[1;32m     12\u001b[0m     \u001b[0;31m# The agent will write and execute Python code to solve this task\u001b[0m\u001b[0;34m\u001b[0m\u001b[0;34m\u001b[0m\u001b[0m\n\u001b[0;32m---> 13\u001b[0;31m     response = await agent.run(dedent(\"\"\"\n\u001b[0m\u001b[1;32m     14\u001b[0m     \u001b[0mSuggest\u001b[0m \u001b[0;36m13\u001b[0m \u001b[0mtags\u001b[0m \u001b[0;32mfor\u001b[0m \u001b[0mmy\u001b[0m \u001b[0mEtsy\u001b[0m \u001b[0mproduct\u001b[0m \u001b[0mlisting\u001b[0m\u001b[0;34m.\u001b[0m\u001b[0;34m\u001b[0m\u001b[0;34m\u001b[0m\u001b[0m\n\u001b[1;32m     15\u001b[0m     \u001b[0mEach\u001b[0m \u001b[0mtag\u001b[0m \u001b[0mmust\u001b[0m \u001b[0mbe\u001b[0m \u001b[0mmulti\u001b[0m\u001b[0;34m-\u001b[0m\u001b[0mword\u001b[0m \u001b[0;32mand\u001b[0m \u001b[0ma\u001b[0m \u001b[0mmaximum\u001b[0m \u001b[0mof\u001b[0m \u001b[0;36m20\u001b[0m \u001b[0mcharacters\u001b[0m\u001b[0;34m.\u001b[0m\u001b[0;34m\u001b[0m\u001b[0;34m\u001b[0m\u001b[0m\n",
            "\u001b[0;32m/usr/local/lib/python3.11/dist-packages/tinyagent/tiny_agent.py\u001b[0m in \u001b[0;36mrun\u001b[0;34m(self, user_input, max_turns)\u001b[0m\n\u001b[1;32m    981\u001b[0m         \u001b[0;32mawait\u001b[0m \u001b[0mself\u001b[0m\u001b[0;34m.\u001b[0m\u001b[0m_run_callbacks\u001b[0m\u001b[0;34m(\u001b[0m\u001b[0;34m\"message_add\"\u001b[0m\u001b[0;34m,\u001b[0m \u001b[0mmessage\u001b[0m\u001b[0;34m=\u001b[0m\u001b[0mself\u001b[0m\u001b[0;34m.\u001b[0m\u001b[0mmessages\u001b[0m\u001b[0;34m[\u001b[0m\u001b[0;34m-\u001b[0m\u001b[0;36m1\u001b[0m\u001b[0;34m]\u001b[0m\u001b[0;34m)\u001b[0m\u001b[0;34m\u001b[0m\u001b[0;34m\u001b[0m\u001b[0m\n\u001b[1;32m    982\u001b[0m \u001b[0;34m\u001b[0m\u001b[0m\n\u001b[0;32m--> 983\u001b[0;31m         \u001b[0;32mreturn\u001b[0m \u001b[0;32mawait\u001b[0m \u001b[0mself\u001b[0m\u001b[0;34m.\u001b[0m\u001b[0m_run_agent_loop\u001b[0m\u001b[0;34m(\u001b[0m\u001b[0mmax_turns\u001b[0m\u001b[0;34m)\u001b[0m\u001b[0;34m\u001b[0m\u001b[0;34m\u001b[0m\u001b[0m\n\u001b[0m\u001b[1;32m    984\u001b[0m \u001b[0;34m\u001b[0m\u001b[0m\n\u001b[1;32m    985\u001b[0m     \u001b[0;32masync\u001b[0m \u001b[0;32mdef\u001b[0m \u001b[0mresume\u001b[0m\u001b[0;34m(\u001b[0m\u001b[0mself\u001b[0m\u001b[0;34m,\u001b[0m \u001b[0mmax_turns\u001b[0m\u001b[0;34m:\u001b[0m \u001b[0mint\u001b[0m \u001b[0;34m=\u001b[0m \u001b[0;36m10\u001b[0m\u001b[0;34m)\u001b[0m \u001b[0;34m->\u001b[0m \u001b[0mstr\u001b[0m\u001b[0;34m:\u001b[0m\u001b[0;34m\u001b[0m\u001b[0;34m\u001b[0m\u001b[0m\n",
            "\u001b[0;32m/usr/local/lib/python3.11/dist-packages/tinyagent/tiny_agent.py\u001b[0m in \u001b[0;36m_run_agent_loop\u001b[0;34m(self, max_turns)\u001b[0m\n\u001b[1;32m   1075\u001b[0m \u001b[0;34m\u001b[0m\u001b[0m\n\u001b[1;32m   1076\u001b[0m                 \u001b[0;31m# Use our retry wrapper with the potentially modified messages from hooks\u001b[0m\u001b[0;34m\u001b[0m\u001b[0;34m\u001b[0m\u001b[0m\n\u001b[0;32m-> 1077\u001b[0;31m                 response = await self._litellm_with_retry(\n\u001b[0m\u001b[1;32m   1078\u001b[0m                     \u001b[0mmodel\u001b[0m\u001b[0;34m=\u001b[0m\u001b[0mself\u001b[0m\u001b[0;34m.\u001b[0m\u001b[0mmodel\u001b[0m\u001b[0;34m,\u001b[0m\u001b[0;34m\u001b[0m\u001b[0;34m\u001b[0m\u001b[0m\n\u001b[1;32m   1079\u001b[0m                     \u001b[0mapi_key\u001b[0m\u001b[0;34m=\u001b[0m\u001b[0mself\u001b[0m\u001b[0;34m.\u001b[0m\u001b[0mapi_key\u001b[0m\u001b[0;34m,\u001b[0m\u001b[0;34m\u001b[0m\u001b[0;34m\u001b[0m\u001b[0m\n",
            "\u001b[0;32m/usr/local/lib/python3.11/dist-packages/tinyagent/tiny_agent.py\u001b[0m in \u001b[0;36m_litellm_with_retry\u001b[0;34m(self, **kwargs)\u001b[0m\n\u001b[1;32m   1542\u001b[0m \u001b[0;34m\u001b[0m\u001b[0m\n\u001b[1;32m   1543\u001b[0m                 \u001b[0;31m# Make the actual API call\u001b[0m\u001b[0;34m\u001b[0m\u001b[0;34m\u001b[0m\u001b[0m\n\u001b[0;32m-> 1544\u001b[0;31m                 \u001b[0;32mreturn\u001b[0m \u001b[0;32mawait\u001b[0m \u001b[0mlitellm\u001b[0m\u001b[0;34m.\u001b[0m\u001b[0macompletion\u001b[0m\u001b[0;34m(\u001b[0m\u001b[0;34m**\u001b[0m\u001b[0mkwargs\u001b[0m\u001b[0;34m)\u001b[0m\u001b[0;34m\u001b[0m\u001b[0;34m\u001b[0m\u001b[0m\n\u001b[0m\u001b[1;32m   1545\u001b[0m \u001b[0;34m\u001b[0m\u001b[0m\n\u001b[1;32m   1546\u001b[0m             \u001b[0;32mexcept\u001b[0m \u001b[0mException\u001b[0m \u001b[0;32mas\u001b[0m \u001b[0me\u001b[0m\u001b[0;34m:\u001b[0m\u001b[0;34m\u001b[0m\u001b[0;34m\u001b[0m\u001b[0m\n",
            "\u001b[0;32m/usr/local/lib/python3.11/dist-packages/litellm/utils.py\u001b[0m in \u001b[0;36mwrapper_async\u001b[0;34m(*args, **kwargs)\u001b[0m\n\u001b[1;32m   1435\u001b[0m \u001b[0;34m\u001b[0m\u001b[0m\n\u001b[1;32m   1436\u001b[0m             \u001b[0;31m# MODEL CALL\u001b[0m\u001b[0;34m\u001b[0m\u001b[0;34m\u001b[0m\u001b[0m\n\u001b[0;32m-> 1437\u001b[0;31m             \u001b[0mresult\u001b[0m \u001b[0;34m=\u001b[0m \u001b[0;32mawait\u001b[0m \u001b[0moriginal_function\u001b[0m\u001b[0;34m(\u001b[0m\u001b[0;34m*\u001b[0m\u001b[0margs\u001b[0m\u001b[0;34m,\u001b[0m \u001b[0;34m**\u001b[0m\u001b[0mkwargs\u001b[0m\u001b[0;34m)\u001b[0m\u001b[0;34m\u001b[0m\u001b[0;34m\u001b[0m\u001b[0m\n\u001b[0m\u001b[1;32m   1438\u001b[0m             \u001b[0mend_time\u001b[0m \u001b[0;34m=\u001b[0m \u001b[0mdatetime\u001b[0m\u001b[0;34m.\u001b[0m\u001b[0mdatetime\u001b[0m\u001b[0;34m.\u001b[0m\u001b[0mnow\u001b[0m\u001b[0;34m(\u001b[0m\u001b[0;34m)\u001b[0m\u001b[0;34m\u001b[0m\u001b[0;34m\u001b[0m\u001b[0m\n\u001b[1;32m   1439\u001b[0m             if _is_streaming_request(\n",
            "\u001b[0;32m/usr/local/lib/python3.11/dist-packages/litellm/main.py\u001b[0m in \u001b[0;36macompletion\u001b[0;34m(model, messages, functions, function_call, timeout, temperature, top_p, n, stream, stream_options, stop, max_tokens, max_completion_tokens, modalities, prediction, audio, presence_penalty, frequency_penalty, logit_bias, user, response_format, seed, tools, tool_choice, parallel_tool_calls, logprobs, top_logprobs, deployment_id, reasoning_effort, base_url, api_version, api_key, model_list, extra_headers, thinking, web_search_options, **kwargs)\u001b[0m\n\u001b[1;32m    542\u001b[0m             \u001b[0mresponse\u001b[0m \u001b[0;34m=\u001b[0m \u001b[0minit_response\u001b[0m\u001b[0;34m\u001b[0m\u001b[0;34m\u001b[0m\u001b[0m\n\u001b[1;32m    543\u001b[0m         \u001b[0;32melif\u001b[0m \u001b[0masyncio\u001b[0m\u001b[0;34m.\u001b[0m\u001b[0miscoroutine\u001b[0m\u001b[0;34m(\u001b[0m\u001b[0minit_response\u001b[0m\u001b[0;34m)\u001b[0m\u001b[0;34m:\u001b[0m\u001b[0;34m\u001b[0m\u001b[0;34m\u001b[0m\u001b[0m\n\u001b[0;32m--> 544\u001b[0;31m             \u001b[0mresponse\u001b[0m \u001b[0;34m=\u001b[0m \u001b[0;32mawait\u001b[0m \u001b[0minit_response\u001b[0m\u001b[0;34m\u001b[0m\u001b[0;34m\u001b[0m\u001b[0m\n\u001b[0m\u001b[1;32m    545\u001b[0m         \u001b[0;32melse\u001b[0m\u001b[0;34m:\u001b[0m\u001b[0;34m\u001b[0m\u001b[0;34m\u001b[0m\u001b[0m\n\u001b[1;32m    546\u001b[0m             \u001b[0mresponse\u001b[0m \u001b[0;34m=\u001b[0m \u001b[0minit_response\u001b[0m  \u001b[0;31m# type: ignore\u001b[0m\u001b[0;34m\u001b[0m\u001b[0;34m\u001b[0m\u001b[0m\n",
            "\u001b[0;32m/usr/local/lib/python3.11/dist-packages/litellm/llms/custom_httpx/llm_http_handler.py\u001b[0m in \u001b[0;36masync_completion\u001b[0;34m(self, custom_llm_provider, provider_config, api_base, headers, data, timeout, model, model_response, logging_obj, messages, optional_params, litellm_params, encoding, api_key, client, json_mode, signed_json_body)\u001b[0m\n\u001b[1;32m    239\u001b[0m             \u001b[0masync_httpx_client\u001b[0m \u001b[0;34m=\u001b[0m \u001b[0mclient\u001b[0m\u001b[0;34m\u001b[0m\u001b[0;34m\u001b[0m\u001b[0m\n\u001b[1;32m    240\u001b[0m \u001b[0;34m\u001b[0m\u001b[0m\n\u001b[0;32m--> 241\u001b[0;31m         response = await self._make_common_async_call(\n\u001b[0m\u001b[1;32m    242\u001b[0m             \u001b[0masync_httpx_client\u001b[0m\u001b[0;34m=\u001b[0m\u001b[0masync_httpx_client\u001b[0m\u001b[0;34m,\u001b[0m\u001b[0;34m\u001b[0m\u001b[0;34m\u001b[0m\u001b[0m\n\u001b[1;32m    243\u001b[0m             \u001b[0mprovider_config\u001b[0m\u001b[0;34m=\u001b[0m\u001b[0mprovider_config\u001b[0m\u001b[0;34m,\u001b[0m\u001b[0;34m\u001b[0m\u001b[0;34m\u001b[0m\u001b[0m\n",
            "\u001b[0;32m/usr/local/lib/python3.11/dist-packages/litellm/llms/custom_httpx/llm_http_handler.py\u001b[0m in \u001b[0;36m_make_common_async_call\u001b[0;34m(self, async_httpx_client, provider_config, api_base, headers, data, timeout, litellm_params, logging_obj, stream, signed_json_body)\u001b[0m\n\u001b[1;32m    112\u001b[0m         \u001b[0;32mfor\u001b[0m \u001b[0mi\u001b[0m \u001b[0;32min\u001b[0m \u001b[0mrange\u001b[0m\u001b[0;34m(\u001b[0m\u001b[0mmax\u001b[0m\u001b[0;34m(\u001b[0m\u001b[0mmax_retry_on_unprocessable_entity_error\u001b[0m\u001b[0;34m,\u001b[0m \u001b[0;36m1\u001b[0m\u001b[0;34m)\u001b[0m\u001b[0;34m)\u001b[0m\u001b[0;34m:\u001b[0m\u001b[0;34m\u001b[0m\u001b[0;34m\u001b[0m\u001b[0m\n\u001b[1;32m    113\u001b[0m             \u001b[0;32mtry\u001b[0m\u001b[0;34m:\u001b[0m\u001b[0;34m\u001b[0m\u001b[0;34m\u001b[0m\u001b[0m\n\u001b[0;32m--> 114\u001b[0;31m                 response = await async_httpx_client.post(\n\u001b[0m\u001b[1;32m    115\u001b[0m                     \u001b[0murl\u001b[0m\u001b[0;34m=\u001b[0m\u001b[0mapi_base\u001b[0m\u001b[0;34m,\u001b[0m\u001b[0;34m\u001b[0m\u001b[0;34m\u001b[0m\u001b[0m\n\u001b[1;32m    116\u001b[0m                     \u001b[0mheaders\u001b[0m\u001b[0;34m=\u001b[0m\u001b[0mheaders\u001b[0m\u001b[0;34m,\u001b[0m\u001b[0;34m\u001b[0m\u001b[0;34m\u001b[0m\u001b[0m\n",
            "\u001b[0;32m/usr/local/lib/python3.11/dist-packages/litellm/litellm_core_utils/logging_utils.py\u001b[0m in \u001b[0;36masync_wrapper\u001b[0;34m(*args, **kwargs)\u001b[0m\n\u001b[1;32m    133\u001b[0m             \u001b[0mstart_time\u001b[0m \u001b[0;34m=\u001b[0m \u001b[0mdatetime\u001b[0m\u001b[0;34m.\u001b[0m\u001b[0mnow\u001b[0m\u001b[0;34m(\u001b[0m\u001b[0;34m)\u001b[0m\u001b[0;34m\u001b[0m\u001b[0;34m\u001b[0m\u001b[0m\n\u001b[1;32m    134\u001b[0m             \u001b[0;32mtry\u001b[0m\u001b[0;34m:\u001b[0m\u001b[0;34m\u001b[0m\u001b[0;34m\u001b[0m\u001b[0m\n\u001b[0;32m--> 135\u001b[0;31m                 \u001b[0mresult\u001b[0m \u001b[0;34m=\u001b[0m \u001b[0;32mawait\u001b[0m \u001b[0mfunc\u001b[0m\u001b[0;34m(\u001b[0m\u001b[0;34m*\u001b[0m\u001b[0margs\u001b[0m\u001b[0;34m,\u001b[0m \u001b[0;34m**\u001b[0m\u001b[0mkwargs\u001b[0m\u001b[0;34m)\u001b[0m\u001b[0;34m\u001b[0m\u001b[0;34m\u001b[0m\u001b[0m\n\u001b[0m\u001b[1;32m    136\u001b[0m                 \u001b[0;32mreturn\u001b[0m \u001b[0mresult\u001b[0m\u001b[0;34m\u001b[0m\u001b[0;34m\u001b[0m\u001b[0m\n\u001b[1;32m    137\u001b[0m             \u001b[0;32mfinally\u001b[0m\u001b[0;34m:\u001b[0m\u001b[0;34m\u001b[0m\u001b[0;34m\u001b[0m\u001b[0m\n",
            "\u001b[0;32m/usr/local/lib/python3.11/dist-packages/litellm/llms/custom_httpx/http_handler.py\u001b[0m in \u001b[0;36mpost\u001b[0;34m(self, url, data, json, params, headers, timeout, stream, logging_obj, files, content)\u001b[0m\n\u001b[1;32m    277\u001b[0m                 \u001b[0mcontent\u001b[0m\u001b[0;34m=\u001b[0m\u001b[0mcontent\u001b[0m\u001b[0;34m,\u001b[0m\u001b[0;34m\u001b[0m\u001b[0;34m\u001b[0m\u001b[0m\n\u001b[1;32m    278\u001b[0m             )\n\u001b[0;32m--> 279\u001b[0;31m             \u001b[0mresponse\u001b[0m \u001b[0;34m=\u001b[0m \u001b[0;32mawait\u001b[0m \u001b[0mself\u001b[0m\u001b[0;34m.\u001b[0m\u001b[0mclient\u001b[0m\u001b[0;34m.\u001b[0m\u001b[0msend\u001b[0m\u001b[0;34m(\u001b[0m\u001b[0mreq\u001b[0m\u001b[0;34m,\u001b[0m \u001b[0mstream\u001b[0m\u001b[0;34m=\u001b[0m\u001b[0mstream\u001b[0m\u001b[0;34m)\u001b[0m\u001b[0;34m\u001b[0m\u001b[0;34m\u001b[0m\u001b[0m\n\u001b[0m\u001b[1;32m    280\u001b[0m             \u001b[0mresponse\u001b[0m\u001b[0;34m.\u001b[0m\u001b[0mraise_for_status\u001b[0m\u001b[0;34m(\u001b[0m\u001b[0;34m)\u001b[0m\u001b[0;34m\u001b[0m\u001b[0;34m\u001b[0m\u001b[0m\n\u001b[1;32m    281\u001b[0m             \u001b[0;32mreturn\u001b[0m \u001b[0mresponse\u001b[0m\u001b[0;34m\u001b[0m\u001b[0;34m\u001b[0m\u001b[0m\n",
            "\u001b[0;32m/usr/local/lib/python3.11/dist-packages/httpx/_client.py\u001b[0m in \u001b[0;36msend\u001b[0;34m(self, request, stream, auth, follow_redirects)\u001b[0m\n\u001b[1;32m   1627\u001b[0m         \u001b[0mauth\u001b[0m \u001b[0;34m=\u001b[0m \u001b[0mself\u001b[0m\u001b[0;34m.\u001b[0m\u001b[0m_build_request_auth\u001b[0m\u001b[0;34m(\u001b[0m\u001b[0mrequest\u001b[0m\u001b[0;34m,\u001b[0m \u001b[0mauth\u001b[0m\u001b[0;34m)\u001b[0m\u001b[0;34m\u001b[0m\u001b[0;34m\u001b[0m\u001b[0m\n\u001b[1;32m   1628\u001b[0m \u001b[0;34m\u001b[0m\u001b[0m\n\u001b[0;32m-> 1629\u001b[0;31m         response = await self._send_handling_auth(\n\u001b[0m\u001b[1;32m   1630\u001b[0m             \u001b[0mrequest\u001b[0m\u001b[0;34m,\u001b[0m\u001b[0;34m\u001b[0m\u001b[0;34m\u001b[0m\u001b[0m\n\u001b[1;32m   1631\u001b[0m             \u001b[0mauth\u001b[0m\u001b[0;34m=\u001b[0m\u001b[0mauth\u001b[0m\u001b[0;34m,\u001b[0m\u001b[0;34m\u001b[0m\u001b[0;34m\u001b[0m\u001b[0m\n",
            "\u001b[0;32m/usr/local/lib/python3.11/dist-packages/httpx/_client.py\u001b[0m in \u001b[0;36m_send_handling_auth\u001b[0;34m(self, request, auth, follow_redirects, history)\u001b[0m\n\u001b[1;32m   1655\u001b[0m \u001b[0;34m\u001b[0m\u001b[0m\n\u001b[1;32m   1656\u001b[0m             \u001b[0;32mwhile\u001b[0m \u001b[0;32mTrue\u001b[0m\u001b[0;34m:\u001b[0m\u001b[0;34m\u001b[0m\u001b[0;34m\u001b[0m\u001b[0m\n\u001b[0;32m-> 1657\u001b[0;31m                 response = await self._send_handling_redirects(\n\u001b[0m\u001b[1;32m   1658\u001b[0m                     \u001b[0mrequest\u001b[0m\u001b[0;34m,\u001b[0m\u001b[0;34m\u001b[0m\u001b[0;34m\u001b[0m\u001b[0m\n\u001b[1;32m   1659\u001b[0m                     \u001b[0mfollow_redirects\u001b[0m\u001b[0;34m=\u001b[0m\u001b[0mfollow_redirects\u001b[0m\u001b[0;34m,\u001b[0m\u001b[0;34m\u001b[0m\u001b[0;34m\u001b[0m\u001b[0m\n",
            "\u001b[0;32m/usr/local/lib/python3.11/dist-packages/httpx/_client.py\u001b[0m in \u001b[0;36m_send_handling_redirects\u001b[0;34m(self, request, follow_redirects, history)\u001b[0m\n\u001b[1;32m   1692\u001b[0m                 \u001b[0;32mawait\u001b[0m \u001b[0mhook\u001b[0m\u001b[0;34m(\u001b[0m\u001b[0mrequest\u001b[0m\u001b[0;34m)\u001b[0m\u001b[0;34m\u001b[0m\u001b[0;34m\u001b[0m\u001b[0m\n\u001b[1;32m   1693\u001b[0m \u001b[0;34m\u001b[0m\u001b[0m\n\u001b[0;32m-> 1694\u001b[0;31m             \u001b[0mresponse\u001b[0m \u001b[0;34m=\u001b[0m \u001b[0;32mawait\u001b[0m \u001b[0mself\u001b[0m\u001b[0;34m.\u001b[0m\u001b[0m_send_single_request\u001b[0m\u001b[0;34m(\u001b[0m\u001b[0mrequest\u001b[0m\u001b[0;34m)\u001b[0m\u001b[0;34m\u001b[0m\u001b[0;34m\u001b[0m\u001b[0m\n\u001b[0m\u001b[1;32m   1695\u001b[0m             \u001b[0;32mtry\u001b[0m\u001b[0;34m:\u001b[0m\u001b[0;34m\u001b[0m\u001b[0;34m\u001b[0m\u001b[0m\n\u001b[1;32m   1696\u001b[0m                 \u001b[0;32mfor\u001b[0m \u001b[0mhook\u001b[0m \u001b[0;32min\u001b[0m \u001b[0mself\u001b[0m\u001b[0;34m.\u001b[0m\u001b[0m_event_hooks\u001b[0m\u001b[0;34m[\u001b[0m\u001b[0;34m\"response\"\u001b[0m\u001b[0;34m]\u001b[0m\u001b[0;34m:\u001b[0m\u001b[0;34m\u001b[0m\u001b[0;34m\u001b[0m\u001b[0m\n",
            "\u001b[0;32m/usr/local/lib/python3.11/dist-packages/httpx/_client.py\u001b[0m in \u001b[0;36m_send_single_request\u001b[0;34m(self, request)\u001b[0m\n\u001b[1;32m   1728\u001b[0m \u001b[0;34m\u001b[0m\u001b[0m\n\u001b[1;32m   1729\u001b[0m         \u001b[0;32mwith\u001b[0m \u001b[0mrequest_context\u001b[0m\u001b[0;34m(\u001b[0m\u001b[0mrequest\u001b[0m\u001b[0;34m=\u001b[0m\u001b[0mrequest\u001b[0m\u001b[0;34m)\u001b[0m\u001b[0;34m:\u001b[0m\u001b[0;34m\u001b[0m\u001b[0;34m\u001b[0m\u001b[0m\n\u001b[0;32m-> 1730\u001b[0;31m             \u001b[0mresponse\u001b[0m \u001b[0;34m=\u001b[0m \u001b[0;32mawait\u001b[0m \u001b[0mtransport\u001b[0m\u001b[0;34m.\u001b[0m\u001b[0mhandle_async_request\u001b[0m\u001b[0;34m(\u001b[0m\u001b[0mrequest\u001b[0m\u001b[0;34m)\u001b[0m\u001b[0;34m\u001b[0m\u001b[0;34m\u001b[0m\u001b[0m\n\u001b[0m\u001b[1;32m   1731\u001b[0m \u001b[0;34m\u001b[0m\u001b[0m\n\u001b[1;32m   1732\u001b[0m         \u001b[0;32massert\u001b[0m \u001b[0misinstance\u001b[0m\u001b[0;34m(\u001b[0m\u001b[0mresponse\u001b[0m\u001b[0;34m.\u001b[0m\u001b[0mstream\u001b[0m\u001b[0;34m,\u001b[0m \u001b[0mAsyncByteStream\u001b[0m\u001b[0;34m)\u001b[0m\u001b[0;34m\u001b[0m\u001b[0;34m\u001b[0m\u001b[0m\n",
            "\u001b[0;32m/usr/local/lib/python3.11/dist-packages/litellm/llms/custom_httpx/aiohttp_transport.py\u001b[0m in \u001b[0;36mhandle_async_request\u001b[0;34m(self, request)\u001b[0m\n\u001b[1;32m    211\u001b[0m                 \u001b[0mrequest\u001b[0m\u001b[0;34m.\u001b[0m\u001b[0mheaders\u001b[0m\u001b[0;34m.\u001b[0m\u001b[0mpop\u001b[0m\u001b[0;34m(\u001b[0m\u001b[0;34m\"transfer-encoding\"\u001b[0m\u001b[0;34m,\u001b[0m \u001b[0;32mNone\u001b[0m\u001b[0;34m)\u001b[0m  \u001b[0;31m# handled by aiohttp\u001b[0m\u001b[0;34m\u001b[0m\u001b[0;34m\u001b[0m\u001b[0m\n\u001b[1;32m    212\u001b[0m \u001b[0;34m\u001b[0m\u001b[0m\n\u001b[0;32m--> 213\u001b[0;31m             response = await client_session.request(\n\u001b[0m\u001b[1;32m    214\u001b[0m                 \u001b[0mmethod\u001b[0m\u001b[0;34m=\u001b[0m\u001b[0mrequest\u001b[0m\u001b[0;34m.\u001b[0m\u001b[0mmethod\u001b[0m\u001b[0;34m,\u001b[0m\u001b[0;34m\u001b[0m\u001b[0;34m\u001b[0m\u001b[0m\n\u001b[1;32m    215\u001b[0m                 \u001b[0murl\u001b[0m\u001b[0;34m=\u001b[0m\u001b[0mYarlURL\u001b[0m\u001b[0;34m(\u001b[0m\u001b[0mstr\u001b[0m\u001b[0;34m(\u001b[0m\u001b[0mrequest\u001b[0m\u001b[0;34m.\u001b[0m\u001b[0murl\u001b[0m\u001b[0;34m)\u001b[0m\u001b[0;34m,\u001b[0m \u001b[0mencoded\u001b[0m\u001b[0;34m=\u001b[0m\u001b[0;32mTrue\u001b[0m\u001b[0;34m)\u001b[0m\u001b[0;34m,\u001b[0m\u001b[0;34m\u001b[0m\u001b[0;34m\u001b[0m\u001b[0m\n",
            "\u001b[0;32m/usr/local/lib/python3.11/dist-packages/aiohttp/client.py\u001b[0m in \u001b[0;36m__aenter__\u001b[0;34m(self)\u001b[0m\n\u001b[1;32m   1486\u001b[0m \u001b[0;34m\u001b[0m\u001b[0m\n\u001b[1;32m   1487\u001b[0m     \u001b[0;32masync\u001b[0m \u001b[0;32mdef\u001b[0m \u001b[0m__aenter__\u001b[0m\u001b[0;34m(\u001b[0m\u001b[0mself\u001b[0m\u001b[0;34m)\u001b[0m \u001b[0;34m->\u001b[0m \u001b[0m_RetType\u001b[0m\u001b[0;34m:\u001b[0m\u001b[0;34m\u001b[0m\u001b[0;34m\u001b[0m\u001b[0m\n\u001b[0;32m-> 1488\u001b[0;31m         \u001b[0mself\u001b[0m\u001b[0;34m.\u001b[0m\u001b[0m_resp\u001b[0m\u001b[0;34m:\u001b[0m \u001b[0m_RetType\u001b[0m \u001b[0;34m=\u001b[0m \u001b[0;32mawait\u001b[0m \u001b[0mself\u001b[0m\u001b[0;34m.\u001b[0m\u001b[0m_coro\u001b[0m\u001b[0;34m\u001b[0m\u001b[0;34m\u001b[0m\u001b[0m\n\u001b[0m\u001b[1;32m   1489\u001b[0m         \u001b[0;32mreturn\u001b[0m \u001b[0;32mawait\u001b[0m \u001b[0mself\u001b[0m\u001b[0;34m.\u001b[0m\u001b[0m_resp\u001b[0m\u001b[0;34m.\u001b[0m\u001b[0m__aenter__\u001b[0m\u001b[0;34m(\u001b[0m\u001b[0;34m)\u001b[0m\u001b[0;34m\u001b[0m\u001b[0;34m\u001b[0m\u001b[0m\n\u001b[1;32m   1490\u001b[0m \u001b[0;34m\u001b[0m\u001b[0m\n",
            "\u001b[0;32m/usr/local/lib/python3.11/dist-packages/aiohttp/client.py\u001b[0m in \u001b[0;36m_request\u001b[0;34m(self, method, str_or_url, params, data, json, cookies, headers, skip_auto_headers, auth, allow_redirects, max_redirects, compress, chunked, expect100, raise_for_status, read_until_eof, proxy, proxy_auth, timeout, verify_ssl, fingerprint, ssl_context, ssl, server_hostname, proxy_headers, trace_request_ctx, read_bufsize, auto_decompress, max_line_size, max_field_size, middlewares)\u001b[0m\n\u001b[1;32m    768\u001b[0m \u001b[0;34m\u001b[0m\u001b[0m\n\u001b[1;32m    769\u001b[0m                     \u001b[0;32mtry\u001b[0m\u001b[0;34m:\u001b[0m\u001b[0;34m\u001b[0m\u001b[0;34m\u001b[0m\u001b[0m\n\u001b[0;32m--> 770\u001b[0;31m                         \u001b[0mresp\u001b[0m \u001b[0;34m=\u001b[0m \u001b[0;32mawait\u001b[0m \u001b[0mhandler\u001b[0m\u001b[0;34m(\u001b[0m\u001b[0mreq\u001b[0m\u001b[0;34m)\u001b[0m\u001b[0;34m\u001b[0m\u001b[0;34m\u001b[0m\u001b[0m\n\u001b[0m\u001b[1;32m    771\u001b[0m                     \u001b[0;31m# Client connector errors should not be retried\u001b[0m\u001b[0;34m\u001b[0m\u001b[0;34m\u001b[0m\u001b[0m\n\u001b[1;32m    772\u001b[0m                     except (\n",
            "\u001b[0;32m/usr/local/lib/python3.11/dist-packages/aiohttp/client.py\u001b[0m in \u001b[0;36m_connect_and_send_request\u001b[0;34m(req)\u001b[0m\n\u001b[1;32m    746\u001b[0m                             \u001b[0mresp\u001b[0m \u001b[0;34m=\u001b[0m \u001b[0;32mawait\u001b[0m \u001b[0mreq\u001b[0m\u001b[0;34m.\u001b[0m\u001b[0msend\u001b[0m\u001b[0;34m(\u001b[0m\u001b[0mconn\u001b[0m\u001b[0;34m)\u001b[0m\u001b[0;34m\u001b[0m\u001b[0;34m\u001b[0m\u001b[0m\n\u001b[1;32m    747\u001b[0m                             \u001b[0;32mtry\u001b[0m\u001b[0;34m:\u001b[0m\u001b[0;34m\u001b[0m\u001b[0;34m\u001b[0m\u001b[0m\n\u001b[0;32m--> 748\u001b[0;31m                                 \u001b[0;32mawait\u001b[0m \u001b[0mresp\u001b[0m\u001b[0;34m.\u001b[0m\u001b[0mstart\u001b[0m\u001b[0;34m(\u001b[0m\u001b[0mconn\u001b[0m\u001b[0;34m)\u001b[0m\u001b[0;34m\u001b[0m\u001b[0;34m\u001b[0m\u001b[0m\n\u001b[0m\u001b[1;32m    749\u001b[0m                             \u001b[0;32mexcept\u001b[0m \u001b[0mBaseException\u001b[0m\u001b[0;34m:\u001b[0m\u001b[0;34m\u001b[0m\u001b[0;34m\u001b[0m\u001b[0m\n\u001b[1;32m    750\u001b[0m                                 \u001b[0mresp\u001b[0m\u001b[0;34m.\u001b[0m\u001b[0mclose\u001b[0m\u001b[0;34m(\u001b[0m\u001b[0;34m)\u001b[0m\u001b[0;34m\u001b[0m\u001b[0;34m\u001b[0m\u001b[0m\n",
            "\u001b[0;32m/usr/local/lib/python3.11/dist-packages/aiohttp/client_reqrep.py\u001b[0m in \u001b[0;36mstart\u001b[0;34m(self, connection)\u001b[0m\n\u001b[1;32m    530\u001b[0m                 \u001b[0;32mtry\u001b[0m\u001b[0;34m:\u001b[0m\u001b[0;34m\u001b[0m\u001b[0;34m\u001b[0m\u001b[0m\n\u001b[1;32m    531\u001b[0m                     \u001b[0mprotocol\u001b[0m \u001b[0;34m=\u001b[0m \u001b[0mself\u001b[0m\u001b[0;34m.\u001b[0m\u001b[0m_protocol\u001b[0m\u001b[0;34m\u001b[0m\u001b[0;34m\u001b[0m\u001b[0m\n\u001b[0;32m--> 532\u001b[0;31m                     \u001b[0mmessage\u001b[0m\u001b[0;34m,\u001b[0m \u001b[0mpayload\u001b[0m \u001b[0;34m=\u001b[0m \u001b[0;32mawait\u001b[0m \u001b[0mprotocol\u001b[0m\u001b[0;34m.\u001b[0m\u001b[0mread\u001b[0m\u001b[0;34m(\u001b[0m\u001b[0;34m)\u001b[0m  \u001b[0;31m# type: ignore[union-attr]\u001b[0m\u001b[0;34m\u001b[0m\u001b[0;34m\u001b[0m\u001b[0m\n\u001b[0m\u001b[1;32m    533\u001b[0m                 \u001b[0;32mexcept\u001b[0m \u001b[0mhttp\u001b[0m\u001b[0;34m.\u001b[0m\u001b[0mHttpProcessingError\u001b[0m \u001b[0;32mas\u001b[0m \u001b[0mexc\u001b[0m\u001b[0;34m:\u001b[0m\u001b[0;34m\u001b[0m\u001b[0;34m\u001b[0m\u001b[0m\n\u001b[1;32m    534\u001b[0m                     raise ClientResponseError(\n",
            "\u001b[0;32m/usr/local/lib/python3.11/dist-packages/aiohttp/streams.py\u001b[0m in \u001b[0;36mread\u001b[0;34m(self)\u001b[0m\n\u001b[1;32m    670\u001b[0m             \u001b[0mself\u001b[0m\u001b[0;34m.\u001b[0m\u001b[0m_waiter\u001b[0m \u001b[0;34m=\u001b[0m \u001b[0mself\u001b[0m\u001b[0;34m.\u001b[0m\u001b[0m_loop\u001b[0m\u001b[0;34m.\u001b[0m\u001b[0mcreate_future\u001b[0m\u001b[0;34m(\u001b[0m\u001b[0;34m)\u001b[0m\u001b[0;34m\u001b[0m\u001b[0;34m\u001b[0m\u001b[0m\n\u001b[1;32m    671\u001b[0m             \u001b[0;32mtry\u001b[0m\u001b[0;34m:\u001b[0m\u001b[0;34m\u001b[0m\u001b[0;34m\u001b[0m\u001b[0m\n\u001b[0;32m--> 672\u001b[0;31m                 \u001b[0;32mawait\u001b[0m \u001b[0mself\u001b[0m\u001b[0;34m.\u001b[0m\u001b[0m_waiter\u001b[0m\u001b[0;34m\u001b[0m\u001b[0;34m\u001b[0m\u001b[0m\n\u001b[0m\u001b[1;32m    673\u001b[0m             \u001b[0;32mexcept\u001b[0m \u001b[0;34m(\u001b[0m\u001b[0masyncio\u001b[0m\u001b[0;34m.\u001b[0m\u001b[0mCancelledError\u001b[0m\u001b[0;34m,\u001b[0m \u001b[0masyncio\u001b[0m\u001b[0;34m.\u001b[0m\u001b[0mTimeoutError\u001b[0m\u001b[0;34m)\u001b[0m\u001b[0;34m:\u001b[0m\u001b[0;34m\u001b[0m\u001b[0;34m\u001b[0m\u001b[0m\n\u001b[1;32m    674\u001b[0m                 \u001b[0mself\u001b[0m\u001b[0;34m.\u001b[0m\u001b[0m_waiter\u001b[0m \u001b[0;34m=\u001b[0m \u001b[0;32mNone\u001b[0m\u001b[0;34m\u001b[0m\u001b[0;34m\u001b[0m\u001b[0m\n",
            "\u001b[0;31mCancelledError\u001b[0m: "
          ]
        }
      ]
    },
    {
      "cell_type": "code",
      "source": [
        "/content/my-agent/agent.json"
      ],
      "metadata": {
        "id": "Y8Fo7rjH_lm9"
      },
      "execution_count": null,
      "outputs": []
    },
    {
      "cell_type": "code",
      "source": [
        "{\n",
        "\"model\": \"llama2:latest\",\n",
        "\"endpointUrl\": \"http://localhost:11434/\",\n",
        "\"servers\": [\n",
        "{\n",
        "\"type\": \"sse\",\n",
        "\"config\": {\n",
        "\"url\": \"http://127.0.0.1:7860/gradio_api/mcp/sse\"\n",
        "}\n",
        "}\n",
        "]\n",
        "}"
      ],
      "metadata": {
        "id": "NFoSEK1y_w5s"
      },
      "execution_count": null,
      "outputs": []
    },
    {
      "cell_type": "code",
      "source": [
        "!ollama list"
      ],
      "metadata": {
        "colab": {
          "base_uri": "https://localhost:8080/"
        },
        "id": "y4ZcQQzR_0Ob",
        "outputId": "46c7aee9-5b44-402c-af12-d81c21e2e159"
      },
      "execution_count": 1,
      "outputs": [
        {
          "output_type": "stream",
          "name": "stdout",
          "text": [
            "NAME             ID              SIZE      MODIFIED    \n",
            "llama2:latest    78e26419b446    3.8 GB    2 hours ago    \n"
          ]
        }
      ]
    },
    {
      "cell_type": "code",
      "source": [
        "!tiny-agents run /content/my-agent/agent.json"
      ],
      "metadata": {
        "colab": {
          "base_uri": "https://localhost:8080/"
        },
        "id": "nN_i6pBH_1gi",
        "outputId": "731127be-7aca-454d-b5fa-91ba95ec67c1"
      },
      "execution_count": 3,
      "outputs": [
        {
          "output_type": "stream",
          "name": "stdout",
          "text": [
            "\u001b[1;34mAgent loaded with \u001b[0m\u001b[1;34m0\u001b[0m\u001b[1;34m tools:\u001b[0m\n",
            "»  hi\n",
            "\n",
            "\u001b[1;31mError during agent run: Provider \u001b[0m\u001b[1;31m'ollama'\u001b[0m\u001b[1;31m not supported. Available values: \u001b[0m\n",
            "\u001b[1;31m'auto'\u001b[0m\u001b[1;31m or any provider from \u001b[0m\u001b[1;31m[\u001b[0m\u001b[1;31m'black-forest-labs'\u001b[0m\u001b[1;31m, \u001b[0m\u001b[1;31m'cerebras'\u001b[0m\u001b[1;31m, \u001b[0m\u001b[1;31m'cohere'\u001b[0m\u001b[1;31m, \u001b[0m\n",
            "\u001b[1;31m'fal-ai'\u001b[0m\u001b[1;31m, \u001b[0m\u001b[1;31m'featherless-ai'\u001b[0m\u001b[1;31m, \u001b[0m\u001b[1;31m'fireworks-ai'\u001b[0m\u001b[1;31m, \u001b[0m\u001b[1;31m'groq'\u001b[0m\u001b[1;31m, \u001b[0m\u001b[1;31m'hf-inference'\u001b[0m\u001b[1;31m, \u001b[0m\n",
            "\u001b[1;31m'hyperbolic'\u001b[0m\u001b[1;31m, \u001b[0m\u001b[1;31m'nebius'\u001b[0m\u001b[1;31m, \u001b[0m\u001b[1;31m'novita'\u001b[0m\u001b[1;31m, \u001b[0m\u001b[1;31m'nscale'\u001b[0m\u001b[1;31m, \u001b[0m\u001b[1;31m'openai'\u001b[0m\u001b[1;31m, \u001b[0m\u001b[1;31m'replicate'\u001b[0m\u001b[1;31m, \u001b[0m\u001b[1;31m'sambanova'\u001b[0m\u001b[1;31m, \u001b[0m\n",
            "\u001b[1;31m'together'\u001b[0m\u001b[1;31m]\u001b[0m\u001b[1;31m.Passing \u001b[0m\u001b[1;31m'auto'\u001b[0m\u001b[1;31m \u001b[0m\u001b[1;31m(\u001b[0m\u001b[1;31mdefault value\u001b[0m\u001b[1;31m)\u001b[0m\u001b[1;31m will automatically select the first \u001b[0m\n",
            "\u001b[1;31mprovider available for the model, sorted by the user's order in \u001b[0m\n",
            "\u001b[1;4;31mhttps://hf.co/settings/inference-providers.\u001b[0m\n",
            "\u001b[1;31mTraceback \u001b[0m\u001b[1;31m(\u001b[0m\u001b[1;31mmost recent call last\u001b[0m\u001b[1;31m)\u001b[0m\u001b[1;31m:\u001b[0m\n",
            "\u001b[1;31m  File \u001b[0m\n",
            "\u001b[1;31m\"/usr/local/lib/python3.11/dist-packages/huggingface_hub/inference/_mcp/cli.py\"\u001b[0m\u001b[1;31m,\u001b[0m\n",
            "\u001b[1;31mline \u001b[0m\u001b[1;31m178\u001b[0m\u001b[1;31m, in run_agent\u001b[0m\n",
            "\u001b[1;31m    async for chunk in \u001b[0m\u001b[1;31magent.run\u001b[0m\u001b[1;31m(\u001b[0m\u001b[1;31muser_input, \u001b[0m\u001b[1;31mabort_event\u001b[0m\u001b[1;31m=\u001b[0m\u001b[1;31mabort_event\u001b[0m\u001b[1;31m)\u001b[0m\u001b[1;31m:\u001b[0m\n",
            "\u001b[1;31m  File \u001b[0m\n",
            "\u001b[1;31m\"/usr/local/lib/python3.11/dist-packages/huggingface_hub/inference/_mcp/agent.py\u001b[0m\n",
            "\u001b[1;31m\"\u001b[0m\u001b[1;31m, line \u001b[0m\u001b[1;31m84\u001b[0m\u001b[1;31m, in run\u001b[0m\n",
            "\u001b[1;31m    async for item in \u001b[0m\u001b[1;31mself.process_single_turn_with_tools\u001b[0m\u001b[1;31m(\u001b[0m\n",
            "\u001b[1;31m  File \u001b[0m\n",
            "\u001b[1;31m\"/usr/local/lib/python3.11/dist-packages/huggingface_hub/inference/_mcp/mcp_clie\u001b[0m\n",
            "\u001b[1;31mnt.py\"\u001b[0m\u001b[1;31m, line \u001b[0m\u001b[1;31m261\u001b[0m\u001b[1;31m, in process_single_turn_with_tools\u001b[0m\n",
            "\u001b[1;31m    response = await \u001b[0m\u001b[1;31mself.client.chat.completions.create\u001b[0m\u001b[1;31m(\u001b[0m\n",
            "\u001b[1;31m               ^^^^^^^^^^^^^^^^^^^^^^^^^^^^^^^^^^^^^^^^^^\u001b[0m\n",
            "\u001b[1;31m  File \u001b[0m\n",
            "\u001b[1;31m\"/usr/local/lib/python3.11/dist-packages/huggingface_hub/inference/_generated/_a\u001b[0m\n",
            "\u001b[1;31msync_client.py\"\u001b[0m\u001b[1;31m, line \u001b[0m\u001b[1;31m925\u001b[0m\u001b[1;31m, in chat_completion\u001b[0m\n",
            "\u001b[1;31m    provider_helper = \u001b[0m\u001b[1;31mget_provider_helper\u001b[0m\u001b[1;31m(\u001b[0m\n",
            "\u001b[1;31m                      ^^^^^^^^^^^^^^^^^^^^\u001b[0m\n",
            "\u001b[1;31m  File \u001b[0m\n",
            "\u001b[1;31m\"/usr/local/lib/python3.11/dist-packages/huggingface_hub/inference/_providers/__\u001b[0m\n",
            "\u001b[1;31minit__.py\"\u001b[0m\u001b[1;31m, line \u001b[0m\u001b[1;31m198\u001b[0m\u001b[1;31m, in get_provider_helper\u001b[0m\n",
            "\u001b[1;31m    raise \u001b[0m\u001b[1;31mValueError\u001b[0m\u001b[1;31m(\u001b[0m\n",
            "\u001b[1;31mValueError: Provider \u001b[0m\u001b[1;31m'ollama'\u001b[0m\u001b[1;31m not supported. Available values: \u001b[0m\u001b[1;31m'auto'\u001b[0m\u001b[1;31m or any \u001b[0m\n",
            "\u001b[1;31mprovider from \u001b[0m\u001b[1;31m[\u001b[0m\u001b[1;31m'black-forest-labs'\u001b[0m\u001b[1;31m, \u001b[0m\u001b[1;31m'cerebras'\u001b[0m\u001b[1;31m, \u001b[0m\u001b[1;31m'cohere'\u001b[0m\u001b[1;31m, \u001b[0m\u001b[1;31m'fal-ai'\u001b[0m\u001b[1;31m, \u001b[0m\n",
            "\u001b[1;31m'featherless-ai'\u001b[0m\u001b[1;31m, \u001b[0m\u001b[1;31m'fireworks-ai'\u001b[0m\u001b[1;31m, \u001b[0m\u001b[1;31m'groq'\u001b[0m\u001b[1;31m, \u001b[0m\u001b[1;31m'hf-inference'\u001b[0m\u001b[1;31m, \u001b[0m\u001b[1;31m'hyperbolic'\u001b[0m\u001b[1;31m, \u001b[0m\n",
            "\u001b[1;31m'nebius'\u001b[0m\u001b[1;31m, \u001b[0m\u001b[1;31m'novita'\u001b[0m\u001b[1;31m, \u001b[0m\u001b[1;31m'nscale'\u001b[0m\u001b[1;31m, \u001b[0m\u001b[1;31m'openai'\u001b[0m\u001b[1;31m, \u001b[0m\u001b[1;31m'replicate'\u001b[0m\u001b[1;31m, \u001b[0m\u001b[1;31m'sambanova'\u001b[0m\u001b[1;31m, \u001b[0m\n",
            "\u001b[1;31m'together'\u001b[0m\u001b[1;31m]\u001b[0m\u001b[1;31m.Passing \u001b[0m\u001b[1;31m'auto'\u001b[0m\u001b[1;31m \u001b[0m\u001b[1;31m(\u001b[0m\u001b[1;31mdefault value\u001b[0m\u001b[1;31m)\u001b[0m\u001b[1;31m will automatically select the first \u001b[0m\n",
            "\u001b[1;31mprovider available for the model, sorted by the user's order in \u001b[0m\n",
            "\u001b[1;4;31mhttps://hf.co/settings/inference-providers.\u001b[0m\n",
            "\n",
            "»  \n",
            "\u001b[31mInterrupted. Press Ctrl+C again to quit.\u001b[0m\n",
            "\n",
            "\u001b[31mExiting\u001b[0m\u001b[31m...\u001b[0m\n",
            "\n"
          ]
        }
      ]
    },
    {
      "cell_type": "code",
      "source": [
        "https://github.com/sdelahaies/tiny-agent-mcp/blob/main/my-agent/agent.json"
      ],
      "metadata": {
        "id": "4UD7BgVVAQ8t"
      },
      "execution_count": null,
      "outputs": []
    },
    {
      "cell_type": "code",
      "source": [
        "!nohup ollama serve &"
      ],
      "metadata": {
        "colab": {
          "base_uri": "https://localhost:8080/"
        },
        "id": "zQlghWOzPlQd",
        "outputId": "ace228a3-a882-4dc8-b425-5ccbf5a3fbe3"
      },
      "execution_count": 4,
      "outputs": [
        {
          "output_type": "stream",
          "name": "stdout",
          "text": [
            "nohup: appending output to 'nohup.out'\n"
          ]
        }
      ]
    },
    {
      "cell_type": "code",
      "source": [
        "!ollama list"
      ],
      "metadata": {
        "colab": {
          "base_uri": "https://localhost:8080/"
        },
        "id": "l5o45TL8PmAk",
        "outputId": "9a2ab9a8-ebf7-43a8-a857-c1e98fe7e577"
      },
      "execution_count": 5,
      "outputs": [
        {
          "output_type": "stream",
          "name": "stdout",
          "text": [
            "NAME             ID              SIZE      MODIFIED    \n",
            "llama2:latest    78e26419b446    3.8 GB    3 hours ago    \n"
          ]
        }
      ]
    },
    {
      "cell_type": "code",
      "source": [
        "!git clone https://github.com/sdelahaies/tiny-agent-mcp.git"
      ],
      "metadata": {
        "colab": {
          "base_uri": "https://localhost:8080/"
        },
        "id": "YyzFQZp9Po7U",
        "outputId": "50ef10ce-162b-431b-8004-d244938a7f89"
      },
      "execution_count": 6,
      "outputs": [
        {
          "output_type": "stream",
          "name": "stdout",
          "text": [
            "Cloning into 'tiny-agent-mcp'...\n",
            "remote: Enumerating objects: 6, done.\u001b[K\n",
            "remote: Counting objects: 100% (6/6), done.\u001b[K\n",
            "remote: Compressing objects: 100% (5/5), done.\u001b[K\n",
            "remote: Total 6 (delta 0), reused 6 (delta 0), pack-reused 0 (from 0)\u001b[K\n",
            "Receiving objects: 100% (6/6), 4.07 KiB | 4.07 MiB/s, done.\n"
          ]
        }
      ]
    },
    {
      "cell_type": "code",
      "source": [
        "%cd tiny-agent-mcp"
      ],
      "metadata": {
        "colab": {
          "base_uri": "https://localhost:8080/"
        },
        "id": "MJICvs7GPxS8",
        "outputId": "3bb2e8b0-a1ec-45d2-d909-e4a3b164d052"
      },
      "execution_count": 7,
      "outputs": [
        {
          "output_type": "stream",
          "name": "stdout",
          "text": [
            "/content/tiny-agent-mcp\n"
          ]
        }
      ]
    },
    {
      "cell_type": "code",
      "source": [
        "!tiny-agents run ./my-agent"
      ],
      "metadata": {
        "colab": {
          "base_uri": "https://localhost:8080/"
        },
        "id": "4Gr35_u7P1YD",
        "outputId": "06528599-b1f6-4eec-dabc-30befad52272"
      },
      "execution_count": 9,
      "outputs": [
        {
          "output_type": "stream",
          "name": "stdout",
          "text": [
            "\n",
            "\u001b[1;31mAn unexpected error occurred: \u001b[0m\u001b[1;31m'url'\u001b[0m\n",
            "\u001b[1;31mTraceback \u001b[0m\u001b[1;31m(\u001b[0m\u001b[1;31mmost recent call last\u001b[0m\u001b[1;31m)\u001b[0m\u001b[1;31m:\u001b[0m\n",
            "\u001b[1;31m  File \u001b[0m\n",
            "\u001b[1;31m\"/usr/local/lib/python3.11/dist-packages/huggingface_hub/inference/_mcp/cli.py\"\u001b[0m\u001b[1;31m,\u001b[0m\n",
            "\u001b[1;31mline \u001b[0m\u001b[1;31m152\u001b[0m\u001b[1;31m, in run_agent\u001b[0m\n",
            "\u001b[1;31m    await \u001b[0m\u001b[1;31magent.load_tools\u001b[0m\u001b[1;31m(\u001b[0m\u001b[1;31m)\u001b[0m\n",
            "\u001b[1;31m  File \u001b[0m\n",
            "\u001b[1;31m\"/usr/local/lib/python3.11/dist-packages/huggingface_hub/inference/_mcp/agent.py\u001b[0m\n",
            "\u001b[1;31m\"\u001b[0m\u001b[1;31m, line \u001b[0m\u001b[1;31m58\u001b[0m\u001b[1;31m, in load_tools\u001b[0m\n",
            "\u001b[1;31m    await \u001b[0m\u001b[1;31mself.add_mcp_server\u001b[0m\u001b[1;31m(\u001b[0m\u001b[1;31m**cfg\u001b[0m\u001b[1;31m)\u001b[0m\n",
            "\u001b[1;31m  File \u001b[0m\n",
            "\u001b[1;31m\"/usr/local/lib/python3.11/dist-packages/huggingface_hub/inference/_mcp/mcp_clie\u001b[0m\n",
            "\u001b[1;31mnt.py\"\u001b[0m\u001b[1;31m, line \u001b[0m\u001b[1;31m185\u001b[0m\u001b[1;31m, in add_mcp_server\u001b[0m\n",
            "\u001b[1;31m    \u001b[0m\u001b[1;31mlogger.info\u001b[0m\u001b[1;31m(\u001b[0m\u001b[1;31mf\"Connecting to StreamableHTTP MCP server at: \u001b[0m\u001b[1;31m{\u001b[0m\u001b[1;31mparams\u001b[0m\u001b[1;31m[\u001b[0m\u001b[1;31m'url'\u001b[0m\u001b[1;31m]\u001b[0m\u001b[1;31m}\u001b[0m\u001b[1;31m\"\u001b[0m\u001b[1;31m)\u001b[0m\n",
            "\u001b[1;31m                                                               ~~~~~~^^^^^^^\u001b[0m\n",
            "\u001b[1;31mKeyError: \u001b[0m\u001b[1;31m'url'\u001b[0m\n",
            "\n",
            "\n",
            "\u001b[1;31mAn unexpected error occurred: \u001b[0m\u001b[1;31m'url'\u001b[0m\n",
            "\u001b[31m╭─\u001b[0m\u001b[31m────────────────────\u001b[0m\u001b[31m \u001b[0m\u001b[1;31mTraceback \u001b[0m\u001b[1;2;31m(most recent call last)\u001b[0m\u001b[31m \u001b[0m\u001b[31m─────────────────────\u001b[0m\u001b[31m─╮\u001b[0m\n",
            "\u001b[31m│\u001b[0m \u001b[2;33m/usr/local/lib/python3.11/dist-packages/huggingface_hub/inference/_mcp/\u001b[0m\u001b[1;33mcli.p\u001b[0m \u001b[31m│\u001b[0m\n",
            "\u001b[31m│\u001b[0m \u001b[1;33my\u001b[0m:\u001b[94m243\u001b[0m in \u001b[92mrun\u001b[0m                                                                 \u001b[31m│\u001b[0m\n",
            "\u001b[31m│\u001b[0m                                                                              \u001b[31m│\u001b[0m\n",
            "\u001b[31m│\u001b[0m   \u001b[2m240 \u001b[0m\u001b[2m│   │   \u001b[0m\u001b[94mraise\u001b[0m typer.Exit(code=\u001b[94m130\u001b[0m)                                     \u001b[31m│\u001b[0m\n",
            "\u001b[31m│\u001b[0m   \u001b[2m241 \u001b[0m\u001b[2m│   \u001b[0m\u001b[94mexcept\u001b[0m \u001b[96mException\u001b[0m \u001b[94mas\u001b[0m e:                                             \u001b[31m│\u001b[0m\n",
            "\u001b[31m│\u001b[0m   \u001b[2m242 \u001b[0m\u001b[2m│   │   \u001b[0m\u001b[96mprint\u001b[0m(\u001b[33mf\u001b[0m\u001b[33m\"\u001b[0m\u001b[33m\\n\u001b[0m\u001b[33m[bold red]An unexpected error occurred: \u001b[0m\u001b[33m{\u001b[0me\u001b[33m}\u001b[0m\u001b[33m[/bold re\u001b[0m \u001b[31m│\u001b[0m\n",
            "\u001b[31m│\u001b[0m \u001b[31m❱ \u001b[0m243 \u001b[2m│   │   \u001b[0m\u001b[1;4;94mraise\u001b[0m\u001b[1;4m e\u001b[0m                                                        \u001b[31m│\u001b[0m\n",
            "\u001b[31m│\u001b[0m   \u001b[2m244 \u001b[0m                                                                       \u001b[31m│\u001b[0m\n",
            "\u001b[31m│\u001b[0m   \u001b[2m245 \u001b[0m                                                                       \u001b[31m│\u001b[0m\n",
            "\u001b[31m│\u001b[0m   \u001b[2m246 \u001b[0m\u001b[94mif\u001b[0m \u001b[91m__name__\u001b[0m == \u001b[33m\"\u001b[0m\u001b[33m__main__\u001b[0m\u001b[33m\"\u001b[0m:                                             \u001b[31m│\u001b[0m\n",
            "\u001b[31m│\u001b[0m                                                                              \u001b[31m│\u001b[0m\n",
            "\u001b[31m│\u001b[0m \u001b[33m╭─\u001b[0m\u001b[33m─────\u001b[0m\u001b[33m locals \u001b[0m\u001b[33m──────\u001b[0m\u001b[33m─╮\u001b[0m                                                      \u001b[31m│\u001b[0m\n",
            "\u001b[31m│\u001b[0m \u001b[33m│\u001b[0m path = \u001b[33m'./my-agent'\u001b[0m \u001b[33m│\u001b[0m                                                      \u001b[31m│\u001b[0m\n",
            "\u001b[31m│\u001b[0m \u001b[33m╰─────────────────────╯\u001b[0m                                                      \u001b[31m│\u001b[0m\n",
            "\u001b[31m│\u001b[0m                                                                              \u001b[31m│\u001b[0m\n",
            "\u001b[31m│\u001b[0m \u001b[2;33m/usr/local/lib/python3.11/dist-packages/huggingface_hub/inference/_mcp/\u001b[0m\u001b[1;33mcli.p\u001b[0m \u001b[31m│\u001b[0m\n",
            "\u001b[31m│\u001b[0m \u001b[1;33my\u001b[0m:\u001b[94m237\u001b[0m in \u001b[92mrun\u001b[0m                                                                 \u001b[31m│\u001b[0m\n",
            "\u001b[31m│\u001b[0m                                                                              \u001b[31m│\u001b[0m\n",
            "\u001b[31m│\u001b[0m   \u001b[2m234 \u001b[0m\u001b[2m│   \u001b[0m),                                                                 \u001b[31m│\u001b[0m\n",
            "\u001b[31m│\u001b[0m   \u001b[2m235 \u001b[0m):                                                                     \u001b[31m│\u001b[0m\n",
            "\u001b[31m│\u001b[0m   \u001b[2m236 \u001b[0m\u001b[2m│   \u001b[0m\u001b[94mtry\u001b[0m:                                                               \u001b[31m│\u001b[0m\n",
            "\u001b[31m│\u001b[0m \u001b[31m❱ \u001b[0m237 \u001b[2m│   │   \u001b[0masyncio.run(run_agent(path))                                   \u001b[31m│\u001b[0m\n",
            "\u001b[31m│\u001b[0m   \u001b[2m238 \u001b[0m\u001b[2m│   \u001b[0m\u001b[94mexcept\u001b[0m \u001b[96mKeyboardInterrupt\u001b[0m:                                          \u001b[31m│\u001b[0m\n",
            "\u001b[31m│\u001b[0m   \u001b[2m239 \u001b[0m\u001b[2m│   │   \u001b[0m\u001b[96mprint\u001b[0m(\u001b[33m\"\u001b[0m\u001b[33m\\n\u001b[0m\u001b[33m[red]Application terminated by KeyboardInterrupt.[/re\u001b[0m \u001b[31m│\u001b[0m\n",
            "\u001b[31m│\u001b[0m   \u001b[2m240 \u001b[0m\u001b[2m│   │   \u001b[0m\u001b[94mraise\u001b[0m typer.Exit(code=\u001b[94m130\u001b[0m)                                     \u001b[31m│\u001b[0m\n",
            "\u001b[31m│\u001b[0m                                                                              \u001b[31m│\u001b[0m\n",
            "\u001b[31m│\u001b[0m \u001b[33m╭─\u001b[0m\u001b[33m─────\u001b[0m\u001b[33m locals \u001b[0m\u001b[33m──────\u001b[0m\u001b[33m─╮\u001b[0m                                                      \u001b[31m│\u001b[0m\n",
            "\u001b[31m│\u001b[0m \u001b[33m│\u001b[0m path = \u001b[33m'./my-agent'\u001b[0m \u001b[33m│\u001b[0m                                                      \u001b[31m│\u001b[0m\n",
            "\u001b[31m│\u001b[0m \u001b[33m╰─────────────────────╯\u001b[0m                                                      \u001b[31m│\u001b[0m\n",
            "\u001b[31m│\u001b[0m                                                                              \u001b[31m│\u001b[0m\n",
            "\u001b[31m│\u001b[0m \u001b[2;33m/usr/lib/python3.11/asyncio/\u001b[0m\u001b[1;33mrunners.py\u001b[0m:\u001b[94m190\u001b[0m in \u001b[92mrun\u001b[0m                            \u001b[31m│\u001b[0m\n",
            "\u001b[31m│\u001b[0m                                                                              \u001b[31m│\u001b[0m\n",
            "\u001b[31m│\u001b[0m   \u001b[2m187 \u001b[0m\u001b[2m│   │   │   \u001b[0m\u001b[33m\"\u001b[0m\u001b[33masyncio.run() cannot be called from a running event loop\u001b[0m\u001b[33m\"\u001b[0m \u001b[31m│\u001b[0m\n",
            "\u001b[31m│\u001b[0m   \u001b[2m188 \u001b[0m\u001b[2m│   \u001b[0m                                                                   \u001b[31m│\u001b[0m\n",
            "\u001b[31m│\u001b[0m   \u001b[2m189 \u001b[0m\u001b[2m│   \u001b[0m\u001b[94mwith\u001b[0m Runner(debug=debug) \u001b[94mas\u001b[0m runner:                                \u001b[31m│\u001b[0m\n",
            "\u001b[31m│\u001b[0m \u001b[31m❱ \u001b[0m190 \u001b[2m│   │   \u001b[0m\u001b[94mreturn\u001b[0m \u001b[1;4mrunner.run(main)\u001b[0m                                        \u001b[31m│\u001b[0m\n",
            "\u001b[31m│\u001b[0m   \u001b[2m191 \u001b[0m                                                                       \u001b[31m│\u001b[0m\n",
            "\u001b[31m│\u001b[0m   \u001b[2m192 \u001b[0m                                                                       \u001b[31m│\u001b[0m\n",
            "\u001b[31m│\u001b[0m   \u001b[2m193 \u001b[0m\u001b[94mdef\u001b[0m\u001b[90m \u001b[0m\u001b[92m_cancel_all_tasks\u001b[0m(loop):                                           \u001b[31m│\u001b[0m\n",
            "\u001b[31m│\u001b[0m                                                                              \u001b[31m│\u001b[0m\n",
            "\u001b[31m│\u001b[0m \u001b[33m╭─\u001b[0m\u001b[33m─────────────────────────\u001b[0m\u001b[33m locals \u001b[0m\u001b[33m─────────────────────────\u001b[0m\u001b[33m─╮\u001b[0m               \u001b[31m│\u001b[0m\n",
            "\u001b[31m│\u001b[0m \u001b[33m│\u001b[0m  debug = \u001b[94mNone\u001b[0m                                              \u001b[33m│\u001b[0m               \u001b[31m│\u001b[0m\n",
            "\u001b[31m│\u001b[0m \u001b[33m│\u001b[0m   main = \u001b[1m<\u001b[0m\u001b[1;95mcoroutine\u001b[0m\u001b[39m object run_agent at \u001b[0m\u001b[94m0x2a6d2f30\u001b[0m\u001b[1m>\u001b[0m        \u001b[33m│\u001b[0m               \u001b[31m│\u001b[0m\n",
            "\u001b[31m│\u001b[0m \u001b[33m│\u001b[0m runner = \u001b[1m<\u001b[0m\u001b[1;95masyncio.runners.Runner\u001b[0m\u001b[39m object at \u001b[0m\u001b[94m0x13bf52bd4cd0\u001b[0m\u001b[1m>\u001b[0m \u001b[33m│\u001b[0m               \u001b[31m│\u001b[0m\n",
            "\u001b[31m│\u001b[0m \u001b[33m╰────────────────────────────────────────────────────────────╯\u001b[0m               \u001b[31m│\u001b[0m\n",
            "\u001b[31m│\u001b[0m                                                                              \u001b[31m│\u001b[0m\n",
            "\u001b[31m│\u001b[0m \u001b[2;33m/usr/lib/python3.11/asyncio/\u001b[0m\u001b[1;33mrunners.py\u001b[0m:\u001b[94m118\u001b[0m in \u001b[92mrun\u001b[0m                            \u001b[31m│\u001b[0m\n",
            "\u001b[31m│\u001b[0m                                                                              \u001b[31m│\u001b[0m\n",
            "\u001b[31m│\u001b[0m   \u001b[2m115 \u001b[0m\u001b[2m│   │   \u001b[0m                                                               \u001b[31m│\u001b[0m\n",
            "\u001b[31m│\u001b[0m   \u001b[2m116 \u001b[0m\u001b[2m│   │   \u001b[0m\u001b[96mself\u001b[0m._interrupt_count = \u001b[94m0\u001b[0m                                      \u001b[31m│\u001b[0m\n",
            "\u001b[31m│\u001b[0m   \u001b[2m117 \u001b[0m\u001b[2m│   │   \u001b[0m\u001b[94mtry\u001b[0m:                                                           \u001b[31m│\u001b[0m\n",
            "\u001b[31m│\u001b[0m \u001b[31m❱ \u001b[0m118 \u001b[2m│   │   │   \u001b[0m\u001b[94mreturn\u001b[0m \u001b[96mself\u001b[0m._loop.run_until_complete(task)                 \u001b[31m│\u001b[0m\n",
            "\u001b[31m│\u001b[0m   \u001b[2m119 \u001b[0m\u001b[2m│   │   \u001b[0m\u001b[94mexcept\u001b[0m exceptions.CancelledError:                              \u001b[31m│\u001b[0m\n",
            "\u001b[31m│\u001b[0m   \u001b[2m120 \u001b[0m\u001b[2m│   │   │   \u001b[0m\u001b[94mif\u001b[0m \u001b[96mself\u001b[0m._interrupt_count > \u001b[94m0\u001b[0m:                              \u001b[31m│\u001b[0m\n",
            "\u001b[31m│\u001b[0m   \u001b[2m121 \u001b[0m\u001b[2m│   │   │   │   \u001b[0muncancel = \u001b[96mgetattr\u001b[0m(task, \u001b[33m\"\u001b[0m\u001b[33muncancel\u001b[0m\u001b[33m\"\u001b[0m, \u001b[94mNone\u001b[0m)             \u001b[31m│\u001b[0m\n",
            "\u001b[31m│\u001b[0m                                                                              \u001b[31m│\u001b[0m\n",
            "\u001b[31m│\u001b[0m \u001b[33m╭─\u001b[0m\u001b[33m────────────────────────────────\u001b[0m\u001b[33m locals \u001b[0m\u001b[33m────────────────────────────────\u001b[0m\u001b[33m─╮\u001b[0m \u001b[31m│\u001b[0m\n",
            "\u001b[31m│\u001b[0m \u001b[33m│\u001b[0m        context = \u001b[1m<\u001b[0m\u001b[1;95m_contextvars.Context\u001b[0m\u001b[39m object at \u001b[0m\u001b[94m0x13bf52bd5380\u001b[0m\u001b[1m>\u001b[0m         \u001b[33m│\u001b[0m \u001b[31m│\u001b[0m\n",
            "\u001b[31m│\u001b[0m \u001b[33m│\u001b[0m           coro = \u001b[1m<\u001b[0m\u001b[1;95mcoroutine\u001b[0m\u001b[39m object run_agent at \u001b[0m\u001b[94m0x2a6d2f30\u001b[0m\u001b[1m>\u001b[0m              \u001b[33m│\u001b[0m \u001b[31m│\u001b[0m\n",
            "\u001b[31m│\u001b[0m \u001b[33m│\u001b[0m           self = \u001b[1m<\u001b[0m\u001b[1;95masyncio.runners.Runner\u001b[0m\u001b[39m object at \u001b[0m\u001b[94m0x13bf52bd4cd0\u001b[0m\u001b[1m>\u001b[0m       \u001b[33m│\u001b[0m \u001b[31m│\u001b[0m\n",
            "\u001b[31m│\u001b[0m \u001b[33m│\u001b[0m sigint_handler = \u001b[1;35mfunctools.partial\u001b[0m\u001b[1m(\u001b[0m\u001b[1m<\u001b[0m\u001b[1;95mbound\u001b[0m\u001b[39m method Runner._on_sigint of \u001b[0m   \u001b[33m│\u001b[0m \u001b[31m│\u001b[0m\n",
            "\u001b[31m│\u001b[0m \u001b[33m│\u001b[0m                  \u001b[39m<asyncio.runners.Runner object at \u001b[0m\u001b[94m0x13bf52bd4cd0\u001b[0m\u001b[39m>>, \u001b[0m    \u001b[33m│\u001b[0m \u001b[31m│\u001b[0m\n",
            "\u001b[31m│\u001b[0m \u001b[33m│\u001b[0m                  \u001b[33mmain_task\u001b[0m\u001b[39m=<Task finished \u001b[0m\u001b[33mname\u001b[0m\u001b[39m=\u001b[0m\u001b[33m'Task-1'\u001b[0m\u001b[39m \u001b[0m                 \u001b[33m│\u001b[0m \u001b[31m│\u001b[0m\n",
            "\u001b[31m│\u001b[0m \u001b[33m│\u001b[0m                  \u001b[33mcoro\u001b[0m\u001b[39m=<\u001b[0m\u001b[1;35mrun_agent\u001b[0m\u001b[1;39m(\u001b[0m\u001b[1;39m)\u001b[0m\u001b[39m done, defined at \u001b[0m                     \u001b[33m│\u001b[0m \u001b[31m│\u001b[0m\n",
            "\u001b[31m│\u001b[0m \u001b[33m│\u001b[0m                  \u001b[35m/usr/local/lib/python3.11/dist-packages/huggingface_hu…\u001b[0m \u001b[33m│\u001b[0m \u001b[31m│\u001b[0m\n",
            "\u001b[31m│\u001b[0m \u001b[33m│\u001b[0m                  \u001b[33mexception\u001b[0m\u001b[39m=\u001b[0m\u001b[1;35mKeyError\u001b[0m\u001b[1;39m(\u001b[0m\u001b[33m'url'\u001b[0m\u001b[1;39m)\u001b[0m\u001b[1m>\u001b[0m\u001b[1m)\u001b[0m                             \u001b[33m│\u001b[0m \u001b[31m│\u001b[0m\n",
            "\u001b[31m│\u001b[0m \u001b[33m│\u001b[0m           task = \u001b[1m<\u001b[0m\u001b[1;95mTask\u001b[0m\u001b[39m finished \u001b[0m\u001b[33mname\u001b[0m\u001b[39m=\u001b[0m\u001b[33m'Task-1'\u001b[0m\u001b[39m \u001b[0m\u001b[33mcoro\u001b[0m\u001b[39m=<\u001b[0m\u001b[1;35mrun_agent\u001b[0m\u001b[1;39m(\u001b[0m\u001b[1;39m)\u001b[0m\u001b[39m done, \u001b[0m   \u001b[33m│\u001b[0m \u001b[31m│\u001b[0m\n",
            "\u001b[31m│\u001b[0m \u001b[33m│\u001b[0m                  \u001b[39mdefined at \u001b[0m                                             \u001b[33m│\u001b[0m \u001b[31m│\u001b[0m\n",
            "\u001b[31m│\u001b[0m \u001b[33m│\u001b[0m                  \u001b[35m/usr/local/lib/python3.11/dist-packages/huggingface_hu…\u001b[0m \u001b[33m│\u001b[0m \u001b[31m│\u001b[0m\n",
            "\u001b[31m│\u001b[0m \u001b[33m│\u001b[0m                  \u001b[33mexception\u001b[0m\u001b[39m=\u001b[0m\u001b[1;35mKeyError\u001b[0m\u001b[1;39m(\u001b[0m\u001b[33m'url'\u001b[0m\u001b[1;39m)\u001b[0m\u001b[1m>\u001b[0m                              \u001b[33m│\u001b[0m \u001b[31m│\u001b[0m\n",
            "\u001b[31m│\u001b[0m \u001b[33m╰──────────────────────────────────────────────────────────────────────────╯\u001b[0m \u001b[31m│\u001b[0m\n",
            "\u001b[31m│\u001b[0m                                                                              \u001b[31m│\u001b[0m\n",
            "\u001b[31m│\u001b[0m \u001b[2;33m/usr/lib/python3.11/asyncio/\u001b[0m\u001b[1;33mbase_events.py\u001b[0m:\u001b[94m654\u001b[0m in \u001b[92mrun_until_complete\u001b[0m         \u001b[31m│\u001b[0m\n",
            "\u001b[31m│\u001b[0m                                                                              \u001b[31m│\u001b[0m\n",
            "\u001b[31m│\u001b[0m   \u001b[2m 651 \u001b[0m\u001b[2m│   │   \u001b[0m\u001b[94mif\u001b[0m \u001b[95mnot\u001b[0m future.done():                                         \u001b[31m│\u001b[0m\n",
            "\u001b[31m│\u001b[0m   \u001b[2m 652 \u001b[0m\u001b[2m│   │   │   \u001b[0m\u001b[94mraise\u001b[0m \u001b[96mRuntimeError\u001b[0m(\u001b[33m'\u001b[0m\u001b[33mEvent loop stopped before Future comp\u001b[0m \u001b[31m│\u001b[0m\n",
            "\u001b[31m│\u001b[0m   \u001b[2m 653 \u001b[0m\u001b[2m│   │   \u001b[0m                                                              \u001b[31m│\u001b[0m\n",
            "\u001b[31m│\u001b[0m \u001b[31m❱ \u001b[0m 654 \u001b[2m│   │   \u001b[0m\u001b[94mreturn\u001b[0m \u001b[1;4mfuture.result()\u001b[0m                                        \u001b[31m│\u001b[0m\n",
            "\u001b[31m│\u001b[0m   \u001b[2m 655 \u001b[0m\u001b[2m│   \u001b[0m                                                                  \u001b[31m│\u001b[0m\n",
            "\u001b[31m│\u001b[0m   \u001b[2m 656 \u001b[0m\u001b[2m│   \u001b[0m\u001b[94mdef\u001b[0m\u001b[90m \u001b[0m\u001b[92mstop\u001b[0m(\u001b[96mself\u001b[0m):                                                   \u001b[31m│\u001b[0m\n",
            "\u001b[31m│\u001b[0m   \u001b[2m 657 \u001b[0m\u001b[2;90m│   │   \u001b[0m\u001b[33m\"\"\"Stop running the event loop.\u001b[0m                               \u001b[31m│\u001b[0m\n",
            "\u001b[31m│\u001b[0m                                                                              \u001b[31m│\u001b[0m\n",
            "\u001b[31m│\u001b[0m \u001b[33m╭─\u001b[0m\u001b[33m────────────────────────────────\u001b[0m\u001b[33m locals \u001b[0m\u001b[33m────────────────────────────────\u001b[0m\u001b[33m─╮\u001b[0m \u001b[31m│\u001b[0m\n",
            "\u001b[31m│\u001b[0m \u001b[33m│\u001b[0m   future = \u001b[1m<\u001b[0m\u001b[1;95mTask\u001b[0m\u001b[39m finished \u001b[0m\u001b[33mname\u001b[0m\u001b[39m=\u001b[0m\u001b[33m'Task-1'\u001b[0m\u001b[39m \u001b[0m\u001b[33mcoro\u001b[0m\u001b[39m=<\u001b[0m\u001b[1;35mrun_agent\u001b[0m\u001b[1;39m(\u001b[0m\u001b[1;39m)\u001b[0m\u001b[39m done, defined \u001b[0m \u001b[33m│\u001b[0m \u001b[31m│\u001b[0m\n",
            "\u001b[31m│\u001b[0m \u001b[33m│\u001b[0m            \u001b[39mat \u001b[0m                                                           \u001b[33m│\u001b[0m \u001b[31m│\u001b[0m\n",
            "\u001b[31m│\u001b[0m \u001b[33m│\u001b[0m            \u001b[35m/usr/local/lib/python3.11/dist-packages/huggingface_hub/infe…\u001b[0m \u001b[33m│\u001b[0m \u001b[31m│\u001b[0m\n",
            "\u001b[31m│\u001b[0m \u001b[33m│\u001b[0m            \u001b[33mexception\u001b[0m\u001b[39m=\u001b[0m\u001b[1;35mKeyError\u001b[0m\u001b[1;39m(\u001b[0m\u001b[33m'url'\u001b[0m\u001b[1;39m)\u001b[0m\u001b[1m>\u001b[0m                                    \u001b[33m│\u001b[0m \u001b[31m│\u001b[0m\n",
            "\u001b[31m│\u001b[0m \u001b[33m│\u001b[0m new_task = \u001b[94mFalse\u001b[0m                                                         \u001b[33m│\u001b[0m \u001b[31m│\u001b[0m\n",
            "\u001b[31m│\u001b[0m \u001b[33m│\u001b[0m     self = \u001b[1m<\u001b[0m\u001b[1;95m_UnixSelectorEventLoop\u001b[0m\u001b[39m \u001b[0m\u001b[33mrunning\u001b[0m\u001b[39m=\u001b[0m\u001b[94mFalse\u001b[0m\u001b[39m \u001b[0m\u001b[33mclosed\u001b[0m\u001b[39m=\u001b[0m\u001b[94mTrue\u001b[0m\u001b[39m \u001b[0m            \u001b[33m│\u001b[0m \u001b[31m│\u001b[0m\n",
            "\u001b[31m│\u001b[0m \u001b[33m│\u001b[0m            \u001b[33mdebug\u001b[0m\u001b[39m=\u001b[0m\u001b[94mFalse\u001b[0m\u001b[1m>\u001b[0m                                                  \u001b[33m│\u001b[0m \u001b[31m│\u001b[0m\n",
            "\u001b[31m│\u001b[0m \u001b[33m╰──────────────────────────────────────────────────────────────────────────╯\u001b[0m \u001b[31m│\u001b[0m\n",
            "\u001b[31m│\u001b[0m                                                                              \u001b[31m│\u001b[0m\n",
            "\u001b[31m│\u001b[0m \u001b[2;33m/usr/local/lib/python3.11/dist-packages/huggingface_hub/inference/_mcp/\u001b[0m\u001b[1;33mcli.p\u001b[0m \u001b[31m│\u001b[0m\n",
            "\u001b[31m│\u001b[0m \u001b[1;33my\u001b[0m:\u001b[94m212\u001b[0m in \u001b[92mrun_agent\u001b[0m                                                           \u001b[31m│\u001b[0m\n",
            "\u001b[31m│\u001b[0m                                                                              \u001b[31m│\u001b[0m\n",
            "\u001b[31m│\u001b[0m   \u001b[2m209 \u001b[0m\u001b[2m│   \u001b[0m\u001b[94mexcept\u001b[0m \u001b[96mException\u001b[0m \u001b[94mas\u001b[0m e:                                             \u001b[31m│\u001b[0m\n",
            "\u001b[31m│\u001b[0m   \u001b[2m210 \u001b[0m\u001b[2m│   │   \u001b[0mtb_str = traceback.format_exc()                                \u001b[31m│\u001b[0m\n",
            "\u001b[31m│\u001b[0m   \u001b[2m211 \u001b[0m\u001b[2m│   │   \u001b[0m\u001b[96mprint\u001b[0m(\u001b[33mf\u001b[0m\u001b[33m\"\u001b[0m\u001b[33m\\n\u001b[0m\u001b[33m[bold red]An unexpected error occurred: \u001b[0m\u001b[33m{\u001b[0me\u001b[33m}\u001b[0m\u001b[33m\\n\u001b[0m\u001b[33m{\u001b[0mtb_str \u001b[31m│\u001b[0m\n",
            "\u001b[31m│\u001b[0m \u001b[31m❱ \u001b[0m212 \u001b[2m│   │   \u001b[0m\u001b[94mraise\u001b[0m e                                                        \u001b[31m│\u001b[0m\n",
            "\u001b[31m│\u001b[0m   \u001b[2m213 \u001b[0m\u001b[2m│   \u001b[0m                                                                   \u001b[31m│\u001b[0m\n",
            "\u001b[31m│\u001b[0m   \u001b[2m214 \u001b[0m\u001b[2m│   \u001b[0m\u001b[94mfinally\u001b[0m:                                                           \u001b[31m│\u001b[0m\n",
            "\u001b[31m│\u001b[0m   \u001b[2m215 \u001b[0m\u001b[2m│   │   \u001b[0m\u001b[94mif\u001b[0m sigint_registered_in_loop:                                  \u001b[31m│\u001b[0m\n",
            "\u001b[31m│\u001b[0m                                                                              \u001b[31m│\u001b[0m\n",
            "\u001b[31m│\u001b[0m \u001b[33m╭─\u001b[0m\u001b[33m────────────────────────────────\u001b[0m\u001b[33m locals \u001b[0m\u001b[33m────────────────────────────────\u001b[0m\u001b[33m─╮\u001b[0m \u001b[31m│\u001b[0m\n",
            "\u001b[31m│\u001b[0m \u001b[33m│\u001b[0m               abort_event = \u001b[1m<\u001b[0m\u001b[1;95masyncio.locks.Event\u001b[0m\u001b[39m object at \u001b[0m              \u001b[33m│\u001b[0m \u001b[31m│\u001b[0m\n",
            "\u001b[31m│\u001b[0m \u001b[33m│\u001b[0m                             \u001b[94m0x13bf53abdb90\u001b[0m\u001b[39m \u001b[0m\u001b[1;39m[\u001b[0m\u001b[39munset\u001b[0m\u001b[1;39m]\u001b[0m\u001b[1m>\u001b[0m                      \u001b[33m│\u001b[0m \u001b[31m│\u001b[0m\n",
            "\u001b[31m│\u001b[0m \u001b[33m│\u001b[0m                     agent = \u001b[1m<\u001b[0m\u001b[1;95mhuggingface_hub.inference._mcp.agent.Agent\u001b[0m\u001b[39m \u001b[0m \u001b[33m│\u001b[0m \u001b[31m│\u001b[0m\n",
            "\u001b[31m│\u001b[0m \u001b[33m│\u001b[0m                             \u001b[39mobject at \u001b[0m\u001b[94m0x13bf52bd5d90\u001b[0m\u001b[1m>\u001b[0m                    \u001b[33m│\u001b[0m \u001b[31m│\u001b[0m\n",
            "\u001b[31m│\u001b[0m \u001b[33m│\u001b[0m                agent_path = \u001b[33m'./my-agent'\u001b[0m                                 \u001b[33m│\u001b[0m \u001b[31m│\u001b[0m\n",
            "\u001b[31m│\u001b[0m \u001b[33m│\u001b[0m                    config = \u001b[1m{\u001b[0m                                            \u001b[33m│\u001b[0m \u001b[31m│\u001b[0m\n",
            "\u001b[31m│\u001b[0m \u001b[33m│\u001b[0m                             \u001b[2m│   \u001b[0m\u001b[33m'model'\u001b[0m: \u001b[33m'llama2:latest'\u001b[0m,                \u001b[33m│\u001b[0m \u001b[31m│\u001b[0m\n",
            "\u001b[31m│\u001b[0m \u001b[33m│\u001b[0m                             \u001b[2m│   \u001b[0m\u001b[33m'endpointUrl'\u001b[0m: \u001b[33m'http://localhost:11434'\u001b[0m, \u001b[33m│\u001b[0m \u001b[31m│\u001b[0m\n",
            "\u001b[31m│\u001b[0m \u001b[33m│\u001b[0m                             \u001b[2m│   \u001b[0m\u001b[33m'servers'\u001b[0m: \u001b[1m[\u001b[0m                             \u001b[33m│\u001b[0m \u001b[31m│\u001b[0m\n",
            "\u001b[31m│\u001b[0m \u001b[33m│\u001b[0m                             \u001b[2m│   │   \u001b[0m\u001b[1m{\u001b[0m                                    \u001b[33m│\u001b[0m \u001b[31m│\u001b[0m\n",
            "\u001b[31m│\u001b[0m \u001b[33m│\u001b[0m                             \u001b[2m│   │   │   \u001b[0m\u001b[33m'type'\u001b[0m: \u001b[33m'http'\u001b[0m,                  \u001b[33m│\u001b[0m \u001b[31m│\u001b[0m\n",
            "\u001b[31m│\u001b[0m \u001b[33m│\u001b[0m                             \u001b[2m│   │   │   \u001b[0m\u001b[33m'config'\u001b[0m: \u001b[1m{\u001b[0m                      \u001b[33m│\u001b[0m \u001b[31m│\u001b[0m\n",
            "\u001b[31m│\u001b[0m \u001b[33m│\u001b[0m                             \u001b[2m│   │   │   │   \u001b[0m\u001b[33m'url'\u001b[0m:                       \u001b[33m│\u001b[0m \u001b[31m│\u001b[0m\n",
            "\u001b[31m│\u001b[0m \u001b[33m│\u001b[0m                             \u001b[33m'https://evalstate-hf-mcp-server.hf.space/m…\u001b[0m \u001b[33m│\u001b[0m \u001b[31m│\u001b[0m\n",
            "\u001b[31m│\u001b[0m \u001b[33m│\u001b[0m                             \u001b[2m│   │   │   \u001b[0m\u001b[1m}\u001b[0m                                \u001b[33m│\u001b[0m \u001b[31m│\u001b[0m\n",
            "\u001b[31m│\u001b[0m \u001b[33m│\u001b[0m                             \u001b[2m│   │   \u001b[0m\u001b[1m}\u001b[0m                                    \u001b[33m│\u001b[0m \u001b[31m│\u001b[0m\n",
            "\u001b[31m│\u001b[0m \u001b[33m│\u001b[0m                             \u001b[2m│   \u001b[0m\u001b[1m]\u001b[0m                                        \u001b[33m│\u001b[0m \u001b[31m│\u001b[0m\n",
            "\u001b[31m│\u001b[0m \u001b[33m│\u001b[0m                             \u001b[1m}\u001b[0m                                            \u001b[33m│\u001b[0m \u001b[31m│\u001b[0m\n",
            "\u001b[31m│\u001b[0m \u001b[33m│\u001b[0m                exit_event = \u001b[1m<\u001b[0m\u001b[1;95masyncio.locks.Event\u001b[0m\u001b[39m object at \u001b[0m              \u001b[33m│\u001b[0m \u001b[31m│\u001b[0m\n",
            "\u001b[31m│\u001b[0m \u001b[33m│\u001b[0m                             \u001b[94m0x13bf52bd5f10\u001b[0m\u001b[39m \u001b[0m\u001b[1;39m[\u001b[0m\u001b[39munset\u001b[0m\u001b[1;39m]\u001b[0m\u001b[1m>\u001b[0m                      \u001b[33m│\u001b[0m \u001b[31m│\u001b[0m\n",
            "\u001b[31m│\u001b[0m \u001b[33m│\u001b[0m              first_sigint = \u001b[94mTrue\u001b[0m                                         \u001b[33m│\u001b[0m \u001b[31m│\u001b[0m\n",
            "\u001b[31m│\u001b[0m \u001b[33m│\u001b[0m                    inputs = \u001b[1m[\u001b[0m\u001b[1m]\u001b[0m                                           \u001b[33m│\u001b[0m \u001b[31m│\u001b[0m\n",
            "\u001b[31m│\u001b[0m \u001b[33m│\u001b[0m                      loop = \u001b[1m<\u001b[0m\u001b[1;95m_UnixSelectorEventLoop\u001b[0m\u001b[39m \u001b[0m\u001b[33mrunning\u001b[0m\u001b[39m=\u001b[0m\u001b[94mFalse\u001b[0m\u001b[39m \u001b[0m       \u001b[33m│\u001b[0m \u001b[31m│\u001b[0m\n",
            "\u001b[31m│\u001b[0m \u001b[33m│\u001b[0m                             \u001b[33mclosed\u001b[0m\u001b[39m=\u001b[0m\u001b[94mTrue\u001b[0m\u001b[39m \u001b[0m\u001b[33mdebug\u001b[0m\u001b[39m=\u001b[0m\u001b[94mFalse\u001b[0m\u001b[1m>\u001b[0m                     \u001b[33m│\u001b[0m \u001b[31m│\u001b[0m\n",
            "\u001b[31m│\u001b[0m \u001b[33m│\u001b[0m   original_sigint_handler = \u001b[1;35mfunctools.partial\u001b[0m\u001b[1m(\u001b[0m\u001b[1m<\u001b[0m\u001b[1;95mbound\u001b[0m\u001b[39m method \u001b[0m             \u001b[33m│\u001b[0m \u001b[31m│\u001b[0m\n",
            "\u001b[31m│\u001b[0m \u001b[33m│\u001b[0m                             \u001b[39mRunner._on_sigint of <asyncio.runners.Runner\u001b[0m \u001b[33m│\u001b[0m \u001b[31m│\u001b[0m\n",
            "\u001b[31m│\u001b[0m \u001b[33m│\u001b[0m                             \u001b[39mobject at \u001b[0m\u001b[94m0x13bf52bd4cd0\u001b[0m\u001b[39m>>, \u001b[0m\u001b[33mmain_task\u001b[0m\u001b[39m=<Task \u001b[0m \u001b[33m│\u001b[0m \u001b[31m│\u001b[0m\n",
            "\u001b[31m│\u001b[0m \u001b[33m│\u001b[0m                             \u001b[39mfinished \u001b[0m\u001b[33mname\u001b[0m\u001b[39m=\u001b[0m\u001b[33m'Task-1'\u001b[0m\u001b[39m \u001b[0m\u001b[33mcoro\u001b[0m\u001b[39m=<\u001b[0m\u001b[1;35mrun_agent\u001b[0m\u001b[1;39m(\u001b[0m\u001b[1;39m)\u001b[0m\u001b[39m \u001b[0m    \u001b[33m│\u001b[0m \u001b[31m│\u001b[0m\n",
            "\u001b[31m│\u001b[0m \u001b[33m│\u001b[0m                             \u001b[39mdone, defined at \u001b[0m                            \u001b[33m│\u001b[0m \u001b[31m│\u001b[0m\n",
            "\u001b[31m│\u001b[0m \u001b[33m│\u001b[0m                             \u001b[35m/usr/local/lib/python3.11/dist-packages/hug…\u001b[0m \u001b[33m│\u001b[0m \u001b[31m│\u001b[0m\n",
            "\u001b[31m│\u001b[0m \u001b[33m│\u001b[0m                             \u001b[33mexception\u001b[0m\u001b[39m=\u001b[0m\u001b[1;35mKeyError\u001b[0m\u001b[1;39m(\u001b[0m\u001b[33m'url'\u001b[0m\u001b[1;39m)\u001b[0m\u001b[1m>\u001b[0m\u001b[1m)\u001b[0m                  \u001b[33m│\u001b[0m \u001b[31m│\u001b[0m\n",
            "\u001b[31m│\u001b[0m \u001b[33m│\u001b[0m                    prompt = \u001b[94mNone\u001b[0m                                         \u001b[33m│\u001b[0m \u001b[31m│\u001b[0m\n",
            "\u001b[31m│\u001b[0m \u001b[33m│\u001b[0m               raw_api_key = \u001b[94mNone\u001b[0m                                         \u001b[33m│\u001b[0m \u001b[31m│\u001b[0m\n",
            "\u001b[31m│\u001b[0m \u001b[33m│\u001b[0m           resolved_inputs = \u001b[1m{\u001b[0m\u001b[1m}\u001b[0m                                           \u001b[33m│\u001b[0m \u001b[31m│\u001b[0m\n",
            "\u001b[31m│\u001b[0m \u001b[33m│\u001b[0m                   servers = \u001b[1m[\u001b[0m                                            \u001b[33m│\u001b[0m \u001b[31m│\u001b[0m\n",
            "\u001b[31m│\u001b[0m \u001b[33m│\u001b[0m                             \u001b[2m│   \u001b[0m\u001b[1m{\u001b[0m                                        \u001b[33m│\u001b[0m \u001b[31m│\u001b[0m\n",
            "\u001b[31m│\u001b[0m \u001b[33m│\u001b[0m                             \u001b[2m│   │   \u001b[0m\u001b[33m'type'\u001b[0m: \u001b[33m'http'\u001b[0m,                      \u001b[33m│\u001b[0m \u001b[31m│\u001b[0m\n",
            "\u001b[31m│\u001b[0m \u001b[33m│\u001b[0m                             \u001b[2m│   │   \u001b[0m\u001b[33m'config'\u001b[0m: \u001b[1m{\u001b[0m                          \u001b[33m│\u001b[0m \u001b[31m│\u001b[0m\n",
            "\u001b[31m│\u001b[0m \u001b[33m│\u001b[0m                             \u001b[2m│   │   │   \u001b[0m\u001b[33m'url'\u001b[0m:                           \u001b[33m│\u001b[0m \u001b[31m│\u001b[0m\n",
            "\u001b[31m│\u001b[0m \u001b[33m│\u001b[0m                             \u001b[33m'https://evalstate-hf-mcp-server.hf.space/m…\u001b[0m \u001b[33m│\u001b[0m \u001b[31m│\u001b[0m\n",
            "\u001b[31m│\u001b[0m \u001b[33m│\u001b[0m                             \u001b[2m│   │   \u001b[0m\u001b[1m}\u001b[0m                                    \u001b[33m│\u001b[0m \u001b[31m│\u001b[0m\n",
            "\u001b[31m│\u001b[0m \u001b[33m│\u001b[0m                             \u001b[2m│   \u001b[0m\u001b[1m}\u001b[0m                                        \u001b[33m│\u001b[0m \u001b[31m│\u001b[0m\n",
            "\u001b[31m│\u001b[0m \u001b[33m│\u001b[0m                             \u001b[1m]\u001b[0m                                            \u001b[33m│\u001b[0m \u001b[31m│\u001b[0m\n",
            "\u001b[31m│\u001b[0m \u001b[33m│\u001b[0m sigint_registered_in_loop = \u001b[94mTrue\u001b[0m                                         \u001b[33m│\u001b[0m \u001b[31m│\u001b[0m\n",
            "\u001b[31m│\u001b[0m \u001b[33m│\u001b[0m                    tb_str = \u001b[33m'Traceback \u001b[0m\u001b[1;33m(\u001b[0m\u001b[33mmost recent call last\u001b[0m\u001b[1;33m)\u001b[0m\u001b[33m:\\n  File \u001b[0m \u001b[33m│\u001b[0m \u001b[31m│\u001b[0m\n",
            "\u001b[31m│\u001b[0m \u001b[33m│\u001b[0m                             \u001b[33m\"/usr/local/lib/python3.11/dist-packag'\u001b[0m+\u001b[94m541\u001b[0m  \u001b[33m│\u001b[0m \u001b[31m│\u001b[0m\n",
            "\u001b[31m│\u001b[0m \u001b[33m╰──────────────────────────────────────────────────────────────────────────╯\u001b[0m \u001b[31m│\u001b[0m\n",
            "\u001b[31m│\u001b[0m                                                                              \u001b[31m│\u001b[0m\n",
            "\u001b[31m│\u001b[0m \u001b[2;33m/usr/local/lib/python3.11/dist-packages/huggingface_hub/inference/_mcp/\u001b[0m\u001b[1;33mcli.p\u001b[0m \u001b[31m│\u001b[0m\n",
            "\u001b[31m│\u001b[0m \u001b[1;33my\u001b[0m:\u001b[94m152\u001b[0m in \u001b[92mrun_agent\u001b[0m                                                           \u001b[31m│\u001b[0m\n",
            "\u001b[31m│\u001b[0m                                                                              \u001b[31m│\u001b[0m\n",
            "\u001b[31m│\u001b[0m   \u001b[2m149 \u001b[0m\u001b[2m│   │   │   \u001b[0mservers=servers,  \u001b[2m# type: ignore[arg-type]\u001b[0m                 \u001b[31m│\u001b[0m\n",
            "\u001b[31m│\u001b[0m   \u001b[2m150 \u001b[0m\u001b[2m│   │   │   \u001b[0mprompt=prompt,                                             \u001b[31m│\u001b[0m\n",
            "\u001b[31m│\u001b[0m   \u001b[2m151 \u001b[0m\u001b[2m│   │   \u001b[0m) \u001b[94mas\u001b[0m agent:                                                    \u001b[31m│\u001b[0m\n",
            "\u001b[31m│\u001b[0m \u001b[31m❱ \u001b[0m152 \u001b[2m│   │   │   \u001b[0m\u001b[94mawait\u001b[0m agent.load_tools()                                   \u001b[31m│\u001b[0m\n",
            "\u001b[31m│\u001b[0m   \u001b[2m153 \u001b[0m\u001b[2m│   │   │   \u001b[0m\u001b[96mprint\u001b[0m(\u001b[33mf\u001b[0m\u001b[33m\"\u001b[0m\u001b[33m[bold blue]Agent loaded with \u001b[0m\u001b[33m{\u001b[0m\u001b[96mlen\u001b[0m(agent.available_ \u001b[31m│\u001b[0m\n",
            "\u001b[31m│\u001b[0m   \u001b[2m154 \u001b[0m\u001b[2m│   │   │   \u001b[0m\u001b[94mfor\u001b[0m t \u001b[95min\u001b[0m agent.available_tools:                            \u001b[31m│\u001b[0m\n",
            "\u001b[31m│\u001b[0m   \u001b[2m155 \u001b[0m\u001b[2m│   │   │   │   \u001b[0m\u001b[96mprint\u001b[0m(\u001b[33mf\u001b[0m\u001b[33m\"\u001b[0m\u001b[33m[blue] • \u001b[0m\u001b[33m{\u001b[0mt.function.name\u001b[33m}\u001b[0m\u001b[33m[/blue]\u001b[0m\u001b[33m\"\u001b[0m)            \u001b[31m│\u001b[0m\n",
            "\u001b[31m│\u001b[0m                                                                              \u001b[31m│\u001b[0m\n",
            "\u001b[31m│\u001b[0m \u001b[33m╭─\u001b[0m\u001b[33m────────────────────────────────\u001b[0m\u001b[33m locals \u001b[0m\u001b[33m────────────────────────────────\u001b[0m\u001b[33m─╮\u001b[0m \u001b[31m│\u001b[0m\n",
            "\u001b[31m│\u001b[0m \u001b[33m│\u001b[0m               abort_event = \u001b[1m<\u001b[0m\u001b[1;95masyncio.locks.Event\u001b[0m\u001b[39m object at \u001b[0m              \u001b[33m│\u001b[0m \u001b[31m│\u001b[0m\n",
            "\u001b[31m│\u001b[0m \u001b[33m│\u001b[0m                             \u001b[94m0x13bf53abdb90\u001b[0m\u001b[39m \u001b[0m\u001b[1;39m[\u001b[0m\u001b[39munset\u001b[0m\u001b[1;39m]\u001b[0m\u001b[1m>\u001b[0m                      \u001b[33m│\u001b[0m \u001b[31m│\u001b[0m\n",
            "\u001b[31m│\u001b[0m \u001b[33m│\u001b[0m                     agent = \u001b[1m<\u001b[0m\u001b[1;95mhuggingface_hub.inference._mcp.agent.Agent\u001b[0m\u001b[39m \u001b[0m \u001b[33m│\u001b[0m \u001b[31m│\u001b[0m\n",
            "\u001b[31m│\u001b[0m \u001b[33m│\u001b[0m                             \u001b[39mobject at \u001b[0m\u001b[94m0x13bf52bd5d90\u001b[0m\u001b[1m>\u001b[0m                    \u001b[33m│\u001b[0m \u001b[31m│\u001b[0m\n",
            "\u001b[31m│\u001b[0m \u001b[33m│\u001b[0m                agent_path = \u001b[33m'./my-agent'\u001b[0m                                 \u001b[33m│\u001b[0m \u001b[31m│\u001b[0m\n",
            "\u001b[31m│\u001b[0m \u001b[33m│\u001b[0m                    config = \u001b[1m{\u001b[0m                                            \u001b[33m│\u001b[0m \u001b[31m│\u001b[0m\n",
            "\u001b[31m│\u001b[0m \u001b[33m│\u001b[0m                             \u001b[2m│   \u001b[0m\u001b[33m'model'\u001b[0m: \u001b[33m'llama2:latest'\u001b[0m,                \u001b[33m│\u001b[0m \u001b[31m│\u001b[0m\n",
            "\u001b[31m│\u001b[0m \u001b[33m│\u001b[0m                             \u001b[2m│   \u001b[0m\u001b[33m'endpointUrl'\u001b[0m: \u001b[33m'http://localhost:11434'\u001b[0m, \u001b[33m│\u001b[0m \u001b[31m│\u001b[0m\n",
            "\u001b[31m│\u001b[0m \u001b[33m│\u001b[0m                             \u001b[2m│   \u001b[0m\u001b[33m'servers'\u001b[0m: \u001b[1m[\u001b[0m                             \u001b[33m│\u001b[0m \u001b[31m│\u001b[0m\n",
            "\u001b[31m│\u001b[0m \u001b[33m│\u001b[0m                             \u001b[2m│   │   \u001b[0m\u001b[1m{\u001b[0m                                    \u001b[33m│\u001b[0m \u001b[31m│\u001b[0m\n",
            "\u001b[31m│\u001b[0m \u001b[33m│\u001b[0m                             \u001b[2m│   │   │   \u001b[0m\u001b[33m'type'\u001b[0m: \u001b[33m'http'\u001b[0m,                  \u001b[33m│\u001b[0m \u001b[31m│\u001b[0m\n",
            "\u001b[31m│\u001b[0m \u001b[33m│\u001b[0m                             \u001b[2m│   │   │   \u001b[0m\u001b[33m'config'\u001b[0m: \u001b[1m{\u001b[0m                      \u001b[33m│\u001b[0m \u001b[31m│\u001b[0m\n",
            "\u001b[31m│\u001b[0m \u001b[33m│\u001b[0m                             \u001b[2m│   │   │   │   \u001b[0m\u001b[33m'url'\u001b[0m:                       \u001b[33m│\u001b[0m \u001b[31m│\u001b[0m\n",
            "\u001b[31m│\u001b[0m \u001b[33m│\u001b[0m                             \u001b[33m'https://evalstate-hf-mcp-server.hf.space/m…\u001b[0m \u001b[33m│\u001b[0m \u001b[31m│\u001b[0m\n",
            "\u001b[31m│\u001b[0m \u001b[33m│\u001b[0m                             \u001b[2m│   │   │   \u001b[0m\u001b[1m}\u001b[0m                                \u001b[33m│\u001b[0m \u001b[31m│\u001b[0m\n",
            "\u001b[31m│\u001b[0m \u001b[33m│\u001b[0m                             \u001b[2m│   │   \u001b[0m\u001b[1m}\u001b[0m                                    \u001b[33m│\u001b[0m \u001b[31m│\u001b[0m\n",
            "\u001b[31m│\u001b[0m \u001b[33m│\u001b[0m                             \u001b[2m│   \u001b[0m\u001b[1m]\u001b[0m                                        \u001b[33m│\u001b[0m \u001b[31m│\u001b[0m\n",
            "\u001b[31m│\u001b[0m \u001b[33m│\u001b[0m                             \u001b[1m}\u001b[0m                                            \u001b[33m│\u001b[0m \u001b[31m│\u001b[0m\n",
            "\u001b[31m│\u001b[0m \u001b[33m│\u001b[0m                exit_event = \u001b[1m<\u001b[0m\u001b[1;95masyncio.locks.Event\u001b[0m\u001b[39m object at \u001b[0m              \u001b[33m│\u001b[0m \u001b[31m│\u001b[0m\n",
            "\u001b[31m│\u001b[0m \u001b[33m│\u001b[0m                             \u001b[94m0x13bf52bd5f10\u001b[0m\u001b[39m \u001b[0m\u001b[1;39m[\u001b[0m\u001b[39munset\u001b[0m\u001b[1;39m]\u001b[0m\u001b[1m>\u001b[0m                      \u001b[33m│\u001b[0m \u001b[31m│\u001b[0m\n",
            "\u001b[31m│\u001b[0m \u001b[33m│\u001b[0m              first_sigint = \u001b[94mTrue\u001b[0m                                         \u001b[33m│\u001b[0m \u001b[31m│\u001b[0m\n",
            "\u001b[31m│\u001b[0m \u001b[33m│\u001b[0m                    inputs = \u001b[1m[\u001b[0m\u001b[1m]\u001b[0m                                           \u001b[33m│\u001b[0m \u001b[31m│\u001b[0m\n",
            "\u001b[31m│\u001b[0m \u001b[33m│\u001b[0m                      loop = \u001b[1m<\u001b[0m\u001b[1;95m_UnixSelectorEventLoop\u001b[0m\u001b[39m \u001b[0m\u001b[33mrunning\u001b[0m\u001b[39m=\u001b[0m\u001b[94mFalse\u001b[0m\u001b[39m \u001b[0m       \u001b[33m│\u001b[0m \u001b[31m│\u001b[0m\n",
            "\u001b[31m│\u001b[0m \u001b[33m│\u001b[0m                             \u001b[33mclosed\u001b[0m\u001b[39m=\u001b[0m\u001b[94mTrue\u001b[0m\u001b[39m \u001b[0m\u001b[33mdebug\u001b[0m\u001b[39m=\u001b[0m\u001b[94mFalse\u001b[0m\u001b[1m>\u001b[0m                     \u001b[33m│\u001b[0m \u001b[31m│\u001b[0m\n",
            "\u001b[31m│\u001b[0m \u001b[33m│\u001b[0m   original_sigint_handler = \u001b[1;35mfunctools.partial\u001b[0m\u001b[1m(\u001b[0m\u001b[1m<\u001b[0m\u001b[1;95mbound\u001b[0m\u001b[39m method \u001b[0m             \u001b[33m│\u001b[0m \u001b[31m│\u001b[0m\n",
            "\u001b[31m│\u001b[0m \u001b[33m│\u001b[0m                             \u001b[39mRunner._on_sigint of <asyncio.runners.Runner\u001b[0m \u001b[33m│\u001b[0m \u001b[31m│\u001b[0m\n",
            "\u001b[31m│\u001b[0m \u001b[33m│\u001b[0m                             \u001b[39mobject at \u001b[0m\u001b[94m0x13bf52bd4cd0\u001b[0m\u001b[39m>>, \u001b[0m\u001b[33mmain_task\u001b[0m\u001b[39m=<Task \u001b[0m \u001b[33m│\u001b[0m \u001b[31m│\u001b[0m\n",
            "\u001b[31m│\u001b[0m \u001b[33m│\u001b[0m                             \u001b[39mfinished \u001b[0m\u001b[33mname\u001b[0m\u001b[39m=\u001b[0m\u001b[33m'Task-1'\u001b[0m\u001b[39m \u001b[0m\u001b[33mcoro\u001b[0m\u001b[39m=<\u001b[0m\u001b[1;35mrun_agent\u001b[0m\u001b[1;39m(\u001b[0m\u001b[1;39m)\u001b[0m\u001b[39m \u001b[0m    \u001b[33m│\u001b[0m \u001b[31m│\u001b[0m\n",
            "\u001b[31m│\u001b[0m \u001b[33m│\u001b[0m                             \u001b[39mdone, defined at \u001b[0m                            \u001b[33m│\u001b[0m \u001b[31m│\u001b[0m\n",
            "\u001b[31m│\u001b[0m \u001b[33m│\u001b[0m                             \u001b[35m/usr/local/lib/python3.11/dist-packages/hug…\u001b[0m \u001b[33m│\u001b[0m \u001b[31m│\u001b[0m\n",
            "\u001b[31m│\u001b[0m \u001b[33m│\u001b[0m                             \u001b[33mexception\u001b[0m\u001b[39m=\u001b[0m\u001b[1;35mKeyError\u001b[0m\u001b[1;39m(\u001b[0m\u001b[33m'url'\u001b[0m\u001b[1;39m)\u001b[0m\u001b[1m>\u001b[0m\u001b[1m)\u001b[0m                  \u001b[33m│\u001b[0m \u001b[31m│\u001b[0m\n",
            "\u001b[31m│\u001b[0m \u001b[33m│\u001b[0m                    prompt = \u001b[94mNone\u001b[0m                                         \u001b[33m│\u001b[0m \u001b[31m│\u001b[0m\n",
            "\u001b[31m│\u001b[0m \u001b[33m│\u001b[0m               raw_api_key = \u001b[94mNone\u001b[0m                                         \u001b[33m│\u001b[0m \u001b[31m│\u001b[0m\n",
            "\u001b[31m│\u001b[0m \u001b[33m│\u001b[0m           resolved_inputs = \u001b[1m{\u001b[0m\u001b[1m}\u001b[0m                                           \u001b[33m│\u001b[0m \u001b[31m│\u001b[0m\n",
            "\u001b[31m│\u001b[0m \u001b[33m│\u001b[0m                   servers = \u001b[1m[\u001b[0m                                            \u001b[33m│\u001b[0m \u001b[31m│\u001b[0m\n",
            "\u001b[31m│\u001b[0m \u001b[33m│\u001b[0m                             \u001b[2m│   \u001b[0m\u001b[1m{\u001b[0m                                        \u001b[33m│\u001b[0m \u001b[31m│\u001b[0m\n",
            "\u001b[31m│\u001b[0m \u001b[33m│\u001b[0m                             \u001b[2m│   │   \u001b[0m\u001b[33m'type'\u001b[0m: \u001b[33m'http'\u001b[0m,                      \u001b[33m│\u001b[0m \u001b[31m│\u001b[0m\n",
            "\u001b[31m│\u001b[0m \u001b[33m│\u001b[0m                             \u001b[2m│   │   \u001b[0m\u001b[33m'config'\u001b[0m: \u001b[1m{\u001b[0m                          \u001b[33m│\u001b[0m \u001b[31m│\u001b[0m\n",
            "\u001b[31m│\u001b[0m \u001b[33m│\u001b[0m                             \u001b[2m│   │   │   \u001b[0m\u001b[33m'url'\u001b[0m:                           \u001b[33m│\u001b[0m \u001b[31m│\u001b[0m\n",
            "\u001b[31m│\u001b[0m \u001b[33m│\u001b[0m                             \u001b[33m'https://evalstate-hf-mcp-server.hf.space/m…\u001b[0m \u001b[33m│\u001b[0m \u001b[31m│\u001b[0m\n",
            "\u001b[31m│\u001b[0m \u001b[33m│\u001b[0m                             \u001b[2m│   │   \u001b[0m\u001b[1m}\u001b[0m                                    \u001b[33m│\u001b[0m \u001b[31m│\u001b[0m\n",
            "\u001b[31m│\u001b[0m \u001b[33m│\u001b[0m                             \u001b[2m│   \u001b[0m\u001b[1m}\u001b[0m                                        \u001b[33m│\u001b[0m \u001b[31m│\u001b[0m\n",
            "\u001b[31m│\u001b[0m \u001b[33m│\u001b[0m                             \u001b[1m]\u001b[0m                                            \u001b[33m│\u001b[0m \u001b[31m│\u001b[0m\n",
            "\u001b[31m│\u001b[0m \u001b[33m│\u001b[0m sigint_registered_in_loop = \u001b[94mTrue\u001b[0m                                         \u001b[33m│\u001b[0m \u001b[31m│\u001b[0m\n",
            "\u001b[31m│\u001b[0m \u001b[33m│\u001b[0m                    tb_str = \u001b[33m'Traceback \u001b[0m\u001b[1;33m(\u001b[0m\u001b[33mmost recent call last\u001b[0m\u001b[1;33m)\u001b[0m\u001b[33m:\\n  File \u001b[0m \u001b[33m│\u001b[0m \u001b[31m│\u001b[0m\n",
            "\u001b[31m│\u001b[0m \u001b[33m│\u001b[0m                             \u001b[33m\"/usr/local/lib/python3.11/dist-packag'\u001b[0m+\u001b[94m541\u001b[0m  \u001b[33m│\u001b[0m \u001b[31m│\u001b[0m\n",
            "\u001b[31m│\u001b[0m \u001b[33m╰──────────────────────────────────────────────────────────────────────────╯\u001b[0m \u001b[31m│\u001b[0m\n",
            "\u001b[31m│\u001b[0m                                                                              \u001b[31m│\u001b[0m\n",
            "\u001b[31m│\u001b[0m \u001b[2;33m/usr/local/lib/python3.11/dist-packages/huggingface_hub/inference/_mcp/\u001b[0m\u001b[1;33magent\u001b[0m \u001b[31m│\u001b[0m\n",
            "\u001b[31m│\u001b[0m \u001b[1;33m.py\u001b[0m:\u001b[94m58\u001b[0m in \u001b[92mload_tools\u001b[0m                                                         \u001b[31m│\u001b[0m\n",
            "\u001b[31m│\u001b[0m                                                                              \u001b[31m│\u001b[0m\n",
            "\u001b[31m│\u001b[0m   \u001b[2m 55 \u001b[0m\u001b[2m│   \u001b[0m                                                                   \u001b[31m│\u001b[0m\n",
            "\u001b[31m│\u001b[0m   \u001b[2m 56 \u001b[0m\u001b[2m│   \u001b[0m\u001b[94masync\u001b[0m \u001b[94mdef\u001b[0m\u001b[90m \u001b[0m\u001b[92mload_tools\u001b[0m(\u001b[96mself\u001b[0m) -> \u001b[94mNone\u001b[0m:                                \u001b[31m│\u001b[0m\n",
            "\u001b[31m│\u001b[0m   \u001b[2m 57 \u001b[0m\u001b[2m│   │   \u001b[0m\u001b[94mfor\u001b[0m cfg \u001b[95min\u001b[0m \u001b[96mself\u001b[0m._servers_cfg:                                  \u001b[31m│\u001b[0m\n",
            "\u001b[31m│\u001b[0m \u001b[31m❱ \u001b[0m 58 \u001b[2m│   │   │   \u001b[0m\u001b[1;4;94mawait\u001b[0m\u001b[1;4m \u001b[0m\u001b[1;4;96mself\u001b[0m\u001b[1;4m.add_mcp_server(**cfg)\u001b[0m                           \u001b[31m│\u001b[0m\n",
            "\u001b[31m│\u001b[0m   \u001b[2m 59 \u001b[0m\u001b[2m│   \u001b[0m                                                                   \u001b[31m│\u001b[0m\n",
            "\u001b[31m│\u001b[0m   \u001b[2m 60 \u001b[0m\u001b[2m│   \u001b[0m\u001b[94masync\u001b[0m \u001b[94mdef\u001b[0m\u001b[90m \u001b[0m\u001b[92mrun\u001b[0m(                                                     \u001b[31m│\u001b[0m\n",
            "\u001b[31m│\u001b[0m   \u001b[2m 61 \u001b[0m\u001b[2m│   │   \u001b[0m\u001b[96mself\u001b[0m,                                                          \u001b[31m│\u001b[0m\n",
            "\u001b[31m│\u001b[0m                                                                              \u001b[31m│\u001b[0m\n",
            "\u001b[31m│\u001b[0m \u001b[33m╭─\u001b[0m\u001b[33m────────────────────────────────\u001b[0m\u001b[33m locals \u001b[0m\u001b[33m────────────────────────────────\u001b[0m\u001b[33m─╮\u001b[0m \u001b[31m│\u001b[0m\n",
            "\u001b[31m│\u001b[0m \u001b[33m│\u001b[0m  cfg = \u001b[1m{\u001b[0m                                                                 \u001b[33m│\u001b[0m \u001b[31m│\u001b[0m\n",
            "\u001b[31m│\u001b[0m \u001b[33m│\u001b[0m        \u001b[2m│   \u001b[0m\u001b[33m'type'\u001b[0m: \u001b[33m'http'\u001b[0m,                                               \u001b[33m│\u001b[0m \u001b[31m│\u001b[0m\n",
            "\u001b[31m│\u001b[0m \u001b[33m│\u001b[0m        \u001b[2m│   \u001b[0m\u001b[33m'config'\u001b[0m: \u001b[1m{\u001b[0m                                                   \u001b[33m│\u001b[0m \u001b[31m│\u001b[0m\n",
            "\u001b[31m│\u001b[0m \u001b[33m│\u001b[0m        \u001b[2m│   │   \u001b[0m\u001b[33m'url'\u001b[0m: \u001b[33m'https://evalstate-hf-mcp-server.hf.space/mcp'\u001b[0m     \u001b[33m│\u001b[0m \u001b[31m│\u001b[0m\n",
            "\u001b[31m│\u001b[0m \u001b[33m│\u001b[0m        \u001b[2m│   \u001b[0m\u001b[1m}\u001b[0m                                                             \u001b[33m│\u001b[0m \u001b[31m│\u001b[0m\n",
            "\u001b[31m│\u001b[0m \u001b[33m│\u001b[0m        \u001b[1m}\u001b[0m                                                                 \u001b[33m│\u001b[0m \u001b[31m│\u001b[0m\n",
            "\u001b[31m│\u001b[0m \u001b[33m│\u001b[0m self = \u001b[1m<\u001b[0m\u001b[1;95mhuggingface_hub.inference._mcp.agent.Agent\u001b[0m\u001b[39m object at \u001b[0m            \u001b[33m│\u001b[0m \u001b[31m│\u001b[0m\n",
            "\u001b[31m│\u001b[0m \u001b[33m│\u001b[0m        \u001b[94m0x13bf52bd5d90\u001b[0m\u001b[1m>\u001b[0m                                                   \u001b[33m│\u001b[0m \u001b[31m│\u001b[0m\n",
            "\u001b[31m│\u001b[0m \u001b[33m╰──────────────────────────────────────────────────────────────────────────╯\u001b[0m \u001b[31m│\u001b[0m\n",
            "\u001b[31m│\u001b[0m                                                                              \u001b[31m│\u001b[0m\n",
            "\u001b[31m│\u001b[0m \u001b[2;33m/usr/local/lib/python3.11/dist-packages/huggingface_hub/inference/_mcp/\u001b[0m\u001b[1;33mmcp_c\u001b[0m \u001b[31m│\u001b[0m\n",
            "\u001b[31m│\u001b[0m \u001b[1;33mlient.py\u001b[0m:\u001b[94m185\u001b[0m in \u001b[92madd_mcp_server\u001b[0m                                               \u001b[31m│\u001b[0m\n",
            "\u001b[31m│\u001b[0m                                                                              \u001b[31m│\u001b[0m\n",
            "\u001b[31m│\u001b[0m   \u001b[2m182 \u001b[0m\u001b[2m│   │   │   \u001b[0m\u001b[2m# Handle StreamableHTTP server\u001b[0m                             \u001b[31m│\u001b[0m\n",
            "\u001b[31m│\u001b[0m   \u001b[2m183 \u001b[0m\u001b[2m│   │   │   \u001b[0m\u001b[94mfrom\u001b[0m\u001b[90m \u001b[0m\u001b[4;96mmcp\u001b[0m\u001b[4;96m.\u001b[0m\u001b[4;96mclient\u001b[0m\u001b[4;96m.\u001b[0m\u001b[4;96mstreamable_http\u001b[0m\u001b[90m \u001b[0m\u001b[94mimport\u001b[0m streamablehttp_clie \u001b[31m│\u001b[0m\n",
            "\u001b[31m│\u001b[0m   \u001b[2m184 \u001b[0m\u001b[2m│   │   │   \u001b[0m                                                           \u001b[31m│\u001b[0m\n",
            "\u001b[31m│\u001b[0m \u001b[31m❱ \u001b[0m185 \u001b[2m│   │   │   \u001b[0mlogger.info(\u001b[33mf\u001b[0m\u001b[33m\"\u001b[0m\u001b[33mConnecting to StreamableHTTP MCP server at: \u001b[0m \u001b[31m│\u001b[0m\n",
            "\u001b[31m│\u001b[0m   \u001b[2m186 \u001b[0m\u001b[2m│   │   │   \u001b[0m                                                           \u001b[31m│\u001b[0m\n",
            "\u001b[31m│\u001b[0m   \u001b[2m187 \u001b[0m\u001b[2m│   │   │   \u001b[0mclient_kwargs = {\u001b[33m\"\u001b[0m\u001b[33murl\u001b[0m\u001b[33m\"\u001b[0m: params[\u001b[33m\"\u001b[0m\u001b[33murl\u001b[0m\u001b[33m\"\u001b[0m]}                     \u001b[31m│\u001b[0m\n",
            "\u001b[31m│\u001b[0m   \u001b[2m188 \u001b[0m\u001b[2m│   │   │   \u001b[0m\u001b[94mfor\u001b[0m key \u001b[95min\u001b[0m [\u001b[33m\"\u001b[0m\u001b[33mheaders\u001b[0m\u001b[33m\"\u001b[0m, \u001b[33m\"\u001b[0m\u001b[33mtimeout\u001b[0m\u001b[33m\"\u001b[0m, \u001b[33m\"\u001b[0m\u001b[33msse_read_timeout\u001b[0m\u001b[33m\"\u001b[0m, \u001b[33m\"\u001b[0m\u001b[33mter\u001b[0m \u001b[31m│\u001b[0m\n",
            "\u001b[31m│\u001b[0m                                                                              \u001b[31m│\u001b[0m\n",
            "\u001b[31m│\u001b[0m \u001b[33m╭─\u001b[0m\u001b[33m────────────────────────────────\u001b[0m\u001b[33m locals \u001b[0m\u001b[33m────────────────────────────────\u001b[0m\u001b[33m─╮\u001b[0m \u001b[31m│\u001b[0m\n",
            "\u001b[31m│\u001b[0m \u001b[33m│\u001b[0m mcp_types = \u001b[1m<\u001b[0m\u001b[1;95mmodule\u001b[0m\u001b[39m \u001b[0m\u001b[33m'mcp.types'\u001b[0m\u001b[39m from \u001b[0m                                    \u001b[33m│\u001b[0m \u001b[31m│\u001b[0m\n",
            "\u001b[31m│\u001b[0m \u001b[33m│\u001b[0m             \u001b[33m'/usr/local/lib/python3.11/dist-packages/mcp/types.py'\u001b[0m\u001b[1m>\u001b[0m      \u001b[33m│\u001b[0m \u001b[31m│\u001b[0m\n",
            "\u001b[31m│\u001b[0m \u001b[33m│\u001b[0m    params = \u001b[1m{\u001b[0m                                                            \u001b[33m│\u001b[0m \u001b[31m│\u001b[0m\n",
            "\u001b[31m│\u001b[0m \u001b[33m│\u001b[0m             \u001b[2m│   \u001b[0m\u001b[33m'config'\u001b[0m: \u001b[1m{\u001b[0m                                              \u001b[33m│\u001b[0m \u001b[31m│\u001b[0m\n",
            "\u001b[31m│\u001b[0m \u001b[33m│\u001b[0m             \u001b[2m│   │   \u001b[0m\u001b[33m'url'\u001b[0m:                                               \u001b[33m│\u001b[0m \u001b[31m│\u001b[0m\n",
            "\u001b[31m│\u001b[0m \u001b[33m│\u001b[0m             \u001b[33m'https://evalstate-hf-mcp-server.hf.space/mcp'\u001b[0m               \u001b[33m│\u001b[0m \u001b[31m│\u001b[0m\n",
            "\u001b[31m│\u001b[0m \u001b[33m│\u001b[0m             \u001b[2m│   \u001b[0m\u001b[1m}\u001b[0m                                                        \u001b[33m│\u001b[0m \u001b[31m│\u001b[0m\n",
            "\u001b[31m│\u001b[0m \u001b[33m│\u001b[0m             \u001b[1m}\u001b[0m                                                            \u001b[33m│\u001b[0m \u001b[31m│\u001b[0m\n",
            "\u001b[31m│\u001b[0m \u001b[33m│\u001b[0m      self = \u001b[1m<\u001b[0m\u001b[1;95mhuggingface_hub.inference._mcp.agent.Agent\u001b[0m\u001b[39m object at \u001b[0m       \u001b[33m│\u001b[0m \u001b[31m│\u001b[0m\n",
            "\u001b[31m│\u001b[0m \u001b[33m│\u001b[0m             \u001b[94m0x13bf52bd5d90\u001b[0m\u001b[1m>\u001b[0m                                              \u001b[33m│\u001b[0m \u001b[31m│\u001b[0m\n",
            "\u001b[31m│\u001b[0m \u001b[33m│\u001b[0m      type = \u001b[33m'http'\u001b[0m                                                       \u001b[33m│\u001b[0m \u001b[31m│\u001b[0m\n",
            "\u001b[31m│\u001b[0m \u001b[33m╰──────────────────────────────────────────────────────────────────────────╯\u001b[0m \u001b[31m│\u001b[0m\n",
            "\u001b[31m╰──────────────────────────────────────────────────────────────────────────────╯\u001b[0m\n",
            "\u001b[1;91mKeyError: \u001b[0m\u001b[32m'url'\u001b[0m\n"
          ]
        }
      ]
    },
    {
      "cell_type": "code",
      "source": [
        "!tiny-agents run ./my-agent --url \"https:evalstate-hf-mcp-server.hf.space/mcp\""
      ],
      "metadata": {
        "id": "yzrqZFToP4w8"
      },
      "execution_count": null,
      "outputs": []
    },
    {
      "cell_type": "code",
      "source": [
        "!tiny-agents run ./my-agent --url \"https://evalstate-hf-mcp-server.hf.space/mcp\""
      ],
      "metadata": {
        "colab": {
          "base_uri": "https://localhost:8080/"
        },
        "id": "OX-afw-eQucd",
        "outputId": "2d71e095-439a-4add-c6d1-22f4913111a9"
      },
      "execution_count": 10,
      "outputs": [
        {
          "output_type": "stream",
          "name": "stdout",
          "text": [
            "\u001b[33mUsage: \u001b[0mtiny-agents run [OPTIONS] [PATH] COMMAND [ARGS]...\n",
            "\u001b[2mTry \u001b[0m\u001b[2;34m'tiny-agents run \u001b[0m\u001b[1;2;34m-\u001b[0m\u001b[1;2;34m-help\u001b[0m\u001b[2;34m'\u001b[0m\u001b[2m for help.\u001b[0m\n",
            "\u001b[31m╭─\u001b[0m\u001b[31m Error \u001b[0m\u001b[31m─────────────────────────────────────────────────────────────────────\u001b[0m\u001b[31m─╮\u001b[0m\n",
            "\u001b[31m│\u001b[0m No such option: \u001b[1;36m-\u001b[0m\u001b[1;36m-url\u001b[0m                                                        \u001b[31m│\u001b[0m\n",
            "\u001b[31m╰──────────────────────────────────────────────────────────────────────────────╯\u001b[0m\n"
          ]
        }
      ]
    },
    {
      "cell_type": "code",
      "source": [
        "!tiny-agents run --help"
      ],
      "metadata": {
        "colab": {
          "base_uri": "https://localhost:8080/"
        },
        "id": "ZdQn5RTvQ2su",
        "outputId": "40996b1c-f4d8-4a79-d449-776044bc130f"
      },
      "execution_count": 11,
      "outputs": [
        {
          "output_type": "stream",
          "name": "stdout",
          "text": [
            "\u001b[1m                                                                                \u001b[0m\n",
            "\u001b[1m \u001b[0m\u001b[1;33mUsage: \u001b[0m\u001b[1mtiny-agents run [OPTIONS] [PATH] COMMAND [ARGS]...\u001b[0m\u001b[1m                     \u001b[0m\u001b[1m \u001b[0m\n",
            "\u001b[1m                                                                                \u001b[0m\n",
            " Run the Agent in the CLI                                                       \n",
            "                                                                                \n",
            "                                                                                \n",
            "\u001b[2m╭─\u001b[0m\u001b[2m Arguments \u001b[0m\u001b[2m─────────────────────────────────────────────────────────────────\u001b[0m\u001b[2m─╮\u001b[0m\n",
            "\u001b[2m│\u001b[0m   path      \u001b[1;2;33m[\u001b[0m\u001b[1;33mPATH\u001b[0m\u001b[1;2;33m]\u001b[0m  Path to a local folder containing an agent.json file or  \u001b[2m│\u001b[0m\n",
            "\u001b[2m│\u001b[0m                     a built-in agent stored in the 'tiny-agents/tiny-agents' \u001b[2m│\u001b[0m\n",
            "\u001b[2m│\u001b[0m                     Hugging Face dataset                                     \u001b[2m│\u001b[0m\n",
            "\u001b[2m│\u001b[0m                     (https://huggingface.co/datasets/tiny-agents/tiny-agent… \u001b[2m│\u001b[0m\n",
            "\u001b[2m╰──────────────────────────────────────────────────────────────────────────────╯\u001b[0m\n",
            "\u001b[2m╭─\u001b[0m\u001b[2m Options \u001b[0m\u001b[2m───────────────────────────────────────────────────────────────────\u001b[0m\u001b[2m─╮\u001b[0m\n",
            "\u001b[2m│\u001b[0m \u001b[1;36m-\u001b[0m\u001b[1;36m-help\u001b[0m          Show this message and exit.                                  \u001b[2m│\u001b[0m\n",
            "\u001b[2m╰──────────────────────────────────────────────────────────────────────────────╯\u001b[0m\n",
            "\n"
          ]
        }
      ]
    },
    {
      "cell_type": "code",
      "source": [
        "!tiny-agents run /content/tiny-agent-mcp/my-agent/agent.json"
      ],
      "metadata": {
        "colab": {
          "base_uri": "https://localhost:8080/"
        },
        "id": "tw0UEwUHQ3R8",
        "outputId": "43eaa162-fae1-4c03-cc56-b958216a1875"
      },
      "execution_count": 12,
      "outputs": [
        {
          "output_type": "stream",
          "name": "stdout",
          "text": [
            "\n",
            "\u001b[1;31mAn unexpected error occurred: \u001b[0m\u001b[1;31m'url'\u001b[0m\n",
            "\u001b[1;31mTraceback \u001b[0m\u001b[1;31m(\u001b[0m\u001b[1;31mmost recent call last\u001b[0m\u001b[1;31m)\u001b[0m\u001b[1;31m:\u001b[0m\n",
            "\u001b[1;31m  File \u001b[0m\n",
            "\u001b[1;31m\"/usr/local/lib/python3.11/dist-packages/huggingface_hub/inference/_mcp/cli.py\"\u001b[0m\u001b[1;31m,\u001b[0m\n",
            "\u001b[1;31mline \u001b[0m\u001b[1;31m152\u001b[0m\u001b[1;31m, in run_agent\u001b[0m\n",
            "\u001b[1;31m    await \u001b[0m\u001b[1;31magent.load_tools\u001b[0m\u001b[1;31m(\u001b[0m\u001b[1;31m)\u001b[0m\n",
            "\u001b[1;31m  File \u001b[0m\n",
            "\u001b[1;31m\"/usr/local/lib/python3.11/dist-packages/huggingface_hub/inference/_mcp/agent.py\u001b[0m\n",
            "\u001b[1;31m\"\u001b[0m\u001b[1;31m, line \u001b[0m\u001b[1;31m58\u001b[0m\u001b[1;31m, in load_tools\u001b[0m\n",
            "\u001b[1;31m    await \u001b[0m\u001b[1;31mself.add_mcp_server\u001b[0m\u001b[1;31m(\u001b[0m\u001b[1;31m**cfg\u001b[0m\u001b[1;31m)\u001b[0m\n",
            "\u001b[1;31m  File \u001b[0m\n",
            "\u001b[1;31m\"/usr/local/lib/python3.11/dist-packages/huggingface_hub/inference/_mcp/mcp_clie\u001b[0m\n",
            "\u001b[1;31mnt.py\"\u001b[0m\u001b[1;31m, line \u001b[0m\u001b[1;31m185\u001b[0m\u001b[1;31m, in add_mcp_server\u001b[0m\n",
            "\u001b[1;31m    \u001b[0m\u001b[1;31mlogger.info\u001b[0m\u001b[1;31m(\u001b[0m\u001b[1;31mf\"Connecting to StreamableHTTP MCP server at: \u001b[0m\u001b[1;31m{\u001b[0m\u001b[1;31mparams\u001b[0m\u001b[1;31m[\u001b[0m\u001b[1;31m'url'\u001b[0m\u001b[1;31m]\u001b[0m\u001b[1;31m}\u001b[0m\u001b[1;31m\"\u001b[0m\u001b[1;31m)\u001b[0m\n",
            "\u001b[1;31m                                                               ~~~~~~^^^^^^^\u001b[0m\n",
            "\u001b[1;31mKeyError: \u001b[0m\u001b[1;31m'url'\u001b[0m\n",
            "\n",
            "\n",
            "\u001b[1;31mAn unexpected error occurred: \u001b[0m\u001b[1;31m'url'\u001b[0m\n",
            "\u001b[31m╭─\u001b[0m\u001b[31m────────────────────\u001b[0m\u001b[31m \u001b[0m\u001b[1;31mTraceback \u001b[0m\u001b[1;2;31m(most recent call last)\u001b[0m\u001b[31m \u001b[0m\u001b[31m─────────────────────\u001b[0m\u001b[31m─╮\u001b[0m\n",
            "\u001b[31m│\u001b[0m \u001b[2;33m/usr/local/lib/python3.11/dist-packages/huggingface_hub/inference/_mcp/\u001b[0m\u001b[1;33mcli.p\u001b[0m \u001b[31m│\u001b[0m\n",
            "\u001b[31m│\u001b[0m \u001b[1;33my\u001b[0m:\u001b[94m243\u001b[0m in \u001b[92mrun\u001b[0m                                                                 \u001b[31m│\u001b[0m\n",
            "\u001b[31m│\u001b[0m                                                                              \u001b[31m│\u001b[0m\n",
            "\u001b[31m│\u001b[0m   \u001b[2m240 \u001b[0m\u001b[2m│   │   \u001b[0m\u001b[94mraise\u001b[0m typer.Exit(code=\u001b[94m130\u001b[0m)                                     \u001b[31m│\u001b[0m\n",
            "\u001b[31m│\u001b[0m   \u001b[2m241 \u001b[0m\u001b[2m│   \u001b[0m\u001b[94mexcept\u001b[0m \u001b[96mException\u001b[0m \u001b[94mas\u001b[0m e:                                             \u001b[31m│\u001b[0m\n",
            "\u001b[31m│\u001b[0m   \u001b[2m242 \u001b[0m\u001b[2m│   │   \u001b[0m\u001b[96mprint\u001b[0m(\u001b[33mf\u001b[0m\u001b[33m\"\u001b[0m\u001b[33m\\n\u001b[0m\u001b[33m[bold red]An unexpected error occurred: \u001b[0m\u001b[33m{\u001b[0me\u001b[33m}\u001b[0m\u001b[33m[/bold re\u001b[0m \u001b[31m│\u001b[0m\n",
            "\u001b[31m│\u001b[0m \u001b[31m❱ \u001b[0m243 \u001b[2m│   │   \u001b[0m\u001b[1;4;94mraise\u001b[0m\u001b[1;4m e\u001b[0m                                                        \u001b[31m│\u001b[0m\n",
            "\u001b[31m│\u001b[0m   \u001b[2m244 \u001b[0m                                                                       \u001b[31m│\u001b[0m\n",
            "\u001b[31m│\u001b[0m   \u001b[2m245 \u001b[0m                                                                       \u001b[31m│\u001b[0m\n",
            "\u001b[31m│\u001b[0m   \u001b[2m246 \u001b[0m\u001b[94mif\u001b[0m \u001b[91m__name__\u001b[0m == \u001b[33m\"\u001b[0m\u001b[33m__main__\u001b[0m\u001b[33m\"\u001b[0m:                                             \u001b[31m│\u001b[0m\n",
            "\u001b[31m│\u001b[0m                                                                              \u001b[31m│\u001b[0m\n",
            "\u001b[31m│\u001b[0m \u001b[33m╭─\u001b[0m\u001b[33m──────────────────────\u001b[0m\u001b[33m locals \u001b[0m\u001b[33m──────────────────────\u001b[0m\u001b[33m─╮\u001b[0m                     \u001b[31m│\u001b[0m\n",
            "\u001b[31m│\u001b[0m \u001b[33m│\u001b[0m path = \u001b[33m'/content/tiny-agent-mcp/my-agent/agent.json'\u001b[0m \u001b[33m│\u001b[0m                     \u001b[31m│\u001b[0m\n",
            "\u001b[31m│\u001b[0m \u001b[33m╰──────────────────────────────────────────────────────╯\u001b[0m                     \u001b[31m│\u001b[0m\n",
            "\u001b[31m│\u001b[0m                                                                              \u001b[31m│\u001b[0m\n",
            "\u001b[31m│\u001b[0m \u001b[2;33m/usr/local/lib/python3.11/dist-packages/huggingface_hub/inference/_mcp/\u001b[0m\u001b[1;33mcli.p\u001b[0m \u001b[31m│\u001b[0m\n",
            "\u001b[31m│\u001b[0m \u001b[1;33my\u001b[0m:\u001b[94m237\u001b[0m in \u001b[92mrun\u001b[0m                                                                 \u001b[31m│\u001b[0m\n",
            "\u001b[31m│\u001b[0m                                                                              \u001b[31m│\u001b[0m\n",
            "\u001b[31m│\u001b[0m   \u001b[2m234 \u001b[0m\u001b[2m│   \u001b[0m),                                                                 \u001b[31m│\u001b[0m\n",
            "\u001b[31m│\u001b[0m   \u001b[2m235 \u001b[0m):                                                                     \u001b[31m│\u001b[0m\n",
            "\u001b[31m│\u001b[0m   \u001b[2m236 \u001b[0m\u001b[2m│   \u001b[0m\u001b[94mtry\u001b[0m:                                                               \u001b[31m│\u001b[0m\n",
            "\u001b[31m│\u001b[0m \u001b[31m❱ \u001b[0m237 \u001b[2m│   │   \u001b[0masyncio.run(run_agent(path))                                   \u001b[31m│\u001b[0m\n",
            "\u001b[31m│\u001b[0m   \u001b[2m238 \u001b[0m\u001b[2m│   \u001b[0m\u001b[94mexcept\u001b[0m \u001b[96mKeyboardInterrupt\u001b[0m:                                          \u001b[31m│\u001b[0m\n",
            "\u001b[31m│\u001b[0m   \u001b[2m239 \u001b[0m\u001b[2m│   │   \u001b[0m\u001b[96mprint\u001b[0m(\u001b[33m\"\u001b[0m\u001b[33m\\n\u001b[0m\u001b[33m[red]Application terminated by KeyboardInterrupt.[/re\u001b[0m \u001b[31m│\u001b[0m\n",
            "\u001b[31m│\u001b[0m   \u001b[2m240 \u001b[0m\u001b[2m│   │   \u001b[0m\u001b[94mraise\u001b[0m typer.Exit(code=\u001b[94m130\u001b[0m)                                     \u001b[31m│\u001b[0m\n",
            "\u001b[31m│\u001b[0m                                                                              \u001b[31m│\u001b[0m\n",
            "\u001b[31m│\u001b[0m \u001b[33m╭─\u001b[0m\u001b[33m──────────────────────\u001b[0m\u001b[33m locals \u001b[0m\u001b[33m──────────────────────\u001b[0m\u001b[33m─╮\u001b[0m                     \u001b[31m│\u001b[0m\n",
            "\u001b[31m│\u001b[0m \u001b[33m│\u001b[0m path = \u001b[33m'/content/tiny-agent-mcp/my-agent/agent.json'\u001b[0m \u001b[33m│\u001b[0m                     \u001b[31m│\u001b[0m\n",
            "\u001b[31m│\u001b[0m \u001b[33m╰──────────────────────────────────────────────────────╯\u001b[0m                     \u001b[31m│\u001b[0m\n",
            "\u001b[31m│\u001b[0m                                                                              \u001b[31m│\u001b[0m\n",
            "\u001b[31m│\u001b[0m \u001b[2;33m/usr/lib/python3.11/asyncio/\u001b[0m\u001b[1;33mrunners.py\u001b[0m:\u001b[94m190\u001b[0m in \u001b[92mrun\u001b[0m                            \u001b[31m│\u001b[0m\n",
            "\u001b[31m│\u001b[0m                                                                              \u001b[31m│\u001b[0m\n",
            "\u001b[31m│\u001b[0m   \u001b[2m187 \u001b[0m\u001b[2m│   │   │   \u001b[0m\u001b[33m\"\u001b[0m\u001b[33masyncio.run() cannot be called from a running event loop\u001b[0m\u001b[33m\"\u001b[0m \u001b[31m│\u001b[0m\n",
            "\u001b[31m│\u001b[0m   \u001b[2m188 \u001b[0m\u001b[2m│   \u001b[0m                                                                   \u001b[31m│\u001b[0m\n",
            "\u001b[31m│\u001b[0m   \u001b[2m189 \u001b[0m\u001b[2m│   \u001b[0m\u001b[94mwith\u001b[0m Runner(debug=debug) \u001b[94mas\u001b[0m runner:                                \u001b[31m│\u001b[0m\n",
            "\u001b[31m│\u001b[0m \u001b[31m❱ \u001b[0m190 \u001b[2m│   │   \u001b[0m\u001b[94mreturn\u001b[0m \u001b[1;4mrunner.run(main)\u001b[0m                                        \u001b[31m│\u001b[0m\n",
            "\u001b[31m│\u001b[0m   \u001b[2m191 \u001b[0m                                                                       \u001b[31m│\u001b[0m\n",
            "\u001b[31m│\u001b[0m   \u001b[2m192 \u001b[0m                                                                       \u001b[31m│\u001b[0m\n",
            "\u001b[31m│\u001b[0m   \u001b[2m193 \u001b[0m\u001b[94mdef\u001b[0m\u001b[90m \u001b[0m\u001b[92m_cancel_all_tasks\u001b[0m(loop):                                           \u001b[31m│\u001b[0m\n",
            "\u001b[31m│\u001b[0m                                                                              \u001b[31m│\u001b[0m\n",
            "\u001b[31m│\u001b[0m \u001b[33m╭─\u001b[0m\u001b[33m─────────────────────────\u001b[0m\u001b[33m locals \u001b[0m\u001b[33m─────────────────────────\u001b[0m\u001b[33m─╮\u001b[0m               \u001b[31m│\u001b[0m\n",
            "\u001b[31m│\u001b[0m \u001b[33m│\u001b[0m  debug = \u001b[94mNone\u001b[0m                                              \u001b[33m│\u001b[0m               \u001b[31m│\u001b[0m\n",
            "\u001b[31m│\u001b[0m \u001b[33m│\u001b[0m   main = \u001b[1m<\u001b[0m\u001b[1;95mcoroutine\u001b[0m\u001b[39m object run_agent at \u001b[0m\u001b[94m0x226e7fd0\u001b[0m\u001b[1m>\u001b[0m        \u001b[33m│\u001b[0m               \u001b[31m│\u001b[0m\n",
            "\u001b[31m│\u001b[0m \u001b[33m│\u001b[0m runner = \u001b[1m<\u001b[0m\u001b[1;95masyncio.runners.Runner\u001b[0m\u001b[39m object at \u001b[0m\u001b[94m0x11b1a162c750\u001b[0m\u001b[1m>\u001b[0m \u001b[33m│\u001b[0m               \u001b[31m│\u001b[0m\n",
            "\u001b[31m│\u001b[0m \u001b[33m╰────────────────────────────────────────────────────────────╯\u001b[0m               \u001b[31m│\u001b[0m\n",
            "\u001b[31m│\u001b[0m                                                                              \u001b[31m│\u001b[0m\n",
            "\u001b[31m│\u001b[0m \u001b[2;33m/usr/lib/python3.11/asyncio/\u001b[0m\u001b[1;33mrunners.py\u001b[0m:\u001b[94m118\u001b[0m in \u001b[92mrun\u001b[0m                            \u001b[31m│\u001b[0m\n",
            "\u001b[31m│\u001b[0m                                                                              \u001b[31m│\u001b[0m\n",
            "\u001b[31m│\u001b[0m   \u001b[2m115 \u001b[0m\u001b[2m│   │   \u001b[0m                                                               \u001b[31m│\u001b[0m\n",
            "\u001b[31m│\u001b[0m   \u001b[2m116 \u001b[0m\u001b[2m│   │   \u001b[0m\u001b[96mself\u001b[0m._interrupt_count = \u001b[94m0\u001b[0m                                      \u001b[31m│\u001b[0m\n",
            "\u001b[31m│\u001b[0m   \u001b[2m117 \u001b[0m\u001b[2m│   │   \u001b[0m\u001b[94mtry\u001b[0m:                                                           \u001b[31m│\u001b[0m\n",
            "\u001b[31m│\u001b[0m \u001b[31m❱ \u001b[0m118 \u001b[2m│   │   │   \u001b[0m\u001b[94mreturn\u001b[0m \u001b[96mself\u001b[0m._loop.run_until_complete(task)                 \u001b[31m│\u001b[0m\n",
            "\u001b[31m│\u001b[0m   \u001b[2m119 \u001b[0m\u001b[2m│   │   \u001b[0m\u001b[94mexcept\u001b[0m exceptions.CancelledError:                              \u001b[31m│\u001b[0m\n",
            "\u001b[31m│\u001b[0m   \u001b[2m120 \u001b[0m\u001b[2m│   │   │   \u001b[0m\u001b[94mif\u001b[0m \u001b[96mself\u001b[0m._interrupt_count > \u001b[94m0\u001b[0m:                              \u001b[31m│\u001b[0m\n",
            "\u001b[31m│\u001b[0m   \u001b[2m121 \u001b[0m\u001b[2m│   │   │   │   \u001b[0muncancel = \u001b[96mgetattr\u001b[0m(task, \u001b[33m\"\u001b[0m\u001b[33muncancel\u001b[0m\u001b[33m\"\u001b[0m, \u001b[94mNone\u001b[0m)             \u001b[31m│\u001b[0m\n",
            "\u001b[31m│\u001b[0m                                                                              \u001b[31m│\u001b[0m\n",
            "\u001b[31m│\u001b[0m \u001b[33m╭─\u001b[0m\u001b[33m────────────────────────────────\u001b[0m\u001b[33m locals \u001b[0m\u001b[33m────────────────────────────────\u001b[0m\u001b[33m─╮\u001b[0m \u001b[31m│\u001b[0m\n",
            "\u001b[31m│\u001b[0m \u001b[33m│\u001b[0m        context = \u001b[1m<\u001b[0m\u001b[1;95m_contextvars.Context\u001b[0m\u001b[39m object at \u001b[0m\u001b[94m0x11b1a162cdc0\u001b[0m\u001b[1m>\u001b[0m         \u001b[33m│\u001b[0m \u001b[31m│\u001b[0m\n",
            "\u001b[31m│\u001b[0m \u001b[33m│\u001b[0m           coro = \u001b[1m<\u001b[0m\u001b[1;95mcoroutine\u001b[0m\u001b[39m object run_agent at \u001b[0m\u001b[94m0x226e7fd0\u001b[0m\u001b[1m>\u001b[0m              \u001b[33m│\u001b[0m \u001b[31m│\u001b[0m\n",
            "\u001b[31m│\u001b[0m \u001b[33m│\u001b[0m           self = \u001b[1m<\u001b[0m\u001b[1;95masyncio.runners.Runner\u001b[0m\u001b[39m object at \u001b[0m\u001b[94m0x11b1a162c750\u001b[0m\u001b[1m>\u001b[0m       \u001b[33m│\u001b[0m \u001b[31m│\u001b[0m\n",
            "\u001b[31m│\u001b[0m \u001b[33m│\u001b[0m sigint_handler = \u001b[1;35mfunctools.partial\u001b[0m\u001b[1m(\u001b[0m\u001b[1m<\u001b[0m\u001b[1;95mbound\u001b[0m\u001b[39m method Runner._on_sigint of \u001b[0m   \u001b[33m│\u001b[0m \u001b[31m│\u001b[0m\n",
            "\u001b[31m│\u001b[0m \u001b[33m│\u001b[0m                  \u001b[39m<asyncio.runners.Runner object at \u001b[0m\u001b[94m0x11b1a162c750\u001b[0m\u001b[39m>>, \u001b[0m    \u001b[33m│\u001b[0m \u001b[31m│\u001b[0m\n",
            "\u001b[31m│\u001b[0m \u001b[33m│\u001b[0m                  \u001b[33mmain_task\u001b[0m\u001b[39m=<Task finished \u001b[0m\u001b[33mname\u001b[0m\u001b[39m=\u001b[0m\u001b[33m'Task-1'\u001b[0m\u001b[39m \u001b[0m                 \u001b[33m│\u001b[0m \u001b[31m│\u001b[0m\n",
            "\u001b[31m│\u001b[0m \u001b[33m│\u001b[0m                  \u001b[33mcoro\u001b[0m\u001b[39m=<\u001b[0m\u001b[1;35mrun_agent\u001b[0m\u001b[1;39m(\u001b[0m\u001b[1;39m)\u001b[0m\u001b[39m done, defined at \u001b[0m                     \u001b[33m│\u001b[0m \u001b[31m│\u001b[0m\n",
            "\u001b[31m│\u001b[0m \u001b[33m│\u001b[0m                  \u001b[35m/usr/local/lib/python3.11/dist-packages/huggingface_hu…\u001b[0m \u001b[33m│\u001b[0m \u001b[31m│\u001b[0m\n",
            "\u001b[31m│\u001b[0m \u001b[33m│\u001b[0m                  \u001b[33mexception\u001b[0m\u001b[39m=\u001b[0m\u001b[1;35mKeyError\u001b[0m\u001b[1;39m(\u001b[0m\u001b[33m'url'\u001b[0m\u001b[1;39m)\u001b[0m\u001b[1m>\u001b[0m\u001b[1m)\u001b[0m                             \u001b[33m│\u001b[0m \u001b[31m│\u001b[0m\n",
            "\u001b[31m│\u001b[0m \u001b[33m│\u001b[0m           task = \u001b[1m<\u001b[0m\u001b[1;95mTask\u001b[0m\u001b[39m finished \u001b[0m\u001b[33mname\u001b[0m\u001b[39m=\u001b[0m\u001b[33m'Task-1'\u001b[0m\u001b[39m \u001b[0m\u001b[33mcoro\u001b[0m\u001b[39m=<\u001b[0m\u001b[1;35mrun_agent\u001b[0m\u001b[1;39m(\u001b[0m\u001b[1;39m)\u001b[0m\u001b[39m done, \u001b[0m   \u001b[33m│\u001b[0m \u001b[31m│\u001b[0m\n",
            "\u001b[31m│\u001b[0m \u001b[33m│\u001b[0m                  \u001b[39mdefined at \u001b[0m                                             \u001b[33m│\u001b[0m \u001b[31m│\u001b[0m\n",
            "\u001b[31m│\u001b[0m \u001b[33m│\u001b[0m                  \u001b[35m/usr/local/lib/python3.11/dist-packages/huggingface_hu…\u001b[0m \u001b[33m│\u001b[0m \u001b[31m│\u001b[0m\n",
            "\u001b[31m│\u001b[0m \u001b[33m│\u001b[0m                  \u001b[33mexception\u001b[0m\u001b[39m=\u001b[0m\u001b[1;35mKeyError\u001b[0m\u001b[1;39m(\u001b[0m\u001b[33m'url'\u001b[0m\u001b[1;39m)\u001b[0m\u001b[1m>\u001b[0m                              \u001b[33m│\u001b[0m \u001b[31m│\u001b[0m\n",
            "\u001b[31m│\u001b[0m \u001b[33m╰──────────────────────────────────────────────────────────────────────────╯\u001b[0m \u001b[31m│\u001b[0m\n",
            "\u001b[31m│\u001b[0m                                                                              \u001b[31m│\u001b[0m\n",
            "\u001b[31m│\u001b[0m \u001b[2;33m/usr/lib/python3.11/asyncio/\u001b[0m\u001b[1;33mbase_events.py\u001b[0m:\u001b[94m654\u001b[0m in \u001b[92mrun_until_complete\u001b[0m         \u001b[31m│\u001b[0m\n",
            "\u001b[31m│\u001b[0m                                                                              \u001b[31m│\u001b[0m\n",
            "\u001b[31m│\u001b[0m   \u001b[2m 651 \u001b[0m\u001b[2m│   │   \u001b[0m\u001b[94mif\u001b[0m \u001b[95mnot\u001b[0m future.done():                                         \u001b[31m│\u001b[0m\n",
            "\u001b[31m│\u001b[0m   \u001b[2m 652 \u001b[0m\u001b[2m│   │   │   \u001b[0m\u001b[94mraise\u001b[0m \u001b[96mRuntimeError\u001b[0m(\u001b[33m'\u001b[0m\u001b[33mEvent loop stopped before Future comp\u001b[0m \u001b[31m│\u001b[0m\n",
            "\u001b[31m│\u001b[0m   \u001b[2m 653 \u001b[0m\u001b[2m│   │   \u001b[0m                                                              \u001b[31m│\u001b[0m\n",
            "\u001b[31m│\u001b[0m \u001b[31m❱ \u001b[0m 654 \u001b[2m│   │   \u001b[0m\u001b[94mreturn\u001b[0m \u001b[1;4mfuture.result()\u001b[0m                                        \u001b[31m│\u001b[0m\n",
            "\u001b[31m│\u001b[0m   \u001b[2m 655 \u001b[0m\u001b[2m│   \u001b[0m                                                                  \u001b[31m│\u001b[0m\n",
            "\u001b[31m│\u001b[0m   \u001b[2m 656 \u001b[0m\u001b[2m│   \u001b[0m\u001b[94mdef\u001b[0m\u001b[90m \u001b[0m\u001b[92mstop\u001b[0m(\u001b[96mself\u001b[0m):                                                   \u001b[31m│\u001b[0m\n",
            "\u001b[31m│\u001b[0m   \u001b[2m 657 \u001b[0m\u001b[2;90m│   │   \u001b[0m\u001b[33m\"\"\"Stop running the event loop.\u001b[0m                               \u001b[31m│\u001b[0m\n",
            "\u001b[31m│\u001b[0m                                                                              \u001b[31m│\u001b[0m\n",
            "\u001b[31m│\u001b[0m \u001b[33m╭─\u001b[0m\u001b[33m────────────────────────────────\u001b[0m\u001b[33m locals \u001b[0m\u001b[33m────────────────────────────────\u001b[0m\u001b[33m─╮\u001b[0m \u001b[31m│\u001b[0m\n",
            "\u001b[31m│\u001b[0m \u001b[33m│\u001b[0m   future = \u001b[1m<\u001b[0m\u001b[1;95mTask\u001b[0m\u001b[39m finished \u001b[0m\u001b[33mname\u001b[0m\u001b[39m=\u001b[0m\u001b[33m'Task-1'\u001b[0m\u001b[39m \u001b[0m\u001b[33mcoro\u001b[0m\u001b[39m=<\u001b[0m\u001b[1;35mrun_agent\u001b[0m\u001b[1;39m(\u001b[0m\u001b[1;39m)\u001b[0m\u001b[39m done, defined \u001b[0m \u001b[33m│\u001b[0m \u001b[31m│\u001b[0m\n",
            "\u001b[31m│\u001b[0m \u001b[33m│\u001b[0m            \u001b[39mat \u001b[0m                                                           \u001b[33m│\u001b[0m \u001b[31m│\u001b[0m\n",
            "\u001b[31m│\u001b[0m \u001b[33m│\u001b[0m            \u001b[35m/usr/local/lib/python3.11/dist-packages/huggingface_hub/infe…\u001b[0m \u001b[33m│\u001b[0m \u001b[31m│\u001b[0m\n",
            "\u001b[31m│\u001b[0m \u001b[33m│\u001b[0m            \u001b[33mexception\u001b[0m\u001b[39m=\u001b[0m\u001b[1;35mKeyError\u001b[0m\u001b[1;39m(\u001b[0m\u001b[33m'url'\u001b[0m\u001b[1;39m)\u001b[0m\u001b[1m>\u001b[0m                                    \u001b[33m│\u001b[0m \u001b[31m│\u001b[0m\n",
            "\u001b[31m│\u001b[0m \u001b[33m│\u001b[0m new_task = \u001b[94mFalse\u001b[0m                                                         \u001b[33m│\u001b[0m \u001b[31m│\u001b[0m\n",
            "\u001b[31m│\u001b[0m \u001b[33m│\u001b[0m     self = \u001b[1m<\u001b[0m\u001b[1;95m_UnixSelectorEventLoop\u001b[0m\u001b[39m \u001b[0m\u001b[33mrunning\u001b[0m\u001b[39m=\u001b[0m\u001b[94mFalse\u001b[0m\u001b[39m \u001b[0m\u001b[33mclosed\u001b[0m\u001b[39m=\u001b[0m\u001b[94mTrue\u001b[0m\u001b[39m \u001b[0m            \u001b[33m│\u001b[0m \u001b[31m│\u001b[0m\n",
            "\u001b[31m│\u001b[0m \u001b[33m│\u001b[0m            \u001b[33mdebug\u001b[0m\u001b[39m=\u001b[0m\u001b[94mFalse\u001b[0m\u001b[1m>\u001b[0m                                                  \u001b[33m│\u001b[0m \u001b[31m│\u001b[0m\n",
            "\u001b[31m│\u001b[0m \u001b[33m╰──────────────────────────────────────────────────────────────────────────╯\u001b[0m \u001b[31m│\u001b[0m\n",
            "\u001b[31m│\u001b[0m                                                                              \u001b[31m│\u001b[0m\n",
            "\u001b[31m│\u001b[0m \u001b[2;33m/usr/local/lib/python3.11/dist-packages/huggingface_hub/inference/_mcp/\u001b[0m\u001b[1;33mcli.p\u001b[0m \u001b[31m│\u001b[0m\n",
            "\u001b[31m│\u001b[0m \u001b[1;33my\u001b[0m:\u001b[94m212\u001b[0m in \u001b[92mrun_agent\u001b[0m                                                           \u001b[31m│\u001b[0m\n",
            "\u001b[31m│\u001b[0m                                                                              \u001b[31m│\u001b[0m\n",
            "\u001b[31m│\u001b[0m   \u001b[2m209 \u001b[0m\u001b[2m│   \u001b[0m\u001b[94mexcept\u001b[0m \u001b[96mException\u001b[0m \u001b[94mas\u001b[0m e:                                             \u001b[31m│\u001b[0m\n",
            "\u001b[31m│\u001b[0m   \u001b[2m210 \u001b[0m\u001b[2m│   │   \u001b[0mtb_str = traceback.format_exc()                                \u001b[31m│\u001b[0m\n",
            "\u001b[31m│\u001b[0m   \u001b[2m211 \u001b[0m\u001b[2m│   │   \u001b[0m\u001b[96mprint\u001b[0m(\u001b[33mf\u001b[0m\u001b[33m\"\u001b[0m\u001b[33m\\n\u001b[0m\u001b[33m[bold red]An unexpected error occurred: \u001b[0m\u001b[33m{\u001b[0me\u001b[33m}\u001b[0m\u001b[33m\\n\u001b[0m\u001b[33m{\u001b[0mtb_str \u001b[31m│\u001b[0m\n",
            "\u001b[31m│\u001b[0m \u001b[31m❱ \u001b[0m212 \u001b[2m│   │   \u001b[0m\u001b[94mraise\u001b[0m e                                                        \u001b[31m│\u001b[0m\n",
            "\u001b[31m│\u001b[0m   \u001b[2m213 \u001b[0m\u001b[2m│   \u001b[0m                                                                   \u001b[31m│\u001b[0m\n",
            "\u001b[31m│\u001b[0m   \u001b[2m214 \u001b[0m\u001b[2m│   \u001b[0m\u001b[94mfinally\u001b[0m:                                                           \u001b[31m│\u001b[0m\n",
            "\u001b[31m│\u001b[0m   \u001b[2m215 \u001b[0m\u001b[2m│   │   \u001b[0m\u001b[94mif\u001b[0m sigint_registered_in_loop:                                  \u001b[31m│\u001b[0m\n",
            "\u001b[31m│\u001b[0m                                                                              \u001b[31m│\u001b[0m\n",
            "\u001b[31m│\u001b[0m \u001b[33m╭─\u001b[0m\u001b[33m────────────────────────────────\u001b[0m\u001b[33m locals \u001b[0m\u001b[33m────────────────────────────────\u001b[0m\u001b[33m─╮\u001b[0m \u001b[31m│\u001b[0m\n",
            "\u001b[31m│\u001b[0m \u001b[33m│\u001b[0m               abort_event = \u001b[1m<\u001b[0m\u001b[1;95masyncio.locks.Event\u001b[0m\u001b[39m object at \u001b[0m              \u001b[33m│\u001b[0m \u001b[31m│\u001b[0m\n",
            "\u001b[31m│\u001b[0m \u001b[33m│\u001b[0m                             \u001b[94m0x11b1a162d050\u001b[0m\u001b[39m \u001b[0m\u001b[1;39m[\u001b[0m\u001b[39munset\u001b[0m\u001b[1;39m]\u001b[0m\u001b[1m>\u001b[0m                      \u001b[33m│\u001b[0m \u001b[31m│\u001b[0m\n",
            "\u001b[31m│\u001b[0m \u001b[33m│\u001b[0m                     agent = \u001b[1m<\u001b[0m\u001b[1;95mhuggingface_hub.inference._mcp.agent.Agent\u001b[0m\u001b[39m \u001b[0m \u001b[33m│\u001b[0m \u001b[31m│\u001b[0m\n",
            "\u001b[31m│\u001b[0m \u001b[33m│\u001b[0m                             \u001b[39mobject at \u001b[0m\u001b[94m0x11b1a162dbd0\u001b[0m\u001b[1m>\u001b[0m                    \u001b[33m│\u001b[0m \u001b[31m│\u001b[0m\n",
            "\u001b[31m│\u001b[0m \u001b[33m│\u001b[0m                agent_path = \u001b[33m'/content/tiny-agent-mcp/my-agent/agent.jso…\u001b[0m \u001b[33m│\u001b[0m \u001b[31m│\u001b[0m\n",
            "\u001b[31m│\u001b[0m \u001b[33m│\u001b[0m                    config = \u001b[1m{\u001b[0m                                            \u001b[33m│\u001b[0m \u001b[31m│\u001b[0m\n",
            "\u001b[31m│\u001b[0m \u001b[33m│\u001b[0m                             \u001b[2m│   \u001b[0m\u001b[33m'model'\u001b[0m: \u001b[33m'llama2:latest'\u001b[0m,                \u001b[33m│\u001b[0m \u001b[31m│\u001b[0m\n",
            "\u001b[31m│\u001b[0m \u001b[33m│\u001b[0m                             \u001b[2m│   \u001b[0m\u001b[33m'endpointUrl'\u001b[0m: \u001b[33m'http://localhost:11434'\u001b[0m, \u001b[33m│\u001b[0m \u001b[31m│\u001b[0m\n",
            "\u001b[31m│\u001b[0m \u001b[33m│\u001b[0m                             \u001b[2m│   \u001b[0m\u001b[33m'servers'\u001b[0m: \u001b[1m[\u001b[0m                             \u001b[33m│\u001b[0m \u001b[31m│\u001b[0m\n",
            "\u001b[31m│\u001b[0m \u001b[33m│\u001b[0m                             \u001b[2m│   │   \u001b[0m\u001b[1m{\u001b[0m                                    \u001b[33m│\u001b[0m \u001b[31m│\u001b[0m\n",
            "\u001b[31m│\u001b[0m \u001b[33m│\u001b[0m                             \u001b[2m│   │   │   \u001b[0m\u001b[33m'type'\u001b[0m: \u001b[33m'http'\u001b[0m,                  \u001b[33m│\u001b[0m \u001b[31m│\u001b[0m\n",
            "\u001b[31m│\u001b[0m \u001b[33m│\u001b[0m                             \u001b[2m│   │   │   \u001b[0m\u001b[33m'config'\u001b[0m: \u001b[1m{\u001b[0m                      \u001b[33m│\u001b[0m \u001b[31m│\u001b[0m\n",
            "\u001b[31m│\u001b[0m \u001b[33m│\u001b[0m                             \u001b[2m│   │   │   │   \u001b[0m\u001b[33m'url'\u001b[0m:                       \u001b[33m│\u001b[0m \u001b[31m│\u001b[0m\n",
            "\u001b[31m│\u001b[0m \u001b[33m│\u001b[0m                             \u001b[33m'https://evalstate-hf-mcp-server.hf.space/m…\u001b[0m \u001b[33m│\u001b[0m \u001b[31m│\u001b[0m\n",
            "\u001b[31m│\u001b[0m \u001b[33m│\u001b[0m                             \u001b[2m│   │   │   \u001b[0m\u001b[1m}\u001b[0m                                \u001b[33m│\u001b[0m \u001b[31m│\u001b[0m\n",
            "\u001b[31m│\u001b[0m \u001b[33m│\u001b[0m                             \u001b[2m│   │   \u001b[0m\u001b[1m}\u001b[0m                                    \u001b[33m│\u001b[0m \u001b[31m│\u001b[0m\n",
            "\u001b[31m│\u001b[0m \u001b[33m│\u001b[0m                             \u001b[2m│   \u001b[0m\u001b[1m]\u001b[0m                                        \u001b[33m│\u001b[0m \u001b[31m│\u001b[0m\n",
            "\u001b[31m│\u001b[0m \u001b[33m│\u001b[0m                             \u001b[1m}\u001b[0m                                            \u001b[33m│\u001b[0m \u001b[31m│\u001b[0m\n",
            "\u001b[31m│\u001b[0m \u001b[33m│\u001b[0m                exit_event = \u001b[1m<\u001b[0m\u001b[1;95masyncio.locks.Event\u001b[0m\u001b[39m object at \u001b[0m              \u001b[33m│\u001b[0m \u001b[31m│\u001b[0m\n",
            "\u001b[31m│\u001b[0m \u001b[33m│\u001b[0m                             \u001b[94m0x11b1a162cf50\u001b[0m\u001b[39m \u001b[0m\u001b[1;39m[\u001b[0m\u001b[39munset\u001b[0m\u001b[1;39m]\u001b[0m\u001b[1m>\u001b[0m                      \u001b[33m│\u001b[0m \u001b[31m│\u001b[0m\n",
            "\u001b[31m│\u001b[0m \u001b[33m│\u001b[0m              first_sigint = \u001b[94mTrue\u001b[0m                                         \u001b[33m│\u001b[0m \u001b[31m│\u001b[0m\n",
            "\u001b[31m│\u001b[0m \u001b[33m│\u001b[0m                    inputs = \u001b[1m[\u001b[0m\u001b[1m]\u001b[0m                                           \u001b[33m│\u001b[0m \u001b[31m│\u001b[0m\n",
            "\u001b[31m│\u001b[0m \u001b[33m│\u001b[0m                      loop = \u001b[1m<\u001b[0m\u001b[1;95m_UnixSelectorEventLoop\u001b[0m\u001b[39m \u001b[0m\u001b[33mrunning\u001b[0m\u001b[39m=\u001b[0m\u001b[94mFalse\u001b[0m\u001b[39m \u001b[0m       \u001b[33m│\u001b[0m \u001b[31m│\u001b[0m\n",
            "\u001b[31m│\u001b[0m \u001b[33m│\u001b[0m                             \u001b[33mclosed\u001b[0m\u001b[39m=\u001b[0m\u001b[94mTrue\u001b[0m\u001b[39m \u001b[0m\u001b[33mdebug\u001b[0m\u001b[39m=\u001b[0m\u001b[94mFalse\u001b[0m\u001b[1m>\u001b[0m                     \u001b[33m│\u001b[0m \u001b[31m│\u001b[0m\n",
            "\u001b[31m│\u001b[0m \u001b[33m│\u001b[0m   original_sigint_handler = \u001b[1;35mfunctools.partial\u001b[0m\u001b[1m(\u001b[0m\u001b[1m<\u001b[0m\u001b[1;95mbound\u001b[0m\u001b[39m method \u001b[0m             \u001b[33m│\u001b[0m \u001b[31m│\u001b[0m\n",
            "\u001b[31m│\u001b[0m \u001b[33m│\u001b[0m                             \u001b[39mRunner._on_sigint of <asyncio.runners.Runner\u001b[0m \u001b[33m│\u001b[0m \u001b[31m│\u001b[0m\n",
            "\u001b[31m│\u001b[0m \u001b[33m│\u001b[0m                             \u001b[39mobject at \u001b[0m\u001b[94m0x11b1a162c750\u001b[0m\u001b[39m>>, \u001b[0m\u001b[33mmain_task\u001b[0m\u001b[39m=<Task \u001b[0m \u001b[33m│\u001b[0m \u001b[31m│\u001b[0m\n",
            "\u001b[31m│\u001b[0m \u001b[33m│\u001b[0m                             \u001b[39mfinished \u001b[0m\u001b[33mname\u001b[0m\u001b[39m=\u001b[0m\u001b[33m'Task-1'\u001b[0m\u001b[39m \u001b[0m\u001b[33mcoro\u001b[0m\u001b[39m=<\u001b[0m\u001b[1;35mrun_agent\u001b[0m\u001b[1;39m(\u001b[0m\u001b[1;39m)\u001b[0m\u001b[39m \u001b[0m    \u001b[33m│\u001b[0m \u001b[31m│\u001b[0m\n",
            "\u001b[31m│\u001b[0m \u001b[33m│\u001b[0m                             \u001b[39mdone, defined at \u001b[0m                            \u001b[33m│\u001b[0m \u001b[31m│\u001b[0m\n",
            "\u001b[31m│\u001b[0m \u001b[33m│\u001b[0m                             \u001b[35m/usr/local/lib/python3.11/dist-packages/hug…\u001b[0m \u001b[33m│\u001b[0m \u001b[31m│\u001b[0m\n",
            "\u001b[31m│\u001b[0m \u001b[33m│\u001b[0m                             \u001b[33mexception\u001b[0m\u001b[39m=\u001b[0m\u001b[1;35mKeyError\u001b[0m\u001b[1;39m(\u001b[0m\u001b[33m'url'\u001b[0m\u001b[1;39m)\u001b[0m\u001b[1m>\u001b[0m\u001b[1m)\u001b[0m                  \u001b[33m│\u001b[0m \u001b[31m│\u001b[0m\n",
            "\u001b[31m│\u001b[0m \u001b[33m│\u001b[0m                    prompt = \u001b[94mNone\u001b[0m                                         \u001b[33m│\u001b[0m \u001b[31m│\u001b[0m\n",
            "\u001b[31m│\u001b[0m \u001b[33m│\u001b[0m               raw_api_key = \u001b[94mNone\u001b[0m                                         \u001b[33m│\u001b[0m \u001b[31m│\u001b[0m\n",
            "\u001b[31m│\u001b[0m \u001b[33m│\u001b[0m           resolved_inputs = \u001b[1m{\u001b[0m\u001b[1m}\u001b[0m                                           \u001b[33m│\u001b[0m \u001b[31m│\u001b[0m\n",
            "\u001b[31m│\u001b[0m \u001b[33m│\u001b[0m                   servers = \u001b[1m[\u001b[0m                                            \u001b[33m│\u001b[0m \u001b[31m│\u001b[0m\n",
            "\u001b[31m│\u001b[0m \u001b[33m│\u001b[0m                             \u001b[2m│   \u001b[0m\u001b[1m{\u001b[0m                                        \u001b[33m│\u001b[0m \u001b[31m│\u001b[0m\n",
            "\u001b[31m│\u001b[0m \u001b[33m│\u001b[0m                             \u001b[2m│   │   \u001b[0m\u001b[33m'type'\u001b[0m: \u001b[33m'http'\u001b[0m,                      \u001b[33m│\u001b[0m \u001b[31m│\u001b[0m\n",
            "\u001b[31m│\u001b[0m \u001b[33m│\u001b[0m                             \u001b[2m│   │   \u001b[0m\u001b[33m'config'\u001b[0m: \u001b[1m{\u001b[0m                          \u001b[33m│\u001b[0m \u001b[31m│\u001b[0m\n",
            "\u001b[31m│\u001b[0m \u001b[33m│\u001b[0m                             \u001b[2m│   │   │   \u001b[0m\u001b[33m'url'\u001b[0m:                           \u001b[33m│\u001b[0m \u001b[31m│\u001b[0m\n",
            "\u001b[31m│\u001b[0m \u001b[33m│\u001b[0m                             \u001b[33m'https://evalstate-hf-mcp-server.hf.space/m…\u001b[0m \u001b[33m│\u001b[0m \u001b[31m│\u001b[0m\n",
            "\u001b[31m│\u001b[0m \u001b[33m│\u001b[0m                             \u001b[2m│   │   \u001b[0m\u001b[1m}\u001b[0m                                    \u001b[33m│\u001b[0m \u001b[31m│\u001b[0m\n",
            "\u001b[31m│\u001b[0m \u001b[33m│\u001b[0m                             \u001b[2m│   \u001b[0m\u001b[1m}\u001b[0m                                        \u001b[33m│\u001b[0m \u001b[31m│\u001b[0m\n",
            "\u001b[31m│\u001b[0m \u001b[33m│\u001b[0m                             \u001b[1m]\u001b[0m                                            \u001b[33m│\u001b[0m \u001b[31m│\u001b[0m\n",
            "\u001b[31m│\u001b[0m \u001b[33m│\u001b[0m sigint_registered_in_loop = \u001b[94mTrue\u001b[0m                                         \u001b[33m│\u001b[0m \u001b[31m│\u001b[0m\n",
            "\u001b[31m│\u001b[0m \u001b[33m│\u001b[0m                    tb_str = \u001b[33m'Traceback \u001b[0m\u001b[1;33m(\u001b[0m\u001b[33mmost recent call last\u001b[0m\u001b[1;33m)\u001b[0m\u001b[33m:\\n  File \u001b[0m \u001b[33m│\u001b[0m \u001b[31m│\u001b[0m\n",
            "\u001b[31m│\u001b[0m \u001b[33m│\u001b[0m                             \u001b[33m\"/usr/local/lib/python3.11/dist-packag'\u001b[0m+\u001b[94m541\u001b[0m  \u001b[33m│\u001b[0m \u001b[31m│\u001b[0m\n",
            "\u001b[31m│\u001b[0m \u001b[33m╰──────────────────────────────────────────────────────────────────────────╯\u001b[0m \u001b[31m│\u001b[0m\n",
            "\u001b[31m│\u001b[0m                                                                              \u001b[31m│\u001b[0m\n",
            "\u001b[31m│\u001b[0m \u001b[2;33m/usr/local/lib/python3.11/dist-packages/huggingface_hub/inference/_mcp/\u001b[0m\u001b[1;33mcli.p\u001b[0m \u001b[31m│\u001b[0m\n",
            "\u001b[31m│\u001b[0m \u001b[1;33my\u001b[0m:\u001b[94m152\u001b[0m in \u001b[92mrun_agent\u001b[0m                                                           \u001b[31m│\u001b[0m\n",
            "\u001b[31m│\u001b[0m                                                                              \u001b[31m│\u001b[0m\n",
            "\u001b[31m│\u001b[0m   \u001b[2m149 \u001b[0m\u001b[2m│   │   │   \u001b[0mservers=servers,  \u001b[2m# type: ignore[arg-type]\u001b[0m                 \u001b[31m│\u001b[0m\n",
            "\u001b[31m│\u001b[0m   \u001b[2m150 \u001b[0m\u001b[2m│   │   │   \u001b[0mprompt=prompt,                                             \u001b[31m│\u001b[0m\n",
            "\u001b[31m│\u001b[0m   \u001b[2m151 \u001b[0m\u001b[2m│   │   \u001b[0m) \u001b[94mas\u001b[0m agent:                                                    \u001b[31m│\u001b[0m\n",
            "\u001b[31m│\u001b[0m \u001b[31m❱ \u001b[0m152 \u001b[2m│   │   │   \u001b[0m\u001b[94mawait\u001b[0m agent.load_tools()                                   \u001b[31m│\u001b[0m\n",
            "\u001b[31m│\u001b[0m   \u001b[2m153 \u001b[0m\u001b[2m│   │   │   \u001b[0m\u001b[96mprint\u001b[0m(\u001b[33mf\u001b[0m\u001b[33m\"\u001b[0m\u001b[33m[bold blue]Agent loaded with \u001b[0m\u001b[33m{\u001b[0m\u001b[96mlen\u001b[0m(agent.available_ \u001b[31m│\u001b[0m\n",
            "\u001b[31m│\u001b[0m   \u001b[2m154 \u001b[0m\u001b[2m│   │   │   \u001b[0m\u001b[94mfor\u001b[0m t \u001b[95min\u001b[0m agent.available_tools:                            \u001b[31m│\u001b[0m\n",
            "\u001b[31m│\u001b[0m   \u001b[2m155 \u001b[0m\u001b[2m│   │   │   │   \u001b[0m\u001b[96mprint\u001b[0m(\u001b[33mf\u001b[0m\u001b[33m\"\u001b[0m\u001b[33m[blue] • \u001b[0m\u001b[33m{\u001b[0mt.function.name\u001b[33m}\u001b[0m\u001b[33m[/blue]\u001b[0m\u001b[33m\"\u001b[0m)            \u001b[31m│\u001b[0m\n",
            "\u001b[31m│\u001b[0m                                                                              \u001b[31m│\u001b[0m\n",
            "\u001b[31m│\u001b[0m \u001b[33m╭─\u001b[0m\u001b[33m────────────────────────────────\u001b[0m\u001b[33m locals \u001b[0m\u001b[33m────────────────────────────────\u001b[0m\u001b[33m─╮\u001b[0m \u001b[31m│\u001b[0m\n",
            "\u001b[31m│\u001b[0m \u001b[33m│\u001b[0m               abort_event = \u001b[1m<\u001b[0m\u001b[1;95masyncio.locks.Event\u001b[0m\u001b[39m object at \u001b[0m              \u001b[33m│\u001b[0m \u001b[31m│\u001b[0m\n",
            "\u001b[31m│\u001b[0m \u001b[33m│\u001b[0m                             \u001b[94m0x11b1a162d050\u001b[0m\u001b[39m \u001b[0m\u001b[1;39m[\u001b[0m\u001b[39munset\u001b[0m\u001b[1;39m]\u001b[0m\u001b[1m>\u001b[0m                      \u001b[33m│\u001b[0m \u001b[31m│\u001b[0m\n",
            "\u001b[31m│\u001b[0m \u001b[33m│\u001b[0m                     agent = \u001b[1m<\u001b[0m\u001b[1;95mhuggingface_hub.inference._mcp.agent.Agent\u001b[0m\u001b[39m \u001b[0m \u001b[33m│\u001b[0m \u001b[31m│\u001b[0m\n",
            "\u001b[31m│\u001b[0m \u001b[33m│\u001b[0m                             \u001b[39mobject at \u001b[0m\u001b[94m0x11b1a162dbd0\u001b[0m\u001b[1m>\u001b[0m                    \u001b[33m│\u001b[0m \u001b[31m│\u001b[0m\n",
            "\u001b[31m│\u001b[0m \u001b[33m│\u001b[0m                agent_path = \u001b[33m'/content/tiny-agent-mcp/my-agent/agent.jso…\u001b[0m \u001b[33m│\u001b[0m \u001b[31m│\u001b[0m\n",
            "\u001b[31m│\u001b[0m \u001b[33m│\u001b[0m                    config = \u001b[1m{\u001b[0m                                            \u001b[33m│\u001b[0m \u001b[31m│\u001b[0m\n",
            "\u001b[31m│\u001b[0m \u001b[33m│\u001b[0m                             \u001b[2m│   \u001b[0m\u001b[33m'model'\u001b[0m: \u001b[33m'llama2:latest'\u001b[0m,                \u001b[33m│\u001b[0m \u001b[31m│\u001b[0m\n",
            "\u001b[31m│\u001b[0m \u001b[33m│\u001b[0m                             \u001b[2m│   \u001b[0m\u001b[33m'endpointUrl'\u001b[0m: \u001b[33m'http://localhost:11434'\u001b[0m, \u001b[33m│\u001b[0m \u001b[31m│\u001b[0m\n",
            "\u001b[31m│\u001b[0m \u001b[33m│\u001b[0m                             \u001b[2m│   \u001b[0m\u001b[33m'servers'\u001b[0m: \u001b[1m[\u001b[0m                             \u001b[33m│\u001b[0m \u001b[31m│\u001b[0m\n",
            "\u001b[31m│\u001b[0m \u001b[33m│\u001b[0m                             \u001b[2m│   │   \u001b[0m\u001b[1m{\u001b[0m                                    \u001b[33m│\u001b[0m \u001b[31m│\u001b[0m\n",
            "\u001b[31m│\u001b[0m \u001b[33m│\u001b[0m                             \u001b[2m│   │   │   \u001b[0m\u001b[33m'type'\u001b[0m: \u001b[33m'http'\u001b[0m,                  \u001b[33m│\u001b[0m \u001b[31m│\u001b[0m\n",
            "\u001b[31m│\u001b[0m \u001b[33m│\u001b[0m                             \u001b[2m│   │   │   \u001b[0m\u001b[33m'config'\u001b[0m: \u001b[1m{\u001b[0m                      \u001b[33m│\u001b[0m \u001b[31m│\u001b[0m\n",
            "\u001b[31m│\u001b[0m \u001b[33m│\u001b[0m                             \u001b[2m│   │   │   │   \u001b[0m\u001b[33m'url'\u001b[0m:                       \u001b[33m│\u001b[0m \u001b[31m│\u001b[0m\n",
            "\u001b[31m│\u001b[0m \u001b[33m│\u001b[0m                             \u001b[33m'https://evalstate-hf-mcp-server.hf.space/m…\u001b[0m \u001b[33m│\u001b[0m \u001b[31m│\u001b[0m\n",
            "\u001b[31m│\u001b[0m \u001b[33m│\u001b[0m                             \u001b[2m│   │   │   \u001b[0m\u001b[1m}\u001b[0m                                \u001b[33m│\u001b[0m \u001b[31m│\u001b[0m\n",
            "\u001b[31m│\u001b[0m \u001b[33m│\u001b[0m                             \u001b[2m│   │   \u001b[0m\u001b[1m}\u001b[0m                                    \u001b[33m│\u001b[0m \u001b[31m│\u001b[0m\n",
            "\u001b[31m│\u001b[0m \u001b[33m│\u001b[0m                             \u001b[2m│   \u001b[0m\u001b[1m]\u001b[0m                                        \u001b[33m│\u001b[0m \u001b[31m│\u001b[0m\n",
            "\u001b[31m│\u001b[0m \u001b[33m│\u001b[0m                             \u001b[1m}\u001b[0m                                            \u001b[33m│\u001b[0m \u001b[31m│\u001b[0m\n",
            "\u001b[31m│\u001b[0m \u001b[33m│\u001b[0m                exit_event = \u001b[1m<\u001b[0m\u001b[1;95masyncio.locks.Event\u001b[0m\u001b[39m object at \u001b[0m              \u001b[33m│\u001b[0m \u001b[31m│\u001b[0m\n",
            "\u001b[31m│\u001b[0m \u001b[33m│\u001b[0m                             \u001b[94m0x11b1a162cf50\u001b[0m\u001b[39m \u001b[0m\u001b[1;39m[\u001b[0m\u001b[39munset\u001b[0m\u001b[1;39m]\u001b[0m\u001b[1m>\u001b[0m                      \u001b[33m│\u001b[0m \u001b[31m│\u001b[0m\n",
            "\u001b[31m│\u001b[0m \u001b[33m│\u001b[0m              first_sigint = \u001b[94mTrue\u001b[0m                                         \u001b[33m│\u001b[0m \u001b[31m│\u001b[0m\n",
            "\u001b[31m│\u001b[0m \u001b[33m│\u001b[0m                    inputs = \u001b[1m[\u001b[0m\u001b[1m]\u001b[0m                                           \u001b[33m│\u001b[0m \u001b[31m│\u001b[0m\n",
            "\u001b[31m│\u001b[0m \u001b[33m│\u001b[0m                      loop = \u001b[1m<\u001b[0m\u001b[1;95m_UnixSelectorEventLoop\u001b[0m\u001b[39m \u001b[0m\u001b[33mrunning\u001b[0m\u001b[39m=\u001b[0m\u001b[94mFalse\u001b[0m\u001b[39m \u001b[0m       \u001b[33m│\u001b[0m \u001b[31m│\u001b[0m\n",
            "\u001b[31m│\u001b[0m \u001b[33m│\u001b[0m                             \u001b[33mclosed\u001b[0m\u001b[39m=\u001b[0m\u001b[94mTrue\u001b[0m\u001b[39m \u001b[0m\u001b[33mdebug\u001b[0m\u001b[39m=\u001b[0m\u001b[94mFalse\u001b[0m\u001b[1m>\u001b[0m                     \u001b[33m│\u001b[0m \u001b[31m│\u001b[0m\n",
            "\u001b[31m│\u001b[0m \u001b[33m│\u001b[0m   original_sigint_handler = \u001b[1;35mfunctools.partial\u001b[0m\u001b[1m(\u001b[0m\u001b[1m<\u001b[0m\u001b[1;95mbound\u001b[0m\u001b[39m method \u001b[0m             \u001b[33m│\u001b[0m \u001b[31m│\u001b[0m\n",
            "\u001b[31m│\u001b[0m \u001b[33m│\u001b[0m                             \u001b[39mRunner._on_sigint of <asyncio.runners.Runner\u001b[0m \u001b[33m│\u001b[0m \u001b[31m│\u001b[0m\n",
            "\u001b[31m│\u001b[0m \u001b[33m│\u001b[0m                             \u001b[39mobject at \u001b[0m\u001b[94m0x11b1a162c750\u001b[0m\u001b[39m>>, \u001b[0m\u001b[33mmain_task\u001b[0m\u001b[39m=<Task \u001b[0m \u001b[33m│\u001b[0m \u001b[31m│\u001b[0m\n",
            "\u001b[31m│\u001b[0m \u001b[33m│\u001b[0m                             \u001b[39mfinished \u001b[0m\u001b[33mname\u001b[0m\u001b[39m=\u001b[0m\u001b[33m'Task-1'\u001b[0m\u001b[39m \u001b[0m\u001b[33mcoro\u001b[0m\u001b[39m=<\u001b[0m\u001b[1;35mrun_agent\u001b[0m\u001b[1;39m(\u001b[0m\u001b[1;39m)\u001b[0m\u001b[39m \u001b[0m    \u001b[33m│\u001b[0m \u001b[31m│\u001b[0m\n",
            "\u001b[31m│\u001b[0m \u001b[33m│\u001b[0m                             \u001b[39mdone, defined at \u001b[0m                            \u001b[33m│\u001b[0m \u001b[31m│\u001b[0m\n",
            "\u001b[31m│\u001b[0m \u001b[33m│\u001b[0m                             \u001b[35m/usr/local/lib/python3.11/dist-packages/hug…\u001b[0m \u001b[33m│\u001b[0m \u001b[31m│\u001b[0m\n",
            "\u001b[31m│\u001b[0m \u001b[33m│\u001b[0m                             \u001b[33mexception\u001b[0m\u001b[39m=\u001b[0m\u001b[1;35mKeyError\u001b[0m\u001b[1;39m(\u001b[0m\u001b[33m'url'\u001b[0m\u001b[1;39m)\u001b[0m\u001b[1m>\u001b[0m\u001b[1m)\u001b[0m                  \u001b[33m│\u001b[0m \u001b[31m│\u001b[0m\n",
            "\u001b[31m│\u001b[0m \u001b[33m│\u001b[0m                    prompt = \u001b[94mNone\u001b[0m                                         \u001b[33m│\u001b[0m \u001b[31m│\u001b[0m\n",
            "\u001b[31m│\u001b[0m \u001b[33m│\u001b[0m               raw_api_key = \u001b[94mNone\u001b[0m                                         \u001b[33m│\u001b[0m \u001b[31m│\u001b[0m\n",
            "\u001b[31m│\u001b[0m \u001b[33m│\u001b[0m           resolved_inputs = \u001b[1m{\u001b[0m\u001b[1m}\u001b[0m                                           \u001b[33m│\u001b[0m \u001b[31m│\u001b[0m\n",
            "\u001b[31m│\u001b[0m \u001b[33m│\u001b[0m                   servers = \u001b[1m[\u001b[0m                                            \u001b[33m│\u001b[0m \u001b[31m│\u001b[0m\n",
            "\u001b[31m│\u001b[0m \u001b[33m│\u001b[0m                             \u001b[2m│   \u001b[0m\u001b[1m{\u001b[0m                                        \u001b[33m│\u001b[0m \u001b[31m│\u001b[0m\n",
            "\u001b[31m│\u001b[0m \u001b[33m│\u001b[0m                             \u001b[2m│   │   \u001b[0m\u001b[33m'type'\u001b[0m: \u001b[33m'http'\u001b[0m,                      \u001b[33m│\u001b[0m \u001b[31m│\u001b[0m\n",
            "\u001b[31m│\u001b[0m \u001b[33m│\u001b[0m                             \u001b[2m│   │   \u001b[0m\u001b[33m'config'\u001b[0m: \u001b[1m{\u001b[0m                          \u001b[33m│\u001b[0m \u001b[31m│\u001b[0m\n",
            "\u001b[31m│\u001b[0m \u001b[33m│\u001b[0m                             \u001b[2m│   │   │   \u001b[0m\u001b[33m'url'\u001b[0m:                           \u001b[33m│\u001b[0m \u001b[31m│\u001b[0m\n",
            "\u001b[31m│\u001b[0m \u001b[33m│\u001b[0m                             \u001b[33m'https://evalstate-hf-mcp-server.hf.space/m…\u001b[0m \u001b[33m│\u001b[0m \u001b[31m│\u001b[0m\n",
            "\u001b[31m│\u001b[0m \u001b[33m│\u001b[0m                             \u001b[2m│   │   \u001b[0m\u001b[1m}\u001b[0m                                    \u001b[33m│\u001b[0m \u001b[31m│\u001b[0m\n",
            "\u001b[31m│\u001b[0m \u001b[33m│\u001b[0m                             \u001b[2m│   \u001b[0m\u001b[1m}\u001b[0m                                        \u001b[33m│\u001b[0m \u001b[31m│\u001b[0m\n",
            "\u001b[31m│\u001b[0m \u001b[33m│\u001b[0m                             \u001b[1m]\u001b[0m                                            \u001b[33m│\u001b[0m \u001b[31m│\u001b[0m\n",
            "\u001b[31m│\u001b[0m \u001b[33m│\u001b[0m sigint_registered_in_loop = \u001b[94mTrue\u001b[0m                                         \u001b[33m│\u001b[0m \u001b[31m│\u001b[0m\n",
            "\u001b[31m│\u001b[0m \u001b[33m│\u001b[0m                    tb_str = \u001b[33m'Traceback \u001b[0m\u001b[1;33m(\u001b[0m\u001b[33mmost recent call last\u001b[0m\u001b[1;33m)\u001b[0m\u001b[33m:\\n  File \u001b[0m \u001b[33m│\u001b[0m \u001b[31m│\u001b[0m\n",
            "\u001b[31m│\u001b[0m \u001b[33m│\u001b[0m                             \u001b[33m\"/usr/local/lib/python3.11/dist-packag'\u001b[0m+\u001b[94m541\u001b[0m  \u001b[33m│\u001b[0m \u001b[31m│\u001b[0m\n",
            "\u001b[31m│\u001b[0m \u001b[33m╰──────────────────────────────────────────────────────────────────────────╯\u001b[0m \u001b[31m│\u001b[0m\n",
            "\u001b[31m│\u001b[0m                                                                              \u001b[31m│\u001b[0m\n",
            "\u001b[31m│\u001b[0m \u001b[2;33m/usr/local/lib/python3.11/dist-packages/huggingface_hub/inference/_mcp/\u001b[0m\u001b[1;33magent\u001b[0m \u001b[31m│\u001b[0m\n",
            "\u001b[31m│\u001b[0m \u001b[1;33m.py\u001b[0m:\u001b[94m58\u001b[0m in \u001b[92mload_tools\u001b[0m                                                         \u001b[31m│\u001b[0m\n",
            "\u001b[31m│\u001b[0m                                                                              \u001b[31m│\u001b[0m\n",
            "\u001b[31m│\u001b[0m   \u001b[2m 55 \u001b[0m\u001b[2m│   \u001b[0m                                                                   \u001b[31m│\u001b[0m\n",
            "\u001b[31m│\u001b[0m   \u001b[2m 56 \u001b[0m\u001b[2m│   \u001b[0m\u001b[94masync\u001b[0m \u001b[94mdef\u001b[0m\u001b[90m \u001b[0m\u001b[92mload_tools\u001b[0m(\u001b[96mself\u001b[0m) -> \u001b[94mNone\u001b[0m:                                \u001b[31m│\u001b[0m\n",
            "\u001b[31m│\u001b[0m   \u001b[2m 57 \u001b[0m\u001b[2m│   │   \u001b[0m\u001b[94mfor\u001b[0m cfg \u001b[95min\u001b[0m \u001b[96mself\u001b[0m._servers_cfg:                                  \u001b[31m│\u001b[0m\n",
            "\u001b[31m│\u001b[0m \u001b[31m❱ \u001b[0m 58 \u001b[2m│   │   │   \u001b[0m\u001b[1;4;94mawait\u001b[0m\u001b[1;4m \u001b[0m\u001b[1;4;96mself\u001b[0m\u001b[1;4m.add_mcp_server(**cfg)\u001b[0m                           \u001b[31m│\u001b[0m\n",
            "\u001b[31m│\u001b[0m   \u001b[2m 59 \u001b[0m\u001b[2m│   \u001b[0m                                                                   \u001b[31m│\u001b[0m\n",
            "\u001b[31m│\u001b[0m   \u001b[2m 60 \u001b[0m\u001b[2m│   \u001b[0m\u001b[94masync\u001b[0m \u001b[94mdef\u001b[0m\u001b[90m \u001b[0m\u001b[92mrun\u001b[0m(                                                     \u001b[31m│\u001b[0m\n",
            "\u001b[31m│\u001b[0m   \u001b[2m 61 \u001b[0m\u001b[2m│   │   \u001b[0m\u001b[96mself\u001b[0m,                                                          \u001b[31m│\u001b[0m\n",
            "\u001b[31m│\u001b[0m                                                                              \u001b[31m│\u001b[0m\n",
            "\u001b[31m│\u001b[0m \u001b[33m╭─\u001b[0m\u001b[33m────────────────────────────────\u001b[0m\u001b[33m locals \u001b[0m\u001b[33m────────────────────────────────\u001b[0m\u001b[33m─╮\u001b[0m \u001b[31m│\u001b[0m\n",
            "\u001b[31m│\u001b[0m \u001b[33m│\u001b[0m  cfg = \u001b[1m{\u001b[0m                                                                 \u001b[33m│\u001b[0m \u001b[31m│\u001b[0m\n",
            "\u001b[31m│\u001b[0m \u001b[33m│\u001b[0m        \u001b[2m│   \u001b[0m\u001b[33m'type'\u001b[0m: \u001b[33m'http'\u001b[0m,                                               \u001b[33m│\u001b[0m \u001b[31m│\u001b[0m\n",
            "\u001b[31m│\u001b[0m \u001b[33m│\u001b[0m        \u001b[2m│   \u001b[0m\u001b[33m'config'\u001b[0m: \u001b[1m{\u001b[0m                                                   \u001b[33m│\u001b[0m \u001b[31m│\u001b[0m\n",
            "\u001b[31m│\u001b[0m \u001b[33m│\u001b[0m        \u001b[2m│   │   \u001b[0m\u001b[33m'url'\u001b[0m: \u001b[33m'https://evalstate-hf-mcp-server.hf.space/mcp'\u001b[0m     \u001b[33m│\u001b[0m \u001b[31m│\u001b[0m\n",
            "\u001b[31m│\u001b[0m \u001b[33m│\u001b[0m        \u001b[2m│   \u001b[0m\u001b[1m}\u001b[0m                                                             \u001b[33m│\u001b[0m \u001b[31m│\u001b[0m\n",
            "\u001b[31m│\u001b[0m \u001b[33m│\u001b[0m        \u001b[1m}\u001b[0m                                                                 \u001b[33m│\u001b[0m \u001b[31m│\u001b[0m\n",
            "\u001b[31m│\u001b[0m \u001b[33m│\u001b[0m self = \u001b[1m<\u001b[0m\u001b[1;95mhuggingface_hub.inference._mcp.agent.Agent\u001b[0m\u001b[39m object at \u001b[0m            \u001b[33m│\u001b[0m \u001b[31m│\u001b[0m\n",
            "\u001b[31m│\u001b[0m \u001b[33m│\u001b[0m        \u001b[94m0x11b1a162dbd0\u001b[0m\u001b[1m>\u001b[0m                                                   \u001b[33m│\u001b[0m \u001b[31m│\u001b[0m\n",
            "\u001b[31m│\u001b[0m \u001b[33m╰──────────────────────────────────────────────────────────────────────────╯\u001b[0m \u001b[31m│\u001b[0m\n",
            "\u001b[31m│\u001b[0m                                                                              \u001b[31m│\u001b[0m\n",
            "\u001b[31m│\u001b[0m \u001b[2;33m/usr/local/lib/python3.11/dist-packages/huggingface_hub/inference/_mcp/\u001b[0m\u001b[1;33mmcp_c\u001b[0m \u001b[31m│\u001b[0m\n",
            "\u001b[31m│\u001b[0m \u001b[1;33mlient.py\u001b[0m:\u001b[94m185\u001b[0m in \u001b[92madd_mcp_server\u001b[0m                                               \u001b[31m│\u001b[0m\n",
            "\u001b[31m│\u001b[0m                                                                              \u001b[31m│\u001b[0m\n",
            "\u001b[31m│\u001b[0m   \u001b[2m182 \u001b[0m\u001b[2m│   │   │   \u001b[0m\u001b[2m# Handle StreamableHTTP server\u001b[0m                             \u001b[31m│\u001b[0m\n",
            "\u001b[31m│\u001b[0m   \u001b[2m183 \u001b[0m\u001b[2m│   │   │   \u001b[0m\u001b[94mfrom\u001b[0m\u001b[90m \u001b[0m\u001b[4;96mmcp\u001b[0m\u001b[4;96m.\u001b[0m\u001b[4;96mclient\u001b[0m\u001b[4;96m.\u001b[0m\u001b[4;96mstreamable_http\u001b[0m\u001b[90m \u001b[0m\u001b[94mimport\u001b[0m streamablehttp_clie \u001b[31m│\u001b[0m\n",
            "\u001b[31m│\u001b[0m   \u001b[2m184 \u001b[0m\u001b[2m│   │   │   \u001b[0m                                                           \u001b[31m│\u001b[0m\n",
            "\u001b[31m│\u001b[0m \u001b[31m❱ \u001b[0m185 \u001b[2m│   │   │   \u001b[0mlogger.info(\u001b[33mf\u001b[0m\u001b[33m\"\u001b[0m\u001b[33mConnecting to StreamableHTTP MCP server at: \u001b[0m \u001b[31m│\u001b[0m\n",
            "\u001b[31m│\u001b[0m   \u001b[2m186 \u001b[0m\u001b[2m│   │   │   \u001b[0m                                                           \u001b[31m│\u001b[0m\n",
            "\u001b[31m│\u001b[0m   \u001b[2m187 \u001b[0m\u001b[2m│   │   │   \u001b[0mclient_kwargs = {\u001b[33m\"\u001b[0m\u001b[33murl\u001b[0m\u001b[33m\"\u001b[0m: params[\u001b[33m\"\u001b[0m\u001b[33murl\u001b[0m\u001b[33m\"\u001b[0m]}                     \u001b[31m│\u001b[0m\n",
            "\u001b[31m│\u001b[0m   \u001b[2m188 \u001b[0m\u001b[2m│   │   │   \u001b[0m\u001b[94mfor\u001b[0m key \u001b[95min\u001b[0m [\u001b[33m\"\u001b[0m\u001b[33mheaders\u001b[0m\u001b[33m\"\u001b[0m, \u001b[33m\"\u001b[0m\u001b[33mtimeout\u001b[0m\u001b[33m\"\u001b[0m, \u001b[33m\"\u001b[0m\u001b[33msse_read_timeout\u001b[0m\u001b[33m\"\u001b[0m, \u001b[33m\"\u001b[0m\u001b[33mter\u001b[0m \u001b[31m│\u001b[0m\n",
            "\u001b[31m│\u001b[0m                                                                              \u001b[31m│\u001b[0m\n",
            "\u001b[31m│\u001b[0m \u001b[33m╭─\u001b[0m\u001b[33m────────────────────────────────\u001b[0m\u001b[33m locals \u001b[0m\u001b[33m────────────────────────────────\u001b[0m\u001b[33m─╮\u001b[0m \u001b[31m│\u001b[0m\n",
            "\u001b[31m│\u001b[0m \u001b[33m│\u001b[0m mcp_types = \u001b[1m<\u001b[0m\u001b[1;95mmodule\u001b[0m\u001b[39m \u001b[0m\u001b[33m'mcp.types'\u001b[0m\u001b[39m from \u001b[0m                                    \u001b[33m│\u001b[0m \u001b[31m│\u001b[0m\n",
            "\u001b[31m│\u001b[0m \u001b[33m│\u001b[0m             \u001b[33m'/usr/local/lib/python3.11/dist-packages/mcp/types.py'\u001b[0m\u001b[1m>\u001b[0m      \u001b[33m│\u001b[0m \u001b[31m│\u001b[0m\n",
            "\u001b[31m│\u001b[0m \u001b[33m│\u001b[0m    params = \u001b[1m{\u001b[0m                                                            \u001b[33m│\u001b[0m \u001b[31m│\u001b[0m\n",
            "\u001b[31m│\u001b[0m \u001b[33m│\u001b[0m             \u001b[2m│   \u001b[0m\u001b[33m'config'\u001b[0m: \u001b[1m{\u001b[0m                                              \u001b[33m│\u001b[0m \u001b[31m│\u001b[0m\n",
            "\u001b[31m│\u001b[0m \u001b[33m│\u001b[0m             \u001b[2m│   │   \u001b[0m\u001b[33m'url'\u001b[0m:                                               \u001b[33m│\u001b[0m \u001b[31m│\u001b[0m\n",
            "\u001b[31m│\u001b[0m \u001b[33m│\u001b[0m             \u001b[33m'https://evalstate-hf-mcp-server.hf.space/mcp'\u001b[0m               \u001b[33m│\u001b[0m \u001b[31m│\u001b[0m\n",
            "\u001b[31m│\u001b[0m \u001b[33m│\u001b[0m             \u001b[2m│   \u001b[0m\u001b[1m}\u001b[0m                                                        \u001b[33m│\u001b[0m \u001b[31m│\u001b[0m\n",
            "\u001b[31m│\u001b[0m \u001b[33m│\u001b[0m             \u001b[1m}\u001b[0m                                                            \u001b[33m│\u001b[0m \u001b[31m│\u001b[0m\n",
            "\u001b[31m│\u001b[0m \u001b[33m│\u001b[0m      self = \u001b[1m<\u001b[0m\u001b[1;95mhuggingface_hub.inference._mcp.agent.Agent\u001b[0m\u001b[39m object at \u001b[0m       \u001b[33m│\u001b[0m \u001b[31m│\u001b[0m\n",
            "\u001b[31m│\u001b[0m \u001b[33m│\u001b[0m             \u001b[94m0x11b1a162dbd0\u001b[0m\u001b[1m>\u001b[0m                                              \u001b[33m│\u001b[0m \u001b[31m│\u001b[0m\n",
            "\u001b[31m│\u001b[0m \u001b[33m│\u001b[0m      type = \u001b[33m'http'\u001b[0m                                                       \u001b[33m│\u001b[0m \u001b[31m│\u001b[0m\n",
            "\u001b[31m│\u001b[0m \u001b[33m╰──────────────────────────────────────────────────────────────────────────╯\u001b[0m \u001b[31m│\u001b[0m\n",
            "\u001b[31m╰──────────────────────────────────────────────────────────────────────────────╯\u001b[0m\n",
            "\u001b[1;91mKeyError: \u001b[0m\u001b[32m'url'\u001b[0m\n"
          ]
        }
      ]
    },
    {
      "cell_type": "code",
      "source": [
        "!!pip install huggingface-hub mcp-client tiny-agents"
      ],
      "metadata": {
        "colab": {
          "base_uri": "https://localhost:8080/"
        },
        "id": "1xr5CrZCROi8",
        "outputId": "88127a66-416c-48fa-a2d7-d1626095166b"
      },
      "execution_count": 13,
      "outputs": [
        {
          "output_type": "execute_result",
          "data": {
            "text/plain": [
              "['Requirement already satisfied: huggingface-hub in /usr/local/lib/python3.11/dist-packages (0.34.3)',\n",
              " '\\x1b[31mERROR: Ignored the following versions that require a different python version: 0.0.0 Requires-Python >=3.13\\x1b[0m\\x1b[31m',\n",
              " '\\x1b[0m\\x1b[31mERROR: Could not find a version that satisfies the requirement mcp-client (from versions: none)\\x1b[0m\\x1b[31m',\n",
              " '\\x1b[0m\\x1b[31mERROR: No matching distribution found for mcp-client\\x1b[0m\\x1b[31m',\n",
              " '\\x1b[0m']"
            ]
          },
          "metadata": {},
          "execution_count": 13
        }
      ]
    },
    {
      "cell_type": "code",
      "source": [
        "from huggingface_hub import notebook_login\n",
        "notebook_login()  # يُفتح نافذة لتسجيل الدخول"
      ],
      "metadata": {
        "colab": {
          "base_uri": "https://localhost:8080/",
          "height": 17,
          "referenced_widgets": [
            "d853b986ecc9494dbdf56d085546bf3d",
            "6c4dab12cfd047398bf083023fb8e549",
            "e9c820cbf7ac4549b791308be0b04c23",
            "6fe48f4d1f8b49c59760620bc68c15a8",
            "174251514fa542c3b1684c0b191d0e78",
            "e3dfe2ebe0594c0f9dc379c492d734de",
            "7169b0e5fd2d4e3cb933e533d6733b2c",
            "91b5dd9a88384ecebb878cc6d1d27479",
            "68c473709e8d4f97b80af0dc51ada9d2",
            "a5217f0900b44c06af85cc50fa43a67f",
            "d76bcedaa5564494884362c0d4d6d79e",
            "9455af9eb92a4487978553fd8968eb8b",
            "4c5727a47a684e8680136844d636ed23",
            "a5cccf7fa1454f49b8a924d35236c9ac",
            "1a47f58f04ab44d6ada62402727c389f",
            "571297b3563e4174b992dee991d72cbe",
            "3ef0955c89f2432eaaa9e25cc805a672",
            "0be17c4ee7eb47e4ae5fd0cdd4db6241",
            "561dfaf89bad494a948c591e09f4ba88",
            "6b28b43226f04e6c9ca7e596b0d3a71d"
          ]
        },
        "id": "XMTRKR0OSWQ8",
        "outputId": "fea2d5aa-5bc7-44a9-b70f-2318f8eeff05"
      },
      "execution_count": 14,
      "outputs": [
        {
          "output_type": "display_data",
          "data": {
            "text/plain": [
              "VBox(children=(HTML(value='<center> <img\\nsrc=https://huggingface.co/front/assets/huggingface_logo-noborder.sv…"
            ],
            "application/vnd.jupyter.widget-view+json": {
              "version_major": 2,
              "version_minor": 0,
              "model_id": "d853b986ecc9494dbdf56d085546bf3d"
            }
          },
          "metadata": {}
        }
      ]
    },
    {
      "cell_type": "code",
      "source": [
        "!pip install \"huggingface_hub[mcp]>=0.32.0\""
      ],
      "metadata": {
        "colab": {
          "base_uri": "https://localhost:8080/"
        },
        "id": "HW8uq7OkSrEu",
        "outputId": "95144101-685e-49d0-9aae-12038881a6d6"
      },
      "execution_count": 16,
      "outputs": [
        {
          "output_type": "stream",
          "name": "stdout",
          "text": [
            "Requirement already satisfied: huggingface_hub>=0.32.0 in /usr/local/lib/python3.11/dist-packages (from huggingface_hub[mcp]>=0.32.0) (0.34.3)\n",
            "Requirement already satisfied: filelock in /usr/local/lib/python3.11/dist-packages (from huggingface_hub>=0.32.0->huggingface_hub[mcp]>=0.32.0) (3.18.0)\n",
            "Requirement already satisfied: fsspec>=2023.5.0 in /usr/local/lib/python3.11/dist-packages (from huggingface_hub>=0.32.0->huggingface_hub[mcp]>=0.32.0) (2025.3.0)\n",
            "Requirement already satisfied: packaging>=20.9 in /usr/local/lib/python3.11/dist-packages (from huggingface_hub>=0.32.0->huggingface_hub[mcp]>=0.32.0) (25.0)\n",
            "Requirement already satisfied: pyyaml>=5.1 in /usr/local/lib/python3.11/dist-packages (from huggingface_hub>=0.32.0->huggingface_hub[mcp]>=0.32.0) (6.0.2)\n",
            "Requirement already satisfied: requests in /usr/local/lib/python3.11/dist-packages (from huggingface_hub>=0.32.0->huggingface_hub[mcp]>=0.32.0) (2.32.3)\n",
            "Requirement already satisfied: tqdm>=4.42.1 in /usr/local/lib/python3.11/dist-packages (from huggingface_hub>=0.32.0->huggingface_hub[mcp]>=0.32.0) (4.67.1)\n",
            "Requirement already satisfied: typing-extensions>=3.7.4.3 in /usr/local/lib/python3.11/dist-packages (from huggingface_hub>=0.32.0->huggingface_hub[mcp]>=0.32.0) (4.14.1)\n",
            "Requirement already satisfied: hf-xet<2.0.0,>=1.1.3 in /usr/local/lib/python3.11/dist-packages (from huggingface_hub>=0.32.0->huggingface_hub[mcp]>=0.32.0) (1.1.7)\n",
            "Requirement already satisfied: mcp>=1.8.0 in /usr/local/lib/python3.11/dist-packages (from huggingface_hub[mcp]>=0.32.0) (1.12.4)\n",
            "Requirement already satisfied: typer in /usr/local/lib/python3.11/dist-packages (from huggingface_hub[mcp]>=0.32.0) (0.16.0)\n",
            "Requirement already satisfied: aiohttp in /usr/local/lib/python3.11/dist-packages (from huggingface_hub[mcp]>=0.32.0) (3.12.15)\n",
            "Requirement already satisfied: anyio>=4.5 in /usr/local/lib/python3.11/dist-packages (from mcp>=1.8.0->huggingface_hub[mcp]>=0.32.0) (4.10.0)\n",
            "Requirement already satisfied: httpx-sse>=0.4 in /usr/local/lib/python3.11/dist-packages (from mcp>=1.8.0->huggingface_hub[mcp]>=0.32.0) (0.4.1)\n",
            "Requirement already satisfied: httpx>=0.27 in /usr/local/lib/python3.11/dist-packages (from mcp>=1.8.0->huggingface_hub[mcp]>=0.32.0) (0.28.1)\n",
            "Requirement already satisfied: jsonschema>=4.20.0 in /usr/local/lib/python3.11/dist-packages (from mcp>=1.8.0->huggingface_hub[mcp]>=0.32.0) (4.25.0)\n",
            "Requirement already satisfied: pydantic-settings>=2.5.2 in /usr/local/lib/python3.11/dist-packages (from mcp>=1.8.0->huggingface_hub[mcp]>=0.32.0) (2.10.1)\n",
            "Requirement already satisfied: pydantic<3.0.0,>=2.8.0 in /usr/local/lib/python3.11/dist-packages (from mcp>=1.8.0->huggingface_hub[mcp]>=0.32.0) (2.11.7)\n",
            "Requirement already satisfied: python-multipart>=0.0.9 in /usr/local/lib/python3.11/dist-packages (from mcp>=1.8.0->huggingface_hub[mcp]>=0.32.0) (0.0.20)\n",
            "Requirement already satisfied: sse-starlette>=1.6.1 in /usr/local/lib/python3.11/dist-packages (from mcp>=1.8.0->huggingface_hub[mcp]>=0.32.0) (3.0.2)\n",
            "Requirement already satisfied: starlette>=0.27 in /usr/local/lib/python3.11/dist-packages (from mcp>=1.8.0->huggingface_hub[mcp]>=0.32.0) (0.47.2)\n",
            "Requirement already satisfied: uvicorn>=0.23.1 in /usr/local/lib/python3.11/dist-packages (from mcp>=1.8.0->huggingface_hub[mcp]>=0.32.0) (0.35.0)\n",
            "Requirement already satisfied: aiohappyeyeballs>=2.5.0 in /usr/local/lib/python3.11/dist-packages (from aiohttp->huggingface_hub[mcp]>=0.32.0) (2.6.1)\n",
            "Requirement already satisfied: aiosignal>=1.4.0 in /usr/local/lib/python3.11/dist-packages (from aiohttp->huggingface_hub[mcp]>=0.32.0) (1.4.0)\n",
            "Requirement already satisfied: attrs>=17.3.0 in /usr/local/lib/python3.11/dist-packages (from aiohttp->huggingface_hub[mcp]>=0.32.0) (25.3.0)\n",
            "Requirement already satisfied: frozenlist>=1.1.1 in /usr/local/lib/python3.11/dist-packages (from aiohttp->huggingface_hub[mcp]>=0.32.0) (1.7.0)\n",
            "Requirement already satisfied: multidict<7.0,>=4.5 in /usr/local/lib/python3.11/dist-packages (from aiohttp->huggingface_hub[mcp]>=0.32.0) (6.6.3)\n",
            "Requirement already satisfied: propcache>=0.2.0 in /usr/local/lib/python3.11/dist-packages (from aiohttp->huggingface_hub[mcp]>=0.32.0) (0.3.2)\n",
            "Requirement already satisfied: yarl<2.0,>=1.17.0 in /usr/local/lib/python3.11/dist-packages (from aiohttp->huggingface_hub[mcp]>=0.32.0) (1.20.1)\n",
            "Requirement already satisfied: charset-normalizer<4,>=2 in /usr/local/lib/python3.11/dist-packages (from requests->huggingface_hub>=0.32.0->huggingface_hub[mcp]>=0.32.0) (3.4.2)\n",
            "Requirement already satisfied: idna<4,>=2.5 in /usr/local/lib/python3.11/dist-packages (from requests->huggingface_hub>=0.32.0->huggingface_hub[mcp]>=0.32.0) (3.10)\n",
            "Requirement already satisfied: urllib3<3,>=1.21.1 in /usr/local/lib/python3.11/dist-packages (from requests->huggingface_hub>=0.32.0->huggingface_hub[mcp]>=0.32.0) (2.5.0)\n",
            "Requirement already satisfied: certifi>=2017.4.17 in /usr/local/lib/python3.11/dist-packages (from requests->huggingface_hub>=0.32.0->huggingface_hub[mcp]>=0.32.0) (2025.8.3)\n",
            "Requirement already satisfied: click>=8.0.0 in /usr/local/lib/python3.11/dist-packages (from typer->huggingface_hub[mcp]>=0.32.0) (8.2.1)\n",
            "Requirement already satisfied: shellingham>=1.3.0 in /usr/local/lib/python3.11/dist-packages (from typer->huggingface_hub[mcp]>=0.32.0) (1.5.4)\n",
            "Requirement already satisfied: rich>=10.11.0 in /usr/local/lib/python3.11/dist-packages (from typer->huggingface_hub[mcp]>=0.32.0) (13.9.4)\n",
            "Requirement already satisfied: sniffio>=1.1 in /usr/local/lib/python3.11/dist-packages (from anyio>=4.5->mcp>=1.8.0->huggingface_hub[mcp]>=0.32.0) (1.3.1)\n",
            "Requirement already satisfied: httpcore==1.* in /usr/local/lib/python3.11/dist-packages (from httpx>=0.27->mcp>=1.8.0->huggingface_hub[mcp]>=0.32.0) (1.0.9)\n",
            "Requirement already satisfied: h11>=0.16 in /usr/local/lib/python3.11/dist-packages (from httpcore==1.*->httpx>=0.27->mcp>=1.8.0->huggingface_hub[mcp]>=0.32.0) (0.16.0)\n",
            "Requirement already satisfied: jsonschema-specifications>=2023.03.6 in /usr/local/lib/python3.11/dist-packages (from jsonschema>=4.20.0->mcp>=1.8.0->huggingface_hub[mcp]>=0.32.0) (2025.4.1)\n",
            "Requirement already satisfied: referencing>=0.28.4 in /usr/local/lib/python3.11/dist-packages (from jsonschema>=4.20.0->mcp>=1.8.0->huggingface_hub[mcp]>=0.32.0) (0.36.2)\n",
            "Requirement already satisfied: rpds-py>=0.7.1 in /usr/local/lib/python3.11/dist-packages (from jsonschema>=4.20.0->mcp>=1.8.0->huggingface_hub[mcp]>=0.32.0) (0.26.0)\n",
            "Requirement already satisfied: annotated-types>=0.6.0 in /usr/local/lib/python3.11/dist-packages (from pydantic<3.0.0,>=2.8.0->mcp>=1.8.0->huggingface_hub[mcp]>=0.32.0) (0.7.0)\n",
            "Requirement already satisfied: pydantic-core==2.33.2 in /usr/local/lib/python3.11/dist-packages (from pydantic<3.0.0,>=2.8.0->mcp>=1.8.0->huggingface_hub[mcp]>=0.32.0) (2.33.2)\n",
            "Requirement already satisfied: typing-inspection>=0.4.0 in /usr/local/lib/python3.11/dist-packages (from pydantic<3.0.0,>=2.8.0->mcp>=1.8.0->huggingface_hub[mcp]>=0.32.0) (0.4.1)\n",
            "Requirement already satisfied: python-dotenv>=0.21.0 in /usr/local/lib/python3.11/dist-packages (from pydantic-settings>=2.5.2->mcp>=1.8.0->huggingface_hub[mcp]>=0.32.0) (1.1.1)\n",
            "Requirement already satisfied: markdown-it-py>=2.2.0 in /usr/local/lib/python3.11/dist-packages (from rich>=10.11.0->typer->huggingface_hub[mcp]>=0.32.0) (3.0.0)\n",
            "Requirement already satisfied: pygments<3.0.0,>=2.13.0 in /usr/local/lib/python3.11/dist-packages (from rich>=10.11.0->typer->huggingface_hub[mcp]>=0.32.0) (2.19.2)\n",
            "Requirement already satisfied: mdurl~=0.1 in /usr/local/lib/python3.11/dist-packages (from markdown-it-py>=2.2.0->rich>=10.11.0->typer->huggingface_hub[mcp]>=0.32.0) (0.1.2)\n"
          ]
        }
      ]
    },
    {
      "cell_type": "code",
      "source": [
        "from tiny_agents import Agent\n",
        "\n",
        "# تعريف وكيل بسيط\n",
        "agent = Agent(\n",
        "    model=\"gpt2\",  # أو أي نموذج آخر مثل \"llama2\"\n",
        "    tools=[\"search\", \"python-code-execution\"]  # الأدوات المتاحة\n",
        ")\n",
        "\n",
        "# تشغيل الوكيل\n",
        "response = agent.run(\"ما هو الطقس اليوم في باريس؟\")\n",
        "print(response)"
      ],
      "metadata": {
        "colab": {
          "base_uri": "https://localhost:8080/",
          "height": 384
        },
        "id": "9bO6hsocSijm",
        "outputId": "d5a32e45-6144-4632-b804-dc5f4207071d"
      },
      "execution_count": 19,
      "outputs": [
        {
          "output_type": "error",
          "ename": "ModuleNotFoundError",
          "evalue": "No module named 'tiny_agents'",
          "traceback": [
            "\u001b[0;31m---------------------------------------------------------------------------\u001b[0m",
            "\u001b[0;31mModuleNotFoundError\u001b[0m                       Traceback (most recent call last)",
            "\u001b[0;32m/tmp/ipython-input-2463011369.py\u001b[0m in \u001b[0;36m<cell line: 0>\u001b[0;34m()\u001b[0m\n\u001b[0;32m----> 1\u001b[0;31m \u001b[0;32mfrom\u001b[0m \u001b[0mtiny_agents\u001b[0m \u001b[0;32mimport\u001b[0m \u001b[0mAgent\u001b[0m\u001b[0;34m\u001b[0m\u001b[0;34m\u001b[0m\u001b[0m\n\u001b[0m\u001b[1;32m      2\u001b[0m \u001b[0;34m\u001b[0m\u001b[0m\n\u001b[1;32m      3\u001b[0m \u001b[0;31m# تعريف وكيل بسيط\u001b[0m\u001b[0;34m\u001b[0m\u001b[0;34m\u001b[0m\u001b[0m\n\u001b[1;32m      4\u001b[0m agent = Agent(\n\u001b[1;32m      5\u001b[0m     \u001b[0mmodel\u001b[0m\u001b[0;34m=\u001b[0m\u001b[0;34m\"gpt2\"\u001b[0m\u001b[0;34m,\u001b[0m  \u001b[0;31m# أو أي نموذج آخر مثل \"llama2\"\u001b[0m\u001b[0;34m\u001b[0m\u001b[0;34m\u001b[0m\u001b[0m\n",
            "\u001b[0;31mModuleNotFoundError\u001b[0m: No module named 'tiny_agents'",
            "",
            "\u001b[0;31m---------------------------------------------------------------------------\u001b[0;32m\nNOTE: If your import is failing due to a missing package, you can\nmanually install dependencies using either !pip or !apt.\n\nTo view examples of installing some common dependencies, click the\n\"Open Examples\" button below.\n\u001b[0;31m---------------------------------------------------------------------------\u001b[0m\n"
          ],
          "errorDetails": {
            "actions": [
              {
                "action": "open_url",
                "actionText": "Open Examples",
                "url": "/notebooks/snippets/importing_libraries.ipynb"
              }
            ]
          }
        }
      ]
    },
    {
      "cell_type": "code",
      "source": [],
      "metadata": {
        "id": "1aD1DFCdSjGM"
      },
      "execution_count": null,
      "outputs": []
    },
    {
      "cell_type": "code",
      "metadata": {
        "colab": {
          "base_uri": "https://localhost:8080/"
        },
        "id": "e5b6e27b",
        "outputId": "79d3f6ec-36f8-4e5f-f1bb-0a85bfa675c1"
      },
      "source": [
        "!pip install tinyagent"
      ],
      "execution_count": 18,
      "outputs": [
        {
          "output_type": "stream",
          "name": "stdout",
          "text": [
            "Requirement already satisfied: tinyagent in /usr/local/lib/python3.11/dist-packages (0.2.4)\n",
            "Requirement already satisfied: pydantic>=2.7.1 in /usr/local/lib/python3.11/dist-packages (from tinyagent) (2.11.7)\n",
            "Requirement already satisfied: requests>=2.31.0 in /usr/local/lib/python3.11/dist-packages (from tinyagent) (2.32.3)\n",
            "Requirement already satisfied: annotated-types>=0.6.0 in /usr/local/lib/python3.11/dist-packages (from pydantic>=2.7.1->tinyagent) (0.7.0)\n",
            "Requirement already satisfied: pydantic-core==2.33.2 in /usr/local/lib/python3.11/dist-packages (from pydantic>=2.7.1->tinyagent) (2.33.2)\n",
            "Requirement already satisfied: typing-extensions>=4.12.2 in /usr/local/lib/python3.11/dist-packages (from pydantic>=2.7.1->tinyagent) (4.14.1)\n",
            "Requirement already satisfied: typing-inspection>=0.4.0 in /usr/local/lib/python3.11/dist-packages (from pydantic>=2.7.1->tinyagent) (0.4.1)\n",
            "Requirement already satisfied: charset-normalizer<4,>=2 in /usr/local/lib/python3.11/dist-packages (from requests>=2.31.0->tinyagent) (3.4.2)\n",
            "Requirement already satisfied: idna<4,>=2.5 in /usr/local/lib/python3.11/dist-packages (from requests>=2.31.0->tinyagent) (3.10)\n",
            "Requirement already satisfied: urllib3<3,>=1.21.1 in /usr/local/lib/python3.11/dist-packages (from requests>=2.31.0->tinyagent) (2.5.0)\n",
            "Requirement already satisfied: certifi>=2017.4.17 in /usr/local/lib/python3.11/dist-packages (from requests>=2.31.0->tinyagent) (2025.8.3)\n"
          ]
        }
      ]
    },
    {
      "cell_type": "code",
      "source": [
        "!mcp-server start --port 8000"
      ],
      "metadata": {
        "colab": {
          "base_uri": "https://localhost:8080/"
        },
        "id": "L9AXMlxQS872",
        "outputId": "37e8da48-e2f9-42ed-925e-9d8f544c91d5"
      },
      "execution_count": 20,
      "outputs": [
        {
          "output_type": "stream",
          "name": "stdout",
          "text": [
            "/bin/bash: line 1: mcp-server: command not found\n"
          ]
        }
      ]
    },
    {
      "cell_type": "code",
      "source": [
        "!tiny-agents run ./my-agent"
      ],
      "metadata": {
        "colab": {
          "base_uri": "https://localhost:8080/"
        },
        "id": "f0xNw0hWS9XM",
        "outputId": "de33f8c0-c4b2-482a-8fe9-37d3f4a20ffe"
      },
      "execution_count": 22,
      "outputs": [
        {
          "output_type": "stream",
          "name": "stdout",
          "text": [
            "\n",
            "\u001b[1;31mAn unexpected error occurred: \u001b[0m\u001b[1;31m'url'\u001b[0m\n",
            "\u001b[1;31mTraceback \u001b[0m\u001b[1;31m(\u001b[0m\u001b[1;31mmost recent call last\u001b[0m\u001b[1;31m)\u001b[0m\u001b[1;31m:\u001b[0m\n",
            "\u001b[1;31m  File \u001b[0m\n",
            "\u001b[1;31m\"/usr/local/lib/python3.11/dist-packages/huggingface_hub/inference/_mcp/cli.py\"\u001b[0m\u001b[1;31m,\u001b[0m\n",
            "\u001b[1;31mline \u001b[0m\u001b[1;31m152\u001b[0m\u001b[1;31m, in run_agent\u001b[0m\n",
            "\u001b[1;31m    await \u001b[0m\u001b[1;31magent.load_tools\u001b[0m\u001b[1;31m(\u001b[0m\u001b[1;31m)\u001b[0m\n",
            "\u001b[1;31m  File \u001b[0m\n",
            "\u001b[1;31m\"/usr/local/lib/python3.11/dist-packages/huggingface_hub/inference/_mcp/agent.py\u001b[0m\n",
            "\u001b[1;31m\"\u001b[0m\u001b[1;31m, line \u001b[0m\u001b[1;31m58\u001b[0m\u001b[1;31m, in load_tools\u001b[0m\n",
            "\u001b[1;31m    await \u001b[0m\u001b[1;31mself.add_mcp_server\u001b[0m\u001b[1;31m(\u001b[0m\u001b[1;31m**cfg\u001b[0m\u001b[1;31m)\u001b[0m\n",
            "\u001b[1;31m  File \u001b[0m\n",
            "\u001b[1;31m\"/usr/local/lib/python3.11/dist-packages/huggingface_hub/inference/_mcp/mcp_clie\u001b[0m\n",
            "\u001b[1;31mnt.py\"\u001b[0m\u001b[1;31m, line \u001b[0m\u001b[1;31m185\u001b[0m\u001b[1;31m, in add_mcp_server\u001b[0m\n",
            "\u001b[1;31m    \u001b[0m\u001b[1;31mlogger.info\u001b[0m\u001b[1;31m(\u001b[0m\u001b[1;31mf\"Connecting to StreamableHTTP MCP server at: \u001b[0m\u001b[1;31m{\u001b[0m\u001b[1;31mparams\u001b[0m\u001b[1;31m[\u001b[0m\u001b[1;31m'url'\u001b[0m\u001b[1;31m]\u001b[0m\u001b[1;31m}\u001b[0m\u001b[1;31m\"\u001b[0m\u001b[1;31m)\u001b[0m\n",
            "\u001b[1;31m                                                               ~~~~~~^^^^^^^\u001b[0m\n",
            "\u001b[1;31mKeyError: \u001b[0m\u001b[1;31m'url'\u001b[0m\n",
            "\n",
            "\n",
            "\u001b[1;31mAn unexpected error occurred: \u001b[0m\u001b[1;31m'url'\u001b[0m\n",
            "\u001b[31m╭─\u001b[0m\u001b[31m────────────────────\u001b[0m\u001b[31m \u001b[0m\u001b[1;31mTraceback \u001b[0m\u001b[1;2;31m(most recent call last)\u001b[0m\u001b[31m \u001b[0m\u001b[31m─────────────────────\u001b[0m\u001b[31m─╮\u001b[0m\n",
            "\u001b[31m│\u001b[0m \u001b[2;33m/usr/local/lib/python3.11/dist-packages/huggingface_hub/inference/_mcp/\u001b[0m\u001b[1;33mcli.p\u001b[0m \u001b[31m│\u001b[0m\n",
            "\u001b[31m│\u001b[0m \u001b[1;33my\u001b[0m:\u001b[94m243\u001b[0m in \u001b[92mrun\u001b[0m                                                                 \u001b[31m│\u001b[0m\n",
            "\u001b[31m│\u001b[0m                                                                              \u001b[31m│\u001b[0m\n",
            "\u001b[31m│\u001b[0m   \u001b[2m240 \u001b[0m\u001b[2m│   │   \u001b[0m\u001b[94mraise\u001b[0m typer.Exit(code=\u001b[94m130\u001b[0m)                                     \u001b[31m│\u001b[0m\n",
            "\u001b[31m│\u001b[0m   \u001b[2m241 \u001b[0m\u001b[2m│   \u001b[0m\u001b[94mexcept\u001b[0m \u001b[96mException\u001b[0m \u001b[94mas\u001b[0m e:                                             \u001b[31m│\u001b[0m\n",
            "\u001b[31m│\u001b[0m   \u001b[2m242 \u001b[0m\u001b[2m│   │   \u001b[0m\u001b[96mprint\u001b[0m(\u001b[33mf\u001b[0m\u001b[33m\"\u001b[0m\u001b[33m\\n\u001b[0m\u001b[33m[bold red]An unexpected error occurred: \u001b[0m\u001b[33m{\u001b[0me\u001b[33m}\u001b[0m\u001b[33m[/bold re\u001b[0m \u001b[31m│\u001b[0m\n",
            "\u001b[31m│\u001b[0m \u001b[31m❱ \u001b[0m243 \u001b[2m│   │   \u001b[0m\u001b[1;4;94mraise\u001b[0m\u001b[1;4m e\u001b[0m                                                        \u001b[31m│\u001b[0m\n",
            "\u001b[31m│\u001b[0m   \u001b[2m244 \u001b[0m                                                                       \u001b[31m│\u001b[0m\n",
            "\u001b[31m│\u001b[0m   \u001b[2m245 \u001b[0m                                                                       \u001b[31m│\u001b[0m\n",
            "\u001b[31m│\u001b[0m   \u001b[2m246 \u001b[0m\u001b[94mif\u001b[0m \u001b[91m__name__\u001b[0m == \u001b[33m\"\u001b[0m\u001b[33m__main__\u001b[0m\u001b[33m\"\u001b[0m:                                             \u001b[31m│\u001b[0m\n",
            "\u001b[31m│\u001b[0m                                                                              \u001b[31m│\u001b[0m\n",
            "\u001b[31m│\u001b[0m \u001b[33m╭─\u001b[0m\u001b[33m─────\u001b[0m\u001b[33m locals \u001b[0m\u001b[33m──────\u001b[0m\u001b[33m─╮\u001b[0m                                                      \u001b[31m│\u001b[0m\n",
            "\u001b[31m│\u001b[0m \u001b[33m│\u001b[0m path = \u001b[33m'./my-agent'\u001b[0m \u001b[33m│\u001b[0m                                                      \u001b[31m│\u001b[0m\n",
            "\u001b[31m│\u001b[0m \u001b[33m╰─────────────────────╯\u001b[0m                                                      \u001b[31m│\u001b[0m\n",
            "\u001b[31m│\u001b[0m                                                                              \u001b[31m│\u001b[0m\n",
            "\u001b[31m│\u001b[0m \u001b[2;33m/usr/local/lib/python3.11/dist-packages/huggingface_hub/inference/_mcp/\u001b[0m\u001b[1;33mcli.p\u001b[0m \u001b[31m│\u001b[0m\n",
            "\u001b[31m│\u001b[0m \u001b[1;33my\u001b[0m:\u001b[94m237\u001b[0m in \u001b[92mrun\u001b[0m                                                                 \u001b[31m│\u001b[0m\n",
            "\u001b[31m│\u001b[0m                                                                              \u001b[31m│\u001b[0m\n",
            "\u001b[31m│\u001b[0m   \u001b[2m234 \u001b[0m\u001b[2m│   \u001b[0m),                                                                 \u001b[31m│\u001b[0m\n",
            "\u001b[31m│\u001b[0m   \u001b[2m235 \u001b[0m):                                                                     \u001b[31m│\u001b[0m\n",
            "\u001b[31m│\u001b[0m   \u001b[2m236 \u001b[0m\u001b[2m│   \u001b[0m\u001b[94mtry\u001b[0m:                                                               \u001b[31m│\u001b[0m\n",
            "\u001b[31m│\u001b[0m \u001b[31m❱ \u001b[0m237 \u001b[2m│   │   \u001b[0masyncio.run(run_agent(path))                                   \u001b[31m│\u001b[0m\n",
            "\u001b[31m│\u001b[0m   \u001b[2m238 \u001b[0m\u001b[2m│   \u001b[0m\u001b[94mexcept\u001b[0m \u001b[96mKeyboardInterrupt\u001b[0m:                                          \u001b[31m│\u001b[0m\n",
            "\u001b[31m│\u001b[0m   \u001b[2m239 \u001b[0m\u001b[2m│   │   \u001b[0m\u001b[96mprint\u001b[0m(\u001b[33m\"\u001b[0m\u001b[33m\\n\u001b[0m\u001b[33m[red]Application terminated by KeyboardInterrupt.[/re\u001b[0m \u001b[31m│\u001b[0m\n",
            "\u001b[31m│\u001b[0m   \u001b[2m240 \u001b[0m\u001b[2m│   │   \u001b[0m\u001b[94mraise\u001b[0m typer.Exit(code=\u001b[94m130\u001b[0m)                                     \u001b[31m│\u001b[0m\n",
            "\u001b[31m│\u001b[0m                                                                              \u001b[31m│\u001b[0m\n",
            "\u001b[31m│\u001b[0m \u001b[33m╭─\u001b[0m\u001b[33m─────\u001b[0m\u001b[33m locals \u001b[0m\u001b[33m──────\u001b[0m\u001b[33m─╮\u001b[0m                                                      \u001b[31m│\u001b[0m\n",
            "\u001b[31m│\u001b[0m \u001b[33m│\u001b[0m path = \u001b[33m'./my-agent'\u001b[0m \u001b[33m│\u001b[0m                                                      \u001b[31m│\u001b[0m\n",
            "\u001b[31m│\u001b[0m \u001b[33m╰─────────────────────╯\u001b[0m                                                      \u001b[31m│\u001b[0m\n",
            "\u001b[31m│\u001b[0m                                                                              \u001b[31m│\u001b[0m\n",
            "\u001b[31m│\u001b[0m \u001b[2;33m/usr/lib/python3.11/asyncio/\u001b[0m\u001b[1;33mrunners.py\u001b[0m:\u001b[94m190\u001b[0m in \u001b[92mrun\u001b[0m                            \u001b[31m│\u001b[0m\n",
            "\u001b[31m│\u001b[0m                                                                              \u001b[31m│\u001b[0m\n",
            "\u001b[31m│\u001b[0m   \u001b[2m187 \u001b[0m\u001b[2m│   │   │   \u001b[0m\u001b[33m\"\u001b[0m\u001b[33masyncio.run() cannot be called from a running event loop\u001b[0m\u001b[33m\"\u001b[0m \u001b[31m│\u001b[0m\n",
            "\u001b[31m│\u001b[0m   \u001b[2m188 \u001b[0m\u001b[2m│   \u001b[0m                                                                   \u001b[31m│\u001b[0m\n",
            "\u001b[31m│\u001b[0m   \u001b[2m189 \u001b[0m\u001b[2m│   \u001b[0m\u001b[94mwith\u001b[0m Runner(debug=debug) \u001b[94mas\u001b[0m runner:                                \u001b[31m│\u001b[0m\n",
            "\u001b[31m│\u001b[0m \u001b[31m❱ \u001b[0m190 \u001b[2m│   │   \u001b[0m\u001b[94mreturn\u001b[0m \u001b[1;4mrunner.run(main)\u001b[0m                                        \u001b[31m│\u001b[0m\n",
            "\u001b[31m│\u001b[0m   \u001b[2m191 \u001b[0m                                                                       \u001b[31m│\u001b[0m\n",
            "\u001b[31m│\u001b[0m   \u001b[2m192 \u001b[0m                                                                       \u001b[31m│\u001b[0m\n",
            "\u001b[31m│\u001b[0m   \u001b[2m193 \u001b[0m\u001b[94mdef\u001b[0m\u001b[90m \u001b[0m\u001b[92m_cancel_all_tasks\u001b[0m(loop):                                           \u001b[31m│\u001b[0m\n",
            "\u001b[31m│\u001b[0m                                                                              \u001b[31m│\u001b[0m\n",
            "\u001b[31m│\u001b[0m \u001b[33m╭─\u001b[0m\u001b[33m────────────────────────\u001b[0m\u001b[33m locals \u001b[0m\u001b[33m─────────────────────────\u001b[0m\u001b[33m─╮\u001b[0m                \u001b[31m│\u001b[0m\n",
            "\u001b[31m│\u001b[0m \u001b[33m│\u001b[0m  debug = \u001b[94mNone\u001b[0m                                             \u001b[33m│\u001b[0m                \u001b[31m│\u001b[0m\n",
            "\u001b[31m│\u001b[0m \u001b[33m│\u001b[0m   main = \u001b[1m<\u001b[0m\u001b[1;95mcoroutine\u001b[0m\u001b[39m object run_agent at \u001b[0m\u001b[94m0x122edcc0\u001b[0m\u001b[1m>\u001b[0m       \u001b[33m│\u001b[0m                \u001b[31m│\u001b[0m\n",
            "\u001b[31m│\u001b[0m \u001b[33m│\u001b[0m runner = \u001b[1m<\u001b[0m\u001b[1;95masyncio.runners.Runner\u001b[0m\u001b[39m object at \u001b[0m\u001b[94m0xe74901d1250\u001b[0m\u001b[1m>\u001b[0m \u001b[33m│\u001b[0m                \u001b[31m│\u001b[0m\n",
            "\u001b[31m│\u001b[0m \u001b[33m╰───────────────────────────────────────────────────────────╯\u001b[0m                \u001b[31m│\u001b[0m\n",
            "\u001b[31m│\u001b[0m                                                                              \u001b[31m│\u001b[0m\n",
            "\u001b[31m│\u001b[0m \u001b[2;33m/usr/lib/python3.11/asyncio/\u001b[0m\u001b[1;33mrunners.py\u001b[0m:\u001b[94m118\u001b[0m in \u001b[92mrun\u001b[0m                            \u001b[31m│\u001b[0m\n",
            "\u001b[31m│\u001b[0m                                                                              \u001b[31m│\u001b[0m\n",
            "\u001b[31m│\u001b[0m   \u001b[2m115 \u001b[0m\u001b[2m│   │   \u001b[0m                                                               \u001b[31m│\u001b[0m\n",
            "\u001b[31m│\u001b[0m   \u001b[2m116 \u001b[0m\u001b[2m│   │   \u001b[0m\u001b[96mself\u001b[0m._interrupt_count = \u001b[94m0\u001b[0m                                      \u001b[31m│\u001b[0m\n",
            "\u001b[31m│\u001b[0m   \u001b[2m117 \u001b[0m\u001b[2m│   │   \u001b[0m\u001b[94mtry\u001b[0m:                                                           \u001b[31m│\u001b[0m\n",
            "\u001b[31m│\u001b[0m \u001b[31m❱ \u001b[0m118 \u001b[2m│   │   │   \u001b[0m\u001b[94mreturn\u001b[0m \u001b[96mself\u001b[0m._loop.run_until_complete(task)                 \u001b[31m│\u001b[0m\n",
            "\u001b[31m│\u001b[0m   \u001b[2m119 \u001b[0m\u001b[2m│   │   \u001b[0m\u001b[94mexcept\u001b[0m exceptions.CancelledError:                              \u001b[31m│\u001b[0m\n",
            "\u001b[31m│\u001b[0m   \u001b[2m120 \u001b[0m\u001b[2m│   │   │   \u001b[0m\u001b[94mif\u001b[0m \u001b[96mself\u001b[0m._interrupt_count > \u001b[94m0\u001b[0m:                              \u001b[31m│\u001b[0m\n",
            "\u001b[31m│\u001b[0m   \u001b[2m121 \u001b[0m\u001b[2m│   │   │   │   \u001b[0muncancel = \u001b[96mgetattr\u001b[0m(task, \u001b[33m\"\u001b[0m\u001b[33muncancel\u001b[0m\u001b[33m\"\u001b[0m, \u001b[94mNone\u001b[0m)             \u001b[31m│\u001b[0m\n",
            "\u001b[31m│\u001b[0m                                                                              \u001b[31m│\u001b[0m\n",
            "\u001b[31m│\u001b[0m \u001b[33m╭─\u001b[0m\u001b[33m────────────────────────────────\u001b[0m\u001b[33m locals \u001b[0m\u001b[33m────────────────────────────────\u001b[0m\u001b[33m─╮\u001b[0m \u001b[31m│\u001b[0m\n",
            "\u001b[31m│\u001b[0m \u001b[33m│\u001b[0m        context = \u001b[1m<\u001b[0m\u001b[1;95m_contextvars.Context\u001b[0m\u001b[39m object at \u001b[0m\u001b[94m0xe748f3ed480\u001b[0m\u001b[1m>\u001b[0m          \u001b[33m│\u001b[0m \u001b[31m│\u001b[0m\n",
            "\u001b[31m│\u001b[0m \u001b[33m│\u001b[0m           coro = \u001b[1m<\u001b[0m\u001b[1;95mcoroutine\u001b[0m\u001b[39m object run_agent at \u001b[0m\u001b[94m0x122edcc0\u001b[0m\u001b[1m>\u001b[0m              \u001b[33m│\u001b[0m \u001b[31m│\u001b[0m\n",
            "\u001b[31m│\u001b[0m \u001b[33m│\u001b[0m           self = \u001b[1m<\u001b[0m\u001b[1;95masyncio.runners.Runner\u001b[0m\u001b[39m object at \u001b[0m\u001b[94m0xe74901d1250\u001b[0m\u001b[1m>\u001b[0m        \u001b[33m│\u001b[0m \u001b[31m│\u001b[0m\n",
            "\u001b[31m│\u001b[0m \u001b[33m│\u001b[0m sigint_handler = \u001b[1;35mfunctools.partial\u001b[0m\u001b[1m(\u001b[0m\u001b[1m<\u001b[0m\u001b[1;95mbound\u001b[0m\u001b[39m method Runner._on_sigint of \u001b[0m   \u001b[33m│\u001b[0m \u001b[31m│\u001b[0m\n",
            "\u001b[31m│\u001b[0m \u001b[33m│\u001b[0m                  \u001b[39m<asyncio.runners.Runner object at \u001b[0m\u001b[94m0xe74901d1250\u001b[0m\u001b[39m>>, \u001b[0m     \u001b[33m│\u001b[0m \u001b[31m│\u001b[0m\n",
            "\u001b[31m│\u001b[0m \u001b[33m│\u001b[0m                  \u001b[33mmain_task\u001b[0m\u001b[39m=<Task finished \u001b[0m\u001b[33mname\u001b[0m\u001b[39m=\u001b[0m\u001b[33m'Task-1'\u001b[0m\u001b[39m \u001b[0m                 \u001b[33m│\u001b[0m \u001b[31m│\u001b[0m\n",
            "\u001b[31m│\u001b[0m \u001b[33m│\u001b[0m                  \u001b[33mcoro\u001b[0m\u001b[39m=<\u001b[0m\u001b[1;35mrun_agent\u001b[0m\u001b[1;39m(\u001b[0m\u001b[1;39m)\u001b[0m\u001b[39m done, defined at \u001b[0m                     \u001b[33m│\u001b[0m \u001b[31m│\u001b[0m\n",
            "\u001b[31m│\u001b[0m \u001b[33m│\u001b[0m                  \u001b[35m/usr/local/lib/python3.11/dist-packages/huggingface_hu…\u001b[0m \u001b[33m│\u001b[0m \u001b[31m│\u001b[0m\n",
            "\u001b[31m│\u001b[0m \u001b[33m│\u001b[0m                  \u001b[33mexception\u001b[0m\u001b[39m=\u001b[0m\u001b[1;35mKeyError\u001b[0m\u001b[1;39m(\u001b[0m\u001b[33m'url'\u001b[0m\u001b[1;39m)\u001b[0m\u001b[1m>\u001b[0m\u001b[1m)\u001b[0m                             \u001b[33m│\u001b[0m \u001b[31m│\u001b[0m\n",
            "\u001b[31m│\u001b[0m \u001b[33m│\u001b[0m           task = \u001b[1m<\u001b[0m\u001b[1;95mTask\u001b[0m\u001b[39m finished \u001b[0m\u001b[33mname\u001b[0m\u001b[39m=\u001b[0m\u001b[33m'Task-1'\u001b[0m\u001b[39m \u001b[0m\u001b[33mcoro\u001b[0m\u001b[39m=<\u001b[0m\u001b[1;35mrun_agent\u001b[0m\u001b[1;39m(\u001b[0m\u001b[1;39m)\u001b[0m\u001b[39m done, \u001b[0m   \u001b[33m│\u001b[0m \u001b[31m│\u001b[0m\n",
            "\u001b[31m│\u001b[0m \u001b[33m│\u001b[0m                  \u001b[39mdefined at \u001b[0m                                             \u001b[33m│\u001b[0m \u001b[31m│\u001b[0m\n",
            "\u001b[31m│\u001b[0m \u001b[33m│\u001b[0m                  \u001b[35m/usr/local/lib/python3.11/dist-packages/huggingface_hu…\u001b[0m \u001b[33m│\u001b[0m \u001b[31m│\u001b[0m\n",
            "\u001b[31m│\u001b[0m \u001b[33m│\u001b[0m                  \u001b[33mexception\u001b[0m\u001b[39m=\u001b[0m\u001b[1;35mKeyError\u001b[0m\u001b[1;39m(\u001b[0m\u001b[33m'url'\u001b[0m\u001b[1;39m)\u001b[0m\u001b[1m>\u001b[0m                              \u001b[33m│\u001b[0m \u001b[31m│\u001b[0m\n",
            "\u001b[31m│\u001b[0m \u001b[33m╰──────────────────────────────────────────────────────────────────────────╯\u001b[0m \u001b[31m│\u001b[0m\n",
            "\u001b[31m│\u001b[0m                                                                              \u001b[31m│\u001b[0m\n",
            "\u001b[31m│\u001b[0m \u001b[2;33m/usr/lib/python3.11/asyncio/\u001b[0m\u001b[1;33mbase_events.py\u001b[0m:\u001b[94m654\u001b[0m in \u001b[92mrun_until_complete\u001b[0m         \u001b[31m│\u001b[0m\n",
            "\u001b[31m│\u001b[0m                                                                              \u001b[31m│\u001b[0m\n",
            "\u001b[31m│\u001b[0m   \u001b[2m 651 \u001b[0m\u001b[2m│   │   \u001b[0m\u001b[94mif\u001b[0m \u001b[95mnot\u001b[0m future.done():                                         \u001b[31m│\u001b[0m\n",
            "\u001b[31m│\u001b[0m   \u001b[2m 652 \u001b[0m\u001b[2m│   │   │   \u001b[0m\u001b[94mraise\u001b[0m \u001b[96mRuntimeError\u001b[0m(\u001b[33m'\u001b[0m\u001b[33mEvent loop stopped before Future comp\u001b[0m \u001b[31m│\u001b[0m\n",
            "\u001b[31m│\u001b[0m   \u001b[2m 653 \u001b[0m\u001b[2m│   │   \u001b[0m                                                              \u001b[31m│\u001b[0m\n",
            "\u001b[31m│\u001b[0m \u001b[31m❱ \u001b[0m 654 \u001b[2m│   │   \u001b[0m\u001b[94mreturn\u001b[0m \u001b[1;4mfuture.result()\u001b[0m                                        \u001b[31m│\u001b[0m\n",
            "\u001b[31m│\u001b[0m   \u001b[2m 655 \u001b[0m\u001b[2m│   \u001b[0m                                                                  \u001b[31m│\u001b[0m\n",
            "\u001b[31m│\u001b[0m   \u001b[2m 656 \u001b[0m\u001b[2m│   \u001b[0m\u001b[94mdef\u001b[0m\u001b[90m \u001b[0m\u001b[92mstop\u001b[0m(\u001b[96mself\u001b[0m):                                                   \u001b[31m│\u001b[0m\n",
            "\u001b[31m│\u001b[0m   \u001b[2m 657 \u001b[0m\u001b[2;90m│   │   \u001b[0m\u001b[33m\"\"\"Stop running the event loop.\u001b[0m                               \u001b[31m│\u001b[0m\n",
            "\u001b[31m│\u001b[0m                                                                              \u001b[31m│\u001b[0m\n",
            "\u001b[31m│\u001b[0m \u001b[33m╭─\u001b[0m\u001b[33m────────────────────────────────\u001b[0m\u001b[33m locals \u001b[0m\u001b[33m────────────────────────────────\u001b[0m\u001b[33m─╮\u001b[0m \u001b[31m│\u001b[0m\n",
            "\u001b[31m│\u001b[0m \u001b[33m│\u001b[0m   future = \u001b[1m<\u001b[0m\u001b[1;95mTask\u001b[0m\u001b[39m finished \u001b[0m\u001b[33mname\u001b[0m\u001b[39m=\u001b[0m\u001b[33m'Task-1'\u001b[0m\u001b[39m \u001b[0m\u001b[33mcoro\u001b[0m\u001b[39m=<\u001b[0m\u001b[1;35mrun_agent\u001b[0m\u001b[1;39m(\u001b[0m\u001b[1;39m)\u001b[0m\u001b[39m done, defined \u001b[0m \u001b[33m│\u001b[0m \u001b[31m│\u001b[0m\n",
            "\u001b[31m│\u001b[0m \u001b[33m│\u001b[0m            \u001b[39mat \u001b[0m                                                           \u001b[33m│\u001b[0m \u001b[31m│\u001b[0m\n",
            "\u001b[31m│\u001b[0m \u001b[33m│\u001b[0m            \u001b[35m/usr/local/lib/python3.11/dist-packages/huggingface_hub/infe…\u001b[0m \u001b[33m│\u001b[0m \u001b[31m│\u001b[0m\n",
            "\u001b[31m│\u001b[0m \u001b[33m│\u001b[0m            \u001b[33mexception\u001b[0m\u001b[39m=\u001b[0m\u001b[1;35mKeyError\u001b[0m\u001b[1;39m(\u001b[0m\u001b[33m'url'\u001b[0m\u001b[1;39m)\u001b[0m\u001b[1m>\u001b[0m                                    \u001b[33m│\u001b[0m \u001b[31m│\u001b[0m\n",
            "\u001b[31m│\u001b[0m \u001b[33m│\u001b[0m new_task = \u001b[94mFalse\u001b[0m                                                         \u001b[33m│\u001b[0m \u001b[31m│\u001b[0m\n",
            "\u001b[31m│\u001b[0m \u001b[33m│\u001b[0m     self = \u001b[1m<\u001b[0m\u001b[1;95m_UnixSelectorEventLoop\u001b[0m\u001b[39m \u001b[0m\u001b[33mrunning\u001b[0m\u001b[39m=\u001b[0m\u001b[94mFalse\u001b[0m\u001b[39m \u001b[0m\u001b[33mclosed\u001b[0m\u001b[39m=\u001b[0m\u001b[94mTrue\u001b[0m\u001b[39m \u001b[0m            \u001b[33m│\u001b[0m \u001b[31m│\u001b[0m\n",
            "\u001b[31m│\u001b[0m \u001b[33m│\u001b[0m            \u001b[33mdebug\u001b[0m\u001b[39m=\u001b[0m\u001b[94mFalse\u001b[0m\u001b[1m>\u001b[0m                                                  \u001b[33m│\u001b[0m \u001b[31m│\u001b[0m\n",
            "\u001b[31m│\u001b[0m \u001b[33m╰──────────────────────────────────────────────────────────────────────────╯\u001b[0m \u001b[31m│\u001b[0m\n",
            "\u001b[31m│\u001b[0m                                                                              \u001b[31m│\u001b[0m\n",
            "\u001b[31m│\u001b[0m \u001b[2;33m/usr/local/lib/python3.11/dist-packages/huggingface_hub/inference/_mcp/\u001b[0m\u001b[1;33mcli.p\u001b[0m \u001b[31m│\u001b[0m\n",
            "\u001b[31m│\u001b[0m \u001b[1;33my\u001b[0m:\u001b[94m212\u001b[0m in \u001b[92mrun_agent\u001b[0m                                                           \u001b[31m│\u001b[0m\n",
            "\u001b[31m│\u001b[0m                                                                              \u001b[31m│\u001b[0m\n",
            "\u001b[31m│\u001b[0m   \u001b[2m209 \u001b[0m\u001b[2m│   \u001b[0m\u001b[94mexcept\u001b[0m \u001b[96mException\u001b[0m \u001b[94mas\u001b[0m e:                                             \u001b[31m│\u001b[0m\n",
            "\u001b[31m│\u001b[0m   \u001b[2m210 \u001b[0m\u001b[2m│   │   \u001b[0mtb_str = traceback.format_exc()                                \u001b[31m│\u001b[0m\n",
            "\u001b[31m│\u001b[0m   \u001b[2m211 \u001b[0m\u001b[2m│   │   \u001b[0m\u001b[96mprint\u001b[0m(\u001b[33mf\u001b[0m\u001b[33m\"\u001b[0m\u001b[33m\\n\u001b[0m\u001b[33m[bold red]An unexpected error occurred: \u001b[0m\u001b[33m{\u001b[0me\u001b[33m}\u001b[0m\u001b[33m\\n\u001b[0m\u001b[33m{\u001b[0mtb_str \u001b[31m│\u001b[0m\n",
            "\u001b[31m│\u001b[0m \u001b[31m❱ \u001b[0m212 \u001b[2m│   │   \u001b[0m\u001b[94mraise\u001b[0m e                                                        \u001b[31m│\u001b[0m\n",
            "\u001b[31m│\u001b[0m   \u001b[2m213 \u001b[0m\u001b[2m│   \u001b[0m                                                                   \u001b[31m│\u001b[0m\n",
            "\u001b[31m│\u001b[0m   \u001b[2m214 \u001b[0m\u001b[2m│   \u001b[0m\u001b[94mfinally\u001b[0m:                                                           \u001b[31m│\u001b[0m\n",
            "\u001b[31m│\u001b[0m   \u001b[2m215 \u001b[0m\u001b[2m│   │   \u001b[0m\u001b[94mif\u001b[0m sigint_registered_in_loop:                                  \u001b[31m│\u001b[0m\n",
            "\u001b[31m│\u001b[0m                                                                              \u001b[31m│\u001b[0m\n",
            "\u001b[31m│\u001b[0m \u001b[33m╭─\u001b[0m\u001b[33m────────────────────────────────\u001b[0m\u001b[33m locals \u001b[0m\u001b[33m────────────────────────────────\u001b[0m\u001b[33m─╮\u001b[0m \u001b[31m│\u001b[0m\n",
            "\u001b[31m│\u001b[0m \u001b[33m│\u001b[0m               abort_event = \u001b[1m<\u001b[0m\u001b[1;95masyncio.locks.Event\u001b[0m\u001b[39m object at \u001b[0m\u001b[94m0xe748f3ed5d0\u001b[0m \u001b[33m│\u001b[0m \u001b[31m│\u001b[0m\n",
            "\u001b[31m│\u001b[0m \u001b[33m│\u001b[0m                             \u001b[1;39m[\u001b[0m\u001b[39munset\u001b[0m\u001b[1;39m]\u001b[0m\u001b[1m>\u001b[0m                                     \u001b[33m│\u001b[0m \u001b[31m│\u001b[0m\n",
            "\u001b[31m│\u001b[0m \u001b[33m│\u001b[0m                     agent = \u001b[1m<\u001b[0m\u001b[1;95mhuggingface_hub.inference._mcp.agent.Agent\u001b[0m\u001b[39m \u001b[0m \u001b[33m│\u001b[0m \u001b[31m│\u001b[0m\n",
            "\u001b[31m│\u001b[0m \u001b[33m│\u001b[0m                             \u001b[39mobject at \u001b[0m\u001b[94m0xe748f3ee1d0\u001b[0m\u001b[1m>\u001b[0m                     \u001b[33m│\u001b[0m \u001b[31m│\u001b[0m\n",
            "\u001b[31m│\u001b[0m \u001b[33m│\u001b[0m                agent_path = \u001b[33m'./my-agent'\u001b[0m                                 \u001b[33m│\u001b[0m \u001b[31m│\u001b[0m\n",
            "\u001b[31m│\u001b[0m \u001b[33m│\u001b[0m                    config = \u001b[1m{\u001b[0m                                            \u001b[33m│\u001b[0m \u001b[31m│\u001b[0m\n",
            "\u001b[31m│\u001b[0m \u001b[33m│\u001b[0m                             \u001b[2m│   \u001b[0m\u001b[33m'model'\u001b[0m: \u001b[33m'llama3.2:3b'\u001b[0m,                  \u001b[33m│\u001b[0m \u001b[31m│\u001b[0m\n",
            "\u001b[31m│\u001b[0m \u001b[33m│\u001b[0m                             \u001b[2m│   \u001b[0m\u001b[33m'endpointUrl'\u001b[0m: \u001b[33m'http://localhost:11434'\u001b[0m, \u001b[33m│\u001b[0m \u001b[31m│\u001b[0m\n",
            "\u001b[31m│\u001b[0m \u001b[33m│\u001b[0m                             \u001b[2m│   \u001b[0m\u001b[33m'servers'\u001b[0m: \u001b[1m[\u001b[0m                             \u001b[33m│\u001b[0m \u001b[31m│\u001b[0m\n",
            "\u001b[31m│\u001b[0m \u001b[33m│\u001b[0m                             \u001b[2m│   │   \u001b[0m\u001b[1m{\u001b[0m                                    \u001b[33m│\u001b[0m \u001b[31m│\u001b[0m\n",
            "\u001b[31m│\u001b[0m \u001b[33m│\u001b[0m                             \u001b[2m│   │   │   \u001b[0m\u001b[33m'type'\u001b[0m: \u001b[33m'http'\u001b[0m,                  \u001b[33m│\u001b[0m \u001b[31m│\u001b[0m\n",
            "\u001b[31m│\u001b[0m \u001b[33m│\u001b[0m                             \u001b[2m│   │   │   \u001b[0m\u001b[33m'config'\u001b[0m: \u001b[1m{\u001b[0m                      \u001b[33m│\u001b[0m \u001b[31m│\u001b[0m\n",
            "\u001b[31m│\u001b[0m \u001b[33m│\u001b[0m                             \u001b[2m│   │   │   │   \u001b[0m\u001b[33m'url'\u001b[0m:                       \u001b[33m│\u001b[0m \u001b[31m│\u001b[0m\n",
            "\u001b[31m│\u001b[0m \u001b[33m│\u001b[0m                             \u001b[33m'https://evalstate-hf-mcp-server.hf.space/m…\u001b[0m \u001b[33m│\u001b[0m \u001b[31m│\u001b[0m\n",
            "\u001b[31m│\u001b[0m \u001b[33m│\u001b[0m                             \u001b[2m│   │   │   \u001b[0m\u001b[1m}\u001b[0m                                \u001b[33m│\u001b[0m \u001b[31m│\u001b[0m\n",
            "\u001b[31m│\u001b[0m \u001b[33m│\u001b[0m                             \u001b[2m│   │   \u001b[0m\u001b[1m}\u001b[0m                                    \u001b[33m│\u001b[0m \u001b[31m│\u001b[0m\n",
            "\u001b[31m│\u001b[0m \u001b[33m│\u001b[0m                             \u001b[2m│   \u001b[0m\u001b[1m]\u001b[0m                                        \u001b[33m│\u001b[0m \u001b[31m│\u001b[0m\n",
            "\u001b[31m│\u001b[0m \u001b[33m│\u001b[0m                             \u001b[1m}\u001b[0m                                            \u001b[33m│\u001b[0m \u001b[31m│\u001b[0m\n",
            "\u001b[31m│\u001b[0m \u001b[33m│\u001b[0m                exit_event = \u001b[1m<\u001b[0m\u001b[1;95masyncio.locks.Event\u001b[0m\u001b[39m object at \u001b[0m\u001b[94m0xe748f3edf90\u001b[0m \u001b[33m│\u001b[0m \u001b[31m│\u001b[0m\n",
            "\u001b[31m│\u001b[0m \u001b[33m│\u001b[0m                             \u001b[1;39m[\u001b[0m\u001b[39munset\u001b[0m\u001b[1;39m]\u001b[0m\u001b[1m>\u001b[0m                                     \u001b[33m│\u001b[0m \u001b[31m│\u001b[0m\n",
            "\u001b[31m│\u001b[0m \u001b[33m│\u001b[0m              first_sigint = \u001b[94mTrue\u001b[0m                                         \u001b[33m│\u001b[0m \u001b[31m│\u001b[0m\n",
            "\u001b[31m│\u001b[0m \u001b[33m│\u001b[0m                    inputs = \u001b[1m[\u001b[0m\u001b[1m]\u001b[0m                                           \u001b[33m│\u001b[0m \u001b[31m│\u001b[0m\n",
            "\u001b[31m│\u001b[0m \u001b[33m│\u001b[0m                      loop = \u001b[1m<\u001b[0m\u001b[1;95m_UnixSelectorEventLoop\u001b[0m\u001b[39m \u001b[0m\u001b[33mrunning\u001b[0m\u001b[39m=\u001b[0m\u001b[94mFalse\u001b[0m\u001b[39m \u001b[0m       \u001b[33m│\u001b[0m \u001b[31m│\u001b[0m\n",
            "\u001b[31m│\u001b[0m \u001b[33m│\u001b[0m                             \u001b[33mclosed\u001b[0m\u001b[39m=\u001b[0m\u001b[94mTrue\u001b[0m\u001b[39m \u001b[0m\u001b[33mdebug\u001b[0m\u001b[39m=\u001b[0m\u001b[94mFalse\u001b[0m\u001b[1m>\u001b[0m                     \u001b[33m│\u001b[0m \u001b[31m│\u001b[0m\n",
            "\u001b[31m│\u001b[0m \u001b[33m│\u001b[0m   original_sigint_handler = \u001b[1;35mfunctools.partial\u001b[0m\u001b[1m(\u001b[0m\u001b[1m<\u001b[0m\u001b[1;95mbound\u001b[0m\u001b[39m method \u001b[0m             \u001b[33m│\u001b[0m \u001b[31m│\u001b[0m\n",
            "\u001b[31m│\u001b[0m \u001b[33m│\u001b[0m                             \u001b[39mRunner._on_sigint of <asyncio.runners.Runner\u001b[0m \u001b[33m│\u001b[0m \u001b[31m│\u001b[0m\n",
            "\u001b[31m│\u001b[0m \u001b[33m│\u001b[0m                             \u001b[39mobject at \u001b[0m\u001b[94m0xe74901d1250\u001b[0m\u001b[39m>>, \u001b[0m\u001b[33mmain_task\u001b[0m\u001b[39m=<Task \u001b[0m  \u001b[33m│\u001b[0m \u001b[31m│\u001b[0m\n",
            "\u001b[31m│\u001b[0m \u001b[33m│\u001b[0m                             \u001b[39mfinished \u001b[0m\u001b[33mname\u001b[0m\u001b[39m=\u001b[0m\u001b[33m'Task-1'\u001b[0m\u001b[39m \u001b[0m\u001b[33mcoro\u001b[0m\u001b[39m=<\u001b[0m\u001b[1;35mrun_agent\u001b[0m\u001b[1;39m(\u001b[0m\u001b[1;39m)\u001b[0m\u001b[39m \u001b[0m    \u001b[33m│\u001b[0m \u001b[31m│\u001b[0m\n",
            "\u001b[31m│\u001b[0m \u001b[33m│\u001b[0m                             \u001b[39mdone, defined at \u001b[0m                            \u001b[33m│\u001b[0m \u001b[31m│\u001b[0m\n",
            "\u001b[31m│\u001b[0m \u001b[33m│\u001b[0m                             \u001b[35m/usr/local/lib/python3.11/dist-packages/hug…\u001b[0m \u001b[33m│\u001b[0m \u001b[31m│\u001b[0m\n",
            "\u001b[31m│\u001b[0m \u001b[33m│\u001b[0m                             \u001b[33mexception\u001b[0m\u001b[39m=\u001b[0m\u001b[1;35mKeyError\u001b[0m\u001b[1;39m(\u001b[0m\u001b[33m'url'\u001b[0m\u001b[1;39m)\u001b[0m\u001b[1m>\u001b[0m\u001b[1m)\u001b[0m                  \u001b[33m│\u001b[0m \u001b[31m│\u001b[0m\n",
            "\u001b[31m│\u001b[0m \u001b[33m│\u001b[0m                    prompt = \u001b[94mNone\u001b[0m                                         \u001b[33m│\u001b[0m \u001b[31m│\u001b[0m\n",
            "\u001b[31m│\u001b[0m \u001b[33m│\u001b[0m               raw_api_key = \u001b[94mNone\u001b[0m                                         \u001b[33m│\u001b[0m \u001b[31m│\u001b[0m\n",
            "\u001b[31m│\u001b[0m \u001b[33m│\u001b[0m           resolved_inputs = \u001b[1m{\u001b[0m\u001b[1m}\u001b[0m                                           \u001b[33m│\u001b[0m \u001b[31m│\u001b[0m\n",
            "\u001b[31m│\u001b[0m \u001b[33m│\u001b[0m                   servers = \u001b[1m[\u001b[0m                                            \u001b[33m│\u001b[0m \u001b[31m│\u001b[0m\n",
            "\u001b[31m│\u001b[0m \u001b[33m│\u001b[0m                             \u001b[2m│   \u001b[0m\u001b[1m{\u001b[0m                                        \u001b[33m│\u001b[0m \u001b[31m│\u001b[0m\n",
            "\u001b[31m│\u001b[0m \u001b[33m│\u001b[0m                             \u001b[2m│   │   \u001b[0m\u001b[33m'type'\u001b[0m: \u001b[33m'http'\u001b[0m,                      \u001b[33m│\u001b[0m \u001b[31m│\u001b[0m\n",
            "\u001b[31m│\u001b[0m \u001b[33m│\u001b[0m                             \u001b[2m│   │   \u001b[0m\u001b[33m'config'\u001b[0m: \u001b[1m{\u001b[0m                          \u001b[33m│\u001b[0m \u001b[31m│\u001b[0m\n",
            "\u001b[31m│\u001b[0m \u001b[33m│\u001b[0m                             \u001b[2m│   │   │   \u001b[0m\u001b[33m'url'\u001b[0m:                           \u001b[33m│\u001b[0m \u001b[31m│\u001b[0m\n",
            "\u001b[31m│\u001b[0m \u001b[33m│\u001b[0m                             \u001b[33m'https://evalstate-hf-mcp-server.hf.space/m…\u001b[0m \u001b[33m│\u001b[0m \u001b[31m│\u001b[0m\n",
            "\u001b[31m│\u001b[0m \u001b[33m│\u001b[0m                             \u001b[2m│   │   \u001b[0m\u001b[1m}\u001b[0m                                    \u001b[33m│\u001b[0m \u001b[31m│\u001b[0m\n",
            "\u001b[31m│\u001b[0m \u001b[33m│\u001b[0m                             \u001b[2m│   \u001b[0m\u001b[1m}\u001b[0m                                        \u001b[33m│\u001b[0m \u001b[31m│\u001b[0m\n",
            "\u001b[31m│\u001b[0m \u001b[33m│\u001b[0m                             \u001b[1m]\u001b[0m                                            \u001b[33m│\u001b[0m \u001b[31m│\u001b[0m\n",
            "\u001b[31m│\u001b[0m \u001b[33m│\u001b[0m sigint_registered_in_loop = \u001b[94mTrue\u001b[0m                                         \u001b[33m│\u001b[0m \u001b[31m│\u001b[0m\n",
            "\u001b[31m│\u001b[0m \u001b[33m│\u001b[0m                    tb_str = \u001b[33m'Traceback \u001b[0m\u001b[1;33m(\u001b[0m\u001b[33mmost recent call last\u001b[0m\u001b[1;33m)\u001b[0m\u001b[33m:\\n  File \u001b[0m \u001b[33m│\u001b[0m \u001b[31m│\u001b[0m\n",
            "\u001b[31m│\u001b[0m \u001b[33m│\u001b[0m                             \u001b[33m\"/usr/local/lib/python3.11/dist-packag'\u001b[0m+\u001b[94m541\u001b[0m  \u001b[33m│\u001b[0m \u001b[31m│\u001b[0m\n",
            "\u001b[31m│\u001b[0m \u001b[33m╰──────────────────────────────────────────────────────────────────────────╯\u001b[0m \u001b[31m│\u001b[0m\n",
            "\u001b[31m│\u001b[0m                                                                              \u001b[31m│\u001b[0m\n",
            "\u001b[31m│\u001b[0m \u001b[2;33m/usr/local/lib/python3.11/dist-packages/huggingface_hub/inference/_mcp/\u001b[0m\u001b[1;33mcli.p\u001b[0m \u001b[31m│\u001b[0m\n",
            "\u001b[31m│\u001b[0m \u001b[1;33my\u001b[0m:\u001b[94m152\u001b[0m in \u001b[92mrun_agent\u001b[0m                                                           \u001b[31m│\u001b[0m\n",
            "\u001b[31m│\u001b[0m                                                                              \u001b[31m│\u001b[0m\n",
            "\u001b[31m│\u001b[0m   \u001b[2m149 \u001b[0m\u001b[2m│   │   │   \u001b[0mservers=servers,  \u001b[2m# type: ignore[arg-type]\u001b[0m                 \u001b[31m│\u001b[0m\n",
            "\u001b[31m│\u001b[0m   \u001b[2m150 \u001b[0m\u001b[2m│   │   │   \u001b[0mprompt=prompt,                                             \u001b[31m│\u001b[0m\n",
            "\u001b[31m│\u001b[0m   \u001b[2m151 \u001b[0m\u001b[2m│   │   \u001b[0m) \u001b[94mas\u001b[0m agent:                                                    \u001b[31m│\u001b[0m\n",
            "\u001b[31m│\u001b[0m \u001b[31m❱ \u001b[0m152 \u001b[2m│   │   │   \u001b[0m\u001b[94mawait\u001b[0m agent.load_tools()                                   \u001b[31m│\u001b[0m\n",
            "\u001b[31m│\u001b[0m   \u001b[2m153 \u001b[0m\u001b[2m│   │   │   \u001b[0m\u001b[96mprint\u001b[0m(\u001b[33mf\u001b[0m\u001b[33m\"\u001b[0m\u001b[33m[bold blue]Agent loaded with \u001b[0m\u001b[33m{\u001b[0m\u001b[96mlen\u001b[0m(agent.available_ \u001b[31m│\u001b[0m\n",
            "\u001b[31m│\u001b[0m   \u001b[2m154 \u001b[0m\u001b[2m│   │   │   \u001b[0m\u001b[94mfor\u001b[0m t \u001b[95min\u001b[0m agent.available_tools:                            \u001b[31m│\u001b[0m\n",
            "\u001b[31m│\u001b[0m   \u001b[2m155 \u001b[0m\u001b[2m│   │   │   │   \u001b[0m\u001b[96mprint\u001b[0m(\u001b[33mf\u001b[0m\u001b[33m\"\u001b[0m\u001b[33m[blue] • \u001b[0m\u001b[33m{\u001b[0mt.function.name\u001b[33m}\u001b[0m\u001b[33m[/blue]\u001b[0m\u001b[33m\"\u001b[0m)            \u001b[31m│\u001b[0m\n",
            "\u001b[31m│\u001b[0m                                                                              \u001b[31m│\u001b[0m\n",
            "\u001b[31m│\u001b[0m \u001b[33m╭─\u001b[0m\u001b[33m────────────────────────────────\u001b[0m\u001b[33m locals \u001b[0m\u001b[33m────────────────────────────────\u001b[0m\u001b[33m─╮\u001b[0m \u001b[31m│\u001b[0m\n",
            "\u001b[31m│\u001b[0m \u001b[33m│\u001b[0m               abort_event = \u001b[1m<\u001b[0m\u001b[1;95masyncio.locks.Event\u001b[0m\u001b[39m object at \u001b[0m\u001b[94m0xe748f3ed5d0\u001b[0m \u001b[33m│\u001b[0m \u001b[31m│\u001b[0m\n",
            "\u001b[31m│\u001b[0m \u001b[33m│\u001b[0m                             \u001b[1;39m[\u001b[0m\u001b[39munset\u001b[0m\u001b[1;39m]\u001b[0m\u001b[1m>\u001b[0m                                     \u001b[33m│\u001b[0m \u001b[31m│\u001b[0m\n",
            "\u001b[31m│\u001b[0m \u001b[33m│\u001b[0m                     agent = \u001b[1m<\u001b[0m\u001b[1;95mhuggingface_hub.inference._mcp.agent.Agent\u001b[0m\u001b[39m \u001b[0m \u001b[33m│\u001b[0m \u001b[31m│\u001b[0m\n",
            "\u001b[31m│\u001b[0m \u001b[33m│\u001b[0m                             \u001b[39mobject at \u001b[0m\u001b[94m0xe748f3ee1d0\u001b[0m\u001b[1m>\u001b[0m                     \u001b[33m│\u001b[0m \u001b[31m│\u001b[0m\n",
            "\u001b[31m│\u001b[0m \u001b[33m│\u001b[0m                agent_path = \u001b[33m'./my-agent'\u001b[0m                                 \u001b[33m│\u001b[0m \u001b[31m│\u001b[0m\n",
            "\u001b[31m│\u001b[0m \u001b[33m│\u001b[0m                    config = \u001b[1m{\u001b[0m                                            \u001b[33m│\u001b[0m \u001b[31m│\u001b[0m\n",
            "\u001b[31m│\u001b[0m \u001b[33m│\u001b[0m                             \u001b[2m│   \u001b[0m\u001b[33m'model'\u001b[0m: \u001b[33m'llama3.2:3b'\u001b[0m,                  \u001b[33m│\u001b[0m \u001b[31m│\u001b[0m\n",
            "\u001b[31m│\u001b[0m \u001b[33m│\u001b[0m                             \u001b[2m│   \u001b[0m\u001b[33m'endpointUrl'\u001b[0m: \u001b[33m'http://localhost:11434'\u001b[0m, \u001b[33m│\u001b[0m \u001b[31m│\u001b[0m\n",
            "\u001b[31m│\u001b[0m \u001b[33m│\u001b[0m                             \u001b[2m│   \u001b[0m\u001b[33m'servers'\u001b[0m: \u001b[1m[\u001b[0m                             \u001b[33m│\u001b[0m \u001b[31m│\u001b[0m\n",
            "\u001b[31m│\u001b[0m \u001b[33m│\u001b[0m                             \u001b[2m│   │   \u001b[0m\u001b[1m{\u001b[0m                                    \u001b[33m│\u001b[0m \u001b[31m│\u001b[0m\n",
            "\u001b[31m│\u001b[0m \u001b[33m│\u001b[0m                             \u001b[2m│   │   │   \u001b[0m\u001b[33m'type'\u001b[0m: \u001b[33m'http'\u001b[0m,                  \u001b[33m│\u001b[0m \u001b[31m│\u001b[0m\n",
            "\u001b[31m│\u001b[0m \u001b[33m│\u001b[0m                             \u001b[2m│   │   │   \u001b[0m\u001b[33m'config'\u001b[0m: \u001b[1m{\u001b[0m                      \u001b[33m│\u001b[0m \u001b[31m│\u001b[0m\n",
            "\u001b[31m│\u001b[0m \u001b[33m│\u001b[0m                             \u001b[2m│   │   │   │   \u001b[0m\u001b[33m'url'\u001b[0m:                       \u001b[33m│\u001b[0m \u001b[31m│\u001b[0m\n",
            "\u001b[31m│\u001b[0m \u001b[33m│\u001b[0m                             \u001b[33m'https://evalstate-hf-mcp-server.hf.space/m…\u001b[0m \u001b[33m│\u001b[0m \u001b[31m│\u001b[0m\n",
            "\u001b[31m│\u001b[0m \u001b[33m│\u001b[0m                             \u001b[2m│   │   │   \u001b[0m\u001b[1m}\u001b[0m                                \u001b[33m│\u001b[0m \u001b[31m│\u001b[0m\n",
            "\u001b[31m│\u001b[0m \u001b[33m│\u001b[0m                             \u001b[2m│   │   \u001b[0m\u001b[1m}\u001b[0m                                    \u001b[33m│\u001b[0m \u001b[31m│\u001b[0m\n",
            "\u001b[31m│\u001b[0m \u001b[33m│\u001b[0m                             \u001b[2m│   \u001b[0m\u001b[1m]\u001b[0m                                        \u001b[33m│\u001b[0m \u001b[31m│\u001b[0m\n",
            "\u001b[31m│\u001b[0m \u001b[33m│\u001b[0m                             \u001b[1m}\u001b[0m                                            \u001b[33m│\u001b[0m \u001b[31m│\u001b[0m\n",
            "\u001b[31m│\u001b[0m \u001b[33m│\u001b[0m                exit_event = \u001b[1m<\u001b[0m\u001b[1;95masyncio.locks.Event\u001b[0m\u001b[39m object at \u001b[0m\u001b[94m0xe748f3edf90\u001b[0m \u001b[33m│\u001b[0m \u001b[31m│\u001b[0m\n",
            "\u001b[31m│\u001b[0m \u001b[33m│\u001b[0m                             \u001b[1;39m[\u001b[0m\u001b[39munset\u001b[0m\u001b[1;39m]\u001b[0m\u001b[1m>\u001b[0m                                     \u001b[33m│\u001b[0m \u001b[31m│\u001b[0m\n",
            "\u001b[31m│\u001b[0m \u001b[33m│\u001b[0m              first_sigint = \u001b[94mTrue\u001b[0m                                         \u001b[33m│\u001b[0m \u001b[31m│\u001b[0m\n",
            "\u001b[31m│\u001b[0m \u001b[33m│\u001b[0m                    inputs = \u001b[1m[\u001b[0m\u001b[1m]\u001b[0m                                           \u001b[33m│\u001b[0m \u001b[31m│\u001b[0m\n",
            "\u001b[31m│\u001b[0m \u001b[33m│\u001b[0m                      loop = \u001b[1m<\u001b[0m\u001b[1;95m_UnixSelectorEventLoop\u001b[0m\u001b[39m \u001b[0m\u001b[33mrunning\u001b[0m\u001b[39m=\u001b[0m\u001b[94mFalse\u001b[0m\u001b[39m \u001b[0m       \u001b[33m│\u001b[0m \u001b[31m│\u001b[0m\n",
            "\u001b[31m│\u001b[0m \u001b[33m│\u001b[0m                             \u001b[33mclosed\u001b[0m\u001b[39m=\u001b[0m\u001b[94mTrue\u001b[0m\u001b[39m \u001b[0m\u001b[33mdebug\u001b[0m\u001b[39m=\u001b[0m\u001b[94mFalse\u001b[0m\u001b[1m>\u001b[0m                     \u001b[33m│\u001b[0m \u001b[31m│\u001b[0m\n",
            "\u001b[31m│\u001b[0m \u001b[33m│\u001b[0m   original_sigint_handler = \u001b[1;35mfunctools.partial\u001b[0m\u001b[1m(\u001b[0m\u001b[1m<\u001b[0m\u001b[1;95mbound\u001b[0m\u001b[39m method \u001b[0m             \u001b[33m│\u001b[0m \u001b[31m│\u001b[0m\n",
            "\u001b[31m│\u001b[0m \u001b[33m│\u001b[0m                             \u001b[39mRunner._on_sigint of <asyncio.runners.Runner\u001b[0m \u001b[33m│\u001b[0m \u001b[31m│\u001b[0m\n",
            "\u001b[31m│\u001b[0m \u001b[33m│\u001b[0m                             \u001b[39mobject at \u001b[0m\u001b[94m0xe74901d1250\u001b[0m\u001b[39m>>, \u001b[0m\u001b[33mmain_task\u001b[0m\u001b[39m=<Task \u001b[0m  \u001b[33m│\u001b[0m \u001b[31m│\u001b[0m\n",
            "\u001b[31m│\u001b[0m \u001b[33m│\u001b[0m                             \u001b[39mfinished \u001b[0m\u001b[33mname\u001b[0m\u001b[39m=\u001b[0m\u001b[33m'Task-1'\u001b[0m\u001b[39m \u001b[0m\u001b[33mcoro\u001b[0m\u001b[39m=<\u001b[0m\u001b[1;35mrun_agent\u001b[0m\u001b[1;39m(\u001b[0m\u001b[1;39m)\u001b[0m\u001b[39m \u001b[0m    \u001b[33m│\u001b[0m \u001b[31m│\u001b[0m\n",
            "\u001b[31m│\u001b[0m \u001b[33m│\u001b[0m                             \u001b[39mdone, defined at \u001b[0m                            \u001b[33m│\u001b[0m \u001b[31m│\u001b[0m\n",
            "\u001b[31m│\u001b[0m \u001b[33m│\u001b[0m                             \u001b[35m/usr/local/lib/python3.11/dist-packages/hug…\u001b[0m \u001b[33m│\u001b[0m \u001b[31m│\u001b[0m\n",
            "\u001b[31m│\u001b[0m \u001b[33m│\u001b[0m                             \u001b[33mexception\u001b[0m\u001b[39m=\u001b[0m\u001b[1;35mKeyError\u001b[0m\u001b[1;39m(\u001b[0m\u001b[33m'url'\u001b[0m\u001b[1;39m)\u001b[0m\u001b[1m>\u001b[0m\u001b[1m)\u001b[0m                  \u001b[33m│\u001b[0m \u001b[31m│\u001b[0m\n",
            "\u001b[31m│\u001b[0m \u001b[33m│\u001b[0m                    prompt = \u001b[94mNone\u001b[0m                                         \u001b[33m│\u001b[0m \u001b[31m│\u001b[0m\n",
            "\u001b[31m│\u001b[0m \u001b[33m│\u001b[0m               raw_api_key = \u001b[94mNone\u001b[0m                                         \u001b[33m│\u001b[0m \u001b[31m│\u001b[0m\n",
            "\u001b[31m│\u001b[0m \u001b[33m│\u001b[0m           resolved_inputs = \u001b[1m{\u001b[0m\u001b[1m}\u001b[0m                                           \u001b[33m│\u001b[0m \u001b[31m│\u001b[0m\n",
            "\u001b[31m│\u001b[0m \u001b[33m│\u001b[0m                   servers = \u001b[1m[\u001b[0m                                            \u001b[33m│\u001b[0m \u001b[31m│\u001b[0m\n",
            "\u001b[31m│\u001b[0m \u001b[33m│\u001b[0m                             \u001b[2m│   \u001b[0m\u001b[1m{\u001b[0m                                        \u001b[33m│\u001b[0m \u001b[31m│\u001b[0m\n",
            "\u001b[31m│\u001b[0m \u001b[33m│\u001b[0m                             \u001b[2m│   │   \u001b[0m\u001b[33m'type'\u001b[0m: \u001b[33m'http'\u001b[0m,                      \u001b[33m│\u001b[0m \u001b[31m│\u001b[0m\n",
            "\u001b[31m│\u001b[0m \u001b[33m│\u001b[0m                             \u001b[2m│   │   \u001b[0m\u001b[33m'config'\u001b[0m: \u001b[1m{\u001b[0m                          \u001b[33m│\u001b[0m \u001b[31m│\u001b[0m\n",
            "\u001b[31m│\u001b[0m \u001b[33m│\u001b[0m                             \u001b[2m│   │   │   \u001b[0m\u001b[33m'url'\u001b[0m:                           \u001b[33m│\u001b[0m \u001b[31m│\u001b[0m\n",
            "\u001b[31m│\u001b[0m \u001b[33m│\u001b[0m                             \u001b[33m'https://evalstate-hf-mcp-server.hf.space/m…\u001b[0m \u001b[33m│\u001b[0m \u001b[31m│\u001b[0m\n",
            "\u001b[31m│\u001b[0m \u001b[33m│\u001b[0m                             \u001b[2m│   │   \u001b[0m\u001b[1m}\u001b[0m                                    \u001b[33m│\u001b[0m \u001b[31m│\u001b[0m\n",
            "\u001b[31m│\u001b[0m \u001b[33m│\u001b[0m                             \u001b[2m│   \u001b[0m\u001b[1m}\u001b[0m                                        \u001b[33m│\u001b[0m \u001b[31m│\u001b[0m\n",
            "\u001b[31m│\u001b[0m \u001b[33m│\u001b[0m                             \u001b[1m]\u001b[0m                                            \u001b[33m│\u001b[0m \u001b[31m│\u001b[0m\n",
            "\u001b[31m│\u001b[0m \u001b[33m│\u001b[0m sigint_registered_in_loop = \u001b[94mTrue\u001b[0m                                         \u001b[33m│\u001b[0m \u001b[31m│\u001b[0m\n",
            "\u001b[31m│\u001b[0m \u001b[33m│\u001b[0m                    tb_str = \u001b[33m'Traceback \u001b[0m\u001b[1;33m(\u001b[0m\u001b[33mmost recent call last\u001b[0m\u001b[1;33m)\u001b[0m\u001b[33m:\\n  File \u001b[0m \u001b[33m│\u001b[0m \u001b[31m│\u001b[0m\n",
            "\u001b[31m│\u001b[0m \u001b[33m│\u001b[0m                             \u001b[33m\"/usr/local/lib/python3.11/dist-packag'\u001b[0m+\u001b[94m541\u001b[0m  \u001b[33m│\u001b[0m \u001b[31m│\u001b[0m\n",
            "\u001b[31m│\u001b[0m \u001b[33m╰──────────────────────────────────────────────────────────────────────────╯\u001b[0m \u001b[31m│\u001b[0m\n",
            "\u001b[31m│\u001b[0m                                                                              \u001b[31m│\u001b[0m\n",
            "\u001b[31m│\u001b[0m \u001b[2;33m/usr/local/lib/python3.11/dist-packages/huggingface_hub/inference/_mcp/\u001b[0m\u001b[1;33magent\u001b[0m \u001b[31m│\u001b[0m\n",
            "\u001b[31m│\u001b[0m \u001b[1;33m.py\u001b[0m:\u001b[94m58\u001b[0m in \u001b[92mload_tools\u001b[0m                                                         \u001b[31m│\u001b[0m\n",
            "\u001b[31m│\u001b[0m                                                                              \u001b[31m│\u001b[0m\n",
            "\u001b[31m│\u001b[0m   \u001b[2m 55 \u001b[0m\u001b[2m│   \u001b[0m                                                                   \u001b[31m│\u001b[0m\n",
            "\u001b[31m│\u001b[0m   \u001b[2m 56 \u001b[0m\u001b[2m│   \u001b[0m\u001b[94masync\u001b[0m \u001b[94mdef\u001b[0m\u001b[90m \u001b[0m\u001b[92mload_tools\u001b[0m(\u001b[96mself\u001b[0m) -> \u001b[94mNone\u001b[0m:                                \u001b[31m│\u001b[0m\n",
            "\u001b[31m│\u001b[0m   \u001b[2m 57 \u001b[0m\u001b[2m│   │   \u001b[0m\u001b[94mfor\u001b[0m cfg \u001b[95min\u001b[0m \u001b[96mself\u001b[0m._servers_cfg:                                  \u001b[31m│\u001b[0m\n",
            "\u001b[31m│\u001b[0m \u001b[31m❱ \u001b[0m 58 \u001b[2m│   │   │   \u001b[0m\u001b[1;4;94mawait\u001b[0m\u001b[1;4m \u001b[0m\u001b[1;4;96mself\u001b[0m\u001b[1;4m.add_mcp_server(**cfg)\u001b[0m                           \u001b[31m│\u001b[0m\n",
            "\u001b[31m│\u001b[0m   \u001b[2m 59 \u001b[0m\u001b[2m│   \u001b[0m                                                                   \u001b[31m│\u001b[0m\n",
            "\u001b[31m│\u001b[0m   \u001b[2m 60 \u001b[0m\u001b[2m│   \u001b[0m\u001b[94masync\u001b[0m \u001b[94mdef\u001b[0m\u001b[90m \u001b[0m\u001b[92mrun\u001b[0m(                                                     \u001b[31m│\u001b[0m\n",
            "\u001b[31m│\u001b[0m   \u001b[2m 61 \u001b[0m\u001b[2m│   │   \u001b[0m\u001b[96mself\u001b[0m,                                                          \u001b[31m│\u001b[0m\n",
            "\u001b[31m│\u001b[0m                                                                              \u001b[31m│\u001b[0m\n",
            "\u001b[31m│\u001b[0m \u001b[33m╭─\u001b[0m\u001b[33m────────────────────────────────\u001b[0m\u001b[33m locals \u001b[0m\u001b[33m────────────────────────────────\u001b[0m\u001b[33m─╮\u001b[0m \u001b[31m│\u001b[0m\n",
            "\u001b[31m│\u001b[0m \u001b[33m│\u001b[0m  cfg = \u001b[1m{\u001b[0m                                                                 \u001b[33m│\u001b[0m \u001b[31m│\u001b[0m\n",
            "\u001b[31m│\u001b[0m \u001b[33m│\u001b[0m        \u001b[2m│   \u001b[0m\u001b[33m'type'\u001b[0m: \u001b[33m'http'\u001b[0m,                                               \u001b[33m│\u001b[0m \u001b[31m│\u001b[0m\n",
            "\u001b[31m│\u001b[0m \u001b[33m│\u001b[0m        \u001b[2m│   \u001b[0m\u001b[33m'config'\u001b[0m: \u001b[1m{\u001b[0m                                                   \u001b[33m│\u001b[0m \u001b[31m│\u001b[0m\n",
            "\u001b[31m│\u001b[0m \u001b[33m│\u001b[0m        \u001b[2m│   │   \u001b[0m\u001b[33m'url'\u001b[0m: \u001b[33m'https://evalstate-hf-mcp-server.hf.space/mcp'\u001b[0m     \u001b[33m│\u001b[0m \u001b[31m│\u001b[0m\n",
            "\u001b[31m│\u001b[0m \u001b[33m│\u001b[0m        \u001b[2m│   \u001b[0m\u001b[1m}\u001b[0m                                                             \u001b[33m│\u001b[0m \u001b[31m│\u001b[0m\n",
            "\u001b[31m│\u001b[0m \u001b[33m│\u001b[0m        \u001b[1m}\u001b[0m                                                                 \u001b[33m│\u001b[0m \u001b[31m│\u001b[0m\n",
            "\u001b[31m│\u001b[0m \u001b[33m│\u001b[0m self = \u001b[1m<\u001b[0m\u001b[1;95mhuggingface_hub.inference._mcp.agent.Agent\u001b[0m\u001b[39m object at \u001b[0m            \u001b[33m│\u001b[0m \u001b[31m│\u001b[0m\n",
            "\u001b[31m│\u001b[0m \u001b[33m│\u001b[0m        \u001b[94m0xe748f3ee1d0\u001b[0m\u001b[1m>\u001b[0m                                                    \u001b[33m│\u001b[0m \u001b[31m│\u001b[0m\n",
            "\u001b[31m│\u001b[0m \u001b[33m╰──────────────────────────────────────────────────────────────────────────╯\u001b[0m \u001b[31m│\u001b[0m\n",
            "\u001b[31m│\u001b[0m                                                                              \u001b[31m│\u001b[0m\n",
            "\u001b[31m│\u001b[0m \u001b[2;33m/usr/local/lib/python3.11/dist-packages/huggingface_hub/inference/_mcp/\u001b[0m\u001b[1;33mmcp_c\u001b[0m \u001b[31m│\u001b[0m\n",
            "\u001b[31m│\u001b[0m \u001b[1;33mlient.py\u001b[0m:\u001b[94m185\u001b[0m in \u001b[92madd_mcp_server\u001b[0m                                               \u001b[31m│\u001b[0m\n",
            "\u001b[31m│\u001b[0m                                                                              \u001b[31m│\u001b[0m\n",
            "\u001b[31m│\u001b[0m   \u001b[2m182 \u001b[0m\u001b[2m│   │   │   \u001b[0m\u001b[2m# Handle StreamableHTTP server\u001b[0m                             \u001b[31m│\u001b[0m\n",
            "\u001b[31m│\u001b[0m   \u001b[2m183 \u001b[0m\u001b[2m│   │   │   \u001b[0m\u001b[94mfrom\u001b[0m\u001b[90m \u001b[0m\u001b[4;96mmcp\u001b[0m\u001b[4;96m.\u001b[0m\u001b[4;96mclient\u001b[0m\u001b[4;96m.\u001b[0m\u001b[4;96mstreamable_http\u001b[0m\u001b[90m \u001b[0m\u001b[94mimport\u001b[0m streamablehttp_clie \u001b[31m│\u001b[0m\n",
            "\u001b[31m│\u001b[0m   \u001b[2m184 \u001b[0m\u001b[2m│   │   │   \u001b[0m                                                           \u001b[31m│\u001b[0m\n",
            "\u001b[31m│\u001b[0m \u001b[31m❱ \u001b[0m185 \u001b[2m│   │   │   \u001b[0mlogger.info(\u001b[33mf\u001b[0m\u001b[33m\"\u001b[0m\u001b[33mConnecting to StreamableHTTP MCP server at: \u001b[0m \u001b[31m│\u001b[0m\n",
            "\u001b[31m│\u001b[0m   \u001b[2m186 \u001b[0m\u001b[2m│   │   │   \u001b[0m                                                           \u001b[31m│\u001b[0m\n",
            "\u001b[31m│\u001b[0m   \u001b[2m187 \u001b[0m\u001b[2m│   │   │   \u001b[0mclient_kwargs = {\u001b[33m\"\u001b[0m\u001b[33murl\u001b[0m\u001b[33m\"\u001b[0m: params[\u001b[33m\"\u001b[0m\u001b[33murl\u001b[0m\u001b[33m\"\u001b[0m]}                     \u001b[31m│\u001b[0m\n",
            "\u001b[31m│\u001b[0m   \u001b[2m188 \u001b[0m\u001b[2m│   │   │   \u001b[0m\u001b[94mfor\u001b[0m key \u001b[95min\u001b[0m [\u001b[33m\"\u001b[0m\u001b[33mheaders\u001b[0m\u001b[33m\"\u001b[0m, \u001b[33m\"\u001b[0m\u001b[33mtimeout\u001b[0m\u001b[33m\"\u001b[0m, \u001b[33m\"\u001b[0m\u001b[33msse_read_timeout\u001b[0m\u001b[33m\"\u001b[0m, \u001b[33m\"\u001b[0m\u001b[33mter\u001b[0m \u001b[31m│\u001b[0m\n",
            "\u001b[31m│\u001b[0m                                                                              \u001b[31m│\u001b[0m\n",
            "\u001b[31m│\u001b[0m \u001b[33m╭─\u001b[0m\u001b[33m────────────────────────────────\u001b[0m\u001b[33m locals \u001b[0m\u001b[33m────────────────────────────────\u001b[0m\u001b[33m─╮\u001b[0m \u001b[31m│\u001b[0m\n",
            "\u001b[31m│\u001b[0m \u001b[33m│\u001b[0m mcp_types = \u001b[1m<\u001b[0m\u001b[1;95mmodule\u001b[0m\u001b[39m \u001b[0m\u001b[33m'mcp.types'\u001b[0m\u001b[39m from \u001b[0m                                    \u001b[33m│\u001b[0m \u001b[31m│\u001b[0m\n",
            "\u001b[31m│\u001b[0m \u001b[33m│\u001b[0m             \u001b[33m'/usr/local/lib/python3.11/dist-packages/mcp/types.py'\u001b[0m\u001b[1m>\u001b[0m      \u001b[33m│\u001b[0m \u001b[31m│\u001b[0m\n",
            "\u001b[31m│\u001b[0m \u001b[33m│\u001b[0m    params = \u001b[1m{\u001b[0m                                                            \u001b[33m│\u001b[0m \u001b[31m│\u001b[0m\n",
            "\u001b[31m│\u001b[0m \u001b[33m│\u001b[0m             \u001b[2m│   \u001b[0m\u001b[33m'config'\u001b[0m: \u001b[1m{\u001b[0m                                              \u001b[33m│\u001b[0m \u001b[31m│\u001b[0m\n",
            "\u001b[31m│\u001b[0m \u001b[33m│\u001b[0m             \u001b[2m│   │   \u001b[0m\u001b[33m'url'\u001b[0m:                                               \u001b[33m│\u001b[0m \u001b[31m│\u001b[0m\n",
            "\u001b[31m│\u001b[0m \u001b[33m│\u001b[0m             \u001b[33m'https://evalstate-hf-mcp-server.hf.space/mcp'\u001b[0m               \u001b[33m│\u001b[0m \u001b[31m│\u001b[0m\n",
            "\u001b[31m│\u001b[0m \u001b[33m│\u001b[0m             \u001b[2m│   \u001b[0m\u001b[1m}\u001b[0m                                                        \u001b[33m│\u001b[0m \u001b[31m│\u001b[0m\n",
            "\u001b[31m│\u001b[0m \u001b[33m│\u001b[0m             \u001b[1m}\u001b[0m                                                            \u001b[33m│\u001b[0m \u001b[31m│\u001b[0m\n",
            "\u001b[31m│\u001b[0m \u001b[33m│\u001b[0m      self = \u001b[1m<\u001b[0m\u001b[1;95mhuggingface_hub.inference._mcp.agent.Agent\u001b[0m\u001b[39m object at \u001b[0m       \u001b[33m│\u001b[0m \u001b[31m│\u001b[0m\n",
            "\u001b[31m│\u001b[0m \u001b[33m│\u001b[0m             \u001b[94m0xe748f3ee1d0\u001b[0m\u001b[1m>\u001b[0m                                               \u001b[33m│\u001b[0m \u001b[31m│\u001b[0m\n",
            "\u001b[31m│\u001b[0m \u001b[33m│\u001b[0m      type = \u001b[33m'http'\u001b[0m                                                       \u001b[33m│\u001b[0m \u001b[31m│\u001b[0m\n",
            "\u001b[31m│\u001b[0m \u001b[33m╰──────────────────────────────────────────────────────────────────────────╯\u001b[0m \u001b[31m│\u001b[0m\n",
            "\u001b[31m╰──────────────────────────────────────────────────────────────────────────────╯\u001b[0m\n",
            "\u001b[1;91mKeyError: \u001b[0m\u001b[32m'url'\u001b[0m\n"
          ]
        }
      ]
    },
    {
      "cell_type": "code",
      "source": [
        "!ollama list"
      ],
      "metadata": {
        "colab": {
          "base_uri": "https://localhost:8080/"
        },
        "id": "q825MAlvUQek",
        "outputId": "2618b4af-b4b8-49fb-f6f0-36d47dbd9aae"
      },
      "execution_count": 24,
      "outputs": [
        {
          "output_type": "stream",
          "name": "stdout",
          "text": [
            "NAME             ID              SIZE      MODIFIED    \n",
            "llama2:latest    78e26419b446    3.8 GB    3 hours ago    \n"
          ]
        }
      ]
    },
    {
      "cell_type": "markdown",
      "source": [
        "{\n",
        "  \"model\": \"llama2:latest\",\n",
        "  \"endpointUrl\": \"http://localhost:11434\",\n",
        "  \"servers\": [\n",
        "    {\n",
        "      \"type\": \"http\",\n",
        "      \"url\": \"https://evalstate-hf-mcp-server.hf.space/mcp\"\n",
        "    }\n",
        "  ]\n",
        "}\n"
      ],
      "metadata": {
        "id": "CjZeLiOgVj7-"
      }
    },
    {
      "cell_type": "code",
      "source": [
        "!tiny-agents run ./my-agent\n"
      ],
      "metadata": {
        "colab": {
          "base_uri": "https://localhost:8080/"
        },
        "id": "mmSpDCNTVZX8",
        "outputId": "8d348242-ac06-431a-9bfc-04d999c9bb26"
      },
      "execution_count": 25,
      "outputs": [
        {
          "output_type": "stream",
          "name": "stdout",
          "text": [
            "\u001b[1;34mAgent loaded with \u001b[0m\u001b[1;34m10\u001b[0m\u001b[1;34m tools:\u001b[0m\n",
            "\u001b[34m • hf_whoami\u001b[0m\n",
            "\u001b[34m • space_search\u001b[0m\n",
            "\u001b[34m • model_search\u001b[0m\n",
            "\u001b[34m • model_details\u001b[0m\n",
            "\u001b[34m • paper_search\u001b[0m\n",
            "\u001b[34m • dataset_search\u001b[0m\n",
            "\u001b[34m • dataset_details\u001b[0m\n",
            "\u001b[34m • hf_doc_search\u001b[0m\n",
            "\u001b[34m • gr1_flux1_schnell_infer\u001b[0m\n",
            "\u001b[34m • gr2_0_abidlabs_easyghiblis_ndition_generate_image\u001b[0m\n",
            "»  Who am I on Hugging Face?\n",
            "\n",
            "\u001b[1;31mError during agent run: \u001b[0m\u001b[1;31m400\u001b[0m\u001b[1;31m, \u001b[0m\u001b[1;31mmessage\u001b[0m\u001b[1;31m=\u001b[0m\u001b[1;31m'Bad Request'\u001b[0m\u001b[1;31m, \u001b[0m\n",
            "\u001b[1;31murl\u001b[0m\u001b[1;31m=\u001b[0m\u001b[1;31m'http://localhost:11434/v1/chat/completions'\u001b[0m\n",
            "\u001b[1;31mTraceback \u001b[0m\u001b[1;31m(\u001b[0m\u001b[1;31mmost recent call last\u001b[0m\u001b[1;31m)\u001b[0m\u001b[1;31m:\u001b[0m\n",
            "\u001b[1;31m  File \u001b[0m\n",
            "\u001b[1;31m\"/usr/local/lib/python3.11/dist-packages/huggingface_hub/inference/_mcp/cli.py\"\u001b[0m\u001b[1;31m,\u001b[0m\n",
            "\u001b[1;31mline \u001b[0m\u001b[1;31m178\u001b[0m\u001b[1;31m, in run_agent\u001b[0m\n",
            "\u001b[1;31m    async for chunk in \u001b[0m\u001b[1;31magent.run\u001b[0m\u001b[1;31m(\u001b[0m\u001b[1;31muser_input, \u001b[0m\u001b[1;31mabort_event\u001b[0m\u001b[1;31m=\u001b[0m\u001b[1;31mabort_event\u001b[0m\u001b[1;31m)\u001b[0m\u001b[1;31m:\u001b[0m\n",
            "\u001b[1;31m  File \u001b[0m\n",
            "\u001b[1;31m\"/usr/local/lib/python3.11/dist-packages/huggingface_hub/inference/_mcp/agent.py\u001b[0m\n",
            "\u001b[1;31m\"\u001b[0m\u001b[1;31m, line \u001b[0m\u001b[1;31m84\u001b[0m\u001b[1;31m, in run\u001b[0m\n",
            "\u001b[1;31m    async for item in \u001b[0m\u001b[1;31mself.process_single_turn_with_tools\u001b[0m\u001b[1;31m(\u001b[0m\n",
            "\u001b[1;31m  File \u001b[0m\n",
            "\u001b[1;31m\"/usr/local/lib/python3.11/dist-packages/huggingface_hub/inference/_mcp/mcp_clie\u001b[0m\n",
            "\u001b[1;31mnt.py\"\u001b[0m\u001b[1;31m, line \u001b[0m\u001b[1;31m261\u001b[0m\u001b[1;31m, in process_single_turn_with_tools\u001b[0m\n",
            "\u001b[1;31m    response = await \u001b[0m\u001b[1;31mself.client.chat.completions.create\u001b[0m\u001b[1;31m(\u001b[0m\n",
            "\u001b[1;31m               ^^^^^^^^^^^^^^^^^^^^^^^^^^^^^^^^^^^^^^^^^^\u001b[0m\n",
            "\u001b[1;31m  File \u001b[0m\n",
            "\u001b[1;31m\"/usr/local/lib/python3.11/dist-packages/huggingface_hub/inference/_generated/_a\u001b[0m\n",
            "\u001b[1;31msync_client.py\"\u001b[0m\u001b[1;31m, line \u001b[0m\u001b[1;31m962\u001b[0m\u001b[1;31m, in chat_completion\u001b[0m\n",
            "\u001b[1;31m    data = await \u001b[0m\u001b[1;31mself._inner_post\u001b[0m\u001b[1;31m(\u001b[0m\u001b[1;31mrequest_parameters, \u001b[0m\u001b[1;31mstream\u001b[0m\u001b[1;31m=\u001b[0m\u001b[1;31mstream\u001b[0m\u001b[1;31m)\u001b[0m\n",
            "\u001b[1;31m           ^^^^^^^^^^^^^^^^^^^^^^^^^^^^^^^^^^^^^^^^^^^^^^^^^^^^^^^^^\u001b[0m\n",
            "\u001b[1;31m  File \u001b[0m\n",
            "\u001b[1;31m\"/usr/local/lib/python3.11/dist-packages/huggingface_hub/inference/_generated/_a\u001b[0m\n",
            "\u001b[1;31msync_client.py\"\u001b[0m\u001b[1;31m, line \u001b[0m\u001b[1;31m288\u001b[0m\u001b[1;31m, in _inner_post\u001b[0m\n",
            "\u001b[1;31m    raise error\u001b[0m\n",
            "\u001b[1;31m  File \u001b[0m\n",
            "\u001b[1;31m\"/usr/local/lib/python3.11/dist-packages/huggingface_hub/inference/_generated/_a\u001b[0m\n",
            "\u001b[1;31msync_client.py\"\u001b[0m\u001b[1;31m, line \u001b[0m\u001b[1;31m274\u001b[0m\u001b[1;31m, in _inner_post\u001b[0m\n",
            "\u001b[1;31m    \u001b[0m\u001b[1;31mresponse.raise_for_status\u001b[0m\u001b[1;31m(\u001b[0m\u001b[1;31m)\u001b[0m\n",
            "\u001b[1;31m  File \u001b[0m\u001b[1;31m\"/usr/local/lib/python3.11/dist-packages/aiohttp/client_reqrep.py\"\u001b[0m\u001b[1;31m, line \u001b[0m\n",
            "\u001b[1;31m629\u001b[0m\u001b[1;31m, in raise_for_status\u001b[0m\n",
            "\u001b[1;31m    raise \u001b[0m\u001b[1;31mClientResponseError\u001b[0m\u001b[1;31m(\u001b[0m\n",
            "\u001b[1;31maiohttp.client_exceptions.ClientResponseError: \u001b[0m\u001b[1;31m400\u001b[0m\u001b[1;31m, \u001b[0m\u001b[1;31mmessage\u001b[0m\u001b[1;31m=\u001b[0m\u001b[1;31m'Bad Request'\u001b[0m\u001b[1;31m, \u001b[0m\n",
            "\u001b[1;31murl\u001b[0m\u001b[1;31m=\u001b[0m\u001b[1;31m'http://localhost:11434/v1/chat/completions'\u001b[0m\n",
            "\n",
            "»  \"Show me the details of a dataset named wmt16\"\n",
            "\n",
            "\u001b[1;31mError during agent run: \u001b[0m\u001b[1;31m400\u001b[0m\u001b[1;31m, \u001b[0m\u001b[1;31mmessage\u001b[0m\u001b[1;31m=\u001b[0m\u001b[1;31m'Bad Request'\u001b[0m\u001b[1;31m, \u001b[0m\n",
            "\u001b[1;31murl\u001b[0m\u001b[1;31m=\u001b[0m\u001b[1;31m'http://localhost:11434/v1/chat/completions'\u001b[0m\n",
            "\u001b[1;31mTraceback \u001b[0m\u001b[1;31m(\u001b[0m\u001b[1;31mmost recent call last\u001b[0m\u001b[1;31m)\u001b[0m\u001b[1;31m:\u001b[0m\n",
            "\u001b[1;31m  File \u001b[0m\n",
            "\u001b[1;31m\"/usr/local/lib/python3.11/dist-packages/huggingface_hub/inference/_mcp/cli.py\"\u001b[0m\u001b[1;31m,\u001b[0m\n",
            "\u001b[1;31mline \u001b[0m\u001b[1;31m178\u001b[0m\u001b[1;31m, in run_agent\u001b[0m\n",
            "\u001b[1;31m    async for chunk in \u001b[0m\u001b[1;31magent.run\u001b[0m\u001b[1;31m(\u001b[0m\u001b[1;31muser_input, \u001b[0m\u001b[1;31mabort_event\u001b[0m\u001b[1;31m=\u001b[0m\u001b[1;31mabort_event\u001b[0m\u001b[1;31m)\u001b[0m\u001b[1;31m:\u001b[0m\n",
            "\u001b[1;31m  File \u001b[0m\n",
            "\u001b[1;31m\"/usr/local/lib/python3.11/dist-packages/huggingface_hub/inference/_mcp/agent.py\u001b[0m\n",
            "\u001b[1;31m\"\u001b[0m\u001b[1;31m, line \u001b[0m\u001b[1;31m84\u001b[0m\u001b[1;31m, in run\u001b[0m\n",
            "\u001b[1;31m    async for item in \u001b[0m\u001b[1;31mself.process_single_turn_with_tools\u001b[0m\u001b[1;31m(\u001b[0m\n",
            "\u001b[1;31m  File \u001b[0m\n",
            "\u001b[1;31m\"/usr/local/lib/python3.11/dist-packages/huggingface_hub/inference/_mcp/mcp_clie\u001b[0m\n",
            "\u001b[1;31mnt.py\"\u001b[0m\u001b[1;31m, line \u001b[0m\u001b[1;31m261\u001b[0m\u001b[1;31m, in process_single_turn_with_tools\u001b[0m\n",
            "\u001b[1;31m    response = await \u001b[0m\u001b[1;31mself.client.chat.completions.create\u001b[0m\u001b[1;31m(\u001b[0m\n",
            "\u001b[1;31m               ^^^^^^^^^^^^^^^^^^^^^^^^^^^^^^^^^^^^^^^^^^\u001b[0m\n",
            "\u001b[1;31m  File \u001b[0m\n",
            "\u001b[1;31m\"/usr/local/lib/python3.11/dist-packages/huggingface_hub/inference/_generated/_a\u001b[0m\n",
            "\u001b[1;31msync_client.py\"\u001b[0m\u001b[1;31m, line \u001b[0m\u001b[1;31m962\u001b[0m\u001b[1;31m, in chat_completion\u001b[0m\n",
            "\u001b[1;31m    data = await \u001b[0m\u001b[1;31mself._inner_post\u001b[0m\u001b[1;31m(\u001b[0m\u001b[1;31mrequest_parameters, \u001b[0m\u001b[1;31mstream\u001b[0m\u001b[1;31m=\u001b[0m\u001b[1;31mstream\u001b[0m\u001b[1;31m)\u001b[0m\n",
            "\u001b[1;31m           ^^^^^^^^^^^^^^^^^^^^^^^^^^^^^^^^^^^^^^^^^^^^^^^^^^^^^^^^^\u001b[0m\n",
            "\u001b[1;31m  File \u001b[0m\n",
            "\u001b[1;31m\"/usr/local/lib/python3.11/dist-packages/huggingface_hub/inference/_generated/_a\u001b[0m\n",
            "\u001b[1;31msync_client.py\"\u001b[0m\u001b[1;31m, line \u001b[0m\u001b[1;31m288\u001b[0m\u001b[1;31m, in _inner_post\u001b[0m\n",
            "\u001b[1;31m    raise error\u001b[0m\n",
            "\u001b[1;31m  File \u001b[0m\n",
            "\u001b[1;31m\"/usr/local/lib/python3.11/dist-packages/huggingface_hub/inference/_generated/_a\u001b[0m\n",
            "\u001b[1;31msync_client.py\"\u001b[0m\u001b[1;31m, line \u001b[0m\u001b[1;31m274\u001b[0m\u001b[1;31m, in _inner_post\u001b[0m\n",
            "\u001b[1;31m    \u001b[0m\u001b[1;31mresponse.raise_for_status\u001b[0m\u001b[1;31m(\u001b[0m\u001b[1;31m)\u001b[0m\n",
            "\u001b[1;31m  File \u001b[0m\u001b[1;31m\"/usr/local/lib/python3.11/dist-packages/aiohttp/client_reqrep.py\"\u001b[0m\u001b[1;31m, line \u001b[0m\n",
            "\u001b[1;31m629\u001b[0m\u001b[1;31m, in raise_for_status\u001b[0m\n",
            "\u001b[1;31m    raise \u001b[0m\u001b[1;31mClientResponseError\u001b[0m\u001b[1;31m(\u001b[0m\n",
            "\u001b[1;31maiohttp.client_exceptions.ClientResponseError: \u001b[0m\u001b[1;31m400\u001b[0m\u001b[1;31m, \u001b[0m\u001b[1;31mmessage\u001b[0m\u001b[1;31m=\u001b[0m\u001b[1;31m'Bad Request'\u001b[0m\u001b[1;31m, \u001b[0m\n",
            "\u001b[1;31murl\u001b[0m\u001b[1;31m=\u001b[0m\u001b[1;31m'http://localhost:11434/v1/chat/completions'\u001b[0m\n",
            "\n",
            "»  \n",
            "\u001b[31mInterrupted. Press Ctrl+C again to quit.\u001b[0m\n",
            "\n",
            "\u001b[31mExiting\u001b[0m\u001b[31m...\u001b[0m\n",
            "\n"
          ]
        }
      ]
    },
    {
      "cell_type": "code",
      "source": [
        "{\n",
        "  \"model\": \"llama2:latest\",\n",
        "  \"endpointUrl\": \"http://localhost:11434\",\n",
        "  \"servers\": [\n",
        "    {\n",
        "      \"type\": \"http\",\n",
        "      \"url\": \"https://evalstate-hf-mcp-server.hf.space/mcp\"\n",
        "    }\n",
        "  ]\n",
        "}"
      ],
      "metadata": {
        "id": "wEsHYoZOVfB0"
      },
      "execution_count": null,
      "outputs": []
    },
    {
      "cell_type": "code",
      "source": [
        "!tiny-agents run ./my-agent"
      ],
      "metadata": {
        "colab": {
          "base_uri": "https://localhost:8080/"
        },
        "id": "YrV0rCe-Wvj-",
        "outputId": "7694812d-f53b-4506-ca21-7ddc6ddab9c1"
      },
      "execution_count": 26,
      "outputs": [
        {
          "output_type": "stream",
          "name": "stdout",
          "text": [
            "\u001b[1;34mAgent loaded with \u001b[0m\u001b[1;34m0\u001b[0m\u001b[1;34m tools:\u001b[0m\n",
            "»  hi\n",
            "\n",
            "\u001b[1;31mError during agent run: \u001b[0m\u001b[1;31m404\u001b[0m\u001b[1;31m, \u001b[0m\u001b[1;31mmessage\u001b[0m\u001b[1;31m=\u001b[0m\u001b[1;31m'Not Found'\u001b[0m\u001b[1;31m, \u001b[0m\n",
            "\u001b[1;31murl\u001b[0m\u001b[1;31m=\u001b[0m\u001b[1;31m'http://localhost:11434/api/generate/v1/chat/completions'\u001b[0m\n",
            "\u001b[1;31mTraceback \u001b[0m\u001b[1;31m(\u001b[0m\u001b[1;31mmost recent call last\u001b[0m\u001b[1;31m)\u001b[0m\u001b[1;31m:\u001b[0m\n",
            "\u001b[1;31m  File \u001b[0m\n",
            "\u001b[1;31m\"/usr/local/lib/python3.11/dist-packages/huggingface_hub/inference/_mcp/cli.py\"\u001b[0m\u001b[1;31m,\u001b[0m\n",
            "\u001b[1;31mline \u001b[0m\u001b[1;31m178\u001b[0m\u001b[1;31m, in run_agent\u001b[0m\n",
            "\u001b[1;31m    async for chunk in \u001b[0m\u001b[1;31magent.run\u001b[0m\u001b[1;31m(\u001b[0m\u001b[1;31muser_input, \u001b[0m\u001b[1;31mabort_event\u001b[0m\u001b[1;31m=\u001b[0m\u001b[1;31mabort_event\u001b[0m\u001b[1;31m)\u001b[0m\u001b[1;31m:\u001b[0m\n",
            "\u001b[1;31m  File \u001b[0m\n",
            "\u001b[1;31m\"/usr/local/lib/python3.11/dist-packages/huggingface_hub/inference/_mcp/agent.py\u001b[0m\n",
            "\u001b[1;31m\"\u001b[0m\u001b[1;31m, line \u001b[0m\u001b[1;31m84\u001b[0m\u001b[1;31m, in run\u001b[0m\n",
            "\u001b[1;31m    async for item in \u001b[0m\u001b[1;31mself.process_single_turn_with_tools\u001b[0m\u001b[1;31m(\u001b[0m\n",
            "\u001b[1;31m  File \u001b[0m\n",
            "\u001b[1;31m\"/usr/local/lib/python3.11/dist-packages/huggingface_hub/inference/_mcp/mcp_clie\u001b[0m\n",
            "\u001b[1;31mnt.py\"\u001b[0m\u001b[1;31m, line \u001b[0m\u001b[1;31m261\u001b[0m\u001b[1;31m, in process_single_turn_with_tools\u001b[0m\n",
            "\u001b[1;31m    response = await \u001b[0m\u001b[1;31mself.client.chat.completions.create\u001b[0m\u001b[1;31m(\u001b[0m\n",
            "\u001b[1;31m               ^^^^^^^^^^^^^^^^^^^^^^^^^^^^^^^^^^^^^^^^^^\u001b[0m\n",
            "\u001b[1;31m  File \u001b[0m\n",
            "\u001b[1;31m\"/usr/local/lib/python3.11/dist-packages/huggingface_hub/inference/_generated/_a\u001b[0m\n",
            "\u001b[1;31msync_client.py\"\u001b[0m\u001b[1;31m, line \u001b[0m\u001b[1;31m962\u001b[0m\u001b[1;31m, in chat_completion\u001b[0m\n",
            "\u001b[1;31m    data = await \u001b[0m\u001b[1;31mself._inner_post\u001b[0m\u001b[1;31m(\u001b[0m\u001b[1;31mrequest_parameters, \u001b[0m\u001b[1;31mstream\u001b[0m\u001b[1;31m=\u001b[0m\u001b[1;31mstream\u001b[0m\u001b[1;31m)\u001b[0m\n",
            "\u001b[1;31m           ^^^^^^^^^^^^^^^^^^^^^^^^^^^^^^^^^^^^^^^^^^^^^^^^^^^^^^^^^\u001b[0m\n",
            "\u001b[1;31m  File \u001b[0m\n",
            "\u001b[1;31m\"/usr/local/lib/python3.11/dist-packages/huggingface_hub/inference/_generated/_a\u001b[0m\n",
            "\u001b[1;31msync_client.py\"\u001b[0m\u001b[1;31m, line \u001b[0m\u001b[1;31m288\u001b[0m\u001b[1;31m, in _inner_post\u001b[0m\n",
            "\u001b[1;31m    raise error\u001b[0m\n",
            "\u001b[1;31m  File \u001b[0m\n",
            "\u001b[1;31m\"/usr/local/lib/python3.11/dist-packages/huggingface_hub/inference/_generated/_a\u001b[0m\n",
            "\u001b[1;31msync_client.py\"\u001b[0m\u001b[1;31m, line \u001b[0m\u001b[1;31m274\u001b[0m\u001b[1;31m, in _inner_post\u001b[0m\n",
            "\u001b[1;31m    \u001b[0m\u001b[1;31mresponse.raise_for_status\u001b[0m\u001b[1;31m(\u001b[0m\u001b[1;31m)\u001b[0m\n",
            "\u001b[1;31m  File \u001b[0m\u001b[1;31m\"/usr/local/lib/python3.11/dist-packages/aiohttp/client_reqrep.py\"\u001b[0m\u001b[1;31m, line \u001b[0m\n",
            "\u001b[1;31m629\u001b[0m\u001b[1;31m, in raise_for_status\u001b[0m\n",
            "\u001b[1;31m    raise \u001b[0m\u001b[1;31mClientResponseError\u001b[0m\u001b[1;31m(\u001b[0m\n",
            "\u001b[1;31maiohttp.client_exceptions.ClientResponseError: \u001b[0m\u001b[1;31m404\u001b[0m\u001b[1;31m, \u001b[0m\u001b[1;31mmessage\u001b[0m\u001b[1;31m=\u001b[0m\u001b[1;31m'Not Found'\u001b[0m\u001b[1;31m, \u001b[0m\n",
            "\u001b[1;31murl\u001b[0m\u001b[1;31m=\u001b[0m\u001b[1;31m'http://localhost:11434/api/generate/v1/chat/completions'\u001b[0m\n",
            "\n",
            "»  \n",
            "\u001b[31mInterrupted. Press Ctrl+C again to quit.\u001b[0m\n",
            "\n",
            "\u001b[31mExiting\u001b[0m\u001b[31m...\u001b[0m\n",
            "\n"
          ]
        }
      ]
    },
    {
      "cell_type": "code",
      "source": [
        "!curl http://localhost:11434/api/generate -d '{\n",
        "\"model\": \"llama2:latest\",\n",
        "\"prompt\": \"Hello!\"\n",
        "}'"
      ],
      "metadata": {
        "colab": {
          "base_uri": "https://localhost:8080/",
          "height": 106
        },
        "id": "tAw8Gl_3Wv08",
        "outputId": "0dd62fe9-9d0c-4ac2-97c4-4962253fadee"
      },
      "execution_count": 31,
      "outputs": [
        {
          "output_type": "error",
          "ename": "SyntaxError",
          "evalue": "unmatched '}' (ipython-input-609660507.py, line 4)",
          "traceback": [
            "\u001b[0;36m  File \u001b[0;32m\"/tmp/ipython-input-609660507.py\"\u001b[0;36m, line \u001b[0;32m4\u001b[0m\n\u001b[0;31m    }'\u001b[0m\n\u001b[0m    ^\u001b[0m\n\u001b[0;31mSyntaxError\u001b[0m\u001b[0;31m:\u001b[0m unmatched '}'\n"
          ]
        }
      ]
    },
    {
      "cell_type": "code",
      "source": [],
      "metadata": {
        "id": "tjlCaezGXCCl"
      },
      "execution_count": null,
      "outputs": []
    },
    {
      "cell_type": "code",
      "metadata": {
        "colab": {
          "base_uri": "https://localhost:8080/"
        },
        "id": "6cd3e45a",
        "outputId": "c080e634-fd20-41cb-9459-87eee8e01b71"
      },
      "source": [
        "!tiny-agents run ./my-agent"
      ],
      "execution_count": 32,
      "outputs": [
        {
          "output_type": "stream",
          "name": "stdout",
          "text": [
            "\u001b[1;34mAgent loaded with \u001b[0m\u001b[1;34m0\u001b[0m\u001b[1;34m tools:\u001b[0m\n",
            "»  hi\n",
            "\n",
            "\u001b[1;31mError during agent run: \u001b[0m\u001b[1;31m404\u001b[0m\u001b[1;31m, \u001b[0m\u001b[1;31mmessage\u001b[0m\u001b[1;31m=\u001b[0m\u001b[1;31m'Not Found'\u001b[0m\u001b[1;31m, \u001b[0m\n",
            "\u001b[1;31murl\u001b[0m\u001b[1;31m=\u001b[0m\u001b[1;31m'http://localhost:11434/api/generate/v1/chat/completions'\u001b[0m\n",
            "\u001b[1;31mTraceback \u001b[0m\u001b[1;31m(\u001b[0m\u001b[1;31mmost recent call last\u001b[0m\u001b[1;31m)\u001b[0m\u001b[1;31m:\u001b[0m\n",
            "\u001b[1;31m  File \u001b[0m\n",
            "\u001b[1;31m\"/usr/local/lib/python3.11/dist-packages/huggingface_hub/inference/_mcp/cli.py\"\u001b[0m\u001b[1;31m,\u001b[0m\n",
            "\u001b[1;31mline \u001b[0m\u001b[1;31m178\u001b[0m\u001b[1;31m, in run_agent\u001b[0m\n",
            "\u001b[1;31m    async for chunk in \u001b[0m\u001b[1;31magent.run\u001b[0m\u001b[1;31m(\u001b[0m\u001b[1;31muser_input, \u001b[0m\u001b[1;31mabort_event\u001b[0m\u001b[1;31m=\u001b[0m\u001b[1;31mabort_event\u001b[0m\u001b[1;31m)\u001b[0m\u001b[1;31m:\u001b[0m\n",
            "\u001b[1;31m  File \u001b[0m\n",
            "\u001b[1;31m\"/usr/local/lib/python3.11/dist-packages/huggingface_hub/inference/_mcp/agent.py\u001b[0m\n",
            "\u001b[1;31m\"\u001b[0m\u001b[1;31m, line \u001b[0m\u001b[1;31m84\u001b[0m\u001b[1;31m, in run\u001b[0m\n",
            "\u001b[1;31m    async for item in \u001b[0m\u001b[1;31mself.process_single_turn_with_tools\u001b[0m\u001b[1;31m(\u001b[0m\n",
            "\u001b[1;31m  File \u001b[0m\n",
            "\u001b[1;31m\"/usr/local/lib/python3.11/dist-packages/huggingface_hub/inference/_mcp/mcp_clie\u001b[0m\n",
            "\u001b[1;31mnt.py\"\u001b[0m\u001b[1;31m, line \u001b[0m\u001b[1;31m261\u001b[0m\u001b[1;31m, in process_single_turn_with_tools\u001b[0m\n",
            "\u001b[1;31m    response = await \u001b[0m\u001b[1;31mself.client.chat.completions.create\u001b[0m\u001b[1;31m(\u001b[0m\n",
            "\u001b[1;31m               ^^^^^^^^^^^^^^^^^^^^^^^^^^^^^^^^^^^^^^^^^^\u001b[0m\n",
            "\u001b[1;31m  File \u001b[0m\n",
            "\u001b[1;31m\"/usr/local/lib/python3.11/dist-packages/huggingface_hub/inference/_generated/_a\u001b[0m\n",
            "\u001b[1;31msync_client.py\"\u001b[0m\u001b[1;31m, line \u001b[0m\u001b[1;31m962\u001b[0m\u001b[1;31m, in chat_completion\u001b[0m\n",
            "\u001b[1;31m    data = await \u001b[0m\u001b[1;31mself._inner_post\u001b[0m\u001b[1;31m(\u001b[0m\u001b[1;31mrequest_parameters, \u001b[0m\u001b[1;31mstream\u001b[0m\u001b[1;31m=\u001b[0m\u001b[1;31mstream\u001b[0m\u001b[1;31m)\u001b[0m\n",
            "\u001b[1;31m           ^^^^^^^^^^^^^^^^^^^^^^^^^^^^^^^^^^^^^^^^^^^^^^^^^^^^^^^^^\u001b[0m\n",
            "\u001b[1;31m  File \u001b[0m\n",
            "\u001b[1;31m\"/usr/local/lib/python3.11/dist-packages/huggingface_hub/inference/_generated/_a\u001b[0m\n",
            "\u001b[1;31msync_client.py\"\u001b[0m\u001b[1;31m, line \u001b[0m\u001b[1;31m288\u001b[0m\u001b[1;31m, in _inner_post\u001b[0m\n",
            "\u001b[1;31m    raise error\u001b[0m\n",
            "\u001b[1;31m  File \u001b[0m\n",
            "\u001b[1;31m\"/usr/local/lib/python3.11/dist-packages/huggingface_hub/inference/_generated/_a\u001b[0m\n",
            "\u001b[1;31msync_client.py\"\u001b[0m\u001b[1;31m, line \u001b[0m\u001b[1;31m274\u001b[0m\u001b[1;31m, in _inner_post\u001b[0m\n",
            "\u001b[1;31m    \u001b[0m\u001b[1;31mresponse.raise_for_status\u001b[0m\u001b[1;31m(\u001b[0m\u001b[1;31m)\u001b[0m\n",
            "\u001b[1;31m  File \u001b[0m\u001b[1;31m\"/usr/local/lib/python3.11/dist-packages/aiohttp/client_reqrep.py\"\u001b[0m\u001b[1;31m, line \u001b[0m\n",
            "\u001b[1;31m629\u001b[0m\u001b[1;31m, in raise_for_status\u001b[0m\n",
            "\u001b[1;31m    raise \u001b[0m\u001b[1;31mClientResponseError\u001b[0m\u001b[1;31m(\u001b[0m\n",
            "\u001b[1;31maiohttp.client_exceptions.ClientResponseError: \u001b[0m\u001b[1;31m404\u001b[0m\u001b[1;31m, \u001b[0m\u001b[1;31mmessage\u001b[0m\u001b[1;31m=\u001b[0m\u001b[1;31m'Not Found'\u001b[0m\u001b[1;31m, \u001b[0m\n",
            "\u001b[1;31murl\u001b[0m\u001b[1;31m=\u001b[0m\u001b[1;31m'http://localhost:11434/api/generate/v1/chat/completions'\u001b[0m\n",
            "\n",
            "»  \n",
            "\u001b[31mInterrupted. Press Ctrl+C again to quit.\u001b[0m\n",
            "\n",
            "\u001b[31mExiting\u001b[0m\u001b[31m...\u001b[0m\n",
            "\n",
            "^C\n"
          ]
        }
      ]
    },
    {
      "cell_type": "code",
      "source": [
        "!tiny-agents run ./my-agent"
      ],
      "metadata": {
        "colab": {
          "base_uri": "https://localhost:8080/"
        },
        "id": "L4MIqQBzXscv",
        "outputId": "ee25c778-ca77-4cb0-dcea-f0ffe08a4c39"
      },
      "execution_count": 33,
      "outputs": [
        {
          "output_type": "stream",
          "name": "stdout",
          "text": [
            "\u001b[1;34mAgent loaded with \u001b[0m\u001b[1;34m10\u001b[0m\u001b[1;34m tools:\u001b[0m\n",
            "\u001b[34m • hf_whoami\u001b[0m\n",
            "\u001b[34m • space_search\u001b[0m\n",
            "\u001b[34m • model_search\u001b[0m\n",
            "\u001b[34m • model_details\u001b[0m\n",
            "\u001b[34m • paper_search\u001b[0m\n",
            "\u001b[34m • dataset_search\u001b[0m\n",
            "\u001b[34m • dataset_details\u001b[0m\n",
            "\u001b[34m • hf_doc_search\u001b[0m\n",
            "\u001b[34m • gr1_flux1_schnell_infer\u001b[0m\n",
            "\u001b[34m • gr2_0_abidlabs_easyghiblis_ndition_generate_image\u001b[0m\n",
            "»  use model_search for best model in huggingface\n",
            "\n",
            "\u001b[1;31mError during agent run: \u001b[0m\u001b[1;31m400\u001b[0m\u001b[1;31m, \u001b[0m\u001b[1;31mmessage\u001b[0m\u001b[1;31m=\u001b[0m\u001b[1;31m'Bad Request'\u001b[0m\u001b[1;31m, \u001b[0m\n",
            "\u001b[1;31murl\u001b[0m\u001b[1;31m=\u001b[0m\u001b[1;31m'http://localhost:11434/v1/chat/completions'\u001b[0m\n",
            "\u001b[1;31mTraceback \u001b[0m\u001b[1;31m(\u001b[0m\u001b[1;31mmost recent call last\u001b[0m\u001b[1;31m)\u001b[0m\u001b[1;31m:\u001b[0m\n",
            "\u001b[1;31m  File \u001b[0m\n",
            "\u001b[1;31m\"/usr/local/lib/python3.11/dist-packages/huggingface_hub/inference/_mcp/cli.py\"\u001b[0m\u001b[1;31m,\u001b[0m\n",
            "\u001b[1;31mline \u001b[0m\u001b[1;31m178\u001b[0m\u001b[1;31m, in run_agent\u001b[0m\n",
            "\u001b[1;31m    async for chunk in \u001b[0m\u001b[1;31magent.run\u001b[0m\u001b[1;31m(\u001b[0m\u001b[1;31muser_input, \u001b[0m\u001b[1;31mabort_event\u001b[0m\u001b[1;31m=\u001b[0m\u001b[1;31mabort_event\u001b[0m\u001b[1;31m)\u001b[0m\u001b[1;31m:\u001b[0m\n",
            "\u001b[1;31m  File \u001b[0m\n",
            "\u001b[1;31m\"/usr/local/lib/python3.11/dist-packages/huggingface_hub/inference/_mcp/agent.py\u001b[0m\n",
            "\u001b[1;31m\"\u001b[0m\u001b[1;31m, line \u001b[0m\u001b[1;31m84\u001b[0m\u001b[1;31m, in run\u001b[0m\n",
            "\u001b[1;31m    async for item in \u001b[0m\u001b[1;31mself.process_single_turn_with_tools\u001b[0m\u001b[1;31m(\u001b[0m\n",
            "\u001b[1;31m  File \u001b[0m\n",
            "\u001b[1;31m\"/usr/local/lib/python3.11/dist-packages/huggingface_hub/inference/_mcp/mcp_clie\u001b[0m\n",
            "\u001b[1;31mnt.py\"\u001b[0m\u001b[1;31m, line \u001b[0m\u001b[1;31m261\u001b[0m\u001b[1;31m, in process_single_turn_with_tools\u001b[0m\n",
            "\u001b[1;31m    response = await \u001b[0m\u001b[1;31mself.client.chat.completions.create\u001b[0m\u001b[1;31m(\u001b[0m\n",
            "\u001b[1;31m               ^^^^^^^^^^^^^^^^^^^^^^^^^^^^^^^^^^^^^^^^^^\u001b[0m\n",
            "\u001b[1;31m  File \u001b[0m\n",
            "\u001b[1;31m\"/usr/local/lib/python3.11/dist-packages/huggingface_hub/inference/_generated/_a\u001b[0m\n",
            "\u001b[1;31msync_client.py\"\u001b[0m\u001b[1;31m, line \u001b[0m\u001b[1;31m962\u001b[0m\u001b[1;31m, in chat_completion\u001b[0m\n",
            "\u001b[1;31m    data = await \u001b[0m\u001b[1;31mself._inner_post\u001b[0m\u001b[1;31m(\u001b[0m\u001b[1;31mrequest_parameters, \u001b[0m\u001b[1;31mstream\u001b[0m\u001b[1;31m=\u001b[0m\u001b[1;31mstream\u001b[0m\u001b[1;31m)\u001b[0m\n",
            "\u001b[1;31m           ^^^^^^^^^^^^^^^^^^^^^^^^^^^^^^^^^^^^^^^^^^^^^^^^^^^^^^^^^\u001b[0m\n",
            "\u001b[1;31m  File \u001b[0m\n",
            "\u001b[1;31m\"/usr/local/lib/python3.11/dist-packages/huggingface_hub/inference/_generated/_a\u001b[0m\n",
            "\u001b[1;31msync_client.py\"\u001b[0m\u001b[1;31m, line \u001b[0m\u001b[1;31m288\u001b[0m\u001b[1;31m, in _inner_post\u001b[0m\n",
            "\u001b[1;31m    raise error\u001b[0m\n",
            "\u001b[1;31m  File \u001b[0m\n",
            "\u001b[1;31m\"/usr/local/lib/python3.11/dist-packages/huggingface_hub/inference/_generated/_a\u001b[0m\n",
            "\u001b[1;31msync_client.py\"\u001b[0m\u001b[1;31m, line \u001b[0m\u001b[1;31m274\u001b[0m\u001b[1;31m, in _inner_post\u001b[0m\n",
            "\u001b[1;31m    \u001b[0m\u001b[1;31mresponse.raise_for_status\u001b[0m\u001b[1;31m(\u001b[0m\u001b[1;31m)\u001b[0m\n",
            "\u001b[1;31m  File \u001b[0m\u001b[1;31m\"/usr/local/lib/python3.11/dist-packages/aiohttp/client_reqrep.py\"\u001b[0m\u001b[1;31m, line \u001b[0m\n",
            "\u001b[1;31m629\u001b[0m\u001b[1;31m, in raise_for_status\u001b[0m\n",
            "\u001b[1;31m    raise \u001b[0m\u001b[1;31mClientResponseError\u001b[0m\u001b[1;31m(\u001b[0m\n",
            "\u001b[1;31maiohttp.client_exceptions.ClientResponseError: \u001b[0m\u001b[1;31m400\u001b[0m\u001b[1;31m, \u001b[0m\u001b[1;31mmessage\u001b[0m\u001b[1;31m=\u001b[0m\u001b[1;31m'Bad Request'\u001b[0m\u001b[1;31m, \u001b[0m\n",
            "\u001b[1;31murl\u001b[0m\u001b[1;31m=\u001b[0m\u001b[1;31m'http://localhost:11434/v1/chat/completions'\u001b[0m\n",
            "\n",
            "»  \n",
            "\u001b[31mInterrupted. Press Ctrl+C again to quit.\u001b[0m\n",
            "\n",
            "\u001b[31mExiting\u001b[0m\u001b[31m...\u001b[0m\n",
            "\n"
          ]
        }
      ]
    },
    {
      "cell_type": "code",
      "source": [
        "!tiny-agents run ./my-agent"
      ],
      "metadata": {
        "colab": {
          "base_uri": "https://localhost:8080/"
        },
        "id": "Y0HBFABaYODo",
        "outputId": "845af088-02c4-4a81-93a6-852fef5ba40b"
      },
      "execution_count": 34,
      "outputs": [
        {
          "output_type": "stream",
          "name": "stdout",
          "text": [
            "\u001b[1;34mAgent loaded with \u001b[0m\u001b[1;34m10\u001b[0m\u001b[1;34m tools:\u001b[0m\n",
            "\u001b[34m • hf_whoami\u001b[0m\n",
            "\u001b[34m • space_search\u001b[0m\n",
            "\u001b[34m • model_search\u001b[0m\n",
            "\u001b[34m • model_details\u001b[0m\n",
            "\u001b[34m • paper_search\u001b[0m\n",
            "\u001b[34m • dataset_search\u001b[0m\n",
            "\u001b[34m • dataset_details\u001b[0m\n",
            "\u001b[34m • hf_doc_search\u001b[0m\n",
            "\u001b[34m • gr1_flux1_schnell_infer\u001b[0m\n",
            "\u001b[34m • gr2_0_abidlabs_easyghiblis_ndition_generate_image\u001b[0m\n",
            "»  hi]\n",
            "\n",
            "\u001b[1;31mError during agent run: \u001b[0m\u001b[1;31m400\u001b[0m\u001b[1;31m, \u001b[0m\u001b[1;31mmessage\u001b[0m\u001b[1;31m=\u001b[0m\u001b[1;31m'Bad Request'\u001b[0m\u001b[1;31m, \u001b[0m\n",
            "\u001b[1;31murl\u001b[0m\u001b[1;31m=\u001b[0m\u001b[1;31m'http://localhost:11434/v1/chat/completions'\u001b[0m\n",
            "\u001b[1;31mTraceback \u001b[0m\u001b[1;31m(\u001b[0m\u001b[1;31mmost recent call last\u001b[0m\u001b[1;31m)\u001b[0m\u001b[1;31m:\u001b[0m\n",
            "\u001b[1;31m  File \u001b[0m\n",
            "\u001b[1;31m\"/usr/local/lib/python3.11/dist-packages/huggingface_hub/inference/_mcp/cli.py\"\u001b[0m\u001b[1;31m,\u001b[0m\n",
            "\u001b[1;31mline \u001b[0m\u001b[1;31m178\u001b[0m\u001b[1;31m, in run_agent\u001b[0m\n",
            "\u001b[1;31m    async for chunk in \u001b[0m\u001b[1;31magent.run\u001b[0m\u001b[1;31m(\u001b[0m\u001b[1;31muser_input, \u001b[0m\u001b[1;31mabort_event\u001b[0m\u001b[1;31m=\u001b[0m\u001b[1;31mabort_event\u001b[0m\u001b[1;31m)\u001b[0m\u001b[1;31m:\u001b[0m\n",
            "\u001b[1;31m  File \u001b[0m\n",
            "\u001b[1;31m\"/usr/local/lib/python3.11/dist-packages/huggingface_hub/inference/_mcp/agent.py\u001b[0m\n",
            "\u001b[1;31m\"\u001b[0m\u001b[1;31m, line \u001b[0m\u001b[1;31m84\u001b[0m\u001b[1;31m, in run\u001b[0m\n",
            "\u001b[1;31m    async for item in \u001b[0m\u001b[1;31mself.process_single_turn_with_tools\u001b[0m\u001b[1;31m(\u001b[0m\n",
            "\u001b[1;31m  File \u001b[0m\n",
            "\u001b[1;31m\"/usr/local/lib/python3.11/dist-packages/huggingface_hub/inference/_mcp/mcp_clie\u001b[0m\n",
            "\u001b[1;31mnt.py\"\u001b[0m\u001b[1;31m, line \u001b[0m\u001b[1;31m261\u001b[0m\u001b[1;31m, in process_single_turn_with_tools\u001b[0m\n",
            "\u001b[1;31m    response = await \u001b[0m\u001b[1;31mself.client.chat.completions.create\u001b[0m\u001b[1;31m(\u001b[0m\n",
            "\u001b[1;31m               ^^^^^^^^^^^^^^^^^^^^^^^^^^^^^^^^^^^^^^^^^^\u001b[0m\n",
            "\u001b[1;31m  File \u001b[0m\n",
            "\u001b[1;31m\"/usr/local/lib/python3.11/dist-packages/huggingface_hub/inference/_generated/_a\u001b[0m\n",
            "\u001b[1;31msync_client.py\"\u001b[0m\u001b[1;31m, line \u001b[0m\u001b[1;31m962\u001b[0m\u001b[1;31m, in chat_completion\u001b[0m\n",
            "\u001b[1;31m    data = await \u001b[0m\u001b[1;31mself._inner_post\u001b[0m\u001b[1;31m(\u001b[0m\u001b[1;31mrequest_parameters, \u001b[0m\u001b[1;31mstream\u001b[0m\u001b[1;31m=\u001b[0m\u001b[1;31mstream\u001b[0m\u001b[1;31m)\u001b[0m\n",
            "\u001b[1;31m           ^^^^^^^^^^^^^^^^^^^^^^^^^^^^^^^^^^^^^^^^^^^^^^^^^^^^^^^^^\u001b[0m\n",
            "\u001b[1;31m  File \u001b[0m\n",
            "\u001b[1;31m\"/usr/local/lib/python3.11/dist-packages/huggingface_hub/inference/_generated/_a\u001b[0m\n",
            "\u001b[1;31msync_client.py\"\u001b[0m\u001b[1;31m, line \u001b[0m\u001b[1;31m288\u001b[0m\u001b[1;31m, in _inner_post\u001b[0m\n",
            "\u001b[1;31m    raise error\u001b[0m\n",
            "\u001b[1;31m  File \u001b[0m\n",
            "\u001b[1;31m\"/usr/local/lib/python3.11/dist-packages/huggingface_hub/inference/_generated/_a\u001b[0m\n",
            "\u001b[1;31msync_client.py\"\u001b[0m\u001b[1;31m, line \u001b[0m\u001b[1;31m274\u001b[0m\u001b[1;31m, in _inner_post\u001b[0m\n",
            "\u001b[1;31m    \u001b[0m\u001b[1;31mresponse.raise_for_status\u001b[0m\u001b[1;31m(\u001b[0m\u001b[1;31m)\u001b[0m\n",
            "\u001b[1;31m  File \u001b[0m\u001b[1;31m\"/usr/local/lib/python3.11/dist-packages/aiohttp/client_reqrep.py\"\u001b[0m\u001b[1;31m, line \u001b[0m\n",
            "\u001b[1;31m629\u001b[0m\u001b[1;31m, in raise_for_status\u001b[0m\n",
            "\u001b[1;31m    raise \u001b[0m\u001b[1;31mClientResponseError\u001b[0m\u001b[1;31m(\u001b[0m\n",
            "\u001b[1;31maiohttp.client_exceptions.ClientResponseError: \u001b[0m\u001b[1;31m400\u001b[0m\u001b[1;31m, \u001b[0m\u001b[1;31mmessage\u001b[0m\u001b[1;31m=\u001b[0m\u001b[1;31m'Bad Request'\u001b[0m\u001b[1;31m, \u001b[0m\n",
            "\u001b[1;31murl\u001b[0m\u001b[1;31m=\u001b[0m\u001b[1;31m'http://localhost:11434/v1/chat/completions'\u001b[0m\n",
            "\n",
            "»  \n",
            "\u001b[31mInterrupted. Press Ctrl+C again to quit.\u001b[0m\n",
            "\n",
            "\u001b[31mExiting\u001b[0m\u001b[31m...\u001b[0m\n",
            "\n"
          ]
        }
      ]
    },
    {
      "cell_type": "code",
      "source": [
        "!tiny-agents run ./my-agent"
      ],
      "metadata": {
        "colab": {
          "base_uri": "https://localhost:8080/"
        },
        "id": "VEZnFa01YbUo",
        "outputId": "6da516e5-675d-4a1e-9581-11ba4bfd988a"
      },
      "execution_count": 35,
      "outputs": [
        {
          "output_type": "stream",
          "name": "stdout",
          "text": [
            "\u001b[1;34mAgent loaded with \u001b[0m\u001b[1;34m10\u001b[0m\u001b[1;34m tools:\u001b[0m\n",
            "\u001b[34m • hf_whoami\u001b[0m\n",
            "\u001b[34m • space_search\u001b[0m\n",
            "\u001b[34m • model_search\u001b[0m\n",
            "\u001b[34m • model_details\u001b[0m\n",
            "\u001b[34m • paper_search\u001b[0m\n",
            "\u001b[34m • dataset_search\u001b[0m\n",
            "\u001b[34m • dataset_details\u001b[0m\n",
            "\u001b[34m • hf_doc_search\u001b[0m\n",
            "\u001b[34m • gr1_flux1_schnell_infer\u001b[0m\n",
            "\u001b[34m • gr2_0_abidlabs_easyghiblis_ndition_generate_image\u001b[0m\n",
            "»  dataset_search\n",
            "\n",
            "\u001b[1;31mError during agent run: \u001b[0m\u001b[1;31m400\u001b[0m\u001b[1;31m, \u001b[0m\u001b[1;31mmessage\u001b[0m\u001b[1;31m=\u001b[0m\u001b[1;31m'Bad Request'\u001b[0m\u001b[1;31m, \u001b[0m\n",
            "\u001b[1;31murl\u001b[0m\u001b[1;31m=\u001b[0m\u001b[1;31m'http://localhost:11434/v1/chat/completions'\u001b[0m\n",
            "\u001b[1;31mTraceback \u001b[0m\u001b[1;31m(\u001b[0m\u001b[1;31mmost recent call last\u001b[0m\u001b[1;31m)\u001b[0m\u001b[1;31m:\u001b[0m\n",
            "\u001b[1;31m  File \u001b[0m\n",
            "\u001b[1;31m\"/usr/local/lib/python3.11/dist-packages/huggingface_hub/inference/_mcp/cli.py\"\u001b[0m\u001b[1;31m,\u001b[0m\n",
            "\u001b[1;31mline \u001b[0m\u001b[1;31m178\u001b[0m\u001b[1;31m, in run_agent\u001b[0m\n",
            "\u001b[1;31m    async for chunk in \u001b[0m\u001b[1;31magent.run\u001b[0m\u001b[1;31m(\u001b[0m\u001b[1;31muser_input, \u001b[0m\u001b[1;31mabort_event\u001b[0m\u001b[1;31m=\u001b[0m\u001b[1;31mabort_event\u001b[0m\u001b[1;31m)\u001b[0m\u001b[1;31m:\u001b[0m\n",
            "\u001b[1;31m  File \u001b[0m\n",
            "\u001b[1;31m\"/usr/local/lib/python3.11/dist-packages/huggingface_hub/inference/_mcp/agent.py\u001b[0m\n",
            "\u001b[1;31m\"\u001b[0m\u001b[1;31m, line \u001b[0m\u001b[1;31m84\u001b[0m\u001b[1;31m, in run\u001b[0m\n",
            "\u001b[1;31m    async for item in \u001b[0m\u001b[1;31mself.process_single_turn_with_tools\u001b[0m\u001b[1;31m(\u001b[0m\n",
            "\u001b[1;31m  File \u001b[0m\n",
            "\u001b[1;31m\"/usr/local/lib/python3.11/dist-packages/huggingface_hub/inference/_mcp/mcp_clie\u001b[0m\n",
            "\u001b[1;31mnt.py\"\u001b[0m\u001b[1;31m, line \u001b[0m\u001b[1;31m261\u001b[0m\u001b[1;31m, in process_single_turn_with_tools\u001b[0m\n",
            "\u001b[1;31m    response = await \u001b[0m\u001b[1;31mself.client.chat.completions.create\u001b[0m\u001b[1;31m(\u001b[0m\n",
            "\u001b[1;31m               ^^^^^^^^^^^^^^^^^^^^^^^^^^^^^^^^^^^^^^^^^^\u001b[0m\n",
            "\u001b[1;31m  File \u001b[0m\n",
            "\u001b[1;31m\"/usr/local/lib/python3.11/dist-packages/huggingface_hub/inference/_generated/_a\u001b[0m\n",
            "\u001b[1;31msync_client.py\"\u001b[0m\u001b[1;31m, line \u001b[0m\u001b[1;31m962\u001b[0m\u001b[1;31m, in chat_completion\u001b[0m\n",
            "\u001b[1;31m    data = await \u001b[0m\u001b[1;31mself._inner_post\u001b[0m\u001b[1;31m(\u001b[0m\u001b[1;31mrequest_parameters, \u001b[0m\u001b[1;31mstream\u001b[0m\u001b[1;31m=\u001b[0m\u001b[1;31mstream\u001b[0m\u001b[1;31m)\u001b[0m\n",
            "\u001b[1;31m           ^^^^^^^^^^^^^^^^^^^^^^^^^^^^^^^^^^^^^^^^^^^^^^^^^^^^^^^^^\u001b[0m\n",
            "\u001b[1;31m  File \u001b[0m\n",
            "\u001b[1;31m\"/usr/local/lib/python3.11/dist-packages/huggingface_hub/inference/_generated/_a\u001b[0m\n",
            "\u001b[1;31msync_client.py\"\u001b[0m\u001b[1;31m, line \u001b[0m\u001b[1;31m288\u001b[0m\u001b[1;31m, in _inner_post\u001b[0m\n",
            "\u001b[1;31m    raise error\u001b[0m\n",
            "\u001b[1;31m  File \u001b[0m\n",
            "\u001b[1;31m\"/usr/local/lib/python3.11/dist-packages/huggingface_hub/inference/_generated/_a\u001b[0m\n",
            "\u001b[1;31msync_client.py\"\u001b[0m\u001b[1;31m, line \u001b[0m\u001b[1;31m274\u001b[0m\u001b[1;31m, in _inner_post\u001b[0m\n",
            "\u001b[1;31m    \u001b[0m\u001b[1;31mresponse.raise_for_status\u001b[0m\u001b[1;31m(\u001b[0m\u001b[1;31m)\u001b[0m\n",
            "\u001b[1;31m  File \u001b[0m\u001b[1;31m\"/usr/local/lib/python3.11/dist-packages/aiohttp/client_reqrep.py\"\u001b[0m\u001b[1;31m, line \u001b[0m\n",
            "\u001b[1;31m629\u001b[0m\u001b[1;31m, in raise_for_status\u001b[0m\n",
            "\u001b[1;31m    raise \u001b[0m\u001b[1;31mClientResponseError\u001b[0m\u001b[1;31m(\u001b[0m\n",
            "\u001b[1;31maiohttp.client_exceptions.ClientResponseError: \u001b[0m\u001b[1;31m400\u001b[0m\u001b[1;31m, \u001b[0m\u001b[1;31mmessage\u001b[0m\u001b[1;31m=\u001b[0m\u001b[1;31m'Bad Request'\u001b[0m\u001b[1;31m, \u001b[0m\n",
            "\u001b[1;31murl\u001b[0m\u001b[1;31m=\u001b[0m\u001b[1;31m'http://localhost:11434/v1/chat/completions'\u001b[0m\n",
            "\n",
            "»  \n",
            "\u001b[31mInterrupted. Press Ctrl+C again to quit.\u001b[0m\n",
            "\n",
            "\u001b[31mExiting\u001b[0m\u001b[31m...\u001b[0m\n",
            "\n"
          ]
        }
      ]
    },
    {
      "cell_type": "markdown",
      "source": [
        "ابحث لي عن نموذج Stable Diffusion\n",
        "bash\n",
        "Copy\n",
        "Edit\n",
        "اعرض تفاصيل نموذج stabilityai/stable-diffusion-3\n",
        "Copy\n",
        "Edit\n",
        "ابحث عن مجموعة بيانات للترجمة من الإنجليزية إلى العربية\n",
        "Copy\n",
        "Edit\n",
        "ولد لي صورة لقطة ترتدي نظارة شمسية\n",
        "Copy\n",
        "Edit\n",
        "اعرض من أنا في Hugging Face\n",
        "إذا أردت أقدر أكتب لك قائمة أوامر جاهزة لكل أداة بحيث تجربها مباشرة."
      ],
      "metadata": {
        "id": "M7IPlOhOYi9_"
      }
    },
    {
      "cell_type": "code",
      "source": [
        "!nohup ollama serve &"
      ],
      "metadata": {
        "colab": {
          "base_uri": "https://localhost:8080/"
        },
        "id": "iPugPNYpYbk9",
        "outputId": "bca7291d-c39d-4807-a971-abf750f035d2"
      },
      "execution_count": 1,
      "outputs": [
        {
          "output_type": "stream",
          "name": "stdout",
          "text": [
            "nohup: appending output to 'nohup.out'\n"
          ]
        }
      ]
    },
    {
      "cell_type": "code",
      "source": [
        "!ollama list"
      ],
      "metadata": {
        "colab": {
          "base_uri": "https://localhost:8080/"
        },
        "id": "PnbCTSzRYvad",
        "outputId": "42a8e8e3-f1fb-4f4e-adee-eb91203af023"
      },
      "execution_count": 37,
      "outputs": [
        {
          "output_type": "stream",
          "name": "stdout",
          "text": [
            "NAME             ID              SIZE      MODIFIED    \n",
            "llama2:latest    78e26419b446    3.8 GB    4 hours ago    \n"
          ]
        }
      ]
    },
    {
      "cell_type": "code",
      "source": [
        "!ollama run llama2:latest"
      ],
      "metadata": {
        "colab": {
          "base_uri": "https://localhost:8080/"
        },
        "id": "F-BAIxMIYyIE",
        "outputId": "845ad75a-b1ab-4635-c809-0471c75855ad"
      },
      "execution_count": 38,
      "outputs": [
        {
          "output_type": "stream",
          "name": "stdout",
          "text": [
            "\u001b[?2026h\u001b[?25l\u001b[1G\u001b[?25h\u001b[?2026l\u001b[?2026h\u001b[?25l\u001b[1G\u001b[?25h\u001b[?2026l\u001b[?2026h\u001b[?25l\u001b[1G\u001b[?25h\u001b[?2026l\u001b[?2026h\u001b[?25l\u001b[1G\u001b[?25h\u001b[?2026l\u001b[?2026h\u001b[?25l\u001b[1G\u001b[?25h\u001b[?2026l\u001b[?2026h\u001b[?25l\u001b[1G\u001b[?25h\u001b[?2026l\u001b[?2026h\u001b[?25l\u001b[1G\u001b[?25h\u001b[?2026l\u001b[?2026h\u001b[?25l\u001b[1G\u001b[?25h\u001b[?2026l\u001b[?2026h\u001b[?25l\u001b[1G\u001b[?25h\u001b[?2026l\u001b[?2026h\u001b[?25l\u001b[1G\u001b[?25h\u001b[?2026l\u001b[?2026h\u001b[?25l\u001b[1G\u001b[?25h\u001b[?2026l\u001b[?2026h\u001b[?25l\u001b[1G\u001b[?25h\u001b[?2026l\u001b[?2026h\u001b[?25l\u001b[1G\u001b[?25h\u001b[?2026l\u001b[?2026h\u001b[?25l\u001b[1G\u001b[?25h\u001b[?2026l\u001b[?2026h\u001b[?25l\u001b[1G\u001b[?25h\u001b[?2026l\u001b[?2026h\u001b[?25l\u001b[1G\u001b[?25h\u001b[?2026l\u001b[?2026h\u001b[?25l\u001b[1G\u001b[?25h\u001b[?2026l\u001b[?2026h\u001b[?25l\u001b[1G\u001b[?25h\u001b[?2026l\u001b[?2026h\u001b[?25l\u001b[1G\u001b[?25h\u001b[?2026l\u001b[?2026h\u001b[?25l\u001b[1G\u001b[?25h\u001b[?2026l\u001b[?2026h\u001b[?25l\u001b[1G\u001b[?25h\u001b[?2026l\u001b[?2026h\u001b[?25l\u001b[1G\u001b[?25h\u001b[?2026l\u001b[?2026h\u001b[?25l\u001b[1G\u001b[?25h\u001b[?2026l\u001b[?2026h\u001b[?25l\u001b[1G\u001b[?25h\u001b[?2026l\u001b[?2026h\u001b[?25l\u001b[1G\u001b[?25h\u001b[?2026l\u001b[?2026h\u001b[?25l\u001b[1G\u001b[?25h\u001b[?2026l\u001b[?2026h\u001b[?25l\u001b[1G\u001b[?25h\u001b[?2026l\u001b[?2026h\u001b[?25l\u001b[1G\u001b[?25h\u001b[?2026l\u001b[?2026h\u001b[?25l\u001b[1G\u001b[?25h\u001b[?2026l\u001b[?2026h\u001b[?25l\u001b[1G\u001b[?25h\u001b[?2026l\u001b[?2026h\u001b[?25l\u001b[1G\u001b[?25h\u001b[?2026l\u001b[?2026h\u001b[?25l\u001b[1G\u001b[?25h\u001b[?2026l\u001b[?2026h\u001b[?25l\u001b[1G\u001b[?25h\u001b[?2026l\u001b[?2026h\u001b[?25l\u001b[1G\u001b[?25h\u001b[?2026l\u001b[?2026h\u001b[?25l\u001b[1G\u001b[?25h\u001b[?2026l\u001b[?2026h\u001b[?25l\u001b[1G\u001b[?25h\u001b[?2026l\u001b[?2026h\u001b[?25l\u001b[1G\u001b[?25h\u001b[?2026l\u001b[?2026h\u001b[?25l\u001b[1G\u001b[?25h\u001b[?2026l\u001b[?2026h\u001b[?25l\u001b[1G\u001b[?25h\u001b[?2026l\u001b[?2026h\u001b[?25l\u001b[1G\u001b[?25h\u001b[?2026l\u001b[?2026h\u001b[?25l\u001b[1G\u001b[?25h\u001b[?2026l\u001b[?2026h\u001b[?25l\u001b[1G\u001b[?25h\u001b[?2026l\u001b[?2026h\u001b[?25l\u001b[1G\u001b[?25h\u001b[?2026l\u001b[?2026h\u001b[?25l\u001b[1G\u001b[?25h\u001b[?2026l\u001b[?2026h\u001b[?25l\u001b[1G\u001b[?25h\u001b[?2026l\u001b[?2026h\u001b[?25l\u001b[1G\u001b[?25h\u001b[?2026l\u001b[?2026h\u001b[?25l\u001b[1G\u001b[?25h\u001b[?2026l\u001b[?2026h\u001b[?25l\u001b[1G\u001b[?25h\u001b[?2026l\u001b[?2026h\u001b[?25l\u001b[1G\u001b[?25h\u001b[?2026l\u001b[?2026h\u001b[?25l\u001b[1G\u001b[?25h\u001b[?2026l\u001b[?2026h\u001b[?25l\u001b[1G\u001b[?25h\u001b[?2026l\u001b[?2026h\u001b[?25l\u001b[1G\u001b[?25h\u001b[?2026l\u001b[?2026h\u001b[?25l\u001b[1G\u001b[?25h\u001b[?2026l\u001b[?2026h\u001b[?25l\u001b[1G\u001b[?25h\u001b[?2026l\u001b[?2026h\u001b[?25l\u001b[1G\u001b[?25h\u001b[?2026l\u001b[?2026h\u001b[?25l\u001b[1G\u001b[?25h\u001b[?2026l\u001b[?2026h\u001b[?25l\u001b[1G\u001b[?25h\u001b[?2026lhi\n",
            "\u001b[?2026h\u001b[?25l\u001b[1G\u001b[?25h\u001b[?2026l\u001b[?2026h\u001b[?25l\u001b[1G\u001b[?25h\u001b[?2026l\u001b[?2026h\u001b[?25l\u001b[1G\u001b[?25h\u001b[?2026l\u001b[?2026h\u001b[?25l\u001b[1G\u001b[?25h\u001b[?2026l\u001b[?2026h\u001b[?25l\u001b[1G\u001b[?25h\u001b[?2026l\u001b[?2026h\u001b[?25l\u001b[1G\u001b[?25h\u001b[?2026l\u001b[?2026h\u001b[?25l\u001b[1G\u001b[?25h\u001b[?2026l\u001b[?2026h\u001b[?25l\u001b[1G\u001b[?25h\u001b[?2026l\u001b[?2026h\u001b[?25l\u001b[1G\u001b[?25h\u001b[?2026l\u001b[?2026h\u001b[?25l\u001b[1G\u001b[?25h\u001b[?2026l\u001b[?2026h\u001b[?25l\u001b[1G\u001b[?25h\u001b[?2026l\u001b[?2026h\u001b[?25l\u001b[1G\u001b[?25h\u001b[?2026l\u001b[?2026h\u001b[?25l\u001b[1G\u001b[?25h\u001b[?2026l\u001b[?2026h\u001b[?25l\u001b[1G\u001b[?25h\u001b[?2026l\u001b[?2026h\u001b[?25l\u001b[1G\u001b[?25h\u001b[?2026l\u001b[?2026h\u001b[?25l\u001b[1G\u001b[?25h\u001b[?2026l\u001b[?2026h\u001b[?25l\u001b[1G\u001b[?25h\u001b[?2026l\u001b[?2026h\u001b[?25l\u001b[1G\u001b[?25h\u001b[?2026l\u001b[?2026h\u001b[?25l\u001b[1G\u001b[?25h\u001b[?2026l\u001b[?2026h\u001b[?25l\u001b[1G\u001b[?25h\u001b[?2026l\u001b[?2026h\u001b[?25l\u001b[1G\u001b[?25h\u001b[?2026l\u001b[?2026h\u001b[?25l\u001b[1G\u001b[?25h\u001b[?2026l\u001b[?2026h\u001b[?25l\u001b[1G\u001b[?25h\u001b[?2026l\u001b[?2026h\u001b[?25l\u001b[1G\u001b[?25h\u001b[?2026l\u001b[?2026h\u001b[?25l\u001b[1G\u001b[?25h\u001b[?2026l\u001b[?2026h\u001b[?25l\u001b[1G\u001b[?25h\u001b[?2026l\u001b[?2026h\u001b[?25l\u001b[1G\u001b[?25h\u001b[?2026l\u001b[?2026h\u001b[?25l\u001b[1G\u001b[?25h\u001b[?2026l\u001b[?2026h\u001b[?25l\u001b[1G\u001b[?25h\u001b[?2026l\u001b[?2026h\u001b[?25l\u001b[1G\u001b[?25h\u001b[?2026l\u001b[?2026h\u001b[?25l\u001b[1G\u001b[?25h\u001b[?2026l\u001b[?2026h\u001b[?25l\u001b[1G\u001b[?25h\u001b[?2026l\u001b[?2026h\u001b[?25l\u001b[1G\u001b[?25h\u001b[?2026l\u001b[?2026h\u001b[?25l\u001b[1G\u001b[?25h\u001b[?2026l\u001b[?2026h\u001b[?25l\u001b[1G\u001b[?25h\u001b[?2026l\u001b[?2026h\u001b[?25l\u001b[1G\u001b[?25h\u001b[?2026l\u001b[?2026h\u001b[?25l\u001b[1G\u001b[?25h\u001b[?2026l\u001b[?2026h\u001b[?25l\u001b[1G\u001b[?25h\u001b[?2026l\u001b[?2026h\u001b[?25l\u001b[1G\u001b[?25h\u001b[?2026l\u001b[?2026h\u001b[?25l\u001b[1G\u001b[?25h\u001b[?2026l\u001b[?2026h\u001b[?25l\u001b[1G\u001b[?25h\u001b[?2026l\u001b[?2026h\u001b[?25l\u001b[1G\u001b[?25h\u001b[?2026l\u001b[?2026h\u001b[?25l\u001b[1G\u001b[?25h\u001b[?2026l\u001b[?2026h\u001b[?25l\u001b[1G\u001b[?25h\u001b[?2026l\u001b[?2026h\u001b[?25l\u001b[1G\u001b[?25h\u001b[?2026l\u001b[?2026h\u001b[?25l\u001b[1G\u001b[?25h\u001b[?2026l\u001b[?2026h\u001b[?25l\u001b[1G\u001b[?25h\u001b[?2026l\u001b[?2026h\u001b[?25l\u001b[1G\u001b[?25h\u001b[?2026l\u001b[?2026h\u001b[?25l\u001b[1G\u001b[?25h\u001b[?2026l\u001b[?2026h\u001b[?25l\u001b[1G\u001b[?25h\u001b[?2026l\u001b[?2026h\u001b[?25l\u001b[1G\u001b[?25h\u001b[?2026l\u001b[?2026h\u001b[?25l\u001b[1G\u001b[?25h\u001b[?2026l\u001b[?2026h\u001b[?25l\u001b[1G\u001b[?25h\u001b[?2026l\u001b[?2026h\u001b[?25l\u001b[1G\u001b[?25h\u001b[?2026l\u001b[?2026h\u001b[?25l\u001b[1G\u001b[?25h\u001b[?2026l\u001b[?2026h\u001b[?25l\u001b[1G\u001b[?25h\u001b[?2026l\u001b[?2026h\u001b[?25l\u001b[1G\u001b[?25h\u001b[?2026l\u001b[?2026h\u001b[?25l\u001b[1G\u001b[?25h\u001b[?2026l\u001b[?2026h\u001b[?25l\u001b[1G\u001b[?25h\u001b[?2026l\u001b[?2026h\u001b[?25l\u001b[1G\u001b[?25h\u001b[?2026l\u001b[?2026h\u001b[?25l\u001b[1G\u001b[?25h\u001b[?2026l\u001b[?2026h\u001b[?25l\u001b[1G\u001b[?25h\u001b[?2026l\u001b[?2026h\u001b[?25l\u001b[1G\u001b[?25h\u001b[?2026l\u001b[?2026h\u001b[?25l\u001b[1G\u001b[?25h\u001b[?2026l\u001b[?2026h\u001b[?25l\u001b[1G\u001b[?25h\u001b[?2026l\u001b[?2026h\u001b[?25l\u001b[1G\u001b[?25h\u001b[?2026l\u001b[?2026h\u001b[?25l\u001b[1G\u001b[?25h\u001b[?2026l\u001b[?2026h\u001b[?25l\u001b[1G\u001b[?25h\u001b[?2026l\u001b[?2026h\u001b[?25l\u001b[1G\u001b[?25h\u001b[?2026l\u001b[?2026h\u001b[?25l\u001b[1G\u001b[?25h\u001b[?2026l\u001b[?2026h\u001b[?25l\u001b[1G\u001b[?25h\u001b[?2026l\u001b[?2026h\u001b[?25l\u001b[1G\u001b[?25h\u001b[?2026l\u001b[?2026h\u001b[?25l\u001b[1G\u001b[?25h\u001b[?2026l\u001b[?2026h\u001b[?25l\u001b[1G\u001b[?25h\u001b[?2026l\u001b[?2026h\u001b[?25l\u001b[1G\u001b[?25h\u001b[?2026l\u001b[?2026h\u001b[?25l\u001b[1G\u001b[?25h\u001b[?2026l\u001b[?2026h\u001b[?25l\u001b[1G\u001b[?25h\u001b[?2026l\u001b[?2026h\u001b[?25l\u001b[1G\u001b[?25h\u001b[?2026l\u001b[?2026h\u001b[?25l\u001b[1G\u001b[?25h\u001b[?2026l\u001b[?2026h\u001b[?25l\u001b[1G\u001b[?25h\u001b[?2026l\u001b[?2026h\u001b[?25l\u001b[1G\u001b[?25h\u001b[?2026l\u001b[?2026h\u001b[?25l\u001b[1G\u001b[?25h\u001b[?2026l\u001b[?2026h\u001b[?25l\u001b[1G\u001b[?25h\u001b[?2026l\u001b[?2026h\u001b[?25l\u001b[1G\u001b[?25h\u001b[?2026l\u001b[?2026h\u001b[?25l\u001b[1G\u001b[?25h\u001b[?2026l\u001b[?2026h\u001b[?25l\u001b[1G\u001b[?25h\u001b[?2026l\u001b[?2026h\u001b[?25l\u001b[1G\u001b[?25h\u001b[?2026l\u001b[?2026h\u001b[?25l\u001b[1G\u001b[?25h\u001b[?2026l\u001b[?2026h\u001b[?25l\u001b[1G\u001b[?25h\u001b[?2026l\u001b[?2026h\u001b[?25l\u001b[1G\u001b[?25h\u001b[?2026l\u001b[?2026h\u001b[?25l\u001b[1G\u001b[?25h\u001b[?2026l\u001b[?2026h\u001b[?25l\u001b[1G\u001b[?25h\u001b[?2026l\u001b[?2026h\u001b[?25l\u001b[1G\u001b[?25h\u001b[?2026l\u001b[?2026h\u001b[?25l\u001b[1G\u001b[?25h\u001b[?2026l\u001b[?2026h\u001b[?25l\u001b[1G\u001b[?25h\u001b[?2026l\u001b[?2026h\u001b[?25l\u001b[1G\u001b[?25h\u001b[?2026l\u001b[?2026h\u001b[?25l\u001b[1G\u001b[?25h\u001b[?2026l\u001b[?2026h\u001b[?25l\u001b[1G\u001b[?25h\u001b[?2026l\u001b[?2026h\u001b[?25l\u001b[1G\u001b[?25h\u001b[?2026l\u001b[?2026h\u001b[?25l\u001b[1G\u001b[?25h\u001b[?2026l\u001b[?2026h\u001b[?25l\u001b[1G\u001b[?25h\u001b[?2026l\u001b[?2026h\u001b[?25l\u001b[1G\u001b[?25h\u001b[?2026l\u001b[?2026h\u001b[?25l\u001b[1G\u001b[?25h\u001b[?2026l\u001b[?2026h\u001b[?25l\u001b[1G\u001b[?25h\u001b[?2026l\u001b[?2026h\u001b[?25l\u001b[1G\u001b[?25h\u001b[?2026l\u001b[?2026h\u001b[?25l\u001b[1G\u001b[?25h\u001b[?2026l\u001b[?2026h\u001b[?25l\u001b[1G\u001b[?25h\u001b[?2026l\u001b[?2026h\u001b[?25l\u001b[1G\u001b[?25h\u001b[?2026l\u001b[?2026h\u001b[?25l\u001b[1G\u001b[?25h\u001b[?2026l\u001b[?2026h\u001b[?25l\u001b[1G\u001b[?25h\u001b[?2026l\u001b[?2026h\u001b[?25l\u001b[1G\u001b[?25h\u001b[?2026l\u001b[?2026h\u001b[?25l\u001b[1G\u001b[?25h\u001b[?2026l\u001b[?2026h\u001b[?25l\u001b[1G\u001b[?25h\u001b[?2026l\u001b[?2026h\u001b[?25l\u001b[1G\u001b[?25h\u001b[?2026l\u001b[?2026h\u001b[?25l\u001b[1G\u001b[?25h\u001b[?2026l\u001b[?2026h\u001b[?25l\u001b[1G\u001b[?25h\u001b[?2026l\u001b[?2026h\u001b[?25l\u001b[1G\u001b[?25h\u001b[?2026l\u001b[?2026h\u001b[?25l\u001b[1G\u001b[?25h\u001b[?2026l\u001b[?2026h\u001b[?25l\u001b[1G\u001b[?25h\u001b[?2026l\u001b[?2026h\u001b[?25l\u001b[1G\u001b[?25h\u001b[?2026l\u001b[?2026h\u001b[?25l\u001b[1G\u001b[?25h\u001b[?2026l\u001b[?2026h\u001b[?25l\u001b[1G\u001b[?25h\u001b[?2026l\u001b[?2026h\u001b[?25l\u001b[1G\u001b[?25h\u001b[?2026l\u001b[?2026h\u001b[?25l\u001b[1G\u001b[?25h\u001b[?2026l\u001b[?2026h\u001b[?25l\u001b[1G\u001b[?25h\u001b[?2026l\u001b[?2026h\u001b[?25l\u001b[1G\u001b[?25h\u001b[?2026l\u001b[?2026h\u001b[?25l\u001b[1G\u001b[?25h\u001b[?2026l\u001b[?2026h\u001b[?25l\u001b[1G\u001b[?25h\u001b[?2026l\u001b[?2026h\u001b[?25l\u001b[1G\u001b[?25h\u001b[?2026l\u001b[?2026h\u001b[?25l\u001b[1G\u001b[?25h\u001b[?2026l\u001b[?2026h\u001b[?25l\u001b[1G\u001b[?25h\u001b[?2026l\u001b[?2026h\u001b[?25l\u001b[1G\u001b[?25h\u001b[?2026l\u001b[?2026h\u001b[?25l\u001b[1G\u001b[?25h\u001b[?2026l\u001b[?2026h\u001b[?25l\u001b[1G\u001b[?25h\u001b[?2026l\u001b[?2026h\u001b[?25l\u001b[1G\u001b[?25h\u001b[?2026l\u001b[?2026h\u001b[?25l\u001b[1G\u001b[?25h\u001b[?2026l\u001b[?2026h\u001b[?25l\u001b[1G\u001b[?25h\u001b[?2026l\u001b[?2026h\u001b[?25l\u001b[1G\u001b[?25h\u001b[?2026l\u001b[?2026h\u001b[?25l\u001b[1G\u001b[?25h\u001b[?2026l\u001b[?2026h\u001b[?25l\u001b[1G\u001b[?25h\u001b[?2026l\u001b[?2026h\u001b[?25l\u001b[1G\u001b[?25h\u001b[?2026l\u001b[?2026h\u001b[?25l\u001b[1G\u001b[?25h\u001b[?2026l\u001b[?2026h\u001b[?25l\u001b[1G\u001b[?25h\u001b[?2026l\u001b[?2026h\u001b[?25l\u001b[1G\u001b[?25h\u001b[?2026l\u001b[?2026h\u001b[?25l\u001b[1G\u001b[?25h\u001b[?2026l\u001b[?2026h\u001b[?25l\u001b[1G\u001b[?25h\u001b[?2026l\u001b[?2026h\u001b[?25l\u001b[1G\u001b[?25h\u001b[?2026l\u001b[?2026h\u001b[?25l\u001b[1G\u001b[?25h\u001b[?2026l\u001b[?2026h\u001b[?25l\u001b[1G\u001b[?25h\u001b[?2026l\u001b[?2026h\u001b[?25l\u001b[1G\u001b[?25h\u001b[?2026l\u001b[?2026h\u001b[?25l\u001b[1G\u001b[?25h\u001b[?2026l\u001b[?2026h\u001b[?25l\u001b[1G\u001b[?25h\u001b[?2026l\u001b[?2026h\u001b[?25l\u001b[1G\u001b[?25h\u001b[?2026l\u001b[?2026h\u001b[?25l\u001b[1G\u001b[?25h\u001b[?2026l\u001b[?2026h\u001b[?25l\u001b[1G\u001b[?25h\u001b[?2026l\u001b[?2026h\u001b[?25l\u001b[1G\u001b[?25h\u001b[?2026l\u001b[?2026h\u001b[?25l\u001b[1G\u001b[?25h\u001b[?2026l\u001b[?2026h\u001b[?25l\u001b[1G\u001b[?25h\u001b[?2026l\u001b[?2026h\u001b[?25l\u001b[1G\u001b[?25h\u001b[?2026l\u001b[?2026h\u001b[?25l\u001b[1G\u001b[?25h\u001b[?2026l\u001b[?2026h\u001b[?25l\u001b[1G\u001b[?25h\u001b[?2026l\u001b[?2026h\u001b[?25l\u001b[1G\u001b[?25h\u001b[?2026l\u001b[?2026h\u001b[?25l\u001b[1G\u001b[?25h\u001b[?2026l\u001b[?2026h\u001b[?25l\u001b[1G\u001b[?25h\u001b[?2026l\u001b[?2026h\u001b[?25l\u001b[1G\u001b[?25h\u001b[?2026l\u001b[?2026h\u001b[?25l\u001b[1G\u001b[?25h\u001b[?2026l\u001b[?2026h\u001b[?25l\u001b[1G\u001b[?25h\u001b[?2026l\u001b[?2026h\u001b[?25l\u001b[1G\u001b[?25h\u001b[?2026l\u001b[?2026h\u001b[?25l\u001b[1G\u001b[?25h\u001b[?2026l\u001b[?2026h\u001b[?25l\u001b[1G\u001b[?25h\u001b[?2026l\u001b[?2026h\u001b[?25l\u001b[1G\u001b[?25h\u001b[?2026l\u001b[?2026h\u001b[?25l\u001b[1G\u001b[?25h\u001b[?2026l\u001b[?2026h\u001b[?25l\u001b[1G\u001b[?25h\u001b[?2026l\u001b[?2026h\u001b[?25l\u001b[1G\u001b[?25h\u001b[?2026l\u001b[?2026h\u001b[?25l\u001b[1G\u001b[?25h\u001b[?2026l\u001b[?2026h\u001b[?25l\u001b[1G\u001b[?25h\u001b[?2026l\u001b[?2026h\u001b[?25l\u001b[1G\u001b[?25h\u001b[?2026l\u001b[?2026h\u001b[?25l\u001b[1G\u001b[?25h\u001b[?2026l\u001b[?2026h\u001b[?25l\u001b[1G\u001b[?25h\u001b[?2026l\u001b[?2026h\u001b[?25l\u001b[1G\u001b[?25h\u001b[?2026l\u001b[?2026h\u001b[?25l\u001b[1G\u001b[?25h\u001b[?2026l\u001b[?2026h\u001b[?25l\u001b[1G\u001b[?25h\u001b[?2026l\u001b[?2026h\u001b[?25l\u001b[1G\u001b[?25h\u001b[?2026l\u001b[?2026h\u001b[?25l\u001b[1G\u001b[?25h\u001b[?2026l\u001b[?2026h\u001b[?25l\u001b[1G\u001b[?25h\u001b[?2026l\u001b[?2026h\u001b[?25l\u001b[1G\u001b[?25h\u001b[?2026l\u001b[?2026h\u001b[?25l\u001b[1G\u001b[?25h\u001b[?2026l\u001b[?2026h\u001b[?25l\u001b[1G\u001b[?25h\u001b[?2026l\u001b[?2026h\u001b[?25l\u001b[1G\u001b[?25h\u001b[?2026l\u001b[?2026h\u001b[?25l\u001b[1G\u001b[?25h\u001b[?2026l\u001b[?2026h\u001b[?25l\u001b[1G\u001b[?25h\u001b[?2026l\u001b[?2026h\u001b[?25l\u001b[1G\u001b[?25h\u001b[?2026l\u001b[?2026h\u001b[?25l\u001b[1G\u001b[?25h\u001b[?2026l\u001b[?2026h\u001b[?25l\u001b[1G\u001b[?25h\u001b[?2026l\u001b[?2026h\u001b[?25l\u001b[1G\u001b[?25h\u001b[?2026l\u001b[?2026h\u001b[?25l\u001b[1G\u001b[?25h\u001b[?2026l\u001b[?2026h\u001b[?25l\u001b[1G\u001b[?25h\u001b[?2026l\u001b[?2026h\u001b[?25l\u001b[1G\u001b[?25h\u001b[?2026l\u001b[?2026h\u001b[?25l\u001b[1G\u001b[?25h\u001b[?2026l\u001b[?2026h\u001b[?25l\u001b[1G\u001b[?25h\u001b[?2026l\u001b[?2026h\u001b[?25l\u001b[1G\u001b[?25h\u001b[?2026l\u001b[?2026h\u001b[?25l\u001b[1G\u001b[?25h\u001b[?2026l\u001b[?2026h\u001b[?25l\u001b[1G\u001b[?25h\u001b[?2026l\u001b[?2026h\u001b[?25l\u001b[1G\u001b[?25h\u001b[?2026l\u001b[?2026h\u001b[?25l\u001b[1G\u001b[?25h\u001b[?2026l\u001b[?2026h\u001b[?25l\u001b[1G\u001b[?25h\u001b[?2026l\u001b[?2026h\u001b[?25l\u001b[1G\u001b[?25h\u001b[?2026l\u001b[?2026h\u001b[?25l\u001b[1G\u001b[?25h\u001b[?2026l\u001b[?2026h\u001b[?25l\u001b[1G\u001b[?25h\u001b[?2026l\u001b[?2026h\u001b[?25l\u001b[1G\u001b[?25h\u001b[?2026l\u001b[?2026h\u001b[?25l\u001b[1G\u001b[?25h\u001b[?2026l\u001b[?2026h\u001b[?25l\u001b[1G\u001b[?25h\u001b[?2026l\u001b[?2026h\u001b[?25l\u001b[1G\u001b[?25h\u001b[?2026l\u001b[?2026h\u001b[?25l\u001b[1G\u001b[?25h\u001b[?2026l\u001b[?2026h\u001b[?25l\u001b[1G\u001b[?25h\u001b[?2026l\u001b[?2026h\u001b[?25l\u001b[1G\u001b[?25h\u001b[?2026l\u001b[?2026h\u001b[?25l\u001b[1G\u001b[?25h\u001b[?2026l\u001b[?2026h\u001b[?25l\u001b[1G\u001b[?25h\u001b[?2026l\u001b[?2026h\u001b[?25l\u001b[1G\u001b[?25h\u001b[?2026l\u001b[?2026h\u001b[?25l\u001b[1G\u001b[?25h\u001b[?2026l\u001b[?2026h\u001b[?25l\u001b[1G\u001b[?25h\u001b[?2026l\u001b[?2026h\u001b[?25l\u001b[1G\u001b[?25h\u001b[?2026l\u001b[?2026h\u001b[?25l\u001b[1G\u001b[?25h\u001b[?2026l\u001b[?2026h\u001b[?25l\u001b[1G\u001b[?25h\u001b[?2026l\u001b[?2026h\u001b[?25l\u001b[1G\u001b[?25h\u001b[?2026l\u001b[?2026h\u001b[?25l\u001b[1G\u001b[?25h\u001b[?2026l\u001b[?2026h\u001b[?25l\u001b[1G\u001b[?25h\u001b[?2026l\u001b[?2026h\u001b[?25l\u001b[1G\u001b[?25h\u001b[?2026l\u001b[?2026h\u001b[?25l\u001b[1G\u001b[?25h\u001b[?2026l\u001b[?2026h\u001b[?25l\u001b[1G\u001b[?25h\u001b[?2026l\u001b[?2026h\u001b[?25l\u001b[1G\u001b[?25h\u001b[?2026l\u001b[?2026h\u001b[?25l\u001b[1G\u001b[?25h\u001b[?2026l\u001b[?2026h\u001b[?25l\u001b[1G\u001b[?25h\u001b[?2026l\u001b[?2026h\u001b[?25l\u001b[1G\u001b[?25h\u001b[?2026l\u001b[?2026h\u001b[?25l\u001b[1G\u001b[?25h\u001b[?2026l\u001b[?2026h\u001b[?25l\u001b[1G\u001b[?25h\u001b[?2026l\u001b[?2026h\u001b[?25l\u001b[1G\u001b[?25h\u001b[?2026l\u001b[?2026h\u001b[?25l\u001b[1G\u001b[?25h\u001b[?2026l\u001b[?2026h\u001b[?25l\u001b[1G\u001b[?25h\u001b[?2026l\u001b[?2026h\u001b[?25l\u001b[1G\u001b[?25h\u001b[?2026l\u001b[?2026h\u001b[?25l\u001b[1G\u001b[?25h\u001b[?2026l\u001b[?2026h\u001b[?25l\u001b[1G\u001b[?25h\u001b[?2026l\u001b[?2026h\u001b[?25l\u001b[1G\u001b[?25h\u001b[?2026l\u001b[?2026h\u001b[?25l\u001b[1G\u001b[?25h\u001b[?2026l\u001b[?2026h\u001b[?25l\u001b[1G\u001b[?25h\u001b[?2026l\u001b[?2026h\u001b[?25l\u001b[1G\u001b[?25h\u001b[?2026l\u001b[?2026h\u001b[?25l\u001b[1G\u001b[?25h\u001b[?2026l\u001b[?2026h\u001b[?25l\u001b[1G\u001b[?25h\u001b[?2026l\u001b[?2026h\u001b[?25l\u001b[1G\u001b[?25h\u001b[?2026l\u001b[?2026h\u001b[?25l\u001b[1G\u001b[?25h\u001b[?2026l\u001b[?2026h\u001b[?25l\u001b[1G\u001b[?25h\u001b[?2026l\u001b[?2026h\u001b[?25l\u001b[1G\u001b[?25h\u001b[?2026l\u001b[?2026h\u001b[?25l\u001b[1G\u001b[?25h\u001b[?2026l\u001b[?2026h\u001b[?25l\u001b[1G\u001b[?25h\u001b[?2026l\u001b[?2026h\u001b[?25l\u001b[1G\u001b[?25h\u001b[?2026l\u001b[?2026h\u001b[?25l\u001b[1G\u001b[?25h\u001b[?2026l\u001b[?2026h\u001b[?25l\u001b[1G\u001b[?25h\u001b[?2026l\u001b[?2026h\u001b[?25l\u001b[1G\u001b[?25h\u001b[?2026l\u001b[?2026h\u001b[?25l\u001b[1G\u001b[?25h\u001b[?2026l\u001b[?2026h\u001b[?25l\u001b[1G\u001b[?25h\u001b[?2026l\u001b[?2026h\u001b[?25l\u001b[1G\u001b[?25h\u001b[?2026l\u001b[?2026h\u001b[?25l\u001b[1G\u001b[?25h\u001b[?2026l\u001b[?2026h\u001b[?25l\u001b[1G\u001b[?25h\u001b[?2026l\u001b[?2026h\u001b[?25l\u001b[1G\u001b[?25h\u001b[?2026l\u001b[?2026h\u001b[?25l\u001b[1G\u001b[?25h\u001b[?2026l\u001b[?2026h\u001b[?25l\u001b[1G\u001b[?25h\u001b[?2026l\u001b[?2026h\u001b[?25l\u001b[1G\u001b[?25h\u001b[?2026l\u001b[?2026h\u001b[?25l\u001b[1G\u001b[?25h\u001b[?2026l\u001b[?2026h\u001b[?25l\u001b[1G\u001b[?25h\u001b[?2026l\u001b[?2026h\u001b[?25l\u001b[1G\u001b[?25h\u001b[?2026l\u001b[?2026h\u001b[?25l\u001b[1G\u001b[?25h\u001b[?2026l\u001b[?2026h\u001b[?25l\u001b[1G\u001b[?25h\u001b[?2026l\u001b[?2026h\u001b[?25l\u001b[1G\u001b[?25h\u001b[?2026l\u001b[?2026h\u001b[?25l\u001b[1G\u001b[?25h\u001b[?2026l\u001b[?2026h\u001b[?25l\u001b[1G\u001b[?25h\u001b[?2026l\u001b[?2026h\u001b[?25l\u001b[1G\u001b[?25h\u001b[?2026l\u001b[?2026h\u001b[?25l\u001b[1G\u001b[?25h\u001b[?2026l\u001b[?2026h\u001b[?25l\u001b[1G\u001b[?25h\u001b[?2026l\u001b[?2026h\u001b[?25l\u001b[1G\u001b[?25h\u001b[?2026l\u001b[?2026h\u001b[?25l\u001b[1G\u001b[?25h\u001b[?2026l\u001b[?2026h\u001b[?25l\u001b[1G\u001b[?25h\u001b[?2026l\u001b[?2026h\u001b[?25l\u001b[1G\u001b[?25h\u001b[?2026l\u001b[?2026h\u001b[?25l\u001b[1G\u001b[?25h\u001b[?2026l\u001b[?2026h\u001b[?25l\u001b[1G\u001b[?25h\u001b[?2026l\u001b[?2026h\u001b[?25l\u001b[1G\u001b[?25h\u001b[?2026l\u001b[?2026h\u001b[?25l\u001b[1G\u001b[?25h\u001b[?2026l\u001b[?2026h\u001b[?25l\u001b[1G\u001b[?25h\u001b[?2026l\u001b[?2026h\u001b[?25l\u001b[1G\u001b[?25h\u001b[?2026l\u001b[?2026h\u001b[?25l\u001b[1G\u001b[?25h\u001b[?2026l\u001b[?2026h\u001b[?25l\u001b[1G\u001b[?25h\u001b[?2026l\u001b[?2026h\u001b[?25l\u001b[1G\u001b[?25h\u001b[?2026l\u001b[?25l\u001b[?2026h\u001b[?25l\u001b[1G\u001b[?25h\u001b[?2026l\u001b[2K\u001b[1G\u001b[?25h\u001b[?2004h>>> \u001b[38;5;245mSend a message (/? for help)\u001b[28D\u001b[0m\u001b[Khi\n",
            "\u001b[?2026h\u001b[?25l\u001b[1G\u001b[?25h\u001b[?2026l\u001b[?2026h\u001b[?25l\u001b[1G\u001b[?25h\u001b[?2026l\u001b[?2026h\u001b[?25l\u001b[1G\u001b[?25h\u001b[?2026l\u001b[?2026h\u001b[?25l\u001b[1G\u001b[?25h\u001b[?2026l\u001b[?2026h\u001b[?25l\u001b[1G\u001b[?25h\u001b[?2026l\u001b[?2026h\u001b[?25l\u001b[1G\u001b[?25h\u001b[?2026l\u001b[?2026h\u001b[?25l\u001b[1G\u001b[?25h\u001b[?2026l\u001b[?2026h\u001b[?25l\u001b[1G\u001b[?25h\u001b[?2026l\u001b[?2026h\u001b[?25l\u001b[1G\u001b[?25h\u001b[?2026l\u001b[?2026h\u001b[?25l\u001b[1G\u001b[?25h\u001b[?2026l\u001b[?2026h\u001b[?25l\u001b[1G\u001b[?25h\u001b[?2026l\u001b[?2026h\u001b[?25l\u001b[1G\u001b[?25h\u001b[?2026l\u001b[?2026h\u001b[?25l\u001b[1G\u001b[?25h\u001b[?2026l\u001b[?2026h\u001b[?25l\u001b[1G\u001b[?25h\u001b[?2026l\u001b[?2026h\u001b[?25l\u001b[1G\u001b[?25h\u001b[?2026l\u001b[?2026h\u001b[?25l\u001b[1G\u001b[?25h\u001b[?2026l\u001b[?2026h\u001b[?25l\u001b[1G\u001b[?25h\u001b[?2026l\u001b[?2026h\u001b[?25l\u001b[1G\u001b[?25h\u001b[?2026l\u001b[?2026h\u001b[?25l\u001b[1G\u001b[?25h\u001b[?2026l\u001b[?2026h\u001b[?25l\u001b[1G\u001b[?25h\u001b[?2026l\u001b[?2026h\u001b[?25l\u001b[1G\u001b[?25h\u001b[?2026l\u001b[?2026h\u001b[?25l\u001b[1G\u001b[?25h\u001b[?2026l\u001b[?2026h\u001b[?25l\u001b[1G\u001b[?25h\u001b[?2026l\u001b[?2026h\u001b[?25l\u001b[1G\u001b[?25h\u001b[?2026l\u001b[?2026h\u001b[?25l\u001b[1G\u001b[?25h\u001b[?2026l\u001b[?2026h\u001b[?25l\u001b[1G\u001b[?25h\u001b[?2026l\u001b[?2026h\u001b[?25l\u001b[1G\u001b[?25h\u001b[?2026l\u001b[?2026h\u001b[?25l\u001b[1G\u001b[?25h\u001b[?2026l\u001b[?2026h\u001b[?25l\u001b[1G\u001b[?25h\u001b[?2026l\u001b[?2026h\u001b[?25l\u001b[1G\u001b[?25h\u001b[?2026l\u001b[?2026h\u001b[?25l\u001b[1G\u001b[?25h\u001b[?2026l\u001b[?2026h\u001b[?25l\u001b[1G\u001b[?25h\u001b[?2026l\u001b[?2026h\u001b[?25l\u001b[1G\u001b[?25h\u001b[?2026l\u001b[?2026h\u001b[?25l\u001b[1G\u001b[?25h\u001b[?2026l\u001b[?2026h\u001b[?25l\u001b[1G\u001b[?25h\u001b[?2026l\u001b[?2026h\u001b[?25l\u001b[1G\u001b[?25h\u001b[?2026l\u001b[?2026h\u001b[?25l\u001b[1G\u001b[?25h\u001b[?2026l\u001b[?2026h\u001b[?25l\u001b[1G\u001b[?25h\u001b[?2026l\u001b[?2026h\u001b[?25l\u001b[1G\u001b[?25h\u001b[?2026l\u001b[?2026h\u001b[?25l\u001b[1G\u001b[?25h\u001b[?2026l\u001b[?2026h\u001b[?25l\u001b[1G\u001b[?25h\u001b[?2026l\u001b[?2026h\u001b[?25l\u001b[1G\u001b[?25h\u001b[?2026l\u001b[?2026h\u001b[?25l\u001b[1G\u001b[?25h\u001b[?2026l\u001b[?2026h\u001b[?25l\u001b[1G\u001b[?25h\u001b[?2026l\u001b[?2026h\u001b[?25l\u001b[1G\u001b[?25h\u001b[?2026l\u001b[?2026h\u001b[?25l\u001b[1G\u001b[?25h\u001b[?2026l\u001b[?2026h\u001b[?25l\u001b[1G\u001b[?25h\u001b[?2026l\u001b[?2026h\u001b[?25l\u001b[1G\u001b[?25h\u001b[?2026l\u001b[?2026h\u001b[?25l\u001b[1G\u001b[?25h\u001b[?2026l\u001b[?2026h\u001b[?25l\u001b[1G\u001b[?25h\u001b[?2026l\u001b[?2026h\u001b[?25l\u001b[1G\u001b[?25h\u001b[?2026l\u001b[?2026h\u001b[?25l\u001b[1G\u001b[?25h\u001b[?2026l\u001b[?2026h\u001b[?25l\u001b[1G\u001b[?25h\u001b[?2026l\u001b[?2026h\u001b[?25l\u001b[1G\u001b[?25h\u001b[?2026l\u001b[?2026h\u001b[?25l\u001b[1G\u001b[?25h\u001b[?2026l\u001b[?2026h\u001b[?25l\u001b[1G\u001b[?25h\u001b[?2026l\u001b[?2026h\u001b[?25l\u001b[1G\u001b[?25h\u001b[?2026l\u001b[?2026h\u001b[?25l\u001b[1G\u001b[?25h\u001b[?2026l\u001b[?2026h\u001b[?25l\u001b[1G\u001b[?25h\u001b[?2026l\u001b[?2026h\u001b[?25l\u001b[1G\u001b[?25h\u001b[?2026l\u001b[?2026h\u001b[?25l\u001b[1G\u001b[?25h\u001b[?2026l\u001b[?2026h\u001b[?25l\u001b[1G\u001b[?25h\u001b[?2026l\u001b[?2026h\u001b[?25l\u001b[1G\u001b[?25h\u001b[?2026l\u001b[?2026h\u001b[?25l\u001b[1G\u001b[?25h\u001b[?2026l\u001b[?2026h\u001b[?25l\u001b[1G\u001b[?25h\u001b[?2026l\u001b[?2026h\u001b[?25l\u001b[1G\u001b[?25h\u001b[?2026l\u001b[?2026h\u001b[?25l\u001b[1G\u001b[?25h\u001b[?2026l\u001b[?2026h\u001b[?25l\u001b[1G\u001b[?25h\u001b[?2026l\u001b[?2026h\u001b[?25l\u001b[1G\u001b[?25h\u001b[?2026l\u001b[?2026h\u001b[?25l\u001b[1G\u001b[?25h\u001b[?2026l\u001b[?2026h\u001b[?25l\u001b[1G\u001b[?25h\u001b[?2026l\u001b[?2026h\u001b[?25l\u001b[1G\u001b[?25h\u001b[?2026l\u001b[?2026h\u001b[?25l\u001b[1G\u001b[?25h\u001b[?2026l\u001b[?2026h\u001b[?25l\u001b[1G\u001b[?25h\u001b[?2026l\u001b[?2026h\u001b[?25l\u001b[1G\u001b[?25h\u001b[?2026l\u001b[?2026h\u001b[?25l\u001b[1G\u001b[?25h\u001b[?2026l\u001b[?2026h\u001b[?25l\u001b[1G\u001b[?25h\u001b[?2026l\u001b[?2026h\u001b[?25l\u001b[1G\u001b[?25h\u001b[?2026l\u001b[?2026h\u001b[?25l\u001b[1G\u001b[?25h\u001b[?2026l\u001b[?2026h\u001b[?25l\u001b[1G\u001b[?25h\u001b[?2026l\u001b[?2026h\u001b[?25l\u001b[1G\u001b[?25h\u001b[?2026l\u001b[?2026h\u001b[?25l\u001b[1G\u001b[?25h\u001b[?2026l\u001b[?2026h\u001b[?25l\u001b[1G\u001b[?25h\u001b[?2026l\u001b[?2026h\u001b[?25l\u001b[1G\u001b[?25h\u001b[?2026l\u001b[?2026h\u001b[?25l\u001b[1G\u001b[?25h\u001b[?2026l\u001b[?2026h\u001b[?25l\u001b[1G\u001b[?25h\u001b[?2026l\u001b[?25l\u001b[?2026h\u001b[?25l\u001b[1G\u001b[?25h\u001b[?2026l\u001b[2K\u001b[1G\u001b[?25hHello\u001b[?25l\u001b[?25h!\u001b[?25l\u001b[?25h It\u001b[?25l\u001b[?25h'\u001b[?25l\u001b[?25hs\u001b[?25l\u001b[?25h nice\u001b[?25l\u001b[?25h to\u001b[?25l\u001b[?25h meet\u001b[?25l\u001b[?25h you\u001b[?25l\u001b[?25h.\u001b[?25l\u001b[?25h Is\u001b[?25l\u001b[?25h there\u001b[?25l\u001b[?25h something\u001b[?25l\u001b[?25h I\u001b[?25l\u001b[?25h can\u001b[?25l\u001b[?25h help\u001b[?25l\u001b[?25h you\u001b[?25l\u001b[?25h with\u001b[?25l\u001b[?25h or\u001b[?25l\u001b[?25h would\u001b[?25l\u001b[?25h you\u001b[?25l\u001b[?25h like\u001b[?25l\u001b[?25h to\u001b[?25l\u001b[?25h chat\u001b[?25l\u001b[?25h?\u001b[?25l\u001b[?25h\n",
            "\n",
            "\u001b[?25l\u001b[?25h>>> \u001b[38;5;245mSend a message (/? for help)\u001b[28D\u001b[0m^C\n"
          ]
        }
      ]
    },
    {
      "cell_type": "code",
      "source": [
        "!tiny-agents run ./my-agent"
      ],
      "metadata": {
        "colab": {
          "base_uri": "https://localhost:8080/"
        },
        "id": "77I8RNcZY2Ms",
        "outputId": "3a15bc49-54f5-42a3-9e97-b02c9b0403ce"
      },
      "execution_count": 40,
      "outputs": [
        {
          "output_type": "stream",
          "name": "stdout",
          "text": [
            "\u001b[1;34mAgent loaded with \u001b[0m\u001b[1;34m10\u001b[0m\u001b[1;34m tools:\u001b[0m\n",
            "\u001b[34m • hf_whoami\u001b[0m\n",
            "\u001b[34m • space_search\u001b[0m\n",
            "\u001b[34m • model_search\u001b[0m\n",
            "\u001b[34m • model_details\u001b[0m\n",
            "\u001b[34m • paper_search\u001b[0m\n",
            "\u001b[34m • dataset_search\u001b[0m\n",
            "\u001b[34m • dataset_details\u001b[0m\n",
            "\u001b[34m • hf_doc_search\u001b[0m\n",
            "\u001b[34m • gr1_flux1_schnell_infer\u001b[0m\n",
            "\u001b[34m • gr2_0_abidlabs_easyghiblis_ndition_generate_image\u001b[0m\n",
            "»  hi\n",
            "\n",
            "\u001b[1;31mError during agent run: \u001b[0m\u001b[1;31m404\u001b[0m\u001b[1;31m, \u001b[0m\u001b[1;31mmessage\u001b[0m\u001b[1;31m=\u001b[0m\u001b[1;31m'Not Found'\u001b[0m\u001b[1;31m, \u001b[0m\n",
            "\u001b[1;31murl\u001b[0m\u001b[1;31m=\u001b[0m\u001b[1;31m'http://localhost:11434/api/v1/chat/completions'\u001b[0m\n",
            "\u001b[1;31mTraceback \u001b[0m\u001b[1;31m(\u001b[0m\u001b[1;31mmost recent call last\u001b[0m\u001b[1;31m)\u001b[0m\u001b[1;31m:\u001b[0m\n",
            "\u001b[1;31m  File \u001b[0m\n",
            "\u001b[1;31m\"/usr/local/lib/python3.11/dist-packages/huggingface_hub/inference/_mcp/cli.py\"\u001b[0m\u001b[1;31m,\u001b[0m\n",
            "\u001b[1;31mline \u001b[0m\u001b[1;31m178\u001b[0m\u001b[1;31m, in run_agent\u001b[0m\n",
            "\u001b[1;31m    async for chunk in \u001b[0m\u001b[1;31magent.run\u001b[0m\u001b[1;31m(\u001b[0m\u001b[1;31muser_input, \u001b[0m\u001b[1;31mabort_event\u001b[0m\u001b[1;31m=\u001b[0m\u001b[1;31mabort_event\u001b[0m\u001b[1;31m)\u001b[0m\u001b[1;31m:\u001b[0m\n",
            "\u001b[1;31m  File \u001b[0m\n",
            "\u001b[1;31m\"/usr/local/lib/python3.11/dist-packages/huggingface_hub/inference/_mcp/agent.py\u001b[0m\n",
            "\u001b[1;31m\"\u001b[0m\u001b[1;31m, line \u001b[0m\u001b[1;31m84\u001b[0m\u001b[1;31m, in run\u001b[0m\n",
            "\u001b[1;31m    async for item in \u001b[0m\u001b[1;31mself.process_single_turn_with_tools\u001b[0m\u001b[1;31m(\u001b[0m\n",
            "\u001b[1;31m  File \u001b[0m\n",
            "\u001b[1;31m\"/usr/local/lib/python3.11/dist-packages/huggingface_hub/inference/_mcp/mcp_clie\u001b[0m\n",
            "\u001b[1;31mnt.py\"\u001b[0m\u001b[1;31m, line \u001b[0m\u001b[1;31m261\u001b[0m\u001b[1;31m, in process_single_turn_with_tools\u001b[0m\n",
            "\u001b[1;31m    response = await \u001b[0m\u001b[1;31mself.client.chat.completions.create\u001b[0m\u001b[1;31m(\u001b[0m\n",
            "\u001b[1;31m               ^^^^^^^^^^^^^^^^^^^^^^^^^^^^^^^^^^^^^^^^^^\u001b[0m\n",
            "\u001b[1;31m  File \u001b[0m\n",
            "\u001b[1;31m\"/usr/local/lib/python3.11/dist-packages/huggingface_hub/inference/_generated/_a\u001b[0m\n",
            "\u001b[1;31msync_client.py\"\u001b[0m\u001b[1;31m, line \u001b[0m\u001b[1;31m962\u001b[0m\u001b[1;31m, in chat_completion\u001b[0m\n",
            "\u001b[1;31m    data = await \u001b[0m\u001b[1;31mself._inner_post\u001b[0m\u001b[1;31m(\u001b[0m\u001b[1;31mrequest_parameters, \u001b[0m\u001b[1;31mstream\u001b[0m\u001b[1;31m=\u001b[0m\u001b[1;31mstream\u001b[0m\u001b[1;31m)\u001b[0m\n",
            "\u001b[1;31m           ^^^^^^^^^^^^^^^^^^^^^^^^^^^^^^^^^^^^^^^^^^^^^^^^^^^^^^^^^\u001b[0m\n",
            "\u001b[1;31m  File \u001b[0m\n",
            "\u001b[1;31m\"/usr/local/lib/python3.11/dist-packages/huggingface_hub/inference/_generated/_a\u001b[0m\n",
            "\u001b[1;31msync_client.py\"\u001b[0m\u001b[1;31m, line \u001b[0m\u001b[1;31m288\u001b[0m\u001b[1;31m, in _inner_post\u001b[0m\n",
            "\u001b[1;31m    raise error\u001b[0m\n",
            "\u001b[1;31m  File \u001b[0m\n",
            "\u001b[1;31m\"/usr/local/lib/python3.11/dist-packages/huggingface_hub/inference/_generated/_a\u001b[0m\n",
            "\u001b[1;31msync_client.py\"\u001b[0m\u001b[1;31m, line \u001b[0m\u001b[1;31m274\u001b[0m\u001b[1;31m, in _inner_post\u001b[0m\n",
            "\u001b[1;31m    \u001b[0m\u001b[1;31mresponse.raise_for_status\u001b[0m\u001b[1;31m(\u001b[0m\u001b[1;31m)\u001b[0m\n",
            "\u001b[1;31m  File \u001b[0m\u001b[1;31m\"/usr/local/lib/python3.11/dist-packages/aiohttp/client_reqrep.py\"\u001b[0m\u001b[1;31m, line \u001b[0m\n",
            "\u001b[1;31m629\u001b[0m\u001b[1;31m, in raise_for_status\u001b[0m\n",
            "\u001b[1;31m    raise \u001b[0m\u001b[1;31mClientResponseError\u001b[0m\u001b[1;31m(\u001b[0m\n",
            "\u001b[1;31maiohttp.client_exceptions.ClientResponseError: \u001b[0m\u001b[1;31m404\u001b[0m\u001b[1;31m, \u001b[0m\u001b[1;31mmessage\u001b[0m\u001b[1;31m=\u001b[0m\u001b[1;31m'Not Found'\u001b[0m\u001b[1;31m, \u001b[0m\n",
            "\u001b[1;31murl\u001b[0m\u001b[1;31m=\u001b[0m\u001b[1;31m'http://localhost:11434/api/v1/chat/completions'\u001b[0m\n",
            "\n",
            "»  \n",
            "\u001b[31mInterrupted. Press Ctrl+C again to quit.\u001b[0m\n",
            "\n",
            "\u001b[31mExiting\u001b[0m\u001b[31m...\u001b[0m\n",
            "\n"
          ]
        }
      ]
    },
    {
      "cell_type": "code",
      "source": [
        "!tiny-agents run ./my-agent"
      ],
      "metadata": {
        "colab": {
          "base_uri": "https://localhost:8080/"
        },
        "id": "noBx_5dkaQxV",
        "outputId": "e8ba3c0d-afcf-498d-9022-12f22d997c58"
      },
      "execution_count": 3,
      "outputs": [
        {
          "output_type": "stream",
          "name": "stdout",
          "text": [
            "\u001b[1;34mAgent loaded with \u001b[0m\u001b[1;34m0\u001b[0m\u001b[1;34m tools:\u001b[0m\n",
            "»  \n",
            "\u001b[31mInterrupted. Press Ctrl+C again to quit.\u001b[0m\n",
            "\n",
            "\u001b[31mExiting\u001b[0m\u001b[31m...\u001b[0m\n",
            "\n"
          ]
        }
      ]
    },
    {
      "cell_type": "code",
      "source": [
        "!curl http://localhost:11434/api/chat -d '{\n",
        "\n",
        "\"model\": \"llama2:latest\",\n",
        "\"messages\": [\n",
        "    {\n",
        "      \"role\": \"user\",\n",
        "      \"content\": \"Why is the sky blue?\"\n",
        "    }\n",
        "  ]\n",
        "}'"
      ],
      "metadata": {
        "colab": {
          "base_uri": "https://localhost:8080/",
          "height": 106
        },
        "id": "JYwiNHqxat23",
        "outputId": "877422c3-e432-40ed-f4cb-ba1127b31f36"
      },
      "execution_count": 7,
      "outputs": [
        {
          "output_type": "error",
          "ename": "SyntaxError",
          "evalue": "unmatched '}' (ipython-input-3471131411.py, line 10)",
          "traceback": [
            "\u001b[0;36m  File \u001b[0;32m\"/tmp/ipython-input-3471131411.py\"\u001b[0;36m, line \u001b[0;32m10\u001b[0m\n\u001b[0;31m    }'\u001b[0m\n\u001b[0m    ^\u001b[0m\n\u001b[0;31mSyntaxError\u001b[0m\u001b[0;31m:\u001b[0m unmatched '}'\n"
          ]
        }
      ]
    },
    {
      "cell_type": "code",
      "source": [
        "!curl http://localhost:11434/api/chat -H \"Content-Type: application/json\" -d '{\n",
        "  \"model\": \"llama2:latest\",\n",
        "  \"messages\": [\n",
        "    {\n",
        "      \"role\": \"user\",\n",
        "      \"content\": \"Why is the sky blue?\"\n",
        "    }\n",
        "  ]\n",
        "}'"
      ],
      "metadata": {
        "colab": {
          "base_uri": "https://localhost:8080/",
          "height": 106
        },
        "id": "hU04bX-gaz0k",
        "outputId": "006fed8a-1adf-4cef-90b1-3394246c954b"
      },
      "execution_count": 8,
      "outputs": [
        {
          "output_type": "error",
          "ename": "IndentationError",
          "evalue": "unexpected indent (ipython-input-3967492075.py, line 2)",
          "traceback": [
            "\u001b[0;36m  File \u001b[0;32m\"/tmp/ipython-input-3967492075.py\"\u001b[0;36m, line \u001b[0;32m2\u001b[0m\n\u001b[0;31m    \"model\": \"llama2:latest\",\u001b[0m\n\u001b[0m    ^\u001b[0m\n\u001b[0;31mIndentationError\u001b[0m\u001b[0;31m:\u001b[0m unexpected indent\n"
          ]
        }
      ]
    },
    {
      "cell_type": "code",
      "source": [
        "!!curl http://localhost:11434/api/chat -H \"Content-Type:  application/json\" -d '{\n",
        "  \"model\": \"llama2:latest\",\n",
        "  \"messages\": [\n",
        "    {\n",
        "      \"role\": \"user\",\n",
        "      \"content\": \"Why is the sky blue?\"\n",
        "    }\n",
        "  ]\n",
        "}'"
      ],
      "metadata": {
        "colab": {
          "base_uri": "https://localhost:8080/",
          "height": 106
        },
        "id": "GB66uobxbGwE",
        "outputId": "dfa767c7-4588-448f-8e1d-a960d58e3445"
      },
      "execution_count": 10,
      "outputs": [
        {
          "output_type": "error",
          "ename": "IndentationError",
          "evalue": "unexpected indent (ipython-input-2807939053.py, line 2)",
          "traceback": [
            "\u001b[0;36m  File \u001b[0;32m\"/tmp/ipython-input-2807939053.py\"\u001b[0;36m, line \u001b[0;32m2\u001b[0m\n\u001b[0;31m    \"model\": \"llama2:latest\",\u001b[0m\n\u001b[0m    ^\u001b[0m\n\u001b[0;31mIndentationError\u001b[0m\u001b[0;31m:\u001b[0m unexpected indent\n"
          ]
        }
      ]
    },
    {
      "cell_type": "code",
      "source": [
        "!tiny-agents run ./my-agent"
      ],
      "metadata": {
        "colab": {
          "base_uri": "https://localhost:8080/"
        },
        "id": "0NY7vhsZbLO9",
        "outputId": "8d7c2310-8144-41f8-c105-96553155b8bb"
      },
      "execution_count": 2,
      "outputs": [
        {
          "output_type": "stream",
          "name": "stdout",
          "text": [
            "\u001b[1;34mAgent loaded with \u001b[0m\u001b[1;34m0\u001b[0m\u001b[1;34m tools:\u001b[0m\n",
            "»  hi\n",
            "\n",
            "\u001b[1;31mError during agent run: Provider \u001b[0m\u001b[1;31m'ollama'\u001b[0m\u001b[1;31m not supported. Available values: \u001b[0m\n",
            "\u001b[1;31m'auto'\u001b[0m\u001b[1;31m or any provider from \u001b[0m\u001b[1;31m[\u001b[0m\u001b[1;31m'black-forest-labs'\u001b[0m\u001b[1;31m, \u001b[0m\u001b[1;31m'cerebras'\u001b[0m\u001b[1;31m, \u001b[0m\u001b[1;31m'cohere'\u001b[0m\u001b[1;31m, \u001b[0m\n",
            "\u001b[1;31m'fal-ai'\u001b[0m\u001b[1;31m, \u001b[0m\u001b[1;31m'featherless-ai'\u001b[0m\u001b[1;31m, \u001b[0m\u001b[1;31m'fireworks-ai'\u001b[0m\u001b[1;31m, \u001b[0m\u001b[1;31m'groq'\u001b[0m\u001b[1;31m, \u001b[0m\u001b[1;31m'hf-inference'\u001b[0m\u001b[1;31m, \u001b[0m\n",
            "\u001b[1;31m'hyperbolic'\u001b[0m\u001b[1;31m, \u001b[0m\u001b[1;31m'nebius'\u001b[0m\u001b[1;31m, \u001b[0m\u001b[1;31m'novita'\u001b[0m\u001b[1;31m, \u001b[0m\u001b[1;31m'nscale'\u001b[0m\u001b[1;31m, \u001b[0m\u001b[1;31m'openai'\u001b[0m\u001b[1;31m, \u001b[0m\u001b[1;31m'replicate'\u001b[0m\u001b[1;31m, \u001b[0m\u001b[1;31m'sambanova'\u001b[0m\u001b[1;31m, \u001b[0m\n",
            "\u001b[1;31m'together'\u001b[0m\u001b[1;31m]\u001b[0m\u001b[1;31m.Passing \u001b[0m\u001b[1;31m'auto'\u001b[0m\u001b[1;31m \u001b[0m\u001b[1;31m(\u001b[0m\u001b[1;31mdefault value\u001b[0m\u001b[1;31m)\u001b[0m\u001b[1;31m will automatically select the first \u001b[0m\n",
            "\u001b[1;31mprovider available for the model, sorted by the user's order in \u001b[0m\n",
            "\u001b[1;4;31mhttps://hf.co/settings/inference-providers.\u001b[0m\n",
            "\u001b[1;31mTraceback \u001b[0m\u001b[1;31m(\u001b[0m\u001b[1;31mmost recent call last\u001b[0m\u001b[1;31m)\u001b[0m\u001b[1;31m:\u001b[0m\n",
            "\u001b[1;31m  File \u001b[0m\n",
            "\u001b[1;31m\"/usr/local/lib/python3.11/dist-packages/huggingface_hub/inference/_mcp/cli.py\"\u001b[0m\u001b[1;31m,\u001b[0m\n",
            "\u001b[1;31mline \u001b[0m\u001b[1;31m178\u001b[0m\u001b[1;31m, in run_agent\u001b[0m\n",
            "\u001b[1;31m    async for chunk in \u001b[0m\u001b[1;31magent.run\u001b[0m\u001b[1;31m(\u001b[0m\u001b[1;31muser_input, \u001b[0m\u001b[1;31mabort_event\u001b[0m\u001b[1;31m=\u001b[0m\u001b[1;31mabort_event\u001b[0m\u001b[1;31m)\u001b[0m\u001b[1;31m:\u001b[0m\n",
            "\u001b[1;31m  File \u001b[0m\n",
            "\u001b[1;31m\"/usr/local/lib/python3.11/dist-packages/huggingface_hub/inference/_mcp/agent.py\u001b[0m\n",
            "\u001b[1;31m\"\u001b[0m\u001b[1;31m, line \u001b[0m\u001b[1;31m84\u001b[0m\u001b[1;31m, in run\u001b[0m\n",
            "\u001b[1;31m    async for item in \u001b[0m\u001b[1;31mself.process_single_turn_with_tools\u001b[0m\u001b[1;31m(\u001b[0m\n",
            "\u001b[1;31m  File \u001b[0m\n",
            "\u001b[1;31m\"/usr/local/lib/python3.11/dist-packages/huggingface_hub/inference/_mcp/mcp_clie\u001b[0m\n",
            "\u001b[1;31mnt.py\"\u001b[0m\u001b[1;31m, line \u001b[0m\u001b[1;31m261\u001b[0m\u001b[1;31m, in process_single_turn_with_tools\u001b[0m\n",
            "\u001b[1;31m    response = await \u001b[0m\u001b[1;31mself.client.chat.completions.create\u001b[0m\u001b[1;31m(\u001b[0m\n",
            "\u001b[1;31m               ^^^^^^^^^^^^^^^^^^^^^^^^^^^^^^^^^^^^^^^^^^\u001b[0m\n",
            "\u001b[1;31m  File \u001b[0m\n",
            "\u001b[1;31m\"/usr/local/lib/python3.11/dist-packages/huggingface_hub/inference/_generated/_a\u001b[0m\n",
            "\u001b[1;31msync_client.py\"\u001b[0m\u001b[1;31m, line \u001b[0m\u001b[1;31m925\u001b[0m\u001b[1;31m, in chat_completion\u001b[0m\n",
            "\u001b[1;31m    provider_helper = \u001b[0m\u001b[1;31mget_provider_helper\u001b[0m\u001b[1;31m(\u001b[0m\n",
            "\u001b[1;31m                      ^^^^^^^^^^^^^^^^^^^^\u001b[0m\n",
            "\u001b[1;31m  File \u001b[0m\n",
            "\u001b[1;31m\"/usr/local/lib/python3.11/dist-packages/huggingface_hub/inference/_providers/__\u001b[0m\n",
            "\u001b[1;31minit__.py\"\u001b[0m\u001b[1;31m, line \u001b[0m\u001b[1;31m198\u001b[0m\u001b[1;31m, in get_provider_helper\u001b[0m\n",
            "\u001b[1;31m    raise \u001b[0m\u001b[1;31mValueError\u001b[0m\u001b[1;31m(\u001b[0m\n",
            "\u001b[1;31mValueError: Provider \u001b[0m\u001b[1;31m'ollama'\u001b[0m\u001b[1;31m not supported. Available values: \u001b[0m\u001b[1;31m'auto'\u001b[0m\u001b[1;31m or any \u001b[0m\n",
            "\u001b[1;31mprovider from \u001b[0m\u001b[1;31m[\u001b[0m\u001b[1;31m'black-forest-labs'\u001b[0m\u001b[1;31m, \u001b[0m\u001b[1;31m'cerebras'\u001b[0m\u001b[1;31m, \u001b[0m\u001b[1;31m'cohere'\u001b[0m\u001b[1;31m, \u001b[0m\u001b[1;31m'fal-ai'\u001b[0m\u001b[1;31m, \u001b[0m\n",
            "\u001b[1;31m'featherless-ai'\u001b[0m\u001b[1;31m, \u001b[0m\u001b[1;31m'fireworks-ai'\u001b[0m\u001b[1;31m, \u001b[0m\u001b[1;31m'groq'\u001b[0m\u001b[1;31m, \u001b[0m\u001b[1;31m'hf-inference'\u001b[0m\u001b[1;31m, \u001b[0m\u001b[1;31m'hyperbolic'\u001b[0m\u001b[1;31m, \u001b[0m\n",
            "\u001b[1;31m'nebius'\u001b[0m\u001b[1;31m, \u001b[0m\u001b[1;31m'novita'\u001b[0m\u001b[1;31m, \u001b[0m\u001b[1;31m'nscale'\u001b[0m\u001b[1;31m, \u001b[0m\u001b[1;31m'openai'\u001b[0m\u001b[1;31m, \u001b[0m\u001b[1;31m'replicate'\u001b[0m\u001b[1;31m, \u001b[0m\u001b[1;31m'sambanova'\u001b[0m\u001b[1;31m, \u001b[0m\n",
            "\u001b[1;31m'together'\u001b[0m\u001b[1;31m]\u001b[0m\u001b[1;31m.Passing \u001b[0m\u001b[1;31m'auto'\u001b[0m\u001b[1;31m \u001b[0m\u001b[1;31m(\u001b[0m\u001b[1;31mdefault value\u001b[0m\u001b[1;31m)\u001b[0m\u001b[1;31m will automatically select the first \u001b[0m\n",
            "\u001b[1;31mprovider available for the model, sorted by the user's order in \u001b[0m\n",
            "\u001b[1;4;31mhttps://hf.co/settings/inference-providers.\u001b[0m\n",
            "\n",
            "»  \n",
            "\u001b[31mInterrupted. Press Ctrl+C again to quit.\u001b[0m\n",
            "\n",
            "\u001b[31mExiting\u001b[0m\u001b[31m...\u001b[0m\n",
            "\n"
          ]
        }
      ]
    },
    {
      "cell_type": "code",
      "source": [
        "!nohup ollama serve &"
      ],
      "metadata": {
        "colab": {
          "base_uri": "https://localhost:8080/"
        },
        "id": "8xTuyIokbT8F",
        "outputId": "c52415af-6945-4009-a6e0-97c8e437972f"
      },
      "execution_count": 1,
      "outputs": [
        {
          "output_type": "stream",
          "name": "stdout",
          "text": [
            "nohup: appending output to 'nohup.out'\n"
          ]
        }
      ]
    },
    {
      "cell_type": "code",
      "source": [
        "!pkill ollama"
      ],
      "metadata": {
        "id": "_ZFY12e8dBIQ"
      },
      "execution_count": 1,
      "outputs": []
    },
    {
      "cell_type": "code",
      "source": [
        "import subprocess\n",
        "import time\n",
        "\n",
        "# Start Ollama server in the background\n",
        "process = subprocess.Popen([\"ollama\", \"serve\"], stdout=subprocess.PIPE, stderr=subprocess.PIPE)\n",
        "\n",
        "print(\"Starting Ollama server...\")\n",
        "# Give it a few seconds to initialize\n",
        "time.sleep(5)\n",
        "print(\"Ollama server should be running.\")"
      ],
      "metadata": {
        "colab": {
          "base_uri": "https://localhost:8080/"
        },
        "id": "6j3nwBw-dCh9",
        "outputId": "38aaf5a0-510e-418d-e641-e7dbc69e05f0"
      },
      "execution_count": 2,
      "outputs": [
        {
          "output_type": "stream",
          "name": "stdout",
          "text": [
            "Starting Ollama server...\n",
            "Ollama server should be running.\n"
          ]
        }
      ]
    },
    {
      "cell_type": "code",
      "source": [
        "!tiny-agents run ./my-agent"
      ],
      "metadata": {
        "colab": {
          "base_uri": "https://localhost:8080/"
        },
        "id": "HQTkygSadGqt",
        "outputId": "043c59e6-6553-4fe0-fa53-ab728f4134ad"
      },
      "execution_count": 5,
      "outputs": [
        {
          "output_type": "stream",
          "name": "stdout",
          "text": [
            "\u001b[1;34mAgent loaded with \u001b[0m\u001b[1;34m0\u001b[0m\u001b[1;34m tools:\u001b[0m\n",
            "»  hi\n",
            "\n",
            "\u001b[1;31mError during agent run: Provider \u001b[0m\u001b[1;31m'ollama'\u001b[0m\u001b[1;31m not supported. Available values: \u001b[0m\n",
            "\u001b[1;31m'auto'\u001b[0m\u001b[1;31m or any provider from \u001b[0m\u001b[1;31m[\u001b[0m\u001b[1;31m'black-forest-labs'\u001b[0m\u001b[1;31m, \u001b[0m\u001b[1;31m'cerebras'\u001b[0m\u001b[1;31m, \u001b[0m\u001b[1;31m'cohere'\u001b[0m\u001b[1;31m, \u001b[0m\n",
            "\u001b[1;31m'fal-ai'\u001b[0m\u001b[1;31m, \u001b[0m\u001b[1;31m'featherless-ai'\u001b[0m\u001b[1;31m, \u001b[0m\u001b[1;31m'fireworks-ai'\u001b[0m\u001b[1;31m, \u001b[0m\u001b[1;31m'groq'\u001b[0m\u001b[1;31m, \u001b[0m\u001b[1;31m'hf-inference'\u001b[0m\u001b[1;31m, \u001b[0m\n",
            "\u001b[1;31m'hyperbolic'\u001b[0m\u001b[1;31m, \u001b[0m\u001b[1;31m'nebius'\u001b[0m\u001b[1;31m, \u001b[0m\u001b[1;31m'novita'\u001b[0m\u001b[1;31m, \u001b[0m\u001b[1;31m'nscale'\u001b[0m\u001b[1;31m, \u001b[0m\u001b[1;31m'openai'\u001b[0m\u001b[1;31m, \u001b[0m\u001b[1;31m'replicate'\u001b[0m\u001b[1;31m, \u001b[0m\u001b[1;31m'sambanova'\u001b[0m\u001b[1;31m, \u001b[0m\n",
            "\u001b[1;31m'together'\u001b[0m\u001b[1;31m]\u001b[0m\u001b[1;31m.Passing \u001b[0m\u001b[1;31m'auto'\u001b[0m\u001b[1;31m \u001b[0m\u001b[1;31m(\u001b[0m\u001b[1;31mdefault value\u001b[0m\u001b[1;31m)\u001b[0m\u001b[1;31m will automatically select the first \u001b[0m\n",
            "\u001b[1;31mprovider available for the model, sorted by the user's order in \u001b[0m\n",
            "\u001b[1;4;31mhttps://hf.co/settings/inference-providers.\u001b[0m\n",
            "\u001b[1;31mTraceback \u001b[0m\u001b[1;31m(\u001b[0m\u001b[1;31mmost recent call last\u001b[0m\u001b[1;31m)\u001b[0m\u001b[1;31m:\u001b[0m\n",
            "\u001b[1;31m  File \u001b[0m\n",
            "\u001b[1;31m\"/usr/local/lib/python3.11/dist-packages/huggingface_hub/inference/_mcp/cli.py\"\u001b[0m\u001b[1;31m,\u001b[0m\n",
            "\u001b[1;31mline \u001b[0m\u001b[1;31m178\u001b[0m\u001b[1;31m, in run_agent\u001b[0m\n",
            "\u001b[1;31m    async for chunk in \u001b[0m\u001b[1;31magent.run\u001b[0m\u001b[1;31m(\u001b[0m\u001b[1;31muser_input, \u001b[0m\u001b[1;31mabort_event\u001b[0m\u001b[1;31m=\u001b[0m\u001b[1;31mabort_event\u001b[0m\u001b[1;31m)\u001b[0m\u001b[1;31m:\u001b[0m\n",
            "\u001b[1;31m  File \u001b[0m\n",
            "\u001b[1;31m\"/usr/local/lib/python3.11/dist-packages/huggingface_hub/inference/_mcp/agent.py\u001b[0m\n",
            "\u001b[1;31m\"\u001b[0m\u001b[1;31m, line \u001b[0m\u001b[1;31m84\u001b[0m\u001b[1;31m, in run\u001b[0m\n",
            "\u001b[1;31m    async for item in \u001b[0m\u001b[1;31mself.process_single_turn_with_tools\u001b[0m\u001b[1;31m(\u001b[0m\n",
            "\u001b[1;31m  File \u001b[0m\n",
            "\u001b[1;31m\"/usr/local/lib/python3.11/dist-packages/huggingface_hub/inference/_mcp/mcp_clie\u001b[0m\n",
            "\u001b[1;31mnt.py\"\u001b[0m\u001b[1;31m, line \u001b[0m\u001b[1;31m261\u001b[0m\u001b[1;31m, in process_single_turn_with_tools\u001b[0m\n",
            "\u001b[1;31m    response = await \u001b[0m\u001b[1;31mself.client.chat.completions.create\u001b[0m\u001b[1;31m(\u001b[0m\n",
            "\u001b[1;31m               ^^^^^^^^^^^^^^^^^^^^^^^^^^^^^^^^^^^^^^^^^^\u001b[0m\n",
            "\u001b[1;31m  File \u001b[0m\n",
            "\u001b[1;31m\"/usr/local/lib/python3.11/dist-packages/huggingface_hub/inference/_generated/_a\u001b[0m\n",
            "\u001b[1;31msync_client.py\"\u001b[0m\u001b[1;31m, line \u001b[0m\u001b[1;31m925\u001b[0m\u001b[1;31m, in chat_completion\u001b[0m\n",
            "\u001b[1;31m    provider_helper = \u001b[0m\u001b[1;31mget_provider_helper\u001b[0m\u001b[1;31m(\u001b[0m\n",
            "\u001b[1;31m                      ^^^^^^^^^^^^^^^^^^^^\u001b[0m\n",
            "\u001b[1;31m  File \u001b[0m\n",
            "\u001b[1;31m\"/usr/local/lib/python3.11/dist-packages/huggingface_hub/inference/_providers/__\u001b[0m\n",
            "\u001b[1;31minit__.py\"\u001b[0m\u001b[1;31m, line \u001b[0m\u001b[1;31m198\u001b[0m\u001b[1;31m, in get_provider_helper\u001b[0m\n",
            "\u001b[1;31m    raise \u001b[0m\u001b[1;31mValueError\u001b[0m\u001b[1;31m(\u001b[0m\n",
            "\u001b[1;31mValueError: Provider \u001b[0m\u001b[1;31m'ollama'\u001b[0m\u001b[1;31m not supported. Available values: \u001b[0m\u001b[1;31m'auto'\u001b[0m\u001b[1;31m or any \u001b[0m\n",
            "\u001b[1;31mprovider from \u001b[0m\u001b[1;31m[\u001b[0m\u001b[1;31m'black-forest-labs'\u001b[0m\u001b[1;31m, \u001b[0m\u001b[1;31m'cerebras'\u001b[0m\u001b[1;31m, \u001b[0m\u001b[1;31m'cohere'\u001b[0m\u001b[1;31m, \u001b[0m\u001b[1;31m'fal-ai'\u001b[0m\u001b[1;31m, \u001b[0m\n",
            "\u001b[1;31m'featherless-ai'\u001b[0m\u001b[1;31m, \u001b[0m\u001b[1;31m'fireworks-ai'\u001b[0m\u001b[1;31m, \u001b[0m\u001b[1;31m'groq'\u001b[0m\u001b[1;31m, \u001b[0m\u001b[1;31m'hf-inference'\u001b[0m\u001b[1;31m, \u001b[0m\u001b[1;31m'hyperbolic'\u001b[0m\u001b[1;31m, \u001b[0m\n",
            "\u001b[1;31m'nebius'\u001b[0m\u001b[1;31m, \u001b[0m\u001b[1;31m'novita'\u001b[0m\u001b[1;31m, \u001b[0m\u001b[1;31m'nscale'\u001b[0m\u001b[1;31m, \u001b[0m\u001b[1;31m'openai'\u001b[0m\u001b[1;31m, \u001b[0m\u001b[1;31m'replicate'\u001b[0m\u001b[1;31m, \u001b[0m\u001b[1;31m'sambanova'\u001b[0m\u001b[1;31m, \u001b[0m\n",
            "\u001b[1;31m'together'\u001b[0m\u001b[1;31m]\u001b[0m\u001b[1;31m.Passing \u001b[0m\u001b[1;31m'auto'\u001b[0m\u001b[1;31m \u001b[0m\u001b[1;31m(\u001b[0m\u001b[1;31mdefault value\u001b[0m\u001b[1;31m)\u001b[0m\u001b[1;31m will automatically select the first \u001b[0m\n",
            "\u001b[1;31mprovider available for the model, sorted by the user's order in \u001b[0m\n",
            "\u001b[1;4;31mhttps://hf.co/settings/inference-providers.\u001b[0m\n",
            "\n",
            "»  \n",
            "\u001b[31mInterrupted. Press Ctrl+C again to quit.\u001b[0m\n",
            "\n",
            "\u001b[31mExiting\u001b[0m\u001b[31m...\u001b[0m\n",
            "\n"
          ]
        }
      ]
    },
    {
      "cell_type": "code",
      "source": [
        "!tiny-agents run ./my-agent"
      ],
      "metadata": {
        "colab": {
          "base_uri": "https://localhost:8080/"
        },
        "id": "naQ5yeiAdRvd",
        "outputId": "86c5a27a-35f6-4d1a-fa09-9e7569b2208e"
      },
      "execution_count": 3,
      "outputs": [
        {
          "output_type": "stream",
          "name": "stdout",
          "text": [
            "\u001b[1;34mAgent loaded with \u001b[0m\u001b[1;34m0\u001b[0m\u001b[1;34m tools:\u001b[0m\n",
            "»  hi\n",
            "\n",
            "\u001b[1;31mError during agent run: Provider \u001b[0m\u001b[1;31m'ollama'\u001b[0m\u001b[1;31m not supported. Available values: \u001b[0m\n",
            "\u001b[1;31m'auto'\u001b[0m\u001b[1;31m or any provider from \u001b[0m\u001b[1;31m[\u001b[0m\u001b[1;31m'black-forest-labs'\u001b[0m\u001b[1;31m, \u001b[0m\u001b[1;31m'cerebras'\u001b[0m\u001b[1;31m, \u001b[0m\u001b[1;31m'cohere'\u001b[0m\u001b[1;31m, \u001b[0m\n",
            "\u001b[1;31m'fal-ai'\u001b[0m\u001b[1;31m, \u001b[0m\u001b[1;31m'featherless-ai'\u001b[0m\u001b[1;31m, \u001b[0m\u001b[1;31m'fireworks-ai'\u001b[0m\u001b[1;31m, \u001b[0m\u001b[1;31m'groq'\u001b[0m\u001b[1;31m, \u001b[0m\u001b[1;31m'hf-inference'\u001b[0m\u001b[1;31m, \u001b[0m\n",
            "\u001b[1;31m'hyperbolic'\u001b[0m\u001b[1;31m, \u001b[0m\u001b[1;31m'nebius'\u001b[0m\u001b[1;31m, \u001b[0m\u001b[1;31m'novita'\u001b[0m\u001b[1;31m, \u001b[0m\u001b[1;31m'nscale'\u001b[0m\u001b[1;31m, \u001b[0m\u001b[1;31m'openai'\u001b[0m\u001b[1;31m, \u001b[0m\u001b[1;31m'replicate'\u001b[0m\u001b[1;31m, \u001b[0m\u001b[1;31m'sambanova'\u001b[0m\u001b[1;31m, \u001b[0m\n",
            "\u001b[1;31m'together'\u001b[0m\u001b[1;31m]\u001b[0m\u001b[1;31m.Passing \u001b[0m\u001b[1;31m'auto'\u001b[0m\u001b[1;31m \u001b[0m\u001b[1;31m(\u001b[0m\u001b[1;31mdefault value\u001b[0m\u001b[1;31m)\u001b[0m\u001b[1;31m will automatically select the first \u001b[0m\n",
            "\u001b[1;31mprovider available for the model, sorted by the user's order in \u001b[0m\n",
            "\u001b[1;4;31mhttps://hf.co/settings/inference-providers.\u001b[0m\n",
            "\u001b[1;31mTraceback \u001b[0m\u001b[1;31m(\u001b[0m\u001b[1;31mmost recent call last\u001b[0m\u001b[1;31m)\u001b[0m\u001b[1;31m:\u001b[0m\n",
            "\u001b[1;31m  File \u001b[0m\n",
            "\u001b[1;31m\"/usr/local/lib/python3.11/dist-packages/huggingface_hub/inference/_mcp/cli.py\"\u001b[0m\u001b[1;31m,\u001b[0m\n",
            "\u001b[1;31mline \u001b[0m\u001b[1;31m178\u001b[0m\u001b[1;31m, in run_agent\u001b[0m\n",
            "\u001b[1;31m    async for chunk in \u001b[0m\u001b[1;31magent.run\u001b[0m\u001b[1;31m(\u001b[0m\u001b[1;31muser_input, \u001b[0m\u001b[1;31mabort_event\u001b[0m\u001b[1;31m=\u001b[0m\u001b[1;31mabort_event\u001b[0m\u001b[1;31m)\u001b[0m\u001b[1;31m:\u001b[0m\n",
            "\u001b[1;31m  File \u001b[0m\n",
            "\u001b[1;31m\"/usr/local/lib/python3.11/dist-packages/huggingface_hub/inference/_mcp/agent.py\u001b[0m\n",
            "\u001b[1;31m\"\u001b[0m\u001b[1;31m, line \u001b[0m\u001b[1;31m84\u001b[0m\u001b[1;31m, in run\u001b[0m\n",
            "\u001b[1;31m    async for item in \u001b[0m\u001b[1;31mself.process_single_turn_with_tools\u001b[0m\u001b[1;31m(\u001b[0m\n",
            "\u001b[1;31m  File \u001b[0m\n",
            "\u001b[1;31m\"/usr/local/lib/python3.11/dist-packages/huggingface_hub/inference/_mcp/mcp_clie\u001b[0m\n",
            "\u001b[1;31mnt.py\"\u001b[0m\u001b[1;31m, line \u001b[0m\u001b[1;31m261\u001b[0m\u001b[1;31m, in process_single_turn_with_tools\u001b[0m\n",
            "\u001b[1;31m    response = await \u001b[0m\u001b[1;31mself.client.chat.completions.create\u001b[0m\u001b[1;31m(\u001b[0m\n",
            "\u001b[1;31m               ^^^^^^^^^^^^^^^^^^^^^^^^^^^^^^^^^^^^^^^^^^\u001b[0m\n",
            "\u001b[1;31m  File \u001b[0m\n",
            "\u001b[1;31m\"/usr/local/lib/python3.11/dist-packages/huggingface_hub/inference/_generated/_a\u001b[0m\n",
            "\u001b[1;31msync_client.py\"\u001b[0m\u001b[1;31m, line \u001b[0m\u001b[1;31m925\u001b[0m\u001b[1;31m, in chat_completion\u001b[0m\n",
            "\u001b[1;31m    provider_helper = \u001b[0m\u001b[1;31mget_provider_helper\u001b[0m\u001b[1;31m(\u001b[0m\n",
            "\u001b[1;31m                      ^^^^^^^^^^^^^^^^^^^^\u001b[0m\n",
            "\u001b[1;31m  File \u001b[0m\n",
            "\u001b[1;31m\"/usr/local/lib/python3.11/dist-packages/huggingface_hub/inference/_providers/__\u001b[0m\n",
            "\u001b[1;31minit__.py\"\u001b[0m\u001b[1;31m, line \u001b[0m\u001b[1;31m198\u001b[0m\u001b[1;31m, in get_provider_helper\u001b[0m\n",
            "\u001b[1;31m    raise \u001b[0m\u001b[1;31mValueError\u001b[0m\u001b[1;31m(\u001b[0m\n",
            "\u001b[1;31mValueError: Provider \u001b[0m\u001b[1;31m'ollama'\u001b[0m\u001b[1;31m not supported. Available values: \u001b[0m\u001b[1;31m'auto'\u001b[0m\u001b[1;31m or any \u001b[0m\n",
            "\u001b[1;31mprovider from \u001b[0m\u001b[1;31m[\u001b[0m\u001b[1;31m'black-forest-labs'\u001b[0m\u001b[1;31m, \u001b[0m\u001b[1;31m'cerebras'\u001b[0m\u001b[1;31m, \u001b[0m\u001b[1;31m'cohere'\u001b[0m\u001b[1;31m, \u001b[0m\u001b[1;31m'fal-ai'\u001b[0m\u001b[1;31m, \u001b[0m\n",
            "\u001b[1;31m'featherless-ai'\u001b[0m\u001b[1;31m, \u001b[0m\u001b[1;31m'fireworks-ai'\u001b[0m\u001b[1;31m, \u001b[0m\u001b[1;31m'groq'\u001b[0m\u001b[1;31m, \u001b[0m\u001b[1;31m'hf-inference'\u001b[0m\u001b[1;31m, \u001b[0m\u001b[1;31m'hyperbolic'\u001b[0m\u001b[1;31m, \u001b[0m\n",
            "\u001b[1;31m'nebius'\u001b[0m\u001b[1;31m, \u001b[0m\u001b[1;31m'novita'\u001b[0m\u001b[1;31m, \u001b[0m\u001b[1;31m'nscale'\u001b[0m\u001b[1;31m, \u001b[0m\u001b[1;31m'openai'\u001b[0m\u001b[1;31m, \u001b[0m\u001b[1;31m'replicate'\u001b[0m\u001b[1;31m, \u001b[0m\u001b[1;31m'sambanova'\u001b[0m\u001b[1;31m, \u001b[0m\n",
            "\u001b[1;31m'together'\u001b[0m\u001b[1;31m]\u001b[0m\u001b[1;31m.Passing \u001b[0m\u001b[1;31m'auto'\u001b[0m\u001b[1;31m \u001b[0m\u001b[1;31m(\u001b[0m\u001b[1;31mdefault value\u001b[0m\u001b[1;31m)\u001b[0m\u001b[1;31m will automatically select the first \u001b[0m\n",
            "\u001b[1;31mprovider available for the model, sorted by the user's order in \u001b[0m\n",
            "\u001b[1;4;31mhttps://hf.co/settings/inference-providers.\u001b[0m\n",
            "\n",
            "»  \n",
            "\u001b[31mInterrupted. Press Ctrl+C again to quit.\u001b[0m\n",
            "\n",
            "\u001b[31mExiting\u001b[0m\u001b[31m...\u001b[0m\n",
            "\n"
          ]
        }
      ]
    },
    {
      "cell_type": "code",
      "source": [
        "!tiny-agents run ./my-agent"
      ],
      "metadata": {
        "colab": {
          "base_uri": "https://localhost:8080/"
        },
        "id": "qPVb28ubdc89",
        "outputId": "26cc7390-a75c-4b3d-f817-0e82e4654575"
      },
      "execution_count": 4,
      "outputs": [
        {
          "output_type": "stream",
          "name": "stdout",
          "text": [
            "\u001b[1;34mAgent loaded with \u001b[0m\u001b[1;34m0\u001b[0m\u001b[1;34m tools:\u001b[0m\n",
            "»  hi\n",
            "\n",
            "\u001b[1;31mError during agent run: Provider \u001b[0m\u001b[1;31m'ollama'\u001b[0m\u001b[1;31m not supported. Available values: \u001b[0m\n",
            "\u001b[1;31m'auto'\u001b[0m\u001b[1;31m or any provider from \u001b[0m\u001b[1;31m[\u001b[0m\u001b[1;31m'black-forest-labs'\u001b[0m\u001b[1;31m, \u001b[0m\u001b[1;31m'cerebras'\u001b[0m\u001b[1;31m, \u001b[0m\u001b[1;31m'cohere'\u001b[0m\u001b[1;31m, \u001b[0m\n",
            "\u001b[1;31m'fal-ai'\u001b[0m\u001b[1;31m, \u001b[0m\u001b[1;31m'featherless-ai'\u001b[0m\u001b[1;31m, \u001b[0m\u001b[1;31m'fireworks-ai'\u001b[0m\u001b[1;31m, \u001b[0m\u001b[1;31m'groq'\u001b[0m\u001b[1;31m, \u001b[0m\u001b[1;31m'hf-inference'\u001b[0m\u001b[1;31m, \u001b[0m\n",
            "\u001b[1;31m'hyperbolic'\u001b[0m\u001b[1;31m, \u001b[0m\u001b[1;31m'nebius'\u001b[0m\u001b[1;31m, \u001b[0m\u001b[1;31m'novita'\u001b[0m\u001b[1;31m, \u001b[0m\u001b[1;31m'nscale'\u001b[0m\u001b[1;31m, \u001b[0m\u001b[1;31m'openai'\u001b[0m\u001b[1;31m, \u001b[0m\u001b[1;31m'replicate'\u001b[0m\u001b[1;31m, \u001b[0m\u001b[1;31m'sambanova'\u001b[0m\u001b[1;31m, \u001b[0m\n",
            "\u001b[1;31m'together'\u001b[0m\u001b[1;31m]\u001b[0m\u001b[1;31m.Passing \u001b[0m\u001b[1;31m'auto'\u001b[0m\u001b[1;31m \u001b[0m\u001b[1;31m(\u001b[0m\u001b[1;31mdefault value\u001b[0m\u001b[1;31m)\u001b[0m\u001b[1;31m will automatically select the first \u001b[0m\n",
            "\u001b[1;31mprovider available for the model, sorted by the user's order in \u001b[0m\n",
            "\u001b[1;4;31mhttps://hf.co/settings/inference-providers.\u001b[0m\n",
            "\u001b[1;31mTraceback \u001b[0m\u001b[1;31m(\u001b[0m\u001b[1;31mmost recent call last\u001b[0m\u001b[1;31m)\u001b[0m\u001b[1;31m:\u001b[0m\n",
            "\u001b[1;31m  File \u001b[0m\n",
            "\u001b[1;31m\"/usr/local/lib/python3.11/dist-packages/huggingface_hub/inference/_mcp/cli.py\"\u001b[0m\u001b[1;31m,\u001b[0m\n",
            "\u001b[1;31mline \u001b[0m\u001b[1;31m178\u001b[0m\u001b[1;31m, in run_agent\u001b[0m\n",
            "\u001b[1;31m    async for chunk in \u001b[0m\u001b[1;31magent.run\u001b[0m\u001b[1;31m(\u001b[0m\u001b[1;31muser_input, \u001b[0m\u001b[1;31mabort_event\u001b[0m\u001b[1;31m=\u001b[0m\u001b[1;31mabort_event\u001b[0m\u001b[1;31m)\u001b[0m\u001b[1;31m:\u001b[0m\n",
            "\u001b[1;31m  File \u001b[0m\n",
            "\u001b[1;31m\"/usr/local/lib/python3.11/dist-packages/huggingface_hub/inference/_mcp/agent.py\u001b[0m\n",
            "\u001b[1;31m\"\u001b[0m\u001b[1;31m, line \u001b[0m\u001b[1;31m84\u001b[0m\u001b[1;31m, in run\u001b[0m\n",
            "\u001b[1;31m    async for item in \u001b[0m\u001b[1;31mself.process_single_turn_with_tools\u001b[0m\u001b[1;31m(\u001b[0m\n",
            "\u001b[1;31m  File \u001b[0m\n",
            "\u001b[1;31m\"/usr/local/lib/python3.11/dist-packages/huggingface_hub/inference/_mcp/mcp_clie\u001b[0m\n",
            "\u001b[1;31mnt.py\"\u001b[0m\u001b[1;31m, line \u001b[0m\u001b[1;31m261\u001b[0m\u001b[1;31m, in process_single_turn_with_tools\u001b[0m\n",
            "\u001b[1;31m    response = await \u001b[0m\u001b[1;31mself.client.chat.completions.create\u001b[0m\u001b[1;31m(\u001b[0m\n",
            "\u001b[1;31m               ^^^^^^^^^^^^^^^^^^^^^^^^^^^^^^^^^^^^^^^^^^\u001b[0m\n",
            "\u001b[1;31m  File \u001b[0m\n",
            "\u001b[1;31m\"/usr/local/lib/python3.11/dist-packages/huggingface_hub/inference/_generated/_a\u001b[0m\n",
            "\u001b[1;31msync_client.py\"\u001b[0m\u001b[1;31m, line \u001b[0m\u001b[1;31m925\u001b[0m\u001b[1;31m, in chat_completion\u001b[0m\n",
            "\u001b[1;31m    provider_helper = \u001b[0m\u001b[1;31mget_provider_helper\u001b[0m\u001b[1;31m(\u001b[0m\n",
            "\u001b[1;31m                      ^^^^^^^^^^^^^^^^^^^^\u001b[0m\n",
            "\u001b[1;31m  File \u001b[0m\n",
            "\u001b[1;31m\"/usr/local/lib/python3.11/dist-packages/huggingface_hub/inference/_providers/__\u001b[0m\n",
            "\u001b[1;31minit__.py\"\u001b[0m\u001b[1;31m, line \u001b[0m\u001b[1;31m198\u001b[0m\u001b[1;31m, in get_provider_helper\u001b[0m\n",
            "\u001b[1;31m    raise \u001b[0m\u001b[1;31mValueError\u001b[0m\u001b[1;31m(\u001b[0m\n",
            "\u001b[1;31mValueError: Provider \u001b[0m\u001b[1;31m'ollama'\u001b[0m\u001b[1;31m not supported. Available values: \u001b[0m\u001b[1;31m'auto'\u001b[0m\u001b[1;31m or any \u001b[0m\n",
            "\u001b[1;31mprovider from \u001b[0m\u001b[1;31m[\u001b[0m\u001b[1;31m'black-forest-labs'\u001b[0m\u001b[1;31m, \u001b[0m\u001b[1;31m'cerebras'\u001b[0m\u001b[1;31m, \u001b[0m\u001b[1;31m'cohere'\u001b[0m\u001b[1;31m, \u001b[0m\u001b[1;31m'fal-ai'\u001b[0m\u001b[1;31m, \u001b[0m\n",
            "\u001b[1;31m'featherless-ai'\u001b[0m\u001b[1;31m, \u001b[0m\u001b[1;31m'fireworks-ai'\u001b[0m\u001b[1;31m, \u001b[0m\u001b[1;31m'groq'\u001b[0m\u001b[1;31m, \u001b[0m\u001b[1;31m'hf-inference'\u001b[0m\u001b[1;31m, \u001b[0m\u001b[1;31m'hyperbolic'\u001b[0m\u001b[1;31m, \u001b[0m\n",
            "\u001b[1;31m'nebius'\u001b[0m\u001b[1;31m, \u001b[0m\u001b[1;31m'novita'\u001b[0m\u001b[1;31m, \u001b[0m\u001b[1;31m'nscale'\u001b[0m\u001b[1;31m, \u001b[0m\u001b[1;31m'openai'\u001b[0m\u001b[1;31m, \u001b[0m\u001b[1;31m'replicate'\u001b[0m\u001b[1;31m, \u001b[0m\u001b[1;31m'sambanova'\u001b[0m\u001b[1;31m, \u001b[0m\n",
            "\u001b[1;31m'together'\u001b[0m\u001b[1;31m]\u001b[0m\u001b[1;31m.Passing \u001b[0m\u001b[1;31m'auto'\u001b[0m\u001b[1;31m \u001b[0m\u001b[1;31m(\u001b[0m\u001b[1;31mdefault value\u001b[0m\u001b[1;31m)\u001b[0m\u001b[1;31m will automatically select the first \u001b[0m\n",
            "\u001b[1;31mprovider available for the model, sorted by the user's order in \u001b[0m\n",
            "\u001b[1;4;31mhttps://hf.co/settings/inference-providers.\u001b[0m\n",
            "\n",
            "»  \n",
            "\u001b[31mInterrupted. Press Ctrl+C again to quit.\u001b[0m\n",
            "\n",
            "\u001b[31mExiting\u001b[0m\u001b[31m...\u001b[0m\n",
            "\n"
          ]
        }
      ]
    },
    {
      "cell_type": "code",
      "source": [
        "!nohup ollama serve &\n",
        "!tiny-agents run ./my-agent"
      ],
      "metadata": {
        "colab": {
          "base_uri": "https://localhost:8080/"
        },
        "id": "3NWb80Yhdq_9",
        "outputId": "247a305d-2aad-4325-8dea-7ae49d6808d1"
      },
      "execution_count": 2,
      "outputs": [
        {
          "output_type": "stream",
          "name": "stdout",
          "text": [
            "nohup: appending output to 'nohup.out'\n",
            "\u001b[1;34mAgent loaded with \u001b[0m\u001b[1;34m0\u001b[0m\u001b[1;34m tools:\u001b[0m\n",
            "»  hi\n",
            "\n",
            "\u001b[1;31mError during agent run: Provider \u001b[0m\u001b[1;31m'ollama'\u001b[0m\u001b[1;31m not supported. Available values: \u001b[0m\n",
            "\u001b[1;31m'auto'\u001b[0m\u001b[1;31m or any provider from \u001b[0m\u001b[1;31m[\u001b[0m\u001b[1;31m'black-forest-labs'\u001b[0m\u001b[1;31m, \u001b[0m\u001b[1;31m'cerebras'\u001b[0m\u001b[1;31m, \u001b[0m\u001b[1;31m'cohere'\u001b[0m\u001b[1;31m, \u001b[0m\n",
            "\u001b[1;31m'fal-ai'\u001b[0m\u001b[1;31m, \u001b[0m\u001b[1;31m'featherless-ai'\u001b[0m\u001b[1;31m, \u001b[0m\u001b[1;31m'fireworks-ai'\u001b[0m\u001b[1;31m, \u001b[0m\u001b[1;31m'groq'\u001b[0m\u001b[1;31m, \u001b[0m\u001b[1;31m'hf-inference'\u001b[0m\u001b[1;31m, \u001b[0m\n",
            "\u001b[1;31m'hyperbolic'\u001b[0m\u001b[1;31m, \u001b[0m\u001b[1;31m'nebius'\u001b[0m\u001b[1;31m, \u001b[0m\u001b[1;31m'novita'\u001b[0m\u001b[1;31m, \u001b[0m\u001b[1;31m'nscale'\u001b[0m\u001b[1;31m, \u001b[0m\u001b[1;31m'openai'\u001b[0m\u001b[1;31m, \u001b[0m\u001b[1;31m'replicate'\u001b[0m\u001b[1;31m, \u001b[0m\u001b[1;31m'sambanova'\u001b[0m\u001b[1;31m, \u001b[0m\n",
            "\u001b[1;31m'together'\u001b[0m\u001b[1;31m]\u001b[0m\u001b[1;31m.Passing \u001b[0m\u001b[1;31m'auto'\u001b[0m\u001b[1;31m \u001b[0m\u001b[1;31m(\u001b[0m\u001b[1;31mdefault value\u001b[0m\u001b[1;31m)\u001b[0m\u001b[1;31m will automatically select the first \u001b[0m\n",
            "\u001b[1;31mprovider available for the model, sorted by the user's order in \u001b[0m\n",
            "\u001b[1;4;31mhttps://hf.co/settings/inference-providers.\u001b[0m\n",
            "\u001b[1;31mTraceback \u001b[0m\u001b[1;31m(\u001b[0m\u001b[1;31mmost recent call last\u001b[0m\u001b[1;31m)\u001b[0m\u001b[1;31m:\u001b[0m\n",
            "\u001b[1;31m  File \u001b[0m\n",
            "\u001b[1;31m\"/usr/local/lib/python3.11/dist-packages/huggingface_hub/inference/_mcp/cli.py\"\u001b[0m\u001b[1;31m,\u001b[0m\n",
            "\u001b[1;31mline \u001b[0m\u001b[1;31m178\u001b[0m\u001b[1;31m, in run_agent\u001b[0m\n",
            "\u001b[1;31m    async for chunk in \u001b[0m\u001b[1;31magent.run\u001b[0m\u001b[1;31m(\u001b[0m\u001b[1;31muser_input, \u001b[0m\u001b[1;31mabort_event\u001b[0m\u001b[1;31m=\u001b[0m\u001b[1;31mabort_event\u001b[0m\u001b[1;31m)\u001b[0m\u001b[1;31m:\u001b[0m\n",
            "\u001b[1;31m  File \u001b[0m\n",
            "\u001b[1;31m\"/usr/local/lib/python3.11/dist-packages/huggingface_hub/inference/_mcp/agent.py\u001b[0m\n",
            "\u001b[1;31m\"\u001b[0m\u001b[1;31m, line \u001b[0m\u001b[1;31m84\u001b[0m\u001b[1;31m, in run\u001b[0m\n",
            "\u001b[1;31m    async for item in \u001b[0m\u001b[1;31mself.process_single_turn_with_tools\u001b[0m\u001b[1;31m(\u001b[0m\n",
            "\u001b[1;31m  File \u001b[0m\n",
            "\u001b[1;31m\"/usr/local/lib/python3.11/dist-packages/huggingface_hub/inference/_mcp/mcp_clie\u001b[0m\n",
            "\u001b[1;31mnt.py\"\u001b[0m\u001b[1;31m, line \u001b[0m\u001b[1;31m261\u001b[0m\u001b[1;31m, in process_single_turn_with_tools\u001b[0m\n",
            "\u001b[1;31m    response = await \u001b[0m\u001b[1;31mself.client.chat.completions.create\u001b[0m\u001b[1;31m(\u001b[0m\n",
            "\u001b[1;31m               ^^^^^^^^^^^^^^^^^^^^^^^^^^^^^^^^^^^^^^^^^^\u001b[0m\n",
            "\u001b[1;31m  File \u001b[0m\n",
            "\u001b[1;31m\"/usr/local/lib/python3.11/dist-packages/huggingface_hub/inference/_generated/_a\u001b[0m\n",
            "\u001b[1;31msync_client.py\"\u001b[0m\u001b[1;31m, line \u001b[0m\u001b[1;31m925\u001b[0m\u001b[1;31m, in chat_completion\u001b[0m\n",
            "\u001b[1;31m    provider_helper = \u001b[0m\u001b[1;31mget_provider_helper\u001b[0m\u001b[1;31m(\u001b[0m\n",
            "\u001b[1;31m                      ^^^^^^^^^^^^^^^^^^^^\u001b[0m\n",
            "\u001b[1;31m  File \u001b[0m\n",
            "\u001b[1;31m\"/usr/local/lib/python3.11/dist-packages/huggingface_hub/inference/_providers/__\u001b[0m\n",
            "\u001b[1;31minit__.py\"\u001b[0m\u001b[1;31m, line \u001b[0m\u001b[1;31m198\u001b[0m\u001b[1;31m, in get_provider_helper\u001b[0m\n",
            "\u001b[1;31m    raise \u001b[0m\u001b[1;31mValueError\u001b[0m\u001b[1;31m(\u001b[0m\n",
            "\u001b[1;31mValueError: Provider \u001b[0m\u001b[1;31m'ollama'\u001b[0m\u001b[1;31m not supported. Available values: \u001b[0m\u001b[1;31m'auto'\u001b[0m\u001b[1;31m or any \u001b[0m\n",
            "\u001b[1;31mprovider from \u001b[0m\u001b[1;31m[\u001b[0m\u001b[1;31m'black-forest-labs'\u001b[0m\u001b[1;31m, \u001b[0m\u001b[1;31m'cerebras'\u001b[0m\u001b[1;31m, \u001b[0m\u001b[1;31m'cohere'\u001b[0m\u001b[1;31m, \u001b[0m\u001b[1;31m'fal-ai'\u001b[0m\u001b[1;31m, \u001b[0m\n",
            "\u001b[1;31m'featherless-ai'\u001b[0m\u001b[1;31m, \u001b[0m\u001b[1;31m'fireworks-ai'\u001b[0m\u001b[1;31m, \u001b[0m\u001b[1;31m'groq'\u001b[0m\u001b[1;31m, \u001b[0m\u001b[1;31m'hf-inference'\u001b[0m\u001b[1;31m, \u001b[0m\u001b[1;31m'hyperbolic'\u001b[0m\u001b[1;31m, \u001b[0m\n",
            "\u001b[1;31m'nebius'\u001b[0m\u001b[1;31m, \u001b[0m\u001b[1;31m'novita'\u001b[0m\u001b[1;31m, \u001b[0m\u001b[1;31m'nscale'\u001b[0m\u001b[1;31m, \u001b[0m\u001b[1;31m'openai'\u001b[0m\u001b[1;31m, \u001b[0m\u001b[1;31m'replicate'\u001b[0m\u001b[1;31m, \u001b[0m\u001b[1;31m'sambanova'\u001b[0m\u001b[1;31m, \u001b[0m\n",
            "\u001b[1;31m'together'\u001b[0m\u001b[1;31m]\u001b[0m\u001b[1;31m.Passing \u001b[0m\u001b[1;31m'auto'\u001b[0m\u001b[1;31m \u001b[0m\u001b[1;31m(\u001b[0m\u001b[1;31mdefault value\u001b[0m\u001b[1;31m)\u001b[0m\u001b[1;31m will automatically select the first \u001b[0m\n",
            "\u001b[1;31mprovider available for the model, sorted by the user's order in \u001b[0m\n",
            "\u001b[1;4;31mhttps://hf.co/settings/inference-providers.\u001b[0m\n",
            "\n",
            "»  \n",
            "\u001b[31mInterrupted. Press Ctrl+C again to quit.\u001b[0m\n",
            "\n",
            "\u001b[31mExiting\u001b[0m\u001b[31m...\u001b[0m\n",
            "^C\n"
          ]
        }
      ]
    },
    {
      "cell_type": "code",
      "source": [
        "!nohup ollama serve &\n",
        "!tiny-agents run ./my-agent"
      ],
      "metadata": {
        "colab": {
          "base_uri": "https://localhost:8080/"
        },
        "id": "V3T4KRK4d4YN",
        "outputId": "d5518355-404e-43b5-a51a-bb09b040871b"
      },
      "execution_count": 3,
      "outputs": [
        {
          "output_type": "stream",
          "name": "stdout",
          "text": [
            "nohup: appending output to 'nohup.out'\n",
            "\u001b[1;34mAgent loaded with \u001b[0m\u001b[1;34m0\u001b[0m\u001b[1;34m tools:\u001b[0m\n",
            "»  hi]\n",
            "\n",
            "\u001b[1;31mError during agent run: Provider \u001b[0m\u001b[1;31m'ollama'\u001b[0m\u001b[1;31m not supported. Available values: \u001b[0m\n",
            "\u001b[1;31m'auto'\u001b[0m\u001b[1;31m or any provider from \u001b[0m\u001b[1;31m[\u001b[0m\u001b[1;31m'black-forest-labs'\u001b[0m\u001b[1;31m, \u001b[0m\u001b[1;31m'cerebras'\u001b[0m\u001b[1;31m, \u001b[0m\u001b[1;31m'cohere'\u001b[0m\u001b[1;31m, \u001b[0m\n",
            "\u001b[1;31m'fal-ai'\u001b[0m\u001b[1;31m, \u001b[0m\u001b[1;31m'featherless-ai'\u001b[0m\u001b[1;31m, \u001b[0m\u001b[1;31m'fireworks-ai'\u001b[0m\u001b[1;31m, \u001b[0m\u001b[1;31m'groq'\u001b[0m\u001b[1;31m, \u001b[0m\u001b[1;31m'hf-inference'\u001b[0m\u001b[1;31m, \u001b[0m\n",
            "\u001b[1;31m'hyperbolic'\u001b[0m\u001b[1;31m, \u001b[0m\u001b[1;31m'nebius'\u001b[0m\u001b[1;31m, \u001b[0m\u001b[1;31m'novita'\u001b[0m\u001b[1;31m, \u001b[0m\u001b[1;31m'nscale'\u001b[0m\u001b[1;31m, \u001b[0m\u001b[1;31m'openai'\u001b[0m\u001b[1;31m, \u001b[0m\u001b[1;31m'replicate'\u001b[0m\u001b[1;31m, \u001b[0m\u001b[1;31m'sambanova'\u001b[0m\u001b[1;31m, \u001b[0m\n",
            "\u001b[1;31m'together'\u001b[0m\u001b[1;31m]\u001b[0m\u001b[1;31m.Passing \u001b[0m\u001b[1;31m'auto'\u001b[0m\u001b[1;31m \u001b[0m\u001b[1;31m(\u001b[0m\u001b[1;31mdefault value\u001b[0m\u001b[1;31m)\u001b[0m\u001b[1;31m will automatically select the first \u001b[0m\n",
            "\u001b[1;31mprovider available for the model, sorted by the user's order in \u001b[0m\n",
            "\u001b[1;4;31mhttps://hf.co/settings/inference-providers.\u001b[0m\n",
            "\u001b[1;31mTraceback \u001b[0m\u001b[1;31m(\u001b[0m\u001b[1;31mmost recent call last\u001b[0m\u001b[1;31m)\u001b[0m\u001b[1;31m:\u001b[0m\n",
            "\u001b[1;31m  File \u001b[0m\n",
            "\u001b[1;31m\"/usr/local/lib/python3.11/dist-packages/huggingface_hub/inference/_mcp/cli.py\"\u001b[0m\u001b[1;31m,\u001b[0m\n",
            "\u001b[1;31mline \u001b[0m\u001b[1;31m178\u001b[0m\u001b[1;31m, in run_agent\u001b[0m\n",
            "\u001b[1;31m    async for chunk in \u001b[0m\u001b[1;31magent.run\u001b[0m\u001b[1;31m(\u001b[0m\u001b[1;31muser_input, \u001b[0m\u001b[1;31mabort_event\u001b[0m\u001b[1;31m=\u001b[0m\u001b[1;31mabort_event\u001b[0m\u001b[1;31m)\u001b[0m\u001b[1;31m:\u001b[0m\n",
            "\u001b[1;31m  File \u001b[0m\n",
            "\u001b[1;31m\"/usr/local/lib/python3.11/dist-packages/huggingface_hub/inference/_mcp/agent.py\u001b[0m\n",
            "\u001b[1;31m\"\u001b[0m\u001b[1;31m, line \u001b[0m\u001b[1;31m84\u001b[0m\u001b[1;31m, in run\u001b[0m\n",
            "\u001b[1;31m    async for item in \u001b[0m\u001b[1;31mself.process_single_turn_with_tools\u001b[0m\u001b[1;31m(\u001b[0m\n",
            "\u001b[1;31m  File \u001b[0m\n",
            "\u001b[1;31m\"/usr/local/lib/python3.11/dist-packages/huggingface_hub/inference/_mcp/mcp_clie\u001b[0m\n",
            "\u001b[1;31mnt.py\"\u001b[0m\u001b[1;31m, line \u001b[0m\u001b[1;31m261\u001b[0m\u001b[1;31m, in process_single_turn_with_tools\u001b[0m\n",
            "\u001b[1;31m    response = await \u001b[0m\u001b[1;31mself.client.chat.completions.create\u001b[0m\u001b[1;31m(\u001b[0m\n",
            "\u001b[1;31m               ^^^^^^^^^^^^^^^^^^^^^^^^^^^^^^^^^^^^^^^^^^\u001b[0m\n",
            "\u001b[1;31m  File \u001b[0m\n",
            "\u001b[1;31m\"/usr/local/lib/python3.11/dist-packages/huggingface_hub/inference/_generated/_a\u001b[0m\n",
            "\u001b[1;31msync_client.py\"\u001b[0m\u001b[1;31m, line \u001b[0m\u001b[1;31m925\u001b[0m\u001b[1;31m, in chat_completion\u001b[0m\n",
            "\u001b[1;31m    provider_helper = \u001b[0m\u001b[1;31mget_provider_helper\u001b[0m\u001b[1;31m(\u001b[0m\n",
            "\u001b[1;31m                      ^^^^^^^^^^^^^^^^^^^^\u001b[0m\n",
            "\u001b[1;31m  File \u001b[0m\n",
            "\u001b[1;31m\"/usr/local/lib/python3.11/dist-packages/huggingface_hub/inference/_providers/__\u001b[0m\n",
            "\u001b[1;31minit__.py\"\u001b[0m\u001b[1;31m, line \u001b[0m\u001b[1;31m198\u001b[0m\u001b[1;31m, in get_provider_helper\u001b[0m\n",
            "\u001b[1;31m    raise \u001b[0m\u001b[1;31mValueError\u001b[0m\u001b[1;31m(\u001b[0m\n",
            "\u001b[1;31mValueError: Provider \u001b[0m\u001b[1;31m'ollama'\u001b[0m\u001b[1;31m not supported. Available values: \u001b[0m\u001b[1;31m'auto'\u001b[0m\u001b[1;31m or any \u001b[0m\n",
            "\u001b[1;31mprovider from \u001b[0m\u001b[1;31m[\u001b[0m\u001b[1;31m'black-forest-labs'\u001b[0m\u001b[1;31m, \u001b[0m\u001b[1;31m'cerebras'\u001b[0m\u001b[1;31m, \u001b[0m\u001b[1;31m'cohere'\u001b[0m\u001b[1;31m, \u001b[0m\u001b[1;31m'fal-ai'\u001b[0m\u001b[1;31m, \u001b[0m\n",
            "\u001b[1;31m'featherless-ai'\u001b[0m\u001b[1;31m, \u001b[0m\u001b[1;31m'fireworks-ai'\u001b[0m\u001b[1;31m, \u001b[0m\u001b[1;31m'groq'\u001b[0m\u001b[1;31m, \u001b[0m\u001b[1;31m'hf-inference'\u001b[0m\u001b[1;31m, \u001b[0m\u001b[1;31m'hyperbolic'\u001b[0m\u001b[1;31m, \u001b[0m\n",
            "\u001b[1;31m'nebius'\u001b[0m\u001b[1;31m, \u001b[0m\u001b[1;31m'novita'\u001b[0m\u001b[1;31m, \u001b[0m\u001b[1;31m'nscale'\u001b[0m\u001b[1;31m, \u001b[0m\u001b[1;31m'openai'\u001b[0m\u001b[1;31m, \u001b[0m\u001b[1;31m'replicate'\u001b[0m\u001b[1;31m, \u001b[0m\u001b[1;31m'sambanova'\u001b[0m\u001b[1;31m, \u001b[0m\n",
            "\u001b[1;31m'together'\u001b[0m\u001b[1;31m]\u001b[0m\u001b[1;31m.Passing \u001b[0m\u001b[1;31m'auto'\u001b[0m\u001b[1;31m \u001b[0m\u001b[1;31m(\u001b[0m\u001b[1;31mdefault value\u001b[0m\u001b[1;31m)\u001b[0m\u001b[1;31m will automatically select the first \u001b[0m\n",
            "\u001b[1;31mprovider available for the model, sorted by the user's order in \u001b[0m\n",
            "\u001b[1;4;31mhttps://hf.co/settings/inference-providers.\u001b[0m\n",
            "\n",
            "»  \n",
            "\u001b[31mInterrupted. Press Ctrl+C again to quit.\u001b[0m\n",
            "\n",
            "\u001b[31mExiting\u001b[0m\u001b[31m...\u001b[0m\n",
            "\n"
          ]
        }
      ]
    },
    {
      "cell_type": "code",
      "source": [],
      "metadata": {
        "id": "pYxmJUWweQw1"
      },
      "execution_count": null,
      "outputs": []
    },
    {
      "cell_type": "code",
      "source": [],
      "metadata": {
        "id": "EUDKaLepfM2q"
      },
      "execution_count": null,
      "outputs": []
    },
    {
      "cell_type": "code",
      "source": [],
      "metadata": {
        "id": "MS2XhN33fM6c"
      },
      "execution_count": null,
      "outputs": []
    },
    {
      "cell_type": "code",
      "source": [
        "%cd /content"
      ],
      "metadata": {
        "colab": {
          "base_uri": "https://localhost:8080/"
        },
        "id": "neMYMh-WfM9b",
        "outputId": "3a8b4b6f-2cfb-45cd-e174-11824d9f7564"
      },
      "execution_count": 4,
      "outputs": [
        {
          "output_type": "stream",
          "name": "stdout",
          "text": [
            "/content\n"
          ]
        }
      ]
    },
    {
      "cell_type": "code",
      "source": [
        "!git clone https://github.com/alamriku/summarize-pdf.git"
      ],
      "metadata": {
        "colab": {
          "base_uri": "https://localhost:8080/"
        },
        "id": "uKMGnpoMfNAK",
        "outputId": "9560aea3-a874-4358-a1a9-cc51a56fb7ef"
      },
      "execution_count": 5,
      "outputs": [
        {
          "output_type": "stream",
          "name": "stdout",
          "text": [
            "Cloning into 'summarize-pdf'...\n",
            "remote: Enumerating objects: 13, done.\u001b[K\n",
            "remote: Counting objects: 100% (13/13), done.\u001b[K\n",
            "remote: Compressing objects: 100% (11/11), done.\u001b[K\n",
            "remote: Total 13 (delta 2), reused 9 (delta 1), pack-reused 0 (from 0)\u001b[K\n",
            "Receiving objects: 100% (13/13), 158.28 KiB | 2.08 MiB/s, done.\n",
            "Resolving deltas: 100% (2/2), done.\n"
          ]
        }
      ]
    },
    {
      "cell_type": "code",
      "source": [
        "%cd summarize-pdf"
      ],
      "metadata": {
        "colab": {
          "base_uri": "https://localhost:8080/"
        },
        "id": "XZ8xRYAdfSs1",
        "outputId": "0d6bcd5a-93d6-4973-dc57-8324850bfd5e"
      },
      "execution_count": 6,
      "outputs": [
        {
          "output_type": "stream",
          "name": "stdout",
          "text": [
            "/content/summarize-pdf\n"
          ]
        }
      ]
    },
    {
      "cell_type": "code",
      "source": [
        "  // Connect Ollama locally\n",
        "  const llm = new ChatOllama({\n",
        "    baseUrl: \"http://localhost:11434\",\n",
        "    model: \"llama2:latest\", // or mistral, gemma, etc.\n",
        "  });"
      ],
      "metadata": {
        "id": "WXOY2rqlfVcl"
      },
      "execution_count": null,
      "outputs": []
    },
    {
      "cell_type": "code",
      "source": [
        "%cd /content/my-agent"
      ],
      "metadata": {
        "colab": {
          "base_uri": "https://localhost:8080/"
        },
        "id": "dy5xKMMcgNoA",
        "outputId": "80b41998-6fe4-4822-ff9c-d95cf7650364"
      },
      "execution_count": 7,
      "outputs": [
        {
          "output_type": "stream",
          "name": "stdout",
          "text": [
            "/content/my-agent\n"
          ]
        }
      ]
    },
    {
      "cell_type": "code",
      "source": [
        "!nohup ollama serve &\n",
        "!tiny-agents run ./my-agent"
      ],
      "metadata": {
        "colab": {
          "base_uri": "https://localhost:8080/"
        },
        "id": "7JUoD9bggOzt",
        "outputId": "4597849b-9678-4a2c-94c9-38450ad1f7a5"
      },
      "execution_count": 1,
      "outputs": [
        {
          "output_type": "stream",
          "name": "stdout",
          "text": [
            "nohup: appending output to 'nohup.out'\n",
            "\u001b[1;34mAgent loaded with \u001b[0m\u001b[1;34m0\u001b[0m\u001b[1;34m tools:\u001b[0m\n",
            "»  hi\n",
            "\n",
            "\u001b[1;31mError during agent run: \u001b[0m\u001b[1;31m400\u001b[0m\u001b[1;31m, \u001b[0m\u001b[1;31mmessage\u001b[0m\u001b[1;31m=\u001b[0m\u001b[1;31m'Bad Request'\u001b[0m\u001b[1;31m, \u001b[0m\n",
            "\u001b[1;31murl\u001b[0m\u001b[1;31m=\u001b[0m\u001b[1;31m'http://localhost:11434/v1/chat/completions'\u001b[0m\n",
            "\u001b[1;31mTraceback \u001b[0m\u001b[1;31m(\u001b[0m\u001b[1;31mmost recent call last\u001b[0m\u001b[1;31m)\u001b[0m\u001b[1;31m:\u001b[0m\n",
            "\u001b[1;31m  File \u001b[0m\n",
            "\u001b[1;31m\"/usr/local/lib/python3.11/dist-packages/huggingface_hub/inference/_mcp/cli.py\"\u001b[0m\u001b[1;31m,\u001b[0m\n",
            "\u001b[1;31mline \u001b[0m\u001b[1;31m178\u001b[0m\u001b[1;31m, in run_agent\u001b[0m\n",
            "\u001b[1;31m    async for chunk in \u001b[0m\u001b[1;31magent.run\u001b[0m\u001b[1;31m(\u001b[0m\u001b[1;31muser_input, \u001b[0m\u001b[1;31mabort_event\u001b[0m\u001b[1;31m=\u001b[0m\u001b[1;31mabort_event\u001b[0m\u001b[1;31m)\u001b[0m\u001b[1;31m:\u001b[0m\n",
            "\u001b[1;31m  File \u001b[0m\n",
            "\u001b[1;31m\"/usr/local/lib/python3.11/dist-packages/huggingface_hub/inference/_mcp/agent.py\u001b[0m\n",
            "\u001b[1;31m\"\u001b[0m\u001b[1;31m, line \u001b[0m\u001b[1;31m84\u001b[0m\u001b[1;31m, in run\u001b[0m\n",
            "\u001b[1;31m    async for item in \u001b[0m\u001b[1;31mself.process_single_turn_with_tools\u001b[0m\u001b[1;31m(\u001b[0m\n",
            "\u001b[1;31m  File \u001b[0m\n",
            "\u001b[1;31m\"/usr/local/lib/python3.11/dist-packages/huggingface_hub/inference/_mcp/mcp_clie\u001b[0m\n",
            "\u001b[1;31mnt.py\"\u001b[0m\u001b[1;31m, line \u001b[0m\u001b[1;31m261\u001b[0m\u001b[1;31m, in process_single_turn_with_tools\u001b[0m\n",
            "\u001b[1;31m    response = await \u001b[0m\u001b[1;31mself.client.chat.completions.create\u001b[0m\u001b[1;31m(\u001b[0m\n",
            "\u001b[1;31m               ^^^^^^^^^^^^^^^^^^^^^^^^^^^^^^^^^^^^^^^^^^\u001b[0m\n",
            "\u001b[1;31m  File \u001b[0m\n",
            "\u001b[1;31m\"/usr/local/lib/python3.11/dist-packages/huggingface_hub/inference/_generated/_a\u001b[0m\n",
            "\u001b[1;31msync_client.py\"\u001b[0m\u001b[1;31m, line \u001b[0m\u001b[1;31m962\u001b[0m\u001b[1;31m, in chat_completion\u001b[0m\n",
            "\u001b[1;31m    data = await \u001b[0m\u001b[1;31mself._inner_post\u001b[0m\u001b[1;31m(\u001b[0m\u001b[1;31mrequest_parameters, \u001b[0m\u001b[1;31mstream\u001b[0m\u001b[1;31m=\u001b[0m\u001b[1;31mstream\u001b[0m\u001b[1;31m)\u001b[0m\n",
            "\u001b[1;31m           ^^^^^^^^^^^^^^^^^^^^^^^^^^^^^^^^^^^^^^^^^^^^^^^^^^^^^^^^^\u001b[0m\n",
            "\u001b[1;31m  File \u001b[0m\n",
            "\u001b[1;31m\"/usr/local/lib/python3.11/dist-packages/huggingface_hub/inference/_generated/_a\u001b[0m\n",
            "\u001b[1;31msync_client.py\"\u001b[0m\u001b[1;31m, line \u001b[0m\u001b[1;31m288\u001b[0m\u001b[1;31m, in _inner_post\u001b[0m\n",
            "\u001b[1;31m    raise error\u001b[0m\n",
            "\u001b[1;31m  File \u001b[0m\n",
            "\u001b[1;31m\"/usr/local/lib/python3.11/dist-packages/huggingface_hub/inference/_generated/_a\u001b[0m\n",
            "\u001b[1;31msync_client.py\"\u001b[0m\u001b[1;31m, line \u001b[0m\u001b[1;31m274\u001b[0m\u001b[1;31m, in _inner_post\u001b[0m\n",
            "\u001b[1;31m    \u001b[0m\u001b[1;31mresponse.raise_for_status\u001b[0m\u001b[1;31m(\u001b[0m\u001b[1;31m)\u001b[0m\n",
            "\u001b[1;31m  File \u001b[0m\u001b[1;31m\"/usr/local/lib/python3.11/dist-packages/aiohttp/client_reqrep.py\"\u001b[0m\u001b[1;31m, line \u001b[0m\n",
            "\u001b[1;31m629\u001b[0m\u001b[1;31m, in raise_for_status\u001b[0m\n",
            "\u001b[1;31m    raise \u001b[0m\u001b[1;31mClientResponseError\u001b[0m\u001b[1;31m(\u001b[0m\n",
            "\u001b[1;31maiohttp.client_exceptions.ClientResponseError: \u001b[0m\u001b[1;31m400\u001b[0m\u001b[1;31m, \u001b[0m\u001b[1;31mmessage\u001b[0m\u001b[1;31m=\u001b[0m\u001b[1;31m'Bad Request'\u001b[0m\u001b[1;31m, \u001b[0m\n",
            "\u001b[1;31murl\u001b[0m\u001b[1;31m=\u001b[0m\u001b[1;31m'http://localhost:11434/v1/chat/completions'\u001b[0m\n",
            "\n",
            "»  \n",
            "\u001b[31mInterrupted. Press Ctrl+C again to quit.\u001b[0m\n",
            "\n",
            "\u001b[31mExiting\u001b[0m\u001b[31m...\u001b[0m\n",
            "\n"
          ]
        }
      ]
    },
    {
      "cell_type": "code",
      "source": [
        "!nohup ollama serve &\n",
        "!ollama pull llama3.2:3b"
      ],
      "metadata": {
        "colab": {
          "base_uri": "https://localhost:8080/"
        },
        "id": "3M4hrF4lgRXd",
        "outputId": "d04354c7-a4e9-4b00-b5ca-e67950a64910"
      },
      "execution_count": 3,
      "outputs": [
        {
          "output_type": "stream",
          "name": "stdout",
          "text": [
            "nohup: appending output to 'nohup.out'\n",
            "\u001b[?2026h\u001b[?25l\u001b[1G\u001b[?25h\u001b[?2026l\u001b[?2026h\u001b[?25l\u001b[1G\u001b[?25h\u001b[?2026l\u001b[?2026h\u001b[?25l\u001b[1G\u001b[?25h\u001b[?2026l\u001b[?2026h\u001b[?25l\u001b[1G\u001b[?25h\u001b[?2026l\u001b[?2026h\u001b[?25l\u001b[1G\u001b[?25h\u001b[?2026l\u001b[?2026h\u001b[?25l\u001b[1G\u001b[?25h\u001b[?2026l\u001b[?2026h\u001b[?25l\u001b[1G\u001b[?25h\u001b[?2026l\u001b[?2026h\u001b[?25l\u001b[1G\u001b[?25h\u001b[?2026l\u001b[?2026h\u001b[?25l\u001b[A\u001b[1G\u001b[?25h\u001b[?2026l\u001b[?2026h\u001b[?25l\u001b[A\u001b[1G\u001b[?25h\u001b[?2026l\u001b[?2026h\u001b[?25l\u001b[A\u001b[1G\u001b[?25h\u001b[?2026l\u001b[?2026h\u001b[?25l\u001b[A\u001b[1G\u001b[?25h\u001b[?2026l\u001b[?2026h\u001b[?25l\u001b[A\u001b[1G\u001b[?25h\u001b[?2026l\u001b[?2026h\u001b[?25l\u001b[A\u001b[1G\u001b[?25h\u001b[?2026l\u001b[?2026h\u001b[?25l\u001b[A\u001b[1G\u001b[?25h\u001b[?2026l\u001b[?2026h\u001b[?25l\u001b[A\u001b[1G\u001b[?25h\u001b[?2026l\u001b[?2026h\u001b[?25l\u001b[A\u001b[1G\u001b[?25h\u001b[?2026l\u001b[?2026h\u001b[?25l\u001b[A\u001b[1G\u001b[?25h\u001b[?2026l\u001b[?2026h\u001b[?25l\u001b[A\u001b[1G\u001b[?25h\u001b[?2026l\u001b[?2026h\u001b[?25l\u001b[A\u001b[1G\u001b[?25h\u001b[?2026l\u001b[?2026h\u001b[?25l\u001b[A\u001b[1G\u001b[?25h\u001b[?2026l\u001b[?2026h\u001b[?25l\u001b[A\u001b[1G\u001b[?25h\u001b[?2026l\u001b[?2026h\u001b[?25l\u001b[A\u001b[1G\u001b[?25h\u001b[?2026l\u001b[?2026h\u001b[?25l\u001b[A\u001b[1G\u001b[?25h\u001b[?2026l\u001b[?2026h\u001b[?25l\u001b[A\u001b[1G\u001b[?25h\u001b[?2026l\u001b[?2026h\u001b[?25l\u001b[A\u001b[1G\u001b[?25h\u001b[?2026l\u001b[?2026h\u001b[?25l\u001b[A\u001b[1G\u001b[?25h\u001b[?2026l\u001b[?2026h\u001b[?25l\u001b[A\u001b[1G\u001b[?25h\u001b[?2026l\u001b[?2026h\u001b[?25l\u001b[A\u001b[1G\u001b[?25h\u001b[?2026l\u001b[?2026h\u001b[?25l\u001b[A\u001b[1G\u001b[?25h\u001b[?2026l\u001b[?2026h\u001b[?25l\u001b[A\u001b[1G\u001b[?25h\u001b[?2026l\u001b[?2026h\u001b[?25l\u001b[A\u001b[1G\u001b[?25h\u001b[?2026l\u001b[?2026h\u001b[?25l\u001b[A\u001b[1G\u001b[?25h\u001b[?2026l\u001b[?2026h\u001b[?25l\u001b[A\u001b[1G\u001b[?25h\u001b[?2026l\u001b[?2026h\u001b[?25l\u001b[A\u001b[1G\u001b[?25h\u001b[?2026l\u001b[?2026h\u001b[?25l\u001b[A\u001b[1G\u001b[?25h\u001b[?2026l\u001b[?2026h\u001b[?25l\u001b[A\u001b[1G\u001b[?25h\u001b[?2026l\u001b[?2026h\u001b[?25l\u001b[A\u001b[1G\u001b[?25h\u001b[?2026l\u001b[?2026h\u001b[?25l\u001b[A\u001b[1G\u001b[?25h\u001b[?2026l\u001b[?2026h\u001b[?25l\u001b[A\u001b[1G\u001b[?25h\u001b[?2026l\u001b[?2026h\u001b[?25l\u001b[A\u001b[1G\u001b[?25h\u001b[?2026l\u001b[?2026h\u001b[?25l\u001b[A\u001b[1G\u001b[?25h\u001b[?2026l\u001b[?2026h\u001b[?25l\u001b[A\u001b[1G\u001b[?25h\u001b[?2026l\u001b[?2026h\u001b[?25l\u001b[A\u001b[1G\u001b[?25h\u001b[?2026l\u001b[?2026h\u001b[?25l\u001b[A\u001b[1G\u001b[?25h\u001b[?2026l\u001b[?2026h\u001b[?25l\u001b[A\u001b[1G\u001b[?25h\u001b[?2026l\u001b[?2026h\u001b[?25l\u001b[A\u001b[1G\u001b[?25h\u001b[?2026l\u001b[?2026h\u001b[?25l\u001b[A\u001b[1G\u001b[?25h\u001b[?2026l\u001b[?2026h\u001b[?25l\u001b[A\u001b[1G\u001b[?25h\u001b[?2026l\u001b[?2026h\u001b[?25l\u001b[A\u001b[1G\u001b[?25h\u001b[?2026l\u001b[?2026h\u001b[?25l\u001b[A\u001b[1G\u001b[?25h\u001b[?2026l\u001b[?2026h\u001b[?25l\u001b[A\u001b[1G\u001b[?25h\u001b[?2026l\u001b[?2026h\u001b[?25l\u001b[A\u001b[1G\u001b[?25h\u001b[?2026l\u001b[?2026h\u001b[?25l\u001b[A\u001b[1G\u001b[?25h\u001b[?2026l\u001b[?2026h\u001b[?25l\u001b[A\u001b[1G\u001b[?25h\u001b[?2026l\u001b[?2026h\u001b[?25l\u001b[A\u001b[1G\u001b[?25h\u001b[?2026l\u001b[?2026h\u001b[?25l\u001b[A\u001b[1G\u001b[?25h\u001b[?2026l\u001b[?2026h\u001b[?25l\u001b[A\u001b[1G\u001b[?25h\u001b[?2026l\u001b[?2026h\u001b[?25l\u001b[A\u001b[1G\u001b[?25h\u001b[?2026l\u001b[?2026h\u001b[?25l\u001b[A\u001b[1G\u001b[?25h\u001b[?2026l\u001b[?2026h\u001b[?25l\u001b[A\u001b[1G\u001b[?25h\u001b[?2026l\u001b[?2026h\u001b[?25l\u001b[A\u001b[1G\u001b[?25h\u001b[?2026l\u001b[?2026h\u001b[?25l\u001b[A\u001b[1G\u001b[?25h\u001b[?2026l\u001b[?2026h\u001b[?25l\u001b[A\u001b[1G\u001b[?25h\u001b[?2026l\u001b[?2026h\u001b[?25l\u001b[A\u001b[1G\u001b[?25h\u001b[?2026l\u001b[?2026h\u001b[?25l\u001b[A\u001b[1G\u001b[?25h\u001b[?2026l\u001b[?2026h\u001b[?25l\u001b[A\u001b[1G\u001b[?25h\u001b[?2026l\u001b[?2026h\u001b[?25l\u001b[A\u001b[1G\u001b[?25h\u001b[?2026l\u001b[?2026h\u001b[?25l\u001b[A\u001b[1G\u001b[?25h\u001b[?2026l\u001b[?2026h\u001b[?25l\u001b[A\u001b[1G\u001b[?25h\u001b[?2026l\u001b[?2026h\u001b[?25l\u001b[A\u001b[1G\u001b[?25h\u001b[?2026l\u001b[?2026h\u001b[?25l\u001b[A\u001b[1G\u001b[?25h\u001b[?2026l\u001b[?2026h\u001b[?25l\u001b[A\u001b[1G\u001b[?25h\u001b[?2026l\u001b[?2026h\u001b[?25l\u001b[A\u001b[1G\u001b[?25h\u001b[?2026l\u001b[?2026h\u001b[?25l\u001b[A\u001b[1G\u001b[?25h\u001b[?2026l\u001b[?2026h\u001b[?25l\u001b[A\u001b[1G\u001b[?25h\u001b[?2026l\u001b[?2026h\u001b[?25l\u001b[A\u001b[1G\u001b[?25h\u001b[?2026l\u001b[?2026h\u001b[?25l\u001b[A\u001b[1G\u001b[?25h\u001b[?2026l\u001b[?2026h\u001b[?25l\u001b[A\u001b[1G\u001b[?25h\u001b[?2026l\u001b[?2026h\u001b[?25l\u001b[A\u001b[1G\u001b[?25h\u001b[?2026l\u001b[?2026h\u001b[?25l\u001b[A\u001b[1G\u001b[?25h\u001b[?2026l\u001b[?2026h\u001b[?25l\u001b[A\u001b[1G\u001b[?25h\u001b[?2026l\u001b[?2026h\u001b[?25l\u001b[A\u001b[1G\u001b[?25h\u001b[?2026l\u001b[?2026h\u001b[?25l\u001b[A\u001b[1G\u001b[?25h\u001b[?2026l\u001b[?2026h\u001b[?25l\u001b[A\u001b[1G\u001b[?25h\u001b[?2026l\u001b[?2026h\u001b[?25l\u001b[A\u001b[1G\u001b[?25h\u001b[?2026l\u001b[?2026h\u001b[?25l\u001b[A\u001b[1G\u001b[?25h\u001b[?2026l\u001b[?2026h\u001b[?25l\u001b[A\u001b[1G\u001b[?25h\u001b[?2026l\u001b[?2026h\u001b[?25l\u001b[A\u001b[1G\u001b[?25h\u001b[?2026l\u001b[?2026h\u001b[?25l\u001b[A\u001b[1G\u001b[?25h\u001b[?2026l\u001b[?2026h\u001b[?25l\u001b[A\u001b[1G\u001b[?25h\u001b[?2026l\u001b[?2026h\u001b[?25l\u001b[A\u001b[1G\u001b[?25h\u001b[?2026l\u001b[?2026h\u001b[?25l\u001b[A\u001b[1G\u001b[?25h\u001b[?2026l\u001b[?2026h\u001b[?25l\u001b[A\u001b[1G\u001b[?25h\u001b[?2026l\u001b[?2026h\u001b[?25l\u001b[A\u001b[1G\u001b[?25h\u001b[?2026l\u001b[?2026h\u001b[?25l\u001b[A\u001b[1G\u001b[?25h\u001b[?2026l\u001b[?2026h\u001b[?25l\u001b[A\u001b[1G\u001b[?25h\u001b[?2026l\u001b[?2026h\u001b[?25l\u001b[A\u001b[1G\u001b[?25h\u001b[?2026l\u001b[?2026h\u001b[?25l\u001b[A\u001b[1G\u001b[?25h\u001b[?2026l\u001b[?2026h\u001b[?25l\u001b[A\u001b[1G\u001b[?25h\u001b[?2026l\u001b[?2026h\u001b[?25l\u001b[A\u001b[1G\u001b[?25h\u001b[?2026l\u001b[?2026h\u001b[?25l\u001b[A\u001b[1G\u001b[?25h\u001b[?2026l\u001b[?2026h\u001b[?25l\u001b[A\u001b[1G\u001b[?25h\u001b[?2026l\u001b[?2026h\u001b[?25l\u001b[A\u001b[1G\u001b[?25h\u001b[?2026l\u001b[?2026h\u001b[?25l\u001b[A\u001b[1G\u001b[?25h\u001b[?2026l\u001b[?2026h\u001b[?25l\u001b[A\u001b[1G\u001b[?25h\u001b[?2026l\u001b[?2026h\u001b[?25l\u001b[A\u001b[1G\u001b[?25h\u001b[?2026l\u001b[?2026h\u001b[?25l\u001b[A\u001b[1G\u001b[?25h\u001b[?2026l\u001b[?2026h\u001b[?25l\u001b[A\u001b[1G\u001b[?25h\u001b[?2026l\u001b[?2026h\u001b[?25l\u001b[A\u001b[1G\u001b[?25h\u001b[?2026l\u001b[?2026h\u001b[?25l\u001b[A\u001b[1G\u001b[?25h\u001b[?2026l\u001b[?2026h\u001b[?25l\u001b[A\u001b[1G\u001b[?25h\u001b[?2026l\u001b[?2026h\u001b[?25l\u001b[A\u001b[1G\u001b[?25h\u001b[?2026l\u001b[?2026h\u001b[?25l\u001b[A\u001b[1G\u001b[?25h\u001b[?2026l\u001b[?2026h\u001b[?25l\u001b[A\u001b[1G\u001b[?25h\u001b[?2026l\u001b[?2026h\u001b[?25l\u001b[A\u001b[1G\u001b[?25h\u001b[?2026l\u001b[?2026h\u001b[?25l\u001b[A\u001b[1G\u001b[?25h\u001b[?2026l\u001b[?2026h\u001b[?25l\u001b[A\u001b[1G\u001b[?25h\u001b[?2026l\u001b[?2026h\u001b[?25l\u001b[A\u001b[1G\u001b[?25h\u001b[?2026l\u001b[?2026h\u001b[?25l\u001b[A\u001b[1G\u001b[?25h\u001b[?2026l\u001b[?2026h\u001b[?25l\u001b[A\u001b[1G\u001b[?25h\u001b[?2026l\u001b[?2026h\u001b[?25l\u001b[A\u001b[1G\u001b[?25h\u001b[?2026l\u001b[?2026h\u001b[?25l\u001b[A\u001b[1G\u001b[?25h\u001b[?2026l\u001b[?2026h\u001b[?25l\u001b[A\u001b[1G\u001b[?25h\u001b[?2026l\u001b[?2026h\u001b[?25l\u001b[A\u001b[1G\u001b[?25h\u001b[?2026l\u001b[?2026h\u001b[?25l\u001b[A\u001b[1G\u001b[?25h\u001b[?2026l\u001b[?2026h\u001b[?25l\u001b[A\u001b[1G\u001b[?25h\u001b[?2026l\u001b[?2026h\u001b[?25l\u001b[A\u001b[1G\u001b[?25h\u001b[?2026l\u001b[?2026h\u001b[?25l\u001b[A\u001b[1G\u001b[?25h\u001b[?2026l\u001b[?2026h\u001b[?25l\u001b[A\u001b[1G\u001b[?25h\u001b[?2026l\u001b[?2026h\u001b[?25l\u001b[A\u001b[1G\u001b[?25h\u001b[?2026l\u001b[?2026h\u001b[?25l\u001b[A\u001b[1G\u001b[?25h\u001b[?2026l\u001b[?2026h\u001b[?25l\u001b[A\u001b[1G\u001b[?25h\u001b[?2026l\u001b[?2026h\u001b[?25l\u001b[A\u001b[1G\u001b[?25h\u001b[?2026l\u001b[?2026h\u001b[?25l\u001b[A\u001b[1G\u001b[?25h\u001b[?2026l\u001b[?2026h\u001b[?25l\u001b[A\u001b[1G\u001b[?25h\u001b[?2026l\u001b[?2026h\u001b[?25l\u001b[A\u001b[1G\u001b[?25h\u001b[?2026l\u001b[?2026h\u001b[?25l\u001b[A\u001b[1G\u001b[?25h\u001b[?2026l\u001b[?2026h\u001b[?25l\u001b[A\u001b[1G\u001b[?25h\u001b[?2026l\u001b[?2026h\u001b[?25l\u001b[A\u001b[1G\u001b[?25h\u001b[?2026l\u001b[?2026h\u001b[?25l\u001b[A\u001b[1G\u001b[?25h\u001b[?2026l\u001b[?2026h\u001b[?25l\u001b[A\u001b[1G\u001b[?25h\u001b[?2026l\u001b[?2026h\u001b[?25l\u001b[A\u001b[1G\u001b[?25h\u001b[?2026l\u001b[?2026h\u001b[?25l\u001b[A\u001b[1G\u001b[?25h\u001b[?2026l\u001b[?2026h\u001b[?25l\u001b[A\u001b[1G\u001b[?25h\u001b[?2026l\u001b[?2026h\u001b[?25l\u001b[A\u001b[1G\u001b[?25h\u001b[?2026l\u001b[?2026h\u001b[?25l\u001b[A\u001b[1G\u001b[?25h\u001b[?2026l\u001b[?2026h\u001b[?25l\u001b[A\u001b[1G\u001b[?25h\u001b[?2026l\u001b[?2026h\u001b[?25l\u001b[A\u001b[1G\u001b[?25h\u001b[?2026l\u001b[?2026h\u001b[?25l\u001b[A\u001b[1G\u001b[?25h\u001b[?2026l\u001b[?2026h\u001b[?25l\u001b[A\u001b[1G\u001b[?25h\u001b[?2026l\u001b[?2026h\u001b[?25l\u001b[A\u001b[1G\u001b[?25h\u001b[?2026l\u001b[?2026h\u001b[?25l\u001b[A\u001b[1G\u001b[?25h\u001b[?2026l\u001b[?2026h\u001b[?25l\u001b[A\u001b[1G\u001b[?25h\u001b[?2026l\u001b[?2026h\u001b[?25l\u001b[A\u001b[1G\u001b[?25h\u001b[?2026l\u001b[?2026h\u001b[?25l\u001b[A\u001b[1G\u001b[?25h\u001b[?2026l\u001b[?2026h\u001b[?25l\u001b[A\u001b[1G\u001b[?25h\u001b[?2026l\u001b[?2026h\u001b[?25l\u001b[A\u001b[1G\u001b[?25h\u001b[?2026l\u001b[?2026h\u001b[?25l\u001b[A\u001b[1G\u001b[?25h\u001b[?2026l\u001b[?2026h\u001b[?25l\u001b[A\u001b[1G\u001b[?25h\u001b[?2026l\u001b[?2026h\u001b[?25l\u001b[A\u001b[1G\u001b[?25h\u001b[?2026l\u001b[?2026h\u001b[?25l\u001b[A\u001b[1G\u001b[?25h\u001b[?2026l\u001b[?2026h\u001b[?25l\u001b[A\u001b[1G\u001b[?25h\u001b[?2026l\u001b[?2026h\u001b[?25l\u001b[A\u001b[1G\u001b[?25h\u001b[?2026l\u001b[?2026h\u001b[?25l\u001b[A\u001b[1G\u001b[?25h\u001b[?2026l\u001b[?2026h\u001b[?25l\u001b[A\u001b[1G\u001b[?25h\u001b[?2026l\u001b[?2026h\u001b[?25l\u001b[A\u001b[1G\u001b[?25h\u001b[?2026l\u001b[?2026h\u001b[?25l\u001b[A\u001b[1G\u001b[?25h\u001b[?2026l\u001b[?2026h\u001b[?25l\u001b[A\u001b[1G\u001b[?25h\u001b[?2026l\u001b[?2026h\u001b[?25l\u001b[A\u001b[1G\u001b[?25h\u001b[?2026l\u001b[?2026h\u001b[?25l\u001b[A\u001b[1G\u001b[?25h\u001b[?2026l\u001b[?2026h\u001b[?25l\u001b[A\u001b[1G\u001b[?25h\u001b[?2026l\u001b[?2026h\u001b[?25l\u001b[A\u001b[1G\u001b[?25h\u001b[?2026l\u001b[?2026h\u001b[?25l\u001b[A\u001b[1G\u001b[?25h\u001b[?2026l\u001b[?2026h\u001b[?25l\u001b[A\u001b[1G\u001b[?25h\u001b[?2026l\u001b[?2026h\u001b[?25l\u001b[A\u001b[1G\u001b[?25h\u001b[?2026l\u001b[?2026h\u001b[?25l\u001b[A\u001b[1G\u001b[?25h\u001b[?2026l\u001b[?2026h\u001b[?25l\u001b[A\u001b[1G\u001b[?25h\u001b[?2026l\u001b[?2026h\u001b[?25l\u001b[A\u001b[1G\u001b[?25h\u001b[?2026l\u001b[?2026h\u001b[?25l\u001b[A\u001b[1G\u001b[?25h\u001b[?2026l\u001b[?2026h\u001b[?25l\u001b[A\u001b[1G\u001b[?25h\u001b[?2026l\u001b[?2026h\u001b[?25l\u001b[A\u001b[1G\u001b[?25h\u001b[?2026l\u001b[?2026h\u001b[?25l\u001b[A\u001b[1G\u001b[?25h\u001b[?2026l\u001b[?2026h\u001b[?25l\u001b[A\u001b[1G\u001b[?25h\u001b[?2026l\u001b[?2026h\u001b[?25l\u001b[A\u001b[1G\u001b[?25h\u001b[?2026l\u001b[?2026h\u001b[?25l\u001b[A\u001b[1G\u001b[?25h\u001b[?2026l\u001b[?2026h\u001b[?25l\u001b[A\u001b[1G\u001b[?25h\u001b[?2026l\u001b[?2026h\u001b[?25l\u001b[A\u001b[1G\u001b[?25h\u001b[?2026l\u001b[?2026h\u001b[?25l\u001b[A\u001b[1G\u001b[?25h\u001b[?2026l\u001b[?2026h\u001b[?25l\u001b[A\u001b[1G\u001b[?25h\u001b[?2026l\u001b[?2026h\u001b[?25l\u001b[A\u001b[1G\u001b[?25h\u001b[?2026l\u001b[?2026h\u001b[?25l\u001b[A\u001b[1G\u001b[?25h\u001b[?2026l\u001b[?2026h\u001b[?25l\u001b[A\u001b[1G\u001b[?25h\u001b[?2026l\u001b[?2026h\u001b[?25l\u001b[A\u001b[1G\u001b[?25h\u001b[?2026l\u001b[?2026h\u001b[?25l\u001b[A\u001b[1G\u001b[?25h\u001b[?2026l\u001b[?2026h\u001b[?25l\u001b[A\u001b[1G\u001b[?25h\u001b[?2026l\u001b[?2026h\u001b[?25l\u001b[A\u001b[1G\u001b[?25h\u001b[?2026l\u001b[?2026h\u001b[?25l\u001b[A\u001b[1G\u001b[?25h\u001b[?2026l\u001b[?2026h\u001b[?25l\u001b[A\u001b[1G\u001b[?25h\u001b[?2026l\u001b[?2026h\u001b[?25l\u001b[A\u001b[1G\u001b[?25h\u001b[?2026l\u001b[?2026h\u001b[?25l\u001b[A\u001b[1G\u001b[?25h\u001b[?2026l\u001b[?2026h\u001b[?25l\u001b[A\u001b[1G\u001b[?25h\u001b[?2026l\u001b[?2026h\u001b[?25l\u001b[A\u001b[1G\u001b[?25h\u001b[?2026l\u001b[?2026h\u001b[?25l\u001b[A\u001b[1G\u001b[?25h\u001b[?2026l\u001b[?2026h\u001b[?25l\u001b[A\u001b[1G\u001b[?25h\u001b[?2026l\u001b[?2026h\u001b[?25l\u001b[A\u001b[1G\u001b[?25h\u001b[?2026l\u001b[?2026h\u001b[?25l\u001b[A\u001b[1G\u001b[?25h\u001b[?2026l\u001b[?2026h\u001b[?25l\u001b[A\u001b[1G\u001b[?25h\u001b[?2026l\u001b[?2026h\u001b[?25l\u001b[A\u001b[1G\u001b[?25h\u001b[?2026l\u001b[?2026h\u001b[?25l\u001b[A\u001b[1G\u001b[?25h\u001b[?2026l\u001b[?2026h\u001b[?25l\u001b[A\u001b[1G\u001b[?25h\u001b[?2026l\u001b[?2026h\u001b[?25l\u001b[A\u001b[1G\u001b[?25h\u001b[?2026l\u001b[?2026h\u001b[?25l\u001b[A\u001b[1G\u001b[?25h\u001b[?2026l\u001b[?2026h\u001b[?25l\u001b[A\u001b[1G\u001b[?25h\u001b[?2026l\u001b[?2026h\u001b[?25l\u001b[A\u001b[1G\u001b[?25h\u001b[?2026l\u001b[?2026h\u001b[?25l\u001b[A\u001b[1G\u001b[?25h\u001b[?2026l\u001b[?2026h\u001b[?25l\u001b[A\u001b[1G\u001b[?25h\u001b[?2026l\u001b[?2026h\u001b[?25l\u001b[A\u001b[1G\u001b[?25h\u001b[?2026l\u001b[?2026h\u001b[?25l\u001b[A\u001b[1G\u001b[?25h\u001b[?2026l\u001b[?2026h\u001b[?25l\u001b[A\u001b[1G\u001b[?25h\u001b[?2026l\u001b[?2026h\u001b[?25l\u001b[A\u001b[1G\u001b[?25h\u001b[?2026l\u001b[?2026h\u001b[?25l\u001b[A\u001b[1G\u001b[?25h\u001b[?2026l\u001b[?2026h\u001b[?25l\u001b[A\u001b[1G\u001b[?25h\u001b[?2026l\u001b[?2026h\u001b[?25l\u001b[A\u001b[1G\u001b[?25h\u001b[?2026l\u001b[?2026h\u001b[?25l\u001b[A\u001b[1G\u001b[?25h\u001b[?2026l\u001b[?2026h\u001b[?25l\u001b[A\u001b[1G\u001b[?25h\u001b[?2026l\u001b[?2026h\u001b[?25l\u001b[A\u001b[1G\u001b[?25h\u001b[?2026l\u001b[?2026h\u001b[?25l\u001b[A\u001b[1G\u001b[?25h\u001b[?2026l\u001b[?2026h\u001b[?25l\u001b[A\u001b[1G\u001b[?25h\u001b[?2026l\u001b[?2026h\u001b[?25l\u001b[A\u001b[1G\u001b[?25h\u001b[?2026l\u001b[?2026h\u001b[?25l\u001b[A\u001b[1G\u001b[?25h\u001b[?2026l\u001b[?2026h\u001b[?25l\u001b[A\u001b[1G\u001b[?25h\u001b[?2026l\u001b[?2026h\u001b[?25l\u001b[A\u001b[1G\u001b[?25h\u001b[?2026l\u001b[?2026h\u001b[?25l\u001b[A\u001b[1G\u001b[?25h\u001b[?2026l\u001b[?2026h\u001b[?25l\u001b[A\u001b[1G\u001b[?25h\u001b[?2026l\u001b[?2026h\u001b[?25l\u001b[A\u001b[1G\u001b[?25h\u001b[?2026l\u001b[?2026h\u001b[?25l\u001b[A\u001b[1G\u001b[?25h\u001b[?2026l\u001b[?2026h\u001b[?25l\u001b[A\u001b[1G\u001b[?25h\u001b[?2026l\u001b[?2026h\u001b[?25l\u001b[A\u001b[1G\u001b[?25h\u001b[?2026l\u001b[?2026h\u001b[?25l\u001b[A\u001b[1G\u001b[?25h\u001b[?2026l\u001b[?2026h\u001b[?25l\u001b[A\u001b[1G\u001b[?25h\u001b[?2026l\u001b[?2026h\u001b[?25l\u001b[A\u001b[1G\u001b[?25h\u001b[?2026l\u001b[?2026h\u001b[?25l\u001b[A\u001b[1G\u001b[?25h\u001b[?2026l\u001b[?2026h\u001b[?25l\u001b[A\u001b[1G\u001b[?25h\u001b[?2026l\u001b[?2026h\u001b[?25l\u001b[A\u001b[1G\u001b[?25h\u001b[?2026l\u001b[?2026h\u001b[?25l\u001b[A\u001b[1G\u001b[?25h\u001b[?2026l\u001b[?2026h\u001b[?25l\u001b[A\u001b[1G\u001b[?25h\u001b[?2026l\u001b[?2026h\u001b[?25l\u001b[A\u001b[1G\u001b[?25h\u001b[?2026l\u001b[?2026h\u001b[?25l\u001b[A\u001b[1G\u001b[?25h\u001b[?2026l\u001b[?2026h\u001b[?25l\u001b[A\u001b[1G\u001b[?25h\u001b[?2026l\u001b[?2026h\u001b[?25l\u001b[A\u001b[1G\u001b[?25h\u001b[?2026l\u001b[?2026h\u001b[?25l\u001b[A\u001b[1G\u001b[?25h\u001b[?2026l\u001b[?2026h\u001b[?25l\u001b[A\u001b[1G\u001b[?25h\u001b[?2026l\u001b[?2026h\u001b[?25l\u001b[A\u001b[1G\u001b[?25h\u001b[?2026l\u001b[?2026h\u001b[?25l\u001b[A\u001b[1G\u001b[?25h\u001b[?2026l\u001b[?2026h\u001b[?25l\u001b[A\u001b[1G\u001b[?25h\u001b[?2026l\u001b[?2026h\u001b[?25l\u001b[A\u001b[1G\u001b[?25h\u001b[?2026l\u001b[?2026h\u001b[?25l\u001b[A\u001b[1G\u001b[?25h\u001b[?2026l\u001b[?2026h\u001b[?25l\u001b[A\u001b[1G\u001b[?25h\u001b[?2026l\u001b[?2026h\u001b[?25l\u001b[A\u001b[1G\u001b[?25h\u001b[?2026l\u001b[?2026h\u001b[?25l\u001b[A\u001b[1G\u001b[?25h\u001b[?2026l\u001b[?2026h\u001b[?25l\u001b[A\u001b[1G\u001b[?25h\u001b[?2026l\u001b[?2026h\u001b[?25l\u001b[A\u001b[1G\u001b[?25h\u001b[?2026l\u001b[?2026h\u001b[?25l\u001b[A\u001b[1G\u001b[?25h\u001b[?2026l\u001b[?2026h\u001b[?25l\u001b[A\u001b[1G\u001b[?25h\u001b[?2026l\u001b[?2026h\u001b[?25l\u001b[A\u001b[1G\u001b[?25h\u001b[?2026l\u001b[?2026h\u001b[?25l\u001b[A\u001b[1G\u001b[?25h\u001b[?2026l\u001b[?2026h\u001b[?25l\u001b[A\u001b[1G\u001b[?25h\u001b[?2026l\u001b[?2026h\u001b[?25l\u001b[A\u001b[1G\u001b[?25h\u001b[?2026l\u001b[?2026h\u001b[?25l\u001b[A\u001b[1G\u001b[?25h\u001b[?2026l\u001b[?2026h\u001b[?25l\u001b[A\u001b[1G\u001b[?25h\u001b[?2026l\u001b[?2026h\u001b[?25l\u001b[A\u001b[1G\u001b[?25h\u001b[?2026l\u001b[?2026h\u001b[?25l\u001b[A\u001b[1G\u001b[?25h\u001b[?2026l\u001b[?2026h\u001b[?25l\u001b[A\u001b[1G\u001b[?25h\u001b[?2026l\u001b[?2026h\u001b[?25l\u001b[A\u001b[1G\u001b[?25h\u001b[?2026l\u001b[?2026h\u001b[?25l\u001b[A\u001b[1G\u001b[?25h\u001b[?2026l\u001b[?2026h\u001b[?25l\u001b[A\u001b[1G\u001b[?25h\u001b[?2026l\u001b[?2026h\u001b[?25l\u001b[A\u001b[1G\u001b[?25h\u001b[?2026l\u001b[?2026h\u001b[?25l\u001b[A\u001b[1G\u001b[?25h\u001b[?2026l\u001b[?2026h\u001b[?25l\u001b[A\u001b[1G\u001b[?25h\u001b[?2026l\u001b[?2026h\u001b[?25l\u001b[A\u001b[1G\u001b[?25h\u001b[?2026l\u001b[?2026h\u001b[?25l\u001b[A\u001b[1G\u001b[?25h\u001b[?2026l\u001b[?2026h\u001b[?25l\u001b[A\u001b[1G\u001b[?25h\u001b[?2026l\u001b[?2026h\u001b[?25l\u001b[A\u001b[1G\u001b[?25h\u001b[?2026l\u001b[?2026h\u001b[?25l\u001b[A\u001b[1G\u001b[?25h\u001b[?2026l\u001b[?2026h\u001b[?25l\u001b[A\u001b[1G\u001b[?25h\u001b[?2026l\u001b[?2026h\u001b[?25l\u001b[A\u001b[1G\u001b[?25h\u001b[?2026l\u001b[?2026h\u001b[?25l\u001b[A\u001b[1G\u001b[?25h\u001b[?2026l\u001b[?2026h\u001b[?25l\u001b[A\u001b[1G\u001b[?25h\u001b[?2026l\u001b[?2026h\u001b[?25l\u001b[A\u001b[1G\u001b[?25h\u001b[?2026l\u001b[?2026h\u001b[?25l\u001b[A\u001b[1G\u001b[?25h\u001b[?2026l\u001b[?2026h\u001b[?25l\u001b[A\u001b[1G\u001b[?25h\u001b[?2026l\u001b[?2026h\u001b[?25l\u001b[A\u001b[1G\u001b[?25h\u001b[?2026l\u001b[?2026h\u001b[?25l\u001b[A\u001b[1G\u001b[?25h\u001b[?2026l\u001b[?2026h\u001b[?25l\u001b[A\u001b[1G\u001b[?25h\u001b[?2026l\u001b[?2026h\u001b[?25l\u001b[A\u001b[1G\u001b[?25h\u001b[?2026l\u001b[?2026h\u001b[?25l\u001b[A\u001b[1G\u001b[?25h\u001b[?2026l\u001b[?2026h\u001b[?25l\u001b[A\u001b[1G\u001b[?25h\u001b[?2026l\u001b[?2026h\u001b[?25l\u001b[A\u001b[1G\u001b[?25h\u001b[?2026l\u001b[?2026h\u001b[?25l\u001b[A\u001b[A\u001b[1G\u001b[?25h\u001b[?2026l\u001b[?2026h\u001b[?25l\u001b[A\u001b[A\u001b[1G\u001b[?25h\u001b[?2026l\u001b[?2026h\u001b[?25l\u001b[A\u001b[A\u001b[1G\u001b[?25h\u001b[?2026l\u001b[?2026h\u001b[?25l\u001b[A\u001b[A\u001b[1G\u001b[?25h\u001b[?2026l\u001b[?2026h\u001b[?25l\u001b[A\u001b[A\u001b[1G\u001b[?25h\u001b[?2026l\u001b[?2026h\u001b[?25l\u001b[A\u001b[A\u001b[1G\u001b[?25h\u001b[?2026l\u001b[?2026h\u001b[?25l\u001b[A\u001b[A\u001b[1G\u001b[?25h\u001b[?2026l\u001b[?2026h\u001b[?25l\u001b[A\u001b[A\u001b[1G\u001b[?25h\u001b[?2026l\u001b[?2026h\u001b[?25l\u001b[A\u001b[A\u001b[1G\u001b[?25h\u001b[?2026l\u001b[?2026h\u001b[?25l\u001b[A\u001b[A\u001b[1G\u001b[?25h\u001b[?2026l\u001b[?2026h\u001b[?25l\u001b[A\u001b[A\u001b[1G\u001b[?25h\u001b[?2026l\u001b[?2026h\u001b[?25l\u001b[A\u001b[A\u001b[1G\u001b[?25h\u001b[?2026l\u001b[?2026h\u001b[?25l\u001b[A\u001b[A\u001b[A\u001b[1G\u001b[?25h\u001b[?2026l\u001b[?2026h\u001b[?25l\u001b[A\u001b[A\u001b[A\u001b[1G\u001b[?25h\u001b[?2026l\u001b[?2026h\u001b[?25l\u001b[A\u001b[A\u001b[A\u001b[1G\u001b[?25h\u001b[?2026l\u001b[?2026h\u001b[?25l\u001b[A\u001b[A\u001b[A\u001b[1G\u001b[?25h\u001b[?2026l\u001b[?2026h\u001b[?25l\u001b[A\u001b[A\u001b[A\u001b[1G\u001b[?25h\u001b[?2026l\u001b[?2026h\u001b[?25l\u001b[A\u001b[A\u001b[A\u001b[1G\u001b[?25h\u001b[?2026l\u001b[?2026h\u001b[?25l\u001b[A\u001b[A\u001b[A\u001b[1G\u001b[?25h\u001b[?2026l\u001b[?2026h\u001b[?25l\u001b[A\u001b[A\u001b[A\u001b[1G\u001b[?25h\u001b[?2026l\u001b[?2026h\u001b[?25l\u001b[A\u001b[A\u001b[A\u001b[1G\u001b[?25h\u001b[?2026l\u001b[?2026h\u001b[?25l\u001b[A\u001b[A\u001b[A\u001b[1G\u001b[?25h\u001b[?2026l\u001b[?2026h\u001b[?25l\u001b[A\u001b[A\u001b[A\u001b[1G\u001b[?25h\u001b[?2026l\u001b[?2026h\u001b[?25l\u001b[A\u001b[A\u001b[A\u001b[1G\u001b[?25h\u001b[?2026l\u001b[?2026h\u001b[?25l\u001b[A\u001b[A\u001b[A\u001b[A\u001b[1G\u001b[?25h\u001b[?2026l\u001b[?2026h\u001b[?25l\u001b[A\u001b[A\u001b[A\u001b[A\u001b[1G\u001b[?25h\u001b[?2026l\u001b[?2026h\u001b[?25l\u001b[A\u001b[A\u001b[A\u001b[A\u001b[1G\u001b[?25h\u001b[?2026l\u001b[?2026h\u001b[?25l\u001b[A\u001b[A\u001b[A\u001b[A\u001b[1G\u001b[?25h\u001b[?2026l\u001b[?2026h\u001b[?25l\u001b[A\u001b[A\u001b[A\u001b[A\u001b[1G\u001b[?25h\u001b[?2026l\u001b[?2026h\u001b[?25l\u001b[A\u001b[A\u001b[A\u001b[A\u001b[1G\u001b[?25h\u001b[?2026l\u001b[?2026h\u001b[?25l\u001b[A\u001b[A\u001b[A\u001b[A\u001b[1G\u001b[?25h\u001b[?2026l\u001b[?2026h\u001b[?25l\u001b[A\u001b[A\u001b[A\u001b[A\u001b[1G\u001b[?25h\u001b[?2026l\u001b[?2026h\u001b[?25l\u001b[A\u001b[A\u001b[A\u001b[A\u001b[1G\u001b[?25h\u001b[?2026l\u001b[?2026h\u001b[?25l\u001b[A\u001b[A\u001b[A\u001b[A\u001b[1G\u001b[?25h\u001b[?2026l\u001b[?2026h\u001b[?25l\u001b[A\u001b[A\u001b[A\u001b[A\u001b[1G\u001b[?25h\u001b[?2026l\u001b[?2026h\u001b[?25l\u001b[A\u001b[A\u001b[A\u001b[A\u001b[1G\u001b[?25h\u001b[?2026l\u001b[?2026h\u001b[?25l\u001b[A\u001b[A\u001b[A\u001b[A\u001b[A\u001b[1G\u001b[?25h\u001b[?2026l\u001b[?2026h\u001b[?25l\u001b[A\u001b[A\u001b[A\u001b[A\u001b[A\u001b[1G\u001b[?25h\u001b[?2026l\u001b[?2026h\u001b[?25l\u001b[A\u001b[A\u001b[A\u001b[A\u001b[A\u001b[1G\u001b[?25h\u001b[?2026l\u001b[?2026h\u001b[?25l\u001b[A\u001b[A\u001b[A\u001b[A\u001b[A\u001b[1G\u001b[?25h\u001b[?2026l\u001b[?2026h\u001b[?25l\u001b[A\u001b[A\u001b[A\u001b[A\u001b[A\u001b[1G\u001b[?25h\u001b[?2026l\u001b[?2026h\u001b[?25l\u001b[A\u001b[A\u001b[A\u001b[A\u001b[A\u001b[1G\u001b[?25h\u001b[?2026l\u001b[?2026h\u001b[?25l\u001b[A\u001b[A\u001b[A\u001b[A\u001b[A\u001b[1G\u001b[?25h\u001b[?2026l\u001b[?2026h\u001b[?25l\u001b[A\u001b[A\u001b[A\u001b[A\u001b[A\u001b[1G\u001b[?25h\u001b[?2026l\u001b[?2026h\u001b[?25l\u001b[A\u001b[A\u001b[A\u001b[A\u001b[A\u001b[1G\u001b[?25h\u001b[?2026l\u001b[?2026h\u001b[?25l\u001b[A\u001b[A\u001b[A\u001b[A\u001b[A\u001b[1G\u001b[?25h\u001b[?2026l\u001b[?2026h\u001b[?25l\u001b[A\u001b[A\u001b[A\u001b[A\u001b[A\u001b[1G\u001b[?25h\u001b[?2026l\u001b[?2026h\u001b[?25l\u001b[A\u001b[A\u001b[A\u001b[A\u001b[A\u001b[1G\u001b[?25h\u001b[?2026l\u001b[?2026h\u001b[?25l\u001b[A\u001b[A\u001b[A\u001b[A\u001b[A\u001b[A\u001b[1G\u001b[?25h\u001b[?2026l\u001b[?2026h\u001b[?25l\u001b[A\u001b[A\u001b[A\u001b[A\u001b[A\u001b[A\u001b[1G\u001b[?25h\u001b[?2026l\u001b[?2026h\u001b[?25l\u001b[A\u001b[A\u001b[A\u001b[A\u001b[A\u001b[A\u001b[1G\u001b[?25h\u001b[?2026l\u001b[?2026h\u001b[?25l\u001b[A\u001b[A\u001b[A\u001b[A\u001b[A\u001b[A\u001b[1G\u001b[?25h\u001b[?2026l\u001b[?2026h\u001b[?25l\u001b[A\u001b[A\u001b[A\u001b[A\u001b[A\u001b[A\u001b[1G\u001b[?25h\u001b[?2026l\u001b[?2026h\u001b[?25l\u001b[A\u001b[A\u001b[A\u001b[A\u001b[A\u001b[A\u001b[1G\u001b[?25h\u001b[?2026l\u001b[?2026h\u001b[?25l\u001b[A\u001b[A\u001b[A\u001b[A\u001b[A\u001b[A\u001b[1G\u001b[?25h\u001b[?2026l\u001b[?2026h\u001b[?25l\u001b[A\u001b[A\u001b[A\u001b[A\u001b[A\u001b[A\u001b[1G\u001b[?25h\u001b[?2026l\u001b[?2026h\u001b[?25l\u001b[A\u001b[A\u001b[A\u001b[A\u001b[A\u001b[A\u001b[1G\u001b[?25h\u001b[?2026l\u001b[?2026h\u001b[?25l\u001b[A\u001b[A\u001b[A\u001b[A\u001b[A\u001b[A\u001b[A\u001b[1G\u001b[?25h\u001b[?2026l\u001b[?2026h\u001b[?25l\u001b[A\u001b[A\u001b[A\u001b[A\u001b[A\u001b[A\u001b[A\u001b[1G\u001b[?25h\u001b[?2026l\u001b[?2026h\u001b[?25l\u001b[A\u001b[A\u001b[A\u001b[A\u001b[A\u001b[A\u001b[A\u001b[1G\u001b[?25h\u001b[?2026l\u001b[?2026h\u001b[?25l\u001b[A\u001b[A\u001b[A\u001b[A\u001b[A\u001b[A\u001b[A\u001b[1G\u001b[?25h\u001b[?2026l\u001b[?2026h\u001b[?25l\u001b[A\u001b[A\u001b[A\u001b[A\u001b[A\u001b[A\u001b[A\u001b[1G\u001b[?25h\u001b[?2026l\u001b[?2026h\u001b[?25l\u001b[A\u001b[A\u001b[A\u001b[A\u001b[A\u001b[A\u001b[A\u001b[1G\u001b[?25h\u001b[?2026l\u001b[?2026h\u001b[?25l\u001b[A\u001b[A\u001b[A\u001b[A\u001b[A\u001b[A\u001b[A\u001b[1G\u001b[?25h\u001b[?2026l\u001b[?2026h\u001b[?25l\u001b[A\u001b[A\u001b[A\u001b[A\u001b[A\u001b[A\u001b[A\u001b[1G\u001b[?25h\u001b[?2026l\u001b[?2026h\u001b[?25l\u001b[A\u001b[A\u001b[A\u001b[A\u001b[A\u001b[A\u001b[A\u001b[1G\u001b[?25h\u001b[?2026l\u001b[?2026h\u001b[?25l\u001b[A\u001b[A\u001b[A\u001b[A\u001b[A\u001b[A\u001b[A\u001b[1G\u001b[?25h\u001b[?2026l\u001b[?2026h\u001b[?25l\u001b[A\u001b[A\u001b[A\u001b[A\u001b[A\u001b[A\u001b[A\u001b[1G\u001b[?25h\u001b[?2026l\u001b[?2026h\u001b[?25l\u001b[A\u001b[A\u001b[A\u001b[A\u001b[A\u001b[A\u001b[A\u001b[1G\u001b[?25h\u001b[?2026l\u001b[?2026h\u001b[?25l\u001b[A\u001b[A\u001b[A\u001b[A\u001b[A\u001b[A\u001b[A\u001b[1G\u001b[?25h\u001b[?2026l\u001b[?2026h\u001b[?25l\u001b[A\u001b[A\u001b[A\u001b[A\u001b[A\u001b[A\u001b[A\u001b[1G\u001b[?25h\u001b[?2026l\u001b[?2026h\u001b[?25l\u001b[A\u001b[A\u001b[A\u001b[A\u001b[A\u001b[A\u001b[A\u001b[1G\u001b[?25h\u001b[?2026l\u001b[?2026h\u001b[?25l\u001b[A\u001b[A\u001b[A\u001b[A\u001b[A\u001b[A\u001b[A\u001b[1G\u001b[?25h\u001b[?2026l\u001b[?2026h\u001b[?25l\u001b[A\u001b[A\u001b[A\u001b[A\u001b[A\u001b[A\u001b[A\u001b[1G\u001b[?25h\u001b[?2026l\u001b[?2026h\u001b[?25l\u001b[A\u001b[A\u001b[A\u001b[A\u001b[A\u001b[A\u001b[A\u001b[1G\u001b[?25h\u001b[?2026l\u001b[?2026h\u001b[?25l\u001b[A\u001b[A\u001b[A\u001b[A\u001b[A\u001b[A\u001b[A\u001b[1G\u001b[?25h\u001b[?2026l\u001b[?2026h\u001b[?25l\u001b[A\u001b[A\u001b[A\u001b[A\u001b[A\u001b[A\u001b[A\u001b[1G\u001b[?25h\u001b[?2026l\u001b[?2026h\u001b[?25l\u001b[A\u001b[A\u001b[A\u001b[A\u001b[A\u001b[A\u001b[A\u001b[1G\u001b[?25h\u001b[?2026l\u001b[?2026h\u001b[?25l\u001b[A\u001b[A\u001b[A\u001b[A\u001b[A\u001b[A\u001b[A\u001b[1G\u001b[?25h\u001b[?2026l\u001b[?2026h\u001b[?25l\u001b[A\u001b[A\u001b[A\u001b[A\u001b[A\u001b[A\u001b[A\u001b[1G\u001b[?25h\u001b[?2026l\u001b[?2026h\u001b[?25l\u001b[A\u001b[A\u001b[A\u001b[A\u001b[A\u001b[A\u001b[A\u001b[1G\u001b[?25h\u001b[?2026l\u001b[?2026h\u001b[?25l\u001b[A\u001b[A\u001b[A\u001b[A\u001b[A\u001b[A\u001b[A\u001b[1G\u001b[?25h\u001b[?2026l\u001b[?2026h\u001b[?25l\u001b[A\u001b[A\u001b[A\u001b[A\u001b[A\u001b[A\u001b[A\u001b[1G\u001b[?25h\u001b[?2026l\u001b[?2026h\u001b[?25l\u001b[A\u001b[A\u001b[A\u001b[A\u001b[A\u001b[A\u001b[A\u001b[1G\u001b[?25h\u001b[?2026l\u001b[?2026h\u001b[?25l\u001b[A\u001b[A\u001b[A\u001b[A\u001b[A\u001b[A\u001b[A\u001b[1G\u001b[?25h\u001b[?2026l\u001b[?2026h\u001b[?25l\u001b[A\u001b[A\u001b[A\u001b[A\u001b[A\u001b[A\u001b[A\u001b[1G\u001b[?25h\u001b[?2026l\u001b[?2026h\u001b[?25l\u001b[A\u001b[A\u001b[A\u001b[A\u001b[A\u001b[A\u001b[A\u001b[1G\u001b[?25h\u001b[?2026l\u001b[?2026h\u001b[?25l\u001b[A\u001b[A\u001b[A\u001b[A\u001b[A\u001b[A\u001b[A\u001b[1G\u001b[?25h\u001b[?2026l\u001b[?2026h\u001b[?25l\u001b[A\u001b[A\u001b[A\u001b[A\u001b[A\u001b[A\u001b[A\u001b[1G\u001b[?25h\u001b[?2026l\u001b[?2026h\u001b[?25l\u001b[A\u001b[A\u001b[A\u001b[A\u001b[A\u001b[A\u001b[A\u001b[1G\u001b[?25h\u001b[?2026l\u001b[?2026h\u001b[?25l\u001b[A\u001b[A\u001b[A\u001b[A\u001b[A\u001b[A\u001b[A\u001b[1G\u001b[?25h\u001b[?2026l\u001b[?2026h\u001b[?25l\u001b[A\u001b[A\u001b[A\u001b[A\u001b[A\u001b[A\u001b[A\u001b[1G\u001b[?25h\u001b[?2026l\u001b[?2026h\u001b[?25l\u001b[A\u001b[A\u001b[A\u001b[A\u001b[A\u001b[A\u001b[A\u001b[1G\u001b[?25h\u001b[?2026l\u001b[?2026h\u001b[?25l\u001b[A\u001b[A\u001b[A\u001b[A\u001b[A\u001b[A\u001b[A\u001b[1G\u001b[?25h\u001b[?2026l\u001b[?2026h\u001b[?25l\u001b[A\u001b[A\u001b[A\u001b[A\u001b[A\u001b[A\u001b[A\u001b[1G\u001b[?25h\u001b[?2026l\u001b[?2026h\u001b[?25l\u001b[A\u001b[A\u001b[A\u001b[A\u001b[A\u001b[A\u001b[A\u001b[1G\u001b[?25h\u001b[?2026l\u001b[?2026h\u001b[?25l\u001b[A\u001b[A\u001b[A\u001b[A\u001b[A\u001b[A\u001b[A\u001b[1G\u001b[?25h\u001b[?2026l\u001b[?2026h\u001b[?25l\u001b[A\u001b[A\u001b[A\u001b[A\u001b[A\u001b[A\u001b[A\u001b[1G\u001b[?25h\u001b[?2026l\u001b[?2026h\u001b[?25l\u001b[A\u001b[A\u001b[A\u001b[A\u001b[A\u001b[A\u001b[A\u001b[1G\u001b[?25h\u001b[?2026l\u001b[?2026h\u001b[?25l\u001b[A\u001b[A\u001b[A\u001b[A\u001b[A\u001b[A\u001b[A\u001b[1G\u001b[?25h\u001b[?2026l\u001b[?2026h\u001b[?25l\u001b[A\u001b[A\u001b[A\u001b[A\u001b[A\u001b[A\u001b[A\u001b[1G\u001b[?25h\u001b[?2026l\u001b[?2026h\u001b[?25l\u001b[A\u001b[A\u001b[A\u001b[A\u001b[A\u001b[A\u001b[A\u001b[1G\u001b[?25h\u001b[?2026l\u001b[?2026h\u001b[?25l\u001b[A\u001b[A\u001b[A\u001b[A\u001b[A\u001b[A\u001b[A\u001b[1G\u001b[?25h\u001b[?2026l\u001b[?2026h\u001b[?25l\u001b[A\u001b[A\u001b[A\u001b[A\u001b[A\u001b[A\u001b[A\u001b[1G\u001b[?25h\u001b[?2026l\u001b[?2026h\u001b[?25l\u001b[A\u001b[A\u001b[A\u001b[A\u001b[A\u001b[A\u001b[A\u001b[1G\u001b[?25h\u001b[?2026l\u001b[?2026h\u001b[?25l\u001b[A\u001b[A\u001b[A\u001b[A\u001b[A\u001b[A\u001b[A\u001b[1G\u001b[?25h\u001b[?2026l\u001b[?2026h\u001b[?25l\u001b[A\u001b[A\u001b[A\u001b[A\u001b[A\u001b[A\u001b[A\u001b[1G\u001b[?25h\u001b[?2026l\u001b[?2026h\u001b[?25l\u001b[A\u001b[A\u001b[A\u001b[A\u001b[A\u001b[A\u001b[A\u001b[1G\u001b[?25h\u001b[?2026l\u001b[?2026h\u001b[?25l\u001b[A\u001b[A\u001b[A\u001b[A\u001b[A\u001b[A\u001b[A\u001b[1G\u001b[?25h\u001b[?2026l\u001b[?2026h\u001b[?25l\u001b[A\u001b[A\u001b[A\u001b[A\u001b[A\u001b[A\u001b[A\u001b[1G\u001b[?25h\u001b[?2026l\u001b[?2026h\u001b[?25l\u001b[A\u001b[A\u001b[A\u001b[A\u001b[A\u001b[A\u001b[A\u001b[1G\u001b[?25h\u001b[?2026l\u001b[?2026h\u001b[?25l\u001b[A\u001b[A\u001b[A\u001b[A\u001b[A\u001b[A\u001b[A\u001b[1G\u001b[?25h\u001b[?2026l\u001b[?2026h\u001b[?25l\u001b[A\u001b[A\u001b[A\u001b[A\u001b[A\u001b[A\u001b[A\u001b[1G\u001b[?25h\u001b[?2026l\u001b[?2026h\u001b[?25l\u001b[A\u001b[A\u001b[A\u001b[A\u001b[A\u001b[A\u001b[A\u001b[1G\u001b[?25h\u001b[?2026l\u001b[?2026h\u001b[?25l\u001b[A\u001b[A\u001b[A\u001b[A\u001b[A\u001b[A\u001b[A\u001b[1G\u001b[?25h\u001b[?2026l\u001b[?2026h\u001b[?25l\u001b[A\u001b[A\u001b[A\u001b[A\u001b[A\u001b[A\u001b[A\u001b[1G\u001b[?25h\u001b[?2026l\u001b[?2026h\u001b[?25l\u001b[A\u001b[A\u001b[A\u001b[A\u001b[A\u001b[A\u001b[A\u001b[1G\u001b[?25h\u001b[?2026l\u001b[?2026h\u001b[?25l\u001b[A\u001b[A\u001b[A\u001b[A\u001b[A\u001b[A\u001b[A\u001b[1G\u001b[?25h\u001b[?2026l\u001b[?2026h\u001b[?25l\u001b[A\u001b[A\u001b[A\u001b[A\u001b[A\u001b[A\u001b[A\u001b[1G\u001b[?25h\u001b[?2026l\u001b[?2026h\u001b[?25l\u001b[A\u001b[A\u001b[A\u001b[A\u001b[A\u001b[A\u001b[A\u001b[1G\u001b[?25h\u001b[?2026l\u001b[?2026h\u001b[?25l\u001b[A\u001b[A\u001b[A\u001b[A\u001b[A\u001b[A\u001b[A\u001b[1G\u001b[?25h\u001b[?2026l\u001b[?2026h\u001b[?25l\u001b[A\u001b[A\u001b[A\u001b[A\u001b[A\u001b[A\u001b[A\u001b[1G\u001b[?25h\u001b[?2026l\u001b[?2026h\u001b[?25l\u001b[A\u001b[A\u001b[A\u001b[A\u001b[A\u001b[A\u001b[A\u001b[1G\u001b[?25h\u001b[?2026l\u001b[?2026h\u001b[?25l\u001b[A\u001b[A\u001b[A\u001b[A\u001b[A\u001b[A\u001b[A\u001b[1G\u001b[?25h\u001b[?2026l\u001b[?2026h\u001b[?25l\u001b[A\u001b[A\u001b[A\u001b[A\u001b[A\u001b[A\u001b[A\u001b[1G\u001b[?25h\u001b[?2026l\u001b[?2026h\u001b[?25l\u001b[A\u001b[A\u001b[A\u001b[A\u001b[A\u001b[A\u001b[A\u001b[1G\u001b[?25h\u001b[?2026l\u001b[?2026h\u001b[?25l\u001b[A\u001b[A\u001b[A\u001b[A\u001b[A\u001b[A\u001b[A\u001b[1G\u001b[?25h\u001b[?2026l\u001b[?2026h\u001b[?25l\u001b[A\u001b[A\u001b[A\u001b[A\u001b[A\u001b[A\u001b[A\u001b[1G\u001b[?25h\u001b[?2026l\u001b[?2026h\u001b[?25l\u001b[A\u001b[A\u001b[A\u001b[A\u001b[A\u001b[A\u001b[A\u001b[1G\u001b[?25h\u001b[?2026l\u001b[?2026h\u001b[?25l\u001b[A\u001b[A\u001b[A\u001b[A\u001b[A\u001b[A\u001b[A\u001b[1G\u001b[?25h\u001b[?2026l\u001b[?2026h\u001b[?25l\u001b[A\u001b[A\u001b[A\u001b[A\u001b[A\u001b[A\u001b[A\u001b[1G\u001b[?25h\u001b[?2026l\u001b[?2026h\u001b[?25l\u001b[A\u001b[A\u001b[A\u001b[A\u001b[A\u001b[A\u001b[A\u001b[1G\u001b[?25h\u001b[?2026l\u001b[?2026h\u001b[?25l\u001b[A\u001b[A\u001b[A\u001b[A\u001b[A\u001b[A\u001b[A\u001b[1G\u001b[?25h\u001b[?2026l\u001b[?2026h\u001b[?25l\u001b[A\u001b[A\u001b[A\u001b[A\u001b[A\u001b[A\u001b[A\u001b[1G\u001b[?25h\u001b[?2026l\u001b[?2026h\u001b[?25l\u001b[A\u001b[A\u001b[A\u001b[A\u001b[A\u001b[A\u001b[A\u001b[1G\u001b[?25h\u001b[?2026l\u001b[?2026h\u001b[?25l\u001b[A\u001b[A\u001b[A\u001b[A\u001b[A\u001b[A\u001b[A\u001b[1G\u001b[?25h\u001b[?2026l\u001b[?2026h\u001b[?25l\u001b[A\u001b[A\u001b[A\u001b[A\u001b[A\u001b[A\u001b[A\u001b[1G\u001b[?25h\u001b[?2026l\u001b[?2026h\u001b[?25l\u001b[A\u001b[A\u001b[A\u001b[A\u001b[A\u001b[A\u001b[A\u001b[1G\u001b[?25h\u001b[?2026l\u001b[?2026h\u001b[?25l\u001b[A\u001b[A\u001b[A\u001b[A\u001b[A\u001b[A\u001b[A\u001b[1G\u001b[?25h\u001b[?2026l\u001b[?2026h\u001b[?25l\u001b[A\u001b[A\u001b[A\u001b[A\u001b[A\u001b[A\u001b[A\u001b[1G\u001b[?25h\u001b[?2026l\u001b[?2026h\u001b[?25l\u001b[A\u001b[A\u001b[A\u001b[A\u001b[A\u001b[A\u001b[A\u001b[1G\u001b[?25h\u001b[?2026l\u001b[?2026h\u001b[?25l\u001b[A\u001b[A\u001b[A\u001b[A\u001b[A\u001b[A\u001b[A\u001b[1G\u001b[?25h\u001b[?2026l\u001b[?2026h\u001b[?25l\u001b[A\u001b[A\u001b[A\u001b[A\u001b[A\u001b[A\u001b[A\u001b[1G\u001b[?25h\u001b[?2026l\u001b[?2026h\u001b[?25l\u001b[A\u001b[A\u001b[A\u001b[A\u001b[A\u001b[A\u001b[A\u001b[1G\u001b[?25h\u001b[?2026l\u001b[?2026h\u001b[?25l\u001b[A\u001b[A\u001b[A\u001b[A\u001b[A\u001b[A\u001b[A\u001b[1G\u001b[?25h\u001b[?2026l\u001b[?2026h\u001b[?25l\u001b[A\u001b[A\u001b[A\u001b[A\u001b[A\u001b[A\u001b[A\u001b[1G\u001b[?25h\u001b[?2026l\u001b[?2026h\u001b[?25l\u001b[A\u001b[A\u001b[A\u001b[A\u001b[A\u001b[A\u001b[A\u001b[1G\u001b[?25h\u001b[?2026l\u001b[?2026h\u001b[?25l\u001b[A\u001b[A\u001b[A\u001b[A\u001b[A\u001b[A\u001b[A\u001b[1G\u001b[?25h\u001b[?2026l\u001b[?2026h\u001b[?25l\u001b[A\u001b[A\u001b[A\u001b[A\u001b[A\u001b[A\u001b[A\u001b[1G\u001b[?25h\u001b[?2026l\u001b[?2026h\u001b[?25l\u001b[A\u001b[A\u001b[A\u001b[A\u001b[A\u001b[A\u001b[A\u001b[1G\u001b[?25h\u001b[?2026l\u001b[?2026h\u001b[?25l\u001b[A\u001b[A\u001b[A\u001b[A\u001b[A\u001b[A\u001b[A\u001b[1G\u001b[?25h\u001b[?2026l\u001b[?2026h\u001b[?25l\u001b[A\u001b[A\u001b[A\u001b[A\u001b[A\u001b[A\u001b[A\u001b[1G\u001b[?25h\u001b[?2026l\u001b[?2026h\u001b[?25l\u001b[A\u001b[A\u001b[A\u001b[A\u001b[A\u001b[A\u001b[A\u001b[1G\u001b[?25h\u001b[?2026l\u001b[?2026h\u001b[?25l\u001b[A\u001b[A\u001b[A\u001b[A\u001b[A\u001b[A\u001b[A\u001b[1G\u001b[?25h\u001b[?2026l\u001b[?2026h\u001b[?25l\u001b[A\u001b[A\u001b[A\u001b[A\u001b[A\u001b[A\u001b[A\u001b[1G\u001b[?25h\u001b[?2026l\u001b[?2026h\u001b[?25l\u001b[A\u001b[A\u001b[A\u001b[A\u001b[A\u001b[A\u001b[A\u001b[1G\u001b[?25h\u001b[?2026l\u001b[?2026h\u001b[?25l\u001b[A\u001b[A\u001b[A\u001b[A\u001b[A\u001b[A\u001b[A\u001b[1G\u001b[?25h\u001b[?2026l\u001b[?2026h\u001b[?25l\u001b[A\u001b[A\u001b[A\u001b[A\u001b[A\u001b[A\u001b[A\u001b[1G\u001b[?25h\u001b[?2026l\u001b[?2026h\u001b[?25l\u001b[A\u001b[A\u001b[A\u001b[A\u001b[A\u001b[A\u001b[A\u001b[1G\u001b[?25h\u001b[?2026l\u001b[?2026h\u001b[?25l\u001b[A\u001b[A\u001b[A\u001b[A\u001b[A\u001b[A\u001b[A\u001b[1G\u001b[?25h\u001b[?2026l\u001b[?2026h\u001b[?25l\u001b[A\u001b[A\u001b[A\u001b[A\u001b[A\u001b[A\u001b[A\u001b[1G\u001b[?25h\u001b[?2026l\u001b[?2026h\u001b[?25l\u001b[A\u001b[A\u001b[A\u001b[A\u001b[A\u001b[A\u001b[A\u001b[1G\u001b[?25h\u001b[?2026l\u001b[?2026h\u001b[?25l\u001b[A\u001b[A\u001b[A\u001b[A\u001b[A\u001b[A\u001b[A\u001b[1G\u001b[?25h\u001b[?2026l\u001b[?2026h\u001b[?25l\u001b[A\u001b[A\u001b[A\u001b[A\u001b[A\u001b[A\u001b[A\u001b[1G\u001b[?25h\u001b[?2026l\u001b[?2026h\u001b[?25l\u001b[A\u001b[A\u001b[A\u001b[A\u001b[A\u001b[A\u001b[A\u001b[1G\u001b[?25h\u001b[?2026l\u001b[?2026h\u001b[?25l\u001b[A\u001b[A\u001b[A\u001b[A\u001b[A\u001b[A\u001b[A\u001b[1G\u001b[?25h\u001b[?2026l\u001b[?2026h\u001b[?25l\u001b[A\u001b[A\u001b[A\u001b[A\u001b[A\u001b[A\u001b[A\u001b[1G\u001b[?25h\u001b[?2026l\u001b[?2026h\u001b[?25l\u001b[A\u001b[A\u001b[A\u001b[A\u001b[A\u001b[A\u001b[A\u001b[1G\u001b[?25h\u001b[?2026l\u001b[?2026h\u001b[?25l\u001b[A\u001b[A\u001b[A\u001b[A\u001b[A\u001b[A\u001b[A\u001b[1G\u001b[?25h\u001b[?2026l\u001b[?2026h\u001b[?25l\u001b[A\u001b[A\u001b[A\u001b[A\u001b[A\u001b[A\u001b[A\u001b[1G\u001b[?25h\u001b[?2026l\u001b[?2026h\u001b[?25l\u001b[A\u001b[A\u001b[A\u001b[A\u001b[A\u001b[A\u001b[A\u001b[1G\u001b[?25h\u001b[?2026l\u001b[?2026h\u001b[?25l\u001b[A\u001b[A\u001b[A\u001b[A\u001b[A\u001b[A\u001b[A\u001b[1G\u001b[?25h\u001b[?2026l\u001b[?2026h\u001b[?25l\u001b[A\u001b[A\u001b[A\u001b[A\u001b[A\u001b[A\u001b[A\u001b[1G\u001b[?25h\u001b[?2026l\u001b[?2026h\u001b[?25l\u001b[A\u001b[A\u001b[A\u001b[A\u001b[A\u001b[A\u001b[A\u001b[1G\u001b[?25h\u001b[?2026l\u001b[?2026h\u001b[?25l\u001b[A\u001b[A\u001b[A\u001b[A\u001b[A\u001b[A\u001b[A\u001b[1G\u001b[?25h\u001b[?2026l\u001b[?2026h\u001b[?25l\u001b[A\u001b[A\u001b[A\u001b[A\u001b[A\u001b[A\u001b[A\u001b[1G\u001b[?25h\u001b[?2026l\u001b[?2026h\u001b[?25l\u001b[A\u001b[A\u001b[A\u001b[A\u001b[A\u001b[A\u001b[A\u001b[1G\u001b[?25h\u001b[?2026l\u001b[?2026h\u001b[?25l\u001b[A\u001b[A\u001b[A\u001b[A\u001b[A\u001b[A\u001b[A\u001b[1G\u001b[?25h\u001b[?2026l\u001b[?2026h\u001b[?25l\u001b[A\u001b[A\u001b[A\u001b[A\u001b[A\u001b[A\u001b[A\u001b[1G\u001b[?25h\u001b[?2026l\u001b[?2026h\u001b[?25l\u001b[A\u001b[A\u001b[A\u001b[A\u001b[A\u001b[A\u001b[A\u001b[1G\u001b[?25h\u001b[?2026l\u001b[?2026h\u001b[?25l\u001b[A\u001b[A\u001b[A\u001b[A\u001b[A\u001b[A\u001b[A\u001b[1G\u001b[?25h\u001b[?2026l\u001b[?2026h\u001b[?25l\u001b[A\u001b[A\u001b[A\u001b[A\u001b[A\u001b[A\u001b[A\u001b[1G\u001b[?25h\u001b[?2026l\u001b[?2026h\u001b[?25l\u001b[A\u001b[A\u001b[A\u001b[A\u001b[A\u001b[A\u001b[A\u001b[1G\u001b[?25h\u001b[?2026l\u001b[?2026h\u001b[?25l\u001b[A\u001b[A\u001b[A\u001b[A\u001b[A\u001b[A\u001b[A\u001b[1G\u001b[?25h\u001b[?2026l\u001b[?2026h\u001b[?25l\u001b[A\u001b[A\u001b[A\u001b[A\u001b[A\u001b[A\u001b[A\u001b[1G\u001b[?25h\u001b[?2026l\u001b[?2026h\u001b[?25l\u001b[A\u001b[A\u001b[A\u001b[A\u001b[A\u001b[A\u001b[A\u001b[1G\u001b[?25h\u001b[?2026l\u001b[?2026h\u001b[?25l\u001b[A\u001b[A\u001b[A\u001b[A\u001b[A\u001b[A\u001b[A\u001b[1G\u001b[?25h\u001b[?2026l\u001b[?2026h\u001b[?25l\u001b[A\u001b[A\u001b[A\u001b[A\u001b[A\u001b[A\u001b[A\u001b[1G\u001b[?25h\u001b[?2026l\u001b[?2026h\u001b[?25l\u001b[A\u001b[A\u001b[A\u001b[A\u001b[A\u001b[A\u001b[A\u001b[1G\u001b[?25h\u001b[?2026l\u001b[?2026h\u001b[?25l\u001b[A\u001b[A\u001b[A\u001b[A\u001b[A\u001b[A\u001b[A\u001b[1G\u001b[?25h\u001b[?2026l\u001b[?2026h\u001b[?25l\u001b[A\u001b[A\u001b[A\u001b[A\u001b[A\u001b[A\u001b[A\u001b[1G\u001b[?25h\u001b[?2026l\u001b[?2026h\u001b[?25l\u001b[A\u001b[A\u001b[A\u001b[A\u001b[A\u001b[A\u001b[A\u001b[1G\u001b[?25h\u001b[?2026l\u001b[?2026h\u001b[?25l\u001b[A\u001b[A\u001b[A\u001b[A\u001b[A\u001b[A\u001b[A\u001b[1G\u001b[?25h\u001b[?2026l\u001b[?2026h\u001b[?25l\u001b[A\u001b[A\u001b[A\u001b[A\u001b[A\u001b[A\u001b[A\u001b[1G\u001b[?25h\u001b[?2026l\u001b[?2026h\u001b[?25l\u001b[A\u001b[A\u001b[A\u001b[A\u001b[A\u001b[A\u001b[A\u001b[1G\u001b[?25h\u001b[?2026l\n"
          ]
        }
      ]
    },
    {
      "cell_type": "markdown",
      "source": [
        "https://github.com/huggingface/huggingface_hub/releases"
      ],
      "metadata": {
        "id": "SDSIdNRLicuv"
      }
    },
    {
      "cell_type": "markdown",
      "source": [
        "https://github.com/huggingface/huggingface.js/issues/1502"
      ],
      "metadata": {
        "id": "TnPdNfc-jAsA"
      }
    },
    {
      "cell_type": "code",
      "source": [
        "https://github.com/huggingface/huggingface.js/issues/1502"
      ],
      "metadata": {
        "id": "7Ak2NWUmhRMF"
      },
      "execution_count": null,
      "outputs": []
    },
    {
      "cell_type": "code",
      "source": [
        "!ollama list"
      ],
      "metadata": {
        "colab": {
          "base_uri": "https://localhost:8080/"
        },
        "id": "CXykJv8Kh2wQ",
        "outputId": "77ad5146-9da2-4e5b-e93e-7b90b6797db1"
      },
      "execution_count": 5,
      "outputs": [
        {
          "output_type": "stream",
          "name": "stdout",
          "text": [
            "NAME             ID              SIZE      MODIFIED           \n",
            "llama3.2:3b      a80c4f17acd5    2.0 GB    About a minute ago    \n",
            "llama2:latest    78e26419b446    3.8 GB    4 hours ago           \n"
          ]
        }
      ]
    },
    {
      "cell_type": "markdown",
      "source": [
        "شغال%%%%%%%%%%%%%"
      ],
      "metadata": {
        "id": "UymWiWBZ2klk"
      }
    },
    {
      "cell_type": "code",
      "source": [
        "{\n",
        "  \"model\": \"llama3.2:3b\",\n",
        "  \"endpointUrl\": \"http://localhost:11434\",\n",
        "  \"servers\": [\n",
        "  ]\n",
        "}"
      ],
      "metadata": {
        "id": "pGt0Bre4jkfw"
      },
      "execution_count": null,
      "outputs": []
    },
    {
      "cell_type": "code",
      "source": [
        "!tiny-agents run ./my-agent"
      ],
      "metadata": {
        "colab": {
          "base_uri": "https://localhost:8080/"
        },
        "id": "NRVqb1UphySg",
        "outputId": "a7e422eb-4c3c-4da9-d93a-b2c1b65dac04"
      },
      "execution_count": 8,
      "outputs": [
        {
          "output_type": "stream",
          "name": "stdout",
          "text": [
            "\u001b[1;34mAgent loaded with \u001b[0m\u001b[1;34m0\u001b[0m\u001b[1;34m tools:\u001b[0m\n",
            "»  hi\n",
            "\u001b[1m<\u001b[0m\u001b[1;95mTool\u001b[0m\u001b[39m call_3prjullt\u001b[0m\u001b[1m>\u001b[0mask_question \n",
            "\n",
            "\u001b[32mTool\u001b[0m\u001b[32m call_3prjullt\u001b[0m\n",
            "\n",
            "\n",
            "\n",
            "»  how are you?\n",
            "\u001b[1m{\u001b[0m\u001b[32m\"name\"\u001b[0m: \u001b[32m\"ask_question\"\u001b[0m, \u001b[32m\"parameters\"\u001b[0m: \u001b[1m{\u001b[0m\u001b[32m\" _: \"\u001b[0mI am an assistant designed to \n",
            "provide helpful and accurate responses to your questions.\" \u001b[1m}\u001b[0m\u001b[1m}\u001b[0m\n",
            "»  \n",
            "\u001b[31mInterrupted. Press Ctrl+C again to quit.\u001b[0m\n",
            "\n",
            "\u001b[31mExiting\u001b[0m\u001b[31m...\u001b[0m\n",
            "\n"
          ]
        }
      ]
    },
    {
      "cell_type": "markdown",
      "source": [
        "%%%%%%%%%%%%%%%%%%%%%"
      ],
      "metadata": {
        "id": "JqHS_V4S2pl9"
      }
    },
    {
      "cell_type": "code",
      "source": [],
      "metadata": {
        "id": "f-iXuWRx2q6p"
      },
      "execution_count": null,
      "outputs": []
    },
    {
      "cell_type": "code",
      "source": [],
      "metadata": {
        "id": "bb_wf2Ho2oAL"
      },
      "execution_count": null,
      "outputs": []
    },
    {
      "cell_type": "code",
      "source": [
        "{\n",
        "  \"model\": \"openai/llama3.2:3b\",\n",
        "  \"endpointUrl\": \"http://localhost:11434/v1\",\n",
        "  \"servers\": [\n",
        "    {\n",
        "      \"type\": \"http\",\n",
        "      \"url\": \"https://evalstate-hf-mcp-server.hf.space/mcp\"\n",
        "    }\n",
        "  ]\n",
        "}"
      ],
      "metadata": {
        "id": "cW1h2bsshypl"
      },
      "execution_count": null,
      "outputs": []
    },
    {
      "cell_type": "code",
      "source": [
        "!pip install huggingface_hub>=0.32.2"
      ],
      "metadata": {
        "id": "btrkcxZxmQeR"
      },
      "execution_count": null,
      "outputs": []
    },
    {
      "cell_type": "code",
      "source": [
        "!pip show huggingface_hub"
      ],
      "metadata": {
        "colab": {
          "base_uri": "https://localhost:8080/"
        },
        "id": "Ebxkt__emUXZ",
        "outputId": "993f4a4d-f38c-4d37-f474-80f40d7468a1"
      },
      "execution_count": 12,
      "outputs": [
        {
          "output_type": "stream",
          "name": "stdout",
          "text": [
            "Name: huggingface-hub\n",
            "Version: 0.34.3\n",
            "Summary: Client library to download and publish models, datasets and other repos on the huggingface.co hub\n",
            "Home-page: https://github.com/huggingface/huggingface_hub\n",
            "Author: Hugging Face, Inc.\n",
            "Author-email: julien@huggingface.co\n",
            "License: Apache\n",
            "Location: /usr/local/lib/python3.11/dist-packages\n",
            "Requires: filelock, fsspec, hf-xet, packaging, pyyaml, requests, tqdm, typing-extensions\n",
            "Required-by: accelerate, datasets, diffusers, gradio, gradio_client, peft, sentence-transformers, timm, tokenizers, torchtune, transformers\n"
          ]
        }
      ]
    },
    {
      "cell_type": "code",
      "source": [
        "{\n",
        "  \"model\": \"llama3.2:3b\",\n",
        "  \"endpointUrl\": \"http://localhost:11434\",\n",
        "  \"servers\": [\n",
        "    {\n",
        "      \"type\": \"http\",\n",
        "      \"url\": \"https://evalstate-hf-mcp-server.hf.space/mcp\"\n",
        "    }\n",
        "  ]\n",
        "}"
      ],
      "metadata": {
        "id": "O-YHt-PTlbrA"
      },
      "execution_count": null,
      "outputs": []
    },
    {
      "cell_type": "code",
      "source": [
        "!tiny-agents run ./my-agent"
      ],
      "metadata": {
        "colab": {
          "base_uri": "https://localhost:8080/"
        },
        "id": "Ev10PTyWkTMQ",
        "outputId": "b9c4c35a-c05e-4f79-8773-c8d5417e1a11"
      },
      "execution_count": 11,
      "outputs": [
        {
          "output_type": "stream",
          "name": "stdout",
          "text": [
            "\u001b[1;34mAgent loaded with \u001b[0m\u001b[1;34m10\u001b[0m\u001b[1;34m tools:\u001b[0m\n",
            "\u001b[34m • hf_whoami\u001b[0m\n",
            "\u001b[34m • space_search\u001b[0m\n",
            "\u001b[34m • model_search\u001b[0m\n",
            "\u001b[34m • model_details\u001b[0m\n",
            "\u001b[34m • paper_search\u001b[0m\n",
            "\u001b[34m • dataset_search\u001b[0m\n",
            "\u001b[34m • dataset_details\u001b[0m\n",
            "\u001b[34m • hf_doc_search\u001b[0m\n",
            "\u001b[34m • gr1_flux1_schnell_infer\u001b[0m\n",
            "\u001b[34m • gr2_0_abidlabs_easyghiblis_ndition_generate_image\u001b[0m\n",
            "»  dataset_search for python\n",
            "\n",
            "\u001b[1;31mError during agent run: Cannot connect to host localhost:\u001b[0m\u001b[1;31m11434\u001b[0m\u001b[1;31m ssl:default \u001b[0m\n",
            "\u001b[1;31m[\u001b[0m\u001b[1;31mConnect call failed \u001b[0m\u001b[1;31m(\u001b[0m\u001b[1;31m'127.0.0.1'\u001b[0m\u001b[1;31m, \u001b[0m\u001b[1;31m11434\u001b[0m\u001b[1;31m)\u001b[0m\u001b[1;31m]\u001b[0m\n",
            "\u001b[1;31mTraceback \u001b[0m\u001b[1;31m(\u001b[0m\u001b[1;31mmost recent call last\u001b[0m\u001b[1;31m)\u001b[0m\u001b[1;31m:\u001b[0m\n",
            "\u001b[1;31m  File \u001b[0m\u001b[1;31m\"/usr/local/lib/python3.11/dist-packages/aiohttp/connector.py\"\u001b[0m\u001b[1;31m, line \u001b[0m\n",
            "\u001b[1;31m1268\u001b[0m\u001b[1;31m, in _wrap_create_connection\u001b[0m\n",
            "\u001b[1;31m    sock = await \u001b[0m\u001b[1;31maiohappyeyeballs.start_connection\u001b[0m\u001b[1;31m(\u001b[0m\n",
            "\u001b[1;31m           ^^^^^^^^^^^^^^^^^^^^^^^^^^^^^^^^^^^^^^^^\u001b[0m\n",
            "\u001b[1;31m  File \u001b[0m\u001b[1;31m\"/usr/local/lib/python3.11/dist-packages/aiohappyeyeballs/impl.py\"\u001b[0m\u001b[1;31m, line \u001b[0m\n",
            "\u001b[1;31m122\u001b[0m\u001b[1;31m, in start_connection\u001b[0m\n",
            "\u001b[1;31m    raise first_exception\u001b[0m\n",
            "\u001b[1;31m  File \u001b[0m\u001b[1;31m\"/usr/local/lib/python3.11/dist-packages/aiohappyeyeballs/impl.py\"\u001b[0m\u001b[1;31m, line \u001b[0m\n",
            "\u001b[1;31m73\u001b[0m\u001b[1;31m, in start_connection\u001b[0m\n",
            "\u001b[1;31m    sock = await \u001b[0m\u001b[1;31m_connect_sock\u001b[0m\u001b[1;31m(\u001b[0m\n",
            "\u001b[1;31m           ^^^^^^^^^^^^^^^^^^^^\u001b[0m\n",
            "\u001b[1;31m  File \u001b[0m\u001b[1;31m\"/usr/local/lib/python3.11/dist-packages/aiohappyeyeballs/impl.py\"\u001b[0m\u001b[1;31m, line \u001b[0m\n",
            "\u001b[1;31m208\u001b[0m\u001b[1;31m, in _connect_sock\u001b[0m\n",
            "\u001b[1;31m    await \u001b[0m\u001b[1;31mloop.sock_connect\u001b[0m\u001b[1;31m(\u001b[0m\u001b[1;31msock, address\u001b[0m\u001b[1;31m)\u001b[0m\n",
            "\u001b[1;31m  File \u001b[0m\u001b[1;31m\"/usr/lib/python3.11/asyncio/selector_events.py\"\u001b[0m\u001b[1;31m, line \u001b[0m\u001b[1;31m638\u001b[0m\u001b[1;31m, in \u001b[0m\n",
            "\u001b[1;31msock_connect\u001b[0m\n",
            "\u001b[1;31m    return await fut\u001b[0m\n",
            "\u001b[1;31m           ^^^^^^^^^\u001b[0m\n",
            "\u001b[1;31m  File \u001b[0m\u001b[1;31m\"/usr/lib/python3.11/asyncio/selector_events.py\"\u001b[0m\u001b[1;31m, line \u001b[0m\u001b[1;31m678\u001b[0m\u001b[1;31m, in \u001b[0m\n",
            "\u001b[1;31m_sock_connect_cb\u001b[0m\n",
            "\u001b[1;31m    raise \u001b[0m\u001b[1;31mOSError\u001b[0m\u001b[1;31m(\u001b[0m\u001b[1;31merr, f'Connect call failed \u001b[0m\u001b[1;31m{\u001b[0m\u001b[1;31maddress\u001b[0m\u001b[1;31m}\u001b[0m\u001b[1;31m'\u001b[0m\u001b[1;31m)\u001b[0m\n",
            "\u001b[1;31mConnectionRefusedError: \u001b[0m\u001b[1;31m[\u001b[0m\u001b[1;31mErrno \u001b[0m\u001b[1;31m111\u001b[0m\u001b[1;31m]\u001b[0m\u001b[1;31m Connect call failed \u001b[0m\u001b[1;31m(\u001b[0m\u001b[1;31m'127.0.0.1'\u001b[0m\u001b[1;31m, \u001b[0m\u001b[1;31m11434\u001b[0m\u001b[1;31m)\u001b[0m\n",
            "\n",
            "\u001b[1;31mThe above exception was the direct cause of the following exception:\u001b[0m\n",
            "\n",
            "\u001b[1;31mTraceback \u001b[0m\u001b[1;31m(\u001b[0m\u001b[1;31mmost recent call last\u001b[0m\u001b[1;31m)\u001b[0m\u001b[1;31m:\u001b[0m\n",
            "\u001b[1;31m  File \u001b[0m\n",
            "\u001b[1;31m\"/usr/local/lib/python3.11/dist-packages/huggingface_hub/inference/_mcp/cli.py\"\u001b[0m\u001b[1;31m,\u001b[0m\n",
            "\u001b[1;31mline \u001b[0m\u001b[1;31m178\u001b[0m\u001b[1;31m, in run_agent\u001b[0m\n",
            "\u001b[1;31m    async for chunk in \u001b[0m\u001b[1;31magent.run\u001b[0m\u001b[1;31m(\u001b[0m\u001b[1;31muser_input, \u001b[0m\u001b[1;31mabort_event\u001b[0m\u001b[1;31m=\u001b[0m\u001b[1;31mabort_event\u001b[0m\u001b[1;31m)\u001b[0m\u001b[1;31m:\u001b[0m\n",
            "\u001b[1;31m  File \u001b[0m\n",
            "\u001b[1;31m\"/usr/local/lib/python3.11/dist-packages/huggingface_hub/inference/_mcp/agent.py\u001b[0m\n",
            "\u001b[1;31m\"\u001b[0m\u001b[1;31m, line \u001b[0m\u001b[1;31m84\u001b[0m\u001b[1;31m, in run\u001b[0m\n",
            "\u001b[1;31m    async for item in \u001b[0m\u001b[1;31mself.process_single_turn_with_tools\u001b[0m\u001b[1;31m(\u001b[0m\n",
            "\u001b[1;31m  File \u001b[0m\n",
            "\u001b[1;31m\"/usr/local/lib/python3.11/dist-packages/huggingface_hub/inference/_mcp/mcp_clie\u001b[0m\n",
            "\u001b[1;31mnt.py\"\u001b[0m\u001b[1;31m, line \u001b[0m\u001b[1;31m261\u001b[0m\u001b[1;31m, in process_single_turn_with_tools\u001b[0m\n",
            "\u001b[1;31m    response = await \u001b[0m\u001b[1;31mself.client.chat.completions.create\u001b[0m\u001b[1;31m(\u001b[0m\n",
            "\u001b[1;31m               ^^^^^^^^^^^^^^^^^^^^^^^^^^^^^^^^^^^^^^^^^^\u001b[0m\n",
            "\u001b[1;31m  File \u001b[0m\n",
            "\u001b[1;31m\"/usr/local/lib/python3.11/dist-packages/huggingface_hub/inference/_generated/_a\u001b[0m\n",
            "\u001b[1;31msync_client.py\"\u001b[0m\u001b[1;31m, line \u001b[0m\u001b[1;31m962\u001b[0m\u001b[1;31m, in chat_completion\u001b[0m\n",
            "\u001b[1;31m    data = await \u001b[0m\u001b[1;31mself._inner_post\u001b[0m\u001b[1;31m(\u001b[0m\u001b[1;31mrequest_parameters, \u001b[0m\u001b[1;31mstream\u001b[0m\u001b[1;31m=\u001b[0m\u001b[1;31mstream\u001b[0m\u001b[1;31m)\u001b[0m\n",
            "\u001b[1;31m           ^^^^^^^^^^^^^^^^^^^^^^^^^^^^^^^^^^^^^^^^^^^^^^^^^^^^^^^^^\u001b[0m\n",
            "\u001b[1;31m  File \u001b[0m\n",
            "\u001b[1;31m\"/usr/local/lib/python3.11/dist-packages/huggingface_hub/inference/_generated/_a\u001b[0m\n",
            "\u001b[1;31msync_client.py\"\u001b[0m\u001b[1;31m, line \u001b[0m\u001b[1;31m265\u001b[0m\u001b[1;31m, in _inner_post\u001b[0m\n",
            "\u001b[1;31m    response = await \u001b[0m\u001b[1;31msession.post\u001b[0m\u001b[1;31m(\u001b[0m\n",
            "\u001b[1;31m               ^^^^^^^^^^^^^^^^^^^\u001b[0m\n",
            "\u001b[1;31m  File \u001b[0m\n",
            "\u001b[1;31m\"/usr/local/lib/python3.11/dist-packages/huggingface_hub/inference/_generated/_a\u001b[0m\n",
            "\u001b[1;31msync_client.py\"\u001b[0m\u001b[1;31m, line \u001b[0m\u001b[1;31m3377\u001b[0m\u001b[1;31m, in _request\u001b[0m\n",
            "\u001b[1;31m    response = await \u001b[0m\u001b[1;31msession._wrapped_request\u001b[0m\u001b[1;31m(\u001b[0m\u001b[1;31mmethod, url, **kwargs\u001b[0m\u001b[1;31m)\u001b[0m\n",
            "\u001b[1;31m               ^^^^^^^^^^^^^^^^^^^^^^^^^^^^^^^^^^^^^^^^^^^^^^^^^^^^^\u001b[0m\n",
            "\u001b[1;31m  File \u001b[0m\u001b[1;31m\"/usr/local/lib/python3.11/dist-packages/aiohttp/client.py\"\u001b[0m\u001b[1;31m, line \u001b[0m\u001b[1;31m770\u001b[0m\u001b[1;31m, in\u001b[0m\n",
            "\u001b[1;31m_request\u001b[0m\n",
            "\u001b[1;31m    resp = await \u001b[0m\u001b[1;31mhandler\u001b[0m\u001b[1;31m(\u001b[0m\u001b[1;31mreq\u001b[0m\u001b[1;31m)\u001b[0m\n",
            "\u001b[1;31m           ^^^^^^^^^^^^^^^^^^\u001b[0m\n",
            "\u001b[1;31m  File \u001b[0m\u001b[1;31m\"/usr/local/lib/python3.11/dist-packages/aiohttp/client.py\"\u001b[0m\u001b[1;31m, line \u001b[0m\u001b[1;31m725\u001b[0m\u001b[1;31m, in\u001b[0m\n",
            "\u001b[1;31m_connect_and_send_request\u001b[0m\n",
            "\u001b[1;31m    conn = await \u001b[0m\u001b[1;31mself._connector.connect\u001b[0m\u001b[1;31m(\u001b[0m\n",
            "\u001b[1;31m           ^^^^^^^^^^^^^^^^^^^^^^^^^^^^^^\u001b[0m\n",
            "\u001b[1;31m  File \u001b[0m\u001b[1;31m\"/usr/local/lib/python3.11/dist-packages/aiohttp/connector.py\"\u001b[0m\u001b[1;31m, line \u001b[0m\u001b[1;31m642\u001b[0m\u001b[1;31m,\u001b[0m\n",
            "\u001b[1;31min connect\u001b[0m\n",
            "\u001b[1;31m    proto = await \u001b[0m\u001b[1;31mself._create_connection\u001b[0m\u001b[1;31m(\u001b[0m\u001b[1;31mreq, traces, timeout\u001b[0m\u001b[1;31m)\u001b[0m\n",
            "\u001b[1;31m            ^^^^^^^^^^^^^^^^^^^^^^^^^^^^^^^^^^^^^^^^^^^^^^^^^^^\u001b[0m\n",
            "\u001b[1;31m  File \u001b[0m\u001b[1;31m\"/usr/local/lib/python3.11/dist-packages/aiohttp/connector.py\"\u001b[0m\u001b[1;31m, line \u001b[0m\n",
            "\u001b[1;31m1209\u001b[0m\u001b[1;31m, in _create_connection\u001b[0m\n",
            "\u001b[1;31m    _, proto = await \u001b[0m\u001b[1;31mself._create_direct_connection\u001b[0m\u001b[1;31m(\u001b[0m\u001b[1;31mreq, traces, timeout\u001b[0m\u001b[1;31m)\u001b[0m\n",
            "\u001b[1;31m               ^^^^^^^^^^^^^^^^^^^^^^^^^^^^^^^^^^^^^^^^^^^^^^^^^^^^^^^^^^\u001b[0m\n",
            "\u001b[1;31m  File \u001b[0m\u001b[1;31m\"/usr/local/lib/python3.11/dist-packages/aiohttp/connector.py\"\u001b[0m\u001b[1;31m, line \u001b[0m\n",
            "\u001b[1;31m1581\u001b[0m\u001b[1;31m, in _create_direct_connection\u001b[0m\n",
            "\u001b[1;31m    raise last_exc\u001b[0m\n",
            "\u001b[1;31m  File \u001b[0m\u001b[1;31m\"/usr/local/lib/python3.11/dist-packages/aiohttp/connector.py\"\u001b[0m\u001b[1;31m, line \u001b[0m\n",
            "\u001b[1;31m1550\u001b[0m\u001b[1;31m, in _create_direct_connection\u001b[0m\n",
            "\u001b[1;31m    transp, proto = await \u001b[0m\u001b[1;31mself._wrap_create_connection\u001b[0m\u001b[1;31m(\u001b[0m\n",
            "\u001b[1;31m                    ^^^^^^^^^^^^^^^^^^^^^^^^^^^^^^^^^^^\u001b[0m\n",
            "\u001b[1;31m  File \u001b[0m\u001b[1;31m\"/usr/local/lib/python3.11/dist-packages/aiohttp/connector.py\"\u001b[0m\u001b[1;31m, line \u001b[0m\n",
            "\u001b[1;31m1291\u001b[0m\u001b[1;31m, in _wrap_create_connection\u001b[0m\n",
            "\u001b[1;31m    raise \u001b[0m\u001b[1;31mclient_error\u001b[0m\u001b[1;31m(\u001b[0m\u001b[1;31mreq.connection_key, exc\u001b[0m\u001b[1;31m)\u001b[0m\u001b[1;31m from exc\u001b[0m\n",
            "\u001b[1;31maiohttp.client_exceptions.ClientConnectorError: Cannot connect to host \u001b[0m\n",
            "\u001b[1;31mlocalhost:\u001b[0m\u001b[1;31m11434\u001b[0m\u001b[1;31m ssl:default \u001b[0m\u001b[1;31m[\u001b[0m\u001b[1;31mConnect call failed \u001b[0m\u001b[1;31m(\u001b[0m\u001b[1;31m'127.0.0.1'\u001b[0m\u001b[1;31m, \u001b[0m\u001b[1;31m11434\u001b[0m\u001b[1;31m)\u001b[0m\u001b[1;31m]\u001b[0m\n",
            "\n",
            "»  \n",
            "\u001b[31mInterrupted. Press Ctrl+C again to quit.\u001b[0m\n",
            "\n",
            "\u001b[31mExiting\u001b[0m\u001b[31m...\u001b[0m\n",
            "\n"
          ]
        }
      ]
    },
    {
      "cell_type": "code",
      "source": [
        "{\n",
        "\"model\": \"llama3.2:3b\",\n",
        "\"endpointUrl\": \"http://localhost:11434/\",\n",
        "\"provider\": \"auto\",\n",
        "\"servers\": [\n",
        "{\n",
        "\"type\": \"sse\",\n",
        "\"config\": {\n",
        "\"url\": \"http://127.0.0.1:7860/gradio_api/mcp/sse\"\n",
        "}\n",
        "}\n",
        "]\n",
        "}"
      ],
      "metadata": {
        "id": "43UMojmykTeV"
      },
      "execution_count": null,
      "outputs": []
    },
    {
      "cell_type": "code",
      "source": [
        "{\n",
        "  \"model\": \"llama3.2:3b\",\n",
        "  \"endpointUrl\": \"http://localhost:11434/\",\n",
        "  \"servers\": [\n",
        "    {\n",
        "      \"type\": \"http\",\n",
        "      \"url\": \"https://evalstate-hf-mcp-server.hf.space\"\n",
        "    }\n",
        "  ]\n",
        "}"
      ],
      "metadata": {
        "id": "YD8mVAe6o6ah"
      },
      "execution_count": null,
      "outputs": []
    },
    {
      "cell_type": "code",
      "source": [
        "!tiny-agents run ./my-agent"
      ],
      "metadata": {
        "colab": {
          "base_uri": "https://localhost:8080/"
        },
        "id": "exD_ufM1o734",
        "outputId": "d255b175-64dc-4e16-b9b3-eb8a4417d3b8"
      },
      "execution_count": 19,
      "outputs": [
        {
          "output_type": "stream",
          "name": "stdout",
          "text": [
            "\n",
            "\u001b[1;31mAn unexpected error occurred: Session terminated\u001b[0m\n",
            "\u001b[1;31mTraceback \u001b[0m\u001b[1;31m(\u001b[0m\u001b[1;31mmost recent call last\u001b[0m\u001b[1;31m)\u001b[0m\u001b[1;31m:\u001b[0m\n",
            "\u001b[1;31m  File \u001b[0m\n",
            "\u001b[1;31m\"/usr/local/lib/python3.11/dist-packages/huggingface_hub/inference/_mcp/cli.py\"\u001b[0m\u001b[1;31m,\u001b[0m\n",
            "\u001b[1;31mline \u001b[0m\u001b[1;31m152\u001b[0m\u001b[1;31m, in run_agent\u001b[0m\n",
            "\u001b[1;31m    await \u001b[0m\u001b[1;31magent.load_tools\u001b[0m\u001b[1;31m(\u001b[0m\u001b[1;31m)\u001b[0m\n",
            "\u001b[1;31m  File \u001b[0m\n",
            "\u001b[1;31m\"/usr/local/lib/python3.11/dist-packages/huggingface_hub/inference/_mcp/agent.py\u001b[0m\n",
            "\u001b[1;31m\"\u001b[0m\u001b[1;31m, line \u001b[0m\u001b[1;31m58\u001b[0m\u001b[1;31m, in load_tools\u001b[0m\n",
            "\u001b[1;31m    await \u001b[0m\u001b[1;31mself.add_mcp_server\u001b[0m\u001b[1;31m(\u001b[0m\u001b[1;31m**cfg\u001b[0m\u001b[1;31m)\u001b[0m\n",
            "\u001b[1;31m  File \u001b[0m\n",
            "\u001b[1;31m\"/usr/local/lib/python3.11/dist-packages/huggingface_hub/inference/_mcp/mcp_clie\u001b[0m\n",
            "\u001b[1;31mnt.py\"\u001b[0m\u001b[1;31m, line \u001b[0m\u001b[1;31m208\u001b[0m\u001b[1;31m, in add_mcp_server\u001b[0m\n",
            "\u001b[1;31m    await \u001b[0m\u001b[1;31msession.initialize\u001b[0m\u001b[1;31m(\u001b[0m\u001b[1;31m)\u001b[0m\n",
            "\u001b[1;31m  File \u001b[0m\u001b[1;31m\"/usr/local/lib/python3.11/dist-packages/mcp/client/session.py\"\u001b[0m\u001b[1;31m, line \u001b[0m\n",
            "\u001b[1;31m151\u001b[0m\u001b[1;31m, in initialize\u001b[0m\n",
            "\u001b[1;31m    result = await \u001b[0m\u001b[1;31mself.send_request\u001b[0m\u001b[1;31m(\u001b[0m\n",
            "\u001b[1;31m             ^^^^^^^^^^^^^^^^^^^^^^^^\u001b[0m\n",
            "\u001b[1;31m  File \u001b[0m\u001b[1;31m\"/usr/local/lib/python3.11/dist-packages/mcp/shared/session.py\"\u001b[0m\u001b[1;31m, line \u001b[0m\n",
            "\u001b[1;31m286\u001b[0m\u001b[1;31m, in send_request\u001b[0m\n",
            "\u001b[1;31m    raise \u001b[0m\u001b[1;31mMcpError\u001b[0m\u001b[1;31m(\u001b[0m\u001b[1;31mresponse_or_error.error\u001b[0m\u001b[1;31m)\u001b[0m\n",
            "\u001b[1;31mmcp.shared.exceptions.McpError: Session terminated\u001b[0m\n",
            "\n",
            "\n",
            "\u001b[1;31mAn unexpected error occurred: Session terminated\u001b[0m\n",
            "\u001b[31m╭─\u001b[0m\u001b[31m────────────────────\u001b[0m\u001b[31m \u001b[0m\u001b[1;31mTraceback \u001b[0m\u001b[1;2;31m(most recent call last)\u001b[0m\u001b[31m \u001b[0m\u001b[31m─────────────────────\u001b[0m\u001b[31m─╮\u001b[0m\n",
            "\u001b[31m│\u001b[0m \u001b[2;33m/usr/local/lib/python3.11/dist-packages/huggingface_hub/inference/_mcp/\u001b[0m\u001b[1;33mcli.p\u001b[0m \u001b[31m│\u001b[0m\n",
            "\u001b[31m│\u001b[0m \u001b[1;33my\u001b[0m:\u001b[94m243\u001b[0m in \u001b[92mrun\u001b[0m                                                                 \u001b[31m│\u001b[0m\n",
            "\u001b[31m│\u001b[0m                                                                              \u001b[31m│\u001b[0m\n",
            "\u001b[31m│\u001b[0m   \u001b[2m240 \u001b[0m\u001b[2m│   │   \u001b[0m\u001b[94mraise\u001b[0m typer.Exit(code=\u001b[94m130\u001b[0m)                                     \u001b[31m│\u001b[0m\n",
            "\u001b[31m│\u001b[0m   \u001b[2m241 \u001b[0m\u001b[2m│   \u001b[0m\u001b[94mexcept\u001b[0m \u001b[96mException\u001b[0m \u001b[94mas\u001b[0m e:                                             \u001b[31m│\u001b[0m\n",
            "\u001b[31m│\u001b[0m   \u001b[2m242 \u001b[0m\u001b[2m│   │   \u001b[0m\u001b[96mprint\u001b[0m(\u001b[33mf\u001b[0m\u001b[33m\"\u001b[0m\u001b[33m\\n\u001b[0m\u001b[33m[bold red]An unexpected error occurred: \u001b[0m\u001b[33m{\u001b[0me\u001b[33m}\u001b[0m\u001b[33m[/bold re\u001b[0m \u001b[31m│\u001b[0m\n",
            "\u001b[31m│\u001b[0m \u001b[31m❱ \u001b[0m243 \u001b[2m│   │   \u001b[0m\u001b[1;4;94mraise\u001b[0m\u001b[1;4m e\u001b[0m                                                        \u001b[31m│\u001b[0m\n",
            "\u001b[31m│\u001b[0m   \u001b[2m244 \u001b[0m                                                                       \u001b[31m│\u001b[0m\n",
            "\u001b[31m│\u001b[0m   \u001b[2m245 \u001b[0m                                                                       \u001b[31m│\u001b[0m\n",
            "\u001b[31m│\u001b[0m   \u001b[2m246 \u001b[0m\u001b[94mif\u001b[0m \u001b[91m__name__\u001b[0m == \u001b[33m\"\u001b[0m\u001b[33m__main__\u001b[0m\u001b[33m\"\u001b[0m:                                             \u001b[31m│\u001b[0m\n",
            "\u001b[31m│\u001b[0m                                                                              \u001b[31m│\u001b[0m\n",
            "\u001b[31m│\u001b[0m \u001b[33m╭─\u001b[0m\u001b[33m─────\u001b[0m\u001b[33m locals \u001b[0m\u001b[33m──────\u001b[0m\u001b[33m─╮\u001b[0m                                                      \u001b[31m│\u001b[0m\n",
            "\u001b[31m│\u001b[0m \u001b[33m│\u001b[0m path = \u001b[33m'./my-agent'\u001b[0m \u001b[33m│\u001b[0m                                                      \u001b[31m│\u001b[0m\n",
            "\u001b[31m│\u001b[0m \u001b[33m╰─────────────────────╯\u001b[0m                                                      \u001b[31m│\u001b[0m\n",
            "\u001b[31m│\u001b[0m                                                                              \u001b[31m│\u001b[0m\n",
            "\u001b[31m│\u001b[0m \u001b[2;33m/usr/local/lib/python3.11/dist-packages/huggingface_hub/inference/_mcp/\u001b[0m\u001b[1;33mcli.p\u001b[0m \u001b[31m│\u001b[0m\n",
            "\u001b[31m│\u001b[0m \u001b[1;33my\u001b[0m:\u001b[94m237\u001b[0m in \u001b[92mrun\u001b[0m                                                                 \u001b[31m│\u001b[0m\n",
            "\u001b[31m│\u001b[0m                                                                              \u001b[31m│\u001b[0m\n",
            "\u001b[31m│\u001b[0m   \u001b[2m234 \u001b[0m\u001b[2m│   \u001b[0m),                                                                 \u001b[31m│\u001b[0m\n",
            "\u001b[31m│\u001b[0m   \u001b[2m235 \u001b[0m):                                                                     \u001b[31m│\u001b[0m\n",
            "\u001b[31m│\u001b[0m   \u001b[2m236 \u001b[0m\u001b[2m│   \u001b[0m\u001b[94mtry\u001b[0m:                                                               \u001b[31m│\u001b[0m\n",
            "\u001b[31m│\u001b[0m \u001b[31m❱ \u001b[0m237 \u001b[2m│   │   \u001b[0masyncio.run(run_agent(path))                                   \u001b[31m│\u001b[0m\n",
            "\u001b[31m│\u001b[0m   \u001b[2m238 \u001b[0m\u001b[2m│   \u001b[0m\u001b[94mexcept\u001b[0m \u001b[96mKeyboardInterrupt\u001b[0m:                                          \u001b[31m│\u001b[0m\n",
            "\u001b[31m│\u001b[0m   \u001b[2m239 \u001b[0m\u001b[2m│   │   \u001b[0m\u001b[96mprint\u001b[0m(\u001b[33m\"\u001b[0m\u001b[33m\\n\u001b[0m\u001b[33m[red]Application terminated by KeyboardInterrupt.[/re\u001b[0m \u001b[31m│\u001b[0m\n",
            "\u001b[31m│\u001b[0m   \u001b[2m240 \u001b[0m\u001b[2m│   │   \u001b[0m\u001b[94mraise\u001b[0m typer.Exit(code=\u001b[94m130\u001b[0m)                                     \u001b[31m│\u001b[0m\n",
            "\u001b[31m│\u001b[0m                                                                              \u001b[31m│\u001b[0m\n",
            "\u001b[31m│\u001b[0m \u001b[33m╭─\u001b[0m\u001b[33m─────\u001b[0m\u001b[33m locals \u001b[0m\u001b[33m──────\u001b[0m\u001b[33m─╮\u001b[0m                                                      \u001b[31m│\u001b[0m\n",
            "\u001b[31m│\u001b[0m \u001b[33m│\u001b[0m path = \u001b[33m'./my-agent'\u001b[0m \u001b[33m│\u001b[0m                                                      \u001b[31m│\u001b[0m\n",
            "\u001b[31m│\u001b[0m \u001b[33m╰─────────────────────╯\u001b[0m                                                      \u001b[31m│\u001b[0m\n",
            "\u001b[31m│\u001b[0m                                                                              \u001b[31m│\u001b[0m\n",
            "\u001b[31m│\u001b[0m \u001b[2;33m/usr/lib/python3.11/asyncio/\u001b[0m\u001b[1;33mrunners.py\u001b[0m:\u001b[94m190\u001b[0m in \u001b[92mrun\u001b[0m                            \u001b[31m│\u001b[0m\n",
            "\u001b[31m│\u001b[0m                                                                              \u001b[31m│\u001b[0m\n",
            "\u001b[31m│\u001b[0m   \u001b[2m187 \u001b[0m\u001b[2m│   │   │   \u001b[0m\u001b[33m\"\u001b[0m\u001b[33masyncio.run() cannot be called from a running event loop\u001b[0m\u001b[33m\"\u001b[0m \u001b[31m│\u001b[0m\n",
            "\u001b[31m│\u001b[0m   \u001b[2m188 \u001b[0m\u001b[2m│   \u001b[0m                                                                   \u001b[31m│\u001b[0m\n",
            "\u001b[31m│\u001b[0m   \u001b[2m189 \u001b[0m\u001b[2m│   \u001b[0m\u001b[94mwith\u001b[0m Runner(debug=debug) \u001b[94mas\u001b[0m runner:                                \u001b[31m│\u001b[0m\n",
            "\u001b[31m│\u001b[0m \u001b[31m❱ \u001b[0m190 \u001b[2m│   │   \u001b[0m\u001b[94mreturn\u001b[0m \u001b[1;4mrunner.run(main)\u001b[0m                                        \u001b[31m│\u001b[0m\n",
            "\u001b[31m│\u001b[0m   \u001b[2m191 \u001b[0m                                                                       \u001b[31m│\u001b[0m\n",
            "\u001b[31m│\u001b[0m   \u001b[2m192 \u001b[0m                                                                       \u001b[31m│\u001b[0m\n",
            "\u001b[31m│\u001b[0m   \u001b[2m193 \u001b[0m\u001b[94mdef\u001b[0m\u001b[90m \u001b[0m\u001b[92m_cancel_all_tasks\u001b[0m(loop):                                           \u001b[31m│\u001b[0m\n",
            "\u001b[31m│\u001b[0m                                                                              \u001b[31m│\u001b[0m\n",
            "\u001b[31m│\u001b[0m \u001b[33m╭─\u001b[0m\u001b[33m─────────────────────────\u001b[0m\u001b[33m locals \u001b[0m\u001b[33m─────────────────────────\u001b[0m\u001b[33m─╮\u001b[0m               \u001b[31m│\u001b[0m\n",
            "\u001b[31m│\u001b[0m \u001b[33m│\u001b[0m  debug = \u001b[94mNone\u001b[0m                                              \u001b[33m│\u001b[0m               \u001b[31m│\u001b[0m\n",
            "\u001b[31m│\u001b[0m \u001b[33m│\u001b[0m   main = \u001b[1m<\u001b[0m\u001b[1;95mcoroutine\u001b[0m\u001b[39m object run_agent at \u001b[0m\u001b[94m0x3990e6a0\u001b[0m\u001b[1m>\u001b[0m        \u001b[33m│\u001b[0m               \u001b[31m│\u001b[0m\n",
            "\u001b[31m│\u001b[0m \u001b[33m│\u001b[0m runner = \u001b[1m<\u001b[0m\u001b[1;95masyncio.runners.Runner\u001b[0m\u001b[39m object at \u001b[0m\u001b[94m0x7ab2e50fc650\u001b[0m\u001b[1m>\u001b[0m \u001b[33m│\u001b[0m               \u001b[31m│\u001b[0m\n",
            "\u001b[31m│\u001b[0m \u001b[33m╰────────────────────────────────────────────────────────────╯\u001b[0m               \u001b[31m│\u001b[0m\n",
            "\u001b[31m│\u001b[0m                                                                              \u001b[31m│\u001b[0m\n",
            "\u001b[31m│\u001b[0m \u001b[2;33m/usr/lib/python3.11/asyncio/\u001b[0m\u001b[1;33mrunners.py\u001b[0m:\u001b[94m118\u001b[0m in \u001b[92mrun\u001b[0m                            \u001b[31m│\u001b[0m\n",
            "\u001b[31m│\u001b[0m                                                                              \u001b[31m│\u001b[0m\n",
            "\u001b[31m│\u001b[0m   \u001b[2m115 \u001b[0m\u001b[2m│   │   \u001b[0m                                                               \u001b[31m│\u001b[0m\n",
            "\u001b[31m│\u001b[0m   \u001b[2m116 \u001b[0m\u001b[2m│   │   \u001b[0m\u001b[96mself\u001b[0m._interrupt_count = \u001b[94m0\u001b[0m                                      \u001b[31m│\u001b[0m\n",
            "\u001b[31m│\u001b[0m   \u001b[2m117 \u001b[0m\u001b[2m│   │   \u001b[0m\u001b[94mtry\u001b[0m:                                                           \u001b[31m│\u001b[0m\n",
            "\u001b[31m│\u001b[0m \u001b[31m❱ \u001b[0m118 \u001b[2m│   │   │   \u001b[0m\u001b[94mreturn\u001b[0m \u001b[96mself\u001b[0m._loop.run_until_complete(task)                 \u001b[31m│\u001b[0m\n",
            "\u001b[31m│\u001b[0m   \u001b[2m119 \u001b[0m\u001b[2m│   │   \u001b[0m\u001b[94mexcept\u001b[0m exceptions.CancelledError:                              \u001b[31m│\u001b[0m\n",
            "\u001b[31m│\u001b[0m   \u001b[2m120 \u001b[0m\u001b[2m│   │   │   \u001b[0m\u001b[94mif\u001b[0m \u001b[96mself\u001b[0m._interrupt_count > \u001b[94m0\u001b[0m:                              \u001b[31m│\u001b[0m\n",
            "\u001b[31m│\u001b[0m   \u001b[2m121 \u001b[0m\u001b[2m│   │   │   │   \u001b[0muncancel = \u001b[96mgetattr\u001b[0m(task, \u001b[33m\"\u001b[0m\u001b[33muncancel\u001b[0m\u001b[33m\"\u001b[0m, \u001b[94mNone\u001b[0m)             \u001b[31m│\u001b[0m\n",
            "\u001b[31m│\u001b[0m                                                                              \u001b[31m│\u001b[0m\n",
            "\u001b[31m│\u001b[0m \u001b[33m╭─\u001b[0m\u001b[33m────────────────────────────────\u001b[0m\u001b[33m locals \u001b[0m\u001b[33m────────────────────────────────\u001b[0m\u001b[33m─╮\u001b[0m \u001b[31m│\u001b[0m\n",
            "\u001b[31m│\u001b[0m \u001b[33m│\u001b[0m        context = \u001b[1m<\u001b[0m\u001b[1;95m_contextvars.Context\u001b[0m\u001b[39m object at \u001b[0m\u001b[94m0x7ab2e50fd4c0\u001b[0m\u001b[1m>\u001b[0m         \u001b[33m│\u001b[0m \u001b[31m│\u001b[0m\n",
            "\u001b[31m│\u001b[0m \u001b[33m│\u001b[0m           coro = \u001b[1m<\u001b[0m\u001b[1;95mcoroutine\u001b[0m\u001b[39m object run_agent at \u001b[0m\u001b[94m0x3990e6a0\u001b[0m\u001b[1m>\u001b[0m              \u001b[33m│\u001b[0m \u001b[31m│\u001b[0m\n",
            "\u001b[31m│\u001b[0m \u001b[33m│\u001b[0m           self = \u001b[1m<\u001b[0m\u001b[1;95masyncio.runners.Runner\u001b[0m\u001b[39m object at \u001b[0m\u001b[94m0x7ab2e50fc650\u001b[0m\u001b[1m>\u001b[0m       \u001b[33m│\u001b[0m \u001b[31m│\u001b[0m\n",
            "\u001b[31m│\u001b[0m \u001b[33m│\u001b[0m sigint_handler = \u001b[1;35mfunctools.partial\u001b[0m\u001b[1m(\u001b[0m\u001b[1m<\u001b[0m\u001b[1;95mbound\u001b[0m\u001b[39m method Runner._on_sigint of \u001b[0m   \u001b[33m│\u001b[0m \u001b[31m│\u001b[0m\n",
            "\u001b[31m│\u001b[0m \u001b[33m│\u001b[0m                  \u001b[39m<asyncio.runners.Runner object at \u001b[0m\u001b[94m0x7ab2e50fc650\u001b[0m\u001b[39m>>, \u001b[0m    \u001b[33m│\u001b[0m \u001b[31m│\u001b[0m\n",
            "\u001b[31m│\u001b[0m \u001b[33m│\u001b[0m                  \u001b[33mmain_task\u001b[0m\u001b[39m=<Task finished \u001b[0m\u001b[33mname\u001b[0m\u001b[39m=\u001b[0m\u001b[33m'Task-1'\u001b[0m\u001b[39m \u001b[0m                 \u001b[33m│\u001b[0m \u001b[31m│\u001b[0m\n",
            "\u001b[31m│\u001b[0m \u001b[33m│\u001b[0m                  \u001b[33mcoro\u001b[0m\u001b[39m=<\u001b[0m\u001b[1;35mrun_agent\u001b[0m\u001b[1;39m(\u001b[0m\u001b[1;39m)\u001b[0m\u001b[39m done, defined at \u001b[0m                     \u001b[33m│\u001b[0m \u001b[31m│\u001b[0m\n",
            "\u001b[31m│\u001b[0m \u001b[33m│\u001b[0m                  \u001b[35m/usr/local/lib/python3.11/dist-packages/huggingface_hu…\u001b[0m \u001b[33m│\u001b[0m \u001b[31m│\u001b[0m\n",
            "\u001b[31m│\u001b[0m \u001b[33m│\u001b[0m                  \u001b[33mexception\u001b[0m\u001b[39m=\u001b[0m\u001b[1;35mMcpError\u001b[0m\u001b[1;39m(\u001b[0m\u001b[33m'Session terminated'\u001b[0m\u001b[1;39m)\u001b[0m\u001b[1m>\u001b[0m\u001b[1m)\u001b[0m              \u001b[33m│\u001b[0m \u001b[31m│\u001b[0m\n",
            "\u001b[31m│\u001b[0m \u001b[33m│\u001b[0m           task = \u001b[1m<\u001b[0m\u001b[1;95mTask\u001b[0m\u001b[39m finished \u001b[0m\u001b[33mname\u001b[0m\u001b[39m=\u001b[0m\u001b[33m'Task-1'\u001b[0m\u001b[39m \u001b[0m\u001b[33mcoro\u001b[0m\u001b[39m=<\u001b[0m\u001b[1;35mrun_agent\u001b[0m\u001b[1;39m(\u001b[0m\u001b[1;39m)\u001b[0m\u001b[39m done, \u001b[0m   \u001b[33m│\u001b[0m \u001b[31m│\u001b[0m\n",
            "\u001b[31m│\u001b[0m \u001b[33m│\u001b[0m                  \u001b[39mdefined at \u001b[0m                                             \u001b[33m│\u001b[0m \u001b[31m│\u001b[0m\n",
            "\u001b[31m│\u001b[0m \u001b[33m│\u001b[0m                  \u001b[35m/usr/local/lib/python3.11/dist-packages/huggingface_hu…\u001b[0m \u001b[33m│\u001b[0m \u001b[31m│\u001b[0m\n",
            "\u001b[31m│\u001b[0m \u001b[33m│\u001b[0m                  \u001b[33mexception\u001b[0m\u001b[39m=\u001b[0m\u001b[1;35mMcpError\u001b[0m\u001b[1;39m(\u001b[0m\u001b[33m'Session terminated'\u001b[0m\u001b[1;39m)\u001b[0m\u001b[1m>\u001b[0m               \u001b[33m│\u001b[0m \u001b[31m│\u001b[0m\n",
            "\u001b[31m│\u001b[0m \u001b[33m╰──────────────────────────────────────────────────────────────────────────╯\u001b[0m \u001b[31m│\u001b[0m\n",
            "\u001b[31m│\u001b[0m                                                                              \u001b[31m│\u001b[0m\n",
            "\u001b[31m│\u001b[0m \u001b[2;33m/usr/lib/python3.11/asyncio/\u001b[0m\u001b[1;33mbase_events.py\u001b[0m:\u001b[94m654\u001b[0m in \u001b[92mrun_until_complete\u001b[0m         \u001b[31m│\u001b[0m\n",
            "\u001b[31m│\u001b[0m                                                                              \u001b[31m│\u001b[0m\n",
            "\u001b[31m│\u001b[0m   \u001b[2m 651 \u001b[0m\u001b[2m│   │   \u001b[0m\u001b[94mif\u001b[0m \u001b[95mnot\u001b[0m future.done():                                         \u001b[31m│\u001b[0m\n",
            "\u001b[31m│\u001b[0m   \u001b[2m 652 \u001b[0m\u001b[2m│   │   │   \u001b[0m\u001b[94mraise\u001b[0m \u001b[96mRuntimeError\u001b[0m(\u001b[33m'\u001b[0m\u001b[33mEvent loop stopped before Future comp\u001b[0m \u001b[31m│\u001b[0m\n",
            "\u001b[31m│\u001b[0m   \u001b[2m 653 \u001b[0m\u001b[2m│   │   \u001b[0m                                                              \u001b[31m│\u001b[0m\n",
            "\u001b[31m│\u001b[0m \u001b[31m❱ \u001b[0m 654 \u001b[2m│   │   \u001b[0m\u001b[94mreturn\u001b[0m \u001b[1;4mfuture.result()\u001b[0m                                        \u001b[31m│\u001b[0m\n",
            "\u001b[31m│\u001b[0m   \u001b[2m 655 \u001b[0m\u001b[2m│   \u001b[0m                                                                  \u001b[31m│\u001b[0m\n",
            "\u001b[31m│\u001b[0m   \u001b[2m 656 \u001b[0m\u001b[2m│   \u001b[0m\u001b[94mdef\u001b[0m\u001b[90m \u001b[0m\u001b[92mstop\u001b[0m(\u001b[96mself\u001b[0m):                                                   \u001b[31m│\u001b[0m\n",
            "\u001b[31m│\u001b[0m   \u001b[2m 657 \u001b[0m\u001b[2;90m│   │   \u001b[0m\u001b[33m\"\"\"Stop running the event loop.\u001b[0m                               \u001b[31m│\u001b[0m\n",
            "\u001b[31m│\u001b[0m                                                                              \u001b[31m│\u001b[0m\n",
            "\u001b[31m│\u001b[0m \u001b[33m╭─\u001b[0m\u001b[33m────────────────────────────────\u001b[0m\u001b[33m locals \u001b[0m\u001b[33m────────────────────────────────\u001b[0m\u001b[33m─╮\u001b[0m \u001b[31m│\u001b[0m\n",
            "\u001b[31m│\u001b[0m \u001b[33m│\u001b[0m   future = \u001b[1m<\u001b[0m\u001b[1;95mTask\u001b[0m\u001b[39m finished \u001b[0m\u001b[33mname\u001b[0m\u001b[39m=\u001b[0m\u001b[33m'Task-1'\u001b[0m\u001b[39m \u001b[0m\u001b[33mcoro\u001b[0m\u001b[39m=<\u001b[0m\u001b[1;35mrun_agent\u001b[0m\u001b[1;39m(\u001b[0m\u001b[1;39m)\u001b[0m\u001b[39m done, defined \u001b[0m \u001b[33m│\u001b[0m \u001b[31m│\u001b[0m\n",
            "\u001b[31m│\u001b[0m \u001b[33m│\u001b[0m            \u001b[39mat \u001b[0m                                                           \u001b[33m│\u001b[0m \u001b[31m│\u001b[0m\n",
            "\u001b[31m│\u001b[0m \u001b[33m│\u001b[0m            \u001b[35m/usr/local/lib/python3.11/dist-packages/huggingface_hub/infe…\u001b[0m \u001b[33m│\u001b[0m \u001b[31m│\u001b[0m\n",
            "\u001b[31m│\u001b[0m \u001b[33m│\u001b[0m            \u001b[33mexception\u001b[0m\u001b[39m=\u001b[0m\u001b[1;35mMcpError\u001b[0m\u001b[1;39m(\u001b[0m\u001b[33m'Session terminated'\u001b[0m\u001b[1;39m)\u001b[0m\u001b[1m>\u001b[0m                     \u001b[33m│\u001b[0m \u001b[31m│\u001b[0m\n",
            "\u001b[31m│\u001b[0m \u001b[33m│\u001b[0m new_task = \u001b[94mFalse\u001b[0m                                                         \u001b[33m│\u001b[0m \u001b[31m│\u001b[0m\n",
            "\u001b[31m│\u001b[0m \u001b[33m│\u001b[0m     self = \u001b[1m<\u001b[0m\u001b[1;95m_UnixSelectorEventLoop\u001b[0m\u001b[39m \u001b[0m\u001b[33mrunning\u001b[0m\u001b[39m=\u001b[0m\u001b[94mFalse\u001b[0m\u001b[39m \u001b[0m\u001b[33mclosed\u001b[0m\u001b[39m=\u001b[0m\u001b[94mTrue\u001b[0m\u001b[39m \u001b[0m            \u001b[33m│\u001b[0m \u001b[31m│\u001b[0m\n",
            "\u001b[31m│\u001b[0m \u001b[33m│\u001b[0m            \u001b[33mdebug\u001b[0m\u001b[39m=\u001b[0m\u001b[94mFalse\u001b[0m\u001b[1m>\u001b[0m                                                  \u001b[33m│\u001b[0m \u001b[31m│\u001b[0m\n",
            "\u001b[31m│\u001b[0m \u001b[33m╰──────────────────────────────────────────────────────────────────────────╯\u001b[0m \u001b[31m│\u001b[0m\n",
            "\u001b[31m│\u001b[0m                                                                              \u001b[31m│\u001b[0m\n",
            "\u001b[31m│\u001b[0m \u001b[2;33m/usr/local/lib/python3.11/dist-packages/huggingface_hub/inference/_mcp/\u001b[0m\u001b[1;33mcli.p\u001b[0m \u001b[31m│\u001b[0m\n",
            "\u001b[31m│\u001b[0m \u001b[1;33my\u001b[0m:\u001b[94m212\u001b[0m in \u001b[92mrun_agent\u001b[0m                                                           \u001b[31m│\u001b[0m\n",
            "\u001b[31m│\u001b[0m                                                                              \u001b[31m│\u001b[0m\n",
            "\u001b[31m│\u001b[0m   \u001b[2m209 \u001b[0m\u001b[2m│   \u001b[0m\u001b[94mexcept\u001b[0m \u001b[96mException\u001b[0m \u001b[94mas\u001b[0m e:                                             \u001b[31m│\u001b[0m\n",
            "\u001b[31m│\u001b[0m   \u001b[2m210 \u001b[0m\u001b[2m│   │   \u001b[0mtb_str = traceback.format_exc()                                \u001b[31m│\u001b[0m\n",
            "\u001b[31m│\u001b[0m   \u001b[2m211 \u001b[0m\u001b[2m│   │   \u001b[0m\u001b[96mprint\u001b[0m(\u001b[33mf\u001b[0m\u001b[33m\"\u001b[0m\u001b[33m\\n\u001b[0m\u001b[33m[bold red]An unexpected error occurred: \u001b[0m\u001b[33m{\u001b[0me\u001b[33m}\u001b[0m\u001b[33m\\n\u001b[0m\u001b[33m{\u001b[0mtb_str \u001b[31m│\u001b[0m\n",
            "\u001b[31m│\u001b[0m \u001b[31m❱ \u001b[0m212 \u001b[2m│   │   \u001b[0m\u001b[94mraise\u001b[0m e                                                        \u001b[31m│\u001b[0m\n",
            "\u001b[31m│\u001b[0m   \u001b[2m213 \u001b[0m\u001b[2m│   \u001b[0m                                                                   \u001b[31m│\u001b[0m\n",
            "\u001b[31m│\u001b[0m   \u001b[2m214 \u001b[0m\u001b[2m│   \u001b[0m\u001b[94mfinally\u001b[0m:                                                           \u001b[31m│\u001b[0m\n",
            "\u001b[31m│\u001b[0m   \u001b[2m215 \u001b[0m\u001b[2m│   │   \u001b[0m\u001b[94mif\u001b[0m sigint_registered_in_loop:                                  \u001b[31m│\u001b[0m\n",
            "\u001b[31m│\u001b[0m                                                                              \u001b[31m│\u001b[0m\n",
            "\u001b[31m│\u001b[0m \u001b[33m╭─\u001b[0m\u001b[33m────────────────────────────────\u001b[0m\u001b[33m locals \u001b[0m\u001b[33m────────────────────────────────\u001b[0m\u001b[33m─╮\u001b[0m \u001b[31m│\u001b[0m\n",
            "\u001b[31m│\u001b[0m \u001b[33m│\u001b[0m               abort_event = \u001b[1m<\u001b[0m\u001b[1;95masyncio.locks.Event\u001b[0m\u001b[39m object at \u001b[0m              \u001b[33m│\u001b[0m \u001b[31m│\u001b[0m\n",
            "\u001b[31m│\u001b[0m \u001b[33m│\u001b[0m                             \u001b[94m0x7ab2e50fcbd0\u001b[0m\u001b[39m \u001b[0m\u001b[1;39m[\u001b[0m\u001b[39munset\u001b[0m\u001b[1;39m]\u001b[0m\u001b[1m>\u001b[0m                      \u001b[33m│\u001b[0m \u001b[31m│\u001b[0m\n",
            "\u001b[31m│\u001b[0m \u001b[33m│\u001b[0m                     agent = \u001b[1m<\u001b[0m\u001b[1;95mhuggingface_hub.inference._mcp.agent.Agent\u001b[0m\u001b[39m \u001b[0m \u001b[33m│\u001b[0m \u001b[31m│\u001b[0m\n",
            "\u001b[31m│\u001b[0m \u001b[33m│\u001b[0m                             \u001b[39mobject at \u001b[0m\u001b[94m0x7ab2e50fe0d0\u001b[0m\u001b[1m>\u001b[0m                    \u001b[33m│\u001b[0m \u001b[31m│\u001b[0m\n",
            "\u001b[31m│\u001b[0m \u001b[33m│\u001b[0m                agent_path = \u001b[33m'./my-agent'\u001b[0m                                 \u001b[33m│\u001b[0m \u001b[31m│\u001b[0m\n",
            "\u001b[31m│\u001b[0m \u001b[33m│\u001b[0m                    config = \u001b[1m{\u001b[0m                                            \u001b[33m│\u001b[0m \u001b[31m│\u001b[0m\n",
            "\u001b[31m│\u001b[0m \u001b[33m│\u001b[0m                             \u001b[2m│   \u001b[0m\u001b[33m'model'\u001b[0m: \u001b[33m'llama3.2:3b'\u001b[0m,                  \u001b[33m│\u001b[0m \u001b[31m│\u001b[0m\n",
            "\u001b[31m│\u001b[0m \u001b[33m│\u001b[0m                             \u001b[2m│   \u001b[0m\u001b[33m'endpointUrl'\u001b[0m:                           \u001b[33m│\u001b[0m \u001b[31m│\u001b[0m\n",
            "\u001b[31m│\u001b[0m \u001b[33m│\u001b[0m                             \u001b[33m'http://localhost:11434/'\u001b[0m,                   \u001b[33m│\u001b[0m \u001b[31m│\u001b[0m\n",
            "\u001b[31m│\u001b[0m \u001b[33m│\u001b[0m                             \u001b[2m│   \u001b[0m\u001b[33m'servers'\u001b[0m: \u001b[1m[\u001b[0m                             \u001b[33m│\u001b[0m \u001b[31m│\u001b[0m\n",
            "\u001b[31m│\u001b[0m \u001b[33m│\u001b[0m                             \u001b[2m│   │   \u001b[0m\u001b[1m{\u001b[0m                                    \u001b[33m│\u001b[0m \u001b[31m│\u001b[0m\n",
            "\u001b[31m│\u001b[0m \u001b[33m│\u001b[0m                             \u001b[2m│   │   │   \u001b[0m\u001b[33m'type'\u001b[0m: \u001b[33m'http'\u001b[0m,                  \u001b[33m│\u001b[0m \u001b[31m│\u001b[0m\n",
            "\u001b[31m│\u001b[0m \u001b[33m│\u001b[0m                             \u001b[2m│   │   │   \u001b[0m\u001b[33m'url'\u001b[0m:                           \u001b[33m│\u001b[0m \u001b[31m│\u001b[0m\n",
            "\u001b[31m│\u001b[0m \u001b[33m│\u001b[0m                             \u001b[33m'https://evalstate-hf-mcp-server.hf.space'\u001b[0m   \u001b[33m│\u001b[0m \u001b[31m│\u001b[0m\n",
            "\u001b[31m│\u001b[0m \u001b[33m│\u001b[0m                             \u001b[2m│   │   \u001b[0m\u001b[1m}\u001b[0m                                    \u001b[33m│\u001b[0m \u001b[31m│\u001b[0m\n",
            "\u001b[31m│\u001b[0m \u001b[33m│\u001b[0m                             \u001b[2m│   \u001b[0m\u001b[1m]\u001b[0m                                        \u001b[33m│\u001b[0m \u001b[31m│\u001b[0m\n",
            "\u001b[31m│\u001b[0m \u001b[33m│\u001b[0m                             \u001b[1m}\u001b[0m                                            \u001b[33m│\u001b[0m \u001b[31m│\u001b[0m\n",
            "\u001b[31m│\u001b[0m \u001b[33m│\u001b[0m                exit_event = \u001b[1m<\u001b[0m\u001b[1;95masyncio.locks.Event\u001b[0m\u001b[39m object at \u001b[0m              \u001b[33m│\u001b[0m \u001b[31m│\u001b[0m\n",
            "\u001b[31m│\u001b[0m \u001b[33m│\u001b[0m                             \u001b[94m0x7ab2e50fdfd0\u001b[0m\u001b[39m \u001b[0m\u001b[1;39m[\u001b[0m\u001b[39munset\u001b[0m\u001b[1;39m]\u001b[0m\u001b[1m>\u001b[0m                      \u001b[33m│\u001b[0m \u001b[31m│\u001b[0m\n",
            "\u001b[31m│\u001b[0m \u001b[33m│\u001b[0m              first_sigint = \u001b[94mTrue\u001b[0m                                         \u001b[33m│\u001b[0m \u001b[31m│\u001b[0m\n",
            "\u001b[31m│\u001b[0m \u001b[33m│\u001b[0m                    inputs = \u001b[1m[\u001b[0m\u001b[1m]\u001b[0m                                           \u001b[33m│\u001b[0m \u001b[31m│\u001b[0m\n",
            "\u001b[31m│\u001b[0m \u001b[33m│\u001b[0m                      loop = \u001b[1m<\u001b[0m\u001b[1;95m_UnixSelectorEventLoop\u001b[0m\u001b[39m \u001b[0m\u001b[33mrunning\u001b[0m\u001b[39m=\u001b[0m\u001b[94mFalse\u001b[0m\u001b[39m \u001b[0m       \u001b[33m│\u001b[0m \u001b[31m│\u001b[0m\n",
            "\u001b[31m│\u001b[0m \u001b[33m│\u001b[0m                             \u001b[33mclosed\u001b[0m\u001b[39m=\u001b[0m\u001b[94mTrue\u001b[0m\u001b[39m \u001b[0m\u001b[33mdebug\u001b[0m\u001b[39m=\u001b[0m\u001b[94mFalse\u001b[0m\u001b[1m>\u001b[0m                     \u001b[33m│\u001b[0m \u001b[31m│\u001b[0m\n",
            "\u001b[31m│\u001b[0m \u001b[33m│\u001b[0m   original_sigint_handler = \u001b[1;35mfunctools.partial\u001b[0m\u001b[1m(\u001b[0m\u001b[1m<\u001b[0m\u001b[1;95mbound\u001b[0m\u001b[39m method \u001b[0m             \u001b[33m│\u001b[0m \u001b[31m│\u001b[0m\n",
            "\u001b[31m│\u001b[0m \u001b[33m│\u001b[0m                             \u001b[39mRunner._on_sigint of <asyncio.runners.Runner\u001b[0m \u001b[33m│\u001b[0m \u001b[31m│\u001b[0m\n",
            "\u001b[31m│\u001b[0m \u001b[33m│\u001b[0m                             \u001b[39mobject at \u001b[0m\u001b[94m0x7ab2e50fc650\u001b[0m\u001b[39m>>, \u001b[0m\u001b[33mmain_task\u001b[0m\u001b[39m=<Task \u001b[0m \u001b[33m│\u001b[0m \u001b[31m│\u001b[0m\n",
            "\u001b[31m│\u001b[0m \u001b[33m│\u001b[0m                             \u001b[39mfinished \u001b[0m\u001b[33mname\u001b[0m\u001b[39m=\u001b[0m\u001b[33m'Task-1'\u001b[0m\u001b[39m \u001b[0m\u001b[33mcoro\u001b[0m\u001b[39m=<\u001b[0m\u001b[1;35mrun_agent\u001b[0m\u001b[1;39m(\u001b[0m\u001b[1;39m)\u001b[0m\u001b[39m \u001b[0m    \u001b[33m│\u001b[0m \u001b[31m│\u001b[0m\n",
            "\u001b[31m│\u001b[0m \u001b[33m│\u001b[0m                             \u001b[39mdone, defined at \u001b[0m                            \u001b[33m│\u001b[0m \u001b[31m│\u001b[0m\n",
            "\u001b[31m│\u001b[0m \u001b[33m│\u001b[0m                             \u001b[35m/usr/local/lib/python3.11/dist-packages/hug…\u001b[0m \u001b[33m│\u001b[0m \u001b[31m│\u001b[0m\n",
            "\u001b[31m│\u001b[0m \u001b[33m│\u001b[0m                             \u001b[33mexception\u001b[0m\u001b[39m=\u001b[0m\u001b[1;35mMcpError\u001b[0m\u001b[1;39m(\u001b[0m\u001b[33m'Session terminated'\u001b[0m\u001b[1;39m)\u001b[0m\u001b[1m>\u001b[0m\u001b[1m)\u001b[0m   \u001b[33m│\u001b[0m \u001b[31m│\u001b[0m\n",
            "\u001b[31m│\u001b[0m \u001b[33m│\u001b[0m                    prompt = \u001b[94mNone\u001b[0m                                         \u001b[33m│\u001b[0m \u001b[31m│\u001b[0m\n",
            "\u001b[31m│\u001b[0m \u001b[33m│\u001b[0m               raw_api_key = \u001b[94mNone\u001b[0m                                         \u001b[33m│\u001b[0m \u001b[31m│\u001b[0m\n",
            "\u001b[31m│\u001b[0m \u001b[33m│\u001b[0m           resolved_inputs = \u001b[1m{\u001b[0m\u001b[1m}\u001b[0m                                           \u001b[33m│\u001b[0m \u001b[31m│\u001b[0m\n",
            "\u001b[31m│\u001b[0m \u001b[33m│\u001b[0m                   servers = \u001b[1m[\u001b[0m                                            \u001b[33m│\u001b[0m \u001b[31m│\u001b[0m\n",
            "\u001b[31m│\u001b[0m \u001b[33m│\u001b[0m                             \u001b[2m│   \u001b[0m\u001b[1m{\u001b[0m                                        \u001b[33m│\u001b[0m \u001b[31m│\u001b[0m\n",
            "\u001b[31m│\u001b[0m \u001b[33m│\u001b[0m                             \u001b[2m│   │   \u001b[0m\u001b[33m'type'\u001b[0m: \u001b[33m'http'\u001b[0m,                      \u001b[33m│\u001b[0m \u001b[31m│\u001b[0m\n",
            "\u001b[31m│\u001b[0m \u001b[33m│\u001b[0m                             \u001b[2m│   │   \u001b[0m\u001b[33m'url'\u001b[0m:                               \u001b[33m│\u001b[0m \u001b[31m│\u001b[0m\n",
            "\u001b[31m│\u001b[0m \u001b[33m│\u001b[0m                             \u001b[33m'https://evalstate-hf-mcp-server.hf.space'\u001b[0m   \u001b[33m│\u001b[0m \u001b[31m│\u001b[0m\n",
            "\u001b[31m│\u001b[0m \u001b[33m│\u001b[0m                             \u001b[2m│   \u001b[0m\u001b[1m}\u001b[0m                                        \u001b[33m│\u001b[0m \u001b[31m│\u001b[0m\n",
            "\u001b[31m│\u001b[0m \u001b[33m│\u001b[0m                             \u001b[1m]\u001b[0m                                            \u001b[33m│\u001b[0m \u001b[31m│\u001b[0m\n",
            "\u001b[31m│\u001b[0m \u001b[33m│\u001b[0m sigint_registered_in_loop = \u001b[94mTrue\u001b[0m                                         \u001b[33m│\u001b[0m \u001b[31m│\u001b[0m\n",
            "\u001b[31m│\u001b[0m \u001b[33m│\u001b[0m                    tb_str = \u001b[33m'Traceback \u001b[0m\u001b[1;33m(\u001b[0m\u001b[33mmost recent call last\u001b[0m\u001b[1;33m)\u001b[0m\u001b[33m:\\n  File \u001b[0m \u001b[33m│\u001b[0m \u001b[31m│\u001b[0m\n",
            "\u001b[31m│\u001b[0m \u001b[33m│\u001b[0m                             \u001b[33m\"/usr/local/lib/python3.11/dist-packag'\u001b[0m+\u001b[94m764\u001b[0m  \u001b[33m│\u001b[0m \u001b[31m│\u001b[0m\n",
            "\u001b[31m│\u001b[0m \u001b[33m╰──────────────────────────────────────────────────────────────────────────╯\u001b[0m \u001b[31m│\u001b[0m\n",
            "\u001b[31m│\u001b[0m                                                                              \u001b[31m│\u001b[0m\n",
            "\u001b[31m│\u001b[0m \u001b[2;33m/usr/local/lib/python3.11/dist-packages/huggingface_hub/inference/_mcp/\u001b[0m\u001b[1;33mcli.p\u001b[0m \u001b[31m│\u001b[0m\n",
            "\u001b[31m│\u001b[0m \u001b[1;33my\u001b[0m:\u001b[94m152\u001b[0m in \u001b[92mrun_agent\u001b[0m                                                           \u001b[31m│\u001b[0m\n",
            "\u001b[31m│\u001b[0m                                                                              \u001b[31m│\u001b[0m\n",
            "\u001b[31m│\u001b[0m   \u001b[2m149 \u001b[0m\u001b[2m│   │   │   \u001b[0mservers=servers,  \u001b[2m# type: ignore[arg-type]\u001b[0m                 \u001b[31m│\u001b[0m\n",
            "\u001b[31m│\u001b[0m   \u001b[2m150 \u001b[0m\u001b[2m│   │   │   \u001b[0mprompt=prompt,                                             \u001b[31m│\u001b[0m\n",
            "\u001b[31m│\u001b[0m   \u001b[2m151 \u001b[0m\u001b[2m│   │   \u001b[0m) \u001b[94mas\u001b[0m agent:                                                    \u001b[31m│\u001b[0m\n",
            "\u001b[31m│\u001b[0m \u001b[31m❱ \u001b[0m152 \u001b[2m│   │   │   \u001b[0m\u001b[94mawait\u001b[0m agent.load_tools()                                   \u001b[31m│\u001b[0m\n",
            "\u001b[31m│\u001b[0m   \u001b[2m153 \u001b[0m\u001b[2m│   │   │   \u001b[0m\u001b[96mprint\u001b[0m(\u001b[33mf\u001b[0m\u001b[33m\"\u001b[0m\u001b[33m[bold blue]Agent loaded with \u001b[0m\u001b[33m{\u001b[0m\u001b[96mlen\u001b[0m(agent.available_ \u001b[31m│\u001b[0m\n",
            "\u001b[31m│\u001b[0m   \u001b[2m154 \u001b[0m\u001b[2m│   │   │   \u001b[0m\u001b[94mfor\u001b[0m t \u001b[95min\u001b[0m agent.available_tools:                            \u001b[31m│\u001b[0m\n",
            "\u001b[31m│\u001b[0m   \u001b[2m155 \u001b[0m\u001b[2m│   │   │   │   \u001b[0m\u001b[96mprint\u001b[0m(\u001b[33mf\u001b[0m\u001b[33m\"\u001b[0m\u001b[33m[blue] • \u001b[0m\u001b[33m{\u001b[0mt.function.name\u001b[33m}\u001b[0m\u001b[33m[/blue]\u001b[0m\u001b[33m\"\u001b[0m)            \u001b[31m│\u001b[0m\n",
            "\u001b[31m│\u001b[0m                                                                              \u001b[31m│\u001b[0m\n",
            "\u001b[31m│\u001b[0m \u001b[33m╭─\u001b[0m\u001b[33m────────────────────────────────\u001b[0m\u001b[33m locals \u001b[0m\u001b[33m────────────────────────────────\u001b[0m\u001b[33m─╮\u001b[0m \u001b[31m│\u001b[0m\n",
            "\u001b[31m│\u001b[0m \u001b[33m│\u001b[0m               abort_event = \u001b[1m<\u001b[0m\u001b[1;95masyncio.locks.Event\u001b[0m\u001b[39m object at \u001b[0m              \u001b[33m│\u001b[0m \u001b[31m│\u001b[0m\n",
            "\u001b[31m│\u001b[0m \u001b[33m│\u001b[0m                             \u001b[94m0x7ab2e50fcbd0\u001b[0m\u001b[39m \u001b[0m\u001b[1;39m[\u001b[0m\u001b[39munset\u001b[0m\u001b[1;39m]\u001b[0m\u001b[1m>\u001b[0m                      \u001b[33m│\u001b[0m \u001b[31m│\u001b[0m\n",
            "\u001b[31m│\u001b[0m \u001b[33m│\u001b[0m                     agent = \u001b[1m<\u001b[0m\u001b[1;95mhuggingface_hub.inference._mcp.agent.Agent\u001b[0m\u001b[39m \u001b[0m \u001b[33m│\u001b[0m \u001b[31m│\u001b[0m\n",
            "\u001b[31m│\u001b[0m \u001b[33m│\u001b[0m                             \u001b[39mobject at \u001b[0m\u001b[94m0x7ab2e50fe0d0\u001b[0m\u001b[1m>\u001b[0m                    \u001b[33m│\u001b[0m \u001b[31m│\u001b[0m\n",
            "\u001b[31m│\u001b[0m \u001b[33m│\u001b[0m                agent_path = \u001b[33m'./my-agent'\u001b[0m                                 \u001b[33m│\u001b[0m \u001b[31m│\u001b[0m\n",
            "\u001b[31m│\u001b[0m \u001b[33m│\u001b[0m                    config = \u001b[1m{\u001b[0m                                            \u001b[33m│\u001b[0m \u001b[31m│\u001b[0m\n",
            "\u001b[31m│\u001b[0m \u001b[33m│\u001b[0m                             \u001b[2m│   \u001b[0m\u001b[33m'model'\u001b[0m: \u001b[33m'llama3.2:3b'\u001b[0m,                  \u001b[33m│\u001b[0m \u001b[31m│\u001b[0m\n",
            "\u001b[31m│\u001b[0m \u001b[33m│\u001b[0m                             \u001b[2m│   \u001b[0m\u001b[33m'endpointUrl'\u001b[0m:                           \u001b[33m│\u001b[0m \u001b[31m│\u001b[0m\n",
            "\u001b[31m│\u001b[0m \u001b[33m│\u001b[0m                             \u001b[33m'http://localhost:11434/'\u001b[0m,                   \u001b[33m│\u001b[0m \u001b[31m│\u001b[0m\n",
            "\u001b[31m│\u001b[0m \u001b[33m│\u001b[0m                             \u001b[2m│   \u001b[0m\u001b[33m'servers'\u001b[0m: \u001b[1m[\u001b[0m                             \u001b[33m│\u001b[0m \u001b[31m│\u001b[0m\n",
            "\u001b[31m│\u001b[0m \u001b[33m│\u001b[0m                             \u001b[2m│   │   \u001b[0m\u001b[1m{\u001b[0m                                    \u001b[33m│\u001b[0m \u001b[31m│\u001b[0m\n",
            "\u001b[31m│\u001b[0m \u001b[33m│\u001b[0m                             \u001b[2m│   │   │   \u001b[0m\u001b[33m'type'\u001b[0m: \u001b[33m'http'\u001b[0m,                  \u001b[33m│\u001b[0m \u001b[31m│\u001b[0m\n",
            "\u001b[31m│\u001b[0m \u001b[33m│\u001b[0m                             \u001b[2m│   │   │   \u001b[0m\u001b[33m'url'\u001b[0m:                           \u001b[33m│\u001b[0m \u001b[31m│\u001b[0m\n",
            "\u001b[31m│\u001b[0m \u001b[33m│\u001b[0m                             \u001b[33m'https://evalstate-hf-mcp-server.hf.space'\u001b[0m   \u001b[33m│\u001b[0m \u001b[31m│\u001b[0m\n",
            "\u001b[31m│\u001b[0m \u001b[33m│\u001b[0m                             \u001b[2m│   │   \u001b[0m\u001b[1m}\u001b[0m                                    \u001b[33m│\u001b[0m \u001b[31m│\u001b[0m\n",
            "\u001b[31m│\u001b[0m \u001b[33m│\u001b[0m                             \u001b[2m│   \u001b[0m\u001b[1m]\u001b[0m                                        \u001b[33m│\u001b[0m \u001b[31m│\u001b[0m\n",
            "\u001b[31m│\u001b[0m \u001b[33m│\u001b[0m                             \u001b[1m}\u001b[0m                                            \u001b[33m│\u001b[0m \u001b[31m│\u001b[0m\n",
            "\u001b[31m│\u001b[0m \u001b[33m│\u001b[0m                exit_event = \u001b[1m<\u001b[0m\u001b[1;95masyncio.locks.Event\u001b[0m\u001b[39m object at \u001b[0m              \u001b[33m│\u001b[0m \u001b[31m│\u001b[0m\n",
            "\u001b[31m│\u001b[0m \u001b[33m│\u001b[0m                             \u001b[94m0x7ab2e50fdfd0\u001b[0m\u001b[39m \u001b[0m\u001b[1;39m[\u001b[0m\u001b[39munset\u001b[0m\u001b[1;39m]\u001b[0m\u001b[1m>\u001b[0m                      \u001b[33m│\u001b[0m \u001b[31m│\u001b[0m\n",
            "\u001b[31m│\u001b[0m \u001b[33m│\u001b[0m              first_sigint = \u001b[94mTrue\u001b[0m                                         \u001b[33m│\u001b[0m \u001b[31m│\u001b[0m\n",
            "\u001b[31m│\u001b[0m \u001b[33m│\u001b[0m                    inputs = \u001b[1m[\u001b[0m\u001b[1m]\u001b[0m                                           \u001b[33m│\u001b[0m \u001b[31m│\u001b[0m\n",
            "\u001b[31m│\u001b[0m \u001b[33m│\u001b[0m                      loop = \u001b[1m<\u001b[0m\u001b[1;95m_UnixSelectorEventLoop\u001b[0m\u001b[39m \u001b[0m\u001b[33mrunning\u001b[0m\u001b[39m=\u001b[0m\u001b[94mFalse\u001b[0m\u001b[39m \u001b[0m       \u001b[33m│\u001b[0m \u001b[31m│\u001b[0m\n",
            "\u001b[31m│\u001b[0m \u001b[33m│\u001b[0m                             \u001b[33mclosed\u001b[0m\u001b[39m=\u001b[0m\u001b[94mTrue\u001b[0m\u001b[39m \u001b[0m\u001b[33mdebug\u001b[0m\u001b[39m=\u001b[0m\u001b[94mFalse\u001b[0m\u001b[1m>\u001b[0m                     \u001b[33m│\u001b[0m \u001b[31m│\u001b[0m\n",
            "\u001b[31m│\u001b[0m \u001b[33m│\u001b[0m   original_sigint_handler = \u001b[1;35mfunctools.partial\u001b[0m\u001b[1m(\u001b[0m\u001b[1m<\u001b[0m\u001b[1;95mbound\u001b[0m\u001b[39m method \u001b[0m             \u001b[33m│\u001b[0m \u001b[31m│\u001b[0m\n",
            "\u001b[31m│\u001b[0m \u001b[33m│\u001b[0m                             \u001b[39mRunner._on_sigint of <asyncio.runners.Runner\u001b[0m \u001b[33m│\u001b[0m \u001b[31m│\u001b[0m\n",
            "\u001b[31m│\u001b[0m \u001b[33m│\u001b[0m                             \u001b[39mobject at \u001b[0m\u001b[94m0x7ab2e50fc650\u001b[0m\u001b[39m>>, \u001b[0m\u001b[33mmain_task\u001b[0m\u001b[39m=<Task \u001b[0m \u001b[33m│\u001b[0m \u001b[31m│\u001b[0m\n",
            "\u001b[31m│\u001b[0m \u001b[33m│\u001b[0m                             \u001b[39mfinished \u001b[0m\u001b[33mname\u001b[0m\u001b[39m=\u001b[0m\u001b[33m'Task-1'\u001b[0m\u001b[39m \u001b[0m\u001b[33mcoro\u001b[0m\u001b[39m=<\u001b[0m\u001b[1;35mrun_agent\u001b[0m\u001b[1;39m(\u001b[0m\u001b[1;39m)\u001b[0m\u001b[39m \u001b[0m    \u001b[33m│\u001b[0m \u001b[31m│\u001b[0m\n",
            "\u001b[31m│\u001b[0m \u001b[33m│\u001b[0m                             \u001b[39mdone, defined at \u001b[0m                            \u001b[33m│\u001b[0m \u001b[31m│\u001b[0m\n",
            "\u001b[31m│\u001b[0m \u001b[33m│\u001b[0m                             \u001b[35m/usr/local/lib/python3.11/dist-packages/hug…\u001b[0m \u001b[33m│\u001b[0m \u001b[31m│\u001b[0m\n",
            "\u001b[31m│\u001b[0m \u001b[33m│\u001b[0m                             \u001b[33mexception\u001b[0m\u001b[39m=\u001b[0m\u001b[1;35mMcpError\u001b[0m\u001b[1;39m(\u001b[0m\u001b[33m'Session terminated'\u001b[0m\u001b[1;39m)\u001b[0m\u001b[1m>\u001b[0m\u001b[1m)\u001b[0m   \u001b[33m│\u001b[0m \u001b[31m│\u001b[0m\n",
            "\u001b[31m│\u001b[0m \u001b[33m│\u001b[0m                    prompt = \u001b[94mNone\u001b[0m                                         \u001b[33m│\u001b[0m \u001b[31m│\u001b[0m\n",
            "\u001b[31m│\u001b[0m \u001b[33m│\u001b[0m               raw_api_key = \u001b[94mNone\u001b[0m                                         \u001b[33m│\u001b[0m \u001b[31m│\u001b[0m\n",
            "\u001b[31m│\u001b[0m \u001b[33m│\u001b[0m           resolved_inputs = \u001b[1m{\u001b[0m\u001b[1m}\u001b[0m                                           \u001b[33m│\u001b[0m \u001b[31m│\u001b[0m\n",
            "\u001b[31m│\u001b[0m \u001b[33m│\u001b[0m                   servers = \u001b[1m[\u001b[0m                                            \u001b[33m│\u001b[0m \u001b[31m│\u001b[0m\n",
            "\u001b[31m│\u001b[0m \u001b[33m│\u001b[0m                             \u001b[2m│   \u001b[0m\u001b[1m{\u001b[0m                                        \u001b[33m│\u001b[0m \u001b[31m│\u001b[0m\n",
            "\u001b[31m│\u001b[0m \u001b[33m│\u001b[0m                             \u001b[2m│   │   \u001b[0m\u001b[33m'type'\u001b[0m: \u001b[33m'http'\u001b[0m,                      \u001b[33m│\u001b[0m \u001b[31m│\u001b[0m\n",
            "\u001b[31m│\u001b[0m \u001b[33m│\u001b[0m                             \u001b[2m│   │   \u001b[0m\u001b[33m'url'\u001b[0m:                               \u001b[33m│\u001b[0m \u001b[31m│\u001b[0m\n",
            "\u001b[31m│\u001b[0m \u001b[33m│\u001b[0m                             \u001b[33m'https://evalstate-hf-mcp-server.hf.space'\u001b[0m   \u001b[33m│\u001b[0m \u001b[31m│\u001b[0m\n",
            "\u001b[31m│\u001b[0m \u001b[33m│\u001b[0m                             \u001b[2m│   \u001b[0m\u001b[1m}\u001b[0m                                        \u001b[33m│\u001b[0m \u001b[31m│\u001b[0m\n",
            "\u001b[31m│\u001b[0m \u001b[33m│\u001b[0m                             \u001b[1m]\u001b[0m                                            \u001b[33m│\u001b[0m \u001b[31m│\u001b[0m\n",
            "\u001b[31m│\u001b[0m \u001b[33m│\u001b[0m sigint_registered_in_loop = \u001b[94mTrue\u001b[0m                                         \u001b[33m│\u001b[0m \u001b[31m│\u001b[0m\n",
            "\u001b[31m│\u001b[0m \u001b[33m│\u001b[0m                    tb_str = \u001b[33m'Traceback \u001b[0m\u001b[1;33m(\u001b[0m\u001b[33mmost recent call last\u001b[0m\u001b[1;33m)\u001b[0m\u001b[33m:\\n  File \u001b[0m \u001b[33m│\u001b[0m \u001b[31m│\u001b[0m\n",
            "\u001b[31m│\u001b[0m \u001b[33m│\u001b[0m                             \u001b[33m\"/usr/local/lib/python3.11/dist-packag'\u001b[0m+\u001b[94m764\u001b[0m  \u001b[33m│\u001b[0m \u001b[31m│\u001b[0m\n",
            "\u001b[31m│\u001b[0m \u001b[33m╰──────────────────────────────────────────────────────────────────────────╯\u001b[0m \u001b[31m│\u001b[0m\n",
            "\u001b[31m│\u001b[0m                                                                              \u001b[31m│\u001b[0m\n",
            "\u001b[31m│\u001b[0m \u001b[2;33m/usr/local/lib/python3.11/dist-packages/huggingface_hub/inference/_mcp/\u001b[0m\u001b[1;33magent\u001b[0m \u001b[31m│\u001b[0m\n",
            "\u001b[31m│\u001b[0m \u001b[1;33m.py\u001b[0m:\u001b[94m58\u001b[0m in \u001b[92mload_tools\u001b[0m                                                         \u001b[31m│\u001b[0m\n",
            "\u001b[31m│\u001b[0m                                                                              \u001b[31m│\u001b[0m\n",
            "\u001b[31m│\u001b[0m   \u001b[2m 55 \u001b[0m\u001b[2m│   \u001b[0m                                                                   \u001b[31m│\u001b[0m\n",
            "\u001b[31m│\u001b[0m   \u001b[2m 56 \u001b[0m\u001b[2m│   \u001b[0m\u001b[94masync\u001b[0m \u001b[94mdef\u001b[0m\u001b[90m \u001b[0m\u001b[92mload_tools\u001b[0m(\u001b[96mself\u001b[0m) -> \u001b[94mNone\u001b[0m:                                \u001b[31m│\u001b[0m\n",
            "\u001b[31m│\u001b[0m   \u001b[2m 57 \u001b[0m\u001b[2m│   │   \u001b[0m\u001b[94mfor\u001b[0m cfg \u001b[95min\u001b[0m \u001b[96mself\u001b[0m._servers_cfg:                                  \u001b[31m│\u001b[0m\n",
            "\u001b[31m│\u001b[0m \u001b[31m❱ \u001b[0m 58 \u001b[2m│   │   │   \u001b[0m\u001b[1;4;94mawait\u001b[0m\u001b[1;4m \u001b[0m\u001b[1;4;96mself\u001b[0m\u001b[1;4m.add_mcp_server(**cfg)\u001b[0m                           \u001b[31m│\u001b[0m\n",
            "\u001b[31m│\u001b[0m   \u001b[2m 59 \u001b[0m\u001b[2m│   \u001b[0m                                                                   \u001b[31m│\u001b[0m\n",
            "\u001b[31m│\u001b[0m   \u001b[2m 60 \u001b[0m\u001b[2m│   \u001b[0m\u001b[94masync\u001b[0m \u001b[94mdef\u001b[0m\u001b[90m \u001b[0m\u001b[92mrun\u001b[0m(                                                     \u001b[31m│\u001b[0m\n",
            "\u001b[31m│\u001b[0m   \u001b[2m 61 \u001b[0m\u001b[2m│   │   \u001b[0m\u001b[96mself\u001b[0m,                                                          \u001b[31m│\u001b[0m\n",
            "\u001b[31m│\u001b[0m                                                                              \u001b[31m│\u001b[0m\n",
            "\u001b[31m│\u001b[0m \u001b[33m╭─\u001b[0m\u001b[33m────────────────────────────────\u001b[0m\u001b[33m locals \u001b[0m\u001b[33m────────────────────────────────\u001b[0m\u001b[33m─╮\u001b[0m \u001b[31m│\u001b[0m\n",
            "\u001b[31m│\u001b[0m \u001b[33m│\u001b[0m  cfg = \u001b[1m{\u001b[0m                                                                 \u001b[33m│\u001b[0m \u001b[31m│\u001b[0m\n",
            "\u001b[31m│\u001b[0m \u001b[33m│\u001b[0m        \u001b[2m│   \u001b[0m\u001b[33m'type'\u001b[0m: \u001b[33m'http'\u001b[0m,                                               \u001b[33m│\u001b[0m \u001b[31m│\u001b[0m\n",
            "\u001b[31m│\u001b[0m \u001b[33m│\u001b[0m        \u001b[2m│   \u001b[0m\u001b[33m'url'\u001b[0m: \u001b[33m'https://evalstate-hf-mcp-server.hf.space'\u001b[0m             \u001b[33m│\u001b[0m \u001b[31m│\u001b[0m\n",
            "\u001b[31m│\u001b[0m \u001b[33m│\u001b[0m        \u001b[1m}\u001b[0m                                                                 \u001b[33m│\u001b[0m \u001b[31m│\u001b[0m\n",
            "\u001b[31m│\u001b[0m \u001b[33m│\u001b[0m self = \u001b[1m<\u001b[0m\u001b[1;95mhuggingface_hub.inference._mcp.agent.Agent\u001b[0m\u001b[39m object at \u001b[0m            \u001b[33m│\u001b[0m \u001b[31m│\u001b[0m\n",
            "\u001b[31m│\u001b[0m \u001b[33m│\u001b[0m        \u001b[94m0x7ab2e50fe0d0\u001b[0m\u001b[1m>\u001b[0m                                                   \u001b[33m│\u001b[0m \u001b[31m│\u001b[0m\n",
            "\u001b[31m│\u001b[0m \u001b[33m╰──────────────────────────────────────────────────────────────────────────╯\u001b[0m \u001b[31m│\u001b[0m\n",
            "\u001b[31m│\u001b[0m                                                                              \u001b[31m│\u001b[0m\n",
            "\u001b[31m│\u001b[0m \u001b[2;33m/usr/local/lib/python3.11/dist-packages/huggingface_hub/inference/_mcp/\u001b[0m\u001b[1;33mmcp_c\u001b[0m \u001b[31m│\u001b[0m\n",
            "\u001b[31m│\u001b[0m \u001b[1;33mlient.py\u001b[0m:\u001b[94m208\u001b[0m in \u001b[92madd_mcp_server\u001b[0m                                               \u001b[31m│\u001b[0m\n",
            "\u001b[31m│\u001b[0m                                                                              \u001b[31m│\u001b[0m\n",
            "\u001b[31m│\u001b[0m   \u001b[2m205 \u001b[0m\u001b[2m│   │   \u001b[0m)                                                              \u001b[31m│\u001b[0m\n",
            "\u001b[31m│\u001b[0m   \u001b[2m206 \u001b[0m\u001b[2m│   │   \u001b[0m                                                               \u001b[31m│\u001b[0m\n",
            "\u001b[31m│\u001b[0m   \u001b[2m207 \u001b[0m\u001b[2m│   │   \u001b[0mlogger.debug(\u001b[33m\"\u001b[0m\u001b[33mInitializing session...\u001b[0m\u001b[33m\"\u001b[0m)                        \u001b[31m│\u001b[0m\n",
            "\u001b[31m│\u001b[0m \u001b[31m❱ \u001b[0m208 \u001b[2m│   │   \u001b[0m\u001b[1;4;94mawait\u001b[0m\u001b[1;4m session.initialize()\u001b[0m                                     \u001b[31m│\u001b[0m\n",
            "\u001b[31m│\u001b[0m   \u001b[2m209 \u001b[0m\u001b[2m│   │   \u001b[0m                                                               \u001b[31m│\u001b[0m\n",
            "\u001b[31m│\u001b[0m   \u001b[2m210 \u001b[0m\u001b[2m│   │   \u001b[0m\u001b[2m# List available tools\u001b[0m                                         \u001b[31m│\u001b[0m\n",
            "\u001b[31m│\u001b[0m   \u001b[2m211 \u001b[0m\u001b[2m│   │   \u001b[0mresponse = \u001b[94mawait\u001b[0m session.list_tools()                          \u001b[31m│\u001b[0m\n",
            "\u001b[31m│\u001b[0m                                                                              \u001b[31m│\u001b[0m\n",
            "\u001b[31m│\u001b[0m \u001b[33m╭─\u001b[0m\u001b[33m────────────────────────────────\u001b[0m\u001b[33m locals \u001b[0m\u001b[33m────────────────────────────────\u001b[0m\u001b[33m─╮\u001b[0m \u001b[31m│\u001b[0m\n",
            "\u001b[31m│\u001b[0m \u001b[33m│\u001b[0m             _ = \u001b[1m<\u001b[0m\u001b[1;95mbound\u001b[0m\u001b[39m method StreamableHTTPTransport.get_session_id of \u001b[0m \u001b[33m│\u001b[0m \u001b[31m│\u001b[0m\n",
            "\u001b[31m│\u001b[0m \u001b[33m│\u001b[0m                 \u001b[39m<mcp.client.streamable_http.StreamableHTTPTransport \u001b[0m     \u001b[33m│\u001b[0m \u001b[31m│\u001b[0m\n",
            "\u001b[31m│\u001b[0m \u001b[33m│\u001b[0m                 \u001b[39mobject at \u001b[0m\u001b[94m0x7ab2e4fba510\u001b[0m\u001b[39m>\u001b[0m\u001b[1m>\u001b[0m                               \u001b[33m│\u001b[0m \u001b[31m│\u001b[0m\n",
            "\u001b[31m│\u001b[0m \u001b[33m│\u001b[0m client_kwargs = \u001b[1m{\u001b[0m\u001b[33m'url'\u001b[0m: \u001b[33m'https://evalstate-hf-mcp-server.hf.space'\u001b[0m\u001b[1m}\u001b[0m      \u001b[33m│\u001b[0m \u001b[31m│\u001b[0m\n",
            "\u001b[31m│\u001b[0m \u001b[33m│\u001b[0m           key = \u001b[33m'terminate_on_close'\u001b[0m                                     \u001b[33m│\u001b[0m \u001b[31m│\u001b[0m\n",
            "\u001b[31m│\u001b[0m \u001b[33m│\u001b[0m     mcp_types = \u001b[1m<\u001b[0m\u001b[1;95mmodule\u001b[0m\u001b[39m \u001b[0m\u001b[33m'mcp.types'\u001b[0m\u001b[39m from \u001b[0m                                \u001b[33m│\u001b[0m \u001b[31m│\u001b[0m\n",
            "\u001b[31m│\u001b[0m \u001b[33m│\u001b[0m                 \u001b[33m'/usr/local/lib/python3.11/dist-packages/mcp/types.py'\u001b[0m\u001b[1m>\u001b[0m  \u001b[33m│\u001b[0m \u001b[31m│\u001b[0m\n",
            "\u001b[31m│\u001b[0m \u001b[33m│\u001b[0m        params = \u001b[1m{\u001b[0m\u001b[33m'url'\u001b[0m: \u001b[33m'https://evalstate-hf-mcp-server.hf.space'\u001b[0m\u001b[1m}\u001b[0m      \u001b[33m│\u001b[0m \u001b[31m│\u001b[0m\n",
            "\u001b[31m│\u001b[0m \u001b[33m│\u001b[0m          read = \u001b[1;35mMemoryObjectReceiveStream\u001b[0m\u001b[1m(\u001b[0m                               \u001b[33m│\u001b[0m \u001b[31m│\u001b[0m\n",
            "\u001b[31m│\u001b[0m \u001b[33m│\u001b[0m                 \u001b[2m│   \u001b[0m\u001b[33m_state\u001b[0m=\u001b[1;35mMemoryObjectStreamState\u001b[0m\u001b[1m(\u001b[0m                      \u001b[33m│\u001b[0m \u001b[31m│\u001b[0m\n",
            "\u001b[31m│\u001b[0m \u001b[33m│\u001b[0m                 \u001b[2m│   │   \u001b[0m\u001b[33mmax_buffer_size\u001b[0m=\u001b[94m0\u001b[0m,                               \u001b[33m│\u001b[0m \u001b[31m│\u001b[0m\n",
            "\u001b[31m│\u001b[0m \u001b[33m│\u001b[0m                 \u001b[2m│   │   \u001b[0m\u001b[33mbuffer\u001b[0m=\u001b[1;35mdeque\u001b[0m\u001b[1m(\u001b[0m\u001b[1m)\u001b[0m,                                  \u001b[33m│\u001b[0m \u001b[31m│\u001b[0m\n",
            "\u001b[31m│\u001b[0m \u001b[33m│\u001b[0m                 \u001b[2m│   │   \u001b[0m\u001b[33mopen_send_channels\u001b[0m=\u001b[94m0\u001b[0m,                            \u001b[33m│\u001b[0m \u001b[31m│\u001b[0m\n",
            "\u001b[31m│\u001b[0m \u001b[33m│\u001b[0m                 \u001b[2m│   │   \u001b[0m\u001b[33mopen_receive_channels\u001b[0m=\u001b[94m0\u001b[0m,                         \u001b[33m│\u001b[0m \u001b[31m│\u001b[0m\n",
            "\u001b[31m│\u001b[0m \u001b[33m│\u001b[0m                 \u001b[2m│   │   \u001b[0m\u001b[33mwaiting_receivers\u001b[0m=\u001b[1;35mOrderedDict\u001b[0m\u001b[1m(\u001b[0m\u001b[1m)\u001b[0m,                 \u001b[33m│\u001b[0m \u001b[31m│\u001b[0m\n",
            "\u001b[31m│\u001b[0m \u001b[33m│\u001b[0m                 \u001b[2m│   │   \u001b[0m\u001b[33mwaiting_senders\u001b[0m=\u001b[1;35mOrderedDict\u001b[0m\u001b[1m(\u001b[0m\u001b[1m)\u001b[0m                    \u001b[33m│\u001b[0m \u001b[31m│\u001b[0m\n",
            "\u001b[31m│\u001b[0m \u001b[33m│\u001b[0m                 \u001b[2m│   \u001b[0m\u001b[1m)\u001b[0m,                                                   \u001b[33m│\u001b[0m \u001b[31m│\u001b[0m\n",
            "\u001b[31m│\u001b[0m \u001b[33m│\u001b[0m                 \u001b[2m│   \u001b[0m\u001b[33m_closed\u001b[0m=\u001b[94mTrue\u001b[0m                                         \u001b[33m│\u001b[0m \u001b[31m│\u001b[0m\n",
            "\u001b[31m│\u001b[0m \u001b[33m│\u001b[0m                 \u001b[1m)\u001b[0m                                                        \u001b[33m│\u001b[0m \u001b[31m│\u001b[0m\n",
            "\u001b[31m│\u001b[0m \u001b[33m│\u001b[0m          self = \u001b[1m<\u001b[0m\u001b[1;95mhuggingface_hub.inference._mcp.agent.Agent\u001b[0m\u001b[39m object at \u001b[0m   \u001b[33m│\u001b[0m \u001b[31m│\u001b[0m\n",
            "\u001b[31m│\u001b[0m \u001b[33m│\u001b[0m                 \u001b[94m0x7ab2e50fe0d0\u001b[0m\u001b[1m>\u001b[0m                                          \u001b[33m│\u001b[0m \u001b[31m│\u001b[0m\n",
            "\u001b[31m│\u001b[0m \u001b[33m│\u001b[0m       session = \u001b[1m<\u001b[0m\u001b[1;95mmcp.client.session.ClientSession\u001b[0m\u001b[39m object at \u001b[0m             \u001b[33m│\u001b[0m \u001b[31m│\u001b[0m\n",
            "\u001b[31m│\u001b[0m \u001b[33m│\u001b[0m                 \u001b[94m0x7ab2e3e58650\u001b[0m\u001b[1m>\u001b[0m                                          \u001b[33m│\u001b[0m \u001b[31m│\u001b[0m\n",
            "\u001b[31m│\u001b[0m \u001b[33m│\u001b[0m          type = \u001b[33m'http'\u001b[0m                                                   \u001b[33m│\u001b[0m \u001b[31m│\u001b[0m\n",
            "\u001b[31m│\u001b[0m \u001b[33m│\u001b[0m         write = \u001b[1;35mMemoryObjectSendStream\u001b[0m\u001b[1m(\u001b[0m                                  \u001b[33m│\u001b[0m \u001b[31m│\u001b[0m\n",
            "\u001b[31m│\u001b[0m \u001b[33m│\u001b[0m                 \u001b[2m│   \u001b[0m\u001b[33m_state\u001b[0m=\u001b[1;35mMemoryObjectStreamState\u001b[0m\u001b[1m(\u001b[0m                      \u001b[33m│\u001b[0m \u001b[31m│\u001b[0m\n",
            "\u001b[31m│\u001b[0m \u001b[33m│\u001b[0m                 \u001b[2m│   │   \u001b[0m\u001b[33mmax_buffer_size\u001b[0m=\u001b[94m0\u001b[0m,                               \u001b[33m│\u001b[0m \u001b[31m│\u001b[0m\n",
            "\u001b[31m│\u001b[0m \u001b[33m│\u001b[0m                 \u001b[2m│   │   \u001b[0m\u001b[33mbuffer\u001b[0m=\u001b[1;35mdeque\u001b[0m\u001b[1m(\u001b[0m\u001b[1m)\u001b[0m,                                  \u001b[33m│\u001b[0m \u001b[31m│\u001b[0m\n",
            "\u001b[31m│\u001b[0m \u001b[33m│\u001b[0m                 \u001b[2m│   │   \u001b[0m\u001b[33mopen_send_channels\u001b[0m=\u001b[94m0\u001b[0m,                            \u001b[33m│\u001b[0m \u001b[31m│\u001b[0m\n",
            "\u001b[31m│\u001b[0m \u001b[33m│\u001b[0m                 \u001b[2m│   │   \u001b[0m\u001b[33mopen_receive_channels\u001b[0m=\u001b[94m0\u001b[0m,                         \u001b[33m│\u001b[0m \u001b[31m│\u001b[0m\n",
            "\u001b[31m│\u001b[0m \u001b[33m│\u001b[0m                 \u001b[2m│   │   \u001b[0m\u001b[33mwaiting_receivers\u001b[0m=\u001b[1;35mOrderedDict\u001b[0m\u001b[1m(\u001b[0m\u001b[1m)\u001b[0m,                 \u001b[33m│\u001b[0m \u001b[31m│\u001b[0m\n",
            "\u001b[31m│\u001b[0m \u001b[33m│\u001b[0m                 \u001b[2m│   │   \u001b[0m\u001b[33mwaiting_senders\u001b[0m=\u001b[1;35mOrderedDict\u001b[0m\u001b[1m(\u001b[0m\u001b[1m)\u001b[0m                    \u001b[33m│\u001b[0m \u001b[31m│\u001b[0m\n",
            "\u001b[31m│\u001b[0m \u001b[33m│\u001b[0m                 \u001b[2m│   \u001b[0m\u001b[1m)\u001b[0m,                                                   \u001b[33m│\u001b[0m \u001b[31m│\u001b[0m\n",
            "\u001b[31m│\u001b[0m \u001b[33m│\u001b[0m                 \u001b[2m│   \u001b[0m\u001b[33m_closed\u001b[0m=\u001b[94mTrue\u001b[0m                                         \u001b[33m│\u001b[0m \u001b[31m│\u001b[0m\n",
            "\u001b[31m│\u001b[0m \u001b[33m│\u001b[0m                 \u001b[1m)\u001b[0m                                                        \u001b[33m│\u001b[0m \u001b[31m│\u001b[0m\n",
            "\u001b[31m│\u001b[0m \u001b[33m╰──────────────────────────────────────────────────────────────────────────╯\u001b[0m \u001b[31m│\u001b[0m\n",
            "\u001b[31m│\u001b[0m                                                                              \u001b[31m│\u001b[0m\n",
            "\u001b[31m│\u001b[0m \u001b[2;33m/usr/local/lib/python3.11/dist-packages/mcp/client/\u001b[0m\u001b[1;33msession.py\u001b[0m:\u001b[94m151\u001b[0m in         \u001b[31m│\u001b[0m\n",
            "\u001b[31m│\u001b[0m \u001b[92minitialize\u001b[0m                                                                   \u001b[31m│\u001b[0m\n",
            "\u001b[31m│\u001b[0m                                                                              \u001b[31m│\u001b[0m\n",
            "\u001b[31m│\u001b[0m   \u001b[2m148 \u001b[0m\u001b[2m│   │   │   \u001b[0m\u001b[94melse\u001b[0m \u001b[94mNone\u001b[0m                                                  \u001b[31m│\u001b[0m\n",
            "\u001b[31m│\u001b[0m   \u001b[2m149 \u001b[0m\u001b[2m│   │   \u001b[0m)                                                              \u001b[31m│\u001b[0m\n",
            "\u001b[31m│\u001b[0m   \u001b[2m150 \u001b[0m\u001b[2m│   │   \u001b[0m                                                               \u001b[31m│\u001b[0m\n",
            "\u001b[31m│\u001b[0m \u001b[31m❱ \u001b[0m151 \u001b[2m│   │   \u001b[0mresult = \u001b[94mawait\u001b[0m \u001b[96mself\u001b[0m.send_request(                              \u001b[31m│\u001b[0m\n",
            "\u001b[31m│\u001b[0m   \u001b[2m152 \u001b[0m\u001b[2m│   │   │   \u001b[0mtypes.ClientRequest(                                       \u001b[31m│\u001b[0m\n",
            "\u001b[31m│\u001b[0m   \u001b[2m153 \u001b[0m\u001b[2m│   │   │   │   \u001b[0mtypes.InitializeRequest(                               \u001b[31m│\u001b[0m\n",
            "\u001b[31m│\u001b[0m   \u001b[2m154 \u001b[0m\u001b[2m│   │   │   │   │   \u001b[0mmethod=\u001b[33m\"\u001b[0m\u001b[33minitialize\u001b[0m\u001b[33m\"\u001b[0m,                               \u001b[31m│\u001b[0m\n",
            "\u001b[31m│\u001b[0m                                                                              \u001b[31m│\u001b[0m\n",
            "\u001b[31m│\u001b[0m \u001b[33m╭─\u001b[0m\u001b[33m────────────────────────────────\u001b[0m\u001b[33m locals \u001b[0m\u001b[33m────────────────────────────────\u001b[0m\u001b[33m─╮\u001b[0m \u001b[31m│\u001b[0m\n",
            "\u001b[31m│\u001b[0m \u001b[33m│\u001b[0m elicitation = \u001b[94mNone\u001b[0m                                                       \u001b[33m│\u001b[0m \u001b[31m│\u001b[0m\n",
            "\u001b[31m│\u001b[0m \u001b[33m│\u001b[0m       roots = \u001b[94mNone\u001b[0m                                                       \u001b[33m│\u001b[0m \u001b[31m│\u001b[0m\n",
            "\u001b[31m│\u001b[0m \u001b[33m│\u001b[0m    sampling = \u001b[94mNone\u001b[0m                                                       \u001b[33m│\u001b[0m \u001b[31m│\u001b[0m\n",
            "\u001b[31m│\u001b[0m \u001b[33m│\u001b[0m        self = \u001b[1m<\u001b[0m\u001b[1;95mmcp.client.session.ClientSession\u001b[0m\u001b[39m object at \u001b[0m               \u001b[33m│\u001b[0m \u001b[31m│\u001b[0m\n",
            "\u001b[31m│\u001b[0m \u001b[33m│\u001b[0m               \u001b[94m0x7ab2e3e58650\u001b[0m\u001b[1m>\u001b[0m                                            \u001b[33m│\u001b[0m \u001b[31m│\u001b[0m\n",
            "\u001b[31m│\u001b[0m \u001b[33m╰──────────────────────────────────────────────────────────────────────────╯\u001b[0m \u001b[31m│\u001b[0m\n",
            "\u001b[31m│\u001b[0m                                                                              \u001b[31m│\u001b[0m\n",
            "\u001b[31m│\u001b[0m \u001b[2;33m/usr/local/lib/python3.11/dist-packages/mcp/shared/\u001b[0m\u001b[1;33msession.py\u001b[0m:\u001b[94m286\u001b[0m in         \u001b[31m│\u001b[0m\n",
            "\u001b[31m│\u001b[0m \u001b[92msend_request\u001b[0m                                                                 \u001b[31m│\u001b[0m\n",
            "\u001b[31m│\u001b[0m                                                                              \u001b[31m│\u001b[0m\n",
            "\u001b[31m│\u001b[0m   \u001b[2m283 \u001b[0m\u001b[2m│   │   │   │   \u001b[0m)                                                      \u001b[31m│\u001b[0m\n",
            "\u001b[31m│\u001b[0m   \u001b[2m284 \u001b[0m\u001b[2m│   │   │   \u001b[0m                                                           \u001b[31m│\u001b[0m\n",
            "\u001b[31m│\u001b[0m   \u001b[2m285 \u001b[0m\u001b[2m│   │   │   \u001b[0m\u001b[94mif\u001b[0m \u001b[96misinstance\u001b[0m(response_or_error, JSONRPCError):            \u001b[31m│\u001b[0m\n",
            "\u001b[31m│\u001b[0m \u001b[31m❱ \u001b[0m286 \u001b[2m│   │   │   │   \u001b[0m\u001b[94mraise\u001b[0m McpError(response_or_error.error)                \u001b[31m│\u001b[0m\n",
            "\u001b[31m│\u001b[0m   \u001b[2m287 \u001b[0m\u001b[2m│   │   │   \u001b[0m\u001b[94melse\u001b[0m:                                                      \u001b[31m│\u001b[0m\n",
            "\u001b[31m│\u001b[0m   \u001b[2m288 \u001b[0m\u001b[2m│   │   │   │   \u001b[0m\u001b[94mreturn\u001b[0m result_type.model_validate(response_or_error.re \u001b[31m│\u001b[0m\n",
            "\u001b[31m│\u001b[0m   \u001b[2m289 \u001b[0m                                                                       \u001b[31m│\u001b[0m\n",
            "\u001b[31m│\u001b[0m                                                                              \u001b[31m│\u001b[0m\n",
            "\u001b[31m│\u001b[0m \u001b[33m╭─\u001b[0m\u001b[33m────────────────────────────────\u001b[0m\u001b[33m locals \u001b[0m\u001b[33m────────────────────────────────\u001b[0m\u001b[33m─╮\u001b[0m \u001b[31m│\u001b[0m\n",
            "\u001b[31m│\u001b[0m \u001b[33m│\u001b[0m              jsonrpc_request = \u001b[1;35mJSONRPCRequest\u001b[0m\u001b[1m(\u001b[0m                           \u001b[33m│\u001b[0m \u001b[31m│\u001b[0m\n",
            "\u001b[31m│\u001b[0m \u001b[33m│\u001b[0m                                \u001b[2m│   \u001b[0m\u001b[33mmethod\u001b[0m=\u001b[33m'initialize'\u001b[0m,                  \u001b[33m│\u001b[0m \u001b[31m│\u001b[0m\n",
            "\u001b[31m│\u001b[0m \u001b[33m│\u001b[0m                                \u001b[2m│   \u001b[0m\u001b[33mparams\u001b[0m=\u001b[1m{\u001b[0m                              \u001b[33m│\u001b[0m \u001b[31m│\u001b[0m\n",
            "\u001b[31m│\u001b[0m \u001b[33m│\u001b[0m                                \u001b[2m│   │   \u001b[0m\u001b[33m'protocolVersion'\u001b[0m: \u001b[33m'2025-06-18'\u001b[0m,  \u001b[33m│\u001b[0m \u001b[31m│\u001b[0m\n",
            "\u001b[31m│\u001b[0m \u001b[33m│\u001b[0m                                \u001b[2m│   │   \u001b[0m\u001b[33m'capabilities'\u001b[0m: \u001b[1m{\u001b[0m\u001b[1m}\u001b[0m,               \u001b[33m│\u001b[0m \u001b[31m│\u001b[0m\n",
            "\u001b[31m│\u001b[0m \u001b[33m│\u001b[0m                                \u001b[2m│   │   \u001b[0m\u001b[33m'clientInfo'\u001b[0m: \u001b[1m{\u001b[0m                   \u001b[33m│\u001b[0m \u001b[31m│\u001b[0m\n",
            "\u001b[31m│\u001b[0m \u001b[33m│\u001b[0m                                \u001b[2m│   │   │   \u001b[0m\u001b[33m'name'\u001b[0m:                       \u001b[33m│\u001b[0m \u001b[31m│\u001b[0m\n",
            "\u001b[31m│\u001b[0m \u001b[33m│\u001b[0m                                \u001b[33m'huggingface_hub.MCPClient'\u001b[0m,              \u001b[33m│\u001b[0m \u001b[31m│\u001b[0m\n",
            "\u001b[31m│\u001b[0m \u001b[33m│\u001b[0m                                \u001b[2m│   │   │   \u001b[0m\u001b[33m'version'\u001b[0m: \u001b[33m'0.34.3'\u001b[0m           \u001b[33m│\u001b[0m \u001b[31m│\u001b[0m\n",
            "\u001b[31m│\u001b[0m \u001b[33m│\u001b[0m                                \u001b[2m│   │   \u001b[0m\u001b[1m}\u001b[0m                                 \u001b[33m│\u001b[0m \u001b[31m│\u001b[0m\n",
            "\u001b[31m│\u001b[0m \u001b[33m│\u001b[0m                                \u001b[2m│   \u001b[0m\u001b[1m}\u001b[0m,                                    \u001b[33m│\u001b[0m \u001b[31m│\u001b[0m\n",
            "\u001b[31m│\u001b[0m \u001b[33m│\u001b[0m                                \u001b[2m│   \u001b[0m\u001b[33mjsonrpc\u001b[0m=\u001b[33m'2.0'\u001b[0m,                        \u001b[33m│\u001b[0m \u001b[31m│\u001b[0m\n",
            "\u001b[31m│\u001b[0m \u001b[33m│\u001b[0m                                \u001b[2m│   \u001b[0m\u001b[33mid\u001b[0m=\u001b[94m0\u001b[0m                                  \u001b[33m│\u001b[0m \u001b[31m│\u001b[0m\n",
            "\u001b[31m│\u001b[0m \u001b[33m│\u001b[0m                                \u001b[1m)\u001b[0m                                         \u001b[33m│\u001b[0m \u001b[31m│\u001b[0m\n",
            "\u001b[31m│\u001b[0m \u001b[33m│\u001b[0m                     metadata = \u001b[94mNone\u001b[0m                                      \u001b[33m│\u001b[0m \u001b[31m│\u001b[0m\n",
            "\u001b[31m│\u001b[0m \u001b[33m│\u001b[0m            progress_callback = \u001b[94mNone\u001b[0m                                      \u001b[33m│\u001b[0m \u001b[31m│\u001b[0m\n",
            "\u001b[31m│\u001b[0m \u001b[33m│\u001b[0m                      request = \u001b[1;35mClientRequest\u001b[0m\u001b[1m(\u001b[0m                            \u001b[33m│\u001b[0m \u001b[31m│\u001b[0m\n",
            "\u001b[31m│\u001b[0m \u001b[33m│\u001b[0m                                \u001b[2m│   \u001b[0m\u001b[33mroot\u001b[0m=\u001b[1;35mInitializeRequest\u001b[0m\u001b[1m(\u001b[0m               \u001b[33m│\u001b[0m \u001b[31m│\u001b[0m\n",
            "\u001b[31m│\u001b[0m \u001b[33m│\u001b[0m                                \u001b[2m│   │   \u001b[0m\u001b[33mmethod\u001b[0m=\u001b[33m'initialize'\u001b[0m,              \u001b[33m│\u001b[0m \u001b[31m│\u001b[0m\n",
            "\u001b[31m│\u001b[0m \u001b[33m│\u001b[0m                                \u001b[2m│   │   \u001b[0m\u001b[33mparams\u001b[0m=\u001b[1;35mInitializeRequestParams\u001b[0m\u001b[1m(\u001b[0m   \u001b[33m│\u001b[0m \u001b[31m│\u001b[0m\n",
            "\u001b[31m│\u001b[0m \u001b[33m│\u001b[0m                                \u001b[2m│   │   │   \u001b[0m\u001b[33mmeta\u001b[0m=\u001b[94mNone\u001b[0m,                    \u001b[33m│\u001b[0m \u001b[31m│\u001b[0m\n",
            "\u001b[31m│\u001b[0m \u001b[33m│\u001b[0m                                \u001b[2m│   │   │   \u001b[0m\u001b[33mprotocolVersion\u001b[0m=\u001b[33m'2025-06-18'\u001b[0m, \u001b[33m│\u001b[0m \u001b[31m│\u001b[0m\n",
            "\u001b[31m│\u001b[0m \u001b[33m│\u001b[0m                                \u001b[2m│   │   │   \u001b[0m                              \u001b[33m│\u001b[0m \u001b[31m│\u001b[0m\n",
            "\u001b[31m│\u001b[0m \u001b[33m│\u001b[0m                                \u001b[33mcapabilities\u001b[0m=\u001b[1;35mClientCapabilities\u001b[0m\u001b[1m(\u001b[0m          \u001b[33m│\u001b[0m \u001b[31m│\u001b[0m\n",
            "\u001b[31m│\u001b[0m \u001b[33m│\u001b[0m                                \u001b[2m│   │   │   │   \u001b[0m\u001b[33mexperimental\u001b[0m=\u001b[94mNone\u001b[0m,        \u001b[33m│\u001b[0m \u001b[31m│\u001b[0m\n",
            "\u001b[31m│\u001b[0m \u001b[33m│\u001b[0m                                \u001b[2m│   │   │   │   \u001b[0m\u001b[33msampling\u001b[0m=\u001b[94mNone\u001b[0m,            \u001b[33m│\u001b[0m \u001b[31m│\u001b[0m\n",
            "\u001b[31m│\u001b[0m \u001b[33m│\u001b[0m                                \u001b[2m│   │   │   │   \u001b[0m\u001b[33melicitation\u001b[0m=\u001b[94mNone\u001b[0m,         \u001b[33m│\u001b[0m \u001b[31m│\u001b[0m\n",
            "\u001b[31m│\u001b[0m \u001b[33m│\u001b[0m                                \u001b[2m│   │   │   │   \u001b[0m\u001b[33mroots\u001b[0m=\u001b[94mNone\u001b[0m                \u001b[33m│\u001b[0m \u001b[31m│\u001b[0m\n",
            "\u001b[31m│\u001b[0m \u001b[33m│\u001b[0m                                \u001b[2m│   │   │   \u001b[0m\u001b[1m)\u001b[0m,                            \u001b[33m│\u001b[0m \u001b[31m│\u001b[0m\n",
            "\u001b[31m│\u001b[0m \u001b[33m│\u001b[0m                                \u001b[2m│   │   │   \u001b[0m\u001b[33mclientInfo\u001b[0m=\u001b[1;35mImplementation\u001b[0m\u001b[1m(\u001b[0m    \u001b[33m│\u001b[0m \u001b[31m│\u001b[0m\n",
            "\u001b[31m│\u001b[0m \u001b[33m│\u001b[0m                                \u001b[2m│   │   │   │   \u001b[0m                          \u001b[33m│\u001b[0m \u001b[31m│\u001b[0m\n",
            "\u001b[31m│\u001b[0m \u001b[33m│\u001b[0m                                \u001b[33mname\u001b[0m=\u001b[33m'huggingface_hub.MCPClient'\u001b[0m,         \u001b[33m│\u001b[0m \u001b[31m│\u001b[0m\n",
            "\u001b[31m│\u001b[0m \u001b[33m│\u001b[0m                                \u001b[2m│   │   │   │   \u001b[0m\u001b[33mtitle\u001b[0m=\u001b[94mNone\u001b[0m,               \u001b[33m│\u001b[0m \u001b[31m│\u001b[0m\n",
            "\u001b[31m│\u001b[0m \u001b[33m│\u001b[0m                                \u001b[2m│   │   │   │   \u001b[0m\u001b[33mversion\u001b[0m=\u001b[33m'0.34.3'\u001b[0m          \u001b[33m│\u001b[0m \u001b[31m│\u001b[0m\n",
            "\u001b[31m│\u001b[0m \u001b[33m│\u001b[0m                                \u001b[2m│   │   │   \u001b[0m\u001b[1m)\u001b[0m                             \u001b[33m│\u001b[0m \u001b[31m│\u001b[0m\n",
            "\u001b[31m│\u001b[0m \u001b[33m│\u001b[0m                                \u001b[2m│   │   \u001b[0m\u001b[1m)\u001b[0m                                 \u001b[33m│\u001b[0m \u001b[31m│\u001b[0m\n",
            "\u001b[31m│\u001b[0m \u001b[33m│\u001b[0m                                \u001b[2m│   \u001b[0m\u001b[1m)\u001b[0m                                     \u001b[33m│\u001b[0m \u001b[31m│\u001b[0m\n",
            "\u001b[31m│\u001b[0m \u001b[33m│\u001b[0m                                \u001b[1m)\u001b[0m                                         \u001b[33m│\u001b[0m \u001b[31m│\u001b[0m\n",
            "\u001b[31m│\u001b[0m \u001b[33m│\u001b[0m                 request_data = \u001b[1m{\u001b[0m                                         \u001b[33m│\u001b[0m \u001b[31m│\u001b[0m\n",
            "\u001b[31m│\u001b[0m \u001b[33m│\u001b[0m                                \u001b[2m│   \u001b[0m\u001b[33m'method'\u001b[0m: \u001b[33m'initialize'\u001b[0m,               \u001b[33m│\u001b[0m \u001b[31m│\u001b[0m\n",
            "\u001b[31m│\u001b[0m \u001b[33m│\u001b[0m                                \u001b[2m│   \u001b[0m\u001b[33m'params'\u001b[0m: \u001b[1m{\u001b[0m                           \u001b[33m│\u001b[0m \u001b[31m│\u001b[0m\n",
            "\u001b[31m│\u001b[0m \u001b[33m│\u001b[0m                                \u001b[2m│   │   \u001b[0m\u001b[33m'protocolVersion'\u001b[0m: \u001b[33m'2025-06-18'\u001b[0m,  \u001b[33m│\u001b[0m \u001b[31m│\u001b[0m\n",
            "\u001b[31m│\u001b[0m \u001b[33m│\u001b[0m                                \u001b[2m│   │   \u001b[0m\u001b[33m'capabilities'\u001b[0m: \u001b[1m{\u001b[0m\u001b[1m}\u001b[0m,               \u001b[33m│\u001b[0m \u001b[31m│\u001b[0m\n",
            "\u001b[31m│\u001b[0m \u001b[33m│\u001b[0m                                \u001b[2m│   │   \u001b[0m\u001b[33m'clientInfo'\u001b[0m: \u001b[1m{\u001b[0m                   \u001b[33m│\u001b[0m \u001b[31m│\u001b[0m\n",
            "\u001b[31m│\u001b[0m \u001b[33m│\u001b[0m                                \u001b[2m│   │   │   \u001b[0m\u001b[33m'name'\u001b[0m:                       \u001b[33m│\u001b[0m \u001b[31m│\u001b[0m\n",
            "\u001b[31m│\u001b[0m \u001b[33m│\u001b[0m                                \u001b[33m'huggingface_hub.MCPClient'\u001b[0m,              \u001b[33m│\u001b[0m \u001b[31m│\u001b[0m\n",
            "\u001b[31m│\u001b[0m \u001b[33m│\u001b[0m                                \u001b[2m│   │   │   \u001b[0m\u001b[33m'version'\u001b[0m: \u001b[33m'0.34.3'\u001b[0m           \u001b[33m│\u001b[0m \u001b[31m│\u001b[0m\n",
            "\u001b[31m│\u001b[0m \u001b[33m│\u001b[0m                                \u001b[2m│   │   \u001b[0m\u001b[1m}\u001b[0m                                 \u001b[33m│\u001b[0m \u001b[31m│\u001b[0m\n",
            "\u001b[31m│\u001b[0m \u001b[33m│\u001b[0m                                \u001b[2m│   \u001b[0m\u001b[1m}\u001b[0m                                     \u001b[33m│\u001b[0m \u001b[31m│\u001b[0m\n",
            "\u001b[31m│\u001b[0m \u001b[33m│\u001b[0m                                \u001b[1m}\u001b[0m                                         \u001b[33m│\u001b[0m \u001b[31m│\u001b[0m\n",
            "\u001b[31m│\u001b[0m \u001b[33m│\u001b[0m                   request_id = \u001b[94m0\u001b[0m                                         \u001b[33m│\u001b[0m \u001b[31m│\u001b[0m\n",
            "\u001b[31m│\u001b[0m \u001b[33m│\u001b[0m request_read_timeout_seconds = \u001b[94mNone\u001b[0m                                      \u001b[33m│\u001b[0m \u001b[31m│\u001b[0m\n",
            "\u001b[31m│\u001b[0m \u001b[33m│\u001b[0m            response_or_error = \u001b[1;35mJSONRPCError\u001b[0m\u001b[1m(\u001b[0m                             \u001b[33m│\u001b[0m \u001b[31m│\u001b[0m\n",
            "\u001b[31m│\u001b[0m \u001b[33m│\u001b[0m                                \u001b[2m│   \u001b[0m\u001b[33mjsonrpc\u001b[0m=\u001b[33m'2.0'\u001b[0m,                        \u001b[33m│\u001b[0m \u001b[31m│\u001b[0m\n",
            "\u001b[31m│\u001b[0m \u001b[33m│\u001b[0m                                \u001b[2m│   \u001b[0m\u001b[33mid\u001b[0m=\u001b[94m0\u001b[0m,                                 \u001b[33m│\u001b[0m \u001b[31m│\u001b[0m\n",
            "\u001b[31m│\u001b[0m \u001b[33m│\u001b[0m                                \u001b[2m│   \u001b[0m\u001b[33merror\u001b[0m=\u001b[1;35mErrorData\u001b[0m\u001b[1m(\u001b[0m                      \u001b[33m│\u001b[0m \u001b[31m│\u001b[0m\n",
            "\u001b[31m│\u001b[0m \u001b[33m│\u001b[0m                                \u001b[2m│   │   \u001b[0m\u001b[33mcode\u001b[0m=\u001b[94m32600\u001b[0m,                       \u001b[33m│\u001b[0m \u001b[31m│\u001b[0m\n",
            "\u001b[31m│\u001b[0m \u001b[33m│\u001b[0m                                \u001b[2m│   │   \u001b[0m\u001b[33mmessage\u001b[0m=\u001b[33m'Session terminated'\u001b[0m,     \u001b[33m│\u001b[0m \u001b[31m│\u001b[0m\n",
            "\u001b[31m│\u001b[0m \u001b[33m│\u001b[0m                                \u001b[2m│   │   \u001b[0m\u001b[33mdata\u001b[0m=\u001b[94mNone\u001b[0m                         \u001b[33m│\u001b[0m \u001b[31m│\u001b[0m\n",
            "\u001b[31m│\u001b[0m \u001b[33m│\u001b[0m                                \u001b[2m│   \u001b[0m\u001b[1m)\u001b[0m                                     \u001b[33m│\u001b[0m \u001b[31m│\u001b[0m\n",
            "\u001b[31m│\u001b[0m \u001b[33m│\u001b[0m                                \u001b[1m)\u001b[0m                                         \u001b[33m│\u001b[0m \u001b[31m│\u001b[0m\n",
            "\u001b[31m│\u001b[0m \u001b[33m│\u001b[0m              response_stream = \u001b[1;35mMemoryObjectSendStream\u001b[0m\u001b[1m(\u001b[0m                   \u001b[33m│\u001b[0m \u001b[31m│\u001b[0m\n",
            "\u001b[31m│\u001b[0m \u001b[33m│\u001b[0m                                \u001b[2m│   \u001b[0m\u001b[33m_state\u001b[0m=\u001b[1;35mMemoryObjectStreamState\u001b[0m\u001b[1m(\u001b[0m       \u001b[33m│\u001b[0m \u001b[31m│\u001b[0m\n",
            "\u001b[31m│\u001b[0m \u001b[33m│\u001b[0m                                \u001b[2m│   │   \u001b[0m\u001b[33mmax_buffer_size\u001b[0m=\u001b[94m1\u001b[0m,                \u001b[33m│\u001b[0m \u001b[31m│\u001b[0m\n",
            "\u001b[31m│\u001b[0m \u001b[33m│\u001b[0m                                \u001b[2m│   │   \u001b[0m\u001b[33mbuffer\u001b[0m=\u001b[1;35mdeque\u001b[0m\u001b[1m(\u001b[0m\u001b[1m)\u001b[0m,                   \u001b[33m│\u001b[0m \u001b[31m│\u001b[0m\n",
            "\u001b[31m│\u001b[0m \u001b[33m│\u001b[0m                                \u001b[2m│   │   \u001b[0m\u001b[33mopen_send_channels\u001b[0m=\u001b[94m0\u001b[0m,             \u001b[33m│\u001b[0m \u001b[31m│\u001b[0m\n",
            "\u001b[31m│\u001b[0m \u001b[33m│\u001b[0m                                \u001b[2m│   │   \u001b[0m\u001b[33mopen_receive_channels\u001b[0m=\u001b[94m0\u001b[0m,          \u001b[33m│\u001b[0m \u001b[31m│\u001b[0m\n",
            "\u001b[31m│\u001b[0m \u001b[33m│\u001b[0m                                \u001b[2m│   │   \u001b[0m\u001b[33mwaiting_receivers\u001b[0m=\u001b[1;35mOrderedDict\u001b[0m\u001b[1m(\u001b[0m\u001b[1m)\u001b[0m,  \u001b[33m│\u001b[0m \u001b[31m│\u001b[0m\n",
            "\u001b[31m│\u001b[0m \u001b[33m│\u001b[0m                                \u001b[2m│   │   \u001b[0m\u001b[33mwaiting_senders\u001b[0m=\u001b[1;35mOrderedDict\u001b[0m\u001b[1m(\u001b[0m\u001b[1m)\u001b[0m     \u001b[33m│\u001b[0m \u001b[31m│\u001b[0m\n",
            "\u001b[31m│\u001b[0m \u001b[33m│\u001b[0m                                \u001b[2m│   \u001b[0m\u001b[1m)\u001b[0m,                                    \u001b[33m│\u001b[0m \u001b[31m│\u001b[0m\n",
            "\u001b[31m│\u001b[0m \u001b[33m│\u001b[0m                                \u001b[2m│   \u001b[0m\u001b[33m_closed\u001b[0m=\u001b[94mTrue\u001b[0m                          \u001b[33m│\u001b[0m \u001b[31m│\u001b[0m\n",
            "\u001b[31m│\u001b[0m \u001b[33m│\u001b[0m                                \u001b[1m)\u001b[0m                                         \u001b[33m│\u001b[0m \u001b[31m│\u001b[0m\n",
            "\u001b[31m│\u001b[0m \u001b[33m│\u001b[0m       response_stream_reader = \u001b[1;35mMemoryObjectReceiveStream\u001b[0m\u001b[1m(\u001b[0m                \u001b[33m│\u001b[0m \u001b[31m│\u001b[0m\n",
            "\u001b[31m│\u001b[0m \u001b[33m│\u001b[0m                                \u001b[2m│   \u001b[0m\u001b[33m_state\u001b[0m=\u001b[1;35mMemoryObjectStreamState\u001b[0m\u001b[1m(\u001b[0m       \u001b[33m│\u001b[0m \u001b[31m│\u001b[0m\n",
            "\u001b[31m│\u001b[0m \u001b[33m│\u001b[0m                                \u001b[2m│   │   \u001b[0m\u001b[33mmax_buffer_size\u001b[0m=\u001b[94m1\u001b[0m,                \u001b[33m│\u001b[0m \u001b[31m│\u001b[0m\n",
            "\u001b[31m│\u001b[0m \u001b[33m│\u001b[0m                                \u001b[2m│   │   \u001b[0m\u001b[33mbuffer\u001b[0m=\u001b[1;35mdeque\u001b[0m\u001b[1m(\u001b[0m\u001b[1m)\u001b[0m,                   \u001b[33m│\u001b[0m \u001b[31m│\u001b[0m\n",
            "\u001b[31m│\u001b[0m \u001b[33m│\u001b[0m                                \u001b[2m│   │   \u001b[0m\u001b[33mopen_send_channels\u001b[0m=\u001b[94m0\u001b[0m,             \u001b[33m│\u001b[0m \u001b[31m│\u001b[0m\n",
            "\u001b[31m│\u001b[0m \u001b[33m│\u001b[0m                                \u001b[2m│   │   \u001b[0m\u001b[33mopen_receive_channels\u001b[0m=\u001b[94m0\u001b[0m,          \u001b[33m│\u001b[0m \u001b[31m│\u001b[0m\n",
            "\u001b[31m│\u001b[0m \u001b[33m│\u001b[0m                                \u001b[2m│   │   \u001b[0m\u001b[33mwaiting_receivers\u001b[0m=\u001b[1;35mOrderedDict\u001b[0m\u001b[1m(\u001b[0m\u001b[1m)\u001b[0m,  \u001b[33m│\u001b[0m \u001b[31m│\u001b[0m\n",
            "\u001b[31m│\u001b[0m \u001b[33m│\u001b[0m                                \u001b[2m│   │   \u001b[0m\u001b[33mwaiting_senders\u001b[0m=\u001b[1;35mOrderedDict\u001b[0m\u001b[1m(\u001b[0m\u001b[1m)\u001b[0m     \u001b[33m│\u001b[0m \u001b[31m│\u001b[0m\n",
            "\u001b[31m│\u001b[0m \u001b[33m│\u001b[0m                                \u001b[2m│   \u001b[0m\u001b[1m)\u001b[0m,                                    \u001b[33m│\u001b[0m \u001b[31m│\u001b[0m\n",
            "\u001b[31m│\u001b[0m \u001b[33m│\u001b[0m                                \u001b[2m│   \u001b[0m\u001b[33m_closed\u001b[0m=\u001b[94mTrue\u001b[0m                          \u001b[33m│\u001b[0m \u001b[31m│\u001b[0m\n",
            "\u001b[31m│\u001b[0m \u001b[33m│\u001b[0m                                \u001b[1m)\u001b[0m                                         \u001b[33m│\u001b[0m \u001b[31m│\u001b[0m\n",
            "\u001b[31m│\u001b[0m \u001b[33m│\u001b[0m                         self = \u001b[1m<\u001b[0m\u001b[1;95mmcp.client.session.ClientSession\u001b[0m\u001b[39m object \u001b[0m \u001b[33m│\u001b[0m \u001b[31m│\u001b[0m\n",
            "\u001b[31m│\u001b[0m \u001b[33m│\u001b[0m                                \u001b[39mat \u001b[0m\u001b[94m0x7ab2e3e58650\u001b[0m\u001b[1m>\u001b[0m                        \u001b[33m│\u001b[0m \u001b[31m│\u001b[0m\n",
            "\u001b[31m│\u001b[0m \u001b[33m│\u001b[0m                      timeout = \u001b[94mNone\u001b[0m                                      \u001b[33m│\u001b[0m \u001b[31m│\u001b[0m\n",
            "\u001b[31m│\u001b[0m \u001b[33m╰──────────────────────────────────────────────────────────────────────────╯\u001b[0m \u001b[31m│\u001b[0m\n",
            "\u001b[31m╰──────────────────────────────────────────────────────────────────────────────╯\u001b[0m\n",
            "\u001b[1;91mMcpError: \u001b[0mSession terminated\n"
          ]
        }
      ]
    },
    {
      "source": [
        "{\n",
        "  \"model\": \"llama3.2:3b\",\n",
        "  \"endpointUrl\": \"http://localhost:11434/\",\n",
        "  \"servers\": [\n",
        "    {\n",
        "      \"type\": \"http\",\n",
        "      \"url\": \"https://evalstate-hf-mcp-server.hf.space/mcp\"\n",
        "    }\n",
        "  ]\n",
        "}"
      ],
      "cell_type": "code",
      "metadata": {
        "id": "ajinpWsZm4fI"
      },
      "execution_count": null,
      "outputs": []
    },
    {
      "cell_type": "code",
      "source": [
        "!tiny-agents run ./my-agent"
      ],
      "metadata": {
        "colab": {
          "base_uri": "https://localhost:8080/"
        },
        "id": "k3xCrrX9oTug",
        "outputId": "c5d8f2bf-a6df-4d60-8c51-eb6997a7acce"
      },
      "execution_count": 18,
      "outputs": [
        {
          "output_type": "stream",
          "name": "stdout",
          "text": [
            "\u001b[1;34mAgent loaded with \u001b[0m\u001b[1;34m10\u001b[0m\u001b[1;34m tools:\u001b[0m\n",
            "\u001b[34m • hf_whoami\u001b[0m\n",
            "\u001b[34m • space_search\u001b[0m\n",
            "\u001b[34m • model_search\u001b[0m\n",
            "\u001b[34m • model_details\u001b[0m\n",
            "\u001b[34m • paper_search\u001b[0m\n",
            "\u001b[34m • dataset_search\u001b[0m\n",
            "\u001b[34m • dataset_details\u001b[0m\n",
            "\u001b[34m • hf_doc_search\u001b[0m\n",
            "\u001b[34m • gr1_flux1_schnell_infer\u001b[0m\n",
            "\u001b[34m • gr2_0_abidlabs_easyghiblis_ndition_generate_image\u001b[0m\n",
            "»  hf_whoami\n",
            "\n",
            "\u001b[1;31mError during agent run: Cannot connect to host localhost:\u001b[0m\u001b[1;31m11434\u001b[0m\u001b[1;31m ssl:default \u001b[0m\n",
            "\u001b[1;31m[\u001b[0m\u001b[1;31mConnect call failed \u001b[0m\u001b[1;31m(\u001b[0m\u001b[1;31m'127.0.0.1'\u001b[0m\u001b[1;31m, \u001b[0m\u001b[1;31m11434\u001b[0m\u001b[1;31m)\u001b[0m\u001b[1;31m]\u001b[0m\n",
            "\u001b[1;31mTraceback \u001b[0m\u001b[1;31m(\u001b[0m\u001b[1;31mmost recent call last\u001b[0m\u001b[1;31m)\u001b[0m\u001b[1;31m:\u001b[0m\n",
            "\u001b[1;31m  File \u001b[0m\u001b[1;31m\"/usr/local/lib/python3.11/dist-packages/aiohttp/connector.py\"\u001b[0m\u001b[1;31m, line \u001b[0m\n",
            "\u001b[1;31m1268\u001b[0m\u001b[1;31m, in _wrap_create_connection\u001b[0m\n",
            "\u001b[1;31m    sock = await \u001b[0m\u001b[1;31maiohappyeyeballs.start_connection\u001b[0m\u001b[1;31m(\u001b[0m\n",
            "\u001b[1;31m           ^^^^^^^^^^^^^^^^^^^^^^^^^^^^^^^^^^^^^^^^\u001b[0m\n",
            "\u001b[1;31m  File \u001b[0m\u001b[1;31m\"/usr/local/lib/python3.11/dist-packages/aiohappyeyeballs/impl.py\"\u001b[0m\u001b[1;31m, line \u001b[0m\n",
            "\u001b[1;31m122\u001b[0m\u001b[1;31m, in start_connection\u001b[0m\n",
            "\u001b[1;31m    raise first_exception\u001b[0m\n",
            "\u001b[1;31m  File \u001b[0m\u001b[1;31m\"/usr/local/lib/python3.11/dist-packages/aiohappyeyeballs/impl.py\"\u001b[0m\u001b[1;31m, line \u001b[0m\n",
            "\u001b[1;31m73\u001b[0m\u001b[1;31m, in start_connection\u001b[0m\n",
            "\u001b[1;31m    sock = await \u001b[0m\u001b[1;31m_connect_sock\u001b[0m\u001b[1;31m(\u001b[0m\n",
            "\u001b[1;31m           ^^^^^^^^^^^^^^^^^^^^\u001b[0m\n",
            "\u001b[1;31m  File \u001b[0m\u001b[1;31m\"/usr/local/lib/python3.11/dist-packages/aiohappyeyeballs/impl.py\"\u001b[0m\u001b[1;31m, line \u001b[0m\n",
            "\u001b[1;31m208\u001b[0m\u001b[1;31m, in _connect_sock\u001b[0m\n",
            "\u001b[1;31m    await \u001b[0m\u001b[1;31mloop.sock_connect\u001b[0m\u001b[1;31m(\u001b[0m\u001b[1;31msock, address\u001b[0m\u001b[1;31m)\u001b[0m\n",
            "\u001b[1;31m  File \u001b[0m\u001b[1;31m\"/usr/lib/python3.11/asyncio/selector_events.py\"\u001b[0m\u001b[1;31m, line \u001b[0m\u001b[1;31m638\u001b[0m\u001b[1;31m, in \u001b[0m\n",
            "\u001b[1;31msock_connect\u001b[0m\n",
            "\u001b[1;31m    return await fut\u001b[0m\n",
            "\u001b[1;31m           ^^^^^^^^^\u001b[0m\n",
            "\u001b[1;31m  File \u001b[0m\u001b[1;31m\"/usr/lib/python3.11/asyncio/selector_events.py\"\u001b[0m\u001b[1;31m, line \u001b[0m\u001b[1;31m678\u001b[0m\u001b[1;31m, in \u001b[0m\n",
            "\u001b[1;31m_sock_connect_cb\u001b[0m\n",
            "\u001b[1;31m    raise \u001b[0m\u001b[1;31mOSError\u001b[0m\u001b[1;31m(\u001b[0m\u001b[1;31merr, f'Connect call failed \u001b[0m\u001b[1;31m{\u001b[0m\u001b[1;31maddress\u001b[0m\u001b[1;31m}\u001b[0m\u001b[1;31m'\u001b[0m\u001b[1;31m)\u001b[0m\n",
            "\u001b[1;31mConnectionRefusedError: \u001b[0m\u001b[1;31m[\u001b[0m\u001b[1;31mErrno \u001b[0m\u001b[1;31m111\u001b[0m\u001b[1;31m]\u001b[0m\u001b[1;31m Connect call failed \u001b[0m\u001b[1;31m(\u001b[0m\u001b[1;31m'127.0.0.1'\u001b[0m\u001b[1;31m, \u001b[0m\u001b[1;31m11434\u001b[0m\u001b[1;31m)\u001b[0m\n",
            "\n",
            "\u001b[1;31mThe above exception was the direct cause of the following exception:\u001b[0m\n",
            "\n",
            "\u001b[1;31mTraceback \u001b[0m\u001b[1;31m(\u001b[0m\u001b[1;31mmost recent call last\u001b[0m\u001b[1;31m)\u001b[0m\u001b[1;31m:\u001b[0m\n",
            "\u001b[1;31m  File \u001b[0m\n",
            "\u001b[1;31m\"/usr/local/lib/python3.11/dist-packages/huggingface_hub/inference/_mcp/cli.py\"\u001b[0m\u001b[1;31m,\u001b[0m\n",
            "\u001b[1;31mline \u001b[0m\u001b[1;31m178\u001b[0m\u001b[1;31m, in run_agent\u001b[0m\n",
            "\u001b[1;31m    async for chunk in \u001b[0m\u001b[1;31magent.run\u001b[0m\u001b[1;31m(\u001b[0m\u001b[1;31muser_input, \u001b[0m\u001b[1;31mabort_event\u001b[0m\u001b[1;31m=\u001b[0m\u001b[1;31mabort_event\u001b[0m\u001b[1;31m)\u001b[0m\u001b[1;31m:\u001b[0m\n",
            "\u001b[1;31m  File \u001b[0m\n",
            "\u001b[1;31m\"/usr/local/lib/python3.11/dist-packages/huggingface_hub/inference/_mcp/agent.py\u001b[0m\n",
            "\u001b[1;31m\"\u001b[0m\u001b[1;31m, line \u001b[0m\u001b[1;31m84\u001b[0m\u001b[1;31m, in run\u001b[0m\n",
            "\u001b[1;31m    async for item in \u001b[0m\u001b[1;31mself.process_single_turn_with_tools\u001b[0m\u001b[1;31m(\u001b[0m\n",
            "\u001b[1;31m  File \u001b[0m\n",
            "\u001b[1;31m\"/usr/local/lib/python3.11/dist-packages/huggingface_hub/inference/_mcp/mcp_clie\u001b[0m\n",
            "\u001b[1;31mnt.py\"\u001b[0m\u001b[1;31m, line \u001b[0m\u001b[1;31m261\u001b[0m\u001b[1;31m, in process_single_turn_with_tools\u001b[0m\n",
            "\u001b[1;31m    response = await \u001b[0m\u001b[1;31mself.client.chat.completions.create\u001b[0m\u001b[1;31m(\u001b[0m\n",
            "\u001b[1;31m               ^^^^^^^^^^^^^^^^^^^^^^^^^^^^^^^^^^^^^^^^^^\u001b[0m\n",
            "\u001b[1;31m  File \u001b[0m\n",
            "\u001b[1;31m\"/usr/local/lib/python3.11/dist-packages/huggingface_hub/inference/_generated/_a\u001b[0m\n",
            "\u001b[1;31msync_client.py\"\u001b[0m\u001b[1;31m, line \u001b[0m\u001b[1;31m962\u001b[0m\u001b[1;31m, in chat_completion\u001b[0m\n",
            "\u001b[1;31m    data = await \u001b[0m\u001b[1;31mself._inner_post\u001b[0m\u001b[1;31m(\u001b[0m\u001b[1;31mrequest_parameters, \u001b[0m\u001b[1;31mstream\u001b[0m\u001b[1;31m=\u001b[0m\u001b[1;31mstream\u001b[0m\u001b[1;31m)\u001b[0m\n",
            "\u001b[1;31m           ^^^^^^^^^^^^^^^^^^^^^^^^^^^^^^^^^^^^^^^^^^^^^^^^^^^^^^^^^\u001b[0m\n",
            "\u001b[1;31m  File \u001b[0m\n",
            "\u001b[1;31m\"/usr/local/lib/python3.11/dist-packages/huggingface_hub/inference/_generated/_a\u001b[0m\n",
            "\u001b[1;31msync_client.py\"\u001b[0m\u001b[1;31m, line \u001b[0m\u001b[1;31m265\u001b[0m\u001b[1;31m, in _inner_post\u001b[0m\n",
            "\u001b[1;31m    response = await \u001b[0m\u001b[1;31msession.post\u001b[0m\u001b[1;31m(\u001b[0m\n",
            "\u001b[1;31m               ^^^^^^^^^^^^^^^^^^^\u001b[0m\n",
            "\u001b[1;31m  File \u001b[0m\n",
            "\u001b[1;31m\"/usr/local/lib/python3.11/dist-packages/huggingface_hub/inference/_generated/_a\u001b[0m\n",
            "\u001b[1;31msync_client.py\"\u001b[0m\u001b[1;31m, line \u001b[0m\u001b[1;31m3377\u001b[0m\u001b[1;31m, in _request\u001b[0m\n",
            "\u001b[1;31m    response = await \u001b[0m\u001b[1;31msession._wrapped_request\u001b[0m\u001b[1;31m(\u001b[0m\u001b[1;31mmethod, url, **kwargs\u001b[0m\u001b[1;31m)\u001b[0m\n",
            "\u001b[1;31m               ^^^^^^^^^^^^^^^^^^^^^^^^^^^^^^^^^^^^^^^^^^^^^^^^^^^^^\u001b[0m\n",
            "\u001b[1;31m  File \u001b[0m\u001b[1;31m\"/usr/local/lib/python3.11/dist-packages/aiohttp/client.py\"\u001b[0m\u001b[1;31m, line \u001b[0m\u001b[1;31m770\u001b[0m\u001b[1;31m, in\u001b[0m\n",
            "\u001b[1;31m_request\u001b[0m\n",
            "\u001b[1;31m    resp = await \u001b[0m\u001b[1;31mhandler\u001b[0m\u001b[1;31m(\u001b[0m\u001b[1;31mreq\u001b[0m\u001b[1;31m)\u001b[0m\n",
            "\u001b[1;31m           ^^^^^^^^^^^^^^^^^^\u001b[0m\n",
            "\u001b[1;31m  File \u001b[0m\u001b[1;31m\"/usr/local/lib/python3.11/dist-packages/aiohttp/client.py\"\u001b[0m\u001b[1;31m, line \u001b[0m\u001b[1;31m725\u001b[0m\u001b[1;31m, in\u001b[0m\n",
            "\u001b[1;31m_connect_and_send_request\u001b[0m\n",
            "\u001b[1;31m    conn = await \u001b[0m\u001b[1;31mself._connector.connect\u001b[0m\u001b[1;31m(\u001b[0m\n",
            "\u001b[1;31m           ^^^^^^^^^^^^^^^^^^^^^^^^^^^^^^\u001b[0m\n",
            "\u001b[1;31m  File \u001b[0m\u001b[1;31m\"/usr/local/lib/python3.11/dist-packages/aiohttp/connector.py\"\u001b[0m\u001b[1;31m, line \u001b[0m\u001b[1;31m642\u001b[0m\u001b[1;31m,\u001b[0m\n",
            "\u001b[1;31min connect\u001b[0m\n",
            "\u001b[1;31m    proto = await \u001b[0m\u001b[1;31mself._create_connection\u001b[0m\u001b[1;31m(\u001b[0m\u001b[1;31mreq, traces, timeout\u001b[0m\u001b[1;31m)\u001b[0m\n",
            "\u001b[1;31m            ^^^^^^^^^^^^^^^^^^^^^^^^^^^^^^^^^^^^^^^^^^^^^^^^^^^\u001b[0m\n",
            "\u001b[1;31m  File \u001b[0m\u001b[1;31m\"/usr/local/lib/python3.11/dist-packages/aiohttp/connector.py\"\u001b[0m\u001b[1;31m, line \u001b[0m\n",
            "\u001b[1;31m1209\u001b[0m\u001b[1;31m, in _create_connection\u001b[0m\n",
            "\u001b[1;31m    _, proto = await \u001b[0m\u001b[1;31mself._create_direct_connection\u001b[0m\u001b[1;31m(\u001b[0m\u001b[1;31mreq, traces, timeout\u001b[0m\u001b[1;31m)\u001b[0m\n",
            "\u001b[1;31m               ^^^^^^^^^^^^^^^^^^^^^^^^^^^^^^^^^^^^^^^^^^^^^^^^^^^^^^^^^^\u001b[0m\n",
            "\u001b[1;31m  File \u001b[0m\u001b[1;31m\"/usr/local/lib/python3.11/dist-packages/aiohttp/connector.py\"\u001b[0m\u001b[1;31m, line \u001b[0m\n",
            "\u001b[1;31m1581\u001b[0m\u001b[1;31m, in _create_direct_connection\u001b[0m\n",
            "\u001b[1;31m    raise last_exc\u001b[0m\n",
            "\u001b[1;31m  File \u001b[0m\u001b[1;31m\"/usr/local/lib/python3.11/dist-packages/aiohttp/connector.py\"\u001b[0m\u001b[1;31m, line \u001b[0m\n",
            "\u001b[1;31m1550\u001b[0m\u001b[1;31m, in _create_direct_connection\u001b[0m\n",
            "\u001b[1;31m    transp, proto = await \u001b[0m\u001b[1;31mself._wrap_create_connection\u001b[0m\u001b[1;31m(\u001b[0m\n",
            "\u001b[1;31m                    ^^^^^^^^^^^^^^^^^^^^^^^^^^^^^^^^^^^\u001b[0m\n",
            "\u001b[1;31m  File \u001b[0m\u001b[1;31m\"/usr/local/lib/python3.11/dist-packages/aiohttp/connector.py\"\u001b[0m\u001b[1;31m, line \u001b[0m\n",
            "\u001b[1;31m1291\u001b[0m\u001b[1;31m, in _wrap_create_connection\u001b[0m\n",
            "\u001b[1;31m    raise \u001b[0m\u001b[1;31mclient_error\u001b[0m\u001b[1;31m(\u001b[0m\u001b[1;31mreq.connection_key, exc\u001b[0m\u001b[1;31m)\u001b[0m\u001b[1;31m from exc\u001b[0m\n",
            "\u001b[1;31maiohttp.client_exceptions.ClientConnectorError: Cannot connect to host \u001b[0m\n",
            "\u001b[1;31mlocalhost:\u001b[0m\u001b[1;31m11434\u001b[0m\u001b[1;31m ssl:default \u001b[0m\u001b[1;31m[\u001b[0m\u001b[1;31mConnect call failed \u001b[0m\u001b[1;31m(\u001b[0m\u001b[1;31m'127.0.0.1'\u001b[0m\u001b[1;31m, \u001b[0m\u001b[1;31m11434\u001b[0m\u001b[1;31m)\u001b[0m\u001b[1;31m]\u001b[0m\n",
            "\n",
            "»  \n",
            "\u001b[31mInterrupted. Press Ctrl+C again to quit.\u001b[0m\n",
            "\n",
            "\u001b[31mExiting\u001b[0m\u001b[31m...\u001b[0m\n",
            "\n"
          ]
        }
      ]
    },
    {
      "cell_type": "code",
      "source": [
        "!tiny-agents run ./my-agent"
      ],
      "metadata": {
        "colab": {
          "base_uri": "https://localhost:8080/"
        },
        "id": "e9ygWWjYm_U5",
        "outputId": "6cd31e1d-1337-434e-a6e9-b6ccd742a7bb"
      },
      "execution_count": 13,
      "outputs": [
        {
          "output_type": "stream",
          "name": "stdout",
          "text": [
            "\u001b[1;34mAgent loaded with \u001b[0m\u001b[1;34m10\u001b[0m\u001b[1;34m tools:\u001b[0m\n",
            "\u001b[34m • hf_whoami\u001b[0m\n",
            "\u001b[34m • space_search\u001b[0m\n",
            "\u001b[34m • model_search\u001b[0m\n",
            "\u001b[34m • model_details\u001b[0m\n",
            "\u001b[34m • paper_search\u001b[0m\n",
            "\u001b[34m • dataset_search\u001b[0m\n",
            "\u001b[34m • dataset_details\u001b[0m\n",
            "\u001b[34m • hf_doc_search\u001b[0m\n",
            "\u001b[34m • gr1_flux1_schnell_infer\u001b[0m\n",
            "\u001b[34m • gr2_0_abidlabs_easyghiblis_ndition_generate_image\u001b[0m\n",
            "»  hi\n",
            "\n",
            "\u001b[1;31mError during agent run: Repo id must use alphanumeric chars or \u001b[0m\u001b[1;31m'-'\u001b[0m\u001b[1;31m, \u001b[0m\u001b[1;31m'_'\u001b[0m\u001b[1;31m, \u001b[0m\u001b[1;31m'.'\u001b[0m\u001b[1;31m, \u001b[0m\n",
            "\u001b[1;31m'--'\u001b[0m\u001b[1;31m and \u001b[0m\u001b[1;31m'..'\u001b[0m\u001b[1;31m are forbidden, \u001b[0m\u001b[1;31m'-'\u001b[0m\u001b[1;31m and \u001b[0m\u001b[1;31m'.'\u001b[0m\u001b[1;31m cannot start or end the name, max \u001b[0m\n",
            "\u001b[1;31mlength is \u001b[0m\u001b[1;31m96\u001b[0m\u001b[1;31m: \u001b[0m\u001b[1;31m'llama3.2:3b'\u001b[0m\u001b[1;31m.\u001b[0m\n",
            "\u001b[1;31mTraceback \u001b[0m\u001b[1;31m(\u001b[0m\u001b[1;31mmost recent call last\u001b[0m\u001b[1;31m)\u001b[0m\u001b[1;31m:\u001b[0m\n",
            "\u001b[1;31m  File \u001b[0m\n",
            "\u001b[1;31m\"/usr/local/lib/python3.11/dist-packages/huggingface_hub/inference/_mcp/cli.py\"\u001b[0m\u001b[1;31m,\u001b[0m\n",
            "\u001b[1;31mline \u001b[0m\u001b[1;31m178\u001b[0m\u001b[1;31m, in run_agent\u001b[0m\n",
            "\u001b[1;31m    async for chunk in \u001b[0m\u001b[1;31magent.run\u001b[0m\u001b[1;31m(\u001b[0m\u001b[1;31muser_input, \u001b[0m\u001b[1;31mabort_event\u001b[0m\u001b[1;31m=\u001b[0m\u001b[1;31mabort_event\u001b[0m\u001b[1;31m)\u001b[0m\u001b[1;31m:\u001b[0m\n",
            "\u001b[1;31m  File \u001b[0m\n",
            "\u001b[1;31m\"/usr/local/lib/python3.11/dist-packages/huggingface_hub/inference/_mcp/agent.py\u001b[0m\n",
            "\u001b[1;31m\"\u001b[0m\u001b[1;31m, line \u001b[0m\u001b[1;31m84\u001b[0m\u001b[1;31m, in run\u001b[0m\n",
            "\u001b[1;31m    async for item in \u001b[0m\u001b[1;31mself.process_single_turn_with_tools\u001b[0m\u001b[1;31m(\u001b[0m\n",
            "\u001b[1;31m  File \u001b[0m\n",
            "\u001b[1;31m\"/usr/local/lib/python3.11/dist-packages/huggingface_hub/inference/_mcp/mcp_clie\u001b[0m\n",
            "\u001b[1;31mnt.py\"\u001b[0m\u001b[1;31m, line \u001b[0m\u001b[1;31m261\u001b[0m\u001b[1;31m, in process_single_turn_with_tools\u001b[0m\n",
            "\u001b[1;31m    response = await \u001b[0m\u001b[1;31mself.client.chat.completions.create\u001b[0m\u001b[1;31m(\u001b[0m\n",
            "\u001b[1;31m               ^^^^^^^^^^^^^^^^^^^^^^^^^^^^^^^^^^^^^^^^^^\u001b[0m\n",
            "\u001b[1;31m  File \u001b[0m\n",
            "\u001b[1;31m\"/usr/local/lib/python3.11/dist-packages/huggingface_hub/inference/_generated/_a\u001b[0m\n",
            "\u001b[1;31msync_client.py\"\u001b[0m\u001b[1;31m, line \u001b[0m\u001b[1;31m925\u001b[0m\u001b[1;31m, in chat_completion\u001b[0m\n",
            "\u001b[1;31m    provider_helper = \u001b[0m\u001b[1;31mget_provider_helper\u001b[0m\u001b[1;31m(\u001b[0m\n",
            "\u001b[1;31m                      ^^^^^^^^^^^^^^^^^^^^\u001b[0m\n",
            "\u001b[1;31m  File \u001b[0m\n",
            "\u001b[1;31m\"/usr/local/lib/python3.11/dist-packages/huggingface_hub/inference/_providers/__\u001b[0m\n",
            "\u001b[1;31minit__.py\"\u001b[0m\u001b[1;31m, line \u001b[0m\u001b[1;31m193\u001b[0m\u001b[1;31m, in get_provider_helper\u001b[0m\n",
            "\u001b[1;31m    provider_mapping = \u001b[0m\u001b[1;31m_fetch_inference_provider_mapping\u001b[0m\u001b[1;31m(\u001b[0m\u001b[1;31mmodel\u001b[0m\u001b[1;31m)\u001b[0m\n",
            "\u001b[1;31m                       ^^^^^^^^^^^^^^^^^^^^^^^^^^^^^^^^^^^^^^^^\u001b[0m\n",
            "\u001b[1;31m  File \u001b[0m\n",
            "\u001b[1;31m\"/usr/local/lib/python3.11/dist-packages/huggingface_hub/inference/_providers/_c\u001b[0m\n",
            "\u001b[1;31mommon.py\"\u001b[0m\u001b[1;31m, line \u001b[0m\u001b[1;31m280\u001b[0m\u001b[1;31m, in _fetch_inference_provider_mapping\u001b[0m\n",
            "\u001b[1;31m    info = \u001b[0m\u001b[1;31mHfApi\u001b[0m\u001b[1;31m(\u001b[0m\u001b[1;31m)\u001b[0m\u001b[1;31m.model_info\u001b[0m\u001b[1;31m(\u001b[0m\u001b[1;31mmodel, \u001b[0m\u001b[1;31mexpand\u001b[0m\u001b[1;31m=\u001b[0m\u001b[1;31m[\u001b[0m\u001b[1;31m\"inferenceProviderMapping\"\u001b[0m\u001b[1;31m]\u001b[0m\u001b[1;31m)\u001b[0m\n",
            "\u001b[1;31m           ^^^^^^^^^^^^^^^^^^^^^^^^^^^^^^^^^^^^^^^^^^^^^^^^^^^^^^^^^^^^^^\u001b[0m\n",
            "\u001b[1;31m  File \u001b[0m\n",
            "\u001b[1;31m\"/usr/local/lib/python3.11/dist-packages/huggingface_hub/utils/_validators.py\"\u001b[0m\u001b[1;31m, \u001b[0m\n",
            "\u001b[1;31mline \u001b[0m\u001b[1;31m106\u001b[0m\u001b[1;31m, in _inner_fn\u001b[0m\n",
            "\u001b[1;31m    \u001b[0m\u001b[1;31mvalidate_repo_id\u001b[0m\u001b[1;31m(\u001b[0m\u001b[1;31marg_value\u001b[0m\u001b[1;31m)\u001b[0m\n",
            "\u001b[1;31m  File \u001b[0m\n",
            "\u001b[1;31m\"/usr/local/lib/python3.11/dist-packages/huggingface_hub/utils/_validators.py\"\u001b[0m\u001b[1;31m, \u001b[0m\n",
            "\u001b[1;31mline \u001b[0m\u001b[1;31m160\u001b[0m\u001b[1;31m, in validate_repo_id\u001b[0m\n",
            "\u001b[1;31m    raise \u001b[0m\u001b[1;31mHFValidationError\u001b[0m\u001b[1;31m(\u001b[0m\n",
            "\u001b[1;31mhuggingface_hub.errors.HFValidationError: Repo id must use alphanumeric chars or\u001b[0m\n",
            "\u001b[1;31m'-'\u001b[0m\u001b[1;31m, \u001b[0m\u001b[1;31m'_'\u001b[0m\u001b[1;31m, \u001b[0m\u001b[1;31m'.'\u001b[0m\u001b[1;31m, \u001b[0m\u001b[1;31m'--'\u001b[0m\u001b[1;31m and \u001b[0m\u001b[1;31m'..'\u001b[0m\u001b[1;31m are forbidden, \u001b[0m\u001b[1;31m'-'\u001b[0m\u001b[1;31m and \u001b[0m\u001b[1;31m'.'\u001b[0m\u001b[1;31m cannot start or end the \u001b[0m\n",
            "\u001b[1;31mname, max length is \u001b[0m\u001b[1;31m96\u001b[0m\u001b[1;31m: \u001b[0m\u001b[1;31m'llama3.2:3b'\u001b[0m\u001b[1;31m.\u001b[0m\n",
            "\n",
            "»  \n",
            "\u001b[31mInterrupted. Press Ctrl+C again to quit.\u001b[0m\n",
            "\n",
            "\u001b[31mExiting\u001b[0m\u001b[31m...\u001b[0m\n",
            "\n"
          ]
        }
      ]
    },
    {
      "cell_type": "code",
      "source": [
        "!tiny-agents run ./my-agent"
      ],
      "metadata": {
        "colab": {
          "base_uri": "https://localhost:8080/"
        },
        "id": "ood-huvsoCT3",
        "outputId": "04765cb4-9c76-453b-ec28-ccd62de95fbe"
      },
      "execution_count": 17,
      "outputs": [
        {
          "output_type": "stream",
          "name": "stdout",
          "text": [
            "\u001b[1;34mAgent loaded with \u001b[0m\u001b[1;34m10\u001b[0m\u001b[1;34m tools:\u001b[0m\n",
            "\u001b[34m • hf_whoami\u001b[0m\n",
            "\u001b[34m • space_search\u001b[0m\n",
            "\u001b[34m • model_search\u001b[0m\n",
            "\u001b[34m • model_details\u001b[0m\n",
            "\u001b[34m • paper_search\u001b[0m\n",
            "\u001b[34m • dataset_search\u001b[0m\n",
            "\u001b[34m • dataset_details\u001b[0m\n",
            "\u001b[34m • hf_doc_search\u001b[0m\n",
            "\u001b[34m • gr1_flux1_schnell_infer\u001b[0m\n",
            "\u001b[34m • gr2_0_abidlabs_easyghiblis_ndition_generate_image\u001b[0m\n",
            "»  hf_whoami\n",
            "\n",
            "\u001b[1;31mError during agent run: Repo id must use alphanumeric chars or \u001b[0m\u001b[1;31m'-'\u001b[0m\u001b[1;31m, \u001b[0m\u001b[1;31m'_'\u001b[0m\u001b[1;31m, \u001b[0m\u001b[1;31m'.'\u001b[0m\u001b[1;31m, \u001b[0m\n",
            "\u001b[1;31m'--'\u001b[0m\u001b[1;31m and \u001b[0m\u001b[1;31m'..'\u001b[0m\u001b[1;31m are forbidden, \u001b[0m\u001b[1;31m'-'\u001b[0m\u001b[1;31m and \u001b[0m\u001b[1;31m'.'\u001b[0m\u001b[1;31m cannot start or end the name, max \u001b[0m\n",
            "\u001b[1;31mlength is \u001b[0m\u001b[1;31m96\u001b[0m\u001b[1;31m: \u001b[0m\u001b[1;31m'llama3.2:3b'\u001b[0m\u001b[1;31m.\u001b[0m\n",
            "\u001b[1;31mTraceback \u001b[0m\u001b[1;31m(\u001b[0m\u001b[1;31mmost recent call last\u001b[0m\u001b[1;31m)\u001b[0m\u001b[1;31m:\u001b[0m\n",
            "\u001b[1;31m  File \u001b[0m\n",
            "\u001b[1;31m\"/usr/local/lib/python3.11/dist-packages/huggingface_hub/inference/_mcp/cli.py\"\u001b[0m\u001b[1;31m,\u001b[0m\n",
            "\u001b[1;31mline \u001b[0m\u001b[1;31m178\u001b[0m\u001b[1;31m, in run_agent\u001b[0m\n",
            "\u001b[1;31m    async for chunk in \u001b[0m\u001b[1;31magent.run\u001b[0m\u001b[1;31m(\u001b[0m\u001b[1;31muser_input, \u001b[0m\u001b[1;31mabort_event\u001b[0m\u001b[1;31m=\u001b[0m\u001b[1;31mabort_event\u001b[0m\u001b[1;31m)\u001b[0m\u001b[1;31m:\u001b[0m\n",
            "\u001b[1;31m  File \u001b[0m\n",
            "\u001b[1;31m\"/usr/local/lib/python3.11/dist-packages/huggingface_hub/inference/_mcp/agent.py\u001b[0m\n",
            "\u001b[1;31m\"\u001b[0m\u001b[1;31m, line \u001b[0m\u001b[1;31m84\u001b[0m\u001b[1;31m, in run\u001b[0m\n",
            "\u001b[1;31m    async for item in \u001b[0m\u001b[1;31mself.process_single_turn_with_tools\u001b[0m\u001b[1;31m(\u001b[0m\n",
            "\u001b[1;31m  File \u001b[0m\n",
            "\u001b[1;31m\"/usr/local/lib/python3.11/dist-packages/huggingface_hub/inference/_mcp/mcp_clie\u001b[0m\n",
            "\u001b[1;31mnt.py\"\u001b[0m\u001b[1;31m, line \u001b[0m\u001b[1;31m261\u001b[0m\u001b[1;31m, in process_single_turn_with_tools\u001b[0m\n",
            "\u001b[1;31m    response = await \u001b[0m\u001b[1;31mself.client.chat.completions.create\u001b[0m\u001b[1;31m(\u001b[0m\n",
            "\u001b[1;31m               ^^^^^^^^^^^^^^^^^^^^^^^^^^^^^^^^^^^^^^^^^^\u001b[0m\n",
            "\u001b[1;31m  File \u001b[0m\n",
            "\u001b[1;31m\"/usr/local/lib/python3.11/dist-packages/huggingface_hub/inference/_generated/_a\u001b[0m\n",
            "\u001b[1;31msync_client.py\"\u001b[0m\u001b[1;31m, line \u001b[0m\u001b[1;31m925\u001b[0m\u001b[1;31m, in chat_completion\u001b[0m\n",
            "\u001b[1;31m    provider_helper = \u001b[0m\u001b[1;31mget_provider_helper\u001b[0m\u001b[1;31m(\u001b[0m\n",
            "\u001b[1;31m                      ^^^^^^^^^^^^^^^^^^^^\u001b[0m\n",
            "\u001b[1;31m  File \u001b[0m\n",
            "\u001b[1;31m\"/usr/local/lib/python3.11/dist-packages/huggingface_hub/inference/_providers/__\u001b[0m\n",
            "\u001b[1;31minit__.py\"\u001b[0m\u001b[1;31m, line \u001b[0m\u001b[1;31m193\u001b[0m\u001b[1;31m, in get_provider_helper\u001b[0m\n",
            "\u001b[1;31m    provider_mapping = \u001b[0m\u001b[1;31m_fetch_inference_provider_mapping\u001b[0m\u001b[1;31m(\u001b[0m\u001b[1;31mmodel\u001b[0m\u001b[1;31m)\u001b[0m\n",
            "\u001b[1;31m                       ^^^^^^^^^^^^^^^^^^^^^^^^^^^^^^^^^^^^^^^^\u001b[0m\n",
            "\u001b[1;31m  File \u001b[0m\n",
            "\u001b[1;31m\"/usr/local/lib/python3.11/dist-packages/huggingface_hub/inference/_providers/_c\u001b[0m\n",
            "\u001b[1;31mommon.py\"\u001b[0m\u001b[1;31m, line \u001b[0m\u001b[1;31m280\u001b[0m\u001b[1;31m, in _fetch_inference_provider_mapping\u001b[0m\n",
            "\u001b[1;31m    info = \u001b[0m\u001b[1;31mHfApi\u001b[0m\u001b[1;31m(\u001b[0m\u001b[1;31m)\u001b[0m\u001b[1;31m.model_info\u001b[0m\u001b[1;31m(\u001b[0m\u001b[1;31mmodel, \u001b[0m\u001b[1;31mexpand\u001b[0m\u001b[1;31m=\u001b[0m\u001b[1;31m[\u001b[0m\u001b[1;31m\"inferenceProviderMapping\"\u001b[0m\u001b[1;31m]\u001b[0m\u001b[1;31m)\u001b[0m\n",
            "\u001b[1;31m           ^^^^^^^^^^^^^^^^^^^^^^^^^^^^^^^^^^^^^^^^^^^^^^^^^^^^^^^^^^^^^^\u001b[0m\n",
            "\u001b[1;31m  File \u001b[0m\n",
            "\u001b[1;31m\"/usr/local/lib/python3.11/dist-packages/huggingface_hub/utils/_validators.py\"\u001b[0m\u001b[1;31m, \u001b[0m\n",
            "\u001b[1;31mline \u001b[0m\u001b[1;31m106\u001b[0m\u001b[1;31m, in _inner_fn\u001b[0m\n",
            "\u001b[1;31m    \u001b[0m\u001b[1;31mvalidate_repo_id\u001b[0m\u001b[1;31m(\u001b[0m\u001b[1;31marg_value\u001b[0m\u001b[1;31m)\u001b[0m\n",
            "\u001b[1;31m  File \u001b[0m\n",
            "\u001b[1;31m\"/usr/local/lib/python3.11/dist-packages/huggingface_hub/utils/_validators.py\"\u001b[0m\u001b[1;31m, \u001b[0m\n",
            "\u001b[1;31mline \u001b[0m\u001b[1;31m160\u001b[0m\u001b[1;31m, in validate_repo_id\u001b[0m\n",
            "\u001b[1;31m    raise \u001b[0m\u001b[1;31mHFValidationError\u001b[0m\u001b[1;31m(\u001b[0m\n",
            "\u001b[1;31mhuggingface_hub.errors.HFValidationError: Repo id must use alphanumeric chars or\u001b[0m\n",
            "\u001b[1;31m'-'\u001b[0m\u001b[1;31m, \u001b[0m\u001b[1;31m'_'\u001b[0m\u001b[1;31m, \u001b[0m\u001b[1;31m'.'\u001b[0m\u001b[1;31m, \u001b[0m\u001b[1;31m'--'\u001b[0m\u001b[1;31m and \u001b[0m\u001b[1;31m'..'\u001b[0m\u001b[1;31m are forbidden, \u001b[0m\u001b[1;31m'-'\u001b[0m\u001b[1;31m and \u001b[0m\u001b[1;31m'.'\u001b[0m\u001b[1;31m cannot start or end the \u001b[0m\n",
            "\u001b[1;31mname, max length is \u001b[0m\u001b[1;31m96\u001b[0m\u001b[1;31m: \u001b[0m\u001b[1;31m'llama3.2:3b'\u001b[0m\u001b[1;31m.\u001b[0m\n",
            "\n",
            "»  \n",
            "\u001b[31mInterrupted. Press Ctrl+C again to quit.\u001b[0m\n",
            "\n",
            "\u001b[31mExiting\u001b[0m\u001b[31m...\u001b[0m\n",
            "\n"
          ]
        }
      ]
    },
    {
      "cell_type": "code",
      "source": [],
      "metadata": {
        "id": "2sAylIlNm_vm"
      },
      "execution_count": null,
      "outputs": []
    },
    {
      "cell_type": "code",
      "metadata": {
        "colab": {
          "base_uri": "https://localhost:8080/"
        },
        "id": "ce3c87af",
        "outputId": "d34540f3-c8e7-4e2a-8426-7b0e3d083770"
      },
      "source": [
        "!nohup ollama serve &\n",
        "!ollama list"
      ],
      "execution_count": 16,
      "outputs": [
        {
          "output_type": "stream",
          "name": "stdout",
          "text": [
            "nohup: appending output to 'nohup.out'\n",
            "NAME             ID              SIZE      MODIFIED       \n",
            "llama3.2:3b      a80c4f17acd5    2.0 GB    28 minutes ago    \n",
            "llama2:latest    78e26419b446    3.8 GB    5 hours ago       \n"
          ]
        }
      ]
    },
    {
      "cell_type": "code",
      "metadata": {
        "colab": {
          "base_uri": "https://localhost:8080/",
          "height": 384
        },
        "id": "daf94446",
        "outputId": "46abf32b-dd3c-4979-9d99-e2b0d0c6b70e"
      },
      "source": [
        "import asyncio\n",
        "from tinyagent import TinyCodeAgent\n",
        "from tinyagent.llm_client import LLMClient # Import the base LLMClient class\n",
        "from textwrap import dedent\n",
        "\n",
        "# Re-define the OllamaClient class\n",
        "class OllamaClient(LLMClient):\n",
        "    async def chat_completion(self, messages, stream=False, **kwargs):\n",
        "        # Simplified interaction - you might need to adjust this based on Ollama's API\n",
        "        # For chat, Ollama's API is at /api/chat\n",
        "        url = f\"{self.base_url}/api/chat\"\n",
        "        headers = {\"Content-Type\": \"application/json\"}\n",
        "\n",
        "        # Convert messages to Ollama's chat format\n",
        "        ollama_messages = []\n",
        "        for msg in messages:\n",
        "            ollama_messages.append({\"role\": msg['role'], \"content\": msg['content']})\n",
        "\n",
        "        payload = {\n",
        "            \"model\": self.model_name,\n",
        "            \"messages\": ollama_messages,\n",
        "            \"stream\": stream, # Respect the stream parameter\n",
        "            **kwargs # Include any other parameters passed to the method\n",
        "        }\n",
        "\n",
        "        async with self._client.post(url, json=payload, headers=headers) as response:\n",
        "             # Raise an exception for bad status codes (4xx or 5xx)\n",
        "            response.raise_for_status()\n",
        "\n",
        "            if stream:\n",
        "                async for line in response.content.iter_any():\n",
        "                     # Assuming Ollama streams JSON objects line by line\n",
        "                    if line:\n",
        "                        try:\n",
        "                            data = json.loads(line)\n",
        "                            # Yield chunks that look like OpenAI streaming response chunks\n",
        "                            if 'message' in data and 'content' in data['message']:\n",
        "                                yield {\"choices\": [{\"delta\": {\"content\": data['message']['content']}}]}\n",
        "                            elif 'done' in data:\n",
        "                                yield {\"choices\": [{\"delta\": {}}], \"done\": True}\n",
        "                        except json.JSONDecodeError:\n",
        "                            print(f\"Could not decode JSON from stream: {line}\")\n",
        "                            continue\n",
        "\n",
        "            else:\n",
        "                data = await response.json()\n",
        "                # Format the response to look like a non-streaming OpenAI response\n",
        "                if 'message' in data and 'content' in data['message']:\n",
        "                    return {\"choices\": [{\"message\": {\"role\": \"assistant\", \"content\": data['message']['content']}}]}\n",
        "                else:\n",
        "                    # Handle unexpected response format\n",
        "                    print(f\"Unexpected non-streaming response format: {data}\")\n",
        "                    return {\"choices\": [{\"message\": {\"role\": \"assistant\", \"content\": \"Error: Unexpected response format\"}}]}\n",
        "\n",
        "\n",
        "# Initialize TinyCodeAgent with the custom OllamaClient\n",
        "# Make sure the base_url points to your Ollama server\n",
        "# and the model_name matches the model you pulled\n",
        "ollama_base_url = \"http://localhost:11434\" # Update if your Ollama server is on a different address/port\n",
        "ollama_model_name = \"llama2:latest\" # Update if you want to use a different model like llama3.2:3b\n",
        "\n",
        "ollama_client_instance = OllamaClient(base_url=ollama_base_url, model_name=ollama_model_name)\n",
        "\n",
        "# Pass the instance of the custom client to TinyCodeAgent\n",
        "agent = TinyCodeAgent(llm_client=ollama_client_instance)\n",
        "\n",
        "\n",
        "async def main():\n",
        "    # Example task for the agent\n",
        "    user_task = dedent(\"\"\"\n",
        "    اقترح لي 13 وسمًا (tags) لقائمة منتجاتي على Etsy،\n",
        "    يجب أن يكون كل وسم متعدد الكلمات وبحد أقصى 20 حرفًا.\n",
        "    يجب استخدام كل كلمة مرة واحدة فقط في جميع الوسوم.\n",
        "    يجب أن تغطي الوسوم طرقًا مختلفة يبحث بها الأشخاص عن المنتج على Etsy.\n",
        "    - يجب عليك استخدام قدراتك في البرمجة للتحقق من أن إجابتك تفي بالمعايير\n",
        "    ومواصلة عملك حتى تصل إلى الإجابة.\n",
        "\n",
        "    منتجي هو **مجموعة دعوات زفاف مكونة من 3 قطع، باللون الأخضر المريمي، مع إطار من ورق الذهب.**\n",
        "    \"\"\")\n",
        "\n",
        "    print(\"Running agent...\")\n",
        "    response = await agent.run(user_task, max_turns=10)\n",
        "    print(\"\\nAgent finished. Response:\")\n",
        "    print(response)\n",
        "\n",
        "# Run the main function using await at the top level\n",
        "await main()"
      ],
      "execution_count": 15,
      "outputs": [
        {
          "output_type": "error",
          "ename": "ModuleNotFoundError",
          "evalue": "No module named 'tinyagent.llm_client'",
          "traceback": [
            "\u001b[0;31m---------------------------------------------------------------------------\u001b[0m",
            "\u001b[0;31mModuleNotFoundError\u001b[0m                       Traceback (most recent call last)",
            "\u001b[0;32m/tmp/ipython-input-1116228943.py\u001b[0m in \u001b[0;36m<cell line: 0>\u001b[0;34m()\u001b[0m\n\u001b[1;32m      1\u001b[0m \u001b[0;32mimport\u001b[0m \u001b[0masyncio\u001b[0m\u001b[0;34m\u001b[0m\u001b[0;34m\u001b[0m\u001b[0m\n\u001b[1;32m      2\u001b[0m \u001b[0;32mfrom\u001b[0m \u001b[0mtinyagent\u001b[0m \u001b[0;32mimport\u001b[0m \u001b[0mTinyCodeAgent\u001b[0m\u001b[0;34m\u001b[0m\u001b[0;34m\u001b[0m\u001b[0m\n\u001b[0;32m----> 3\u001b[0;31m \u001b[0;32mfrom\u001b[0m \u001b[0mtinyagent\u001b[0m\u001b[0;34m.\u001b[0m\u001b[0mllm_client\u001b[0m \u001b[0;32mimport\u001b[0m \u001b[0mLLMClient\u001b[0m \u001b[0;31m# Import the base LLMClient class\u001b[0m\u001b[0;34m\u001b[0m\u001b[0;34m\u001b[0m\u001b[0m\n\u001b[0m\u001b[1;32m      4\u001b[0m \u001b[0;32mfrom\u001b[0m \u001b[0mtextwrap\u001b[0m \u001b[0;32mimport\u001b[0m \u001b[0mdedent\u001b[0m\u001b[0;34m\u001b[0m\u001b[0;34m\u001b[0m\u001b[0m\n\u001b[1;32m      5\u001b[0m \u001b[0;34m\u001b[0m\u001b[0m\n",
            "\u001b[0;31mModuleNotFoundError\u001b[0m: No module named 'tinyagent.llm_client'",
            "",
            "\u001b[0;31m---------------------------------------------------------------------------\u001b[0;32m\nNOTE: If your import is failing due to a missing package, you can\nmanually install dependencies using either !pip or !apt.\n\nTo view examples of installing some common dependencies, click the\n\"Open Examples\" button below.\n\u001b[0;31m---------------------------------------------------------------------------\u001b[0m\n"
          ],
          "errorDetails": {
            "actions": [
              {
                "action": "open_url",
                "actionText": "Open Examples",
                "url": "/notebooks/snippets/importing_libraries.ipynb"
              }
            ]
          }
        }
      ]
    },
    {
      "cell_type": "code",
      "source": [
        "{\n",
        "  \"model\": \"llama3.2:3b\",\n",
        "  \"endpointUrl\": \"http://localhost:11434/\",\n",
        "  \"servers\": [\n",
        "    {\n",
        "      \"type\": \"http\",\n",
        "      \"url\": \"http://localhost:11434/mcp\"\n",
        "    }\n",
        "  ]\n",
        "}"
      ],
      "metadata": {
        "id": "W61pWXCcqFY3"
      },
      "execution_count": null,
      "outputs": []
    },
    {
      "cell_type": "code",
      "source": [
        "!tiny-agents run ./my-agent"
      ],
      "metadata": {
        "colab": {
          "base_uri": "https://localhost:8080/"
        },
        "id": "3NjybVbiqJ1C",
        "outputId": "152d5267-1e1d-4723-a2d2-467bf82b2401"
      },
      "execution_count": 20,
      "outputs": [
        {
          "output_type": "stream",
          "name": "stdout",
          "text": [
            "\n",
            "\u001b[1;31mAn unexpected error occurred: unhandled errors in a TaskGroup \u001b[0m\u001b[1;31m(\u001b[0m\u001b[1;31m1\u001b[0m\u001b[1;31m sub-exception\u001b[0m\u001b[1;31m)\u001b[0m\n",
            "\u001b[1;31m  + Exception Group Traceback \u001b[0m\u001b[1;31m(\u001b[0m\u001b[1;31mmost recent call last\u001b[0m\u001b[1;31m)\u001b[0m\u001b[1;31m:\u001b[0m\n",
            "\u001b[1;31m  |   File \u001b[0m\n",
            "\u001b[1;31m\"/usr/local/lib/python3.11/dist-packages/huggingface_hub/inference/_mcp/cli.py\"\u001b[0m\u001b[1;31m,\u001b[0m\n",
            "\u001b[1;31mline \u001b[0m\u001b[1;31m144\u001b[0m\u001b[1;31m, in run_agent\u001b[0m\n",
            "\u001b[1;31m  |     async with \u001b[0m\u001b[1;31mAgent\u001b[0m\u001b[1;31m(\u001b[0m\n",
            "\u001b[1;31m  |   File \u001b[0m\n",
            "\u001b[1;31m\"/usr/local/lib/python3.11/dist-packages/huggingface_hub/inference/_mcp/mcp_clie\u001b[0m\n",
            "\u001b[1;31mnt.py\"\u001b[0m\u001b[1;31m, line \u001b[0m\u001b[1;31m110\u001b[0m\u001b[1;31m, in __aexit__\u001b[0m\n",
            "\u001b[1;31m  |     await \u001b[0m\u001b[1;31mself.cleanup\u001b[0m\u001b[1;31m(\u001b[0m\u001b[1;31m)\u001b[0m\n",
            "\u001b[1;31m  |   File \u001b[0m\n",
            "\u001b[1;31m\"/usr/local/lib/python3.11/dist-packages/huggingface_hub/inference/_mcp/mcp_clie\u001b[0m\n",
            "\u001b[1;31mnt.py\"\u001b[0m\u001b[1;31m, line \u001b[0m\u001b[1;31m115\u001b[0m\u001b[1;31m, in cleanup\u001b[0m\n",
            "\u001b[1;31m  |     await \u001b[0m\u001b[1;31mself.exit_stack.aclose\u001b[0m\u001b[1;31m(\u001b[0m\u001b[1;31m)\u001b[0m\n",
            "\u001b[1;31m  |   File \u001b[0m\u001b[1;31m\"/usr/lib/python3.11/contextlib.py\"\u001b[0m\u001b[1;31m, line \u001b[0m\u001b[1;31m687\u001b[0m\u001b[1;31m, in aclose\u001b[0m\n",
            "\u001b[1;31m  |     await \u001b[0m\u001b[1;31mself.__aexit__\u001b[0m\u001b[1;31m(\u001b[0m\u001b[1;3;31mNone\u001b[0m\u001b[1;31m, \u001b[0m\u001b[1;3;31mNone\u001b[0m\u001b[1;31m, \u001b[0m\u001b[1;3;31mNone\u001b[0m\u001b[1;31m)\u001b[0m\n",
            "\u001b[1;31m  |   File \u001b[0m\u001b[1;31m\"/usr/lib/python3.11/contextlib.py\"\u001b[0m\u001b[1;31m, line \u001b[0m\u001b[1;31m745\u001b[0m\u001b[1;31m, in __aexit__\u001b[0m\n",
            "\u001b[1;31m  |     raise exc_details\u001b[0m\u001b[1;31m[\u001b[0m\u001b[1;31m1\u001b[0m\u001b[1;31m]\u001b[0m\n",
            "\u001b[1;31m  |   File \u001b[0m\u001b[1;31m\"/usr/lib/python3.11/contextlib.py\"\u001b[0m\u001b[1;31m, line \u001b[0m\u001b[1;31m728\u001b[0m\u001b[1;31m, in __aexit__\u001b[0m\n",
            "\u001b[1;31m  |     cb_suppress = await \u001b[0m\u001b[1;31mcb\u001b[0m\u001b[1;31m(\u001b[0m\u001b[1;31m*exc_details\u001b[0m\u001b[1;31m)\u001b[0m\n",
            "\u001b[1;31m  |                   ^^^^^^^^^^^^^^^^^^^^^^\u001b[0m\n",
            "\u001b[1;31m  |   File \u001b[0m\u001b[1;31m\"/usr/lib/python3.11/contextlib.py\"\u001b[0m\u001b[1;31m, line \u001b[0m\u001b[1;31m231\u001b[0m\u001b[1;31m, in __aexit__\u001b[0m\n",
            "\u001b[1;31m  |     await \u001b[0m\u001b[1;31mself.gen.athrow\u001b[0m\u001b[1;31m(\u001b[0m\u001b[1;31mtyp, value, traceback\u001b[0m\u001b[1;31m)\u001b[0m\n",
            "\u001b[1;31m  |   File \u001b[0m\n",
            "\u001b[1;31m\"/usr/local/lib/python3.11/dist-packages/mcp/client/streamable_http.py\"\u001b[0m\u001b[1;31m, line \u001b[0m\n",
            "\u001b[1;31m474\u001b[0m\u001b[1;31m, in streamablehttp_client\u001b[0m\n",
            "\u001b[1;31m  |     async with \u001b[0m\u001b[1;31manyio.create_task_group\u001b[0m\u001b[1;31m(\u001b[0m\u001b[1;31m)\u001b[0m\u001b[1;31m as tg:\u001b[0m\n",
            "\u001b[1;31m  |   File \u001b[0m\n",
            "\u001b[1;31m\"/usr/local/lib/python3.11/dist-packages/anyio/_backends/_asyncio.py\"\u001b[0m\u001b[1;31m, line \u001b[0m\u001b[1;31m772\u001b[0m\u001b[1;31m,\u001b[0m\n",
            "\u001b[1;31min __aexit__\u001b[0m\n",
            "\u001b[1;31m  |     raise \u001b[0m\u001b[1;31mBaseExceptionGroup\u001b[0m\u001b[1;31m(\u001b[0m\n",
            "\u001b[1;31m  | ExceptionGroup: unhandled errors in a TaskGroup \u001b[0m\u001b[1;31m(\u001b[0m\u001b[1;31m1\u001b[0m\u001b[1;31m sub-exception\u001b[0m\u001b[1;31m)\u001b[0m\n",
            "\u001b[1;31m  +-+---------------- \u001b[0m\u001b[1;31m1\u001b[0m\u001b[1;31m ----------------\u001b[0m\n",
            "\u001b[1;31m    | Traceback \u001b[0m\u001b[1;31m(\u001b[0m\u001b[1;31mmost recent call last\u001b[0m\u001b[1;31m)\u001b[0m\u001b[1;31m:\u001b[0m\n",
            "\u001b[1;31m    |   File \u001b[0m\n",
            "\u001b[1;31m\"/usr/local/lib/python3.11/dist-packages/httpx/_transports/default.py\"\u001b[0m\u001b[1;31m, line \u001b[0m\n",
            "\u001b[1;31m101\u001b[0m\u001b[1;31m, in map_httpcore_exceptions\u001b[0m\n",
            "\u001b[1;31m    |     yield\u001b[0m\n",
            "\u001b[1;31m    |   File \u001b[0m\n",
            "\u001b[1;31m\"/usr/local/lib/python3.11/dist-packages/httpx/_transports/default.py\"\u001b[0m\u001b[1;31m, line \u001b[0m\n",
            "\u001b[1;31m394\u001b[0m\u001b[1;31m, in handle_async_request\u001b[0m\n",
            "\u001b[1;31m    |     resp = await \u001b[0m\u001b[1;31mself._pool.handle_async_request\u001b[0m\u001b[1;31m(\u001b[0m\u001b[1;31mreq\u001b[0m\u001b[1;31m)\u001b[0m\n",
            "\u001b[1;31m    |            ^^^^^^^^^^^^^^^^^^^^^^^^^^^^^^^^^^^^^^^^^^\u001b[0m\n",
            "\u001b[1;31m    |   File \u001b[0m\n",
            "\u001b[1;31m\"/usr/local/lib/python3.11/dist-packages/httpcore/_async/connection_pool.py\"\u001b[0m\u001b[1;31m, \u001b[0m\n",
            "\u001b[1;31mline \u001b[0m\u001b[1;31m256\u001b[0m\u001b[1;31m, in handle_async_request\u001b[0m\n",
            "\u001b[1;31m    |     raise exc from \u001b[0m\u001b[1;3;31mNone\u001b[0m\n",
            "\u001b[1;31m    |   File \u001b[0m\n",
            "\u001b[1;31m\"/usr/local/lib/python3.11/dist-packages/httpcore/_async/connection_pool.py\"\u001b[0m\u001b[1;31m, \u001b[0m\n",
            "\u001b[1;31mline \u001b[0m\u001b[1;31m236\u001b[0m\u001b[1;31m, in handle_async_request\u001b[0m\n",
            "\u001b[1;31m    |     response = await \u001b[0m\u001b[1;31mconnection.handle_async_request\u001b[0m\u001b[1;31m(\u001b[0m\n",
            "\u001b[1;31m    |                ^^^^^^^^^^^^^^^^^^^^^^^^^^^^^^^^^^^^^^\u001b[0m\n",
            "\u001b[1;31m    |   File \u001b[0m\n",
            "\u001b[1;31m\"/usr/local/lib/python3.11/dist-packages/httpcore/_async/connection.py\"\u001b[0m\u001b[1;31m, line \u001b[0m\n",
            "\u001b[1;31m101\u001b[0m\u001b[1;31m, in handle_async_request\u001b[0m\n",
            "\u001b[1;31m    |     raise exc\u001b[0m\n",
            "\u001b[1;31m    |   File \u001b[0m\n",
            "\u001b[1;31m\"/usr/local/lib/python3.11/dist-packages/httpcore/_async/connection.py\"\u001b[0m\u001b[1;31m, line \u001b[0m\n",
            "\u001b[1;31m78\u001b[0m\u001b[1;31m, in handle_async_request\u001b[0m\n",
            "\u001b[1;31m    |     stream = await \u001b[0m\u001b[1;31mself._connect\u001b[0m\u001b[1;31m(\u001b[0m\u001b[1;31mrequest\u001b[0m\u001b[1;31m)\u001b[0m\n",
            "\u001b[1;31m    |              ^^^^^^^^^^^^^^^^^^^^^^^^^^^^\u001b[0m\n",
            "\u001b[1;31m    |   File \u001b[0m\n",
            "\u001b[1;31m\"/usr/local/lib/python3.11/dist-packages/httpcore/_async/connection.py\"\u001b[0m\u001b[1;31m, line \u001b[0m\n",
            "\u001b[1;31m124\u001b[0m\u001b[1;31m, in _connect\u001b[0m\n",
            "\u001b[1;31m    |     stream = await \u001b[0m\u001b[1;31mself._network_backend.connect_tcp\u001b[0m\u001b[1;31m(\u001b[0m\u001b[1;31m**kwargs\u001b[0m\u001b[1;31m)\u001b[0m\n",
            "\u001b[1;31m    |              ^^^^^^^^^^^^^^^^^^^^^^^^^^^^^^^^^^^^^^^^^^^^^^^^^\u001b[0m\n",
            "\u001b[1;31m    |   File \u001b[0m\n",
            "\u001b[1;31m\"/usr/local/lib/python3.11/dist-packages/httpcore/_backends/auto.py\"\u001b[0m\u001b[1;31m, line \u001b[0m\u001b[1;31m31\u001b[0m\u001b[1;31m, \u001b[0m\n",
            "\u001b[1;31min connect_tcp\u001b[0m\n",
            "\u001b[1;31m    |     return await \u001b[0m\u001b[1;31mself._backend.connect_tcp\u001b[0m\u001b[1;31m(\u001b[0m\n",
            "\u001b[1;31m    |            ^^^^^^^^^^^^^^^^^^^^^^^^^^^^^^^^\u001b[0m\n",
            "\u001b[1;31m    |   File \u001b[0m\n",
            "\u001b[1;31m\"/usr/local/lib/python3.11/dist-packages/httpcore/_backends/anyio.py\"\u001b[0m\u001b[1;31m, line \u001b[0m\u001b[1;31m113\u001b[0m\u001b[1;31m,\u001b[0m\n",
            "\u001b[1;31min connect_tcp\u001b[0m\n",
            "\u001b[1;31m    |     with \u001b[0m\u001b[1;31mmap_exceptions\u001b[0m\u001b[1;31m(\u001b[0m\u001b[1;31mexc_map\u001b[0m\u001b[1;31m)\u001b[0m\u001b[1;31m:\u001b[0m\n",
            "\u001b[1;31m    |   File \u001b[0m\u001b[1;31m\"/usr/lib/python3.11/contextlib.py\"\u001b[0m\u001b[1;31m, line \u001b[0m\u001b[1;31m158\u001b[0m\u001b[1;31m, in __exit__\u001b[0m\n",
            "\u001b[1;31m    |     \u001b[0m\u001b[1;31mself.gen.throw\u001b[0m\u001b[1;31m(\u001b[0m\u001b[1;31mtyp, value, traceback\u001b[0m\u001b[1;31m)\u001b[0m\n",
            "\u001b[1;31m    |   File \u001b[0m\u001b[1;31m\"/usr/local/lib/python3.11/dist-packages/httpcore/_exceptions.py\"\u001b[0m\u001b[1;31m, \u001b[0m\n",
            "\u001b[1;31mline \u001b[0m\u001b[1;31m14\u001b[0m\u001b[1;31m, in map_exceptions\u001b[0m\n",
            "\u001b[1;31m    |     raise \u001b[0m\u001b[1;31mto_exc\u001b[0m\u001b[1;31m(\u001b[0m\u001b[1;31mexc\u001b[0m\u001b[1;31m)\u001b[0m\u001b[1;31m from exc\u001b[0m\n",
            "\u001b[1;31m    | httpcore.ConnectError: All connection attempts failed\u001b[0m\n",
            "\u001b[1;31m    | \u001b[0m\n",
            "\u001b[1;31m    | The above exception was the direct cause of the following exception:\u001b[0m\n",
            "\u001b[1;31m    | \u001b[0m\n",
            "\u001b[1;31m    | Traceback \u001b[0m\u001b[1;31m(\u001b[0m\u001b[1;31mmost recent call last\u001b[0m\u001b[1;31m)\u001b[0m\u001b[1;31m:\u001b[0m\n",
            "\u001b[1;31m    |   File \u001b[0m\n",
            "\u001b[1;31m\"/usr/local/lib/python3.11/dist-packages/mcp/client/streamable_http.py\"\u001b[0m\u001b[1;31m, line \u001b[0m\n",
            "\u001b[1;31m405\u001b[0m\u001b[1;31m, in handle_request_async\u001b[0m\n",
            "\u001b[1;31m    |     await \u001b[0m\u001b[1;31mself._handle_post_request\u001b[0m\u001b[1;31m(\u001b[0m\u001b[1;31mctx\u001b[0m\u001b[1;31m)\u001b[0m\n",
            "\u001b[1;31m    |   File \u001b[0m\n",
            "\u001b[1;31m\"/usr/local/lib/python3.11/dist-packages/mcp/client/streamable_http.py\"\u001b[0m\u001b[1;31m, line \u001b[0m\n",
            "\u001b[1;31m259\u001b[0m\u001b[1;31m, in _handle_post_request\u001b[0m\n",
            "\u001b[1;31m    |     async with \u001b[0m\u001b[1;31mctx.client.stream\u001b[0m\u001b[1;31m(\u001b[0m\n",
            "\u001b[1;31m    |   File \u001b[0m\u001b[1;31m\"/usr/lib/python3.11/contextlib.py\"\u001b[0m\u001b[1;31m, line \u001b[0m\u001b[1;31m210\u001b[0m\u001b[1;31m, in __aenter__\u001b[0m\n",
            "\u001b[1;31m    |     return await \u001b[0m\u001b[1;31manext\u001b[0m\u001b[1;31m(\u001b[0m\u001b[1;31mself.gen\u001b[0m\u001b[1;31m)\u001b[0m\n",
            "\u001b[1;31m    |            ^^^^^^^^^^^^^^^^^^^^^\u001b[0m\n",
            "\u001b[1;31m    |   File \u001b[0m\u001b[1;31m\"/usr/local/lib/python3.11/dist-packages/httpx/_client.py\"\u001b[0m\u001b[1;31m, line \u001b[0m\n",
            "\u001b[1;31m1583\u001b[0m\u001b[1;31m, in stream\u001b[0m\n",
            "\u001b[1;31m    |     response = await \u001b[0m\u001b[1;31mself.send\u001b[0m\u001b[1;31m(\u001b[0m\n",
            "\u001b[1;31m    |                ^^^^^^^^^^^^^^^^\u001b[0m\n",
            "\u001b[1;31m    |   File \u001b[0m\u001b[1;31m\"/usr/local/lib/python3.11/dist-packages/httpx/_client.py\"\u001b[0m\u001b[1;31m, line \u001b[0m\n",
            "\u001b[1;31m1629\u001b[0m\u001b[1;31m, in send\u001b[0m\n",
            "\u001b[1;31m    |     response = await \u001b[0m\u001b[1;31mself._send_handling_auth\u001b[0m\u001b[1;31m(\u001b[0m\n",
            "\u001b[1;31m    |                ^^^^^^^^^^^^^^^^^^^^^^^^^^^^^^^\u001b[0m\n",
            "\u001b[1;31m    |   File \u001b[0m\u001b[1;31m\"/usr/local/lib/python3.11/dist-packages/httpx/_client.py\"\u001b[0m\u001b[1;31m, line \u001b[0m\n",
            "\u001b[1;31m1657\u001b[0m\u001b[1;31m, in _send_handling_auth\u001b[0m\n",
            "\u001b[1;31m    |     response = await \u001b[0m\u001b[1;31mself._send_handling_redirects\u001b[0m\u001b[1;31m(\u001b[0m\n",
            "\u001b[1;31m    |                ^^^^^^^^^^^^^^^^^^^^^^^^^^^^^^^^^^^^\u001b[0m\n",
            "\u001b[1;31m    |   File \u001b[0m\u001b[1;31m\"/usr/local/lib/python3.11/dist-packages/httpx/_client.py\"\u001b[0m\u001b[1;31m, line \u001b[0m\n",
            "\u001b[1;31m1694\u001b[0m\u001b[1;31m, in _send_handling_redirects\u001b[0m\n",
            "\u001b[1;31m    |     response = await \u001b[0m\u001b[1;31mself._send_single_request\u001b[0m\u001b[1;31m(\u001b[0m\u001b[1;31mrequest\u001b[0m\u001b[1;31m)\u001b[0m\n",
            "\u001b[1;31m    |                ^^^^^^^^^^^^^^^^^^^^^^^^^^^^^^^^^^^^^^^^\u001b[0m\n",
            "\u001b[1;31m    |   File \u001b[0m\u001b[1;31m\"/usr/local/lib/python3.11/dist-packages/httpx/_client.py\"\u001b[0m\u001b[1;31m, line \u001b[0m\n",
            "\u001b[1;31m1730\u001b[0m\u001b[1;31m, in _send_single_request\u001b[0m\n",
            "\u001b[1;31m    |     response = await \u001b[0m\u001b[1;31mtransport.handle_async_request\u001b[0m\u001b[1;31m(\u001b[0m\u001b[1;31mrequest\u001b[0m\u001b[1;31m)\u001b[0m\n",
            "\u001b[1;31m    |                ^^^^^^^^^^^^^^^^^^^^^^^^^^^^^^^^^^^^^^^^^^^^^\u001b[0m\n",
            "\u001b[1;31m    |   File \u001b[0m\n",
            "\u001b[1;31m\"/usr/local/lib/python3.11/dist-packages/httpx/_transports/default.py\"\u001b[0m\u001b[1;31m, line \u001b[0m\n",
            "\u001b[1;31m393\u001b[0m\u001b[1;31m, in handle_async_request\u001b[0m\n",
            "\u001b[1;31m    |     with \u001b[0m\u001b[1;31mmap_httpcore_exceptions\u001b[0m\u001b[1;31m(\u001b[0m\u001b[1;31m)\u001b[0m\u001b[1;31m:\u001b[0m\n",
            "\u001b[1;31m    |   File \u001b[0m\u001b[1;31m\"/usr/lib/python3.11/contextlib.py\"\u001b[0m\u001b[1;31m, line \u001b[0m\u001b[1;31m158\u001b[0m\u001b[1;31m, in __exit__\u001b[0m\n",
            "\u001b[1;31m    |     \u001b[0m\u001b[1;31mself.gen.throw\u001b[0m\u001b[1;31m(\u001b[0m\u001b[1;31mtyp, value, traceback\u001b[0m\u001b[1;31m)\u001b[0m\n",
            "\u001b[1;31m    |   File \u001b[0m\n",
            "\u001b[1;31m\"/usr/local/lib/python3.11/dist-packages/httpx/_transports/default.py\"\u001b[0m\u001b[1;31m, line \u001b[0m\n",
            "\u001b[1;31m118\u001b[0m\u001b[1;31m, in map_httpcore_exceptions\u001b[0m\n",
            "\u001b[1;31m    |     raise \u001b[0m\u001b[1;31mmapped_exc\u001b[0m\u001b[1;31m(\u001b[0m\u001b[1;31mmessage\u001b[0m\u001b[1;31m)\u001b[0m\u001b[1;31m from exc\u001b[0m\n",
            "\u001b[1;31m    | httpx.ConnectError: All connection attempts failed\u001b[0m\n",
            "\u001b[1;31m    +------------------------------------\u001b[0m\n",
            "\n",
            "\n",
            "\u001b[1;31mAn unexpected error occurred: unhandled errors in a TaskGroup \u001b[0m\u001b[1;31m(\u001b[0m\u001b[1;31m1\u001b[0m\u001b[1;31m sub-exception\u001b[0m\u001b[1;31m)\u001b[0m\n",
            "\u001b[31m╭─\u001b[0m\u001b[31m────────────────────\u001b[0m\u001b[31m \u001b[0m\u001b[1;31mTraceback \u001b[0m\u001b[1;2;31m(most recent call last)\u001b[0m\u001b[31m \u001b[0m\u001b[31m─────────────────────\u001b[0m\u001b[31m─╮\u001b[0m\n",
            "\u001b[31m│\u001b[0m \u001b[2;33m/usr/local/lib/python3.11/dist-packages/huggingface_hub/inference/_mcp/\u001b[0m\u001b[1;33mcli.p\u001b[0m \u001b[31m│\u001b[0m\n",
            "\u001b[31m│\u001b[0m \u001b[1;33my\u001b[0m:\u001b[94m243\u001b[0m in \u001b[92mrun\u001b[0m                                                                 \u001b[31m│\u001b[0m\n",
            "\u001b[31m│\u001b[0m                                                                              \u001b[31m│\u001b[0m\n",
            "\u001b[31m│\u001b[0m   \u001b[2m240 \u001b[0m\u001b[2m│   │   \u001b[0m\u001b[94mraise\u001b[0m typer.Exit(code=\u001b[94m130\u001b[0m)                                     \u001b[31m│\u001b[0m\n",
            "\u001b[31m│\u001b[0m   \u001b[2m241 \u001b[0m\u001b[2m│   \u001b[0m\u001b[94mexcept\u001b[0m \u001b[96mException\u001b[0m \u001b[94mas\u001b[0m e:                                             \u001b[31m│\u001b[0m\n",
            "\u001b[31m│\u001b[0m   \u001b[2m242 \u001b[0m\u001b[2m│   │   \u001b[0m\u001b[96mprint\u001b[0m(\u001b[33mf\u001b[0m\u001b[33m\"\u001b[0m\u001b[33m\\n\u001b[0m\u001b[33m[bold red]An unexpected error occurred: \u001b[0m\u001b[33m{\u001b[0me\u001b[33m}\u001b[0m\u001b[33m[/bold re\u001b[0m \u001b[31m│\u001b[0m\n",
            "\u001b[31m│\u001b[0m \u001b[31m❱ \u001b[0m243 \u001b[2m│   │   \u001b[0m\u001b[1;4;94mraise\u001b[0m\u001b[1;4m e\u001b[0m                                                        \u001b[31m│\u001b[0m\n",
            "\u001b[31m│\u001b[0m   \u001b[2m244 \u001b[0m                                                                       \u001b[31m│\u001b[0m\n",
            "\u001b[31m│\u001b[0m   \u001b[2m245 \u001b[0m                                                                       \u001b[31m│\u001b[0m\n",
            "\u001b[31m│\u001b[0m   \u001b[2m246 \u001b[0m\u001b[94mif\u001b[0m \u001b[91m__name__\u001b[0m == \u001b[33m\"\u001b[0m\u001b[33m__main__\u001b[0m\u001b[33m\"\u001b[0m:                                             \u001b[31m│\u001b[0m\n",
            "\u001b[31m│\u001b[0m                                                                              \u001b[31m│\u001b[0m\n",
            "\u001b[31m│\u001b[0m \u001b[33m╭─\u001b[0m\u001b[33m─────\u001b[0m\u001b[33m locals \u001b[0m\u001b[33m──────\u001b[0m\u001b[33m─╮\u001b[0m                                                      \u001b[31m│\u001b[0m\n",
            "\u001b[31m│\u001b[0m \u001b[33m│\u001b[0m path = \u001b[33m'./my-agent'\u001b[0m \u001b[33m│\u001b[0m                                                      \u001b[31m│\u001b[0m\n",
            "\u001b[31m│\u001b[0m \u001b[33m╰─────────────────────╯\u001b[0m                                                      \u001b[31m│\u001b[0m\n",
            "\u001b[31m│\u001b[0m                                                                              \u001b[31m│\u001b[0m\n",
            "\u001b[31m│\u001b[0m \u001b[2;33m/usr/local/lib/python3.11/dist-packages/huggingface_hub/inference/_mcp/\u001b[0m\u001b[1;33mcli.p\u001b[0m \u001b[31m│\u001b[0m\n",
            "\u001b[31m│\u001b[0m \u001b[1;33my\u001b[0m:\u001b[94m237\u001b[0m in \u001b[92mrun\u001b[0m                                                                 \u001b[31m│\u001b[0m\n",
            "\u001b[31m│\u001b[0m                                                                              \u001b[31m│\u001b[0m\n",
            "\u001b[31m│\u001b[0m   \u001b[2m234 \u001b[0m\u001b[2m│   \u001b[0m),                                                                 \u001b[31m│\u001b[0m\n",
            "\u001b[31m│\u001b[0m   \u001b[2m235 \u001b[0m):                                                                     \u001b[31m│\u001b[0m\n",
            "\u001b[31m│\u001b[0m   \u001b[2m236 \u001b[0m\u001b[2m│   \u001b[0m\u001b[94mtry\u001b[0m:                                                               \u001b[31m│\u001b[0m\n",
            "\u001b[31m│\u001b[0m \u001b[31m❱ \u001b[0m237 \u001b[2m│   │   \u001b[0masyncio.run(run_agent(path))                                   \u001b[31m│\u001b[0m\n",
            "\u001b[31m│\u001b[0m   \u001b[2m238 \u001b[0m\u001b[2m│   \u001b[0m\u001b[94mexcept\u001b[0m \u001b[96mKeyboardInterrupt\u001b[0m:                                          \u001b[31m│\u001b[0m\n",
            "\u001b[31m│\u001b[0m   \u001b[2m239 \u001b[0m\u001b[2m│   │   \u001b[0m\u001b[96mprint\u001b[0m(\u001b[33m\"\u001b[0m\u001b[33m\\n\u001b[0m\u001b[33m[red]Application terminated by KeyboardInterrupt.[/re\u001b[0m \u001b[31m│\u001b[0m\n",
            "\u001b[31m│\u001b[0m   \u001b[2m240 \u001b[0m\u001b[2m│   │   \u001b[0m\u001b[94mraise\u001b[0m typer.Exit(code=\u001b[94m130\u001b[0m)                                     \u001b[31m│\u001b[0m\n",
            "\u001b[31m│\u001b[0m                                                                              \u001b[31m│\u001b[0m\n",
            "\u001b[31m│\u001b[0m \u001b[33m╭─\u001b[0m\u001b[33m─────\u001b[0m\u001b[33m locals \u001b[0m\u001b[33m──────\u001b[0m\u001b[33m─╮\u001b[0m                                                      \u001b[31m│\u001b[0m\n",
            "\u001b[31m│\u001b[0m \u001b[33m│\u001b[0m path = \u001b[33m'./my-agent'\u001b[0m \u001b[33m│\u001b[0m                                                      \u001b[31m│\u001b[0m\n",
            "\u001b[31m│\u001b[0m \u001b[33m╰─────────────────────╯\u001b[0m                                                      \u001b[31m│\u001b[0m\n",
            "\u001b[31m│\u001b[0m                                                                              \u001b[31m│\u001b[0m\n",
            "\u001b[31m│\u001b[0m \u001b[2;33m/usr/lib/python3.11/asyncio/\u001b[0m\u001b[1;33mrunners.py\u001b[0m:\u001b[94m190\u001b[0m in \u001b[92mrun\u001b[0m                            \u001b[31m│\u001b[0m\n",
            "\u001b[31m│\u001b[0m                                                                              \u001b[31m│\u001b[0m\n",
            "\u001b[31m│\u001b[0m   \u001b[2m187 \u001b[0m\u001b[2m│   │   │   \u001b[0m\u001b[33m\"\u001b[0m\u001b[33masyncio.run() cannot be called from a running event loop\u001b[0m\u001b[33m\"\u001b[0m \u001b[31m│\u001b[0m\n",
            "\u001b[31m│\u001b[0m   \u001b[2m188 \u001b[0m\u001b[2m│   \u001b[0m                                                                   \u001b[31m│\u001b[0m\n",
            "\u001b[31m│\u001b[0m   \u001b[2m189 \u001b[0m\u001b[2m│   \u001b[0m\u001b[94mwith\u001b[0m Runner(debug=debug) \u001b[94mas\u001b[0m runner:                                \u001b[31m│\u001b[0m\n",
            "\u001b[31m│\u001b[0m \u001b[31m❱ \u001b[0m190 \u001b[2m│   │   \u001b[0m\u001b[94mreturn\u001b[0m \u001b[1;4mrunner.run(main)\u001b[0m                                        \u001b[31m│\u001b[0m\n",
            "\u001b[31m│\u001b[0m   \u001b[2m191 \u001b[0m                                                                       \u001b[31m│\u001b[0m\n",
            "\u001b[31m│\u001b[0m   \u001b[2m192 \u001b[0m                                                                       \u001b[31m│\u001b[0m\n",
            "\u001b[31m│\u001b[0m   \u001b[2m193 \u001b[0m\u001b[94mdef\u001b[0m\u001b[90m \u001b[0m\u001b[92m_cancel_all_tasks\u001b[0m(loop):                                           \u001b[31m│\u001b[0m\n",
            "\u001b[31m│\u001b[0m                                                                              \u001b[31m│\u001b[0m\n",
            "\u001b[31m│\u001b[0m \u001b[33m╭─\u001b[0m\u001b[33m─────────────────────────\u001b[0m\u001b[33m locals \u001b[0m\u001b[33m─────────────────────────\u001b[0m\u001b[33m─╮\u001b[0m               \u001b[31m│\u001b[0m\n",
            "\u001b[31m│\u001b[0m \u001b[33m│\u001b[0m  debug = \u001b[94mNone\u001b[0m                                              \u001b[33m│\u001b[0m               \u001b[31m│\u001b[0m\n",
            "\u001b[31m│\u001b[0m \u001b[33m│\u001b[0m   main = \u001b[1m<\u001b[0m\u001b[1;95mcoroutine\u001b[0m\u001b[39m object run_agent at \u001b[0m\u001b[94m0x31588e50\u001b[0m\u001b[1m>\u001b[0m        \u001b[33m│\u001b[0m               \u001b[31m│\u001b[0m\n",
            "\u001b[31m│\u001b[0m \u001b[33m│\u001b[0m runner = \u001b[1m<\u001b[0m\u001b[1;95masyncio.runners.Runner\u001b[0m\u001b[39m object at \u001b[0m\u001b[94m0x7adaf57dc390\u001b[0m\u001b[1m>\u001b[0m \u001b[33m│\u001b[0m               \u001b[31m│\u001b[0m\n",
            "\u001b[31m│\u001b[0m \u001b[33m╰────────────────────────────────────────────────────────────╯\u001b[0m               \u001b[31m│\u001b[0m\n",
            "\u001b[31m│\u001b[0m                                                                              \u001b[31m│\u001b[0m\n",
            "\u001b[31m│\u001b[0m \u001b[2;33m/usr/lib/python3.11/asyncio/\u001b[0m\u001b[1;33mrunners.py\u001b[0m:\u001b[94m118\u001b[0m in \u001b[92mrun\u001b[0m                            \u001b[31m│\u001b[0m\n",
            "\u001b[31m│\u001b[0m                                                                              \u001b[31m│\u001b[0m\n",
            "\u001b[31m│\u001b[0m   \u001b[2m115 \u001b[0m\u001b[2m│   │   \u001b[0m                                                               \u001b[31m│\u001b[0m\n",
            "\u001b[31m│\u001b[0m   \u001b[2m116 \u001b[0m\u001b[2m│   │   \u001b[0m\u001b[96mself\u001b[0m._interrupt_count = \u001b[94m0\u001b[0m                                      \u001b[31m│\u001b[0m\n",
            "\u001b[31m│\u001b[0m   \u001b[2m117 \u001b[0m\u001b[2m│   │   \u001b[0m\u001b[94mtry\u001b[0m:                                                           \u001b[31m│\u001b[0m\n",
            "\u001b[31m│\u001b[0m \u001b[31m❱ \u001b[0m118 \u001b[2m│   │   │   \u001b[0m\u001b[94mreturn\u001b[0m \u001b[96mself\u001b[0m._loop.run_until_complete(task)                 \u001b[31m│\u001b[0m\n",
            "\u001b[31m│\u001b[0m   \u001b[2m119 \u001b[0m\u001b[2m│   │   \u001b[0m\u001b[94mexcept\u001b[0m exceptions.CancelledError:                              \u001b[31m│\u001b[0m\n",
            "\u001b[31m│\u001b[0m   \u001b[2m120 \u001b[0m\u001b[2m│   │   │   \u001b[0m\u001b[94mif\u001b[0m \u001b[96mself\u001b[0m._interrupt_count > \u001b[94m0\u001b[0m:                              \u001b[31m│\u001b[0m\n",
            "\u001b[31m│\u001b[0m   \u001b[2m121 \u001b[0m\u001b[2m│   │   │   │   \u001b[0muncancel = \u001b[96mgetattr\u001b[0m(task, \u001b[33m\"\u001b[0m\u001b[33muncancel\u001b[0m\u001b[33m\"\u001b[0m, \u001b[94mNone\u001b[0m)             \u001b[31m│\u001b[0m\n",
            "\u001b[31m│\u001b[0m                                                                              \u001b[31m│\u001b[0m\n",
            "\u001b[31m│\u001b[0m \u001b[33m╭─\u001b[0m\u001b[33m────────────────────────────────\u001b[0m\u001b[33m locals \u001b[0m\u001b[33m────────────────────────────────\u001b[0m\u001b[33m─╮\u001b[0m \u001b[31m│\u001b[0m\n",
            "\u001b[31m│\u001b[0m \u001b[33m│\u001b[0m        context = \u001b[1m<\u001b[0m\u001b[1;95m_contextvars.Context\u001b[0m\u001b[39m object at \u001b[0m\u001b[94m0x7adaf57dd480\u001b[0m\u001b[1m>\u001b[0m         \u001b[33m│\u001b[0m \u001b[31m│\u001b[0m\n",
            "\u001b[31m│\u001b[0m \u001b[33m│\u001b[0m           coro = \u001b[1m<\u001b[0m\u001b[1;95mcoroutine\u001b[0m\u001b[39m object run_agent at \u001b[0m\u001b[94m0x31588e50\u001b[0m\u001b[1m>\u001b[0m              \u001b[33m│\u001b[0m \u001b[31m│\u001b[0m\n",
            "\u001b[31m│\u001b[0m \u001b[33m│\u001b[0m           self = \u001b[1m<\u001b[0m\u001b[1;95masyncio.runners.Runner\u001b[0m\u001b[39m object at \u001b[0m\u001b[94m0x7adaf57dc390\u001b[0m\u001b[1m>\u001b[0m       \u001b[33m│\u001b[0m \u001b[31m│\u001b[0m\n",
            "\u001b[31m│\u001b[0m \u001b[33m│\u001b[0m sigint_handler = \u001b[1;35mfunctools.partial\u001b[0m\u001b[1m(\u001b[0m\u001b[1m<\u001b[0m\u001b[1;95mbound\u001b[0m\u001b[39m method Runner._on_sigint of \u001b[0m   \u001b[33m│\u001b[0m \u001b[31m│\u001b[0m\n",
            "\u001b[31m│\u001b[0m \u001b[33m│\u001b[0m                  \u001b[39m<asyncio.runners.Runner object at \u001b[0m\u001b[94m0x7adaf57dc390\u001b[0m\u001b[39m>>, \u001b[0m    \u001b[33m│\u001b[0m \u001b[31m│\u001b[0m\n",
            "\u001b[31m│\u001b[0m \u001b[33m│\u001b[0m                  \u001b[33mmain_task\u001b[0m\u001b[39m=<Task finished \u001b[0m\u001b[33mname\u001b[0m\u001b[39m=\u001b[0m\u001b[33m'Task-1'\u001b[0m\u001b[39m \u001b[0m                 \u001b[33m│\u001b[0m \u001b[31m│\u001b[0m\n",
            "\u001b[31m│\u001b[0m \u001b[33m│\u001b[0m                  \u001b[33mcoro\u001b[0m\u001b[39m=<\u001b[0m\u001b[1;35mrun_agent\u001b[0m\u001b[1;39m(\u001b[0m\u001b[1;39m)\u001b[0m\u001b[39m done, defined at \u001b[0m                     \u001b[33m│\u001b[0m \u001b[31m│\u001b[0m\n",
            "\u001b[31m│\u001b[0m \u001b[33m│\u001b[0m                  \u001b[35m/usr/local/lib/python3.11/dist-packages/huggingface_hu…\u001b[0m \u001b[33m│\u001b[0m \u001b[31m│\u001b[0m\n",
            "\u001b[31m│\u001b[0m \u001b[33m│\u001b[0m                  \u001b[33mexception\u001b[0m\u001b[39m=\u001b[0m\u001b[1;35mExceptionGroup\u001b[0m\u001b[1;39m(\u001b[0m\u001b[33m'unhandled errors in a \u001b[0m        \u001b[33m│\u001b[0m \u001b[31m│\u001b[0m\n",
            "\u001b[31m│\u001b[0m \u001b[33m│\u001b[0m                  \u001b[33mTaskGroup'\u001b[0m\u001b[39m, \u001b[0m\u001b[1;39m[\u001b[0m\u001b[1;35mConnectError\u001b[0m\u001b[1;39m(\u001b[0m\u001b[33m'All connection attempts \u001b[0m     \u001b[33m│\u001b[0m \u001b[31m│\u001b[0m\n",
            "\u001b[31m│\u001b[0m \u001b[33m│\u001b[0m                  \u001b[33mfailed'\u001b[0m\u001b[1;39m)\u001b[0m\u001b[1;39m]\u001b[0m\u001b[1;39m)\u001b[0m\u001b[1m>\u001b[0m\u001b[1m)\u001b[0m                                            \u001b[33m│\u001b[0m \u001b[31m│\u001b[0m\n",
            "\u001b[31m│\u001b[0m \u001b[33m│\u001b[0m           task = \u001b[1m<\u001b[0m\u001b[1;95mTask\u001b[0m\u001b[39m finished \u001b[0m\u001b[33mname\u001b[0m\u001b[39m=\u001b[0m\u001b[33m'Task-1'\u001b[0m\u001b[39m \u001b[0m\u001b[33mcoro\u001b[0m\u001b[39m=<\u001b[0m\u001b[1;35mrun_agent\u001b[0m\u001b[1;39m(\u001b[0m\u001b[1;39m)\u001b[0m\u001b[39m done, \u001b[0m   \u001b[33m│\u001b[0m \u001b[31m│\u001b[0m\n",
            "\u001b[31m│\u001b[0m \u001b[33m│\u001b[0m                  \u001b[39mdefined at \u001b[0m                                             \u001b[33m│\u001b[0m \u001b[31m│\u001b[0m\n",
            "\u001b[31m│\u001b[0m \u001b[33m│\u001b[0m                  \u001b[35m/usr/local/lib/python3.11/dist-packages/huggingface_hu…\u001b[0m \u001b[33m│\u001b[0m \u001b[31m│\u001b[0m\n",
            "\u001b[31m│\u001b[0m \u001b[33m│\u001b[0m                  \u001b[33mexception\u001b[0m\u001b[39m=\u001b[0m\u001b[1;35mExceptionGroup\u001b[0m\u001b[1;39m(\u001b[0m\u001b[33m'unhandled errors in a \u001b[0m        \u001b[33m│\u001b[0m \u001b[31m│\u001b[0m\n",
            "\u001b[31m│\u001b[0m \u001b[33m│\u001b[0m                  \u001b[33mTaskGroup'\u001b[0m\u001b[39m, \u001b[0m\u001b[1;39m[\u001b[0m\u001b[1;35mConnectError\u001b[0m\u001b[1;39m(\u001b[0m\u001b[33m'All connection attempts \u001b[0m     \u001b[33m│\u001b[0m \u001b[31m│\u001b[0m\n",
            "\u001b[31m│\u001b[0m \u001b[33m│\u001b[0m                  \u001b[33mfailed'\u001b[0m\u001b[1;39m)\u001b[0m\u001b[1;39m]\u001b[0m\u001b[1;39m)\u001b[0m\u001b[1m>\u001b[0m                                             \u001b[33m│\u001b[0m \u001b[31m│\u001b[0m\n",
            "\u001b[31m│\u001b[0m \u001b[33m╰──────────────────────────────────────────────────────────────────────────╯\u001b[0m \u001b[31m│\u001b[0m\n",
            "\u001b[31m│\u001b[0m                                                                              \u001b[31m│\u001b[0m\n",
            "\u001b[31m│\u001b[0m \u001b[2;33m/usr/lib/python3.11/asyncio/\u001b[0m\u001b[1;33mbase_events.py\u001b[0m:\u001b[94m654\u001b[0m in \u001b[92mrun_until_complete\u001b[0m         \u001b[31m│\u001b[0m\n",
            "\u001b[31m│\u001b[0m                                                                              \u001b[31m│\u001b[0m\n",
            "\u001b[31m│\u001b[0m   \u001b[2m 651 \u001b[0m\u001b[2m│   │   \u001b[0m\u001b[94mif\u001b[0m \u001b[95mnot\u001b[0m future.done():                                         \u001b[31m│\u001b[0m\n",
            "\u001b[31m│\u001b[0m   \u001b[2m 652 \u001b[0m\u001b[2m│   │   │   \u001b[0m\u001b[94mraise\u001b[0m \u001b[96mRuntimeError\u001b[0m(\u001b[33m'\u001b[0m\u001b[33mEvent loop stopped before Future comp\u001b[0m \u001b[31m│\u001b[0m\n",
            "\u001b[31m│\u001b[0m   \u001b[2m 653 \u001b[0m\u001b[2m│   │   \u001b[0m                                                              \u001b[31m│\u001b[0m\n",
            "\u001b[31m│\u001b[0m \u001b[31m❱ \u001b[0m 654 \u001b[2m│   │   \u001b[0m\u001b[94mreturn\u001b[0m \u001b[1;4mfuture.result()\u001b[0m                                        \u001b[31m│\u001b[0m\n",
            "\u001b[31m│\u001b[0m   \u001b[2m 655 \u001b[0m\u001b[2m│   \u001b[0m                                                                  \u001b[31m│\u001b[0m\n",
            "\u001b[31m│\u001b[0m   \u001b[2m 656 \u001b[0m\u001b[2m│   \u001b[0m\u001b[94mdef\u001b[0m\u001b[90m \u001b[0m\u001b[92mstop\u001b[0m(\u001b[96mself\u001b[0m):                                                   \u001b[31m│\u001b[0m\n",
            "\u001b[31m│\u001b[0m   \u001b[2m 657 \u001b[0m\u001b[2;90m│   │   \u001b[0m\u001b[33m\"\"\"Stop running the event loop.\u001b[0m                               \u001b[31m│\u001b[0m\n",
            "\u001b[31m│\u001b[0m                                                                              \u001b[31m│\u001b[0m\n",
            "\u001b[31m│\u001b[0m \u001b[33m╭─\u001b[0m\u001b[33m────────────────────────────────\u001b[0m\u001b[33m locals \u001b[0m\u001b[33m────────────────────────────────\u001b[0m\u001b[33m─╮\u001b[0m \u001b[31m│\u001b[0m\n",
            "\u001b[31m│\u001b[0m \u001b[33m│\u001b[0m   future = \u001b[1m<\u001b[0m\u001b[1;95mTask\u001b[0m\u001b[39m finished \u001b[0m\u001b[33mname\u001b[0m\u001b[39m=\u001b[0m\u001b[33m'Task-1'\u001b[0m\u001b[39m \u001b[0m\u001b[33mcoro\u001b[0m\u001b[39m=<\u001b[0m\u001b[1;35mrun_agent\u001b[0m\u001b[1;39m(\u001b[0m\u001b[1;39m)\u001b[0m\u001b[39m done, defined \u001b[0m \u001b[33m│\u001b[0m \u001b[31m│\u001b[0m\n",
            "\u001b[31m│\u001b[0m \u001b[33m│\u001b[0m            \u001b[39mat \u001b[0m                                                           \u001b[33m│\u001b[0m \u001b[31m│\u001b[0m\n",
            "\u001b[31m│\u001b[0m \u001b[33m│\u001b[0m            \u001b[35m/usr/local/lib/python3.11/dist-packages/huggingface_hub/infe…\u001b[0m \u001b[33m│\u001b[0m \u001b[31m│\u001b[0m\n",
            "\u001b[31m│\u001b[0m \u001b[33m│\u001b[0m            \u001b[33mexception\u001b[0m\u001b[39m=\u001b[0m\u001b[1;35mExceptionGroup\u001b[0m\u001b[1;39m(\u001b[0m\u001b[33m'unhandled errors in a TaskGroup'\u001b[0m\u001b[39m, \u001b[0m  \u001b[33m│\u001b[0m \u001b[31m│\u001b[0m\n",
            "\u001b[31m│\u001b[0m \u001b[33m│\u001b[0m            \u001b[1;39m[\u001b[0m\u001b[1;35mConnectError\u001b[0m\u001b[1;39m(\u001b[0m\u001b[33m'All connection attempts failed'\u001b[0m\u001b[1;39m)\u001b[0m\u001b[1;39m]\u001b[0m\u001b[1;39m)\u001b[0m\u001b[1m>\u001b[0m            \u001b[33m│\u001b[0m \u001b[31m│\u001b[0m\n",
            "\u001b[31m│\u001b[0m \u001b[33m│\u001b[0m new_task = \u001b[94mFalse\u001b[0m                                                         \u001b[33m│\u001b[0m \u001b[31m│\u001b[0m\n",
            "\u001b[31m│\u001b[0m \u001b[33m│\u001b[0m     self = \u001b[1m<\u001b[0m\u001b[1;95m_UnixSelectorEventLoop\u001b[0m\u001b[39m \u001b[0m\u001b[33mrunning\u001b[0m\u001b[39m=\u001b[0m\u001b[94mFalse\u001b[0m\u001b[39m \u001b[0m\u001b[33mclosed\u001b[0m\u001b[39m=\u001b[0m\u001b[94mTrue\u001b[0m\u001b[39m \u001b[0m            \u001b[33m│\u001b[0m \u001b[31m│\u001b[0m\n",
            "\u001b[31m│\u001b[0m \u001b[33m│\u001b[0m            \u001b[33mdebug\u001b[0m\u001b[39m=\u001b[0m\u001b[94mFalse\u001b[0m\u001b[1m>\u001b[0m                                                  \u001b[33m│\u001b[0m \u001b[31m│\u001b[0m\n",
            "\u001b[31m│\u001b[0m \u001b[33m╰──────────────────────────────────────────────────────────────────────────╯\u001b[0m \u001b[31m│\u001b[0m\n",
            "\u001b[31m│\u001b[0m                                                                              \u001b[31m│\u001b[0m\n",
            "\u001b[31m│\u001b[0m \u001b[2;33m/usr/local/lib/python3.11/dist-packages/huggingface_hub/inference/_mcp/\u001b[0m\u001b[1;33mcli.p\u001b[0m \u001b[31m│\u001b[0m\n",
            "\u001b[31m│\u001b[0m \u001b[1;33my\u001b[0m:\u001b[94m212\u001b[0m in \u001b[92mrun_agent\u001b[0m                                                           \u001b[31m│\u001b[0m\n",
            "\u001b[31m│\u001b[0m                                                                              \u001b[31m│\u001b[0m\n",
            "\u001b[31m│\u001b[0m   \u001b[2m209 \u001b[0m\u001b[2m│   \u001b[0m\u001b[94mexcept\u001b[0m \u001b[96mException\u001b[0m \u001b[94mas\u001b[0m e:                                             \u001b[31m│\u001b[0m\n",
            "\u001b[31m│\u001b[0m   \u001b[2m210 \u001b[0m\u001b[2m│   │   \u001b[0mtb_str = traceback.format_exc()                                \u001b[31m│\u001b[0m\n",
            "\u001b[31m│\u001b[0m   \u001b[2m211 \u001b[0m\u001b[2m│   │   \u001b[0m\u001b[96mprint\u001b[0m(\u001b[33mf\u001b[0m\u001b[33m\"\u001b[0m\u001b[33m\\n\u001b[0m\u001b[33m[bold red]An unexpected error occurred: \u001b[0m\u001b[33m{\u001b[0me\u001b[33m}\u001b[0m\u001b[33m\\n\u001b[0m\u001b[33m{\u001b[0mtb_str \u001b[31m│\u001b[0m\n",
            "\u001b[31m│\u001b[0m \u001b[31m❱ \u001b[0m212 \u001b[2m│   │   \u001b[0m\u001b[94mraise\u001b[0m e                                                        \u001b[31m│\u001b[0m\n",
            "\u001b[31m│\u001b[0m   \u001b[2m213 \u001b[0m\u001b[2m│   \u001b[0m                                                                   \u001b[31m│\u001b[0m\n",
            "\u001b[31m│\u001b[0m   \u001b[2m214 \u001b[0m\u001b[2m│   \u001b[0m\u001b[94mfinally\u001b[0m:                                                           \u001b[31m│\u001b[0m\n",
            "\u001b[31m│\u001b[0m   \u001b[2m215 \u001b[0m\u001b[2m│   │   \u001b[0m\u001b[94mif\u001b[0m sigint_registered_in_loop:                                  \u001b[31m│\u001b[0m\n",
            "\u001b[31m│\u001b[0m                                                                              \u001b[31m│\u001b[0m\n",
            "\u001b[31m│\u001b[0m \u001b[33m╭─\u001b[0m\u001b[33m────────────────────────────────\u001b[0m\u001b[33m locals \u001b[0m\u001b[33m────────────────────────────────\u001b[0m\u001b[33m─╮\u001b[0m \u001b[31m│\u001b[0m\n",
            "\u001b[31m│\u001b[0m \u001b[33m│\u001b[0m               abort_event = \u001b[1m<\u001b[0m\u001b[1;95masyncio.locks.Event\u001b[0m\u001b[39m object at \u001b[0m              \u001b[33m│\u001b[0m \u001b[31m│\u001b[0m\n",
            "\u001b[31m│\u001b[0m \u001b[33m│\u001b[0m                             \u001b[94m0x7adaf57dd610\u001b[0m\u001b[39m \u001b[0m\u001b[1;39m[\u001b[0m\u001b[39munset\u001b[0m\u001b[1;39m]\u001b[0m\u001b[1m>\u001b[0m                      \u001b[33m│\u001b[0m \u001b[31m│\u001b[0m\n",
            "\u001b[31m│\u001b[0m \u001b[33m│\u001b[0m                     agent = \u001b[1m<\u001b[0m\u001b[1;95mhuggingface_hub.inference._mcp.agent.Agent\u001b[0m\u001b[39m \u001b[0m \u001b[33m│\u001b[0m \u001b[31m│\u001b[0m\n",
            "\u001b[31m│\u001b[0m \u001b[33m│\u001b[0m                             \u001b[39mobject at \u001b[0m\u001b[94m0x7adaf57dde10\u001b[0m\u001b[1m>\u001b[0m                    \u001b[33m│\u001b[0m \u001b[31m│\u001b[0m\n",
            "\u001b[31m│\u001b[0m \u001b[33m│\u001b[0m                agent_path = \u001b[33m'./my-agent'\u001b[0m                                 \u001b[33m│\u001b[0m \u001b[31m│\u001b[0m\n",
            "\u001b[31m│\u001b[0m \u001b[33m│\u001b[0m                    config = \u001b[1m{\u001b[0m                                            \u001b[33m│\u001b[0m \u001b[31m│\u001b[0m\n",
            "\u001b[31m│\u001b[0m \u001b[33m│\u001b[0m                             \u001b[2m│   \u001b[0m\u001b[33m'model'\u001b[0m: \u001b[33m'llama3.2:3b'\u001b[0m,                  \u001b[33m│\u001b[0m \u001b[31m│\u001b[0m\n",
            "\u001b[31m│\u001b[0m \u001b[33m│\u001b[0m                             \u001b[2m│   \u001b[0m\u001b[33m'endpointUrl'\u001b[0m:                           \u001b[33m│\u001b[0m \u001b[31m│\u001b[0m\n",
            "\u001b[31m│\u001b[0m \u001b[33m│\u001b[0m                             \u001b[33m'http://localhost:11434/'\u001b[0m,                   \u001b[33m│\u001b[0m \u001b[31m│\u001b[0m\n",
            "\u001b[31m│\u001b[0m \u001b[33m│\u001b[0m                             \u001b[2m│   \u001b[0m\u001b[33m'servers'\u001b[0m: \u001b[1m[\u001b[0m                             \u001b[33m│\u001b[0m \u001b[31m│\u001b[0m\n",
            "\u001b[31m│\u001b[0m \u001b[33m│\u001b[0m                             \u001b[2m│   │   \u001b[0m\u001b[1m{\u001b[0m                                    \u001b[33m│\u001b[0m \u001b[31m│\u001b[0m\n",
            "\u001b[31m│\u001b[0m \u001b[33m│\u001b[0m                             \u001b[2m│   │   │   \u001b[0m\u001b[33m'type'\u001b[0m: \u001b[33m'http'\u001b[0m,                  \u001b[33m│\u001b[0m \u001b[31m│\u001b[0m\n",
            "\u001b[31m│\u001b[0m \u001b[33m│\u001b[0m                             \u001b[2m│   │   │   \u001b[0m\u001b[33m'url'\u001b[0m:                           \u001b[33m│\u001b[0m \u001b[31m│\u001b[0m\n",
            "\u001b[31m│\u001b[0m \u001b[33m│\u001b[0m                             \u001b[33m'http://localhost:11434/mcp'\u001b[0m                 \u001b[33m│\u001b[0m \u001b[31m│\u001b[0m\n",
            "\u001b[31m│\u001b[0m \u001b[33m│\u001b[0m                             \u001b[2m│   │   \u001b[0m\u001b[1m}\u001b[0m                                    \u001b[33m│\u001b[0m \u001b[31m│\u001b[0m\n",
            "\u001b[31m│\u001b[0m \u001b[33m│\u001b[0m                             \u001b[2m│   \u001b[0m\u001b[1m]\u001b[0m                                        \u001b[33m│\u001b[0m \u001b[31m│\u001b[0m\n",
            "\u001b[31m│\u001b[0m \u001b[33m│\u001b[0m                             \u001b[1m}\u001b[0m                                            \u001b[33m│\u001b[0m \u001b[31m│\u001b[0m\n",
            "\u001b[31m│\u001b[0m \u001b[33m│\u001b[0m                exit_event = \u001b[1m<\u001b[0m\u001b[1;95masyncio.locks.Event\u001b[0m\u001b[39m object at \u001b[0m              \u001b[33m│\u001b[0m \u001b[31m│\u001b[0m\n",
            "\u001b[31m│\u001b[0m \u001b[33m│\u001b[0m                             \u001b[94m0x7adaf57ddf90\u001b[0m\u001b[39m \u001b[0m\u001b[1;39m[\u001b[0m\u001b[39munset\u001b[0m\u001b[1;39m]\u001b[0m\u001b[1m>\u001b[0m                      \u001b[33m│\u001b[0m \u001b[31m│\u001b[0m\n",
            "\u001b[31m│\u001b[0m \u001b[33m│\u001b[0m              first_sigint = \u001b[94mTrue\u001b[0m                                         \u001b[33m│\u001b[0m \u001b[31m│\u001b[0m\n",
            "\u001b[31m│\u001b[0m \u001b[33m│\u001b[0m                    inputs = \u001b[1m[\u001b[0m\u001b[1m]\u001b[0m                                           \u001b[33m│\u001b[0m \u001b[31m│\u001b[0m\n",
            "\u001b[31m│\u001b[0m \u001b[33m│\u001b[0m                      loop = \u001b[1m<\u001b[0m\u001b[1;95m_UnixSelectorEventLoop\u001b[0m\u001b[39m \u001b[0m\u001b[33mrunning\u001b[0m\u001b[39m=\u001b[0m\u001b[94mFalse\u001b[0m\u001b[39m \u001b[0m       \u001b[33m│\u001b[0m \u001b[31m│\u001b[0m\n",
            "\u001b[31m│\u001b[0m \u001b[33m│\u001b[0m                             \u001b[33mclosed\u001b[0m\u001b[39m=\u001b[0m\u001b[94mTrue\u001b[0m\u001b[39m \u001b[0m\u001b[33mdebug\u001b[0m\u001b[39m=\u001b[0m\u001b[94mFalse\u001b[0m\u001b[1m>\u001b[0m                     \u001b[33m│\u001b[0m \u001b[31m│\u001b[0m\n",
            "\u001b[31m│\u001b[0m \u001b[33m│\u001b[0m   original_sigint_handler = \u001b[1;35mfunctools.partial\u001b[0m\u001b[1m(\u001b[0m\u001b[1m<\u001b[0m\u001b[1;95mbound\u001b[0m\u001b[39m method \u001b[0m             \u001b[33m│\u001b[0m \u001b[31m│\u001b[0m\n",
            "\u001b[31m│\u001b[0m \u001b[33m│\u001b[0m                             \u001b[39mRunner._on_sigint of <asyncio.runners.Runner\u001b[0m \u001b[33m│\u001b[0m \u001b[31m│\u001b[0m\n",
            "\u001b[31m│\u001b[0m \u001b[33m│\u001b[0m                             \u001b[39mobject at \u001b[0m\u001b[94m0x7adaf57dc390\u001b[0m\u001b[39m>>, \u001b[0m\u001b[33mmain_task\u001b[0m\u001b[39m=<Task \u001b[0m \u001b[33m│\u001b[0m \u001b[31m│\u001b[0m\n",
            "\u001b[31m│\u001b[0m \u001b[33m│\u001b[0m                             \u001b[39mfinished \u001b[0m\u001b[33mname\u001b[0m\u001b[39m=\u001b[0m\u001b[33m'Task-1'\u001b[0m\u001b[39m \u001b[0m\u001b[33mcoro\u001b[0m\u001b[39m=<\u001b[0m\u001b[1;35mrun_agent\u001b[0m\u001b[1;39m(\u001b[0m\u001b[1;39m)\u001b[0m\u001b[39m \u001b[0m    \u001b[33m│\u001b[0m \u001b[31m│\u001b[0m\n",
            "\u001b[31m│\u001b[0m \u001b[33m│\u001b[0m                             \u001b[39mdone, defined at \u001b[0m                            \u001b[33m│\u001b[0m \u001b[31m│\u001b[0m\n",
            "\u001b[31m│\u001b[0m \u001b[33m│\u001b[0m                             \u001b[35m/usr/local/lib/python3.11/dist-packages/hug…\u001b[0m \u001b[33m│\u001b[0m \u001b[31m│\u001b[0m\n",
            "\u001b[31m│\u001b[0m \u001b[33m│\u001b[0m                             \u001b[33mexception\u001b[0m\u001b[39m=\u001b[0m\u001b[1;35mExceptionGroup\u001b[0m\u001b[1;39m(\u001b[0m\u001b[33m'unhandled errors \u001b[0m  \u001b[33m│\u001b[0m \u001b[31m│\u001b[0m\n",
            "\u001b[31m│\u001b[0m \u001b[33m│\u001b[0m                             \u001b[33min a TaskGroup'\u001b[0m\u001b[39m, \u001b[0m\u001b[1;39m[\u001b[0m\u001b[1;35mConnectError\u001b[0m\u001b[1;39m(\u001b[0m\u001b[33m'All \u001b[0m         \u001b[33m│\u001b[0m \u001b[31m│\u001b[0m\n",
            "\u001b[31m│\u001b[0m \u001b[33m│\u001b[0m                             \u001b[33mconnection attempts failed'\u001b[0m\u001b[1;39m)\u001b[0m\u001b[1;39m]\u001b[0m\u001b[1;39m)\u001b[0m\u001b[1m>\u001b[0m\u001b[1m)\u001b[0m             \u001b[33m│\u001b[0m \u001b[31m│\u001b[0m\n",
            "\u001b[31m│\u001b[0m \u001b[33m│\u001b[0m                    prompt = \u001b[94mNone\u001b[0m                                         \u001b[33m│\u001b[0m \u001b[31m│\u001b[0m\n",
            "\u001b[31m│\u001b[0m \u001b[33m│\u001b[0m               raw_api_key = \u001b[94mNone\u001b[0m                                         \u001b[33m│\u001b[0m \u001b[31m│\u001b[0m\n",
            "\u001b[31m│\u001b[0m \u001b[33m│\u001b[0m           resolved_inputs = \u001b[1m{\u001b[0m\u001b[1m}\u001b[0m                                           \u001b[33m│\u001b[0m \u001b[31m│\u001b[0m\n",
            "\u001b[31m│\u001b[0m \u001b[33m│\u001b[0m                   servers = \u001b[1m[\u001b[0m                                            \u001b[33m│\u001b[0m \u001b[31m│\u001b[0m\n",
            "\u001b[31m│\u001b[0m \u001b[33m│\u001b[0m                             \u001b[2m│   \u001b[0m\u001b[1m{\u001b[0m                                        \u001b[33m│\u001b[0m \u001b[31m│\u001b[0m\n",
            "\u001b[31m│\u001b[0m \u001b[33m│\u001b[0m                             \u001b[2m│   │   \u001b[0m\u001b[33m'type'\u001b[0m: \u001b[33m'http'\u001b[0m,                      \u001b[33m│\u001b[0m \u001b[31m│\u001b[0m\n",
            "\u001b[31m│\u001b[0m \u001b[33m│\u001b[0m                             \u001b[2m│   │   \u001b[0m\u001b[33m'url'\u001b[0m: \u001b[33m'http://localhost:11434/mcp'\u001b[0m  \u001b[33m│\u001b[0m \u001b[31m│\u001b[0m\n",
            "\u001b[31m│\u001b[0m \u001b[33m│\u001b[0m                             \u001b[2m│   \u001b[0m\u001b[1m}\u001b[0m                                        \u001b[33m│\u001b[0m \u001b[31m│\u001b[0m\n",
            "\u001b[31m│\u001b[0m \u001b[33m│\u001b[0m                             \u001b[1m]\u001b[0m                                            \u001b[33m│\u001b[0m \u001b[31m│\u001b[0m\n",
            "\u001b[31m│\u001b[0m \u001b[33m│\u001b[0m sigint_registered_in_loop = \u001b[94mTrue\u001b[0m                                         \u001b[33m│\u001b[0m \u001b[31m│\u001b[0m\n",
            "\u001b[31m│\u001b[0m \u001b[33m│\u001b[0m                    tb_str = \u001b[33m'  + Exception Group Traceback \u001b[0m\u001b[1;33m(\u001b[0m\u001b[33mmost recent \u001b[0m \u001b[33m│\u001b[0m \u001b[31m│\u001b[0m\n",
            "\u001b[31m│\u001b[0m \u001b[33m│\u001b[0m                             \u001b[33mcall last\u001b[0m\u001b[1;33m)\u001b[0m\u001b[33m:\\n  |   File \"/usr/local/li'\u001b[0m+\u001b[94m5671\u001b[0m \u001b[33m│\u001b[0m \u001b[31m│\u001b[0m\n",
            "\u001b[31m│\u001b[0m \u001b[33m╰──────────────────────────────────────────────────────────────────────────╯\u001b[0m \u001b[31m│\u001b[0m\n",
            "\u001b[31m│\u001b[0m                                                                              \u001b[31m│\u001b[0m\n",
            "\u001b[31m│\u001b[0m \u001b[2;33m/usr/local/lib/python3.11/dist-packages/huggingface_hub/inference/_mcp/\u001b[0m\u001b[1;33mcli.p\u001b[0m \u001b[31m│\u001b[0m\n",
            "\u001b[31m│\u001b[0m \u001b[1;33my\u001b[0m:\u001b[94m144\u001b[0m in \u001b[92mrun_agent\u001b[0m                                                           \u001b[31m│\u001b[0m\n",
            "\u001b[31m│\u001b[0m                                                                              \u001b[31m│\u001b[0m\n",
            "\u001b[31m│\u001b[0m   \u001b[2m141 \u001b[0m\u001b[2m│   │   │   │   \u001b[0msubstituted_api_key = substituted_api_key.replace(\u001b[33mf\u001b[0m\u001b[33m\"\u001b[0m\u001b[33m$\u001b[0m\u001b[33m{\u001b[0m \u001b[31m│\u001b[0m\n",
            "\u001b[31m│\u001b[0m   \u001b[2m142 \u001b[0m\u001b[2m│   │   │   \u001b[0mconfig[\u001b[33m\"\u001b[0m\u001b[33mapiKey\u001b[0m\u001b[33m\"\u001b[0m] = substituted_api_key                     \u001b[31m│\u001b[0m\n",
            "\u001b[31m│\u001b[0m   \u001b[2m143 \u001b[0m\u001b[2m│   │   \u001b[0m\u001b[2m# Main agent loop\u001b[0m                                              \u001b[31m│\u001b[0m\n",
            "\u001b[31m│\u001b[0m \u001b[31m❱ \u001b[0m144 \u001b[2m│   │   \u001b[0m\u001b[94masync\u001b[0m \u001b[94mwith\u001b[0m Agent(                                              \u001b[31m│\u001b[0m\n",
            "\u001b[31m│\u001b[0m   \u001b[2m145 \u001b[0m\u001b[2m│   │   │   \u001b[0mprovider=config.get(\u001b[33m\"\u001b[0m\u001b[33mprovider\u001b[0m\u001b[33m\"\u001b[0m),  \u001b[2m# type: ignore[arg-type]\u001b[0m \u001b[31m│\u001b[0m\n",
            "\u001b[31m│\u001b[0m   \u001b[2m146 \u001b[0m\u001b[2m│   │   │   \u001b[0mmodel=config.get(\u001b[33m\"\u001b[0m\u001b[33mmodel\u001b[0m\u001b[33m\"\u001b[0m),                                 \u001b[31m│\u001b[0m\n",
            "\u001b[31m│\u001b[0m   \u001b[2m147 \u001b[0m\u001b[2m│   │   │   \u001b[0mbase_url=config.get(\u001b[33m\"\u001b[0m\u001b[33mendpointUrl\u001b[0m\u001b[33m\"\u001b[0m),  \u001b[2m# type: ignore[arg-ty\u001b[0m \u001b[31m│\u001b[0m\n",
            "\u001b[31m│\u001b[0m                                                                              \u001b[31m│\u001b[0m\n",
            "\u001b[31m│\u001b[0m \u001b[33m╭─\u001b[0m\u001b[33m────────────────────────────────\u001b[0m\u001b[33m locals \u001b[0m\u001b[33m────────────────────────────────\u001b[0m\u001b[33m─╮\u001b[0m \u001b[31m│\u001b[0m\n",
            "\u001b[31m│\u001b[0m \u001b[33m│\u001b[0m               abort_event = \u001b[1m<\u001b[0m\u001b[1;95masyncio.locks.Event\u001b[0m\u001b[39m object at \u001b[0m              \u001b[33m│\u001b[0m \u001b[31m│\u001b[0m\n",
            "\u001b[31m│\u001b[0m \u001b[33m│\u001b[0m                             \u001b[94m0x7adaf57dd610\u001b[0m\u001b[39m \u001b[0m\u001b[1;39m[\u001b[0m\u001b[39munset\u001b[0m\u001b[1;39m]\u001b[0m\u001b[1m>\u001b[0m                      \u001b[33m│\u001b[0m \u001b[31m│\u001b[0m\n",
            "\u001b[31m│\u001b[0m \u001b[33m│\u001b[0m                     agent = \u001b[1m<\u001b[0m\u001b[1;95mhuggingface_hub.inference._mcp.agent.Agent\u001b[0m\u001b[39m \u001b[0m \u001b[33m│\u001b[0m \u001b[31m│\u001b[0m\n",
            "\u001b[31m│\u001b[0m \u001b[33m│\u001b[0m                             \u001b[39mobject at \u001b[0m\u001b[94m0x7adaf57dde10\u001b[0m\u001b[1m>\u001b[0m                    \u001b[33m│\u001b[0m \u001b[31m│\u001b[0m\n",
            "\u001b[31m│\u001b[0m \u001b[33m│\u001b[0m                agent_path = \u001b[33m'./my-agent'\u001b[0m                                 \u001b[33m│\u001b[0m \u001b[31m│\u001b[0m\n",
            "\u001b[31m│\u001b[0m \u001b[33m│\u001b[0m                    config = \u001b[1m{\u001b[0m                                            \u001b[33m│\u001b[0m \u001b[31m│\u001b[0m\n",
            "\u001b[31m│\u001b[0m \u001b[33m│\u001b[0m                             \u001b[2m│   \u001b[0m\u001b[33m'model'\u001b[0m: \u001b[33m'llama3.2:3b'\u001b[0m,                  \u001b[33m│\u001b[0m \u001b[31m│\u001b[0m\n",
            "\u001b[31m│\u001b[0m \u001b[33m│\u001b[0m                             \u001b[2m│   \u001b[0m\u001b[33m'endpointUrl'\u001b[0m:                           \u001b[33m│\u001b[0m \u001b[31m│\u001b[0m\n",
            "\u001b[31m│\u001b[0m \u001b[33m│\u001b[0m                             \u001b[33m'http://localhost:11434/'\u001b[0m,                   \u001b[33m│\u001b[0m \u001b[31m│\u001b[0m\n",
            "\u001b[31m│\u001b[0m \u001b[33m│\u001b[0m                             \u001b[2m│   \u001b[0m\u001b[33m'servers'\u001b[0m: \u001b[1m[\u001b[0m                             \u001b[33m│\u001b[0m \u001b[31m│\u001b[0m\n",
            "\u001b[31m│\u001b[0m \u001b[33m│\u001b[0m                             \u001b[2m│   │   \u001b[0m\u001b[1m{\u001b[0m                                    \u001b[33m│\u001b[0m \u001b[31m│\u001b[0m\n",
            "\u001b[31m│\u001b[0m \u001b[33m│\u001b[0m                             \u001b[2m│   │   │   \u001b[0m\u001b[33m'type'\u001b[0m: \u001b[33m'http'\u001b[0m,                  \u001b[33m│\u001b[0m \u001b[31m│\u001b[0m\n",
            "\u001b[31m│\u001b[0m \u001b[33m│\u001b[0m                             \u001b[2m│   │   │   \u001b[0m\u001b[33m'url'\u001b[0m:                           \u001b[33m│\u001b[0m \u001b[31m│\u001b[0m\n",
            "\u001b[31m│\u001b[0m \u001b[33m│\u001b[0m                             \u001b[33m'http://localhost:11434/mcp'\u001b[0m                 \u001b[33m│\u001b[0m \u001b[31m│\u001b[0m\n",
            "\u001b[31m│\u001b[0m \u001b[33m│\u001b[0m                             \u001b[2m│   │   \u001b[0m\u001b[1m}\u001b[0m                                    \u001b[33m│\u001b[0m \u001b[31m│\u001b[0m\n",
            "\u001b[31m│\u001b[0m \u001b[33m│\u001b[0m                             \u001b[2m│   \u001b[0m\u001b[1m]\u001b[0m                                        \u001b[33m│\u001b[0m \u001b[31m│\u001b[0m\n",
            "\u001b[31m│\u001b[0m \u001b[33m│\u001b[0m                             \u001b[1m}\u001b[0m                                            \u001b[33m│\u001b[0m \u001b[31m│\u001b[0m\n",
            "\u001b[31m│\u001b[0m \u001b[33m│\u001b[0m                exit_event = \u001b[1m<\u001b[0m\u001b[1;95masyncio.locks.Event\u001b[0m\u001b[39m object at \u001b[0m              \u001b[33m│\u001b[0m \u001b[31m│\u001b[0m\n",
            "\u001b[31m│\u001b[0m \u001b[33m│\u001b[0m                             \u001b[94m0x7adaf57ddf90\u001b[0m\u001b[39m \u001b[0m\u001b[1;39m[\u001b[0m\u001b[39munset\u001b[0m\u001b[1;39m]\u001b[0m\u001b[1m>\u001b[0m                      \u001b[33m│\u001b[0m \u001b[31m│\u001b[0m\n",
            "\u001b[31m│\u001b[0m \u001b[33m│\u001b[0m              first_sigint = \u001b[94mTrue\u001b[0m                                         \u001b[33m│\u001b[0m \u001b[31m│\u001b[0m\n",
            "\u001b[31m│\u001b[0m \u001b[33m│\u001b[0m                    inputs = \u001b[1m[\u001b[0m\u001b[1m]\u001b[0m                                           \u001b[33m│\u001b[0m \u001b[31m│\u001b[0m\n",
            "\u001b[31m│\u001b[0m \u001b[33m│\u001b[0m                      loop = \u001b[1m<\u001b[0m\u001b[1;95m_UnixSelectorEventLoop\u001b[0m\u001b[39m \u001b[0m\u001b[33mrunning\u001b[0m\u001b[39m=\u001b[0m\u001b[94mFalse\u001b[0m\u001b[39m \u001b[0m       \u001b[33m│\u001b[0m \u001b[31m│\u001b[0m\n",
            "\u001b[31m│\u001b[0m \u001b[33m│\u001b[0m                             \u001b[33mclosed\u001b[0m\u001b[39m=\u001b[0m\u001b[94mTrue\u001b[0m\u001b[39m \u001b[0m\u001b[33mdebug\u001b[0m\u001b[39m=\u001b[0m\u001b[94mFalse\u001b[0m\u001b[1m>\u001b[0m                     \u001b[33m│\u001b[0m \u001b[31m│\u001b[0m\n",
            "\u001b[31m│\u001b[0m \u001b[33m│\u001b[0m   original_sigint_handler = \u001b[1;35mfunctools.partial\u001b[0m\u001b[1m(\u001b[0m\u001b[1m<\u001b[0m\u001b[1;95mbound\u001b[0m\u001b[39m method \u001b[0m             \u001b[33m│\u001b[0m \u001b[31m│\u001b[0m\n",
            "\u001b[31m│\u001b[0m \u001b[33m│\u001b[0m                             \u001b[39mRunner._on_sigint of <asyncio.runners.Runner\u001b[0m \u001b[33m│\u001b[0m \u001b[31m│\u001b[0m\n",
            "\u001b[31m│\u001b[0m \u001b[33m│\u001b[0m                             \u001b[39mobject at \u001b[0m\u001b[94m0x7adaf57dc390\u001b[0m\u001b[39m>>, \u001b[0m\u001b[33mmain_task\u001b[0m\u001b[39m=<Task \u001b[0m \u001b[33m│\u001b[0m \u001b[31m│\u001b[0m\n",
            "\u001b[31m│\u001b[0m \u001b[33m│\u001b[0m                             \u001b[39mfinished \u001b[0m\u001b[33mname\u001b[0m\u001b[39m=\u001b[0m\u001b[33m'Task-1'\u001b[0m\u001b[39m \u001b[0m\u001b[33mcoro\u001b[0m\u001b[39m=<\u001b[0m\u001b[1;35mrun_agent\u001b[0m\u001b[1;39m(\u001b[0m\u001b[1;39m)\u001b[0m\u001b[39m \u001b[0m    \u001b[33m│\u001b[0m \u001b[31m│\u001b[0m\n",
            "\u001b[31m│\u001b[0m \u001b[33m│\u001b[0m                             \u001b[39mdone, defined at \u001b[0m                            \u001b[33m│\u001b[0m \u001b[31m│\u001b[0m\n",
            "\u001b[31m│\u001b[0m \u001b[33m│\u001b[0m                             \u001b[35m/usr/local/lib/python3.11/dist-packages/hug…\u001b[0m \u001b[33m│\u001b[0m \u001b[31m│\u001b[0m\n",
            "\u001b[31m│\u001b[0m \u001b[33m│\u001b[0m                             \u001b[33mexception\u001b[0m\u001b[39m=\u001b[0m\u001b[1;35mExceptionGroup\u001b[0m\u001b[1;39m(\u001b[0m\u001b[33m'unhandled errors \u001b[0m  \u001b[33m│\u001b[0m \u001b[31m│\u001b[0m\n",
            "\u001b[31m│\u001b[0m \u001b[33m│\u001b[0m                             \u001b[33min a TaskGroup'\u001b[0m\u001b[39m, \u001b[0m\u001b[1;39m[\u001b[0m\u001b[1;35mConnectError\u001b[0m\u001b[1;39m(\u001b[0m\u001b[33m'All \u001b[0m         \u001b[33m│\u001b[0m \u001b[31m│\u001b[0m\n",
            "\u001b[31m│\u001b[0m \u001b[33m│\u001b[0m                             \u001b[33mconnection attempts failed'\u001b[0m\u001b[1;39m)\u001b[0m\u001b[1;39m]\u001b[0m\u001b[1;39m)\u001b[0m\u001b[1m>\u001b[0m\u001b[1m)\u001b[0m             \u001b[33m│\u001b[0m \u001b[31m│\u001b[0m\n",
            "\u001b[31m│\u001b[0m \u001b[33m│\u001b[0m                    prompt = \u001b[94mNone\u001b[0m                                         \u001b[33m│\u001b[0m \u001b[31m│\u001b[0m\n",
            "\u001b[31m│\u001b[0m \u001b[33m│\u001b[0m               raw_api_key = \u001b[94mNone\u001b[0m                                         \u001b[33m│\u001b[0m \u001b[31m│\u001b[0m\n",
            "\u001b[31m│\u001b[0m \u001b[33m│\u001b[0m           resolved_inputs = \u001b[1m{\u001b[0m\u001b[1m}\u001b[0m                                           \u001b[33m│\u001b[0m \u001b[31m│\u001b[0m\n",
            "\u001b[31m│\u001b[0m \u001b[33m│\u001b[0m                   servers = \u001b[1m[\u001b[0m                                            \u001b[33m│\u001b[0m \u001b[31m│\u001b[0m\n",
            "\u001b[31m│\u001b[0m \u001b[33m│\u001b[0m                             \u001b[2m│   \u001b[0m\u001b[1m{\u001b[0m                                        \u001b[33m│\u001b[0m \u001b[31m│\u001b[0m\n",
            "\u001b[31m│\u001b[0m \u001b[33m│\u001b[0m                             \u001b[2m│   │   \u001b[0m\u001b[33m'type'\u001b[0m: \u001b[33m'http'\u001b[0m,                      \u001b[33m│\u001b[0m \u001b[31m│\u001b[0m\n",
            "\u001b[31m│\u001b[0m \u001b[33m│\u001b[0m                             \u001b[2m│   │   \u001b[0m\u001b[33m'url'\u001b[0m: \u001b[33m'http://localhost:11434/mcp'\u001b[0m  \u001b[33m│\u001b[0m \u001b[31m│\u001b[0m\n",
            "\u001b[31m│\u001b[0m \u001b[33m│\u001b[0m                             \u001b[2m│   \u001b[0m\u001b[1m}\u001b[0m                                        \u001b[33m│\u001b[0m \u001b[31m│\u001b[0m\n",
            "\u001b[31m│\u001b[0m \u001b[33m│\u001b[0m                             \u001b[1m]\u001b[0m                                            \u001b[33m│\u001b[0m \u001b[31m│\u001b[0m\n",
            "\u001b[31m│\u001b[0m \u001b[33m│\u001b[0m sigint_registered_in_loop = \u001b[94mTrue\u001b[0m                                         \u001b[33m│\u001b[0m \u001b[31m│\u001b[0m\n",
            "\u001b[31m│\u001b[0m \u001b[33m│\u001b[0m                    tb_str = \u001b[33m'  + Exception Group Traceback \u001b[0m\u001b[1;33m(\u001b[0m\u001b[33mmost recent \u001b[0m \u001b[33m│\u001b[0m \u001b[31m│\u001b[0m\n",
            "\u001b[31m│\u001b[0m \u001b[33m│\u001b[0m                             \u001b[33mcall last\u001b[0m\u001b[1;33m)\u001b[0m\u001b[33m:\\n  |   File \"/usr/local/li'\u001b[0m+\u001b[94m5671\u001b[0m \u001b[33m│\u001b[0m \u001b[31m│\u001b[0m\n",
            "\u001b[31m│\u001b[0m \u001b[33m╰──────────────────────────────────────────────────────────────────────────╯\u001b[0m \u001b[31m│\u001b[0m\n",
            "\u001b[31m│\u001b[0m                                                                              \u001b[31m│\u001b[0m\n",
            "\u001b[31m│\u001b[0m \u001b[2;33m/usr/local/lib/python3.11/dist-packages/huggingface_hub/inference/_mcp/\u001b[0m\u001b[1;33mmcp_c\u001b[0m \u001b[31m│\u001b[0m\n",
            "\u001b[31m│\u001b[0m \u001b[1;33mlient.py\u001b[0m:\u001b[94m110\u001b[0m in \u001b[92m__aexit__\u001b[0m                                                    \u001b[31m│\u001b[0m\n",
            "\u001b[31m│\u001b[0m                                                                              \u001b[31m│\u001b[0m\n",
            "\u001b[31m│\u001b[0m   \u001b[2m107 \u001b[0m\u001b[2m│   \u001b[0m\u001b[94masync\u001b[0m \u001b[94mdef\u001b[0m\u001b[90m \u001b[0m\u001b[92m__aexit__\u001b[0m(\u001b[96mself\u001b[0m, exc_type, exc_val, exc_tb):              \u001b[31m│\u001b[0m\n",
            "\u001b[31m│\u001b[0m   \u001b[2m108 \u001b[0m\u001b[2;90m│   │   \u001b[0m\u001b[33m\"\"\"Exit the context manager\"\"\"\u001b[0m                                 \u001b[31m│\u001b[0m\n",
            "\u001b[31m│\u001b[0m   \u001b[2m109 \u001b[0m\u001b[2m│   │   \u001b[0m\u001b[94mawait\u001b[0m \u001b[96mself\u001b[0m.client.\u001b[92m__aexit__\u001b[0m(exc_type, exc_val, exc_tb)         \u001b[31m│\u001b[0m\n",
            "\u001b[31m│\u001b[0m \u001b[31m❱ \u001b[0m110 \u001b[2m│   │   \u001b[0m\u001b[1;4;94mawait\u001b[0m\u001b[1;4m \u001b[0m\u001b[1;4;96mself\u001b[0m\u001b[1;4m.cleanup()\u001b[0m                                           \u001b[31m│\u001b[0m\n",
            "\u001b[31m│\u001b[0m   \u001b[2m111 \u001b[0m\u001b[2m│   \u001b[0m                                                                   \u001b[31m│\u001b[0m\n",
            "\u001b[31m│\u001b[0m   \u001b[2m112 \u001b[0m\u001b[2m│   \u001b[0m\u001b[94masync\u001b[0m \u001b[94mdef\u001b[0m\u001b[90m \u001b[0m\u001b[92mcleanup\u001b[0m(\u001b[96mself\u001b[0m):                                           \u001b[31m│\u001b[0m\n",
            "\u001b[31m│\u001b[0m   \u001b[2m113 \u001b[0m\u001b[2;90m│   │   \u001b[0m\u001b[33m\"\"\"Clean up resources\"\"\"\u001b[0m                                       \u001b[31m│\u001b[0m\n",
            "\u001b[31m│\u001b[0m                                                                              \u001b[31m│\u001b[0m\n",
            "\u001b[31m│\u001b[0m \u001b[33m╭─\u001b[0m\u001b[33m────────────────────────────────\u001b[0m\u001b[33m locals \u001b[0m\u001b[33m────────────────────────────────\u001b[0m\u001b[33m─╮\u001b[0m \u001b[31m│\u001b[0m\n",
            "\u001b[31m│\u001b[0m \u001b[33m│\u001b[0m  exc_tb = \u001b[1m<\u001b[0m\u001b[1;95mtraceback\u001b[0m\u001b[39m object at \u001b[0m\u001b[94m0x7adaf44d2c00\u001b[0m\u001b[1m>\u001b[0m                           \u001b[33m│\u001b[0m \u001b[31m│\u001b[0m\n",
            "\u001b[31m│\u001b[0m \u001b[33m│\u001b[0m exc_val = \u001b[1;35mCancelledError\u001b[0m\u001b[1m(\u001b[0m\u001b[33m'Cancelled by cancel scope 7adaf569be50'\u001b[0m\u001b[1m)\u001b[0m       \u001b[33m│\u001b[0m \u001b[31m│\u001b[0m\n",
            "\u001b[31m│\u001b[0m \u001b[33m│\u001b[0m    self = \u001b[1m<\u001b[0m\u001b[1;95mhuggingface_hub.inference._mcp.agent.Agent\u001b[0m\u001b[39m object at \u001b[0m         \u001b[33m│\u001b[0m \u001b[31m│\u001b[0m\n",
            "\u001b[31m│\u001b[0m \u001b[33m│\u001b[0m           \u001b[94m0x7adaf57dde10\u001b[0m\u001b[1m>\u001b[0m                                                \u001b[33m│\u001b[0m \u001b[31m│\u001b[0m\n",
            "\u001b[31m│\u001b[0m \u001b[33m╰──────────────────────────────────────────────────────────────────────────╯\u001b[0m \u001b[31m│\u001b[0m\n",
            "\u001b[31m│\u001b[0m                                                                              \u001b[31m│\u001b[0m\n",
            "\u001b[31m│\u001b[0m \u001b[2;33m/usr/local/lib/python3.11/dist-packages/huggingface_hub/inference/_mcp/\u001b[0m\u001b[1;33mmcp_c\u001b[0m \u001b[31m│\u001b[0m\n",
            "\u001b[31m│\u001b[0m \u001b[1;33mlient.py\u001b[0m:\u001b[94m115\u001b[0m in \u001b[92mcleanup\u001b[0m                                                      \u001b[31m│\u001b[0m\n",
            "\u001b[31m│\u001b[0m                                                                              \u001b[31m│\u001b[0m\n",
            "\u001b[31m│\u001b[0m   \u001b[2m112 \u001b[0m\u001b[2m│   \u001b[0m\u001b[94masync\u001b[0m \u001b[94mdef\u001b[0m\u001b[90m \u001b[0m\u001b[92mcleanup\u001b[0m(\u001b[96mself\u001b[0m):                                           \u001b[31m│\u001b[0m\n",
            "\u001b[31m│\u001b[0m   \u001b[2m113 \u001b[0m\u001b[2;90m│   │   \u001b[0m\u001b[33m\"\"\"Clean up resources\"\"\"\u001b[0m                                       \u001b[31m│\u001b[0m\n",
            "\u001b[31m│\u001b[0m   \u001b[2m114 \u001b[0m\u001b[2m│   │   \u001b[0m\u001b[94mawait\u001b[0m \u001b[96mself\u001b[0m.client.close()                                      \u001b[31m│\u001b[0m\n",
            "\u001b[31m│\u001b[0m \u001b[31m❱ \u001b[0m115 \u001b[2m│   │   \u001b[0m\u001b[1;4;94mawait\u001b[0m\u001b[1;4m \u001b[0m\u001b[1;4;96mself\u001b[0m\u001b[1;4m.exit_stack.aclose()\u001b[0m                                 \u001b[31m│\u001b[0m\n",
            "\u001b[31m│\u001b[0m   \u001b[2m116 \u001b[0m\u001b[2m│   \u001b[0m                                                                   \u001b[31m│\u001b[0m\n",
            "\u001b[31m│\u001b[0m   \u001b[2m117 \u001b[0m\u001b[2m│   \u001b[0m\u001b[1;95m@overload\u001b[0m                                                          \u001b[31m│\u001b[0m\n",
            "\u001b[31m│\u001b[0m   \u001b[2m118 \u001b[0m\u001b[2m│   \u001b[0m\u001b[94masync\u001b[0m \u001b[94mdef\u001b[0m\u001b[90m \u001b[0m\u001b[92madd_mcp_server\u001b[0m(\u001b[96mself\u001b[0m, \u001b[96mtype\u001b[0m: Literal[\u001b[33m\"\u001b[0m\u001b[33mstdio\u001b[0m\u001b[33m\"\u001b[0m], **params: U \u001b[31m│\u001b[0m\n",
            "\u001b[31m│\u001b[0m                                                                              \u001b[31m│\u001b[0m\n",
            "\u001b[31m│\u001b[0m \u001b[33m╭─\u001b[0m\u001b[33m────────────────────────────────\u001b[0m\u001b[33m locals \u001b[0m\u001b[33m────────────────────────────────\u001b[0m\u001b[33m─╮\u001b[0m \u001b[31m│\u001b[0m\n",
            "\u001b[31m│\u001b[0m \u001b[33m│\u001b[0m self = \u001b[1m<\u001b[0m\u001b[1;95mhuggingface_hub.inference._mcp.agent.Agent\u001b[0m\u001b[39m object at \u001b[0m            \u001b[33m│\u001b[0m \u001b[31m│\u001b[0m\n",
            "\u001b[31m│\u001b[0m \u001b[33m│\u001b[0m        \u001b[94m0x7adaf57dde10\u001b[0m\u001b[1m>\u001b[0m                                                   \u001b[33m│\u001b[0m \u001b[31m│\u001b[0m\n",
            "\u001b[31m│\u001b[0m \u001b[33m╰──────────────────────────────────────────────────────────────────────────╯\u001b[0m \u001b[31m│\u001b[0m\n",
            "\u001b[31m│\u001b[0m                                                                              \u001b[31m│\u001b[0m\n",
            "\u001b[31m│\u001b[0m \u001b[2;33m/usr/lib/python3.11/\u001b[0m\u001b[1;33mcontextlib.py\u001b[0m:\u001b[94m687\u001b[0m in \u001b[92maclose\u001b[0m                              \u001b[31m│\u001b[0m\n",
            "\u001b[31m│\u001b[0m                                                                              \u001b[31m│\u001b[0m\n",
            "\u001b[31m│\u001b[0m   \u001b[2m684 \u001b[0m\u001b[2m│   \u001b[0m                                                                   \u001b[31m│\u001b[0m\n",
            "\u001b[31m│\u001b[0m   \u001b[2m685 \u001b[0m\u001b[2m│   \u001b[0m\u001b[94masync\u001b[0m \u001b[94mdef\u001b[0m\u001b[90m \u001b[0m\u001b[92maclose\u001b[0m(\u001b[96mself\u001b[0m):                                            \u001b[31m│\u001b[0m\n",
            "\u001b[31m│\u001b[0m   \u001b[2m686 \u001b[0m\u001b[2;90m│   │   \u001b[0m\u001b[33m\"\"\"Immediately unwind the context stack.\"\"\"\u001b[0m                    \u001b[31m│\u001b[0m\n",
            "\u001b[31m│\u001b[0m \u001b[31m❱ \u001b[0m687 \u001b[2m│   │   \u001b[0m\u001b[1;4;94mawait\u001b[0m\u001b[1;4m \u001b[0m\u001b[1;4;96mself\u001b[0m\u001b[1;4m.\u001b[0m\u001b[1;4;92m__aexit__\u001b[0m\u001b[1;4m(\u001b[0m\u001b[1;4;94mNone\u001b[0m\u001b[1;4m, \u001b[0m\u001b[1;4;94mNone\u001b[0m\u001b[1;4m, \u001b[0m\u001b[1;4;94mNone\u001b[0m\u001b[1;4m)\u001b[0m                         \u001b[31m│\u001b[0m\n",
            "\u001b[31m│\u001b[0m   \u001b[2m688 \u001b[0m\u001b[2m│   \u001b[0m                                                                   \u001b[31m│\u001b[0m\n",
            "\u001b[31m│\u001b[0m   \u001b[2m689 \u001b[0m\u001b[2m│   \u001b[0m\u001b[94mdef\u001b[0m\u001b[90m \u001b[0m\u001b[92m_push_async_cm_exit\u001b[0m(\u001b[96mself\u001b[0m, cm, cm_exit):                        \u001b[31m│\u001b[0m\n",
            "\u001b[31m│\u001b[0m   \u001b[2m690 \u001b[0m\u001b[2;90m│   │   \u001b[0m\u001b[33m\"\"\"Helper to correctly register coroutine function to __aexit_\u001b[0m \u001b[31m│\u001b[0m\n",
            "\u001b[31m│\u001b[0m                                                                              \u001b[31m│\u001b[0m\n",
            "\u001b[31m│\u001b[0m \u001b[33m╭─\u001b[0m\u001b[33m─────────────────────────\u001b[0m\u001b[33m locals \u001b[0m\u001b[33m──────────────────────────\u001b[0m\u001b[33m─╮\u001b[0m              \u001b[31m│\u001b[0m\n",
            "\u001b[31m│\u001b[0m \u001b[33m│\u001b[0m self = \u001b[1m<\u001b[0m\u001b[1;95mcontextlib.AsyncExitStack\u001b[0m\u001b[39m object at \u001b[0m\u001b[94m0x7adaf57de210\u001b[0m\u001b[1m>\u001b[0m \u001b[33m│\u001b[0m              \u001b[31m│\u001b[0m\n",
            "\u001b[31m│\u001b[0m \u001b[33m╰─────────────────────────────────────────────────────────────╯\u001b[0m              \u001b[31m│\u001b[0m\n",
            "\u001b[31m│\u001b[0m                                                                              \u001b[31m│\u001b[0m\n",
            "\u001b[31m│\u001b[0m \u001b[2;33m/usr/lib/python3.11/\u001b[0m\u001b[1;33mcontextlib.py\u001b[0m:\u001b[94m745\u001b[0m in \u001b[92m__aexit__\u001b[0m                           \u001b[31m│\u001b[0m\n",
            "\u001b[31m│\u001b[0m                                                                              \u001b[31m│\u001b[0m\n",
            "\u001b[31m│\u001b[0m   \u001b[2m742 \u001b[0m\u001b[2m│   │   │   │   \u001b[0m\u001b[2m# bare \"raise exc_details[1]\" replaces our carefully\u001b[0m   \u001b[31m│\u001b[0m\n",
            "\u001b[31m│\u001b[0m   \u001b[2m743 \u001b[0m\u001b[2m│   │   │   │   \u001b[0m\u001b[2m# set-up context\u001b[0m                                       \u001b[31m│\u001b[0m\n",
            "\u001b[31m│\u001b[0m   \u001b[2m744 \u001b[0m\u001b[2m│   │   │   │   \u001b[0mfixed_ctx = exc_details[\u001b[94m1\u001b[0m].__context__                 \u001b[31m│\u001b[0m\n",
            "\u001b[31m│\u001b[0m \u001b[31m❱ \u001b[0m745 \u001b[2m│   │   │   │   \u001b[0m\u001b[94mraise\u001b[0m exc_details[\u001b[94m1\u001b[0m]                                   \u001b[31m│\u001b[0m\n",
            "\u001b[31m│\u001b[0m   \u001b[2m746 \u001b[0m\u001b[2m│   │   │   \u001b[0m\u001b[94mexcept\u001b[0m \u001b[96mBaseException\u001b[0m:                                      \u001b[31m│\u001b[0m\n",
            "\u001b[31m│\u001b[0m   \u001b[2m747 \u001b[0m\u001b[2m│   │   │   │   \u001b[0mexc_details[\u001b[94m1\u001b[0m].__context__ = fixed_ctx                 \u001b[31m│\u001b[0m\n",
            "\u001b[31m│\u001b[0m   \u001b[2m748 \u001b[0m\u001b[2m│   │   │   │   \u001b[0m\u001b[1;4;94mraise\u001b[0m                                                  \u001b[31m│\u001b[0m\n",
            "\u001b[31m│\u001b[0m                                                                              \u001b[31m│\u001b[0m\n",
            "\u001b[31m│\u001b[0m \u001b[33m╭─\u001b[0m\u001b[33m────────────────────────────────\u001b[0m\u001b[33m locals \u001b[0m\u001b[33m────────────────────────────────\u001b[0m\u001b[33m─╮\u001b[0m \u001b[31m│\u001b[0m\n",
            "\u001b[31m│\u001b[0m \u001b[33m│\u001b[0m              cb = \u001b[1m<\u001b[0m\u001b[1;95mbound\u001b[0m\u001b[39m method _AsyncGeneratorContextManager.__aexit__ \u001b[0m \u001b[33m│\u001b[0m \u001b[31m│\u001b[0m\n",
            "\u001b[31m│\u001b[0m \u001b[33m│\u001b[0m                   \u001b[39mof <contextlib._AsyncGeneratorContextManager object at\u001b[0m \u001b[33m│\u001b[0m \u001b[31m│\u001b[0m\n",
            "\u001b[31m│\u001b[0m \u001b[33m│\u001b[0m                   \u001b[94m0x7adaf57de050\u001b[0m\u001b[39m>\u001b[0m\u001b[1m>\u001b[0m                                       \u001b[33m│\u001b[0m \u001b[31m│\u001b[0m\n",
            "\u001b[31m│\u001b[0m \u001b[33m│\u001b[0m     exc_details = \u001b[1m(\u001b[0m                                                      \u001b[33m│\u001b[0m \u001b[31m│\u001b[0m\n",
            "\u001b[31m│\u001b[0m \u001b[33m│\u001b[0m                   \u001b[2m│   \u001b[0m\u001b[1m<\u001b[0m\u001b[1;95mclass\u001b[0m\u001b[39m \u001b[0m\u001b[33m'ExceptionGroup'\u001b[0m\u001b[39m>,\u001b[0m                          \u001b[33m│\u001b[0m \u001b[31m│\u001b[0m\n",
            "\u001b[31m│\u001b[0m \u001b[33m│\u001b[0m                   \u001b[2;39m│   \u001b[0m\u001b[1;35mExceptionGroup\u001b[0m\u001b[1;39m(\u001b[0m\u001b[33m'unhandled errors in a TaskGroup'\u001b[0m\u001b[39m, \u001b[0m \u001b[33m│\u001b[0m \u001b[31m│\u001b[0m\n",
            "\u001b[31m│\u001b[0m \u001b[33m│\u001b[0m                   \u001b[1;39m[\u001b[0m\u001b[1;35mConnectError\u001b[0m\u001b[1;39m(\u001b[0m\u001b[33m'All connection attempts failed'\u001b[0m\u001b[1;39m)\u001b[0m\u001b[1;39m]\u001b[0m\u001b[1;39m)\u001b[0m\u001b[39m,\u001b[0m     \u001b[33m│\u001b[0m \u001b[31m│\u001b[0m\n",
            "\u001b[31m│\u001b[0m \u001b[33m│\u001b[0m                   \u001b[2;39m│   \u001b[0m\u001b[39m<traceback object at \u001b[0m\u001b[94m0x7adaf44b32c0\u001b[0m\u001b[1m>\u001b[0m               \u001b[33m│\u001b[0m \u001b[31m│\u001b[0m\n",
            "\u001b[31m│\u001b[0m \u001b[33m│\u001b[0m                   \u001b[1m)\u001b[0m                                                      \u001b[33m│\u001b[0m \u001b[31m│\u001b[0m\n",
            "\u001b[31m│\u001b[0m \u001b[33m│\u001b[0m       fixed_ctx = \u001b[1;35mCancelledError\u001b[0m\u001b[1m(\u001b[0m\u001b[33m'Cancelled by cancel scope \u001b[0m             \u001b[33m│\u001b[0m \u001b[31m│\u001b[0m\n",
            "\u001b[31m│\u001b[0m \u001b[33m│\u001b[0m                   \u001b[33m7adaf44b2190'\u001b[0m\u001b[1m)\u001b[0m                                         \u001b[33m│\u001b[0m \u001b[31m│\u001b[0m\n",
            "\u001b[31m│\u001b[0m \u001b[33m│\u001b[0m       frame_exc = \u001b[1;35mCancelledError\u001b[0m\u001b[1m(\u001b[0m\u001b[33m'Cancelled by cancel scope \u001b[0m             \u001b[33m│\u001b[0m \u001b[31m│\u001b[0m\n",
            "\u001b[31m│\u001b[0m \u001b[33m│\u001b[0m                   \u001b[33m7adaf569be50'\u001b[0m\u001b[1m)\u001b[0m                                         \u001b[33m│\u001b[0m \u001b[31m│\u001b[0m\n",
            "\u001b[31m│\u001b[0m \u001b[33m│\u001b[0m         is_sync = \u001b[94mFalse\u001b[0m                                                  \u001b[33m│\u001b[0m \u001b[31m│\u001b[0m\n",
            "\u001b[31m│\u001b[0m \u001b[33m│\u001b[0m new_exc_details = \u001b[1m(\u001b[0m                                                      \u001b[33m│\u001b[0m \u001b[31m│\u001b[0m\n",
            "\u001b[31m│\u001b[0m \u001b[33m│\u001b[0m                   \u001b[2m│   \u001b[0m\u001b[1m<\u001b[0m\u001b[1;95mclass\u001b[0m\u001b[39m \u001b[0m\u001b[33m'ExceptionGroup'\u001b[0m\u001b[39m>,\u001b[0m                          \u001b[33m│\u001b[0m \u001b[31m│\u001b[0m\n",
            "\u001b[31m│\u001b[0m \u001b[33m│\u001b[0m                   \u001b[2;39m│   \u001b[0m\u001b[1;35mExceptionGroup\u001b[0m\u001b[1;39m(\u001b[0m\u001b[33m'unhandled errors in a TaskGroup'\u001b[0m\u001b[39m, \u001b[0m \u001b[33m│\u001b[0m \u001b[31m│\u001b[0m\n",
            "\u001b[31m│\u001b[0m \u001b[33m│\u001b[0m                   \u001b[1;39m[\u001b[0m\u001b[1;35mConnectError\u001b[0m\u001b[1;39m(\u001b[0m\u001b[33m'All connection attempts failed'\u001b[0m\u001b[1;39m)\u001b[0m\u001b[1;39m]\u001b[0m\u001b[1;39m)\u001b[0m\u001b[39m,\u001b[0m     \u001b[33m│\u001b[0m \u001b[31m│\u001b[0m\n",
            "\u001b[31m│\u001b[0m \u001b[33m│\u001b[0m                   \u001b[2;39m│   \u001b[0m\u001b[39m<traceback object at \u001b[0m\u001b[94m0x7adaf44b32c0\u001b[0m\u001b[1m>\u001b[0m               \u001b[33m│\u001b[0m \u001b[31m│\u001b[0m\n",
            "\u001b[31m│\u001b[0m \u001b[33m│\u001b[0m                   \u001b[1m)\u001b[0m                                                      \u001b[33m│\u001b[0m \u001b[31m│\u001b[0m\n",
            "\u001b[31m│\u001b[0m \u001b[33m│\u001b[0m   pending_raise = \u001b[94mTrue\u001b[0m                                                   \u001b[33m│\u001b[0m \u001b[31m│\u001b[0m\n",
            "\u001b[31m│\u001b[0m \u001b[33m│\u001b[0m    received_exc = \u001b[94mFalse\u001b[0m                                                  \u001b[33m│\u001b[0m \u001b[31m│\u001b[0m\n",
            "\u001b[31m│\u001b[0m \u001b[33m│\u001b[0m            self = \u001b[1m<\u001b[0m\u001b[1;95mcontextlib.AsyncExitStack\u001b[0m\u001b[39m object at \u001b[0m\u001b[94m0x7adaf57de210\u001b[0m\u001b[1m>\u001b[0m   \u001b[33m│\u001b[0m \u001b[31m│\u001b[0m\n",
            "\u001b[31m│\u001b[0m \u001b[33m│\u001b[0m  suppressed_exc = \u001b[94mFalse\u001b[0m                                                  \u001b[33m│\u001b[0m \u001b[31m│\u001b[0m\n",
            "\u001b[31m│\u001b[0m \u001b[33m╰──────────────────────────────────────────────────────────────────────────╯\u001b[0m \u001b[31m│\u001b[0m\n",
            "\u001b[31m│\u001b[0m                                                                              \u001b[31m│\u001b[0m\n",
            "\u001b[31m│\u001b[0m \u001b[2;33m/usr/lib/python3.11/\u001b[0m\u001b[1;33mcontextlib.py\u001b[0m:\u001b[94m728\u001b[0m in \u001b[92m__aexit__\u001b[0m                           \u001b[31m│\u001b[0m\n",
            "\u001b[31m│\u001b[0m                                                                              \u001b[31m│\u001b[0m\n",
            "\u001b[31m│\u001b[0m   \u001b[2m725 \u001b[0m\u001b[2m│   │   │   │   \u001b[0m\u001b[94mif\u001b[0m is_sync:                                            \u001b[31m│\u001b[0m\n",
            "\u001b[31m│\u001b[0m   \u001b[2m726 \u001b[0m\u001b[2m│   │   │   │   │   \u001b[0mcb_suppress = cb(*exc_details)                     \u001b[31m│\u001b[0m\n",
            "\u001b[31m│\u001b[0m   \u001b[2m727 \u001b[0m\u001b[2m│   │   │   │   \u001b[0m\u001b[94melse\u001b[0m:                                                  \u001b[31m│\u001b[0m\n",
            "\u001b[31m│\u001b[0m \u001b[31m❱ \u001b[0m728 \u001b[2m│   │   │   │   │   \u001b[0mcb_suppress = \u001b[94mawait\u001b[0m cb(*exc_details)               \u001b[31m│\u001b[0m\n",
            "\u001b[31m│\u001b[0m   \u001b[2m729 \u001b[0m\u001b[2m│   │   │   │   \u001b[0m                                                       \u001b[31m│\u001b[0m\n",
            "\u001b[31m│\u001b[0m   \u001b[2m730 \u001b[0m\u001b[2m│   │   │   │   \u001b[0m\u001b[94mif\u001b[0m cb_suppress:                                        \u001b[31m│\u001b[0m\n",
            "\u001b[31m│\u001b[0m   \u001b[2m731 \u001b[0m\u001b[2m│   │   │   │   │   \u001b[0msuppressed_exc = \u001b[94mTrue\u001b[0m                              \u001b[31m│\u001b[0m\n",
            "\u001b[31m│\u001b[0m                                                                              \u001b[31m│\u001b[0m\n",
            "\u001b[31m│\u001b[0m \u001b[33m╭─\u001b[0m\u001b[33m────────────────────────────────\u001b[0m\u001b[33m locals \u001b[0m\u001b[33m────────────────────────────────\u001b[0m\u001b[33m─╮\u001b[0m \u001b[31m│\u001b[0m\n",
            "\u001b[31m│\u001b[0m \u001b[33m│\u001b[0m              cb = \u001b[1m<\u001b[0m\u001b[1;95mbound\u001b[0m\u001b[39m method _AsyncGeneratorContextManager.__aexit__ \u001b[0m \u001b[33m│\u001b[0m \u001b[31m│\u001b[0m\n",
            "\u001b[31m│\u001b[0m \u001b[33m│\u001b[0m                   \u001b[39mof <contextlib._AsyncGeneratorContextManager object at\u001b[0m \u001b[33m│\u001b[0m \u001b[31m│\u001b[0m\n",
            "\u001b[31m│\u001b[0m \u001b[33m│\u001b[0m                   \u001b[94m0x7adaf57de050\u001b[0m\u001b[39m>\u001b[0m\u001b[1m>\u001b[0m                                       \u001b[33m│\u001b[0m \u001b[31m│\u001b[0m\n",
            "\u001b[31m│\u001b[0m \u001b[33m│\u001b[0m     exc_details = \u001b[1m(\u001b[0m                                                      \u001b[33m│\u001b[0m \u001b[31m│\u001b[0m\n",
            "\u001b[31m│\u001b[0m \u001b[33m│\u001b[0m                   \u001b[2m│   \u001b[0m\u001b[1m<\u001b[0m\u001b[1;95mclass\u001b[0m\u001b[39m \u001b[0m\u001b[33m'ExceptionGroup'\u001b[0m\u001b[39m>,\u001b[0m                          \u001b[33m│\u001b[0m \u001b[31m│\u001b[0m\n",
            "\u001b[31m│\u001b[0m \u001b[33m│\u001b[0m                   \u001b[2;39m│   \u001b[0m\u001b[1;35mExceptionGroup\u001b[0m\u001b[1;39m(\u001b[0m\u001b[33m'unhandled errors in a TaskGroup'\u001b[0m\u001b[39m, \u001b[0m \u001b[33m│\u001b[0m \u001b[31m│\u001b[0m\n",
            "\u001b[31m│\u001b[0m \u001b[33m│\u001b[0m                   \u001b[1;39m[\u001b[0m\u001b[1;35mConnectError\u001b[0m\u001b[1;39m(\u001b[0m\u001b[33m'All connection attempts failed'\u001b[0m\u001b[1;39m)\u001b[0m\u001b[1;39m]\u001b[0m\u001b[1;39m)\u001b[0m\u001b[39m,\u001b[0m     \u001b[33m│\u001b[0m \u001b[31m│\u001b[0m\n",
            "\u001b[31m│\u001b[0m \u001b[33m│\u001b[0m                   \u001b[2;39m│   \u001b[0m\u001b[39m<traceback object at \u001b[0m\u001b[94m0x7adaf44b32c0\u001b[0m\u001b[1m>\u001b[0m               \u001b[33m│\u001b[0m \u001b[31m│\u001b[0m\n",
            "\u001b[31m│\u001b[0m \u001b[33m│\u001b[0m                   \u001b[1m)\u001b[0m                                                      \u001b[33m│\u001b[0m \u001b[31m│\u001b[0m\n",
            "\u001b[31m│\u001b[0m \u001b[33m│\u001b[0m       fixed_ctx = \u001b[1;35mCancelledError\u001b[0m\u001b[1m(\u001b[0m\u001b[33m'Cancelled by cancel scope \u001b[0m             \u001b[33m│\u001b[0m \u001b[31m│\u001b[0m\n",
            "\u001b[31m│\u001b[0m \u001b[33m│\u001b[0m                   \u001b[33m7adaf44b2190'\u001b[0m\u001b[1m)\u001b[0m                                         \u001b[33m│\u001b[0m \u001b[31m│\u001b[0m\n",
            "\u001b[31m│\u001b[0m \u001b[33m│\u001b[0m       frame_exc = \u001b[1;35mCancelledError\u001b[0m\u001b[1m(\u001b[0m\u001b[33m'Cancelled by cancel scope \u001b[0m             \u001b[33m│\u001b[0m \u001b[31m│\u001b[0m\n",
            "\u001b[31m│\u001b[0m \u001b[33m│\u001b[0m                   \u001b[33m7adaf569be50'\u001b[0m\u001b[1m)\u001b[0m                                         \u001b[33m│\u001b[0m \u001b[31m│\u001b[0m\n",
            "\u001b[31m│\u001b[0m \u001b[33m│\u001b[0m         is_sync = \u001b[94mFalse\u001b[0m                                                  \u001b[33m│\u001b[0m \u001b[31m│\u001b[0m\n",
            "\u001b[31m│\u001b[0m \u001b[33m│\u001b[0m new_exc_details = \u001b[1m(\u001b[0m                                                      \u001b[33m│\u001b[0m \u001b[31m│\u001b[0m\n",
            "\u001b[31m│\u001b[0m \u001b[33m│\u001b[0m                   \u001b[2m│   \u001b[0m\u001b[1m<\u001b[0m\u001b[1;95mclass\u001b[0m\u001b[39m \u001b[0m\u001b[33m'ExceptionGroup'\u001b[0m\u001b[39m>,\u001b[0m                          \u001b[33m│\u001b[0m \u001b[31m│\u001b[0m\n",
            "\u001b[31m│\u001b[0m \u001b[33m│\u001b[0m                   \u001b[2;39m│   \u001b[0m\u001b[1;35mExceptionGroup\u001b[0m\u001b[1;39m(\u001b[0m\u001b[33m'unhandled errors in a TaskGroup'\u001b[0m\u001b[39m, \u001b[0m \u001b[33m│\u001b[0m \u001b[31m│\u001b[0m\n",
            "\u001b[31m│\u001b[0m \u001b[33m│\u001b[0m                   \u001b[1;39m[\u001b[0m\u001b[1;35mConnectError\u001b[0m\u001b[1;39m(\u001b[0m\u001b[33m'All connection attempts failed'\u001b[0m\u001b[1;39m)\u001b[0m\u001b[1;39m]\u001b[0m\u001b[1;39m)\u001b[0m\u001b[39m,\u001b[0m     \u001b[33m│\u001b[0m \u001b[31m│\u001b[0m\n",
            "\u001b[31m│\u001b[0m \u001b[33m│\u001b[0m                   \u001b[2;39m│   \u001b[0m\u001b[39m<traceback object at \u001b[0m\u001b[94m0x7adaf44b32c0\u001b[0m\u001b[1m>\u001b[0m               \u001b[33m│\u001b[0m \u001b[31m│\u001b[0m\n",
            "\u001b[31m│\u001b[0m \u001b[33m│\u001b[0m                   \u001b[1m)\u001b[0m                                                      \u001b[33m│\u001b[0m \u001b[31m│\u001b[0m\n",
            "\u001b[31m│\u001b[0m \u001b[33m│\u001b[0m   pending_raise = \u001b[94mTrue\u001b[0m                                                   \u001b[33m│\u001b[0m \u001b[31m│\u001b[0m\n",
            "\u001b[31m│\u001b[0m \u001b[33m│\u001b[0m    received_exc = \u001b[94mFalse\u001b[0m                                                  \u001b[33m│\u001b[0m \u001b[31m│\u001b[0m\n",
            "\u001b[31m│\u001b[0m \u001b[33m│\u001b[0m            self = \u001b[1m<\u001b[0m\u001b[1;95mcontextlib.AsyncExitStack\u001b[0m\u001b[39m object at \u001b[0m\u001b[94m0x7adaf57de210\u001b[0m\u001b[1m>\u001b[0m   \u001b[33m│\u001b[0m \u001b[31m│\u001b[0m\n",
            "\u001b[31m│\u001b[0m \u001b[33m│\u001b[0m  suppressed_exc = \u001b[94mFalse\u001b[0m                                                  \u001b[33m│\u001b[0m \u001b[31m│\u001b[0m\n",
            "\u001b[31m│\u001b[0m \u001b[33m╰──────────────────────────────────────────────────────────────────────────╯\u001b[0m \u001b[31m│\u001b[0m\n",
            "\u001b[31m│\u001b[0m                                                                              \u001b[31m│\u001b[0m\n",
            "\u001b[31m│\u001b[0m \u001b[2;33m/usr/lib/python3.11/\u001b[0m\u001b[1;33mcontextlib.py\u001b[0m:\u001b[94m231\u001b[0m in \u001b[92m__aexit__\u001b[0m                           \u001b[31m│\u001b[0m\n",
            "\u001b[31m│\u001b[0m                                                                              \u001b[31m│\u001b[0m\n",
            "\u001b[31m│\u001b[0m   \u001b[2m228 \u001b[0m\u001b[2m│   │   │   │   \u001b[0m\u001b[2m# tell if we get the same exception back\u001b[0m               \u001b[31m│\u001b[0m\n",
            "\u001b[31m│\u001b[0m   \u001b[2m229 \u001b[0m\u001b[2m│   │   │   │   \u001b[0mvalue = typ()                                          \u001b[31m│\u001b[0m\n",
            "\u001b[31m│\u001b[0m   \u001b[2m230 \u001b[0m\u001b[2m│   │   │   \u001b[0m\u001b[94mtry\u001b[0m:                                                       \u001b[31m│\u001b[0m\n",
            "\u001b[31m│\u001b[0m \u001b[31m❱ \u001b[0m231 \u001b[2m│   │   │   │   \u001b[0m\u001b[94mawait\u001b[0m \u001b[96mself\u001b[0m.gen.athrow(typ, value, traceback)           \u001b[31m│\u001b[0m\n",
            "\u001b[31m│\u001b[0m   \u001b[2m232 \u001b[0m\u001b[2m│   │   │   \u001b[0m\u001b[94mexcept\u001b[0m \u001b[96mStopAsyncIteration\u001b[0m \u001b[94mas\u001b[0m exc:                          \u001b[31m│\u001b[0m\n",
            "\u001b[31m│\u001b[0m   \u001b[2m233 \u001b[0m\u001b[2m│   │   │   │   \u001b[0m\u001b[2m# Suppress StopIteration *unless* it's the same except\u001b[0m \u001b[31m│\u001b[0m\n",
            "\u001b[31m│\u001b[0m   \u001b[2m234 \u001b[0m\u001b[2m│   │   │   │   \u001b[0m\u001b[2m# was passed to throw().  This prevents a StopIteratio\u001b[0m \u001b[31m│\u001b[0m\n",
            "\u001b[31m│\u001b[0m                                                                              \u001b[31m│\u001b[0m\n",
            "\u001b[31m│\u001b[0m \u001b[33m╭─\u001b[0m\u001b[33m────────────────────────────────\u001b[0m\u001b[33m locals \u001b[0m\u001b[33m────────────────────────────────\u001b[0m\u001b[33m─╮\u001b[0m \u001b[31m│\u001b[0m\n",
            "\u001b[31m│\u001b[0m \u001b[33m│\u001b[0m      self = \u001b[1m<\u001b[0m\u001b[1;95mcontextlib._AsyncGeneratorContextManager\u001b[0m\u001b[39m object at \u001b[0m         \u001b[33m│\u001b[0m \u001b[31m│\u001b[0m\n",
            "\u001b[31m│\u001b[0m \u001b[33m│\u001b[0m             \u001b[94m0x7adaf57de050\u001b[0m\u001b[1m>\u001b[0m                                              \u001b[33m│\u001b[0m \u001b[31m│\u001b[0m\n",
            "\u001b[31m│\u001b[0m \u001b[33m│\u001b[0m traceback = \u001b[1m<\u001b[0m\u001b[1;95mtraceback\u001b[0m\u001b[39m object at \u001b[0m\u001b[94m0x7adaf44d2a80\u001b[0m\u001b[1m>\u001b[0m                         \u001b[33m│\u001b[0m \u001b[31m│\u001b[0m\n",
            "\u001b[31m│\u001b[0m \u001b[33m│\u001b[0m     value = \u001b[1;35mCancelledError\u001b[0m\u001b[1m(\u001b[0m\u001b[33m'Cancelled by cancel scope 7adaf44b2190'\u001b[0m\u001b[1m)\u001b[0m     \u001b[33m│\u001b[0m \u001b[31m│\u001b[0m\n",
            "\u001b[31m│\u001b[0m \u001b[33m╰──────────────────────────────────────────────────────────────────────────╯\u001b[0m \u001b[31m│\u001b[0m\n",
            "\u001b[31m│\u001b[0m                                                                              \u001b[31m│\u001b[0m\n",
            "\u001b[31m│\u001b[0m \u001b[2;33m/usr/local/lib/python3.11/dist-packages/mcp/client/\u001b[0m\u001b[1;33mstreamable_http.py\u001b[0m:\u001b[94m474\u001b[0m in \u001b[31m│\u001b[0m\n",
            "\u001b[31m│\u001b[0m \u001b[92mstreamablehttp_client\u001b[0m                                                        \u001b[31m│\u001b[0m\n",
            "\u001b[31m│\u001b[0m                                                                              \u001b[31m│\u001b[0m\n",
            "\u001b[31m│\u001b[0m   \u001b[2m471 \u001b[0m\u001b[2m│   \u001b[0mread_stream_writer, read_stream = anyio.create_memory_object_strea \u001b[31m│\u001b[0m\n",
            "\u001b[31m│\u001b[0m   \u001b[2m472 \u001b[0m\u001b[2m│   \u001b[0mwrite_stream, write_stream_reader = anyio.create_memory_object_str \u001b[31m│\u001b[0m\n",
            "\u001b[31m│\u001b[0m   \u001b[2m473 \u001b[0m\u001b[2m│   \u001b[0m                                                                   \u001b[31m│\u001b[0m\n",
            "\u001b[31m│\u001b[0m \u001b[31m❱ \u001b[0m474 \u001b[2m│   \u001b[0m\u001b[94masync\u001b[0m \u001b[94mwith\u001b[0m anyio.create_task_group() \u001b[94mas\u001b[0m tg:                        \u001b[31m│\u001b[0m\n",
            "\u001b[31m│\u001b[0m   \u001b[2m475 \u001b[0m\u001b[2m│   │   \u001b[0m\u001b[94mtry\u001b[0m:                                                           \u001b[31m│\u001b[0m\n",
            "\u001b[31m│\u001b[0m   \u001b[2m476 \u001b[0m\u001b[2m│   │   │   \u001b[0mlogger.debug(\u001b[33mf\u001b[0m\u001b[33m\"\u001b[0m\u001b[33mConnecting to StreamableHTTP endpoint: \u001b[0m\u001b[33m{\u001b[0murl \u001b[31m│\u001b[0m\n",
            "\u001b[31m│\u001b[0m   \u001b[2m477 \u001b[0m                                                                       \u001b[31m│\u001b[0m\n",
            "\u001b[31m│\u001b[0m                                                                              \u001b[31m│\u001b[0m\n",
            "\u001b[31m│\u001b[0m \u001b[33m╭─\u001b[0m\u001b[33m────────────────────────────────\u001b[0m\u001b[33m locals \u001b[0m\u001b[33m────────────────────────────────\u001b[0m\u001b[33m─╮\u001b[0m \u001b[31m│\u001b[0m\n",
            "\u001b[31m│\u001b[0m \u001b[33m│\u001b[0m                auth = \u001b[94mNone\u001b[0m                                               \u001b[33m│\u001b[0m \u001b[31m│\u001b[0m\n",
            "\u001b[31m│\u001b[0m \u001b[33m│\u001b[0m              client = \u001b[1m<\u001b[0m\u001b[1;95mhttpx.AsyncClient\u001b[0m\u001b[39m object at \u001b[0m\u001b[94m0x7adaf47f8310\u001b[0m\u001b[1m>\u001b[0m       \u001b[33m│\u001b[0m \u001b[31m│\u001b[0m\n",
            "\u001b[31m│\u001b[0m \u001b[33m│\u001b[0m             headers = \u001b[94mNone\u001b[0m                                               \u001b[33m│\u001b[0m \u001b[31m│\u001b[0m\n",
            "\u001b[31m│\u001b[0m \u001b[33m│\u001b[0m         read_stream = \u001b[1;35mMemoryObjectReceiveStream\u001b[0m\u001b[1m(\u001b[0m                         \u001b[33m│\u001b[0m \u001b[31m│\u001b[0m\n",
            "\u001b[31m│\u001b[0m \u001b[33m│\u001b[0m                       \u001b[2m│   \u001b[0m\u001b[33m_state\u001b[0m=\u001b[1;35mMemoryObjectStreamState\u001b[0m\u001b[1m(\u001b[0m                \u001b[33m│\u001b[0m \u001b[31m│\u001b[0m\n",
            "\u001b[31m│\u001b[0m \u001b[33m│\u001b[0m                       \u001b[2m│   │   \u001b[0m\u001b[33mmax_buffer_size\u001b[0m=\u001b[94m0\u001b[0m,                         \u001b[33m│\u001b[0m \u001b[31m│\u001b[0m\n",
            "\u001b[31m│\u001b[0m \u001b[33m│\u001b[0m                       \u001b[2m│   │   \u001b[0m\u001b[33mbuffer\u001b[0m=\u001b[1;35mdeque\u001b[0m\u001b[1m(\u001b[0m\u001b[1m)\u001b[0m,                            \u001b[33m│\u001b[0m \u001b[31m│\u001b[0m\n",
            "\u001b[31m│\u001b[0m \u001b[33m│\u001b[0m                       \u001b[2m│   │   \u001b[0m\u001b[33mopen_send_channels\u001b[0m=\u001b[94m0\u001b[0m,                      \u001b[33m│\u001b[0m \u001b[31m│\u001b[0m\n",
            "\u001b[31m│\u001b[0m \u001b[33m│\u001b[0m                       \u001b[2m│   │   \u001b[0m\u001b[33mopen_receive_channels\u001b[0m=\u001b[94m0\u001b[0m,                   \u001b[33m│\u001b[0m \u001b[31m│\u001b[0m\n",
            "\u001b[31m│\u001b[0m \u001b[33m│\u001b[0m                       \u001b[2m│   │   \u001b[0m\u001b[33mwaiting_receivers\u001b[0m=\u001b[1;35mOrderedDict\u001b[0m\u001b[1m(\u001b[0m\u001b[1m)\u001b[0m,           \u001b[33m│\u001b[0m \u001b[31m│\u001b[0m\n",
            "\u001b[31m│\u001b[0m \u001b[33m│\u001b[0m                       \u001b[2m│   │   \u001b[0m\u001b[33mwaiting_senders\u001b[0m=\u001b[1;35mOrderedDict\u001b[0m\u001b[1m(\u001b[0m\u001b[1m)\u001b[0m              \u001b[33m│\u001b[0m \u001b[31m│\u001b[0m\n",
            "\u001b[31m│\u001b[0m \u001b[33m│\u001b[0m                       \u001b[2m│   \u001b[0m\u001b[1m)\u001b[0m,                                             \u001b[33m│\u001b[0m \u001b[31m│\u001b[0m\n",
            "\u001b[31m│\u001b[0m \u001b[33m│\u001b[0m                       \u001b[2m│   \u001b[0m\u001b[33m_closed\u001b[0m=\u001b[94mTrue\u001b[0m                                   \u001b[33m│\u001b[0m \u001b[31m│\u001b[0m\n",
            "\u001b[31m│\u001b[0m \u001b[33m│\u001b[0m                       \u001b[1m)\u001b[0m                                                  \u001b[33m│\u001b[0m \u001b[31m│\u001b[0m\n",
            "\u001b[31m│\u001b[0m \u001b[33m│\u001b[0m  read_stream_writer = \u001b[1;35mMemoryObjectSendStream\u001b[0m\u001b[1m(\u001b[0m                            \u001b[33m│\u001b[0m \u001b[31m│\u001b[0m\n",
            "\u001b[31m│\u001b[0m \u001b[33m│\u001b[0m                       \u001b[2m│   \u001b[0m\u001b[33m_state\u001b[0m=\u001b[1;35mMemoryObjectStreamState\u001b[0m\u001b[1m(\u001b[0m                \u001b[33m│\u001b[0m \u001b[31m│\u001b[0m\n",
            "\u001b[31m│\u001b[0m \u001b[33m│\u001b[0m                       \u001b[2m│   │   \u001b[0m\u001b[33mmax_buffer_size\u001b[0m=\u001b[94m0\u001b[0m,                         \u001b[33m│\u001b[0m \u001b[31m│\u001b[0m\n",
            "\u001b[31m│\u001b[0m \u001b[33m│\u001b[0m                       \u001b[2m│   │   \u001b[0m\u001b[33mbuffer\u001b[0m=\u001b[1;35mdeque\u001b[0m\u001b[1m(\u001b[0m\u001b[1m)\u001b[0m,                            \u001b[33m│\u001b[0m \u001b[31m│\u001b[0m\n",
            "\u001b[31m│\u001b[0m \u001b[33m│\u001b[0m                       \u001b[2m│   │   \u001b[0m\u001b[33mopen_send_channels\u001b[0m=\u001b[94m0\u001b[0m,                      \u001b[33m│\u001b[0m \u001b[31m│\u001b[0m\n",
            "\u001b[31m│\u001b[0m \u001b[33m│\u001b[0m                       \u001b[2m│   │   \u001b[0m\u001b[33mopen_receive_channels\u001b[0m=\u001b[94m0\u001b[0m,                   \u001b[33m│\u001b[0m \u001b[31m│\u001b[0m\n",
            "\u001b[31m│\u001b[0m \u001b[33m│\u001b[0m                       \u001b[2m│   │   \u001b[0m\u001b[33mwaiting_receivers\u001b[0m=\u001b[1;35mOrderedDict\u001b[0m\u001b[1m(\u001b[0m\u001b[1m)\u001b[0m,           \u001b[33m│\u001b[0m \u001b[31m│\u001b[0m\n",
            "\u001b[31m│\u001b[0m \u001b[33m│\u001b[0m                       \u001b[2m│   │   \u001b[0m\u001b[33mwaiting_senders\u001b[0m=\u001b[1;35mOrderedDict\u001b[0m\u001b[1m(\u001b[0m\u001b[1m)\u001b[0m              \u001b[33m│\u001b[0m \u001b[31m│\u001b[0m\n",
            "\u001b[31m│\u001b[0m \u001b[33m│\u001b[0m                       \u001b[2m│   \u001b[0m\u001b[1m)\u001b[0m,                                             \u001b[33m│\u001b[0m \u001b[31m│\u001b[0m\n",
            "\u001b[31m│\u001b[0m \u001b[33m│\u001b[0m                       \u001b[2m│   \u001b[0m\u001b[33m_closed\u001b[0m=\u001b[94mTrue\u001b[0m                                   \u001b[33m│\u001b[0m \u001b[31m│\u001b[0m\n",
            "\u001b[31m│\u001b[0m \u001b[33m│\u001b[0m                       \u001b[1m)\u001b[0m                                                  \u001b[33m│\u001b[0m \u001b[31m│\u001b[0m\n",
            "\u001b[31m│\u001b[0m \u001b[33m│\u001b[0m    sse_read_timeout = \u001b[94m300\u001b[0m                                                \u001b[33m│\u001b[0m \u001b[31m│\u001b[0m\n",
            "\u001b[31m│\u001b[0m \u001b[33m│\u001b[0m  terminate_on_close = \u001b[94mTrue\u001b[0m                                               \u001b[33m│\u001b[0m \u001b[31m│\u001b[0m\n",
            "\u001b[31m│\u001b[0m \u001b[33m│\u001b[0m                  tg = \u001b[1m<\u001b[0m\u001b[1;95manyio._backends._asyncio.TaskGroup\u001b[0m\u001b[39m object at \u001b[0m     \u001b[33m│\u001b[0m \u001b[31m│\u001b[0m\n",
            "\u001b[31m│\u001b[0m \u001b[33m│\u001b[0m                       \u001b[94m0x7adaf569be10\u001b[0m\u001b[1m>\u001b[0m                                    \u001b[33m│\u001b[0m \u001b[31m│\u001b[0m\n",
            "\u001b[31m│\u001b[0m \u001b[33m│\u001b[0m             timeout = \u001b[94m30\u001b[0m                                                 \u001b[33m│\u001b[0m \u001b[31m│\u001b[0m\n",
            "\u001b[31m│\u001b[0m \u001b[33m│\u001b[0m           transport = \u001b[1m<\u001b[0m\u001b[1;95mmcp.client.streamable_http.StreamableHTTPTranspo…\u001b[0m \u001b[33m│\u001b[0m \u001b[31m│\u001b[0m\n",
            "\u001b[31m│\u001b[0m \u001b[33m│\u001b[0m                       \u001b[39mobject at \u001b[0m\u001b[94m0x7adaf569a590\u001b[0m\u001b[1m>\u001b[0m                          \u001b[33m│\u001b[0m \u001b[31m│\u001b[0m\n",
            "\u001b[31m│\u001b[0m \u001b[33m│\u001b[0m                 url = \u001b[33m'http://localhost:11434/mcp'\u001b[0m                       \u001b[33m│\u001b[0m \u001b[31m│\u001b[0m\n",
            "\u001b[31m│\u001b[0m \u001b[33m│\u001b[0m        write_stream = \u001b[1;35mMemoryObjectSendStream\u001b[0m\u001b[1m(\u001b[0m                            \u001b[33m│\u001b[0m \u001b[31m│\u001b[0m\n",
            "\u001b[31m│\u001b[0m \u001b[33m│\u001b[0m                       \u001b[2m│   \u001b[0m\u001b[33m_state\u001b[0m=\u001b[1;35mMemoryObjectStreamState\u001b[0m\u001b[1m(\u001b[0m                \u001b[33m│\u001b[0m \u001b[31m│\u001b[0m\n",
            "\u001b[31m│\u001b[0m \u001b[33m│\u001b[0m                       \u001b[2m│   │   \u001b[0m\u001b[33mmax_buffer_size\u001b[0m=\u001b[94m0\u001b[0m,                         \u001b[33m│\u001b[0m \u001b[31m│\u001b[0m\n",
            "\u001b[31m│\u001b[0m \u001b[33m│\u001b[0m                       \u001b[2m│   │   \u001b[0m\u001b[33mbuffer\u001b[0m=\u001b[1;35mdeque\u001b[0m\u001b[1m(\u001b[0m\u001b[1m)\u001b[0m,                            \u001b[33m│\u001b[0m \u001b[31m│\u001b[0m\n",
            "\u001b[31m│\u001b[0m \u001b[33m│\u001b[0m                       \u001b[2m│   │   \u001b[0m\u001b[33mopen_send_channels\u001b[0m=\u001b[94m0\u001b[0m,                      \u001b[33m│\u001b[0m \u001b[31m│\u001b[0m\n",
            "\u001b[31m│\u001b[0m \u001b[33m│\u001b[0m                       \u001b[2m│   │   \u001b[0m\u001b[33mopen_receive_channels\u001b[0m=\u001b[94m0\u001b[0m,                   \u001b[33m│\u001b[0m \u001b[31m│\u001b[0m\n",
            "\u001b[31m│\u001b[0m \u001b[33m│\u001b[0m                       \u001b[2m│   │   \u001b[0m\u001b[33mwaiting_receivers\u001b[0m=\u001b[1;35mOrderedDict\u001b[0m\u001b[1m(\u001b[0m\u001b[1m)\u001b[0m,           \u001b[33m│\u001b[0m \u001b[31m│\u001b[0m\n",
            "\u001b[31m│\u001b[0m \u001b[33m│\u001b[0m                       \u001b[2m│   │   \u001b[0m\u001b[33mwaiting_senders\u001b[0m=\u001b[1;35mOrderedDict\u001b[0m\u001b[1m(\u001b[0m\u001b[1m)\u001b[0m              \u001b[33m│\u001b[0m \u001b[31m│\u001b[0m\n",
            "\u001b[31m│\u001b[0m \u001b[33m│\u001b[0m                       \u001b[2m│   \u001b[0m\u001b[1m)\u001b[0m,                                             \u001b[33m│\u001b[0m \u001b[31m│\u001b[0m\n",
            "\u001b[31m│\u001b[0m \u001b[33m│\u001b[0m                       \u001b[2m│   \u001b[0m\u001b[33m_closed\u001b[0m=\u001b[94mTrue\u001b[0m                                   \u001b[33m│\u001b[0m \u001b[31m│\u001b[0m\n",
            "\u001b[31m│\u001b[0m \u001b[33m│\u001b[0m                       \u001b[1m)\u001b[0m                                                  \u001b[33m│\u001b[0m \u001b[31m│\u001b[0m\n",
            "\u001b[31m│\u001b[0m \u001b[33m│\u001b[0m write_stream_reader = \u001b[1;35mMemoryObjectReceiveStream\u001b[0m\u001b[1m(\u001b[0m                         \u001b[33m│\u001b[0m \u001b[31m│\u001b[0m\n",
            "\u001b[31m│\u001b[0m \u001b[33m│\u001b[0m                       \u001b[2m│   \u001b[0m\u001b[33m_state\u001b[0m=\u001b[1;35mMemoryObjectStreamState\u001b[0m\u001b[1m(\u001b[0m                \u001b[33m│\u001b[0m \u001b[31m│\u001b[0m\n",
            "\u001b[31m│\u001b[0m \u001b[33m│\u001b[0m                       \u001b[2m│   │   \u001b[0m\u001b[33mmax_buffer_size\u001b[0m=\u001b[94m0\u001b[0m,                         \u001b[33m│\u001b[0m \u001b[31m│\u001b[0m\n",
            "\u001b[31m│\u001b[0m \u001b[33m│\u001b[0m                       \u001b[2m│   │   \u001b[0m\u001b[33mbuffer\u001b[0m=\u001b[1;35mdeque\u001b[0m\u001b[1m(\u001b[0m\u001b[1m)\u001b[0m,                            \u001b[33m│\u001b[0m \u001b[31m│\u001b[0m\n",
            "\u001b[31m│\u001b[0m \u001b[33m│\u001b[0m                       \u001b[2m│   │   \u001b[0m\u001b[33mopen_send_channels\u001b[0m=\u001b[94m0\u001b[0m,                      \u001b[33m│\u001b[0m \u001b[31m│\u001b[0m\n",
            "\u001b[31m│\u001b[0m \u001b[33m│\u001b[0m                       \u001b[2m│   │   \u001b[0m\u001b[33mopen_receive_channels\u001b[0m=\u001b[94m0\u001b[0m,                   \u001b[33m│\u001b[0m \u001b[31m│\u001b[0m\n",
            "\u001b[31m│\u001b[0m \u001b[33m│\u001b[0m                       \u001b[2m│   │   \u001b[0m\u001b[33mwaiting_receivers\u001b[0m=\u001b[1;35mOrderedDict\u001b[0m\u001b[1m(\u001b[0m\u001b[1m)\u001b[0m,           \u001b[33m│\u001b[0m \u001b[31m│\u001b[0m\n",
            "\u001b[31m│\u001b[0m \u001b[33m│\u001b[0m                       \u001b[2m│   │   \u001b[0m\u001b[33mwaiting_senders\u001b[0m=\u001b[1;35mOrderedDict\u001b[0m\u001b[1m(\u001b[0m\u001b[1m)\u001b[0m              \u001b[33m│\u001b[0m \u001b[31m│\u001b[0m\n",
            "\u001b[31m│\u001b[0m \u001b[33m│\u001b[0m                       \u001b[2m│   \u001b[0m\u001b[1m)\u001b[0m,                                             \u001b[33m│\u001b[0m \u001b[31m│\u001b[0m\n",
            "\u001b[31m│\u001b[0m \u001b[33m│\u001b[0m                       \u001b[2m│   \u001b[0m\u001b[33m_closed\u001b[0m=\u001b[94mTrue\u001b[0m                                   \u001b[33m│\u001b[0m \u001b[31m│\u001b[0m\n",
            "\u001b[31m│\u001b[0m \u001b[33m│\u001b[0m                       \u001b[1m)\u001b[0m                                                  \u001b[33m│\u001b[0m \u001b[31m│\u001b[0m\n",
            "\u001b[31m│\u001b[0m \u001b[33m╰──────────────────────────────────────────────────────────────────────────╯\u001b[0m \u001b[31m│\u001b[0m\n",
            "\u001b[31m│\u001b[0m                                                                              \u001b[31m│\u001b[0m\n",
            "\u001b[31m│\u001b[0m \u001b[2;33m/usr/local/lib/python3.11/dist-packages/anyio/_backends/\u001b[0m\u001b[1;33m_asyncio.py\u001b[0m:\u001b[94m772\u001b[0m in   \u001b[31m│\u001b[0m\n",
            "\u001b[31m│\u001b[0m \u001b[92m__aexit__\u001b[0m                                                                    \u001b[31m│\u001b[0m\n",
            "\u001b[31m│\u001b[0m                                                                              \u001b[31m│\u001b[0m\n",
            "\u001b[31m│\u001b[0m   \u001b[2m 769 \u001b[0m\u001b[2m│   │   │   │   │   \u001b[0m\u001b[2m# added to self._exceptions so it's ok to break e\u001b[0m \u001b[31m│\u001b[0m\n",
            "\u001b[31m│\u001b[0m   \u001b[2m 770 \u001b[0m\u001b[2m│   │   │   │   │   \u001b[0m\u001b[2m# chaining and avoid adding a \"During handling of\u001b[0m \u001b[31m│\u001b[0m\n",
            "\u001b[31m│\u001b[0m   \u001b[2m 771 \u001b[0m\u001b[2m│   │   │   │   │   \u001b[0m\u001b[2m# for each nesting level.\u001b[0m                         \u001b[31m│\u001b[0m\n",
            "\u001b[31m│\u001b[0m \u001b[31m❱ \u001b[0m 772 \u001b[2m│   │   │   │   │   \u001b[0m\u001b[94mraise\u001b[0m BaseExceptionGroup(                         \u001b[31m│\u001b[0m\n",
            "\u001b[31m│\u001b[0m   \u001b[2m 773 \u001b[0m\u001b[2m│   │   │   │   │   │   \u001b[0m\u001b[33m\"\u001b[0m\u001b[33munhandled errors in a TaskGroup\u001b[0m\u001b[33m\"\u001b[0m, \u001b[96mself\u001b[0m._exce \u001b[31m│\u001b[0m\n",
            "\u001b[31m│\u001b[0m   \u001b[2m 774 \u001b[0m\u001b[2m│   │   │   │   │   \u001b[0m) \u001b[94mfrom\u001b[0m\u001b[90m \u001b[0m\u001b[94mNone\u001b[0m                                       \u001b[31m│\u001b[0m\n",
            "\u001b[31m│\u001b[0m   \u001b[2m 775 \u001b[0m\u001b[2m│   │   │   │   \u001b[0m\u001b[94melif\u001b[0m exc_val:                                         \u001b[31m│\u001b[0m\n",
            "\u001b[31m│\u001b[0m                                                                              \u001b[31m│\u001b[0m\n",
            "\u001b[31m│\u001b[0m \u001b[33m╭─\u001b[0m\u001b[33m──────────────────────────────\u001b[0m\u001b[33m locals \u001b[0m\u001b[33m───────────────────────────────\u001b[0m\u001b[33m─╮\u001b[0m    \u001b[31m│\u001b[0m\n",
            "\u001b[31m│\u001b[0m \u001b[33m│\u001b[0m loop = \u001b[1m<\u001b[0m\u001b[1;95m_UnixSelectorEventLoop\u001b[0m\u001b[39m \u001b[0m\u001b[33mrunning\u001b[0m\u001b[39m=\u001b[0m\u001b[94mFalse\u001b[0m\u001b[39m \u001b[0m\u001b[33mclosed\u001b[0m\u001b[39m=\u001b[0m\u001b[94mTrue\u001b[0m\u001b[39m \u001b[0m\u001b[33mdebug\u001b[0m\u001b[39m=\u001b[0m\u001b[94mFalse\u001b[0m\u001b[1m>\u001b[0m \u001b[33m│\u001b[0m    \u001b[31m│\u001b[0m\n",
            "\u001b[31m│\u001b[0m \u001b[33m│\u001b[0m self = \u001b[1m<\u001b[0m\u001b[1;95manyio._backends._asyncio.TaskGroup\u001b[0m\u001b[39m object at \u001b[0m\u001b[94m0x7adaf569be10\u001b[0m\u001b[1m>\u001b[0m  \u001b[33m│\u001b[0m    \u001b[31m│\u001b[0m\n",
            "\u001b[31m│\u001b[0m \u001b[33m╰───────────────────────────────────────────────────────────────────────╯\u001b[0m    \u001b[31m│\u001b[0m\n",
            "\u001b[31m╰──────────────────────────────────────────────────────────────────────────────╯\u001b[0m\n",
            "\u001b[1;91mExceptionGroup: \u001b[0munhandled errors in a TaskGroup \u001b[1m(\u001b[0m\u001b[1;36m1\u001b[0m sub-exception\u001b[1m)\u001b[0m\n"
          ]
        }
      ]
    },
    {
      "cell_type": "code",
      "source": [
        "{\n",
        "  \"model\": \"llama3.2:3b\",\n",
        "  \"endpointUrl\": \"http://localhost:11434\",\n",
        "  \"servers\": [\n",
        "    {\n",
        "      \"type\": \"http\",\n",
        "      \"url\": \"https://evalstate-hf-mcp-server.hf.space/mcp\"\n",
        "    }\n",
        "  ]\n",
        "}"
      ],
      "metadata": {
        "id": "FKswN3xwqKFW"
      },
      "execution_count": null,
      "outputs": []
    },
    {
      "cell_type": "code",
      "source": [
        "!tiny-agents run ./my-agent"
      ],
      "metadata": {
        "colab": {
          "base_uri": "https://localhost:8080/"
        },
        "id": "sOZA71QXq1pB",
        "outputId": "3d3587c4-7921-489e-b03c-b51449b62e73"
      },
      "execution_count": 23,
      "outputs": [
        {
          "output_type": "stream",
          "name": "stdout",
          "text": [
            "\u001b[1;34mAgent loaded with \u001b[0m\u001b[1;34m10\u001b[0m\u001b[1;34m tools:\u001b[0m\n",
            "\u001b[34m • hf_whoami\u001b[0m\n",
            "\u001b[34m • space_search\u001b[0m\n",
            "\u001b[34m • model_search\u001b[0m\n",
            "\u001b[34m • model_details\u001b[0m\n",
            "\u001b[34m • paper_search\u001b[0m\n",
            "\u001b[34m • dataset_search\u001b[0m\n",
            "\u001b[34m • dataset_details\u001b[0m\n",
            "\u001b[34m • hf_doc_search\u001b[0m\n",
            "\u001b[34m • gr1_flux1_schnell_infer\u001b[0m\n",
            "\u001b[34m • gr2_0_abidlabs_easyghiblis_ndition_generate_image\u001b[0m\n",
            "»  hi\n",
            "\n",
            "\u001b[1;31mError during agent run: Cannot connect to host localhost:\u001b[0m\u001b[1;31m11434\u001b[0m\u001b[1;31m ssl:default \u001b[0m\n",
            "\u001b[1;31m[\u001b[0m\u001b[1;31mConnect call failed \u001b[0m\u001b[1;31m(\u001b[0m\u001b[1;31m'127.0.0.1'\u001b[0m\u001b[1;31m, \u001b[0m\u001b[1;31m11434\u001b[0m\u001b[1;31m)\u001b[0m\u001b[1;31m]\u001b[0m\n",
            "\u001b[1;31mTraceback \u001b[0m\u001b[1;31m(\u001b[0m\u001b[1;31mmost recent call last\u001b[0m\u001b[1;31m)\u001b[0m\u001b[1;31m:\u001b[0m\n",
            "\u001b[1;31m  File \u001b[0m\u001b[1;31m\"/usr/local/lib/python3.11/dist-packages/aiohttp/connector.py\"\u001b[0m\u001b[1;31m, line \u001b[0m\n",
            "\u001b[1;31m1268\u001b[0m\u001b[1;31m, in _wrap_create_connection\u001b[0m\n",
            "\u001b[1;31m    sock = await \u001b[0m\u001b[1;31maiohappyeyeballs.start_connection\u001b[0m\u001b[1;31m(\u001b[0m\n",
            "\u001b[1;31m           ^^^^^^^^^^^^^^^^^^^^^^^^^^^^^^^^^^^^^^^^\u001b[0m\n",
            "\u001b[1;31m  File \u001b[0m\u001b[1;31m\"/usr/local/lib/python3.11/dist-packages/aiohappyeyeballs/impl.py\"\u001b[0m\u001b[1;31m, line \u001b[0m\n",
            "\u001b[1;31m122\u001b[0m\u001b[1;31m, in start_connection\u001b[0m\n",
            "\u001b[1;31m    raise first_exception\u001b[0m\n",
            "\u001b[1;31m  File \u001b[0m\u001b[1;31m\"/usr/local/lib/python3.11/dist-packages/aiohappyeyeballs/impl.py\"\u001b[0m\u001b[1;31m, line \u001b[0m\n",
            "\u001b[1;31m73\u001b[0m\u001b[1;31m, in start_connection\u001b[0m\n",
            "\u001b[1;31m    sock = await \u001b[0m\u001b[1;31m_connect_sock\u001b[0m\u001b[1;31m(\u001b[0m\n",
            "\u001b[1;31m           ^^^^^^^^^^^^^^^^^^^^\u001b[0m\n",
            "\u001b[1;31m  File \u001b[0m\u001b[1;31m\"/usr/local/lib/python3.11/dist-packages/aiohappyeyeballs/impl.py\"\u001b[0m\u001b[1;31m, line \u001b[0m\n",
            "\u001b[1;31m208\u001b[0m\u001b[1;31m, in _connect_sock\u001b[0m\n",
            "\u001b[1;31m    await \u001b[0m\u001b[1;31mloop.sock_connect\u001b[0m\u001b[1;31m(\u001b[0m\u001b[1;31msock, address\u001b[0m\u001b[1;31m)\u001b[0m\n",
            "\u001b[1;31m  File \u001b[0m\u001b[1;31m\"/usr/lib/python3.11/asyncio/selector_events.py\"\u001b[0m\u001b[1;31m, line \u001b[0m\u001b[1;31m638\u001b[0m\u001b[1;31m, in \u001b[0m\n",
            "\u001b[1;31msock_connect\u001b[0m\n",
            "\u001b[1;31m    return await fut\u001b[0m\n",
            "\u001b[1;31m           ^^^^^^^^^\u001b[0m\n",
            "\u001b[1;31m  File \u001b[0m\u001b[1;31m\"/usr/lib/python3.11/asyncio/selector_events.py\"\u001b[0m\u001b[1;31m, line \u001b[0m\u001b[1;31m678\u001b[0m\u001b[1;31m, in \u001b[0m\n",
            "\u001b[1;31m_sock_connect_cb\u001b[0m\n",
            "\u001b[1;31m    raise \u001b[0m\u001b[1;31mOSError\u001b[0m\u001b[1;31m(\u001b[0m\u001b[1;31merr, f'Connect call failed \u001b[0m\u001b[1;31m{\u001b[0m\u001b[1;31maddress\u001b[0m\u001b[1;31m}\u001b[0m\u001b[1;31m'\u001b[0m\u001b[1;31m)\u001b[0m\n",
            "\u001b[1;31mConnectionRefusedError: \u001b[0m\u001b[1;31m[\u001b[0m\u001b[1;31mErrno \u001b[0m\u001b[1;31m111\u001b[0m\u001b[1;31m]\u001b[0m\u001b[1;31m Connect call failed \u001b[0m\u001b[1;31m(\u001b[0m\u001b[1;31m'127.0.0.1'\u001b[0m\u001b[1;31m, \u001b[0m\u001b[1;31m11434\u001b[0m\u001b[1;31m)\u001b[0m\n",
            "\n",
            "\u001b[1;31mThe above exception was the direct cause of the following exception:\u001b[0m\n",
            "\n",
            "\u001b[1;31mTraceback \u001b[0m\u001b[1;31m(\u001b[0m\u001b[1;31mmost recent call last\u001b[0m\u001b[1;31m)\u001b[0m\u001b[1;31m:\u001b[0m\n",
            "\u001b[1;31m  File \u001b[0m\n",
            "\u001b[1;31m\"/usr/local/lib/python3.11/dist-packages/huggingface_hub/inference/_mcp/cli.py\"\u001b[0m\u001b[1;31m,\u001b[0m\n",
            "\u001b[1;31mline \u001b[0m\u001b[1;31m178\u001b[0m\u001b[1;31m, in run_agent\u001b[0m\n",
            "\u001b[1;31m    async for chunk in \u001b[0m\u001b[1;31magent.run\u001b[0m\u001b[1;31m(\u001b[0m\u001b[1;31muser_input, \u001b[0m\u001b[1;31mabort_event\u001b[0m\u001b[1;31m=\u001b[0m\u001b[1;31mabort_event\u001b[0m\u001b[1;31m)\u001b[0m\u001b[1;31m:\u001b[0m\n",
            "\u001b[1;31m  File \u001b[0m\n",
            "\u001b[1;31m\"/usr/local/lib/python3.11/dist-packages/huggingface_hub/inference/_mcp/agent.py\u001b[0m\n",
            "\u001b[1;31m\"\u001b[0m\u001b[1;31m, line \u001b[0m\u001b[1;31m84\u001b[0m\u001b[1;31m, in run\u001b[0m\n",
            "\u001b[1;31m    async for item in \u001b[0m\u001b[1;31mself.process_single_turn_with_tools\u001b[0m\u001b[1;31m(\u001b[0m\n",
            "\u001b[1;31m  File \u001b[0m\n",
            "\u001b[1;31m\"/usr/local/lib/python3.11/dist-packages/huggingface_hub/inference/_mcp/mcp_clie\u001b[0m\n",
            "\u001b[1;31mnt.py\"\u001b[0m\u001b[1;31m, line \u001b[0m\u001b[1;31m261\u001b[0m\u001b[1;31m, in process_single_turn_with_tools\u001b[0m\n",
            "\u001b[1;31m    response = await \u001b[0m\u001b[1;31mself.client.chat.completions.create\u001b[0m\u001b[1;31m(\u001b[0m\n",
            "\u001b[1;31m               ^^^^^^^^^^^^^^^^^^^^^^^^^^^^^^^^^^^^^^^^^^\u001b[0m\n",
            "\u001b[1;31m  File \u001b[0m\n",
            "\u001b[1;31m\"/usr/local/lib/python3.11/dist-packages/huggingface_hub/inference/_generated/_a\u001b[0m\n",
            "\u001b[1;31msync_client.py\"\u001b[0m\u001b[1;31m, line \u001b[0m\u001b[1;31m962\u001b[0m\u001b[1;31m, in chat_completion\u001b[0m\n",
            "\u001b[1;31m    data = await \u001b[0m\u001b[1;31mself._inner_post\u001b[0m\u001b[1;31m(\u001b[0m\u001b[1;31mrequest_parameters, \u001b[0m\u001b[1;31mstream\u001b[0m\u001b[1;31m=\u001b[0m\u001b[1;31mstream\u001b[0m\u001b[1;31m)\u001b[0m\n",
            "\u001b[1;31m           ^^^^^^^^^^^^^^^^^^^^^^^^^^^^^^^^^^^^^^^^^^^^^^^^^^^^^^^^^\u001b[0m\n",
            "\u001b[1;31m  File \u001b[0m\n",
            "\u001b[1;31m\"/usr/local/lib/python3.11/dist-packages/huggingface_hub/inference/_generated/_a\u001b[0m\n",
            "\u001b[1;31msync_client.py\"\u001b[0m\u001b[1;31m, line \u001b[0m\u001b[1;31m265\u001b[0m\u001b[1;31m, in _inner_post\u001b[0m\n",
            "\u001b[1;31m    response = await \u001b[0m\u001b[1;31msession.post\u001b[0m\u001b[1;31m(\u001b[0m\n",
            "\u001b[1;31m               ^^^^^^^^^^^^^^^^^^^\u001b[0m\n",
            "\u001b[1;31m  File \u001b[0m\n",
            "\u001b[1;31m\"/usr/local/lib/python3.11/dist-packages/huggingface_hub/inference/_generated/_a\u001b[0m\n",
            "\u001b[1;31msync_client.py\"\u001b[0m\u001b[1;31m, line \u001b[0m\u001b[1;31m3377\u001b[0m\u001b[1;31m, in _request\u001b[0m\n",
            "\u001b[1;31m    response = await \u001b[0m\u001b[1;31msession._wrapped_request\u001b[0m\u001b[1;31m(\u001b[0m\u001b[1;31mmethod, url, **kwargs\u001b[0m\u001b[1;31m)\u001b[0m\n",
            "\u001b[1;31m               ^^^^^^^^^^^^^^^^^^^^^^^^^^^^^^^^^^^^^^^^^^^^^^^^^^^^^\u001b[0m\n",
            "\u001b[1;31m  File \u001b[0m\u001b[1;31m\"/usr/local/lib/python3.11/dist-packages/aiohttp/client.py\"\u001b[0m\u001b[1;31m, line \u001b[0m\u001b[1;31m770\u001b[0m\u001b[1;31m, in\u001b[0m\n",
            "\u001b[1;31m_request\u001b[0m\n",
            "\u001b[1;31m    resp = await \u001b[0m\u001b[1;31mhandler\u001b[0m\u001b[1;31m(\u001b[0m\u001b[1;31mreq\u001b[0m\u001b[1;31m)\u001b[0m\n",
            "\u001b[1;31m           ^^^^^^^^^^^^^^^^^^\u001b[0m\n",
            "\u001b[1;31m  File \u001b[0m\u001b[1;31m\"/usr/local/lib/python3.11/dist-packages/aiohttp/client.py\"\u001b[0m\u001b[1;31m, line \u001b[0m\u001b[1;31m725\u001b[0m\u001b[1;31m, in\u001b[0m\n",
            "\u001b[1;31m_connect_and_send_request\u001b[0m\n",
            "\u001b[1;31m    conn = await \u001b[0m\u001b[1;31mself._connector.connect\u001b[0m\u001b[1;31m(\u001b[0m\n",
            "\u001b[1;31m           ^^^^^^^^^^^^^^^^^^^^^^^^^^^^^^\u001b[0m\n",
            "\u001b[1;31m  File \u001b[0m\u001b[1;31m\"/usr/local/lib/python3.11/dist-packages/aiohttp/connector.py\"\u001b[0m\u001b[1;31m, line \u001b[0m\u001b[1;31m642\u001b[0m\u001b[1;31m,\u001b[0m\n",
            "\u001b[1;31min connect\u001b[0m\n",
            "\u001b[1;31m    proto = await \u001b[0m\u001b[1;31mself._create_connection\u001b[0m\u001b[1;31m(\u001b[0m\u001b[1;31mreq, traces, timeout\u001b[0m\u001b[1;31m)\u001b[0m\n",
            "\u001b[1;31m            ^^^^^^^^^^^^^^^^^^^^^^^^^^^^^^^^^^^^^^^^^^^^^^^^^^^\u001b[0m\n",
            "\u001b[1;31m  File \u001b[0m\u001b[1;31m\"/usr/local/lib/python3.11/dist-packages/aiohttp/connector.py\"\u001b[0m\u001b[1;31m, line \u001b[0m\n",
            "\u001b[1;31m1209\u001b[0m\u001b[1;31m, in _create_connection\u001b[0m\n",
            "\u001b[1;31m    _, proto = await \u001b[0m\u001b[1;31mself._create_direct_connection\u001b[0m\u001b[1;31m(\u001b[0m\u001b[1;31mreq, traces, timeout\u001b[0m\u001b[1;31m)\u001b[0m\n",
            "\u001b[1;31m               ^^^^^^^^^^^^^^^^^^^^^^^^^^^^^^^^^^^^^^^^^^^^^^^^^^^^^^^^^^\u001b[0m\n",
            "\u001b[1;31m  File \u001b[0m\u001b[1;31m\"/usr/local/lib/python3.11/dist-packages/aiohttp/connector.py\"\u001b[0m\u001b[1;31m, line \u001b[0m\n",
            "\u001b[1;31m1581\u001b[0m\u001b[1;31m, in _create_direct_connection\u001b[0m\n",
            "\u001b[1;31m    raise last_exc\u001b[0m\n",
            "\u001b[1;31m  File \u001b[0m\u001b[1;31m\"/usr/local/lib/python3.11/dist-packages/aiohttp/connector.py\"\u001b[0m\u001b[1;31m, line \u001b[0m\n",
            "\u001b[1;31m1550\u001b[0m\u001b[1;31m, in _create_direct_connection\u001b[0m\n",
            "\u001b[1;31m    transp, proto = await \u001b[0m\u001b[1;31mself._wrap_create_connection\u001b[0m\u001b[1;31m(\u001b[0m\n",
            "\u001b[1;31m                    ^^^^^^^^^^^^^^^^^^^^^^^^^^^^^^^^^^^\u001b[0m\n",
            "\u001b[1;31m  File \u001b[0m\u001b[1;31m\"/usr/local/lib/python3.11/dist-packages/aiohttp/connector.py\"\u001b[0m\u001b[1;31m, line \u001b[0m\n",
            "\u001b[1;31m1291\u001b[0m\u001b[1;31m, in _wrap_create_connection\u001b[0m\n",
            "\u001b[1;31m    raise \u001b[0m\u001b[1;31mclient_error\u001b[0m\u001b[1;31m(\u001b[0m\u001b[1;31mreq.connection_key, exc\u001b[0m\u001b[1;31m)\u001b[0m\u001b[1;31m from exc\u001b[0m\n",
            "\u001b[1;31maiohttp.client_exceptions.ClientConnectorError: Cannot connect to host \u001b[0m\n",
            "\u001b[1;31mlocalhost:\u001b[0m\u001b[1;31m11434\u001b[0m\u001b[1;31m ssl:default \u001b[0m\u001b[1;31m[\u001b[0m\u001b[1;31mConnect call failed \u001b[0m\u001b[1;31m(\u001b[0m\u001b[1;31m'127.0.0.1'\u001b[0m\u001b[1;31m, \u001b[0m\u001b[1;31m11434\u001b[0m\u001b[1;31m)\u001b[0m\u001b[1;31m]\u001b[0m\n",
            "\n",
            "»  \n",
            "\u001b[31mInterrupted. Press Ctrl+C again to quit.\u001b[0m\n",
            "\n",
            "\u001b[31mExiting\u001b[0m\u001b[31m...\u001b[0m\n",
            "\n"
          ]
        }
      ]
    },
    {
      "cell_type": "markdown",
      "source": [
        "ThinkingThoughts\n",
        "(experimental)\n",
        "Auto\n",
        "Expand to view model thoughts\n",
        "\n",
        "chevron_right\n",
        "ThinkingThoughts\n",
        "(experimental)\n",
        "Auto\n",
        "Expand to view model thoughts\n",
        "\n",
        "chevron_right\n"
      ],
      "metadata": {
        "id": "HUGq8VZurO2E"
      }
    },
    {
      "cell_type": "code",
      "source": [
        "import os\n",
        "import subprocess\n",
        "import time\n",
        "\n",
        "# أولاً، أوقف أي عملية قديمة لضمان بداية نظيفة\n",
        "print(\"Stopping any old Ollama processes...\")\n",
        "os.system(\"pkill -f ollama\")\n",
        "time.sleep(2)\n",
        "\n",
        "# ثانيًا، أعد تشغيل الخادم في وضع التوافق مع OpenAI\n",
        "print(\"Restarting Ollama server...\")\n",
        "process = subprocess.Popen([\"ollama\", \"serve\"], stdout=subprocess.PIPE, stderr=subprocess.PIPE)\n",
        "time.sleep(10) # امنحه 10 ثوانٍ للبدء بشكل كامل\n",
        "print(\"✅ Server restarted! You can now run your agent again.\")"
      ],
      "metadata": {
        "colab": {
          "base_uri": "https://localhost:8080/"
        },
        "id": "wk68Osaiq15u",
        "outputId": "da16a6aa-8655-4c33-9b95-00540b87dbb7"
      },
      "execution_count": 26,
      "outputs": [
        {
          "output_type": "stream",
          "name": "stdout",
          "text": [
            "Stopping any old Ollama processes...\n",
            "Restarting Ollama server...\n",
            "✅ Server restarted! You can now run your agent again.\n"
          ]
        }
      ]
    },
    {
      "cell_type": "code",
      "source": [
        "\n",
        "{\n",
        "  \"model\": \"llama3.2:3b\",\n",
        "  \"endpointUrl\": \"http://localhost:11434/v1\",\n",
        "  \"servers\": [\n",
        "    {\n",
        "      \"type\": \"http\",\n",
        "      \"url\": \"https://evalstate-hf-mcp-server.hf.space/mcp\"\n",
        "    }\n",
        "  ]\n",
        "}\n",
        "\n",
        "\n",
        "\n",
        "\n",
        "{\n",
        "  \"model\": \"llama3.2:3b\",\n",
        "  \"endpointUrl\": \"http://localhost:11434/v1\",\n",
        "  \"servers\": [\n",
        "    {\n",
        "      \"type\": \"sse\",\n",
        "      \"url\": \"http://127.0.0.1:7860/gradio_api/mcp/sse\"\n",
        "    }\n",
        "  ]\n",
        "}\n",
        "\n",
        "\n",
        "\n",
        "http://127.0.0.1:7860/gradio_api/mcp/sse"
      ],
      "metadata": {
        "id": "CCCMiIa1s256"
      },
      "execution_count": null,
      "outputs": []
    },
    {
      "cell_type": "code",
      "source": [
        "{\n",
        "  \"model\": \"llama3.2:3b\",\n",
        "  \"endpointUrl\": \"http://localhost:11434\",\n",
        "  \"servers\": [\n",
        "        {\n",
        "      \"type\": \"http\",\n",
        "      \"url\": \"https://evalstate-hf-mcp-server.hf.space/mcp\"\n",
        "    }\n",
        "  ]\n",
        "}"
      ],
      "metadata": {
        "id": "4joh34mJuTUa"
      },
      "execution_count": null,
      "outputs": []
    },
    {
      "cell_type": "code",
      "source": [],
      "metadata": {
        "id": "X9x-QHofvASI"
      },
      "execution_count": null,
      "outputs": []
    },
    {
      "cell_type": "code",
      "source": [],
      "metadata": {
        "id": "Z-B4MEVevAPJ"
      },
      "execution_count": null,
      "outputs": []
    },
    {
      "cell_type": "code",
      "source": [],
      "metadata": {
        "id": "gUPBXeK4vAMV"
      },
      "execution_count": null,
      "outputs": []
    },
    {
      "cell_type": "code",
      "source": [],
      "metadata": {
        "id": "Ugd1UMc8vAIs"
      },
      "execution_count": null,
      "outputs": []
    },
    {
      "cell_type": "code",
      "source": [],
      "metadata": {
        "id": "WhFvkl0ivADn"
      },
      "execution_count": null,
      "outputs": []
    },
    {
      "cell_type": "code",
      "source": [],
      "metadata": {
        "id": "Ye6kiHo9vAAi"
      },
      "execution_count": null,
      "outputs": []
    },
    {
      "cell_type": "code",
      "source": [],
      "metadata": {
        "id": "Doh3FDceu_85"
      },
      "execution_count": null,
      "outputs": []
    },
    {
      "cell_type": "markdown",
      "source": [
        "### شغال"
      ],
      "metadata": {
        "id": "x62xAwl2vBfQ"
      }
    },
    {
      "cell_type": "code",
      "source": [
        "ollama serve\n",
        "ف الترمنال"
      ],
      "metadata": {
        "id": "qOHFNPiJvKC5"
      },
      "execution_count": null,
      "outputs": []
    },
    {
      "cell_type": "code",
      "source": [
        "\n",
        "{\n",
        "  \"model\": \"llama3.2:3b\",\n",
        "  \"endpointUrl\": \"http://localhost:11434\",\n",
        "  \"servers\": [\n",
        "        {\n",
        "      \"type\": \"http\",\n",
        "      \"url\": \"https://evalstate-hf-mcp-server.hf.space/mcp\"\n",
        "    }\n",
        "  ]\n",
        "}\n",
        "\n"
      ],
      "metadata": {
        "id": "0Px_P3RKu_5L"
      },
      "execution_count": null,
      "outputs": []
    },
    {
      "cell_type": "code",
      "source": [
        "\n",
        "{\n",
        "  \"model\": \"llama3.2:3b\",\n",
        "  \"endpointUrl\": \"http://localhost:11434\",\n",
        "  \"servers\": [\n",
        "        {\n",
        "      \"type\": \"http\",\n",
        "      \"url\": \"https://evalstate-hf-mcp-server.hf.space/mcp\"\n",
        "    }\n",
        "  ]\n",
        "}\n",
        "\n"
      ],
      "metadata": {
        "id": "RDz7lzrg2Bxx"
      },
      "execution_count": null,
      "outputs": []
    },
    {
      "cell_type": "code",
      "source": [
        "!tiny-agents run ./my-agent"
      ],
      "metadata": {
        "colab": {
          "base_uri": "https://localhost:8080/"
        },
        "id": "dV_pBmsutHB5",
        "outputId": "de6e01a7-0a0c-4368-d7e6-2842efd3849e"
      },
      "execution_count": null,
      "outputs": [
        {
          "output_type": "stream",
          "name": "stdout",
          "text": [
            "\u001b[1;34mAgent loaded with \u001b[0m\u001b[1;34m10\u001b[0m\u001b[1;34m tools:\u001b[0m\n",
            "\u001b[34m • hf_whoami\u001b[0m\n",
            "\u001b[34m • space_search\u001b[0m\n",
            "\u001b[34m • model_search\u001b[0m\n",
            "\u001b[34m • model_details\u001b[0m\n",
            "\u001b[34m • paper_search\u001b[0m\n",
            "\u001b[34m • dataset_search\u001b[0m\n",
            "\u001b[34m • dataset_details\u001b[0m\n",
            "\u001b[34m • hf_doc_search\u001b[0m\n",
            "\u001b[34m • gr1_flux1_schnell_infer\u001b[0m\n",
            "\u001b[34m • gr2_0_abidlabs_easyghiblis_ndition_generate_image\u001b[0m\n",
            "»  اه\n",
            "\u001b[1m{\u001b[0m\u001b[32m\"name\"\u001b[0m:\u001b[32m\"hf_whoami\"\u001b[0m,\"parameters:\u001b[1m{\u001b[0m\u001b[1m}\u001b[0m\u001b[1m}\u001b[0m\n",
            "»  Find text-to-speech examples.\n",
            "\u001b[1m{\u001b[0m\u001b[32m\"name\"\u001b[0m:\u001b[32m\"model_search\"\u001b[0m,\"parameters\u001b[1m}\u001b[0m\u001b[1m{\u001b[0m\u001b[1m(\u001b[0m\"query\u001b[32m\":\"\u001b[0mtext-to-speech\", \"task\u001b[32m\":\"\u001b[0m\u001b[32m\",\"\u001b[0mauthor\u001b[32m\":\"\u001b[0m\", \"library\u001b[32m\":\"\u001b[0m\u001b[32m\",\"\u001b[0mlimit\u001b[32m\":\"\u001b[0m\u001b[32m\",\"\u001b[0msort\u001b[32m\":\"\u001b[0m\u001b[32m\",\"\u001b[0mauthors\u001b[32m\":\u001b[0m\u001b[32m[\u001b[0m\u001b[32m\"\u001b[0m\"\u001b[1m]\u001b[0m\u001b[1m)\u001b[0m\n",
            "\n",
            " \u001b[1m{\u001b[0m\"name\": \"ask_question\"\u001b[1m}\u001b[0m\u001b[1m}\u001b[0m\n",
            "»  What is the most downloaded model in huggingface?\n",
            "\u001b[1m{\u001b[0m\u001b[32m\"name\"\u001b[0m:\u001b[32m\"model_search\"\u001b[0m,\u001b[32m\"parameters\u001b[0m\u001b[32m{\u001b[0m\u001b[32m\"\u001b[0mauthor\":\u001b[32m\"\"\u001b[0m,\u001b[32m\"library\"\u001b[0m:\u001b[32m\"transformers\"\u001b[0m,\u001b[32m\"query\"\u001b[0m:\n",
            "\u001b[32m\"most downloaded model\"\u001b[0m,\u001b[32m\"limit\"\u001b[0m:\u001b[1;36m10\u001b[0m,\u001b[32m\"task\"\u001b[0m:\u001b[32m\"null\"\u001b[0m,\u001b[32m\"sort\"\u001b[0m:\u001b[32m\"downloads\"\u001b[0m\u001b[1m}\u001b[0m\u001b[1m}\u001b[0m\n",
            "»  Use dataset_search to find the best datasets for Python.\n",
            "\u001b[1m<\u001b[0m\u001b[1;95mTool\u001b[0m\u001b[39m call_z6w8l8on\u001b[0m\u001b[1m>\u001b[0mdataset_search \u001b[1m{\u001b[0m\u001b[32m\"limit\"\u001b[0m:\u001b[1;36m10\u001b[0m,\u001b[32m\"query\"\u001b[0m:\u001b[32m\"Python\"\u001b[0m,\u001b[32m\"sort\"\u001b[0m:\u001b[32m\"downloads\"\u001b[0m\u001b[1m}\u001b[0m\n",
            "\n",
            "\u001b[32mTool\u001b[0m\u001b[32m call_z6w8l8on\u001b[0m\n",
            "\u001b[32mShowing first \u001b[0m\u001b[1;32m10\u001b[0m\u001b[32m datasets matching query \u001b[0m\u001b[32m\"Python\"\u001b[0m\u001b[32m, sorted by downloads \u001b[0m\n",
            "\u001b[1;32m(\u001b[0m\u001b[32mdescending\u001b[0m\u001b[1;32m)\u001b[0m\u001b[32m:\u001b[0m\n",
            "\n",
            "\u001b[32m## matlok/python-text-copilot-training-instruct-ai-research-\u001b[0m\u001b[1;32m2024\u001b[0m\u001b[32m-\u001b[0m\u001b[1;32m02\u001b[0m\u001b[32m-\u001b[0m\u001b[1;32m03\u001b[0m\n",
            "\n",
            "\n",
            "\u001b[32m        \u001b[0m\n",
            "\u001b[32m        \u001b[0m\u001b[32m        \u001b[0m\n",
            "\u001b[32m        \u001b[0m\u001b[32m        \u001b[0m\u001b[32mPython Copilot Instructions on How to Code using Alpaca and Yaml\u001b[0m\n",
            "\u001b[32m        \u001b[0m\n",
            "\n",
            "\u001b[32mTraining and test datasets for building coding multimodal models that understand\u001b[0m\n",
            "\u001b[32mhow to use the open source GitHub projects \u001b[0m\u001b[32m...\u001b[0m\n",
            "\n",
            "\u001b[32m**Downloads:** \u001b[0m\u001b[1;32m12.\u001b[0m\u001b[32m8K | **Likes:** \u001b[0m\u001b[1;32m1\u001b[0m\n",
            "\n",
            "\u001b[32m**Tags:** task_categories:text-generation, task_categories:question-answering, \u001b[0m\n",
            "\u001b[32mtask_ids:parsing, license:other, size_categories:1K<n<10K, format:parquet, \u001b[0m\n",
            "\u001b[32mmodality:tabular, modality:text, library:datasets, library:pandas, \u001b[0m\n",
            "\u001b[32mlibrary:mlcroissant, library:polars, region:us, python-copilot, python-coding, \u001b[0m\n",
            "\u001b[32mpython-architecture, knowledge-graphs, multimodal, text-image-audio, fine-tuning\u001b[0m\n",
            "\u001b[32m*and \u001b[0m\u001b[1;32m13\u001b[0m\u001b[32m more\u001b[0m\u001b[32m...\u001b[0m\u001b[32m*\u001b[0m\n",
            "\n",
            "\u001b[32m**Created:** \u001b[0m\u001b[1;32m3\u001b[0m\u001b[32m Feb, \u001b[0m\u001b[1;32m2024\u001b[0m\n",
            "\u001b[32m**Last Modified:** \u001b[0m\u001b[1;32m4\u001b[0m\u001b[32m Feb, \u001b[0m\u001b[1;32m2024\u001b[0m\n",
            "\u001b[32m**Link:** \u001b[0m\n",
            "\u001b[1;32m(\u001b[0m\u001b[4;32mhttps://hf.co/datasets/matlok/python-text-copilot-training-instruct-ai-research\u001b[0m\n",
            "\u001b[4;32m-2024-02-03\u001b[0m\u001b[4;32m)\u001b[0m\n",
            "\n",
            "\u001b[32m---\u001b[0m\n",
            "\n",
            "\u001b[32m## matlok/python-image-copilot-training-using-inheritance-knowledge-graphs\u001b[0m\n",
            "\n",
            "\n",
            "\u001b[32m        \u001b[0m\n",
            "\u001b[32m        \u001b[0m\u001b[32m        \u001b[0m\n",
            "\u001b[32m        \u001b[0m\u001b[32m        \u001b[0m\u001b[32mPython Copilot Image Training using Inheritance and Polymorphism\u001b[0m\n",
            "\u001b[32mKnowledge Graphs\u001b[0m\n",
            "\u001b[32m        \u001b[0m\n",
            "\n",
            "\u001b[32mThis dataset is a subset of the matlok python copilot datasets. Please refer to \u001b[0m\n",
            "\u001b[32mthe Multimodal Python Copil\u001b[0m\u001b[32m...\u001b[0m\n",
            "\n",
            "\u001b[32m**Downloads:** \u001b[0m\u001b[1;32m9.\u001b[0m\u001b[32m3K\u001b[0m\n",
            "\n",
            "\u001b[32m**Tags:** task_categories:text-to-image, task_categories:image-to-image, \u001b[0m\n",
            "\u001b[32mtask_categories:question-answering, task_ids:parsing, license:other, \u001b[0m\n",
            "\u001b[32msize_categories:n<1K, format:parquet, modality:tabular, modality:text, \u001b[0m\n",
            "\u001b[32mlibrary:datasets, library:pandas, library:mlcroissant, library:polars, \u001b[0m\n",
            "\u001b[32mregion:us, python-copilot, python-coding, python-architecture, knowledge-graphs,\u001b[0m\n",
            "\u001b[32mmultimodal, text-image-audio\u001b[0m\n",
            "\u001b[32m*and \u001b[0m\u001b[1;32m13\u001b[0m\u001b[32m more\u001b[0m\u001b[32m...\u001b[0m\u001b[32m*\u001b[0m\n",
            "\n",
            "\u001b[32m**Created:** \u001b[0m\u001b[1;32m20\u001b[0m\u001b[32m Jan, \u001b[0m\u001b[1;32m2024\u001b[0m\n",
            "\u001b[32m**Last Modified:** \u001b[0m\u001b[1;32m25\u001b[0m\u001b[32m Jan, \u001b[0m\u001b[1;32m2024\u001b[0m\n",
            "\u001b[32m**Link:** \u001b[0m\n",
            "\u001b[1;32m(\u001b[0m\u001b[4;32mhttps://hf.co/datasets/matlok/python-image-copilot-training-using-inheritance-k\u001b[0m\n",
            "\u001b[4;32mnowledge-graphs\u001b[0m\u001b[4;32m)\u001b[0m\n",
            "\n",
            "\u001b[32m---\u001b[0m\n",
            "\n",
            "\u001b[32m## matlok/python-image-copilot-training-using-class-knowledge-graphs-\u001b[0m\u001b[1;32m2024\u001b[0m\u001b[32m-\u001b[0m\u001b[1;32m01\u001b[0m\u001b[32m-\u001b[0m\u001b[1;32m27\u001b[0m\n",
            "\n",
            "\n",
            "\u001b[32m        \u001b[0m\n",
            "\u001b[32m        \u001b[0m\u001b[32m        \u001b[0m\n",
            "\u001b[32m        \u001b[0m\u001b[32m        \u001b[0m\u001b[32mPython Copilot Image Training using Class Knowledge Graphs\u001b[0m\n",
            "\u001b[32m        \u001b[0m\n",
            "\n",
            "\u001b[32mThis dataset is a subset of the matlok python copilot datasets. Please refer to \u001b[0m\n",
            "\u001b[32mthe Multimodal Python Copilot Training Overview fo\u001b[0m\u001b[32m...\u001b[0m\n",
            "\n",
            "\u001b[32m**Downloads:** \u001b[0m\u001b[1;32m5.\u001b[0m\u001b[32m9K\u001b[0m\n",
            "\n",
            "\u001b[32m**Tags:** task_categories:text-to-image, task_categories:image-to-image, \u001b[0m\n",
            "\u001b[32mtask_categories:question-answering, task_ids:parsing, license:other, \u001b[0m\n",
            "\u001b[32msize_categories:n<1K, format:parquet, modality:tabular, modality:text, \u001b[0m\n",
            "\u001b[32mlibrary:datasets, library:pandas, library:mlcroissant, library:polars, \u001b[0m\n",
            "\u001b[32mregion:us, python-copilot, python-coding, python-architecture, knowledge-graphs,\u001b[0m\n",
            "\u001b[32mmultimodal, text-image-audio\u001b[0m\n",
            "\u001b[32m*and \u001b[0m\u001b[1;32m11\u001b[0m\u001b[32m more\u001b[0m\u001b[32m...\u001b[0m\u001b[32m*\u001b[0m\n",
            "\n",
            "\u001b[32m**Created:** \u001b[0m\u001b[1;32m28\u001b[0m\u001b[32m Jan, \u001b[0m\u001b[1;32m2024\u001b[0m\n",
            "\u001b[32m**Last Modified:** \u001b[0m\u001b[1;32m29\u001b[0m\u001b[32m Jan, \u001b[0m\u001b[1;32m2024\u001b[0m\n",
            "\u001b[32m**Link:** \u001b[0m\n",
            "\u001b[1;32m(\u001b[0m\u001b[4;32mhttps://hf.co/datasets/matlok/python-image-copilot-training-using-class-knowled\u001b[0m\n",
            "\u001b[4;32mge-graphs-2024-01-27\u001b[0m\u001b[4;32m)\u001b[0m\n",
            "\n",
            "\u001b[32m---\u001b[0m\n",
            "\n",
            "\u001b[32m## matlok/python-image-copilot-training-using-class-knowledge-graphs\u001b[0m\n",
            "\n",
            "\n",
            "\u001b[32m        \u001b[0m\n",
            "\u001b[32m        \u001b[0m\u001b[32m        \u001b[0m\n",
            "\u001b[32m        \u001b[0m\u001b[32m        \u001b[0m\u001b[32mPython Copilot Image Training using Class Knowledge Graphs\u001b[0m\n",
            "\u001b[32m        \u001b[0m\n",
            "\n",
            "\u001b[32mThis dataset is a subset of the matlok python copilot datasets. Please refer to \u001b[0m\n",
            "\u001b[32mthe Multimodal Python Copilot Training Overview fo\u001b[0m\u001b[32m...\u001b[0m\n",
            "\n",
            "\u001b[32m**Downloads:** \u001b[0m\u001b[1;32m4.\u001b[0m\u001b[32m5K\u001b[0m\n",
            "\n",
            "\u001b[32m**Tags:** task_categories:text-to-image, task_categories:image-to-image, \u001b[0m\n",
            "\u001b[32mtask_categories:question-answering, task_ids:parsing, license:other, \u001b[0m\n",
            "\u001b[32msize_categories:n<1K, format:parquet, modality:tabular, modality:text, \u001b[0m\n",
            "\u001b[32mlibrary:datasets, library:pandas, library:mlcroissant, library:polars, \u001b[0m\n",
            "\u001b[32mregion:us, python-copilot, python-coding, python-architecture, knowledge-graphs,\u001b[0m\n",
            "\u001b[32mmultimodal, text-image-audio\u001b[0m\n",
            "\u001b[32m*and \u001b[0m\u001b[1;32m11\u001b[0m\u001b[32m more\u001b[0m\u001b[32m...\u001b[0m\u001b[32m*\u001b[0m\n",
            "\n",
            "\u001b[32m**Created:** \u001b[0m\u001b[1;32m20\u001b[0m\u001b[32m Jan, \u001b[0m\u001b[1;32m2024\u001b[0m\n",
            "\u001b[32m**Last Modified:** \u001b[0m\u001b[1;32m25\u001b[0m\u001b[32m Jan, \u001b[0m\u001b[1;32m2024\u001b[0m\n",
            "\u001b[32m**Link:** \u001b[0m\n",
            "\u001b[1;32m(\u001b[0m\u001b[4;32mhttps://hf.co/datasets/matlok/python-image-copilot-training-using-class-knowled\u001b[0m\n",
            "\u001b[4;32mge-graphs\u001b[0m\u001b[4;32m)\u001b[0m\n",
            "\n",
            "\u001b[32m---\u001b[0m\n",
            "\n",
            "\u001b[32m## matlok/python-image-copilot-training-using-function-knowledge-graphs\u001b[0m\n",
            "\n",
            "\n",
            "\u001b[32m        \u001b[0m\n",
            "\u001b[32m        \u001b[0m\u001b[32m        \u001b[0m\n",
            "\u001b[32m        \u001b[0m\u001b[32m        \u001b[0m\u001b[32mPython Copilot Image Training using Function Knowledge Graphs\u001b[0m\n",
            "\u001b[32m        \u001b[0m\n",
            "\n",
            "\u001b[32mThis dataset is a subset of the matlok python copilot datasets. Please refer to \u001b[0m\n",
            "\u001b[32mthe Multimodal Python Copilot Training Overview\u001b[0m\u001b[32m...\u001b[0m\n",
            "\n",
            "\u001b[32m**Downloads:** \u001b[0m\u001b[1;32m4.\u001b[0m\u001b[32m3K\u001b[0m\n",
            "\n",
            "\u001b[32m**Tags:** task_categories:text-to-image, task_categories:image-to-image, \u001b[0m\n",
            "\u001b[32mtask_categories:question-answering, task_ids:parsing, license:other, \u001b[0m\n",
            "\u001b[32msize_categories:n<1K, format:parquet, modality:tabular, modality:text, \u001b[0m\n",
            "\u001b[32mlibrary:datasets, library:pandas, library:mlcroissant, library:polars, \u001b[0m\n",
            "\u001b[32mregion:us, python-copilot, python-coding, python-architecture, knowledge-graphs,\u001b[0m\n",
            "\u001b[32mmultimodal, text-image-audio\u001b[0m\n",
            "\u001b[32m*and \u001b[0m\u001b[1;32m11\u001b[0m\u001b[32m more\u001b[0m\u001b[32m...\u001b[0m\u001b[32m*\u001b[0m\n",
            "\n",
            "\u001b[32m**Created:** \u001b[0m\u001b[1;32m20\u001b[0m\u001b[32m Jan, \u001b[0m\u001b[1;32m2024\u001b[0m\n",
            "\u001b[32m**Last Modified:** \u001b[0m\u001b[1;32m25\u001b[0m\u001b[32m Jan, \u001b[0m\u001b[1;32m2024\u001b[0m\n",
            "\u001b[32m**Link:** \u001b[0m\n",
            "\u001b[1;32m(\u001b[0m\u001b[4;32mhttps://hf.co/datasets/matlok/python-image-copilot-training-using-function-know\u001b[0m\n",
            "\u001b[4;32mledge-graphs\u001b[0m\u001b[4;32m)\u001b[0m\n",
            "\n",
            "\u001b[32m---\u001b[0m\n",
            "\n",
            "\u001b[32m## JanSchTech/starcoderdata-python-edu-lang-score\u001b[0m\n",
            "\n",
            "\n",
            "\u001b[32m        \u001b[0m\n",
            "\u001b[32m        \u001b[0m\u001b[32m        \u001b[0m\n",
            "\u001b[32m        \u001b[0m\u001b[32m        \u001b[0m\u001b[32mDataset Card for Starcoder Data with Python Education and \u001b[0m\n",
            "\u001b[32mLanguage Scores\u001b[0m\n",
            "\u001b[32m        \u001b[0m\n",
            "\n",
            "\n",
            "\u001b[32m        \u001b[0m\n",
            "\u001b[32m        \u001b[0m\u001b[32m        \u001b[0m\n",
            "\u001b[32m        \u001b[0m\u001b[32m        \u001b[0m\u001b[32mDataset Summary\u001b[0m\n",
            "\u001b[32m        \u001b[0m\n",
            "\n",
            "\u001b[32mThe starcoderdata-python-edu-lang-score dataset contains the Python subset of \u001b[0m\n",
            "\u001b[32mthe starco\u001b[0m\u001b[32m...\u001b[0m\n",
            "\n",
            "\u001b[32m**Downloads:** \u001b[0m\u001b[1;32m3.\u001b[0m\u001b[32m5K | **Likes:** \u001b[0m\u001b[1;32m1\u001b[0m\n",
            "\n",
            "\u001b[32m**Tags:** size_categories:1M<n<10M, format:parquet, modality:tabular, \u001b[0m\n",
            "\u001b[32mmodality:text, library:datasets, library:dask, library:mlcroissant, \u001b[0m\n",
            "\u001b[32mlibrary:polars, region:us\u001b[0m\n",
            "\n",
            "\u001b[32m**Created:** \u001b[0m\u001b[1;32m16\u001b[0m\u001b[32m Oct, \u001b[0m\u001b[1;32m2024\u001b[0m\n",
            "\u001b[32m**Last Modified:** \u001b[0m\u001b[1;32m16\u001b[0m\u001b[32m Oct, \u001b[0m\u001b[1;32m2024\u001b[0m\n",
            "\u001b[32m**Link:** \u001b[0m\n",
            "\u001b[1;32m(\u001b[0m\u001b[4;32mhttps://hf.co/datasets/JanSchTech/starcoderdata-python-edu-lang-score\u001b[0m\u001b[4;32m)\u001b[0m\n",
            "\n",
            "\u001b[32m---\u001b[0m\n",
            "\n",
            "\u001b[32m## matlok/python-audio-copilot-training-using-function-knowledge-graphs\u001b[0m\n",
            "\n",
            "\n",
            "\u001b[32m        \u001b[0m\n",
            "\u001b[32m        \u001b[0m\u001b[32m        \u001b[0m\n",
            "\u001b[32m        \u001b[0m\u001b[32m        \u001b[0m\u001b[32mPython Copilot Audio Training using Global Functions with \u001b[0m\n",
            "\u001b[32mKnowledge Graphs\u001b[0m\n",
            "\u001b[32m        \u001b[0m\n",
            "\n",
            "\u001b[32mThis dataset is a subset of the matlok python copilot datasets. Please refer to \u001b[0m\n",
            "\u001b[32mthe Multimodal Python Copilot Trai\u001b[0m\u001b[32m...\u001b[0m\n",
            "\n",
            "\u001b[32m**Downloads:** \u001b[0m\u001b[1;32m2.\u001b[0m\u001b[32m4K | **Likes:** \u001b[0m\u001b[1;32m1\u001b[0m\n",
            "\n",
            "\u001b[32m**Tags:** task_categories:text-to-audio, task_categories:audio-to-audio, \u001b[0m\n",
            "\u001b[32mtask_categories:question-answering, task_ids:parsing, license:other, \u001b[0m\n",
            "\u001b[32msize_categories:n<1K, format:parquet, modality:tabular, modality:text, \u001b[0m\n",
            "\u001b[32mlibrary:datasets, library:pandas, library:mlcroissant, library:polars, \u001b[0m\n",
            "\u001b[32mregion:us, python-copilot, python-coding, python-architecture, knowledge-graphs,\u001b[0m\n",
            "\u001b[32mmultimodal, text-image-audio\u001b[0m\n",
            "\u001b[32m*and \u001b[0m\u001b[1;32m11\u001b[0m\u001b[32m more\u001b[0m\u001b[32m...\u001b[0m\u001b[32m*\u001b[0m\n",
            "\n",
            "\u001b[32m**Created:** \u001b[0m\u001b[1;32m22\u001b[0m\u001b[32m Jan, \u001b[0m\u001b[1;32m2024\u001b[0m\n",
            "\u001b[32m**Last Modified:** \u001b[0m\u001b[1;32m25\u001b[0m\u001b[32m Jan, \u001b[0m\u001b[1;32m2024\u001b[0m\n",
            "\u001b[32m**Link:** \u001b[0m\n",
            "\u001b[1;32m(\u001b[0m\u001b[4;32mhttps://hf.co/datasets/matlok/python-audio-copilot-training-using-function-know\u001b[0m\n",
            "\u001b[4;32mledge-graphs\u001b[0m\u001b[4;32m)\u001b[0m\n",
            "\n",
            "\u001b[32m---\u001b[0m\n",
            "\n",
            "\u001b[32m## matlok/python-audio-copilot-training-using-inheritance-knowledge-graphs\u001b[0m\n",
            "\n",
            "\n",
            "\u001b[32m        \u001b[0m\n",
            "\u001b[32m        \u001b[0m\u001b[32m        \u001b[0m\n",
            "\u001b[32m        \u001b[0m\u001b[32m        \u001b[0m\u001b[32mPython Copilot Audio Training using Inheritance and Polymorphism\u001b[0m\n",
            "\u001b[32mKnowledge Graphs\u001b[0m\n",
            "\u001b[32m        \u001b[0m\n",
            "\n",
            "\u001b[32mThis dataset is a subset of the matlok python copilot datasets. Please refer to \u001b[0m\n",
            "\u001b[32mthe Multimodal Python Copil\u001b[0m\u001b[32m...\u001b[0m\n",
            "\n",
            "\u001b[32m**Downloads:** \u001b[0m\u001b[1;32m2.\u001b[0m\u001b[32m2K\u001b[0m\n",
            "\n",
            "\u001b[32m**Tags:** task_categories:text-to-audio, task_categories:audio-to-audio, \u001b[0m\n",
            "\u001b[32mtask_categories:question-answering, task_ids:parsing, license:other, \u001b[0m\n",
            "\u001b[32msize_categories:n<1K, format:parquet, modality:tabular, modality:text, \u001b[0m\n",
            "\u001b[32mlibrary:datasets, library:pandas, library:mlcroissant, library:polars, \u001b[0m\n",
            "\u001b[32mregion:us, python-copilot, python-coding, python-architecture, knowledge-graphs,\u001b[0m\n",
            "\u001b[32mmultimodal, text-image-audio\u001b[0m\n",
            "\u001b[32m*and \u001b[0m\u001b[1;32m10\u001b[0m\u001b[32m more\u001b[0m\u001b[32m...\u001b[0m\u001b[32m*\u001b[0m\n",
            "\n",
            "\u001b[32m**Created:** \u001b[0m\u001b[1;32m22\u001b[0m\u001b[32m Jan, \u001b[0m\u001b[1;32m2024\u001b[0m\n",
            "\u001b[32m**Last Modified:** \u001b[0m\u001b[1;32m25\u001b[0m\u001b[32m Jan, \u001b[0m\u001b[1;32m2024\u001b[0m\n",
            "\u001b[32m**Link:** \u001b[0m\n",
            "\u001b[1;32m(\u001b[0m\u001b[4;32mhttps://hf.co/datasets/matlok/python-audio-copilot-training-using-inheritance-k\u001b[0m\n",
            "\u001b[4;32mnowledge-graphs\u001b[0m\u001b[4;32m)\u001b[0m\n",
            "\n",
            "\u001b[32m---\u001b[0m\n",
            "\n",
            "\u001b[32m## matlok/python-audio-copilot-training-using-class-knowledge-graphs-\u001b[0m\u001b[1;32m2024\u001b[0m\u001b[32m-\u001b[0m\u001b[1;32m01\u001b[0m\u001b[32m-\u001b[0m\u001b[1;32m27\u001b[0m\n",
            "\n",
            "\n",
            "\u001b[32m        \u001b[0m\n",
            "\u001b[32m        \u001b[0m\u001b[32m        \u001b[0m\n",
            "\u001b[32m        \u001b[0m\u001b[32m        \u001b[0m\u001b[32mPython Copilot Audio Training using Class with Knowledge Graphs\u001b[0m\n",
            "\u001b[32m        \u001b[0m\n",
            "\n",
            "\u001b[32mThis dataset is a subset of the matlok python copilot datasets. Please refer to \u001b[0m\n",
            "\u001b[32mthe Multimodal Python Copilot Training Overvi\u001b[0m\u001b[32m...\u001b[0m\n",
            "\n",
            "\u001b[32m**Downloads:** \u001b[0m\u001b[1;32m2.\u001b[0m\u001b[32m2K\u001b[0m\n",
            "\n",
            "\u001b[32m**Tags:** task_categories:text-to-audio, task_categories:audio-to-audio, \u001b[0m\n",
            "\u001b[32mtask_categories:question-answering, task_ids:parsing, license:other, \u001b[0m\n",
            "\u001b[32msize_categories:n<1K, format:parquet, modality:tabular, modality:text, \u001b[0m\n",
            "\u001b[32mlibrary:datasets, library:pandas, library:mlcroissant, library:polars, \u001b[0m\n",
            "\u001b[32mregion:us, python-copilot, python-coding, python-architecture, knowledge-graphs,\u001b[0m\n",
            "\u001b[32mmultimodal, text-image-audio\u001b[0m\n",
            "\u001b[32m*and \u001b[0m\u001b[1;32m11\u001b[0m\u001b[32m more\u001b[0m\u001b[32m...\u001b[0m\u001b[32m*\u001b[0m\n",
            "\n",
            "\u001b[32m**Created:** \u001b[0m\u001b[1;32m28\u001b[0m\u001b[32m Jan, \u001b[0m\u001b[1;32m2024\u001b[0m\n",
            "\u001b[32m**Last Modified:** \u001b[0m\u001b[1;32m28\u001b[0m\u001b[32m Jan, \u001b[0m\u001b[1;32m2024\u001b[0m\n",
            "\u001b[32m**Link:** \u001b[0m\n",
            "\u001b[1;32m(\u001b[0m\u001b[4;32mhttps://hf.co/datasets/matlok/python-audio-copilot-training-using-class-knowled\u001b[0m\n",
            "\u001b[4;32mge-graphs-2024-01-27\u001b[0m\u001b[4;32m)\u001b[0m\n",
            "\n",
            "\u001b[32m---\u001b[0m\n",
            "\n",
            "\u001b[32m## iamtarun/python_code_instructions_18k_alpaca\u001b[0m\n",
            "\n",
            "\n",
            "\u001b[32m        \u001b[0m\n",
            "\u001b[32m        \u001b[0m\u001b[32m        \u001b[0m\n",
            "\u001b[32m        \u001b[0m\u001b[32m        \u001b[0m\u001b[32mDataset Card for python_code_instructions_18k_alpaca\u001b[0m\n",
            "\u001b[32m        \u001b[0m\n",
            "\n",
            "\u001b[32mThe dataset contains problem descriptions and code in python language.\u001b[0m\n",
            "\u001b[32mThis dataset is taken from sahil2801/code_instructions_120k, whic\u001b[0m\u001b[32m...\u001b[0m\n",
            "\n",
            "\u001b[32m**Downloads:** \u001b[0m\u001b[1;32m2.\u001b[0m\u001b[32m1K | **Likes:** \u001b[0m\u001b[1;32m309\u001b[0m\n",
            "\n",
            "\u001b[32m**Tags:** task_categories:question-answering, task_categories:text-generation, \u001b[0m\n",
            "\u001b[32msize_categories:10K<n<100K, format:parquet, modality:text, library:datasets, \u001b[0m\n",
            "\u001b[32mlibrary:pandas, library:mlcroissant, library:polars, region:us, code\u001b[0m\n",
            "\n",
            "\u001b[32m**Created:** \u001b[0m\u001b[1;32m24\u001b[0m\u001b[32m Jul, \u001b[0m\u001b[1;32m2023\u001b[0m\n",
            "\u001b[32m**Last Modified:** \u001b[0m\u001b[1;32m27\u001b[0m\u001b[32m Jul, \u001b[0m\u001b[1;32m2023\u001b[0m\n",
            "\u001b[32m**Link:** \u001b[0m\u001b[1;32m(\u001b[0m\u001b[4;32mhttps://hf.co/datasets/iamtarun/python_code_instructions_18k_alpaca\u001b[0m\u001b[4;32m)\u001b[0m\n",
            "\n",
            "\u001b[32m---\u001b[0m\n",
            "\n",
            "\n"
          ]
        }
      ]
    }
  ]
}